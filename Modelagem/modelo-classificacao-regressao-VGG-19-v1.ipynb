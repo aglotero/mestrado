{
 "cells": [
  {
   "cell_type": "code",
   "execution_count": 1,
   "metadata": {},
   "outputs": [],
   "source": [
    "import glob\n",
    "import numpy as np\n",
    "import pandas as pd\n",
    "from tqdm import tqdm_notebook\n",
    "from sklearn.preprocessing import MultiLabelBinarizer\n",
    "\n",
    "pd.options.display.float_format = '{:,.2f}'.format"
   ]
  },
  {
   "cell_type": "code",
   "execution_count": 2,
   "metadata": {},
   "outputs": [
    {
     "name": "stderr",
     "output_type": "stream",
     "text": [
      "/home/andre/.conda/envs/py36/lib/python3.6/site-packages/h5py/__init__.py:36: FutureWarning: Conversion of the second argument of issubdtype from `float` to `np.floating` is deprecated. In future, it will be treated as `np.float64 == np.dtype(float).type`.\n",
      "  from ._conv import register_converters as _register_converters\n",
      "Using TensorFlow backend.\n"
     ]
    }
   ],
   "source": [
    "import pandas as pd\n",
    "import numpy as np\n",
    "import matplotlib.pyplot as plt\n",
    "import random\n",
    "# Para o Modelo\n",
    "import tensorflow as tf\n",
    "import keras\n",
    "from keras import backend as K\n",
    "from keras.applications.vgg19 import VGG19\n",
    "from keras.optimizers import *\n",
    "from keras.callbacks import *\n",
    "from keras.metrics import top_k_categorical_accuracy\n",
    "from keras.utils import to_categorical\n",
    "from sklearn.metrics import accuracy_score\n",
    "from sklearn.model_selection import train_test_split\n",
    "\n",
    "from sklearn.preprocessing import StandardScaler"
   ]
  },
  {
   "cell_type": "markdown",
   "metadata": {},
   "source": [
    "# Processando os dados\n",
    "\n",
    "## Gerados com Penelope"
   ]
  },
  {
   "cell_type": "code",
   "execution_count": 3,
   "metadata": {},
   "outputs": [],
   "source": [
    "files =  glob.glob(\"../dados_*/*.dat\")"
   ]
  },
  {
   "cell_type": "code",
   "execution_count": 4,
   "metadata": {},
   "outputs": [
    {
     "data": {
      "text/plain": [
       "1320"
      ]
     },
     "execution_count": 4,
     "metadata": {},
     "output_type": "execute_result"
    }
   ],
   "source": [
    "len(files)"
   ]
  },
  {
   "cell_type": "code",
   "execution_count": 5,
   "metadata": {},
   "outputs": [],
   "source": [
    "def le_performance_report(filename):\n",
    "    # 164000\n",
    "    # Performance report\n",
    "    #   Random seeds:\n",
    "    #   1800926990\n",
    "    #   1275941380\n",
    "    #   No. of histories simulated [N]:\n",
    "    #            10000000.\n",
    "    #   CPU time [t] (s):\n",
    "    #    3.28417E+01\n",
    "    #   Speed (histories/s):\n",
    "    #    3.04491E+05\n",
    "    #   Average uncertainty (above 1/2 max score) in % [uncert]:\n",
    "    #    1.27128E-01\n",
    "    #   Intrinsic efficiency [N*uncert^2]^-1:\n",
    "    #    6.18758E-06\n",
    "    #   Absolute efficiency [t*uncert^2]^-1:\n",
    "    #    1.88406E+00\n",
    "    \n",
    "    with open(filename, \"r\") as f:\n",
    "        linhas = f.readlines()\n",
    "    return float(linhas[16400+7][1:])\n",
    "\n",
    "def carrega_dados(filename, n_particulas=1.0e07):\n",
    "    data = {\n",
    "        'Elow(eV)' : [],\n",
    "        'Emiddle(eV)' : [],\n",
    "        'counts(1/eV/hist)' : [],\n",
    "        '+-2sigma':[],\n",
    "        'nbin' : []\n",
    "    }\n",
    "\n",
    "    linha_de_dados = False\n",
    "    with open(filename, \"r\") as f:\n",
    "        for line in f:\n",
    "            if line[0] == '#':\n",
    "                linha_de_dados = False\n",
    "            else:\n",
    "                linha_de_dados = True\n",
    "\n",
    "            if linha_de_dados:\n",
    "                aux = line.split(' ')\n",
    "                if len(aux) == 2:\n",
    "                    break\n",
    "\n",
    "                data['Elow(eV)'].append(np.fromstring(aux[2], dtype=np.float64, sep=',')[0])\n",
    "                data['Emiddle(eV)'].append(np.fromstring(aux[4], dtype=np.float64, sep=',')[0])\n",
    "                q = np.fromstring(aux[6], dtype=np.float64, sep=',')[0]\n",
    "                data['counts(1/eV/hist)'].append(q)\n",
    "                data['+-2sigma'].append(np.fromstring(aux[8], dtype=np.float64, sep=',')[0])\n",
    "                nbin = np.fromstring(aux[9], dtype=np.int, sep=',')[0]\n",
    "                data['nbin'].append(nbin)      \n",
    "\n",
    "    df = pd.DataFrame.from_dict(data)\n",
    "    df['counts'] = df['counts(1/eV/hist)'].values * n_particulas * 1 / ((df['Elow(eV)'].shift(-1).fillna(0) - df['Elow(eV)']) / df['nbin'])\n",
    "    df['counts'] = df['counts']#.astype(np.uint8)\n",
    "    df['counts'][0:20] = 0\n",
    "    df['E'] = df['Elow(eV)'] / 1e3\n",
    "    return df.loc[0:16383]"
   ]
  },
  {
   "cell_type": "code",
   "execution_count": 6,
   "metadata": {},
   "outputs": [
    {
     "name": "stdout",
     "output_type": "stream",
     "text": [
      "Total de tempo de CPU utilizado: 276.3862706481477 dias\n"
     ]
    }
   ],
   "source": [
    "tempo_segundos = 0\n",
    "\n",
    "for file_ in files:\n",
    "    tempo_segundos += le_performance_report(file_)\n",
    "    \n",
    "print(\"Total de tempo de CPU utilizado: {0} dias\".format(tempo_segundos / 60 / 60 / 24))"
   ]
  },
  {
   "cell_type": "code",
   "execution_count": 7,
   "metadata": {},
   "outputs": [],
   "source": [
    "energias_iniciais_multicanal = ['1', '250', '400', '150', '300', '0']\n",
    "#energias_iniciais_multicanal = ['0-01.dat']\n",
    "#energias_iniciais_multicanal = ['0-01.dat', '5-0.dat', '10-0.dat', '30-0.dat', '40-0.dat']\n",
    "#energias_iniciais_multicanal = ['0-01.dat']"
   ]
  },
  {
   "cell_type": "code",
   "execution_count": 8,
   "metadata": {},
   "outputs": [
    {
     "data": {
      "text/plain": [
       "array(['Am-241', 'Ba-133', 'Cd-109', 'Co-57', 'Co-60', 'Cs-137', 'Eu-152',\n",
       "       'Mn-54', 'Na-22', 'Pb-210'], dtype=object)"
      ]
     },
     "execution_count": 8,
     "metadata": {},
     "output_type": "execute_result"
    }
   ],
   "source": [
    "nomes_nuclideos = {\n",
    "    'Am-241': 0,\n",
    "    'Ba-133': 1,\n",
    "    'Cd-109': 2,\n",
    "    'Co-57': 3,\n",
    "    'Co-60': 4,\n",
    "    'Cs-137': 5,\n",
    "    'Eu-152': 6,\n",
    "    'Mn-54': 7,\n",
    "    'Na-22': 8,\n",
    "    'Pb-210': 9\n",
    "}\n",
    "\n",
    "binarizer = MultiLabelBinarizer()\n",
    "binarizer.fit([list(nomes_nuclideos.keys())])\n",
    "binarizer.classes_"
   ]
  },
  {
   "cell_type": "code",
   "execution_count": 9,
   "metadata": {},
   "outputs": [
    {
     "data": {
      "application/vnd.jupyter.widget-view+json": {
       "model_id": "8c0fc60a790a458f91aad8d2423804fa",
       "version_major": 2,
       "version_minor": 0
      },
      "text/plain": [
       "HBox(children=(IntProgress(value=0, max=1320), HTML(value='')))"
      ]
     },
     "metadata": {},
     "output_type": "display_data"
    },
    {
     "name": "stderr",
     "output_type": "stream",
     "text": [
      "/home/andre/.conda/envs/py36/lib/python3.6/site-packages/ipykernel_launcher.py:57: SettingWithCopyWarning: \n",
      "A value is trying to be set on a copy of a slice from a DataFrame\n",
      "\n",
      "See the caveats in the documentation: http://pandas.pydata.org/pandas-docs/stable/user_guide/indexing.html#returning-a-view-versus-a-copy\n"
     ]
    },
    {
     "name": "stdout",
     "output_type": "stream",
     "text": [
      "\n"
     ]
    },
    {
     "data": {
      "application/vnd.jupyter.widget-view+json": {
       "model_id": "455aa01efe7f442bb28e50b8b0174a3f",
       "version_major": 2,
       "version_minor": 0
      },
      "text/plain": [
       "HBox(children=(IntProgress(value=0, max=1320), HTML(value='')))"
      ]
     },
     "metadata": {},
     "output_type": "display_data"
    },
    {
     "name": "stdout",
     "output_type": "stream",
     "text": [
      "\n"
     ]
    },
    {
     "data": {
      "application/vnd.jupyter.widget-view+json": {
       "model_id": "ff13c944df4345acb327cfc8bad28cdf",
       "version_major": 2,
       "version_minor": 0
      },
      "text/plain": [
       "HBox(children=(IntProgress(value=0, max=1320), HTML(value='')))"
      ]
     },
     "metadata": {},
     "output_type": "display_data"
    },
    {
     "name": "stdout",
     "output_type": "stream",
     "text": [
      "\n"
     ]
    },
    {
     "data": {
      "application/vnd.jupyter.widget-view+json": {
       "model_id": "b8de013e48ae4229aa34b6ac8822fde3",
       "version_major": 2,
       "version_minor": 0
      },
      "text/plain": [
       "HBox(children=(IntProgress(value=0, max=1320), HTML(value='')))"
      ]
     },
     "metadata": {},
     "output_type": "display_data"
    },
    {
     "name": "stdout",
     "output_type": "stream",
     "text": [
      "\n"
     ]
    },
    {
     "data": {
      "application/vnd.jupyter.widget-view+json": {
       "model_id": "e9b11ad99f854e83b1af4d9ed8573d38",
       "version_major": 2,
       "version_minor": 0
      },
      "text/plain": [
       "HBox(children=(IntProgress(value=0, max=1320), HTML(value='')))"
      ]
     },
     "metadata": {},
     "output_type": "display_data"
    },
    {
     "name": "stdout",
     "output_type": "stream",
     "text": [
      "\n"
     ]
    },
    {
     "data": {
      "application/vnd.jupyter.widget-view+json": {
       "model_id": "60c0ac1e453a4b6786130dfcf95bedfd",
       "version_major": 2,
       "version_minor": 0
      },
      "text/plain": [
       "HBox(children=(IntProgress(value=0, max=1320), HTML(value='')))"
      ]
     },
     "metadata": {},
     "output_type": "display_data"
    },
    {
     "name": "stdout",
     "output_type": "stream",
     "text": [
      "\n"
     ]
    }
   ],
   "source": [
    "# Cd-109_41cm_1-0e08estories_0-01.dat\n",
    "dados_por_energia_inicial_multicanal = dict()\n",
    "\n",
    "for energia_inicial_multicanal in energias_iniciais_multicanal:\n",
    "    dados_por_energia_inicial_multicanal[energia_inicial_multicanal] = []\n",
    "    \n",
    "    for file_ in tqdm_notebook(files):\n",
    "        if not file_.endswith(energia_inicial_multicanal+'.dat'):\n",
    "            continue\n",
    "        \n",
    "        partes = file_.split(\"/\")[2].replace(\".dat\", \"\").split(\"_\")\n",
    "        nuclideo = partes[0]        \n",
    "        distancia = partes[1]\n",
    "        n_particulas = float(partes[2].replace('estories','').replace('-','.'))\n",
    "        dados_ = carrega_dados(file_, n_particulas)\n",
    "        \n",
    "        label_ = binarizer.transform([[nuclideo]])\n",
    "\n",
    "        #Cria o label para o total de contagens do radionuclídeo\n",
    "        total_counts = np.zeros(label_.shape)\n",
    "        total_counts[0][np.argmax(label_)] = np.sum(dados_.counts.values)\n",
    "        \n",
    "        dados_por_energia_inicial_multicanal[energia_inicial_multicanal].append({'X' : dados_.counts.values,\n",
    "                                                                                 'n' : n_particulas,\n",
    "                                                                                 'y': label_,\n",
    "                                                                                 'y_count' : total_counts,\n",
    "                                                                                 'd': distancia,\n",
    "                                                                                 'e': energia_inicial_multicanal})"
   ]
  },
  {
   "cell_type": "markdown",
   "metadata": {},
   "source": [
    "## Leituras experimentais da GRR"
   ]
  },
  {
   "cell_type": "code",
   "execution_count": 10,
   "metadata": {},
   "outputs": [],
   "source": [
    "def obtem_dados_dos_canais(linhas):\n",
    "    dados = []\n",
    "    pode_comecar = False\n",
    "    for linha in linhas:\n",
    "        if linha == \"A004USERDEFINED                                                     \\n\":\n",
    "            pode_comecar = True\n",
    "            continue\n",
    "        if pode_comecar:\n",
    "            aux = linha.strip().split()\n",
    "            if int(aux[1]) % 5:\n",
    "                print(\"oi!\")\n",
    "            dados.extend([float(x) for x in aux[2:]])\n",
    "    return dados[1:]"
   ]
  },
  {
   "cell_type": "code",
   "execution_count": 11,
   "metadata": {},
   "outputs": [
    {
     "name": "stdout",
     "output_type": "stream",
     "text": [
      "Am-241 - BG.IEC\n",
      "Ba-133 - BG.IEC\n",
      "Cd-109 - BG.IEC\n",
      "Co-57 - BG.IEC\n",
      "Co-60 - BG.IEC\n",
      "Cs-137 - BG.IEC\n",
      "Eu-152 - BG.IEC\n",
      "Mn-54 - BG.IEC\n",
      "Na-22 - BG.IEC\n",
      "Pb-210 - BG.IEC\n"
     ]
    }
   ],
   "source": [
    "arquivos = ['Am-241 - BG.IEC', 'Ba-133 - BG.IEC', 'Cd-109 - BG.IEC', 'Co-57 - BG.IEC', 'Co-60 - BG.IEC',\n",
    "            'Cs-137 - BG.IEC', 'Eu-152 - BG.IEC', 'Mn-54 - BG.IEC', 'Na-22 - BG.IEC', 'Pb-210 - BG.IEC',]\n",
    "\n",
    "df_nuclideos = dict()\n",
    "img_espectros = dict()\n",
    "img_convertidos = dict()\n",
    "images = dict()\n",
    "\n",
    "for arquivo in arquivos:\n",
    "    print(arquivo)\n",
    "    dados = []\n",
    "\n",
    "    with open('/export/ipen/artigo/ICDA-3/Espectros/Experimentos/17-Maio-2018/Espectros/{0}'.format(arquivo), 'r') as f:\n",
    "        dados = f.readlines()\n",
    "    dados = obtem_dados_dos_canais(dados)\n",
    "    df = pd.DataFrame({'channel': range(0, len(dados)), 'counts' : dados})\n",
    "    df_nuclideos[arquivo] = df.copy()\n",
    "    img_convertidos[arquivo] = np.array(dados).reshape((128, 128)).copy()\n",
    "    images[arquivo.split(' ')[0]] = np.array(dados).reshape((128, 128)).copy()"
   ]
  },
  {
   "cell_type": "code",
   "execution_count": 13,
   "metadata": {},
   "outputs": [
    {
     "data": {
      "text/plain": [
       "({'Am-241 - BG.IEC': 'Am-241',\n",
       "  'Ba-133 - BG.IEC': 'Ba-133',\n",
       "  'Cd-109 - BG.IEC': 'Cd-109',\n",
       "  'Co-57 - BG.IEC': 'Co-57',\n",
       "  'Co-60 - BG.IEC': 'Co-60',\n",
       "  'Cs-137 - BG.IEC': 'Cs-137',\n",
       "  'Eu-152 - BG.IEC': 'Eu-152',\n",
       "  'Mn-54 - BG.IEC': 'Mn-54',\n",
       "  'Na-22 - BG.IEC': 'Na-22',\n",
       "  'Pb-210 - BG.IEC': 'Pb-210'},\n",
       " {'Am-241': 'Am-241 - BG.IEC',\n",
       "  'Ba-133': 'Ba-133 - BG.IEC',\n",
       "  'Cd-109': 'Cd-109 - BG.IEC',\n",
       "  'Co-57': 'Co-57 - BG.IEC',\n",
       "  'Co-60': 'Co-60 - BG.IEC',\n",
       "  'Cs-137': 'Cs-137 - BG.IEC',\n",
       "  'Eu-152': 'Eu-152 - BG.IEC',\n",
       "  'Mn-54': 'Mn-54 - BG.IEC',\n",
       "  'Na-22': 'Na-22 - BG.IEC',\n",
       "  'Pb-210': 'Pb-210 - BG.IEC'},\n",
       " {0: 'Am-241',\n",
       "  1: 'Ba-133',\n",
       "  2: 'Cd-109',\n",
       "  3: 'Co-57',\n",
       "  4: 'Co-60',\n",
       "  5: 'Cs-137',\n",
       "  6: 'Eu-152',\n",
       "  7: 'Mn-54',\n",
       "  8: 'Na-22',\n",
       "  9: 'Pb-210'},\n",
       " {'Am-241': 0,\n",
       "  'Ba-133': 1,\n",
       "  'Cd-109': 2,\n",
       "  'Co-57': 3,\n",
       "  'Co-60': 4,\n",
       "  'Cs-137': 5,\n",
       "  'Eu-152': 6,\n",
       "  'Mn-54': 7,\n",
       "  'Na-22': 8,\n",
       "  'Pb-210': 9})"
      ]
     },
     "execution_count": 13,
     "metadata": {},
     "output_type": "execute_result"
    }
   ],
   "source": [
    "arquivo_por_nome = { b : b.split()[0] for a, b in enumerate(list(img_convertidos.keys()))}\n",
    "nome_por_arquivo = { b.split()[0] : b for a, b in enumerate(list(img_convertidos.keys()))}\n",
    "\n",
    "id_para_radionuclideos = { a : b.split()[0] for a, b in enumerate(list(img_convertidos.keys()))}\n",
    "radionuclideos = { b.split()[0] : a for a, b in enumerate(list(img_convertidos.keys()))}\n",
    "arquivo_por_nome, nome_por_arquivo, id_para_radionuclideos, radionuclideos"
   ]
  },
  {
   "cell_type": "code",
   "execution_count": 42,
   "metadata": {},
   "outputs": [],
   "source": [
    "#plt.plot(np.random.poisson(1e5, (128, 128)))\n",
    "#plt.plot(np.random.normal(1, 0.1**0.5, (128, 128)))"
   ]
  },
  {
   "cell_type": "code",
   "execution_count": 64,
   "metadata": {},
   "outputs": [],
   "source": [
    "def add_noise(image):\n",
    "    #if random.random() <= 0.5:\n",
    "    #    return image.reshape((128, 128, 1))\n",
    "    row,col = image.shape\n",
    "    mean = 1 #np.mean(image)\n",
    "    var = 0.1 #random.random() #\n",
    "    sigma = var**0.5\n",
    "    gauss = np.random.normal(mean, sigma, (row,col))\n",
    "    gauss = gauss.reshape(row, col)\n",
    "    noisy = image + gauss\n",
    "    if np.random.random() > 0.3:\n",
    "        #increase de count rate by a random factor\n",
    "        noisy += noisy * (1 + np.random.random())\n",
    "    return noisy.reshape((128, 128, 1)) #/ np.max(noisy) # normalizando pelo valor máximo\n",
    "\n",
    "\n",
    "#def gera_imagem_combinada_experimental(dicionario_imagens, n_combinacoes=3):\n",
    "#    assert n_combinacoes <= 10, \"No máximo 10 combinações\"\n",
    "#    nuclei_idx = np.random.choice(10, n_combinacoes, replace=False).tolist()[0]\n",
    "#    label = to_categorical(nuclei_idx, 10)\n",
    "#    img = np.sum([add_noise(dicionario_imagens[id_para_radionuclideos[nuclei_idx]])], axis=0)\n",
    "#    counts = to_categorical(nuclei_idx, 10)\n",
    "#    counts[nuclei_idx] = np.sum(img)\n",
    "#    \n",
    "#    return img, label, counts\n",
    "\n",
    "def gera_imagem_combinada_experimental(dicionario_imagens,\n",
    "                                       n_combinacoes=1):\n",
    "    \n",
    "    assert n_combinacoes <= 10, \"No máximo 10 combinações\"\n",
    "    \n",
    "    a = np.random.choice(10, n_combinacoes, replace=False).tolist()\n",
    "    labels = np.sum([to_categorical(x, 10) for x in a], axis=0)\n",
    "    noise_img = [add_noise(dicionario_imagens[id_para_radionuclideos[x]]) for x in a]\n",
    "    img = np.sum(noise_img, axis=0)\n",
    "    \n",
    "    counts = np.zeros((10,))\n",
    "    for idx, item in enumerate(a):\n",
    "        counts[item] = np.sum(noise_img[idx])\n",
    "    \n",
    "    while np.max(labels) > 1: # temos nuclideo repetido\n",
    "        labels[0][np.argmax(labels[0])] = 1\n",
    "    \n",
    "    return img, labels, counts\n"
   ]
  },
  {
   "cell_type": "markdown",
   "metadata": {},
   "source": [
    "# Gerando conjunto de treino e validação\n",
    "\n",
    "## Com os dados experimentais"
   ]
  },
  {
   "cell_type": "code",
   "execution_count": 71,
   "metadata": {},
   "outputs": [],
   "source": [
    "X = []\n",
    "y = []\n",
    "y_counts = []"
   ]
  },
  {
   "cell_type": "code",
   "execution_count": 72,
   "metadata": {},
   "outputs": [],
   "source": [
    "# gerando imagens com mais de um espectro\n",
    "n_combinacoes = [1, 2, 3, 4]\n",
    "for n_combinacao in n_combinacoes:\n",
    "    for i in range(500):\n",
    "        img, label, counts = gera_imagem_combinada_experimental(images, n_combinacao)\n",
    "        X.append(img)\n",
    "        y.append(label)\n",
    "        y_counts.append(counts)"
   ]
  },
  {
   "cell_type": "code",
   "execution_count": 73,
   "metadata": {},
   "outputs": [
    {
     "data": {
      "text/plain": [
       "(2000, 2000, 2000)"
      ]
     },
     "execution_count": 73,
     "metadata": {},
     "output_type": "execute_result"
    }
   ],
   "source": [
    "len(X), len(y), len(y_counts)"
   ]
  },
  {
   "cell_type": "markdown",
   "metadata": {},
   "source": [
    "## Com os dados gerados pelo PENELOPE"
   ]
  },
  {
   "cell_type": "code",
   "execution_count": 74,
   "metadata": {},
   "outputs": [],
   "source": [
    "def gera_imagem_combinada_penelope(dicionario_imagens, n_combinacoes=3):\n",
    "    assert n_combinacoes <= 10, \"No máximo 10 combinações\"\n",
    "\n",
    "    aux = np.random.choice(dicionario_imagens, n_combinacoes, replace=False)\n",
    "    #print(aux)\n",
    "    labels = np.sum([x['y'] for x in aux], axis=0)\n",
    "    counts = np.sum([x['y_count'] for x in aux], axis=0)\n",
    "    values = np.sum([x['X'] for x in aux], axis=0)\n",
    "    \n",
    "    while np.max(labels) > 1: # temos nuclideo repetido\n",
    "        labels[0][np.argmax(labels[0])] = 1\n",
    "    \n",
    "    return values, labels, counts"
   ]
  },
  {
   "cell_type": "markdown",
   "metadata": {},
   "source": [
    "### Gera espectros com mais de um radionuclideo\n",
    "\n",
    "Até 4 no mesmo espectro"
   ]
  },
  {
   "cell_type": "code",
   "execution_count": 75,
   "metadata": {},
   "outputs": [],
   "source": [
    "n_combinacoes = [2, 3, 4]\n",
    "novos_dados = dict()\n",
    "\n",
    "for key in energias_iniciais_multicanal:\n",
    "    novos_dados[key] = []\n",
    "    for n_ in n_combinacoes:\n",
    "        for i in range(500):\n",
    "            values, labels, counts = gera_imagem_combinada_penelope(dados_por_energia_inicial_multicanal[key],\n",
    "                                                  n_)\n",
    "            novos_dados[key].append({'X' : values,\n",
    "                                     'y': labels,\n",
    "                                     'y_count': counts})"
   ]
  },
  {
   "cell_type": "code",
   "execution_count": 76,
   "metadata": {},
   "outputs": [],
   "source": [
    "for key in energias_iniciais_multicanal:\n",
    "    for item in dados_por_energia_inicial_multicanal[key]:\n",
    "        X.append(list(item.values())[0].reshape((128, 128)))\n",
    "        y.append(item['y'][0])\n",
    "        y_counts.append(item['y_count'][0])"
   ]
  },
  {
   "cell_type": "code",
   "execution_count": 77,
   "metadata": {},
   "outputs": [],
   "source": [
    "for key in energias_iniciais_multicanal:\n",
    "    for item in novos_dados[key]:\n",
    "        X.append(list(item.values())[0].reshape((128, 128)))\n",
    "        y.append(item['y'][0])\n",
    "        y_counts.append(item['y_count'][0])"
   ]
  },
  {
   "cell_type": "code",
   "execution_count": 78,
   "metadata": {},
   "outputs": [
    {
     "data": {
      "text/plain": [
       "(13280, 13280, 13280)"
      ]
     },
     "execution_count": 78,
     "metadata": {},
     "output_type": "execute_result"
    }
   ],
   "source": [
    "len(X), len(y), len(y_counts)"
   ]
  },
  {
   "cell_type": "markdown",
   "metadata": {},
   "source": [
    "# Modelo\n",
    "\n",
    "## Dividindo os dados em treino e teste"
   ]
  },
  {
   "cell_type": "code",
   "execution_count": 79,
   "metadata": {},
   "outputs": [],
   "source": [
    "scaler = StandardScaler()\n",
    "scaler.fit(y_counts)\n",
    "\n",
    "X_train, X_test, y_train, y_test = train_test_split(X, list(zip(y, scaler.transform(y_counts))),\n",
    "                                                    test_size=0.30,\n",
    "                                                    random_state=42)"
   ]
  },
  {
   "cell_type": "code",
   "execution_count": 80,
   "metadata": {},
   "outputs": [
    {
     "data": {
      "text/plain": [
       "(9296, 3984, 9296, 3984)"
      ]
     },
     "execution_count": 80,
     "metadata": {},
     "output_type": "execute_result"
    }
   ],
   "source": [
    "len(X_train), len(X_test), len(y_train), len(y_test)"
   ]
  },
  {
   "cell_type": "code",
   "execution_count": 81,
   "metadata": {},
   "outputs": [],
   "source": [
    "from keras.utils import Sequence"
   ]
  },
  {
   "cell_type": "code",
   "execution_count": 82,
   "metadata": {},
   "outputs": [],
   "source": [
    "class EspectraSequence(Sequence):\n",
    "\n",
    "    def __init__(self, x_set, y_set, y_set_count, batch_size):\n",
    "        self.x, self.y, self.y_set_count = x_set, y_set, y_set_count\n",
    "        self.batch_size = batch_size\n",
    "\n",
    "    def __len__(self):\n",
    "        return int(np.ceil(len(self.x) / float(self.batch_size)))\n",
    "\n",
    "    def __getitem__(self, idx):\n",
    "        batch_x = self.x[idx * self.batch_size:(idx + 1) * self.batch_size]\n",
    "        batch_y = self.y[idx * self.batch_size:(idx + 1) * self.batch_size]\n",
    "        batch_y_count = self.y_set_count[idx * self.batch_size:(idx + 1) * self.batch_size]\n",
    "\n",
    "        y_ = {'predictions_nuclei': np.array(batch_y, dtype=np.float32),\n",
    "              'predictions_counts': np.array(batch_y_count)}\n",
    "        \n",
    "        return np.array([x.reshape((128, 128, 1)) for x in batch_x]), y_"
   ]
  },
  {
   "cell_type": "code",
   "execution_count": 83,
   "metadata": {},
   "outputs": [],
   "source": [
    "s = EspectraSequence(X_train, [x[0] for x in y_train], [x[1] for x in y_train], batch_size=8)"
   ]
  },
  {
   "cell_type": "code",
   "execution_count": 84,
   "metadata": {},
   "outputs": [
    {
     "data": {
      "image/png": "[encoded data removed]",
      "text/plain": [
       "<Figure size 432x288 with 1 Axes>"
      ]
     },
     "metadata": {},
     "output_type": "display_data"
    }
   ],
   "source": [
    "a, b = s[2]\n",
    "c = b['predictions_counts']\n",
    "b = b['predictions_nuclei']\n",
    "plt.imshow(a[0].reshape((128, 128)))\n",
    "plt.title(\" with \".join(binarizer.inverse_transform(np.array([b[0]]))[0]) + \" {:.0f} counts\".format(np.sum(c[0])))\n",
    "plt.show()"
   ]
  },
  {
   "cell_type": "code",
   "execution_count": 85,
   "metadata": {},
   "outputs": [
    {
     "data": {
      "image/png": "[encoded data removed]",
      "text/plain": [
       "<Figure size 432x288 with 1 Axes>"
      ]
     },
     "metadata": {},
     "output_type": "display_data"
    }
   ],
   "source": [
    "plt.title(\" with \".join(binarizer.inverse_transform(np.array([b[0]]))[0]) + \" {:.0f} counts\".format(np.sum(c[0])))\n",
    "plt.plot(a[0].reshape(-1))\n",
    "plt.show()"
   ]
  },
  {
   "cell_type": "code",
   "execution_count": 86,
   "metadata": {},
   "outputs": [],
   "source": [
    "def accuracy_score_wrapper(label, pred):\n",
    "    threshold = .95\n",
    "    label = (label >= threshold).astype(np.uint8)\n",
    "    pred = (pred >= threshold).astype(np.uint8)\n",
    "    return np.float32(accuracy_score(label, pred))\n",
    "\n",
    "def my_accuracy_score(label, pred):\n",
    "    metric_value = tf.compat.v1.py_func(accuracy_score_wrapper, [label, pred], tf.float32)\n",
    "    return metric_value"
   ]
  },
  {
   "cell_type": "code",
   "execution_count": 88,
   "metadata": {
    "scrolled": true
   },
   "outputs": [
    {
     "name": "stdout",
     "output_type": "stream",
     "text": [
      "WARNING:tensorflow:From /home/andre/.conda/envs/py36/lib/python3.6/site-packages/tensorflow/python/framework/op_def_library.py:263: colocate_with (from tensorflow.python.framework.ops) is deprecated and will be removed in a future version.\n",
      "Instructions for updating:\n",
      "Colocations handled automatically by placer.\n",
      "__________________________________________________________________________________________________\n",
      "Layer (type)                    Output Shape         Param #     Connected to                     \n",
      "==================================================================================================\n",
      "input_1 (InputLayer)            (None, 128, 128, 1)  0                                            \n",
      "__________________________________________________________________________________________________\n",
      "block1_conv1 (Conv2D)           (None, 128, 128, 64) 640         input_1[0][0]                    \n",
      "__________________________________________________________________________________________________\n",
      "block1_conv2 (Conv2D)           (None, 128, 128, 64) 36928       block1_conv1[0][0]               \n",
      "__________________________________________________________________________________________________\n",
      "block1_pool (MaxPooling2D)      (None, 64, 64, 64)   0           block1_conv2[0][0]               \n",
      "__________________________________________________________________________________________________\n",
      "block2_conv1 (Conv2D)           (None, 64, 64, 128)  73856       block1_pool[0][0]                \n",
      "__________________________________________________________________________________________________\n",
      "block2_conv2 (Conv2D)           (None, 64, 64, 128)  147584      block2_conv1[0][0]               \n",
      "__________________________________________________________________________________________________\n",
      "block2_pool (MaxPooling2D)      (None, 32, 32, 128)  0           block2_conv2[0][0]               \n",
      "__________________________________________________________________________________________________\n",
      "block3_conv1 (Conv2D)           (None, 32, 32, 256)  295168      block2_pool[0][0]                \n",
      "__________________________________________________________________________________________________\n",
      "block3_conv2 (Conv2D)           (None, 32, 32, 256)  590080      block3_conv1[0][0]               \n",
      "__________________________________________________________________________________________________\n",
      "block3_conv3 (Conv2D)           (None, 32, 32, 256)  590080      block3_conv2[0][0]               \n",
      "__________________________________________________________________________________________________\n",
      "block3_conv4 (Conv2D)           (None, 32, 32, 256)  590080      block3_conv3[0][0]               \n",
      "__________________________________________________________________________________________________\n",
      "block3_pool (MaxPooling2D)      (None, 16, 16, 256)  0           block3_conv4[0][0]               \n",
      "__________________________________________________________________________________________________\n",
      "block4_conv1 (Conv2D)           (None, 16, 16, 512)  1180160     block3_pool[0][0]                \n",
      "__________________________________________________________________________________________________\n",
      "block4_conv2 (Conv2D)           (None, 16, 16, 512)  2359808     block4_conv1[0][0]               \n",
      "__________________________________________________________________________________________________\n",
      "block4_conv3 (Conv2D)           (None, 16, 16, 512)  2359808     block4_conv2[0][0]               \n",
      "__________________________________________________________________________________________________\n",
      "block4_conv4 (Conv2D)           (None, 16, 16, 512)  2359808     block4_conv3[0][0]               \n",
      "__________________________________________________________________________________________________\n",
      "block4_pool (MaxPooling2D)      (None, 8, 8, 512)    0           block4_conv4[0][0]               \n",
      "__________________________________________________________________________________________________\n",
      "block5_conv1 (Conv2D)           (None, 8, 8, 512)    2359808     block4_pool[0][0]                \n",
      "__________________________________________________________________________________________________\n",
      "block5_conv2 (Conv2D)           (None, 8, 8, 512)    2359808     block5_conv1[0][0]               \n",
      "__________________________________________________________________________________________________\n",
      "block5_conv3 (Conv2D)           (None, 8, 8, 512)    2359808     block5_conv2[0][0]               \n",
      "__________________________________________________________________________________________________\n",
      "block5_conv4 (Conv2D)           (None, 8, 8, 512)    2359808     block5_conv3[0][0]               \n",
      "__________________________________________________________________________________________________\n",
      "block5_pool (MaxPooling2D)      (None, 4, 4, 512)    0           block5_conv4[0][0]               \n",
      "__________________________________________________________________________________________________\n",
      "flatten_1 (Flatten)             (None, 8192)         0           block5_pool[0][0]                \n",
      "__________________________________________________________________________________________________\n",
      "flatten_2 (Flatten)             (None, 8192)         0           block5_pool[0][0]                \n",
      "__________________________________________________________________________________________________\n",
      "dense_1 (Dense)                 (None, 4096)         33558528    flatten_1[0][0]                  \n",
      "__________________________________________________________________________________________________\n",
      "dense_3 (Dense)                 (None, 4096)         33558528    flatten_2[0][0]                  \n",
      "__________________________________________________________________________________________________\n",
      "dense_2 (Dense)                 (None, 4096)         16781312    dense_1[0][0]                    \n",
      "__________________________________________________________________________________________________\n",
      "dense_4 (Dense)                 (None, 4096)         16781312    dense_3[0][0]                    \n",
      "__________________________________________________________________________________________________\n",
      "predictions_nuclei (Dense)      (None, 10)           40970       dense_2[0][0]                    \n",
      "__________________________________________________________________________________________________\n",
      "predictions_counts (Dense)      (None, 10)           40970       dense_4[0][0]                    \n",
      "==================================================================================================\n",
      "Total params: 120,784,852\n",
      "Trainable params: 120,784,852\n",
      "Non-trainable params: 0\n",
      "__________________________________________________________________________________________________\n"
     ]
    }
   ],
   "source": [
    "K.clear_session()\n",
    "import keras\n",
    "vgg_model = VGG19(include_top=False,\n",
    "                  weights=None,\n",
    "                  input_shape=(128, 128, 1),\n",
    "                  classes=10)\n",
    "\n",
    "x = keras.layers.Flatten()(vgg_model.output)\n",
    "x = keras.layers.Dense(4096, activation='relu')(x)\n",
    "x = keras.layers.Dense(4096, activation='relu')(x)\n",
    "\n",
    "x1 = keras.layers.Flatten()(vgg_model.output)\n",
    "x1 = keras.layers.Dense(4096, activation='relu')(x1)\n",
    "x1 = keras.layers.Dense(4096, activation='relu')(x1)\n",
    "\n",
    "pred_nuclei = keras.layers.Dense(10, activation='sigmoid', name=\"predictions_nuclei\")(x)\n",
    "\n",
    "#pred_counts = keras.layers.Dense(4096, activation='elu')(x1)\n",
    "#pred_counts = keras.layers.Dense(2048, activation='elu')(pred_counts)\n",
    "pred_counts = keras.layers.Dense(10, activation=None, name=\"predictions_counts\")(x1)\n",
    "\n",
    "#se a previsão do modelo for menor que zero, a gente zera a saída, afinal de contas\n",
    "#não existe atividade 0 bq :P\n",
    "#pred_counts = keras.layers.Lambda(lambda x: tf.where(x < 0, tf.zeros_like(x), x),\n",
    "#                                 name=\"predictions_counts\")(pred_counts)\n",
    "\n",
    "model = keras.models.Model(vgg_model.input, [pred_nuclei, pred_counts])\n",
    "model.summary()\n"
   ]
  },
  {
   "cell_type": "code",
   "execution_count": 89,
   "metadata": {},
   "outputs": [],
   "source": [
    "learning_rate = 1e-4\n",
    "epochs = 250\n",
    "batch_size = 8\n",
    "steps_per_epoch = len(X_train) // batch_size + 1\n",
    "validation_steps = len(X_test) // batch_size + 1"
   ]
  },
  {
   "cell_type": "code",
   "execution_count": 90,
   "metadata": {},
   "outputs": [
    {
     "name": "stdout",
     "output_type": "stream",
     "text": [
      "WARNING:tensorflow:From <ipython-input-86-e9be23c5b0b0>:8: py_func (from tensorflow.python.ops.script_ops) is deprecated and will be removed in a future version.\n",
      "Instructions for updating:\n",
      "tf.py_func is deprecated in TF V2. Instead, use\n",
      "    tf.py_function, which takes a python function which manipulates tf eager\n",
      "    tensors instead of numpy arrays. It's easy to convert a tf eager tensor to\n",
      "    an ndarray (just call tensor.numpy()) but having access to eager tensors\n",
      "    means `tf.py_function`s can use accelerators such as GPUs as well as\n",
      "    being differentiable using a gradient tape.\n",
      "    \n"
     ]
    }
   ],
   "source": [
    "opt = SGD(lr=learning_rate,\n",
    "          nesterov=False,\n",
    "          momentum=0.9) # keras.optimizers.RMSprop(0.001)\n",
    "\n",
    "model.compile(optimizer=opt,\n",
    "              loss={\n",
    "                  'predictions_nuclei': 'binary_crossentropy',\n",
    "                  'predictions_counts': 'mean_squared_error'\n",
    "              },\n",
    "              metrics={\n",
    "                  'predictions_nuclei': [my_accuracy_score, 'accuracy'],\n",
    "                  'predictions_counts': ['mean_squared_error', 'mean_absolute_error']\n",
    "              }\n",
    "             )"
   ]
  },
  {
   "cell_type": "code",
   "execution_count": null,
   "metadata": {},
   "outputs": [],
   "source": [
    "!nvidia-smi"
   ]
  },
  {
   "cell_type": "code",
   "execution_count": 91,
   "metadata": {},
   "outputs": [],
   "source": [
    "!rm -rf ./logs"
   ]
  },
  {
   "cell_type": "code",
   "execution_count": 92,
   "metadata": {},
   "outputs": [
    {
     "data": {
      "text/plain": [
       "\"\\n\\nnao funciona bem com multiplas saidas...\\n\\nclass TensorBoardWrapper(keras.callbacks.TensorBoard):\\n    '''Sets the self.validation_data property for use with TensorBoard callback.'''\\n\\n    def __init__(self, batch_gen, nb_steps, **kwargs):\\n        super(TensorBoardWrapper, self).__init__(**kwargs)\\n        self.batch_gen = batch_gen # The generator.\\n        self.nb_steps = nb_steps   # Number of times to call next() on the generator.\\n\\n    def on_epoch_end(self, epoch, logs):\\n        # Fill in the `validation_data` property. Obviously this is specific to how your generator works.\\n        # Below is an example that yields images and classification tags.\\n        # After it's filled in, the regular on_epoch_end method has access to the validation_data.\\n        imgs, tags = None, None\\n        for s in range(self.nb_steps):\\n            ib, tb = next(self.batch_gen)\\n            if imgs is None and tags is None:\\n                imgs = np.zeros(((self.nb_steps * ib.shape[0],) + ib.shape[1:]), dtype=np.float32)\\n                tags = np.zeros(((self.nb_steps * tb.shape[0],) + tb.shape[1:]), dtype=np.uint8)\\n            imgs[s * ib.shape[0]:(s + 1) * ib.shape[0]] = ib\\n            tags[s * tb.shape[0]:(s + 1) * tb.shape[0]] = tb\\n        self.validation_data = [imgs, tags, np.ones(imgs.shape[0]), 0.0]\\n        return super(TensorBoardWrapper, self).on_epoch_end(epoch, logs)\\n\""
      ]
     },
     "execution_count": 92,
     "metadata": {},
     "output_type": "execute_result"
    }
   ],
   "source": [
    "\"\"\"\n",
    "\n",
    "nao funciona bem com multiplas saidas...\n",
    "\n",
    "class TensorBoardWrapper(keras.callbacks.TensorBoard):\n",
    "    '''Sets the self.validation_data property for use with TensorBoard callback.'''\n",
    "\n",
    "    def __init__(self, batch_gen, nb_steps, **kwargs):\n",
    "        super(TensorBoardWrapper, self).__init__(**kwargs)\n",
    "        self.batch_gen = batch_gen # The generator.\n",
    "        self.nb_steps = nb_steps   # Number of times to call next() on the generator.\n",
    "\n",
    "    def on_epoch_end(self, epoch, logs):\n",
    "        # Fill in the `validation_data` property. Obviously this is specific to how your generator works.\n",
    "        # Below is an example that yields images and classification tags.\n",
    "        # After it's filled in, the regular on_epoch_end method has access to the validation_data.\n",
    "        imgs, tags = None, None\n",
    "        for s in range(self.nb_steps):\n",
    "            ib, tb = next(self.batch_gen)\n",
    "            if imgs is None and tags is None:\n",
    "                imgs = np.zeros(((self.nb_steps * ib.shape[0],) + ib.shape[1:]), dtype=np.float32)\n",
    "                tags = np.zeros(((self.nb_steps * tb.shape[0],) + tb.shape[1:]), dtype=np.uint8)\n",
    "            imgs[s * ib.shape[0]:(s + 1) * ib.shape[0]] = ib\n",
    "            tags[s * tb.shape[0]:(s + 1) * tb.shape[0]] = tb\n",
    "        self.validation_data = [imgs, tags, np.ones(imgs.shape[0]), 0.0]\n",
    "        return super(TensorBoardWrapper, self).on_epoch_end(epoch, logs)\n",
    "\"\"\""
   ]
  },
  {
   "cell_type": "code",
   "execution_count": 93,
   "metadata": {
    "scrolled": true
   },
   "outputs": [
    {
     "name": "stdout",
     "output_type": "stream",
     "text": [
      "WARNING:tensorflow:From /home/andre/.conda/envs/py36/lib/python3.6/site-packages/tensorflow/python/ops/math_ops.py:3066: to_int32 (from tensorflow.python.ops.math_ops) is deprecated and will be removed in a future version.\n",
      "Instructions for updating:\n",
      "Use tf.cast instead.\n",
      "Epoch 1/250\n",
      " - 107s - loss: 0.9557 - predictions_nuclei_loss: 0.5801 - predictions_counts_loss: 0.3756 - predictions_nuclei_my_accuracy_score: 0.0098 - predictions_nuclei_acc: 0.8206 - predictions_counts_mean_squared_error: 0.3756 - predictions_counts_mean_absolute_error: 0.3444 - val_loss: 0.8235 - val_predictions_nuclei_loss: 0.5477 - val_predictions_counts_loss: 0.2757 - val_predictions_nuclei_my_accuracy_score: 0.0183 - val_predictions_nuclei_acc: 0.8376 - val_predictions_counts_mean_squared_error: 0.2757 - val_predictions_counts_mean_absolute_error: 0.2899\n",
      "Epoch 2/250\n",
      " - 106s - loss: 0.7826 - predictions_nuclei_loss: 0.5361 - predictions_counts_loss: 0.2465 - predictions_nuclei_my_accuracy_score: 0.0256 - predictions_nuclei_acc: 0.8399 - predictions_counts_mean_squared_error: 0.2465 - predictions_counts_mean_absolute_error: 0.2545 - val_loss: 0.7406 - val_predictions_nuclei_loss: 0.5236 - val_predictions_counts_loss: 0.2170 - val_predictions_nuclei_my_accuracy_score: 0.0363 - val_predictions_nuclei_acc: 0.8462 - val_predictions_counts_mean_squared_error: 0.2170 - val_predictions_counts_mean_absolute_error: 0.2188\n",
      "Epoch 3/250\n",
      " - 106s - loss: 0.7382 - predictions_nuclei_loss: 0.5162 - predictions_counts_loss: 0.2219 - predictions_nuclei_my_accuracy_score: 0.0396 - predictions_nuclei_acc: 0.8454 - predictions_counts_mean_squared_error: 0.2219 - predictions_counts_mean_absolute_error: 0.2201 - val_loss: 0.7236 - val_predictions_nuclei_loss: 0.5089 - val_predictions_counts_loss: 0.2147 - val_predictions_nuclei_my_accuracy_score: 0.0493 - val_predictions_nuclei_acc: 0.8485 - val_predictions_counts_mean_squared_error: 0.2147 - val_predictions_counts_mean_absolute_error: 0.2150\n",
      "Epoch 4/250\n",
      " - 106s - loss: 0.7075 - predictions_nuclei_loss: 0.4996 - predictions_counts_loss: 0.2079 - predictions_nuclei_my_accuracy_score: 0.0535 - predictions_nuclei_acc: 0.8491 - predictions_counts_mean_squared_error: 0.2079 - predictions_counts_mean_absolute_error: 0.1987 - val_loss: 0.6871 - val_predictions_nuclei_loss: 0.4910 - val_predictions_counts_loss: 0.1961 - val_predictions_nuclei_my_accuracy_score: 0.0609 - val_predictions_nuclei_acc: 0.8506 - val_predictions_counts_mean_squared_error: 0.1961 - val_predictions_counts_mean_absolute_error: 0.1799\n",
      "Epoch 5/250\n",
      " - 106s - loss: 0.6853 - predictions_nuclei_loss: 0.4843 - predictions_counts_loss: 0.2011 - predictions_nuclei_my_accuracy_score: 0.0597 - predictions_nuclei_acc: 0.8504 - predictions_counts_mean_squared_error: 0.2011 - predictions_counts_mean_absolute_error: 0.1872 - val_loss: 0.6729 - val_predictions_nuclei_loss: 0.4769 - val_predictions_counts_loss: 0.1961 - val_predictions_nuclei_my_accuracy_score: 0.0661 - val_predictions_nuclei_acc: 0.8520 - val_predictions_counts_mean_squared_error: 0.1961 - val_predictions_counts_mean_absolute_error: 0.1895\n",
      "Epoch 6/250\n",
      " - 106s - loss: 0.6557 - predictions_nuclei_loss: 0.4675 - predictions_counts_loss: 0.1882 - predictions_nuclei_my_accuracy_score: 0.0636 - predictions_nuclei_acc: 0.8528 - predictions_counts_mean_squared_error: 0.1882 - predictions_counts_mean_absolute_error: 0.1762 - val_loss: 0.6424 - val_predictions_nuclei_loss: 0.4606 - val_predictions_counts_loss: 0.1819 - val_predictions_nuclei_my_accuracy_score: 0.0719 - val_predictions_nuclei_acc: 0.8539 - val_predictions_counts_mean_squared_error: 0.1819 - val_predictions_counts_mean_absolute_error: 0.1719\n",
      "Epoch 7/250\n",
      " - 106s - loss: 0.6236 - predictions_nuclei_loss: 0.4496 - predictions_counts_loss: 0.1741 - predictions_nuclei_my_accuracy_score: 0.0667 - predictions_nuclei_acc: 0.8534 - predictions_counts_mean_squared_error: 0.1741 - predictions_counts_mean_absolute_error: 0.1668 - val_loss: 0.5970 - val_predictions_nuclei_loss: 0.4421 - val_predictions_counts_loss: 0.1549 - val_predictions_nuclei_my_accuracy_score: 0.0744 - val_predictions_nuclei_acc: 0.8551 - val_predictions_counts_mean_squared_error: 0.1549 - val_predictions_counts_mean_absolute_error: 0.1535\n",
      "Epoch 8/250\n",
      " - 106s - loss: 0.5796 - predictions_nuclei_loss: 0.4311 - predictions_counts_loss: 0.1485 - predictions_nuclei_my_accuracy_score: 0.0709 - predictions_nuclei_acc: 0.8556 - predictions_counts_mean_squared_error: 0.1485 - predictions_counts_mean_absolute_error: 0.1588 - val_loss: 0.5380 - val_predictions_nuclei_loss: 0.4196 - val_predictions_counts_loss: 0.1183 - val_predictions_nuclei_my_accuracy_score: 0.0777 - val_predictions_nuclei_acc: 0.8589 - val_predictions_counts_mean_squared_error: 0.1183 - val_predictions_counts_mean_absolute_error: 0.1320\n",
      "Epoch 9/250\n",
      " - 106s - loss: 0.5277 - predictions_nuclei_loss: 0.4078 - predictions_counts_loss: 0.1198 - predictions_nuclei_my_accuracy_score: 0.0739 - predictions_nuclei_acc: 0.8591 - predictions_counts_mean_squared_error: 0.1198 - predictions_counts_mean_absolute_error: 0.1446 - val_loss: 0.4989 - val_predictions_nuclei_loss: 0.3989 - val_predictions_counts_loss: 0.1000 - val_predictions_nuclei_my_accuracy_score: 0.0782 - val_predictions_nuclei_acc: 0.8616 - val_predictions_counts_mean_squared_error: 0.1000 - val_predictions_counts_mean_absolute_error: 0.1289\n",
      "Epoch 10/250\n",
      " - 106s - loss: 0.4886 - predictions_nuclei_loss: 0.3845 - predictions_counts_loss: 0.1041 - predictions_nuclei_my_accuracy_score: 0.0773 - predictions_nuclei_acc: 0.8632 - predictions_counts_mean_squared_error: 0.1041 - predictions_counts_mean_absolute_error: 0.1328 - val_loss: 0.4939 - val_predictions_nuclei_loss: 0.3806 - val_predictions_counts_loss: 0.1132 - val_predictions_nuclei_my_accuracy_score: 0.0789 - val_predictions_nuclei_acc: 0.8644 - val_predictions_counts_mean_squared_error: 0.1132 - val_predictions_counts_mean_absolute_error: 0.1459\n",
      "Epoch 11/250\n",
      " - 106s - loss: 0.4626 - predictions_nuclei_loss: 0.3646 - predictions_counts_loss: 0.0981 - predictions_nuclei_my_accuracy_score: 0.0823 - predictions_nuclei_acc: 0.8675 - predictions_counts_mean_squared_error: 0.0981 - predictions_counts_mean_absolute_error: 0.1265 - val_loss: 0.4554 - val_predictions_nuclei_loss: 0.3582 - val_predictions_counts_loss: 0.0972 - val_predictions_nuclei_my_accuracy_score: 0.0862 - val_predictions_nuclei_acc: 0.8721 - val_predictions_counts_mean_squared_error: 0.0972 - val_predictions_counts_mean_absolute_error: 0.1232\n",
      "Epoch 12/250\n",
      " - 106s - loss: 0.4412 - predictions_nuclei_loss: 0.3477 - predictions_counts_loss: 0.0935 - predictions_nuclei_my_accuracy_score: 0.0875 - predictions_nuclei_acc: 0.8715 - predictions_counts_mean_squared_error: 0.0935 - predictions_counts_mean_absolute_error: 0.1226 - val_loss: 0.4378 - val_predictions_nuclei_loss: 0.3475 - val_predictions_counts_loss: 0.0903 - val_predictions_nuclei_my_accuracy_score: 0.0972 - val_predictions_nuclei_acc: 0.8746 - val_predictions_counts_mean_squared_error: 0.0903 - val_predictions_counts_mean_absolute_error: 0.1249\n",
      "Epoch 13/250\n",
      " - 106s - loss: 0.4238 - predictions_nuclei_loss: 0.3333 - predictions_counts_loss: 0.0906 - predictions_nuclei_my_accuracy_score: 0.0963 - predictions_nuclei_acc: 0.8757 - predictions_counts_mean_squared_error: 0.0906 - predictions_counts_mean_absolute_error: 0.1208 - val_loss: 0.4442 - val_predictions_nuclei_loss: 0.3389 - val_predictions_counts_loss: 0.1054 - val_predictions_nuclei_my_accuracy_score: 0.1172 - val_predictions_nuclei_acc: 0.8757 - val_predictions_counts_mean_squared_error: 0.1054 - val_predictions_counts_mean_absolute_error: 0.1448\n",
      "Epoch 14/250\n",
      " - 106s - loss: 0.4108 - predictions_nuclei_loss: 0.3218 - predictions_counts_loss: 0.0889 - predictions_nuclei_my_accuracy_score: 0.1080 - predictions_nuclei_acc: 0.8789 - predictions_counts_mean_squared_error: 0.0889 - predictions_counts_mean_absolute_error: 0.1199 - val_loss: 0.4093 - val_predictions_nuclei_loss: 0.3306 - val_predictions_counts_loss: 0.0787 - val_predictions_nuclei_my_accuracy_score: 0.1115 - val_predictions_nuclei_acc: 0.8778 - val_predictions_counts_mean_squared_error: 0.0787 - val_predictions_counts_mean_absolute_error: 0.1155\n"
     ]
    },
    {
     "name": "stdout",
     "output_type": "stream",
     "text": [
      "Epoch 15/250\n",
      " - 106s - loss: 0.3978 - predictions_nuclei_loss: 0.3110 - predictions_counts_loss: 0.0868 - predictions_nuclei_my_accuracy_score: 0.1169 - predictions_nuclei_acc: 0.8825 - predictions_counts_mean_squared_error: 0.0868 - predictions_counts_mean_absolute_error: 0.1170 - val_loss: 0.4129 - val_predictions_nuclei_loss: 0.3196 - val_predictions_counts_loss: 0.0933 - val_predictions_nuclei_my_accuracy_score: 0.1283 - val_predictions_nuclei_acc: 0.8816 - val_predictions_counts_mean_squared_error: 0.0933 - val_predictions_counts_mean_absolute_error: 0.1447\n",
      "Epoch 16/250\n",
      " - 106s - loss: 0.3845 - predictions_nuclei_loss: 0.3001 - predictions_counts_loss: 0.0844 - predictions_nuclei_my_accuracy_score: 0.1302 - predictions_nuclei_acc: 0.8865 - predictions_counts_mean_squared_error: 0.0844 - predictions_counts_mean_absolute_error: 0.1161 - val_loss: 0.4223 - val_predictions_nuclei_loss: 0.3110 - val_predictions_counts_loss: 0.1112 - val_predictions_nuclei_my_accuracy_score: 0.1330 - val_predictions_nuclei_acc: 0.8834 - val_predictions_counts_mean_squared_error: 0.1112 - val_predictions_counts_mean_absolute_error: 0.1321\n",
      "Epoch 17/250\n",
      " - 106s - loss: 0.3717 - predictions_nuclei_loss: 0.2896 - predictions_counts_loss: 0.0821 - predictions_nuclei_my_accuracy_score: 0.1419 - predictions_nuclei_acc: 0.8902 - predictions_counts_mean_squared_error: 0.0821 - predictions_counts_mean_absolute_error: 0.1134 - val_loss: 0.3771 - val_predictions_nuclei_loss: 0.2978 - val_predictions_counts_loss: 0.0793 - val_predictions_nuclei_my_accuracy_score: 0.1588 - val_predictions_nuclei_acc: 0.8903 - val_predictions_counts_mean_squared_error: 0.0793 - val_predictions_counts_mean_absolute_error: 0.1133\n",
      "Epoch 18/250\n",
      " - 106s - loss: 0.3621 - predictions_nuclei_loss: 0.2782 - predictions_counts_loss: 0.0839 - predictions_nuclei_my_accuracy_score: 0.1555 - predictions_nuclei_acc: 0.8929 - predictions_counts_mean_squared_error: 0.0839 - predictions_counts_mean_absolute_error: 0.1150 - val_loss: 0.3701 - val_predictions_nuclei_loss: 0.2909 - val_predictions_counts_loss: 0.0792 - val_predictions_nuclei_my_accuracy_score: 0.1596 - val_predictions_nuclei_acc: 0.8905 - val_predictions_counts_mean_squared_error: 0.0792 - val_predictions_counts_mean_absolute_error: 0.1134\n",
      "Epoch 19/250\n",
      " - 106s - loss: 0.3504 - predictions_nuclei_loss: 0.2692 - predictions_counts_loss: 0.0812 - predictions_nuclei_my_accuracy_score: 0.1692 - predictions_nuclei_acc: 0.8954 - predictions_counts_mean_squared_error: 0.0812 - predictions_counts_mean_absolute_error: 0.1120 - val_loss: 0.3529 - val_predictions_nuclei_loss: 0.2752 - val_predictions_counts_loss: 0.0777 - val_predictions_nuclei_my_accuracy_score: 0.1806 - val_predictions_nuclei_acc: 0.8940 - val_predictions_counts_mean_squared_error: 0.0777 - val_predictions_counts_mean_absolute_error: 0.1144\n",
      "Epoch 20/250\n",
      " - 106s - loss: 0.3383 - predictions_nuclei_loss: 0.2595 - predictions_counts_loss: 0.0787 - predictions_nuclei_my_accuracy_score: 0.1811 - predictions_nuclei_acc: 0.8987 - predictions_counts_mean_squared_error: 0.0787 - predictions_counts_mean_absolute_error: 0.1107 - val_loss: 0.3401 - val_predictions_nuclei_loss: 0.2672 - val_predictions_counts_loss: 0.0729 - val_predictions_nuclei_my_accuracy_score: 0.1971 - val_predictions_nuclei_acc: 0.8990 - val_predictions_counts_mean_squared_error: 0.0729 - val_predictions_counts_mean_absolute_error: 0.1090\n",
      "Epoch 21/250\n",
      " - 106s - loss: 0.3299 - predictions_nuclei_loss: 0.2504 - predictions_counts_loss: 0.0795 - predictions_nuclei_my_accuracy_score: 0.1958 - predictions_nuclei_acc: 0.9015 - predictions_counts_mean_squared_error: 0.0795 - predictions_counts_mean_absolute_error: 0.1122 - val_loss: 0.3333 - val_predictions_nuclei_loss: 0.2572 - val_predictions_counts_loss: 0.0762 - val_predictions_nuclei_my_accuracy_score: 0.2122 - val_predictions_nuclei_acc: 0.9004 - val_predictions_counts_mean_squared_error: 0.0762 - val_predictions_counts_mean_absolute_error: 0.1102\n",
      "Epoch 22/250\n",
      " - 106s - loss: 0.3150 - predictions_nuclei_loss: 0.2382 - predictions_counts_loss: 0.0768 - predictions_nuclei_my_accuracy_score: 0.2084 - predictions_nuclei_acc: 0.9062 - predictions_counts_mean_squared_error: 0.0768 - predictions_counts_mean_absolute_error: 0.1116 - val_loss: 0.3212 - val_predictions_nuclei_loss: 0.2452 - val_predictions_counts_loss: 0.0759 - val_predictions_nuclei_my_accuracy_score: 0.2229 - val_predictions_nuclei_acc: 0.9089 - val_predictions_counts_mean_squared_error: 0.0759 - val_predictions_counts_mean_absolute_error: 0.1077\n",
      "Epoch 23/250\n",
      " - 106s - loss: 0.3066 - predictions_nuclei_loss: 0.2288 - predictions_counts_loss: 0.0778 - predictions_nuclei_my_accuracy_score: 0.2236 - predictions_nuclei_acc: 0.9112 - predictions_counts_mean_squared_error: 0.0778 - predictions_counts_mean_absolute_error: 0.1117 - val_loss: 0.3110 - val_predictions_nuclei_loss: 0.2401 - val_predictions_counts_loss: 0.0709 - val_predictions_nuclei_my_accuracy_score: 0.2337 - val_predictions_nuclei_acc: 0.9117 - val_predictions_counts_mean_squared_error: 0.0709 - val_predictions_counts_mean_absolute_error: 0.1033\n",
      "Epoch 24/250\n",
      " - 106s - loss: 0.2957 - predictions_nuclei_loss: 0.2193 - predictions_counts_loss: 0.0764 - predictions_nuclei_my_accuracy_score: 0.2360 - predictions_nuclei_acc: 0.9145 - predictions_counts_mean_squared_error: 0.0764 - predictions_counts_mean_absolute_error: 0.1114 - val_loss: 0.3031 - val_predictions_nuclei_loss: 0.2289 - val_predictions_counts_loss: 0.0742 - val_predictions_nuclei_my_accuracy_score: 0.2482 - val_predictions_nuclei_acc: 0.9160 - val_predictions_counts_mean_squared_error: 0.0742 - val_predictions_counts_mean_absolute_error: 0.1098\n",
      "Epoch 25/250\n",
      " - 106s - loss: 0.2819 - predictions_nuclei_loss: 0.2077 - predictions_counts_loss: 0.0743 - predictions_nuclei_my_accuracy_score: 0.2521 - predictions_nuclei_acc: 0.9202 - predictions_counts_mean_squared_error: 0.0743 - predictions_counts_mean_absolute_error: 0.1124 - val_loss: 0.3053 - val_predictions_nuclei_loss: 0.2205 - val_predictions_counts_loss: 0.0848 - val_predictions_nuclei_my_accuracy_score: 0.2685 - val_predictions_nuclei_acc: 0.9205 - val_predictions_counts_mean_squared_error: 0.0848 - val_predictions_counts_mean_absolute_error: 0.1206\n",
      "Epoch 26/250\n",
      " - 106s - loss: 0.2670 - predictions_nuclei_loss: 0.1961 - predictions_counts_loss: 0.0709 - predictions_nuclei_my_accuracy_score: 0.2647 - predictions_nuclei_acc: 0.9267 - predictions_counts_mean_squared_error: 0.0709 - predictions_counts_mean_absolute_error: 0.1108 - val_loss: 0.3168 - val_predictions_nuclei_loss: 0.2152 - val_predictions_counts_loss: 0.1016 - val_predictions_nuclei_my_accuracy_score: 0.2442 - val_predictions_nuclei_acc: 0.9208 - val_predictions_counts_mean_squared_error: 0.1016 - val_predictions_counts_mean_absolute_error: 0.1449\n",
      "Epoch 27/250\n",
      " - 106s - loss: 0.2519 - predictions_nuclei_loss: 0.1850 - predictions_counts_loss: 0.0670 - predictions_nuclei_my_accuracy_score: 0.2801 - predictions_nuclei_acc: 0.9313 - predictions_counts_mean_squared_error: 0.0670 - predictions_counts_mean_absolute_error: 0.1100 - val_loss: 0.2672 - val_predictions_nuclei_loss: 0.1975 - val_predictions_counts_loss: 0.0697 - val_predictions_nuclei_my_accuracy_score: 0.3001 - val_predictions_nuclei_acc: 0.9314 - val_predictions_counts_mean_squared_error: 0.0697 - val_predictions_counts_mean_absolute_error: 0.1062\n",
      "Epoch 28/250\n",
      " - 106s - loss: 0.2429 - predictions_nuclei_loss: 0.1783 - predictions_counts_loss: 0.0646 - predictions_nuclei_my_accuracy_score: 0.2951 - predictions_nuclei_acc: 0.9347 - predictions_counts_mean_squared_error: 0.0646 - predictions_counts_mean_absolute_error: 0.1087 - val_loss: 0.2577 - val_predictions_nuclei_loss: 0.1999 - val_predictions_counts_loss: 0.0578 - val_predictions_nuclei_my_accuracy_score: 0.2976 - val_predictions_nuclei_acc: 0.9290 - val_predictions_counts_mean_squared_error: 0.0578 - val_predictions_counts_mean_absolute_error: 0.1097\n",
      "Epoch 29/250\n",
      " - 106s - loss: 0.2266 - predictions_nuclei_loss: 0.1660 - predictions_counts_loss: 0.0607 - predictions_nuclei_my_accuracy_score: 0.3130 - predictions_nuclei_acc: 0.9395 - predictions_counts_mean_squared_error: 0.0607 - predictions_counts_mean_absolute_error: 0.1071 - val_loss: 0.2487 - val_predictions_nuclei_loss: 0.1797 - val_predictions_counts_loss: 0.0690 - val_predictions_nuclei_my_accuracy_score: 0.3109 - val_predictions_nuclei_acc: 0.9354 - val_predictions_counts_mean_squared_error: 0.0690 - val_predictions_counts_mean_absolute_error: 0.1388\n"
     ]
    },
    {
     "name": "stdout",
     "output_type": "stream",
     "text": [
      "Epoch 30/250\n",
      " - 106s - loss: 0.2108 - predictions_nuclei_loss: 0.1569 - predictions_counts_loss: 0.0539 - predictions_nuclei_my_accuracy_score: 0.3328 - predictions_nuclei_acc: 0.9425 - predictions_counts_mean_squared_error: 0.0539 - predictions_counts_mean_absolute_error: 0.1038 - val_loss: 0.2337 - val_predictions_nuclei_loss: 0.1782 - val_predictions_counts_loss: 0.0555 - val_predictions_nuclei_my_accuracy_score: 0.3432 - val_predictions_nuclei_acc: 0.9406 - val_predictions_counts_mean_squared_error: 0.0555 - val_predictions_counts_mean_absolute_error: 0.1031\n",
      "Epoch 31/250\n",
      " - 106s - loss: 0.2028 - predictions_nuclei_loss: 0.1489 - predictions_counts_loss: 0.0539 - predictions_nuclei_my_accuracy_score: 0.3460 - predictions_nuclei_acc: 0.9448 - predictions_counts_mean_squared_error: 0.0539 - predictions_counts_mean_absolute_error: 0.1041 - val_loss: 0.2173 - val_predictions_nuclei_loss: 0.1683 - val_predictions_counts_loss: 0.0489 - val_predictions_nuclei_my_accuracy_score: 0.3695 - val_predictions_nuclei_acc: 0.9435 - val_predictions_counts_mean_squared_error: 0.0489 - val_predictions_counts_mean_absolute_error: 0.0984\n",
      "Epoch 32/250\n",
      " - 106s - loss: 0.1881 - predictions_nuclei_loss: 0.1408 - predictions_counts_loss: 0.0473 - predictions_nuclei_my_accuracy_score: 0.3710 - predictions_nuclei_acc: 0.9481 - predictions_counts_mean_squared_error: 0.0473 - predictions_counts_mean_absolute_error: 0.0984 - val_loss: 0.2010 - val_predictions_nuclei_loss: 0.1597 - val_predictions_counts_loss: 0.0413 - val_predictions_nuclei_my_accuracy_score: 0.3750 - val_predictions_nuclei_acc: 0.9432 - val_predictions_counts_mean_squared_error: 0.0413 - val_predictions_counts_mean_absolute_error: 0.0924\n",
      "Epoch 33/250\n",
      " - 106s - loss: 0.1802 - predictions_nuclei_loss: 0.1347 - predictions_counts_loss: 0.0455 - predictions_nuclei_my_accuracy_score: 0.3881 - predictions_nuclei_acc: 0.9505 - predictions_counts_mean_squared_error: 0.0455 - predictions_counts_mean_absolute_error: 0.0995 - val_loss: 0.1954 - val_predictions_nuclei_loss: 0.1537 - val_predictions_counts_loss: 0.0418 - val_predictions_nuclei_my_accuracy_score: 0.4056 - val_predictions_nuclei_acc: 0.9460 - val_predictions_counts_mean_squared_error: 0.0418 - val_predictions_counts_mean_absolute_error: 0.0967\n",
      "Epoch 34/250\n",
      " - 106s - loss: 0.1721 - predictions_nuclei_loss: 0.1293 - predictions_counts_loss: 0.0428 - predictions_nuclei_my_accuracy_score: 0.4096 - predictions_nuclei_acc: 0.9527 - predictions_counts_mean_squared_error: 0.0428 - predictions_counts_mean_absolute_error: 0.0962 - val_loss: 0.1961 - val_predictions_nuclei_loss: 0.1586 - val_predictions_counts_loss: 0.0375 - val_predictions_nuclei_my_accuracy_score: 0.4081 - val_predictions_nuclei_acc: 0.9421 - val_predictions_counts_mean_squared_error: 0.0375 - val_predictions_counts_mean_absolute_error: 0.0930\n",
      "Epoch 35/250\n",
      " - 106s - loss: 0.1611 - predictions_nuclei_loss: 0.1215 - predictions_counts_loss: 0.0396 - predictions_nuclei_my_accuracy_score: 0.4297 - predictions_nuclei_acc: 0.9553 - predictions_counts_mean_squared_error: 0.0396 - predictions_counts_mean_absolute_error: 0.0939 - val_loss: 0.1911 - val_predictions_nuclei_loss: 0.1512 - val_predictions_counts_loss: 0.0400 - val_predictions_nuclei_my_accuracy_score: 0.4113 - val_predictions_nuclei_acc: 0.9508 - val_predictions_counts_mean_squared_error: 0.0400 - val_predictions_counts_mean_absolute_error: 0.0959\n",
      "Epoch 36/250\n",
      " - 106s - loss: 0.1539 - predictions_nuclei_loss: 0.1175 - predictions_counts_loss: 0.0364 - predictions_nuclei_my_accuracy_score: 0.4481 - predictions_nuclei_acc: 0.9572 - predictions_counts_mean_squared_error: 0.0364 - predictions_counts_mean_absolute_error: 0.0909 - val_loss: 0.1760 - val_predictions_nuclei_loss: 0.1403 - val_predictions_counts_loss: 0.0357 - val_predictions_nuclei_my_accuracy_score: 0.4401 - val_predictions_nuclei_acc: 0.9520 - val_predictions_counts_mean_squared_error: 0.0357 - val_predictions_counts_mean_absolute_error: 0.0892\n",
      "Epoch 37/250\n",
      " - 106s - loss: 0.1467 - predictions_nuclei_loss: 0.1110 - predictions_counts_loss: 0.0356 - predictions_nuclei_my_accuracy_score: 0.4627 - predictions_nuclei_acc: 0.9590 - predictions_counts_mean_squared_error: 0.0356 - predictions_counts_mean_absolute_error: 0.0897 - val_loss: 0.1653 - val_predictions_nuclei_loss: 0.1313 - val_predictions_counts_loss: 0.0340 - val_predictions_nuclei_my_accuracy_score: 0.4669 - val_predictions_nuclei_acc: 0.9555 - val_predictions_counts_mean_squared_error: 0.0340 - val_predictions_counts_mean_absolute_error: 0.0893\n",
      "Epoch 38/250\n",
      " - 106s - loss: 0.1384 - predictions_nuclei_loss: 0.1048 - predictions_counts_loss: 0.0335 - predictions_nuclei_my_accuracy_score: 0.4825 - predictions_nuclei_acc: 0.9623 - predictions_counts_mean_squared_error: 0.0335 - predictions_counts_mean_absolute_error: 0.0876 - val_loss: 0.1692 - val_predictions_nuclei_loss: 0.1301 - val_predictions_counts_loss: 0.0391 - val_predictions_nuclei_my_accuracy_score: 0.4867 - val_predictions_nuclei_acc: 0.9566 - val_predictions_counts_mean_squared_error: 0.0391 - val_predictions_counts_mean_absolute_error: 0.0976\n",
      "Epoch 39/250\n",
      " - 106s - loss: 0.1336 - predictions_nuclei_loss: 0.1016 - predictions_counts_loss: 0.0319 - predictions_nuclei_my_accuracy_score: 0.4917 - predictions_nuclei_acc: 0.9628 - predictions_counts_mean_squared_error: 0.0319 - predictions_counts_mean_absolute_error: 0.0873 - val_loss: 0.1575 - val_predictions_nuclei_loss: 0.1260 - val_predictions_counts_loss: 0.0315 - val_predictions_nuclei_my_accuracy_score: 0.4960 - val_predictions_nuclei_acc: 0.9585 - val_predictions_counts_mean_squared_error: 0.0315 - val_predictions_counts_mean_absolute_error: 0.0882\n",
      "Epoch 40/250\n",
      " - 106s - loss: 0.1276 - predictions_nuclei_loss: 0.0966 - predictions_counts_loss: 0.0310 - predictions_nuclei_my_accuracy_score: 0.5092 - predictions_nuclei_acc: 0.9649 - predictions_counts_mean_squared_error: 0.0310 - predictions_counts_mean_absolute_error: 0.0845 - val_loss: 0.1491 - val_predictions_nuclei_loss: 0.1181 - val_predictions_counts_loss: 0.0310 - val_predictions_nuclei_my_accuracy_score: 0.4810 - val_predictions_nuclei_acc: 0.9599 - val_predictions_counts_mean_squared_error: 0.0310 - val_predictions_counts_mean_absolute_error: 0.0859\n",
      "Epoch 41/250\n",
      " - 106s - loss: 0.1239 - predictions_nuclei_loss: 0.0942 - predictions_counts_loss: 0.0297 - predictions_nuclei_my_accuracy_score: 0.5255 - predictions_nuclei_acc: 0.9659 - predictions_counts_mean_squared_error: 0.0297 - predictions_counts_mean_absolute_error: 0.0838 - val_loss: 0.1568 - val_predictions_nuclei_loss: 0.1208 - val_predictions_counts_loss: 0.0360 - val_predictions_nuclei_my_accuracy_score: 0.5328 - val_predictions_nuclei_acc: 0.9598 - val_predictions_counts_mean_squared_error: 0.0360 - val_predictions_counts_mean_absolute_error: 0.0917\n",
      "Epoch 42/250\n",
      " - 106s - loss: 0.1161 - predictions_nuclei_loss: 0.0881 - predictions_counts_loss: 0.0279 - predictions_nuclei_my_accuracy_score: 0.5393 - predictions_nuclei_acc: 0.9679 - predictions_counts_mean_squared_error: 0.0279 - predictions_counts_mean_absolute_error: 0.0813 - val_loss: 0.1518 - val_predictions_nuclei_loss: 0.1228 - val_predictions_counts_loss: 0.0290 - val_predictions_nuclei_my_accuracy_score: 0.5386 - val_predictions_nuclei_acc: 0.9589 - val_predictions_counts_mean_squared_error: 0.0290 - val_predictions_counts_mean_absolute_error: 0.0866\n",
      "Epoch 43/250\n",
      " - 106s - loss: 0.1134 - predictions_nuclei_loss: 0.0854 - predictions_counts_loss: 0.0280 - predictions_nuclei_my_accuracy_score: 0.5530 - predictions_nuclei_acc: 0.9696 - predictions_counts_mean_squared_error: 0.0280 - predictions_counts_mean_absolute_error: 0.0816 - val_loss: 0.1426 - val_predictions_nuclei_loss: 0.1152 - val_predictions_counts_loss: 0.0274 - val_predictions_nuclei_my_accuracy_score: 0.5478 - val_predictions_nuclei_acc: 0.9621 - val_predictions_counts_mean_squared_error: 0.0274 - val_predictions_counts_mean_absolute_error: 0.0819\n",
      "Epoch 44/250\n",
      " - 106s - loss: 0.1075 - predictions_nuclei_loss: 0.0822 - predictions_counts_loss: 0.0253 - predictions_nuclei_my_accuracy_score: 0.5620 - predictions_nuclei_acc: 0.9703 - predictions_counts_mean_squared_error: 0.0253 - predictions_counts_mean_absolute_error: 0.0787 - val_loss: 0.1443 - val_predictions_nuclei_loss: 0.1154 - val_predictions_counts_loss: 0.0289 - val_predictions_nuclei_my_accuracy_score: 0.5393 - val_predictions_nuclei_acc: 0.9649 - val_predictions_counts_mean_squared_error: 0.0289 - val_predictions_counts_mean_absolute_error: 0.0882\n"
     ]
    },
    {
     "name": "stdout",
     "output_type": "stream",
     "text": [
      "Epoch 45/250\n",
      " - 106s - loss: 0.1030 - predictions_nuclei_loss: 0.0784 - predictions_counts_loss: 0.0246 - predictions_nuclei_my_accuracy_score: 0.5700 - predictions_nuclei_acc: 0.9715 - predictions_counts_mean_squared_error: 0.0246 - predictions_counts_mean_absolute_error: 0.0775 - val_loss: 0.1383 - val_predictions_nuclei_loss: 0.1085 - val_predictions_counts_loss: 0.0298 - val_predictions_nuclei_my_accuracy_score: 0.5634 - val_predictions_nuclei_acc: 0.9668 - val_predictions_counts_mean_squared_error: 0.0298 - val_predictions_counts_mean_absolute_error: 0.0863\n",
      "Epoch 46/250\n",
      " - 106s - loss: 0.1002 - predictions_nuclei_loss: 0.0759 - predictions_counts_loss: 0.0244 - predictions_nuclei_my_accuracy_score: 0.5852 - predictions_nuclei_acc: 0.9725 - predictions_counts_mean_squared_error: 0.0244 - predictions_counts_mean_absolute_error: 0.0779 - val_loss: 0.1338 - val_predictions_nuclei_loss: 0.1052 - val_predictions_counts_loss: 0.0287 - val_predictions_nuclei_my_accuracy_score: 0.5624 - val_predictions_nuclei_acc: 0.9649 - val_predictions_counts_mean_squared_error: 0.0287 - val_predictions_counts_mean_absolute_error: 0.0821\n",
      "Epoch 47/250\n",
      " - 106s - loss: 0.0974 - predictions_nuclei_loss: 0.0724 - predictions_counts_loss: 0.0250 - predictions_nuclei_my_accuracy_score: 0.5983 - predictions_nuclei_acc: 0.9738 - predictions_counts_mean_squared_error: 0.0250 - predictions_counts_mean_absolute_error: 0.0784 - val_loss: 0.1342 - val_predictions_nuclei_loss: 0.1067 - val_predictions_counts_loss: 0.0275 - val_predictions_nuclei_my_accuracy_score: 0.5817 - val_predictions_nuclei_acc: 0.9653 - val_predictions_counts_mean_squared_error: 0.0275 - val_predictions_counts_mean_absolute_error: 0.0845\n",
      "Epoch 48/250\n",
      " - 106s - loss: 0.0932 - predictions_nuclei_loss: 0.0704 - predictions_counts_loss: 0.0228 - predictions_nuclei_my_accuracy_score: 0.6057 - predictions_nuclei_acc: 0.9747 - predictions_counts_mean_squared_error: 0.0228 - predictions_counts_mean_absolute_error: 0.0757 - val_loss: 0.1248 - val_predictions_nuclei_loss: 0.1004 - val_predictions_counts_loss: 0.0244 - val_predictions_nuclei_my_accuracy_score: 0.5787 - val_predictions_nuclei_acc: 0.9681 - val_predictions_counts_mean_squared_error: 0.0244 - val_predictions_counts_mean_absolute_error: 0.0790\n",
      "Epoch 49/250\n",
      " - 106s - loss: 0.0909 - predictions_nuclei_loss: 0.0679 - predictions_counts_loss: 0.0229 - predictions_nuclei_my_accuracy_score: 0.6169 - predictions_nuclei_acc: 0.9754 - predictions_counts_mean_squared_error: 0.0229 - predictions_counts_mean_absolute_error: 0.0753 - val_loss: 0.1228 - val_predictions_nuclei_loss: 0.0975 - val_predictions_counts_loss: 0.0253 - val_predictions_nuclei_my_accuracy_score: 0.6242 - val_predictions_nuclei_acc: 0.9674 - val_predictions_counts_mean_squared_error: 0.0253 - val_predictions_counts_mean_absolute_error: 0.0820\n",
      "Epoch 50/250\n",
      " - 106s - loss: 0.0865 - predictions_nuclei_loss: 0.0643 - predictions_counts_loss: 0.0221 - predictions_nuclei_my_accuracy_score: 0.6298 - predictions_nuclei_acc: 0.9766 - predictions_counts_mean_squared_error: 0.0221 - predictions_counts_mean_absolute_error: 0.0744 - val_loss: 0.1209 - val_predictions_nuclei_loss: 0.0988 - val_predictions_counts_loss: 0.0221 - val_predictions_nuclei_my_accuracy_score: 0.5942 - val_predictions_nuclei_acc: 0.9681 - val_predictions_counts_mean_squared_error: 0.0221 - val_predictions_counts_mean_absolute_error: 0.0774\n",
      "Epoch 51/250\n",
      " - 106s - loss: 0.0853 - predictions_nuclei_loss: 0.0631 - predictions_counts_loss: 0.0222 - predictions_nuclei_my_accuracy_score: 0.6385 - predictions_nuclei_acc: 0.9769 - predictions_counts_mean_squared_error: 0.0222 - predictions_counts_mean_absolute_error: 0.0752 - val_loss: 0.1202 - val_predictions_nuclei_loss: 0.0916 - val_predictions_counts_loss: 0.0286 - val_predictions_nuclei_my_accuracy_score: 0.6207 - val_predictions_nuclei_acc: 0.9696 - val_predictions_counts_mean_squared_error: 0.0286 - val_predictions_counts_mean_absolute_error: 0.0937\n",
      "Epoch 52/250\n",
      " - 106s - loss: 0.0793 - predictions_nuclei_loss: 0.0594 - predictions_counts_loss: 0.0200 - predictions_nuclei_my_accuracy_score: 0.6481 - predictions_nuclei_acc: 0.9785 - predictions_counts_mean_squared_error: 0.0200 - predictions_counts_mean_absolute_error: 0.0722 - val_loss: 0.1408 - val_predictions_nuclei_loss: 0.1038 - val_predictions_counts_loss: 0.0370 - val_predictions_nuclei_my_accuracy_score: 0.6275 - val_predictions_nuclei_acc: 0.9658 - val_predictions_counts_mean_squared_error: 0.0370 - val_predictions_counts_mean_absolute_error: 0.1006\n",
      "Epoch 53/250\n",
      " - 106s - loss: 0.0779 - predictions_nuclei_loss: 0.0584 - predictions_counts_loss: 0.0196 - predictions_nuclei_my_accuracy_score: 0.6586 - predictions_nuclei_acc: 0.9791 - predictions_counts_mean_squared_error: 0.0196 - predictions_counts_mean_absolute_error: 0.0738 - val_loss: 0.1137 - val_predictions_nuclei_loss: 0.0897 - val_predictions_counts_loss: 0.0240 - val_predictions_nuclei_my_accuracy_score: 0.6485 - val_predictions_nuclei_acc: 0.9712 - val_predictions_counts_mean_squared_error: 0.0240 - val_predictions_counts_mean_absolute_error: 0.0852\n",
      "Epoch 54/250\n",
      " - 106s - loss: 0.0743 - predictions_nuclei_loss: 0.0552 - predictions_counts_loss: 0.0191 - predictions_nuclei_my_accuracy_score: 0.6672 - predictions_nuclei_acc: 0.9802 - predictions_counts_mean_squared_error: 0.0191 - predictions_counts_mean_absolute_error: 0.0724 - val_loss: 0.1227 - val_predictions_nuclei_loss: 0.0982 - val_predictions_counts_loss: 0.0245 - val_predictions_nuclei_my_accuracy_score: 0.6140 - val_predictions_nuclei_acc: 0.9696 - val_predictions_counts_mean_squared_error: 0.0245 - val_predictions_counts_mean_absolute_error: 0.0839\n",
      "Epoch 55/250\n",
      " - 106s - loss: 0.0720 - predictions_nuclei_loss: 0.0541 - predictions_counts_loss: 0.0179 - predictions_nuclei_my_accuracy_score: 0.6766 - predictions_nuclei_acc: 0.9803 - predictions_counts_mean_squared_error: 0.0179 - predictions_counts_mean_absolute_error: 0.0696 - val_loss: 0.1285 - val_predictions_nuclei_loss: 0.0980 - val_predictions_counts_loss: 0.0304 - val_predictions_nuclei_my_accuracy_score: 0.6503 - val_predictions_nuclei_acc: 0.9690 - val_predictions_counts_mean_squared_error: 0.0304 - val_predictions_counts_mean_absolute_error: 0.0872\n",
      "Epoch 56/250\n",
      " - 106s - loss: 0.0670 - predictions_nuclei_loss: 0.0508 - predictions_counts_loss: 0.0162 - predictions_nuclei_my_accuracy_score: 0.6869 - predictions_nuclei_acc: 0.9819 - predictions_counts_mean_squared_error: 0.0162 - predictions_counts_mean_absolute_error: 0.0685 - val_loss: 0.1153 - val_predictions_nuclei_loss: 0.0839 - val_predictions_counts_loss: 0.0314 - val_predictions_nuclei_my_accuracy_score: 0.6333 - val_predictions_nuclei_acc: 0.9736 - val_predictions_counts_mean_squared_error: 0.0314 - val_predictions_counts_mean_absolute_error: 0.0884\n",
      "Epoch 57/250\n",
      " - 106s - loss: 0.0661 - predictions_nuclei_loss: 0.0498 - predictions_counts_loss: 0.0163 - predictions_nuclei_my_accuracy_score: 0.6946 - predictions_nuclei_acc: 0.9823 - predictions_counts_mean_squared_error: 0.0163 - predictions_counts_mean_absolute_error: 0.0691 - val_loss: 0.1123 - val_predictions_nuclei_loss: 0.0935 - val_predictions_counts_loss: 0.0187 - val_predictions_nuclei_my_accuracy_score: 0.6513 - val_predictions_nuclei_acc: 0.9721 - val_predictions_counts_mean_squared_error: 0.0187 - val_predictions_counts_mean_absolute_error: 0.0739\n",
      "Epoch 58/250\n",
      " - 106s - loss: 0.0651 - predictions_nuclei_loss: 0.0486 - predictions_counts_loss: 0.0165 - predictions_nuclei_my_accuracy_score: 0.6983 - predictions_nuclei_acc: 0.9825 - predictions_counts_mean_squared_error: 0.0165 - predictions_counts_mean_absolute_error: 0.0700 - val_loss: 0.1062 - val_predictions_nuclei_loss: 0.0847 - val_predictions_counts_loss: 0.0216 - val_predictions_nuclei_my_accuracy_score: 0.6531 - val_predictions_nuclei_acc: 0.9732 - val_predictions_counts_mean_squared_error: 0.0216 - val_predictions_counts_mean_absolute_error: 0.0802\n",
      "Epoch 59/250\n",
      " - 106s - loss: 0.0629 - predictions_nuclei_loss: 0.0474 - predictions_counts_loss: 0.0154 - predictions_nuclei_my_accuracy_score: 0.7008 - predictions_nuclei_acc: 0.9831 - predictions_counts_mean_squared_error: 0.0154 - predictions_counts_mean_absolute_error: 0.0688 - val_loss: 0.1026 - val_predictions_nuclei_loss: 0.0829 - val_predictions_counts_loss: 0.0197 - val_predictions_nuclei_my_accuracy_score: 0.6743 - val_predictions_nuclei_acc: 0.9740 - val_predictions_counts_mean_squared_error: 0.0197 - val_predictions_counts_mean_absolute_error: 0.0753\n"
     ]
    },
    {
     "name": "stdout",
     "output_type": "stream",
     "text": [
      "Epoch 60/250\n",
      " - 106s - loss: 0.0596 - predictions_nuclei_loss: 0.0454 - predictions_counts_loss: 0.0142 - predictions_nuclei_my_accuracy_score: 0.7128 - predictions_nuclei_acc: 0.9837 - predictions_counts_mean_squared_error: 0.0142 - predictions_counts_mean_absolute_error: 0.0661 - val_loss: 0.1002 - val_predictions_nuclei_loss: 0.0818 - val_predictions_counts_loss: 0.0184 - val_predictions_nuclei_my_accuracy_score: 0.6904 - val_predictions_nuclei_acc: 0.9734 - val_predictions_counts_mean_squared_error: 0.0184 - val_predictions_counts_mean_absolute_error: 0.0763\n",
      "Epoch 61/250\n",
      " - 106s - loss: 0.0574 - predictions_nuclei_loss: 0.0436 - predictions_counts_loss: 0.0138 - predictions_nuclei_my_accuracy_score: 0.7276 - predictions_nuclei_acc: 0.9842 - predictions_counts_mean_squared_error: 0.0138 - predictions_counts_mean_absolute_error: 0.0655 - val_loss: 0.0929 - val_predictions_nuclei_loss: 0.0773 - val_predictions_counts_loss: 0.0156 - val_predictions_nuclei_my_accuracy_score: 0.6909 - val_predictions_nuclei_acc: 0.9764 - val_predictions_counts_mean_squared_error: 0.0156 - val_predictions_counts_mean_absolute_error: 0.0703\n",
      "Epoch 62/250\n",
      " - 106s - loss: 0.0558 - predictions_nuclei_loss: 0.0423 - predictions_counts_loss: 0.0135 - predictions_nuclei_my_accuracy_score: 0.7271 - predictions_nuclei_acc: 0.9847 - predictions_counts_mean_squared_error: 0.0135 - predictions_counts_mean_absolute_error: 0.0660 - val_loss: 0.0959 - val_predictions_nuclei_loss: 0.0793 - val_predictions_counts_loss: 0.0166 - val_predictions_nuclei_my_accuracy_score: 0.6999 - val_predictions_nuclei_acc: 0.9757 - val_predictions_counts_mean_squared_error: 0.0166 - val_predictions_counts_mean_absolute_error: 0.0701\n",
      "Epoch 63/250\n",
      " - 106s - loss: 0.0531 - predictions_nuclei_loss: 0.0404 - predictions_counts_loss: 0.0127 - predictions_nuclei_my_accuracy_score: 0.7333 - predictions_nuclei_acc: 0.9858 - predictions_counts_mean_squared_error: 0.0127 - predictions_counts_mean_absolute_error: 0.0640 - val_loss: 0.1009 - val_predictions_nuclei_loss: 0.0813 - val_predictions_counts_loss: 0.0196 - val_predictions_nuclei_my_accuracy_score: 0.6811 - val_predictions_nuclei_acc: 0.9763 - val_predictions_counts_mean_squared_error: 0.0196 - val_predictions_counts_mean_absolute_error: 0.0757\n",
      "Epoch 64/250\n",
      " - 106s - loss: 0.0515 - predictions_nuclei_loss: 0.0387 - predictions_counts_loss: 0.0129 - predictions_nuclei_my_accuracy_score: 0.7459 - predictions_nuclei_acc: 0.9865 - predictions_counts_mean_squared_error: 0.0129 - predictions_counts_mean_absolute_error: 0.0634 - val_loss: 0.1047 - val_predictions_nuclei_loss: 0.0875 - val_predictions_counts_loss: 0.0172 - val_predictions_nuclei_my_accuracy_score: 0.6809 - val_predictions_nuclei_acc: 0.9712 - val_predictions_counts_mean_squared_error: 0.0172 - val_predictions_counts_mean_absolute_error: 0.0771\n",
      "Epoch 65/250\n",
      " - 106s - loss: 0.0486 - predictions_nuclei_loss: 0.0371 - predictions_counts_loss: 0.0115 - predictions_nuclei_my_accuracy_score: 0.7498 - predictions_nuclei_acc: 0.9870 - predictions_counts_mean_squared_error: 0.0115 - predictions_counts_mean_absolute_error: 0.0626 - val_loss: 0.0958 - val_predictions_nuclei_loss: 0.0784 - val_predictions_counts_loss: 0.0174 - val_predictions_nuclei_my_accuracy_score: 0.7067 - val_predictions_nuclei_acc: 0.9757 - val_predictions_counts_mean_squared_error: 0.0174 - val_predictions_counts_mean_absolute_error: 0.0720\n",
      "Epoch 66/250\n",
      " - 106s - loss: 0.0466 - predictions_nuclei_loss: 0.0362 - predictions_counts_loss: 0.0103 - predictions_nuclei_my_accuracy_score: 0.7553 - predictions_nuclei_acc: 0.9873 - predictions_counts_mean_squared_error: 0.0103 - predictions_counts_mean_absolute_error: 0.0604 - val_loss: 0.0895 - val_predictions_nuclei_loss: 0.0749 - val_predictions_counts_loss: 0.0147 - val_predictions_nuclei_my_accuracy_score: 0.7009 - val_predictions_nuclei_acc: 0.9772 - val_predictions_counts_mean_squared_error: 0.0147 - val_predictions_counts_mean_absolute_error: 0.0691\n",
      "Epoch 67/250\n",
      " - 106s - loss: 0.0477 - predictions_nuclei_loss: 0.0363 - predictions_counts_loss: 0.0114 - predictions_nuclei_my_accuracy_score: 0.7592 - predictions_nuclei_acc: 0.9871 - predictions_counts_mean_squared_error: 0.0114 - predictions_counts_mean_absolute_error: 0.0610 - val_loss: 0.1035 - val_predictions_nuclei_loss: 0.0851 - val_predictions_counts_loss: 0.0184 - val_predictions_nuclei_my_accuracy_score: 0.7017 - val_predictions_nuclei_acc: 0.9749 - val_predictions_counts_mean_squared_error: 0.0184 - val_predictions_counts_mean_absolute_error: 0.0764\n",
      "Epoch 68/250\n",
      " - 106s - loss: 0.0467 - predictions_nuclei_loss: 0.0358 - predictions_counts_loss: 0.0108 - predictions_nuclei_my_accuracy_score: 0.7610 - predictions_nuclei_acc: 0.9869 - predictions_counts_mean_squared_error: 0.0108 - predictions_counts_mean_absolute_error: 0.0614 - val_loss: 0.0910 - val_predictions_nuclei_loss: 0.0739 - val_predictions_counts_loss: 0.0171 - val_predictions_nuclei_my_accuracy_score: 0.7182 - val_predictions_nuclei_acc: 0.9784 - val_predictions_counts_mean_squared_error: 0.0171 - val_predictions_counts_mean_absolute_error: 0.0725\n",
      "Epoch 69/250\n",
      " - 106s - loss: 0.0432 - predictions_nuclei_loss: 0.0333 - predictions_counts_loss: 0.0099 - predictions_nuclei_my_accuracy_score: 0.7724 - predictions_nuclei_acc: 0.9885 - predictions_counts_mean_squared_error: 0.0099 - predictions_counts_mean_absolute_error: 0.0592 - val_loss: 0.1003 - val_predictions_nuclei_loss: 0.0815 - val_predictions_counts_loss: 0.0187 - val_predictions_nuclei_my_accuracy_score: 0.7415 - val_predictions_nuclei_acc: 0.9762 - val_predictions_counts_mean_squared_error: 0.0187 - val_predictions_counts_mean_absolute_error: 0.0811\n",
      "Epoch 70/250\n",
      " - 106s - loss: 0.0439 - predictions_nuclei_loss: 0.0333 - predictions_counts_loss: 0.0105 - predictions_nuclei_my_accuracy_score: 0.7740 - predictions_nuclei_acc: 0.9882 - predictions_counts_mean_squared_error: 0.0105 - predictions_counts_mean_absolute_error: 0.0605 - val_loss: 0.0926 - val_predictions_nuclei_loss: 0.0770 - val_predictions_counts_loss: 0.0156 - val_predictions_nuclei_my_accuracy_score: 0.7099 - val_predictions_nuclei_acc: 0.9759 - val_predictions_counts_mean_squared_error: 0.0156 - val_predictions_counts_mean_absolute_error: 0.0709\n",
      "Epoch 71/250\n",
      " - 106s - loss: 0.0427 - predictions_nuclei_loss: 0.0326 - predictions_counts_loss: 0.0101 - predictions_nuclei_my_accuracy_score: 0.7775 - predictions_nuclei_acc: 0.9886 - predictions_counts_mean_squared_error: 0.0101 - predictions_counts_mean_absolute_error: 0.0597 - val_loss: 0.0908 - val_predictions_nuclei_loss: 0.0764 - val_predictions_counts_loss: 0.0144 - val_predictions_nuclei_my_accuracy_score: 0.7247 - val_predictions_nuclei_acc: 0.9785 - val_predictions_counts_mean_squared_error: 0.0144 - val_predictions_counts_mean_absolute_error: 0.0685\n",
      "Epoch 72/250\n",
      " - 106s - loss: 0.0405 - predictions_nuclei_loss: 0.0306 - predictions_counts_loss: 0.0099 - predictions_nuclei_my_accuracy_score: 0.7821 - predictions_nuclei_acc: 0.9891 - predictions_counts_mean_squared_error: 0.0099 - predictions_counts_mean_absolute_error: 0.0595 - val_loss: 0.0870 - val_predictions_nuclei_loss: 0.0708 - val_predictions_counts_loss: 0.0163 - val_predictions_nuclei_my_accuracy_score: 0.7417 - val_predictions_nuclei_acc: 0.9783 - val_predictions_counts_mean_squared_error: 0.0163 - val_predictions_counts_mean_absolute_error: 0.0727\n",
      "Epoch 73/250\n",
      " - 106s - loss: 0.0408 - predictions_nuclei_loss: 0.0307 - predictions_counts_loss: 0.0101 - predictions_nuclei_my_accuracy_score: 0.7893 - predictions_nuclei_acc: 0.9888 - predictions_counts_mean_squared_error: 0.0101 - predictions_counts_mean_absolute_error: 0.0594 - val_loss: 0.0916 - val_predictions_nuclei_loss: 0.0728 - val_predictions_counts_loss: 0.0187 - val_predictions_nuclei_my_accuracy_score: 0.7019 - val_predictions_nuclei_acc: 0.9760 - val_predictions_counts_mean_squared_error: 0.0187 - val_predictions_counts_mean_absolute_error: 0.0764\n",
      "Epoch 74/250\n",
      " - 106s - loss: 0.0358 - predictions_nuclei_loss: 0.0273 - predictions_counts_loss: 0.0084 - predictions_nuclei_my_accuracy_score: 0.7976 - predictions_nuclei_acc: 0.9903 - predictions_counts_mean_squared_error: 0.0084 - predictions_counts_mean_absolute_error: 0.0564 - val_loss: 0.0961 - val_predictions_nuclei_loss: 0.0803 - val_predictions_counts_loss: 0.0158 - val_predictions_nuclei_my_accuracy_score: 0.7342 - val_predictions_nuclei_acc: 0.9752 - val_predictions_counts_mean_squared_error: 0.0158 - val_predictions_counts_mean_absolute_error: 0.0739\n"
     ]
    },
    {
     "name": "stdout",
     "output_type": "stream",
     "text": [
      "Epoch 75/250\n",
      " - 106s - loss: 0.0369 - predictions_nuclei_loss: 0.0285 - predictions_counts_loss: 0.0084 - predictions_nuclei_my_accuracy_score: 0.8006 - predictions_nuclei_acc: 0.9901 - predictions_counts_mean_squared_error: 0.0084 - predictions_counts_mean_absolute_error: 0.0565 - val_loss: 0.0882 - val_predictions_nuclei_loss: 0.0737 - val_predictions_counts_loss: 0.0145 - val_predictions_nuclei_my_accuracy_score: 0.7370 - val_predictions_nuclei_acc: 0.9768 - val_predictions_counts_mean_squared_error: 0.0145 - val_predictions_counts_mean_absolute_error: 0.0698\n",
      "Epoch 76/250\n",
      " - 106s - loss: 0.0348 - predictions_nuclei_loss: 0.0265 - predictions_counts_loss: 0.0082 - predictions_nuclei_my_accuracy_score: 0.8065 - predictions_nuclei_acc: 0.9904 - predictions_counts_mean_squared_error: 0.0082 - predictions_counts_mean_absolute_error: 0.0551 - val_loss: 0.0956 - val_predictions_nuclei_loss: 0.0788 - val_predictions_counts_loss: 0.0168 - val_predictions_nuclei_my_accuracy_score: 0.7287 - val_predictions_nuclei_acc: 0.9795 - val_predictions_counts_mean_squared_error: 0.0168 - val_predictions_counts_mean_absolute_error: 0.0721\n",
      "Epoch 77/250\n",
      " - 106s - loss: 0.0332 - predictions_nuclei_loss: 0.0256 - predictions_counts_loss: 0.0075 - predictions_nuclei_my_accuracy_score: 0.8086 - predictions_nuclei_acc: 0.9910 - predictions_counts_mean_squared_error: 0.0075 - predictions_counts_mean_absolute_error: 0.0547 - val_loss: 0.0927 - val_predictions_nuclei_loss: 0.0781 - val_predictions_counts_loss: 0.0145 - val_predictions_nuclei_my_accuracy_score: 0.7422 - val_predictions_nuclei_acc: 0.9771 - val_predictions_counts_mean_squared_error: 0.0145 - val_predictions_counts_mean_absolute_error: 0.0705\n",
      "Epoch 78/250\n",
      " - 106s - loss: 0.0338 - predictions_nuclei_loss: 0.0258 - predictions_counts_loss: 0.0080 - predictions_nuclei_my_accuracy_score: 0.8050 - predictions_nuclei_acc: 0.9910 - predictions_counts_mean_squared_error: 0.0080 - predictions_counts_mean_absolute_error: 0.0553 - val_loss: 0.0921 - val_predictions_nuclei_loss: 0.0767 - val_predictions_counts_loss: 0.0154 - val_predictions_nuclei_my_accuracy_score: 0.7462 - val_predictions_nuclei_acc: 0.9784 - val_predictions_counts_mean_squared_error: 0.0154 - val_predictions_counts_mean_absolute_error: 0.0737\n",
      "Epoch 79/250\n",
      " - 106s - loss: 0.0323 - predictions_nuclei_loss: 0.0250 - predictions_counts_loss: 0.0073 - predictions_nuclei_my_accuracy_score: 0.8194 - predictions_nuclei_acc: 0.9913 - predictions_counts_mean_squared_error: 0.0073 - predictions_counts_mean_absolute_error: 0.0535 - val_loss: 0.0855 - val_predictions_nuclei_loss: 0.0713 - val_predictions_counts_loss: 0.0142 - val_predictions_nuclei_my_accuracy_score: 0.7505 - val_predictions_nuclei_acc: 0.9803 - val_predictions_counts_mean_squared_error: 0.0142 - val_predictions_counts_mean_absolute_error: 0.0668\n",
      "Epoch 80/250\n",
      " - 106s - loss: 0.0309 - predictions_nuclei_loss: 0.0242 - predictions_counts_loss: 0.0067 - predictions_nuclei_my_accuracy_score: 0.8209 - predictions_nuclei_acc: 0.9915 - predictions_counts_mean_squared_error: 0.0067 - predictions_counts_mean_absolute_error: 0.0522 - val_loss: 0.0828 - val_predictions_nuclei_loss: 0.0689 - val_predictions_counts_loss: 0.0139 - val_predictions_nuclei_my_accuracy_score: 0.7690 - val_predictions_nuclei_acc: 0.9789 - val_predictions_counts_mean_squared_error: 0.0139 - val_predictions_counts_mean_absolute_error: 0.0699\n",
      "Epoch 81/250\n",
      " - 106s - loss: 0.0292 - predictions_nuclei_loss: 0.0226 - predictions_counts_loss: 0.0065 - predictions_nuclei_my_accuracy_score: 0.8280 - predictions_nuclei_acc: 0.9920 - predictions_counts_mean_squared_error: 0.0065 - predictions_counts_mean_absolute_error: 0.0521 - val_loss: 0.0846 - val_predictions_nuclei_loss: 0.0697 - val_predictions_counts_loss: 0.0149 - val_predictions_nuclei_my_accuracy_score: 0.7720 - val_predictions_nuclei_acc: 0.9773 - val_predictions_counts_mean_squared_error: 0.0149 - val_predictions_counts_mean_absolute_error: 0.0721\n",
      "Epoch 82/250\n",
      " - 106s - loss: 0.0293 - predictions_nuclei_loss: 0.0223 - predictions_counts_loss: 0.0069 - predictions_nuclei_my_accuracy_score: 0.8290 - predictions_nuclei_acc: 0.9920 - predictions_counts_mean_squared_error: 0.0069 - predictions_counts_mean_absolute_error: 0.0533 - val_loss: 0.0905 - val_predictions_nuclei_loss: 0.0756 - val_predictions_counts_loss: 0.0149 - val_predictions_nuclei_my_accuracy_score: 0.7427 - val_predictions_nuclei_acc: 0.9793 - val_predictions_counts_mean_squared_error: 0.0149 - val_predictions_counts_mean_absolute_error: 0.0703\n",
      "Epoch 83/250\n",
      " - 106s - loss: 0.0282 - predictions_nuclei_loss: 0.0215 - predictions_counts_loss: 0.0067 - predictions_nuclei_my_accuracy_score: 0.8299 - predictions_nuclei_acc: 0.9927 - predictions_counts_mean_squared_error: 0.0067 - predictions_counts_mean_absolute_error: 0.0528 - val_loss: 0.0843 - val_predictions_nuclei_loss: 0.0702 - val_predictions_counts_loss: 0.0141 - val_predictions_nuclei_my_accuracy_score: 0.7560 - val_predictions_nuclei_acc: 0.9810 - val_predictions_counts_mean_squared_error: 0.0141 - val_predictions_counts_mean_absolute_error: 0.0710\n",
      "Epoch 84/250\n",
      " - 106s - loss: 0.0279 - predictions_nuclei_loss: 0.0214 - predictions_counts_loss: 0.0065 - predictions_nuclei_my_accuracy_score: 0.8340 - predictions_nuclei_acc: 0.9927 - predictions_counts_mean_squared_error: 0.0065 - predictions_counts_mean_absolute_error: 0.0515 - val_loss: 0.0885 - val_predictions_nuclei_loss: 0.0722 - val_predictions_counts_loss: 0.0164 - val_predictions_nuclei_my_accuracy_score: 0.7735 - val_predictions_nuclei_acc: 0.9789 - val_predictions_counts_mean_squared_error: 0.0164 - val_predictions_counts_mean_absolute_error: 0.0750\n",
      "Epoch 85/250\n",
      " - 106s - loss: 0.0273 - predictions_nuclei_loss: 0.0207 - predictions_counts_loss: 0.0066 - predictions_nuclei_my_accuracy_score: 0.8395 - predictions_nuclei_acc: 0.9927 - predictions_counts_mean_squared_error: 0.0066 - predictions_counts_mean_absolute_error: 0.0520 - val_loss: 0.0919 - val_predictions_nuclei_loss: 0.0783 - val_predictions_counts_loss: 0.0136 - val_predictions_nuclei_my_accuracy_score: 0.7595 - val_predictions_nuclei_acc: 0.9795 - val_predictions_counts_mean_squared_error: 0.0136 - val_predictions_counts_mean_absolute_error: 0.0693\n",
      "Epoch 86/250\n",
      " - 106s - loss: 0.0265 - predictions_nuclei_loss: 0.0203 - predictions_counts_loss: 0.0062 - predictions_nuclei_my_accuracy_score: 0.8452 - predictions_nuclei_acc: 0.9930 - predictions_counts_mean_squared_error: 0.0062 - predictions_counts_mean_absolute_error: 0.0501 - val_loss: 0.0844 - val_predictions_nuclei_loss: 0.0705 - val_predictions_counts_loss: 0.0139 - val_predictions_nuclei_my_accuracy_score: 0.7663 - val_predictions_nuclei_acc: 0.9799 - val_predictions_counts_mean_squared_error: 0.0139 - val_predictions_counts_mean_absolute_error: 0.0673\n",
      "Epoch 87/250\n",
      " - 106s - loss: 0.0247 - predictions_nuclei_loss: 0.0188 - predictions_counts_loss: 0.0059 - predictions_nuclei_my_accuracy_score: 0.8503 - predictions_nuclei_acc: 0.9936 - predictions_counts_mean_squared_error: 0.0059 - predictions_counts_mean_absolute_error: 0.0497 - val_loss: 0.0869 - val_predictions_nuclei_loss: 0.0726 - val_predictions_counts_loss: 0.0143 - val_predictions_nuclei_my_accuracy_score: 0.7628 - val_predictions_nuclei_acc: 0.9819 - val_predictions_counts_mean_squared_error: 0.0143 - val_predictions_counts_mean_absolute_error: 0.0700\n",
      "Epoch 88/250\n",
      " - 106s - loss: 0.0253 - predictions_nuclei_loss: 0.0192 - predictions_counts_loss: 0.0062 - predictions_nuclei_my_accuracy_score: 0.8498 - predictions_nuclei_acc: 0.9935 - predictions_counts_mean_squared_error: 0.0062 - predictions_counts_mean_absolute_error: 0.0502 - val_loss: 0.0867 - val_predictions_nuclei_loss: 0.0716 - val_predictions_counts_loss: 0.0151 - val_predictions_nuclei_my_accuracy_score: 0.7816 - val_predictions_nuclei_acc: 0.9805 - val_predictions_counts_mean_squared_error: 0.0151 - val_predictions_counts_mean_absolute_error: 0.0704\n",
      "Epoch 89/250\n",
      " - 106s - loss: 0.0247 - predictions_nuclei_loss: 0.0190 - predictions_counts_loss: 0.0057 - predictions_nuclei_my_accuracy_score: 0.8539 - predictions_nuclei_acc: 0.9933 - predictions_counts_mean_squared_error: 0.0057 - predictions_counts_mean_absolute_error: 0.0488 - val_loss: 0.0919 - val_predictions_nuclei_loss: 0.0782 - val_predictions_counts_loss: 0.0137 - val_predictions_nuclei_my_accuracy_score: 0.7688 - val_predictions_nuclei_acc: 0.9816 - val_predictions_counts_mean_squared_error: 0.0137 - val_predictions_counts_mean_absolute_error: 0.0708\n"
     ]
    },
    {
     "name": "stdout",
     "output_type": "stream",
     "text": [
      "Epoch 90/250\n",
      " - 106s - loss: 0.0238 - predictions_nuclei_loss: 0.0181 - predictions_counts_loss: 0.0057 - predictions_nuclei_my_accuracy_score: 0.8568 - predictions_nuclei_acc: 0.9940 - predictions_counts_mean_squared_error: 0.0057 - predictions_counts_mean_absolute_error: 0.0489 - val_loss: 0.0920 - val_predictions_nuclei_loss: 0.0747 - val_predictions_counts_loss: 0.0173 - val_predictions_nuclei_my_accuracy_score: 0.7868 - val_predictions_nuclei_acc: 0.9797 - val_predictions_counts_mean_squared_error: 0.0173 - val_predictions_counts_mean_absolute_error: 0.0773\n"
     ]
    }
   ],
   "source": [
    "gerador_treino = EspectraSequence(X_train, [x[0] for x in y_train], [x[1] for x in y_train], batch_size=batch_size)\n",
    "#gerador_imagens(X_train, y_train, batch_size=batch_size)\n",
    "\n",
    "gerador_validacao = EspectraSequence(X_test, [x[0] for x in y_test], [x[1] for x in y_test], batch_size=batch_size)\n",
    "#gerador_imagens(X_test, y_test, batch_size=batch_size)\n",
    "\n",
    "es = keras.callbacks.EarlyStopping(monitor='val_loss',\n",
    "                                   mode='min',\n",
    "                                   patience=10)\n",
    "\n",
    "tb = keras.callbacks.TensorBoard(\n",
    "    log_dir='./logs',\n",
    "    histogram_freq=0,\n",
    "    batch_size=32,\n",
    "    write_graph=True,\n",
    "    #batch_gen=gerador_validacao,\n",
    "    #nb_steps=validation_steps,\n",
    "    update_freq='epoch')\n",
    "\n",
    "#EspectraSequence(X_train, [x[0] for x in y_train], [x[1] for x in y_train], batch_size=8)\n",
    "\n",
    "callbacks = [es, tb]\n",
    "\n",
    "hist = model.fit_generator(generator=gerador_treino,\n",
    "                           steps_per_epoch=steps_per_epoch,\n",
    "                           epochs=epochs,\n",
    "                           verbose=2,\n",
    "                           callbacks=callbacks,\n",
    "                           validation_data=gerador_validacao, #(x_train_val, y_train_val),\n",
    "                           validation_steps=validation_steps,\n",
    "                           shuffle=True)\n"
   ]
  },
  {
   "cell_type": "code",
   "execution_count": 94,
   "metadata": {},
   "outputs": [],
   "source": [
    "from keras.models import save_model\n",
    "save_model(model, 'VGG-19-SGD-classificacao-regressao-PENELOPE.hdf5')"
   ]
  },
  {
   "cell_type": "code",
   "execution_count": 95,
   "metadata": {},
   "outputs": [
    {
     "data": {
      "image/png": "[encoded data removed]",
      "text/plain": [
       "<Figure size 432x288 with 1 Axes>"
      ]
     },
     "metadata": {},
     "output_type": "display_data"
    }
   ],
   "source": [
    "plt.plot(hist.history['predictions_nuclei_my_accuracy_score'])\n",
    "plt.plot(hist.history['val_predictions_nuclei_my_accuracy_score'])\n",
    "plt.title('model accuracy')\n",
    "plt.ylabel('accuracy')\n",
    "plt.xlabel('epoch')\n",
    "plt.legend(['train', 'test'], loc='upper left')\n",
    "plt.show()"
   ]
  },
  {
   "cell_type": "code",
   "execution_count": 96,
   "metadata": {},
   "outputs": [
    {
     "data": {
      "image/png": "[encoded data removed]",
      "text/plain": [
       "<Figure size 432x288 with 1 Axes>"
      ]
     },
     "metadata": {},
     "output_type": "display_data"
    }
   ],
   "source": [
    "plt.plot(hist.history['predictions_counts_mean_squared_error'])\n",
    "plt.plot(hist.history['val_predictions_counts_mean_squared_error'])\n",
    "plt.title('model accuracy')\n",
    "plt.ylabel('coutns mean square error')\n",
    "plt.xlabel('epoch')\n",
    "plt.legend(['train', 'test'], loc='upper right')\n",
    "plt.show()"
   ]
  },
  {
   "cell_type": "code",
   "execution_count": 97,
   "metadata": {},
   "outputs": [
    {
     "data": {
      "image/png": "[encoded data removed]",
      "text/plain": [
       "<Figure size 432x288 with 1 Axes>"
      ]
     },
     "metadata": {},
     "output_type": "display_data"
    }
   ],
   "source": [
    "plt.plot(hist.history['predictions_nuclei_loss'])\n",
    "plt.plot(hist.history['val_predictions_nuclei_loss'])\n",
    "plt.title('model loss')\n",
    "plt.ylabel('loss')\n",
    "plt.xlabel('epoch')\n",
    "plt.legend(['train', 'test'], loc='upper right')\n",
    "plt.show()"
   ]
  },
  {
   "cell_type": "markdown",
   "metadata": {},
   "source": [
    "# Validando nos espectros criados com Penelope"
   ]
  },
  {
   "cell_type": "code",
   "execution_count": null,
   "metadata": {},
   "outputs": [],
   "source": [
    "from keras.utils.vis_utils import plot_model"
   ]
  },
  {
   "cell_type": "code",
   "execution_count": null,
   "metadata": {},
   "outputs": [],
   "source": [
    "#plot_model(model, to_file='model_plot.png', show_shapes=True, show_layer_names=True)"
   ]
  },
  {
   "cell_type": "code",
   "execution_count": 98,
   "metadata": {},
   "outputs": [
    {
     "name": "stdout",
     "output_type": "stream",
     "text": [
      "471\n"
     ]
    },
    {
     "data": {
      "image/png": "[encoded data removed]",
      "text/plain": [
       "<Figure size 1224x122.4 with 2 Axes>"
      ]
     },
     "metadata": {},
     "output_type": "display_data"
    }
   ],
   "source": [
    "#idx_ = np.random.choice(len(gerador_validacao) - 1, 1)[0]\n",
    "print(idx_)\n",
    "x_, aux_ = gerador_validacao[idx_]\n",
    "\n",
    "y_counts = aux_['predictions_counts']\n",
    "y_ = aux_['predictions_nuclei']\n",
    "\n",
    "idx = 3\n",
    "f, axarr = plt.subplots(1, 2, figsize=(17, 1.7))\n",
    "axarr[0].plot(range(len(x_[idx].reshape(-1))),\n",
    "              x_[idx].reshape(-1), 'r')\n",
    "axarr[0].set_yscale(\"log\")\n",
    "\n",
    "axarr[0].set_title(\" with \".join(binarizer.inverse_transform(np.array([y_[idx]]))[0]))\n",
    "axarr[1].imshow(x_[0].reshape((128,128)))\n",
    "\n",
    "plt.grid(False)\n",
    "plt.subplots_adjust(bottom=1.25, top=2.75)\n",
    "plt.show()"
   ]
  },
  {
   "cell_type": "code",
   "execution_count": 99,
   "metadata": {},
   "outputs": [],
   "source": [
    "preds = model.predict(np.array([x_[idx].reshape((128, 128, 1))]))"
   ]
  },
  {
   "cell_type": "code",
   "execution_count": 100,
   "metadata": {},
   "outputs": [
    {
     "data": {
      "text/html": [
       "<div>\n",
       "<style scoped>\n",
       "    .dataframe tbody tr th:only-of-type {\n",
       "        vertical-align: middle;\n",
       "    }\n",
       "\n",
       "    .dataframe tbody tr th {\n",
       "        vertical-align: top;\n",
       "    }\n",
       "\n",
       "    .dataframe thead th {\n",
       "        text-align: right;\n",
       "    }\n",
       "</style>\n",
       "<table border=\"1\" class=\"dataframe\">\n",
       "  <thead>\n",
       "    <tr style=\"text-align: right;\">\n",
       "      <th></th>\n",
       "      <th>radionuclideo</th>\n",
       "      <th>nuclei_score</th>\n",
       "      <th>nuclei_counts</th>\n",
       "      <th>real_counts</th>\n",
       "    </tr>\n",
       "  </thead>\n",
       "  <tbody>\n",
       "    <tr>\n",
       "      <th>0</th>\n",
       "      <td>Am-241</td>\n",
       "      <td>2.02</td>\n",
       "      <td>-12,076.22</td>\n",
       "      <td>0.00</td>\n",
       "    </tr>\n",
       "    <tr>\n",
       "      <th>1</th>\n",
       "      <td>Ba-133</td>\n",
       "      <td>0.00</td>\n",
       "      <td>22,526.71</td>\n",
       "      <td>0.00</td>\n",
       "    </tr>\n",
       "    <tr>\n",
       "      <th>2</th>\n",
       "      <td>Cd-109</td>\n",
       "      <td>83.20</td>\n",
       "      <td>-1,095.28</td>\n",
       "      <td>175.27</td>\n",
       "    </tr>\n",
       "    <tr>\n",
       "      <th>3</th>\n",
       "      <td>Co-57</td>\n",
       "      <td>0.00</td>\n",
       "      <td>-7,265.59</td>\n",
       "      <td>0.00</td>\n",
       "    </tr>\n",
       "    <tr>\n",
       "      <th>4</th>\n",
       "      <td>Co-60</td>\n",
       "      <td>0.00</td>\n",
       "      <td>-38,946.95</td>\n",
       "      <td>-0.00</td>\n",
       "    </tr>\n",
       "    <tr>\n",
       "      <th>5</th>\n",
       "      <td>Cs-137</td>\n",
       "      <td>100.00</td>\n",
       "      <td>272,911.03</td>\n",
       "      <td>299,919.26</td>\n",
       "    </tr>\n",
       "    <tr>\n",
       "      <th>6</th>\n",
       "      <td>Eu-152</td>\n",
       "      <td>0.00</td>\n",
       "      <td>127,130.27</td>\n",
       "      <td>0.00</td>\n",
       "    </tr>\n",
       "    <tr>\n",
       "      <th>7</th>\n",
       "      <td>Mn-54</td>\n",
       "      <td>100.00</td>\n",
       "      <td>1,111,812.62</td>\n",
       "      <td>1,051,984.23</td>\n",
       "    </tr>\n",
       "    <tr>\n",
       "      <th>8</th>\n",
       "      <td>Na-22</td>\n",
       "      <td>0.03</td>\n",
       "      <td>-56,804.11</td>\n",
       "      <td>0.00</td>\n",
       "    </tr>\n",
       "    <tr>\n",
       "      <th>9</th>\n",
       "      <td>Pb-210</td>\n",
       "      <td>0.00</td>\n",
       "      <td>-1,975.68</td>\n",
       "      <td>0.00</td>\n",
       "    </tr>\n",
       "  </tbody>\n",
       "</table>\n",
       "</div>"
      ],
      "text/plain": [
       "  radionuclideo  nuclei_score  nuclei_counts  real_counts\n",
       "0        Am-241          2.02     -12,076.22         0.00\n",
       "1        Ba-133          0.00      22,526.71         0.00\n",
       "2        Cd-109         83.20      -1,095.28       175.27\n",
       "3         Co-57          0.00      -7,265.59         0.00\n",
       "4         Co-60          0.00     -38,946.95        -0.00\n",
       "5        Cs-137        100.00     272,911.03   299,919.26\n",
       "6        Eu-152          0.00     127,130.27         0.00\n",
       "7         Mn-54        100.00   1,111,812.62 1,051,984.23\n",
       "8         Na-22          0.03     -56,804.11         0.00\n",
       "9        Pb-210          0.00      -1,975.68         0.00"
      ]
     },
     "execution_count": 100,
     "metadata": {},
     "output_type": "execute_result"
    }
   ],
   "source": [
    "df = pd.DataFrame({'radionuclideo':binarizer.classes_,\n",
    "                   'nuclei_score': preds[0][0]*100,\n",
    "                   'nuclei_counts': scaler.inverse_transform(preds[1][0]),\n",
    "                   'real_counts': scaler.inverse_transform(y_counts[idx])})\n",
    "df"
   ]
  },
  {
   "cell_type": "code",
   "execution_count": null,
   "metadata": {},
   "outputs": [],
   "source": [
    "# Criar uma massa de dados simulando com papel ao invés de água\n",
    "# Corrigir as contagens na entrada pela eficiência da similação\n",
    "# Re-treinar"
   ]
  },
  {
   "cell_type": "markdown",
   "metadata": {},
   "source": [
    "# Validando nos espectros experimentais"
   ]
  },
  {
   "cell_type": "code",
   "execution_count": 101,
   "metadata": {},
   "outputs": [],
   "source": [
    "def obtem_dados_dos_canais(linhas):\n",
    "    dados = []\n",
    "    pode_comecar = False\n",
    "    for linha in linhas:\n",
    "        if linha == \"A004USERDEFINED                                                     \\n\":\n",
    "            pode_comecar = True\n",
    "            continue\n",
    "        if pode_comecar:\n",
    "            aux = linha.strip().split()\n",
    "            if int(aux[1]) % 5:\n",
    "                print(\"oi!\")\n",
    "            dados.extend([float(x) for x in aux[2:]])\n",
    "    return dados[1:]"
   ]
  },
  {
   "cell_type": "code",
   "execution_count": 102,
   "metadata": {},
   "outputs": [
    {
     "name": "stdout",
     "output_type": "stream",
     "text": [
      "Am-241 - BG.IEC\n",
      "Ba-133 - BG.IEC\n",
      "Cd-109 - BG.IEC\n",
      "Co-57 - BG.IEC\n",
      "Co-60 - BG.IEC\n",
      "Cs-137 - BG.IEC\n",
      "Eu-152 - BG.IEC\n",
      "Mn-54 - BG.IEC\n",
      "Na-22 - BG.IEC\n",
      "Pb-210 - BG.IEC\n"
     ]
    }
   ],
   "source": [
    "arquivos = ['Am-241 - BG.IEC',\n",
    "            'Ba-133 - BG.IEC',\n",
    "            'Cd-109 - BG.IEC',\n",
    "            'Co-57 - BG.IEC',\n",
    "            'Co-60 - BG.IEC',\n",
    "            'Cs-137 - BG.IEC',\n",
    "            'Eu-152 - BG.IEC',\n",
    "            'Mn-54 - BG.IEC',\n",
    "            'Na-22 - BG.IEC',\n",
    "            'Pb-210 - BG.IEC',]\n",
    "\n",
    "df_nuclideos = dict()\n",
    "img_espectros = dict()\n",
    "img_convertidos = dict()\n",
    "images = dict()\n",
    "\n",
    "for arquivo in arquivos:\n",
    "    print(arquivo)\n",
    "    dados = []\n",
    "\n",
    "    with open('/export/ipen/artigo/ICDA-3/Espectros/Experimentos/17-Maio-2018/Espectros/{0}'.format(arquivo), 'r') as f:\n",
    "        dados = f.readlines()\n",
    "    dados = obtem_dados_dos_canais(dados)\n",
    "    df = pd.DataFrame({'channel': range(0, len(dados)), 'counts' : dados})\n",
    "    df_nuclideos[arquivo] = df.copy()\n",
    "    img_convertidos[arquivo] = np.array(dados).reshape((128, 128)).copy()\n",
    "    images[arquivo.split(' ')[0]] = np.array(dados).reshape((128, 128)).copy()"
   ]
  },
  {
   "cell_type": "code",
   "execution_count": null,
   "metadata": {},
   "outputs": [],
   "source": [
    "f, axarr = plt.subplots(10, 2, figsize=(15,25))\n",
    "for n, arquivo in enumerate(arquivos):\n",
    "    df = df_nuclideos[arquivo]\n",
    "    axarr[n, 0].plot(df['channel'], df['counts'], 'r')\n",
    "    axarr[n, 0].set_title(\"Espectro : {0}\".format(arquivo))\n",
    "    \n",
    "    axarr[n, 1].imshow(img_convertidos[arquivo])\n",
    "    #axarr[n, 1].set_title(\"Como Imagem : {0}\".format(arquivo))\n",
    "    \n",
    "plt.grid(False)\n",
    "plt.subplots_adjust(bottom=1.25, top=2.75)\n",
    "plt.show()"
   ]
  },
  {
   "cell_type": "code",
   "execution_count": 103,
   "metadata": {},
   "outputs": [
    {
     "data": {
      "text/html": [
       "<div>\n",
       "<style scoped>\n",
       "    .dataframe tbody tr th:only-of-type {\n",
       "        vertical-align: middle;\n",
       "    }\n",
       "\n",
       "    .dataframe tbody tr th {\n",
       "        vertical-align: top;\n",
       "    }\n",
       "\n",
       "    .dataframe thead th {\n",
       "        text-align: right;\n",
       "    }\n",
       "</style>\n",
       "<table border=\"1\" class=\"dataframe\">\n",
       "  <thead>\n",
       "    <tr style=\"text-align: right;\">\n",
       "      <th></th>\n",
       "      <th>radionuclideo</th>\n",
       "      <th>nuclei_score</th>\n",
       "      <th>nuclei_counts</th>\n",
       "      <th>real_counts</th>\n",
       "    </tr>\n",
       "  </thead>\n",
       "  <tbody>\n",
       "    <tr>\n",
       "      <th>0</th>\n",
       "      <td>Am-241</td>\n",
       "      <td>100.00</td>\n",
       "      <td>156,843.97</td>\n",
       "      <td>141,596.00</td>\n",
       "    </tr>\n",
       "    <tr>\n",
       "      <th>1</th>\n",
       "      <td>Ba-133</td>\n",
       "      <td>0.00</td>\n",
       "      <td>6,547.49</td>\n",
       "      <td>141,596.00</td>\n",
       "    </tr>\n",
       "    <tr>\n",
       "      <th>2</th>\n",
       "      <td>Cd-109</td>\n",
       "      <td>0.44</td>\n",
       "      <td>509.56</td>\n",
       "      <td>141,596.00</td>\n",
       "    </tr>\n",
       "    <tr>\n",
       "      <th>3</th>\n",
       "      <td>Co-57</td>\n",
       "      <td>1.16</td>\n",
       "      <td>-282.09</td>\n",
       "      <td>141,596.00</td>\n",
       "    </tr>\n",
       "    <tr>\n",
       "      <th>4</th>\n",
       "      <td>Co-60</td>\n",
       "      <td>0.00</td>\n",
       "      <td>-38,092.17</td>\n",
       "      <td>141,596.00</td>\n",
       "    </tr>\n",
       "    <tr>\n",
       "      <th>5</th>\n",
       "      <td>Cs-137</td>\n",
       "      <td>0.00</td>\n",
       "      <td>-6,542.53</td>\n",
       "      <td>141,596.00</td>\n",
       "    </tr>\n",
       "    <tr>\n",
       "      <th>6</th>\n",
       "      <td>Eu-152</td>\n",
       "      <td>0.00</td>\n",
       "      <td>-227.77</td>\n",
       "      <td>141,596.00</td>\n",
       "    </tr>\n",
       "    <tr>\n",
       "      <th>7</th>\n",
       "      <td>Mn-54</td>\n",
       "      <td>0.01</td>\n",
       "      <td>-2,027.15</td>\n",
       "      <td>141,596.00</td>\n",
       "    </tr>\n",
       "    <tr>\n",
       "      <th>8</th>\n",
       "      <td>Na-22</td>\n",
       "      <td>0.00</td>\n",
       "      <td>-31,816.06</td>\n",
       "      <td>141,596.00</td>\n",
       "    </tr>\n",
       "    <tr>\n",
       "      <th>9</th>\n",
       "      <td>Pb-210</td>\n",
       "      <td>0.05</td>\n",
       "      <td>-987.20</td>\n",
       "      <td>141,596.00</td>\n",
       "    </tr>\n",
       "  </tbody>\n",
       "</table>\n",
       "</div>"
      ],
      "text/plain": [
       "  radionuclideo  nuclei_score  nuclei_counts  real_counts\n",
       "0        Am-241        100.00     156,843.97   141,596.00\n",
       "1        Ba-133          0.00       6,547.49   141,596.00\n",
       "2        Cd-109          0.44         509.56   141,596.00\n",
       "3         Co-57          1.16        -282.09   141,596.00\n",
       "4         Co-60          0.00     -38,092.17   141,596.00\n",
       "5        Cs-137          0.00      -6,542.53   141,596.00\n",
       "6        Eu-152          0.00        -227.77   141,596.00\n",
       "7         Mn-54          0.01      -2,027.15   141,596.00\n",
       "8         Na-22          0.00     -31,816.06   141,596.00\n",
       "9        Pb-210          0.05        -987.20   141,596.00"
      ]
     },
     "execution_count": 103,
     "metadata": {},
     "output_type": "execute_result"
    }
   ],
   "source": [
    "preds = model.predict(np.array([images['Am-241'].reshape((128, 128, 1))]))\n",
    "\n",
    "df = pd.DataFrame({'radionuclideo':binarizer.classes_,\n",
    "                   'nuclei_score': preds[0][0]*100,\n",
    "                   'nuclei_counts': scaler.inverse_transform(preds[1][0]),\n",
    "                   'real_counts': np.sum(images['Am-241'])})\n",
    "df"
   ]
  },
  {
   "cell_type": "code",
   "execution_count": 104,
   "metadata": {},
   "outputs": [
    {
     "data": {
      "text/html": [
       "<div>\n",
       "<style scoped>\n",
       "    .dataframe tbody tr th:only-of-type {\n",
       "        vertical-align: middle;\n",
       "    }\n",
       "\n",
       "    .dataframe tbody tr th {\n",
       "        vertical-align: top;\n",
       "    }\n",
       "\n",
       "    .dataframe thead th {\n",
       "        text-align: right;\n",
       "    }\n",
       "</style>\n",
       "<table border=\"1\" class=\"dataframe\">\n",
       "  <thead>\n",
       "    <tr style=\"text-align: right;\">\n",
       "      <th></th>\n",
       "      <th>radionuclideo</th>\n",
       "      <th>nuclei_score</th>\n",
       "      <th>nuclei_counts</th>\n",
       "      <th>real_counts</th>\n",
       "    </tr>\n",
       "  </thead>\n",
       "  <tbody>\n",
       "    <tr>\n",
       "      <th>0</th>\n",
       "      <td>Am-241</td>\n",
       "      <td>0.00</td>\n",
       "      <td>171.72</td>\n",
       "      <td>35,319.00</td>\n",
       "    </tr>\n",
       "    <tr>\n",
       "      <th>1</th>\n",
       "      <td>Ba-133</td>\n",
       "      <td>100.00</td>\n",
       "      <td>46,870.61</td>\n",
       "      <td>35,319.00</td>\n",
       "    </tr>\n",
       "    <tr>\n",
       "      <th>2</th>\n",
       "      <td>Cd-109</td>\n",
       "      <td>1.94</td>\n",
       "      <td>-62.01</td>\n",
       "      <td>35,319.00</td>\n",
       "    </tr>\n",
       "    <tr>\n",
       "      <th>3</th>\n",
       "      <td>Co-57</td>\n",
       "      <td>1.68</td>\n",
       "      <td>-837.80</td>\n",
       "      <td>35,319.00</td>\n",
       "    </tr>\n",
       "    <tr>\n",
       "      <th>4</th>\n",
       "      <td>Co-60</td>\n",
       "      <td>0.00</td>\n",
       "      <td>-17,243.89</td>\n",
       "      <td>35,319.00</td>\n",
       "    </tr>\n",
       "    <tr>\n",
       "      <th>5</th>\n",
       "      <td>Cs-137</td>\n",
       "      <td>0.00</td>\n",
       "      <td>4,677.87</td>\n",
       "      <td>35,319.00</td>\n",
       "    </tr>\n",
       "    <tr>\n",
       "      <th>6</th>\n",
       "      <td>Eu-152</td>\n",
       "      <td>0.00</td>\n",
       "      <td>-3,583.81</td>\n",
       "      <td>35,319.00</td>\n",
       "    </tr>\n",
       "    <tr>\n",
       "      <th>7</th>\n",
       "      <td>Mn-54</td>\n",
       "      <td>0.12</td>\n",
       "      <td>-1,094.93</td>\n",
       "      <td>35,319.00</td>\n",
       "    </tr>\n",
       "    <tr>\n",
       "      <th>8</th>\n",
       "      <td>Na-22</td>\n",
       "      <td>0.00</td>\n",
       "      <td>-12,982.70</td>\n",
       "      <td>35,319.00</td>\n",
       "    </tr>\n",
       "    <tr>\n",
       "      <th>9</th>\n",
       "      <td>Pb-210</td>\n",
       "      <td>0.42</td>\n",
       "      <td>224.96</td>\n",
       "      <td>35,319.00</td>\n",
       "    </tr>\n",
       "  </tbody>\n",
       "</table>\n",
       "</div>"
      ],
      "text/plain": [
       "  radionuclideo  nuclei_score  nuclei_counts  real_counts\n",
       "0        Am-241          0.00         171.72    35,319.00\n",
       "1        Ba-133        100.00      46,870.61    35,319.00\n",
       "2        Cd-109          1.94         -62.01    35,319.00\n",
       "3         Co-57          1.68        -837.80    35,319.00\n",
       "4         Co-60          0.00     -17,243.89    35,319.00\n",
       "5        Cs-137          0.00       4,677.87    35,319.00\n",
       "6        Eu-152          0.00      -3,583.81    35,319.00\n",
       "7         Mn-54          0.12      -1,094.93    35,319.00\n",
       "8         Na-22          0.00     -12,982.70    35,319.00\n",
       "9        Pb-210          0.42         224.96    35,319.00"
      ]
     },
     "execution_count": 104,
     "metadata": {},
     "output_type": "execute_result"
    }
   ],
   "source": [
    "validation_nuclei = 'Ba-133'\n",
    "preds = model.predict(np.array([images[validation_nuclei].reshape((128, 128, 1))]))\n",
    "\n",
    "df = pd.DataFrame({'radionuclideo':binarizer.classes_,\n",
    "                   'nuclei_score': preds[0][0]*100,\n",
    "                   'nuclei_counts': scaler.inverse_transform(preds[1][0]),\n",
    "                   'real_counts': np.sum(images[validation_nuclei])})\n",
    "df"
   ]
  },
  {
   "cell_type": "code",
   "execution_count": 105,
   "metadata": {},
   "outputs": [
    {
     "data": {
      "text/html": [
       "<div>\n",
       "<style scoped>\n",
       "    .dataframe tbody tr th:only-of-type {\n",
       "        vertical-align: middle;\n",
       "    }\n",
       "\n",
       "    .dataframe tbody tr th {\n",
       "        vertical-align: top;\n",
       "    }\n",
       "\n",
       "    .dataframe thead th {\n",
       "        text-align: right;\n",
       "    }\n",
       "</style>\n",
       "<table border=\"1\" class=\"dataframe\">\n",
       "  <thead>\n",
       "    <tr style=\"text-align: right;\">\n",
       "      <th></th>\n",
       "      <th>radionuclideo</th>\n",
       "      <th>nuclei_score</th>\n",
       "      <th>nuclei_counts</th>\n",
       "      <th>real_counts</th>\n",
       "    </tr>\n",
       "  </thead>\n",
       "  <tbody>\n",
       "    <tr>\n",
       "      <th>0</th>\n",
       "      <td>Am-241</td>\n",
       "      <td>0.00</td>\n",
       "      <td>-2,815.64</td>\n",
       "      <td>7,195.00</td>\n",
       "    </tr>\n",
       "    <tr>\n",
       "      <th>1</th>\n",
       "      <td>Ba-133</td>\n",
       "      <td>0.00</td>\n",
       "      <td>1,747.57</td>\n",
       "      <td>7,195.00</td>\n",
       "    </tr>\n",
       "    <tr>\n",
       "      <th>2</th>\n",
       "      <td>Cd-109</td>\n",
       "      <td>95.63</td>\n",
       "      <td>19,246.24</td>\n",
       "      <td>7,195.00</td>\n",
       "    </tr>\n",
       "    <tr>\n",
       "      <th>3</th>\n",
       "      <td>Co-57</td>\n",
       "      <td>0.01</td>\n",
       "      <td>480.93</td>\n",
       "      <td>7,195.00</td>\n",
       "    </tr>\n",
       "    <tr>\n",
       "      <th>4</th>\n",
       "      <td>Co-60</td>\n",
       "      <td>0.00</td>\n",
       "      <td>-23,832.84</td>\n",
       "      <td>7,195.00</td>\n",
       "    </tr>\n",
       "    <tr>\n",
       "      <th>5</th>\n",
       "      <td>Cs-137</td>\n",
       "      <td>0.00</td>\n",
       "      <td>992.91</td>\n",
       "      <td>7,195.00</td>\n",
       "    </tr>\n",
       "    <tr>\n",
       "      <th>6</th>\n",
       "      <td>Eu-152</td>\n",
       "      <td>0.00</td>\n",
       "      <td>-14,773.09</td>\n",
       "      <td>7,195.00</td>\n",
       "    </tr>\n",
       "    <tr>\n",
       "      <th>7</th>\n",
       "      <td>Mn-54</td>\n",
       "      <td>0.02</td>\n",
       "      <td>-12,043.12</td>\n",
       "      <td>7,195.00</td>\n",
       "    </tr>\n",
       "    <tr>\n",
       "      <th>8</th>\n",
       "      <td>Na-22</td>\n",
       "      <td>0.00</td>\n",
       "      <td>-35,888.12</td>\n",
       "      <td>7,195.00</td>\n",
       "    </tr>\n",
       "    <tr>\n",
       "      <th>9</th>\n",
       "      <td>Pb-210</td>\n",
       "      <td>0.00</td>\n",
       "      <td>152.26</td>\n",
       "      <td>7,195.00</td>\n",
       "    </tr>\n",
       "  </tbody>\n",
       "</table>\n",
       "</div>"
      ],
      "text/plain": [
       "  radionuclideo  nuclei_score  nuclei_counts  real_counts\n",
       "0        Am-241          0.00      -2,815.64     7,195.00\n",
       "1        Ba-133          0.00       1,747.57     7,195.00\n",
       "2        Cd-109         95.63      19,246.24     7,195.00\n",
       "3         Co-57          0.01         480.93     7,195.00\n",
       "4         Co-60          0.00     -23,832.84     7,195.00\n",
       "5        Cs-137          0.00         992.91     7,195.00\n",
       "6        Eu-152          0.00     -14,773.09     7,195.00\n",
       "7         Mn-54          0.02     -12,043.12     7,195.00\n",
       "8         Na-22          0.00     -35,888.12     7,195.00\n",
       "9        Pb-210          0.00         152.26     7,195.00"
      ]
     },
     "execution_count": 105,
     "metadata": {},
     "output_type": "execute_result"
    }
   ],
   "source": [
    "validation_nuclei = 'Cd-109'\n",
    "preds = model.predict(np.array([images[validation_nuclei].reshape((128, 128, 1))]))\n",
    "\n",
    "df = pd.DataFrame({'radionuclideo':binarizer.classes_,\n",
    "                   'nuclei_score': preds[0][0]*100,\n",
    "                   'nuclei_counts': scaler.inverse_transform(preds[1][0]),\n",
    "                   'real_counts': np.sum(images[validation_nuclei])})\n",
    "df"
   ]
  },
  {
   "cell_type": "code",
   "execution_count": 106,
   "metadata": {},
   "outputs": [
    {
     "data": {
      "text/html": [
       "<div>\n",
       "<style scoped>\n",
       "    .dataframe tbody tr th:only-of-type {\n",
       "        vertical-align: middle;\n",
       "    }\n",
       "\n",
       "    .dataframe tbody tr th {\n",
       "        vertical-align: top;\n",
       "    }\n",
       "\n",
       "    .dataframe thead th {\n",
       "        text-align: right;\n",
       "    }\n",
       "</style>\n",
       "<table border=\"1\" class=\"dataframe\">\n",
       "  <thead>\n",
       "    <tr style=\"text-align: right;\">\n",
       "      <th></th>\n",
       "      <th>radionuclideo</th>\n",
       "      <th>nuclei_score</th>\n",
       "      <th>nuclei_counts</th>\n",
       "      <th>real_counts</th>\n",
       "    </tr>\n",
       "  </thead>\n",
       "  <tbody>\n",
       "    <tr>\n",
       "      <th>0</th>\n",
       "      <td>Am-241</td>\n",
       "      <td>0.00</td>\n",
       "      <td>21.66</td>\n",
       "      <td>7,323.00</td>\n",
       "    </tr>\n",
       "    <tr>\n",
       "      <th>1</th>\n",
       "      <td>Ba-133</td>\n",
       "      <td>0.00</td>\n",
       "      <td>1,414.46</td>\n",
       "      <td>7,323.00</td>\n",
       "    </tr>\n",
       "    <tr>\n",
       "      <th>2</th>\n",
       "      <td>Cd-109</td>\n",
       "      <td>0.11</td>\n",
       "      <td>271.20</td>\n",
       "      <td>7,323.00</td>\n",
       "    </tr>\n",
       "    <tr>\n",
       "      <th>3</th>\n",
       "      <td>Co-57</td>\n",
       "      <td>97.72</td>\n",
       "      <td>20,450.46</td>\n",
       "      <td>7,323.00</td>\n",
       "    </tr>\n",
       "    <tr>\n",
       "      <th>4</th>\n",
       "      <td>Co-60</td>\n",
       "      <td>0.00</td>\n",
       "      <td>-23,692.70</td>\n",
       "      <td>7,323.00</td>\n",
       "    </tr>\n",
       "    <tr>\n",
       "      <th>5</th>\n",
       "      <td>Cs-137</td>\n",
       "      <td>0.00</td>\n",
       "      <td>-3,052.72</td>\n",
       "      <td>7,323.00</td>\n",
       "    </tr>\n",
       "    <tr>\n",
       "      <th>6</th>\n",
       "      <td>Eu-152</td>\n",
       "      <td>0.00</td>\n",
       "      <td>3,158.72</td>\n",
       "      <td>7,323.00</td>\n",
       "    </tr>\n",
       "    <tr>\n",
       "      <th>7</th>\n",
       "      <td>Mn-54</td>\n",
       "      <td>0.07</td>\n",
       "      <td>-7,619.23</td>\n",
       "      <td>7,323.00</td>\n",
       "    </tr>\n",
       "    <tr>\n",
       "      <th>8</th>\n",
       "      <td>Na-22</td>\n",
       "      <td>0.00</td>\n",
       "      <td>1,821.89</td>\n",
       "      <td>7,323.00</td>\n",
       "    </tr>\n",
       "    <tr>\n",
       "      <th>9</th>\n",
       "      <td>Pb-210</td>\n",
       "      <td>0.00</td>\n",
       "      <td>-247.46</td>\n",
       "      <td>7,323.00</td>\n",
       "    </tr>\n",
       "  </tbody>\n",
       "</table>\n",
       "</div>"
      ],
      "text/plain": [
       "  radionuclideo  nuclei_score  nuclei_counts  real_counts\n",
       "0        Am-241          0.00          21.66     7,323.00\n",
       "1        Ba-133          0.00       1,414.46     7,323.00\n",
       "2        Cd-109          0.11         271.20     7,323.00\n",
       "3         Co-57         97.72      20,450.46     7,323.00\n",
       "4         Co-60          0.00     -23,692.70     7,323.00\n",
       "5        Cs-137          0.00      -3,052.72     7,323.00\n",
       "6        Eu-152          0.00       3,158.72     7,323.00\n",
       "7         Mn-54          0.07      -7,619.23     7,323.00\n",
       "8         Na-22          0.00       1,821.89     7,323.00\n",
       "9        Pb-210          0.00        -247.46     7,323.00"
      ]
     },
     "execution_count": 106,
     "metadata": {},
     "output_type": "execute_result"
    }
   ],
   "source": [
    "validation_nuclei = 'Co-57'\n",
    "preds = model.predict(np.array([images[validation_nuclei].reshape((128, 128, 1))]))\n",
    "\n",
    "df = pd.DataFrame({'radionuclideo':binarizer.classes_,\n",
    "                   'nuclei_score': preds[0][0]*100,\n",
    "                   'nuclei_counts': scaler.inverse_transform(preds[1][0]),\n",
    "                   'real_counts': np.sum(images[validation_nuclei])})\n",
    "df"
   ]
  },
  {
   "cell_type": "code",
   "execution_count": 107,
   "metadata": {},
   "outputs": [
    {
     "data": {
      "text/html": [
       "<div>\n",
       "<style scoped>\n",
       "    .dataframe tbody tr th:only-of-type {\n",
       "        vertical-align: middle;\n",
       "    }\n",
       "\n",
       "    .dataframe tbody tr th {\n",
       "        vertical-align: top;\n",
       "    }\n",
       "\n",
       "    .dataframe thead th {\n",
       "        text-align: right;\n",
       "    }\n",
       "</style>\n",
       "<table border=\"1\" class=\"dataframe\">\n",
       "  <thead>\n",
       "    <tr style=\"text-align: right;\">\n",
       "      <th></th>\n",
       "      <th>radionuclideo</th>\n",
       "      <th>nuclei_score</th>\n",
       "      <th>nuclei_counts</th>\n",
       "      <th>real_counts</th>\n",
       "    </tr>\n",
       "  </thead>\n",
       "  <tbody>\n",
       "    <tr>\n",
       "      <th>0</th>\n",
       "      <td>Am-241</td>\n",
       "      <td>0.00</td>\n",
       "      <td>-969.98</td>\n",
       "      <td>155,643.00</td>\n",
       "    </tr>\n",
       "    <tr>\n",
       "      <th>1</th>\n",
       "      <td>Ba-133</td>\n",
       "      <td>0.00</td>\n",
       "      <td>-2,468.46</td>\n",
       "      <td>155,643.00</td>\n",
       "    </tr>\n",
       "    <tr>\n",
       "      <th>2</th>\n",
       "      <td>Cd-109</td>\n",
       "      <td>0.03</td>\n",
       "      <td>518.89</td>\n",
       "      <td>155,643.00</td>\n",
       "    </tr>\n",
       "    <tr>\n",
       "      <th>3</th>\n",
       "      <td>Co-57</td>\n",
       "      <td>0.05</td>\n",
       "      <td>411.13</td>\n",
       "      <td>155,643.00</td>\n",
       "    </tr>\n",
       "    <tr>\n",
       "      <th>4</th>\n",
       "      <td>Co-60</td>\n",
       "      <td>100.00</td>\n",
       "      <td>178,747.75</td>\n",
       "      <td>155,643.00</td>\n",
       "    </tr>\n",
       "    <tr>\n",
       "      <th>5</th>\n",
       "      <td>Cs-137</td>\n",
       "      <td>0.00</td>\n",
       "      <td>8,588.97</td>\n",
       "      <td>155,643.00</td>\n",
       "    </tr>\n",
       "    <tr>\n",
       "      <th>6</th>\n",
       "      <td>Eu-152</td>\n",
       "      <td>0.00</td>\n",
       "      <td>37,479.48</td>\n",
       "      <td>155,643.00</td>\n",
       "    </tr>\n",
       "    <tr>\n",
       "      <th>7</th>\n",
       "      <td>Mn-54</td>\n",
       "      <td>0.07</td>\n",
       "      <td>5,974.80</td>\n",
       "      <td>155,643.00</td>\n",
       "    </tr>\n",
       "    <tr>\n",
       "      <th>8</th>\n",
       "      <td>Na-22</td>\n",
       "      <td>0.00</td>\n",
       "      <td>-7,828.39</td>\n",
       "      <td>155,643.00</td>\n",
       "    </tr>\n",
       "    <tr>\n",
       "      <th>9</th>\n",
       "      <td>Pb-210</td>\n",
       "      <td>0.00</td>\n",
       "      <td>-125.08</td>\n",
       "      <td>155,643.00</td>\n",
       "    </tr>\n",
       "  </tbody>\n",
       "</table>\n",
       "</div>"
      ],
      "text/plain": [
       "  radionuclideo  nuclei_score  nuclei_counts  real_counts\n",
       "0        Am-241          0.00        -969.98   155,643.00\n",
       "1        Ba-133          0.00      -2,468.46   155,643.00\n",
       "2        Cd-109          0.03         518.89   155,643.00\n",
       "3         Co-57          0.05         411.13   155,643.00\n",
       "4         Co-60        100.00     178,747.75   155,643.00\n",
       "5        Cs-137          0.00       8,588.97   155,643.00\n",
       "6        Eu-152          0.00      37,479.48   155,643.00\n",
       "7         Mn-54          0.07       5,974.80   155,643.00\n",
       "8         Na-22          0.00      -7,828.39   155,643.00\n",
       "9        Pb-210          0.00        -125.08   155,643.00"
      ]
     },
     "execution_count": 107,
     "metadata": {},
     "output_type": "execute_result"
    }
   ],
   "source": [
    "validation_nuclei = 'Co-60'\n",
    "preds = model.predict(np.array([images[validation_nuclei].reshape((128, 128, 1))]))\n",
    "\n",
    "df = pd.DataFrame({'radionuclideo':binarizer.classes_,\n",
    "                   'nuclei_score': preds[0][0]*100,\n",
    "                   'nuclei_counts': scaler.inverse_transform(preds[1][0]),\n",
    "                   'real_counts': np.sum(images[validation_nuclei])})\n",
    "df"
   ]
  },
  {
   "cell_type": "code",
   "execution_count": 108,
   "metadata": {},
   "outputs": [
    {
     "data": {
      "text/html": [
       "<div>\n",
       "<style scoped>\n",
       "    .dataframe tbody tr th:only-of-type {\n",
       "        vertical-align: middle;\n",
       "    }\n",
       "\n",
       "    .dataframe tbody tr th {\n",
       "        vertical-align: top;\n",
       "    }\n",
       "\n",
       "    .dataframe thead th {\n",
       "        text-align: right;\n",
       "    }\n",
       "</style>\n",
       "<table border=\"1\" class=\"dataframe\">\n",
       "  <thead>\n",
       "    <tr style=\"text-align: right;\">\n",
       "      <th></th>\n",
       "      <th>radionuclideo</th>\n",
       "      <th>nuclei_score</th>\n",
       "      <th>nuclei_counts</th>\n",
       "      <th>real_counts</th>\n",
       "    </tr>\n",
       "  </thead>\n",
       "  <tbody>\n",
       "    <tr>\n",
       "      <th>0</th>\n",
       "      <td>Am-241</td>\n",
       "      <td>0.00</td>\n",
       "      <td>-5,997.64</td>\n",
       "      <td>188,461.00</td>\n",
       "    </tr>\n",
       "    <tr>\n",
       "      <th>1</th>\n",
       "      <td>Ba-133</td>\n",
       "      <td>0.04</td>\n",
       "      <td>2,226.51</td>\n",
       "      <td>188,461.00</td>\n",
       "    </tr>\n",
       "    <tr>\n",
       "      <th>2</th>\n",
       "      <td>Cd-109</td>\n",
       "      <td>0.04</td>\n",
       "      <td>-403.09</td>\n",
       "      <td>188,461.00</td>\n",
       "    </tr>\n",
       "    <tr>\n",
       "      <th>3</th>\n",
       "      <td>Co-57</td>\n",
       "      <td>0.14</td>\n",
       "      <td>-2,497.73</td>\n",
       "      <td>188,461.00</td>\n",
       "    </tr>\n",
       "    <tr>\n",
       "      <th>4</th>\n",
       "      <td>Co-60</td>\n",
       "      <td>0.00</td>\n",
       "      <td>8,206.91</td>\n",
       "      <td>188,461.00</td>\n",
       "    </tr>\n",
       "    <tr>\n",
       "      <th>5</th>\n",
       "      <td>Cs-137</td>\n",
       "      <td>100.00</td>\n",
       "      <td>212,503.97</td>\n",
       "      <td>188,461.00</td>\n",
       "    </tr>\n",
       "    <tr>\n",
       "      <th>6</th>\n",
       "      <td>Eu-152</td>\n",
       "      <td>0.00</td>\n",
       "      <td>13,928.09</td>\n",
       "      <td>188,461.00</td>\n",
       "    </tr>\n",
       "    <tr>\n",
       "      <th>7</th>\n",
       "      <td>Mn-54</td>\n",
       "      <td>0.03</td>\n",
       "      <td>7,649.65</td>\n",
       "      <td>188,461.00</td>\n",
       "    </tr>\n",
       "    <tr>\n",
       "      <th>8</th>\n",
       "      <td>Na-22</td>\n",
       "      <td>0.03</td>\n",
       "      <td>5,069.48</td>\n",
       "      <td>188,461.00</td>\n",
       "    </tr>\n",
       "    <tr>\n",
       "      <th>9</th>\n",
       "      <td>Pb-210</td>\n",
       "      <td>0.00</td>\n",
       "      <td>-2,084.36</td>\n",
       "      <td>188,461.00</td>\n",
       "    </tr>\n",
       "  </tbody>\n",
       "</table>\n",
       "</div>"
      ],
      "text/plain": [
       "  radionuclideo  nuclei_score  nuclei_counts  real_counts\n",
       "0        Am-241          0.00      -5,997.64   188,461.00\n",
       "1        Ba-133          0.04       2,226.51   188,461.00\n",
       "2        Cd-109          0.04        -403.09   188,461.00\n",
       "3         Co-57          0.14      -2,497.73   188,461.00\n",
       "4         Co-60          0.00       8,206.91   188,461.00\n",
       "5        Cs-137        100.00     212,503.97   188,461.00\n",
       "6        Eu-152          0.00      13,928.09   188,461.00\n",
       "7         Mn-54          0.03       7,649.65   188,461.00\n",
       "8         Na-22          0.03       5,069.48   188,461.00\n",
       "9        Pb-210          0.00      -2,084.36   188,461.00"
      ]
     },
     "execution_count": 108,
     "metadata": {},
     "output_type": "execute_result"
    }
   ],
   "source": [
    "validation_nuclei = 'Cs-137'\n",
    "preds = model.predict(np.array([images[validation_nuclei].reshape((128, 128, 1))]))\n",
    "\n",
    "df = pd.DataFrame({'radionuclideo':binarizer.classes_,\n",
    "                   'nuclei_score': preds[0][0]*100,\n",
    "                   'nuclei_counts': scaler.inverse_transform(preds[1][0]),\n",
    "                   'real_counts': np.sum(images[validation_nuclei])})\n",
    "df"
   ]
  },
  {
   "cell_type": "code",
   "execution_count": 109,
   "metadata": {},
   "outputs": [
    {
     "data": {
      "text/html": [
       "<div>\n",
       "<style scoped>\n",
       "    .dataframe tbody tr th:only-of-type {\n",
       "        vertical-align: middle;\n",
       "    }\n",
       "\n",
       "    .dataframe tbody tr th {\n",
       "        vertical-align: top;\n",
       "    }\n",
       "\n",
       "    .dataframe thead th {\n",
       "        text-align: right;\n",
       "    }\n",
       "</style>\n",
       "<table border=\"1\" class=\"dataframe\">\n",
       "  <thead>\n",
       "    <tr style=\"text-align: right;\">\n",
       "      <th></th>\n",
       "      <th>radionuclideo</th>\n",
       "      <th>nuclei_score</th>\n",
       "      <th>nuclei_counts</th>\n",
       "      <th>real_counts</th>\n",
       "    </tr>\n",
       "  </thead>\n",
       "  <tbody>\n",
       "    <tr>\n",
       "      <th>0</th>\n",
       "      <td>Am-241</td>\n",
       "      <td>0.78</td>\n",
       "      <td>-867.70</td>\n",
       "      <td>94,419.00</td>\n",
       "    </tr>\n",
       "    <tr>\n",
       "      <th>1</th>\n",
       "      <td>Ba-133</td>\n",
       "      <td>0.07</td>\n",
       "      <td>-5,084.54</td>\n",
       "      <td>94,419.00</td>\n",
       "    </tr>\n",
       "    <tr>\n",
       "      <th>2</th>\n",
       "      <td>Cd-109</td>\n",
       "      <td>0.24</td>\n",
       "      <td>-252.42</td>\n",
       "      <td>94,419.00</td>\n",
       "    </tr>\n",
       "    <tr>\n",
       "      <th>3</th>\n",
       "      <td>Co-57</td>\n",
       "      <td>4.27</td>\n",
       "      <td>3,677.73</td>\n",
       "      <td>94,419.00</td>\n",
       "    </tr>\n",
       "    <tr>\n",
       "      <th>4</th>\n",
       "      <td>Co-60</td>\n",
       "      <td>0.00</td>\n",
       "      <td>-5,680.00</td>\n",
       "      <td>94,419.00</td>\n",
       "    </tr>\n",
       "    <tr>\n",
       "      <th>5</th>\n",
       "      <td>Cs-137</td>\n",
       "      <td>0.00</td>\n",
       "      <td>5,404.67</td>\n",
       "      <td>94,419.00</td>\n",
       "    </tr>\n",
       "    <tr>\n",
       "      <th>6</th>\n",
       "      <td>Eu-152</td>\n",
       "      <td>100.00</td>\n",
       "      <td>118,753.54</td>\n",
       "      <td>94,419.00</td>\n",
       "    </tr>\n",
       "    <tr>\n",
       "      <th>7</th>\n",
       "      <td>Mn-54</td>\n",
       "      <td>0.04</td>\n",
       "      <td>5,871.03</td>\n",
       "      <td>94,419.00</td>\n",
       "    </tr>\n",
       "    <tr>\n",
       "      <th>8</th>\n",
       "      <td>Na-22</td>\n",
       "      <td>0.00</td>\n",
       "      <td>6,697.70</td>\n",
       "      <td>94,419.00</td>\n",
       "    </tr>\n",
       "    <tr>\n",
       "      <th>9</th>\n",
       "      <td>Pb-210</td>\n",
       "      <td>0.74</td>\n",
       "      <td>-1,144.94</td>\n",
       "      <td>94,419.00</td>\n",
       "    </tr>\n",
       "  </tbody>\n",
       "</table>\n",
       "</div>"
      ],
      "text/plain": [
       "  radionuclideo  nuclei_score  nuclei_counts  real_counts\n",
       "0        Am-241          0.78        -867.70    94,419.00\n",
       "1        Ba-133          0.07      -5,084.54    94,419.00\n",
       "2        Cd-109          0.24        -252.42    94,419.00\n",
       "3         Co-57          4.27       3,677.73    94,419.00\n",
       "4         Co-60          0.00      -5,680.00    94,419.00\n",
       "5        Cs-137          0.00       5,404.67    94,419.00\n",
       "6        Eu-152        100.00     118,753.54    94,419.00\n",
       "7         Mn-54          0.04       5,871.03    94,419.00\n",
       "8         Na-22          0.00       6,697.70    94,419.00\n",
       "9        Pb-210          0.74      -1,144.94    94,419.00"
      ]
     },
     "execution_count": 109,
     "metadata": {},
     "output_type": "execute_result"
    }
   ],
   "source": [
    "validation_nuclei = 'Eu-152'\n",
    "preds = model.predict(np.array([images[validation_nuclei].reshape((128, 128, 1))]))\n",
    "\n",
    "df = pd.DataFrame({'radionuclideo':binarizer.classes_,\n",
    "                   'nuclei_score': preds[0][0]*100,\n",
    "                   'nuclei_counts': scaler.inverse_transform(preds[1][0]),\n",
    "                   'real_counts': np.sum(images[validation_nuclei])})\n",
    "df"
   ]
  },
  {
   "cell_type": "code",
   "execution_count": 110,
   "metadata": {},
   "outputs": [
    {
     "data": {
      "text/html": [
       "<div>\n",
       "<style scoped>\n",
       "    .dataframe tbody tr th:only-of-type {\n",
       "        vertical-align: middle;\n",
       "    }\n",
       "\n",
       "    .dataframe tbody tr th {\n",
       "        vertical-align: top;\n",
       "    }\n",
       "\n",
       "    .dataframe thead th {\n",
       "        text-align: right;\n",
       "    }\n",
       "</style>\n",
       "<table border=\"1\" class=\"dataframe\">\n",
       "  <thead>\n",
       "    <tr style=\"text-align: right;\">\n",
       "      <th></th>\n",
       "      <th>radionuclideo</th>\n",
       "      <th>nuclei_score</th>\n",
       "      <th>nuclei_counts</th>\n",
       "      <th>real_counts</th>\n",
       "    </tr>\n",
       "  </thead>\n",
       "  <tbody>\n",
       "    <tr>\n",
       "      <th>0</th>\n",
       "      <td>Am-241</td>\n",
       "      <td>0.00</td>\n",
       "      <td>-3,508.00</td>\n",
       "      <td>7,159.00</td>\n",
       "    </tr>\n",
       "    <tr>\n",
       "      <th>1</th>\n",
       "      <td>Ba-133</td>\n",
       "      <td>0.00</td>\n",
       "      <td>1,292.41</td>\n",
       "      <td>7,159.00</td>\n",
       "    </tr>\n",
       "    <tr>\n",
       "      <th>2</th>\n",
       "      <td>Cd-109</td>\n",
       "      <td>0.00</td>\n",
       "      <td>-327.67</td>\n",
       "      <td>7,159.00</td>\n",
       "    </tr>\n",
       "    <tr>\n",
       "      <th>3</th>\n",
       "      <td>Co-57</td>\n",
       "      <td>0.02</td>\n",
       "      <td>1,814.47</td>\n",
       "      <td>7,159.00</td>\n",
       "    </tr>\n",
       "    <tr>\n",
       "      <th>4</th>\n",
       "      <td>Co-60</td>\n",
       "      <td>0.00</td>\n",
       "      <td>-11,833.67</td>\n",
       "      <td>7,159.00</td>\n",
       "    </tr>\n",
       "    <tr>\n",
       "      <th>5</th>\n",
       "      <td>Cs-137</td>\n",
       "      <td>0.00</td>\n",
       "      <td>-1,484.40</td>\n",
       "      <td>7,159.00</td>\n",
       "    </tr>\n",
       "    <tr>\n",
       "      <th>6</th>\n",
       "      <td>Eu-152</td>\n",
       "      <td>0.00</td>\n",
       "      <td>-3,599.46</td>\n",
       "      <td>7,159.00</td>\n",
       "    </tr>\n",
       "    <tr>\n",
       "      <th>7</th>\n",
       "      <td>Mn-54</td>\n",
       "      <td>94.22</td>\n",
       "      <td>13,166.48</td>\n",
       "      <td>7,159.00</td>\n",
       "    </tr>\n",
       "    <tr>\n",
       "      <th>8</th>\n",
       "      <td>Na-22</td>\n",
       "      <td>0.00</td>\n",
       "      <td>-17,366.86</td>\n",
       "      <td>7,159.00</td>\n",
       "    </tr>\n",
       "    <tr>\n",
       "      <th>9</th>\n",
       "      <td>Pb-210</td>\n",
       "      <td>0.00</td>\n",
       "      <td>-155.01</td>\n",
       "      <td>7,159.00</td>\n",
       "    </tr>\n",
       "  </tbody>\n",
       "</table>\n",
       "</div>"
      ],
      "text/plain": [
       "  radionuclideo  nuclei_score  nuclei_counts  real_counts\n",
       "0        Am-241          0.00      -3,508.00     7,159.00\n",
       "1        Ba-133          0.00       1,292.41     7,159.00\n",
       "2        Cd-109          0.00        -327.67     7,159.00\n",
       "3         Co-57          0.02       1,814.47     7,159.00\n",
       "4         Co-60          0.00     -11,833.67     7,159.00\n",
       "5        Cs-137          0.00      -1,484.40     7,159.00\n",
       "6        Eu-152          0.00      -3,599.46     7,159.00\n",
       "7         Mn-54         94.22      13,166.48     7,159.00\n",
       "8         Na-22          0.00     -17,366.86     7,159.00\n",
       "9        Pb-210          0.00        -155.01     7,159.00"
      ]
     },
     "execution_count": 110,
     "metadata": {},
     "output_type": "execute_result"
    }
   ],
   "source": [
    "validation_nuclei = 'Mn-54'\n",
    "preds = model.predict(np.array([images[validation_nuclei].reshape((128, 128, 1))]))\n",
    "\n",
    "df = pd.DataFrame({'radionuclideo':binarizer.classes_,\n",
    "                   'nuclei_score': preds[0][0]*100,\n",
    "                   'nuclei_counts': scaler.inverse_transform(preds[1][0]),\n",
    "                   'real_counts': np.sum(images[validation_nuclei])})\n",
    "df"
   ]
  },
  {
   "cell_type": "code",
   "execution_count": 111,
   "metadata": {},
   "outputs": [
    {
     "data": {
      "text/html": [
       "<div>\n",
       "<style scoped>\n",
       "    .dataframe tbody tr th:only-of-type {\n",
       "        vertical-align: middle;\n",
       "    }\n",
       "\n",
       "    .dataframe tbody tr th {\n",
       "        vertical-align: top;\n",
       "    }\n",
       "\n",
       "    .dataframe thead th {\n",
       "        text-align: right;\n",
       "    }\n",
       "</style>\n",
       "<table border=\"1\" class=\"dataframe\">\n",
       "  <thead>\n",
       "    <tr style=\"text-align: right;\">\n",
       "      <th></th>\n",
       "      <th>radionuclideo</th>\n",
       "      <th>nuclei_score</th>\n",
       "      <th>nuclei_counts</th>\n",
       "      <th>real_counts</th>\n",
       "    </tr>\n",
       "  </thead>\n",
       "  <tbody>\n",
       "    <tr>\n",
       "      <th>0</th>\n",
       "      <td>Am-241</td>\n",
       "      <td>0.00</td>\n",
       "      <td>-1,835.54</td>\n",
       "      <td>7,965.00</td>\n",
       "    </tr>\n",
       "    <tr>\n",
       "      <th>1</th>\n",
       "      <td>Ba-133</td>\n",
       "      <td>0.00</td>\n",
       "      <td>1,193.90</td>\n",
       "      <td>7,965.00</td>\n",
       "    </tr>\n",
       "    <tr>\n",
       "      <th>2</th>\n",
       "      <td>Cd-109</td>\n",
       "      <td>0.01</td>\n",
       "      <td>105.77</td>\n",
       "      <td>7,965.00</td>\n",
       "    </tr>\n",
       "    <tr>\n",
       "      <th>3</th>\n",
       "      <td>Co-57</td>\n",
       "      <td>0.00</td>\n",
       "      <td>3,178.99</td>\n",
       "      <td>7,965.00</td>\n",
       "    </tr>\n",
       "    <tr>\n",
       "      <th>4</th>\n",
       "      <td>Co-60</td>\n",
       "      <td>0.00</td>\n",
       "      <td>-44,252.39</td>\n",
       "      <td>7,965.00</td>\n",
       "    </tr>\n",
       "    <tr>\n",
       "      <th>5</th>\n",
       "      <td>Cs-137</td>\n",
       "      <td>0.00</td>\n",
       "      <td>2,157.69</td>\n",
       "      <td>7,965.00</td>\n",
       "    </tr>\n",
       "    <tr>\n",
       "      <th>6</th>\n",
       "      <td>Eu-152</td>\n",
       "      <td>0.00</td>\n",
       "      <td>-13,762.93</td>\n",
       "      <td>7,965.00</td>\n",
       "    </tr>\n",
       "    <tr>\n",
       "      <th>7</th>\n",
       "      <td>Mn-54</td>\n",
       "      <td>0.15</td>\n",
       "      <td>-3,533.78</td>\n",
       "      <td>7,965.00</td>\n",
       "    </tr>\n",
       "    <tr>\n",
       "      <th>8</th>\n",
       "      <td>Na-22</td>\n",
       "      <td>81.70</td>\n",
       "      <td>5,723.81</td>\n",
       "      <td>7,965.00</td>\n",
       "    </tr>\n",
       "    <tr>\n",
       "      <th>9</th>\n",
       "      <td>Pb-210</td>\n",
       "      <td>0.00</td>\n",
       "      <td>-1,060.93</td>\n",
       "      <td>7,965.00</td>\n",
       "    </tr>\n",
       "  </tbody>\n",
       "</table>\n",
       "</div>"
      ],
      "text/plain": [
       "  radionuclideo  nuclei_score  nuclei_counts  real_counts\n",
       "0        Am-241          0.00      -1,835.54     7,965.00\n",
       "1        Ba-133          0.00       1,193.90     7,965.00\n",
       "2        Cd-109          0.01         105.77     7,965.00\n",
       "3         Co-57          0.00       3,178.99     7,965.00\n",
       "4         Co-60          0.00     -44,252.39     7,965.00\n",
       "5        Cs-137          0.00       2,157.69     7,965.00\n",
       "6        Eu-152          0.00     -13,762.93     7,965.00\n",
       "7         Mn-54          0.15      -3,533.78     7,965.00\n",
       "8         Na-22         81.70       5,723.81     7,965.00\n",
       "9        Pb-210          0.00      -1,060.93     7,965.00"
      ]
     },
     "execution_count": 111,
     "metadata": {},
     "output_type": "execute_result"
    }
   ],
   "source": [
    "validation_nuclei = 'Na-22'\n",
    "preds = model.predict(np.array([images[validation_nuclei].reshape((128, 128, 1))]))\n",
    "\n",
    "df = pd.DataFrame({'radionuclideo':binarizer.classes_,\n",
    "                   'nuclei_score': preds[0][0]*100,\n",
    "                   'nuclei_counts': scaler.inverse_transform(preds[1][0]),\n",
    "                   'real_counts': np.sum(images[validation_nuclei])})\n",
    "df"
   ]
  },
  {
   "cell_type": "code",
   "execution_count": 112,
   "metadata": {},
   "outputs": [
    {
     "data": {
      "text/html": [
       "<div>\n",
       "<style scoped>\n",
       "    .dataframe tbody tr th:only-of-type {\n",
       "        vertical-align: middle;\n",
       "    }\n",
       "\n",
       "    .dataframe tbody tr th {\n",
       "        vertical-align: top;\n",
       "    }\n",
       "\n",
       "    .dataframe thead th {\n",
       "        text-align: right;\n",
       "    }\n",
       "</style>\n",
       "<table border=\"1\" class=\"dataframe\">\n",
       "  <thead>\n",
       "    <tr style=\"text-align: right;\">\n",
       "      <th></th>\n",
       "      <th>radionuclideo</th>\n",
       "      <th>nuclei_score</th>\n",
       "      <th>nuclei_counts</th>\n",
       "      <th>real_counts</th>\n",
       "    </tr>\n",
       "  </thead>\n",
       "  <tbody>\n",
       "    <tr>\n",
       "      <th>0</th>\n",
       "      <td>Am-241</td>\n",
       "      <td>7.94</td>\n",
       "      <td>-3,862.73</td>\n",
       "      <td>19,650.00</td>\n",
       "    </tr>\n",
       "    <tr>\n",
       "      <th>1</th>\n",
       "      <td>Ba-133</td>\n",
       "      <td>0.00</td>\n",
       "      <td>677.95</td>\n",
       "      <td>19,650.00</td>\n",
       "    </tr>\n",
       "    <tr>\n",
       "      <th>2</th>\n",
       "      <td>Cd-109</td>\n",
       "      <td>2.00</td>\n",
       "      <td>-605.62</td>\n",
       "      <td>19,650.00</td>\n",
       "    </tr>\n",
       "    <tr>\n",
       "      <th>3</th>\n",
       "      <td>Co-57</td>\n",
       "      <td>0.47</td>\n",
       "      <td>1,301.93</td>\n",
       "      <td>19,650.00</td>\n",
       "    </tr>\n",
       "    <tr>\n",
       "      <th>4</th>\n",
       "      <td>Co-60</td>\n",
       "      <td>0.00</td>\n",
       "      <td>2,444.39</td>\n",
       "      <td>19,650.00</td>\n",
       "    </tr>\n",
       "    <tr>\n",
       "      <th>5</th>\n",
       "      <td>Cs-137</td>\n",
       "      <td>0.00</td>\n",
       "      <td>-8,941.43</td>\n",
       "      <td>19,650.00</td>\n",
       "    </tr>\n",
       "    <tr>\n",
       "      <th>6</th>\n",
       "      <td>Eu-152</td>\n",
       "      <td>0.00</td>\n",
       "      <td>3,441.76</td>\n",
       "      <td>19,650.00</td>\n",
       "    </tr>\n",
       "    <tr>\n",
       "      <th>7</th>\n",
       "      <td>Mn-54</td>\n",
       "      <td>0.01</td>\n",
       "      <td>-6,232.91</td>\n",
       "      <td>19,650.00</td>\n",
       "    </tr>\n",
       "    <tr>\n",
       "      <th>8</th>\n",
       "      <td>Na-22</td>\n",
       "      <td>0.00</td>\n",
       "      <td>-2,403.86</td>\n",
       "      <td>19,650.00</td>\n",
       "    </tr>\n",
       "    <tr>\n",
       "      <th>9</th>\n",
       "      <td>Pb-210</td>\n",
       "      <td>100.00</td>\n",
       "      <td>33,572.22</td>\n",
       "      <td>19,650.00</td>\n",
       "    </tr>\n",
       "  </tbody>\n",
       "</table>\n",
       "</div>"
      ],
      "text/plain": [
       "  radionuclideo  nuclei_score  nuclei_counts  real_counts\n",
       "0        Am-241          7.94      -3,862.73    19,650.00\n",
       "1        Ba-133          0.00         677.95    19,650.00\n",
       "2        Cd-109          2.00        -605.62    19,650.00\n",
       "3         Co-57          0.47       1,301.93    19,650.00\n",
       "4         Co-60          0.00       2,444.39    19,650.00\n",
       "5        Cs-137          0.00      -8,941.43    19,650.00\n",
       "6        Eu-152          0.00       3,441.76    19,650.00\n",
       "7         Mn-54          0.01      -6,232.91    19,650.00\n",
       "8         Na-22          0.00      -2,403.86    19,650.00\n",
       "9        Pb-210        100.00      33,572.22    19,650.00"
      ]
     },
     "execution_count": 112,
     "metadata": {},
     "output_type": "execute_result"
    }
   ],
   "source": [
    "validation_nuclei = 'Pb-210'\n",
    "preds = model.predict(np.array([images[validation_nuclei].reshape((128, 128, 1))]))\n",
    "\n",
    "df = pd.DataFrame({'radionuclideo':binarizer.classes_,\n",
    "                   'nuclei_score': preds[0][0]*100,\n",
    "                   'nuclei_counts': scaler.inverse_transform(preds[1][0]),\n",
    "                   'real_counts': np.sum(images[validation_nuclei])})\n",
    "df"
   ]
  },
  {
   "cell_type": "markdown",
   "metadata": {},
   "source": [
    "## Fonte triplice de calibração"
   ]
  },
  {
   "cell_type": "code",
   "execution_count": 113,
   "metadata": {},
   "outputs": [],
   "source": [
    "dados = []\n",
    "\n",
    "with open('/export/ipen/artigo/ICDA-3/Espectros/Experimentos/17-Maio-2018/Espectros/Am-Cs-Co - BG.IEC', 'r') as f:\n",
    "    dados = f.readlines()\n",
    "dados = obtem_dados_dos_canais(dados)\n",
    "df_triplice = pd.DataFrame({'channel': range(0, len(dados)), 'counts' : dados})"
   ]
  },
  {
   "cell_type": "code",
   "execution_count": 114,
   "metadata": {},
   "outputs": [
    {
     "data": {
      "image/png": "[encoded data removed]",
      "text/plain": [
       "<Figure size 1224x216 with 2 Axes>"
      ]
     },
     "metadata": {},
     "output_type": "display_data"
    }
   ],
   "source": [
    "f, axarr = plt.subplots(1, 2, figsize=(17, 3))\n",
    "axarr[0].plot(df_triplice['channel'], df_triplice.counts.shift(-145).fillna(0).values, 'r')\n",
    "axarr[0].set_title(\"Espectro de calibração\")\n",
    "axarr[0].set_yscale(\"log\")\n",
    "axarr[1].imshow(np.array(dados).reshape((128,128)))\n",
    "\n",
    "plt.grid(False)\n",
    "plt.subplots_adjust(bottom=1.25, top=2.75)\n",
    "plt.show()"
   ]
  },
  {
   "cell_type": "code",
   "execution_count": 115,
   "metadata": {
    "scrolled": false
   },
   "outputs": [
    {
     "data": {
      "text/html": [
       "<div>\n",
       "<style scoped>\n",
       "    .dataframe tbody tr th:only-of-type {\n",
       "        vertical-align: middle;\n",
       "    }\n",
       "\n",
       "    .dataframe tbody tr th {\n",
       "        vertical-align: top;\n",
       "    }\n",
       "\n",
       "    .dataframe thead th {\n",
       "        text-align: right;\n",
       "    }\n",
       "</style>\n",
       "<table border=\"1\" class=\"dataframe\">\n",
       "  <thead>\n",
       "    <tr style=\"text-align: right;\">\n",
       "      <th></th>\n",
       "      <th>radionuclideo</th>\n",
       "      <th>nuclei_score</th>\n",
       "      <th>nuclei_counts</th>\n",
       "      <th>real_counts</th>\n",
       "    </tr>\n",
       "  </thead>\n",
       "  <tbody>\n",
       "    <tr>\n",
       "      <th>0</th>\n",
       "      <td>Am-241</td>\n",
       "      <td>6.59</td>\n",
       "      <td>62,808.34</td>\n",
       "      <td>276,428.00</td>\n",
       "    </tr>\n",
       "    <tr>\n",
       "      <th>1</th>\n",
       "      <td>Ba-133</td>\n",
       "      <td>0.00</td>\n",
       "      <td>61,093.97</td>\n",
       "      <td>276,428.00</td>\n",
       "    </tr>\n",
       "    <tr>\n",
       "      <th>2</th>\n",
       "      <td>Cd-109</td>\n",
       "      <td>0.32</td>\n",
       "      <td>-7,683.72</td>\n",
       "      <td>276,428.00</td>\n",
       "    </tr>\n",
       "    <tr>\n",
       "      <th>3</th>\n",
       "      <td>Co-57</td>\n",
       "      <td>4.72</td>\n",
       "      <td>11,145.33</td>\n",
       "      <td>276,428.00</td>\n",
       "    </tr>\n",
       "    <tr>\n",
       "      <th>4</th>\n",
       "      <td>Co-60</td>\n",
       "      <td>100.00</td>\n",
       "      <td>263,036.62</td>\n",
       "      <td>276,428.00</td>\n",
       "    </tr>\n",
       "    <tr>\n",
       "      <th>5</th>\n",
       "      <td>Cs-137</td>\n",
       "      <td>100.00</td>\n",
       "      <td>60,148.20</td>\n",
       "      <td>276,428.00</td>\n",
       "    </tr>\n",
       "    <tr>\n",
       "      <th>6</th>\n",
       "      <td>Eu-152</td>\n",
       "      <td>0.04</td>\n",
       "      <td>48,454.50</td>\n",
       "      <td>276,428.00</td>\n",
       "    </tr>\n",
       "    <tr>\n",
       "      <th>7</th>\n",
       "      <td>Mn-54</td>\n",
       "      <td>0.07</td>\n",
       "      <td>6,391.46</td>\n",
       "      <td>276,428.00</td>\n",
       "    </tr>\n",
       "    <tr>\n",
       "      <th>8</th>\n",
       "      <td>Na-22</td>\n",
       "      <td>0.02</td>\n",
       "      <td>-24,229.88</td>\n",
       "      <td>276,428.00</td>\n",
       "    </tr>\n",
       "    <tr>\n",
       "      <th>9</th>\n",
       "      <td>Pb-210</td>\n",
       "      <td>59.44</td>\n",
       "      <td>6,452.45</td>\n",
       "      <td>276,428.00</td>\n",
       "    </tr>\n",
       "  </tbody>\n",
       "</table>\n",
       "</div>"
      ],
      "text/plain": [
       "  radionuclideo  nuclei_score  nuclei_counts  real_counts\n",
       "0        Am-241          6.59      62,808.34   276,428.00\n",
       "1        Ba-133          0.00      61,093.97   276,428.00\n",
       "2        Cd-109          0.32      -7,683.72   276,428.00\n",
       "3         Co-57          4.72      11,145.33   276,428.00\n",
       "4         Co-60        100.00     263,036.62   276,428.00\n",
       "5        Cs-137        100.00      60,148.20   276,428.00\n",
       "6        Eu-152          0.04      48,454.50   276,428.00\n",
       "7         Mn-54          0.07       6,391.46   276,428.00\n",
       "8         Na-22          0.02     -24,229.88   276,428.00\n",
       "9        Pb-210         59.44       6,452.45   276,428.00"
      ]
     },
     "execution_count": 115,
     "metadata": {},
     "output_type": "execute_result"
    }
   ],
   "source": [
    "shift_ = 0\n",
    "dados = df_triplice.counts.shift(shift_).fillna(0).values\n",
    "\n",
    "preds = model.predict(np.array([dados.reshape((128, 128, 1))]))\n",
    "\n",
    "df = pd.DataFrame({'radionuclideo':binarizer.classes_,\n",
    "                   'nuclei_score': preds[0][0]*100,\n",
    "                   'nuclei_counts': scaler.inverse_transform(preds[1][0]),\n",
    "                   'real_counts': np.sum(dados)})\n",
    "df"
   ]
  }
 ],
 "metadata": {
  "kernelspec": {
   "display_name": "Python 3",
   "language": "python",
   "name": "python3"
  },
  "language_info": {
   "codemirror_mode": {
    "name": "ipython",
    "version": 3
   },
   "file_extension": ".py",
   "mimetype": "text/x-python",
   "name": "python",
   "nbconvert_exporter": "python",
   "pygments_lexer": "ipython3",
   "version": "3.7.4"
  }
 },
 "nbformat": 4,
 "nbformat_minor": 2
}
