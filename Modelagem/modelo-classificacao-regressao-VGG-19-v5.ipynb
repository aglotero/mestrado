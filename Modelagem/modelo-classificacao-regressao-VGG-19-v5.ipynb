{
 "cells": [
  {
   "cell_type": "code",
   "execution_count": 1,
   "metadata": {},
   "outputs": [],
   "source": [
    "import glob\n",
    "import numpy as np\n",
    "import pandas as pd\n",
    "from tqdm import tqdm_notebook\n",
    "from sklearn.preprocessing import MultiLabelBinarizer\n",
    "\n",
    "pd.options.display.float_format = '{:,.2f}'.format"
   ]
  },
  {
   "cell_type": "code",
   "execution_count": 2,
   "metadata": {},
   "outputs": [
    {
     "name": "stderr",
     "output_type": "stream",
     "text": [
      "/home/andre/.conda/envs/py36/lib/python3.6/site-packages/h5py/__init__.py:36: FutureWarning: Conversion of the second argument of issubdtype from `float` to `np.floating` is deprecated. In future, it will be treated as `np.float64 == np.dtype(float).type`.\n",
      "  from ._conv import register_converters as _register_converters\n",
      "Using TensorFlow backend.\n"
     ]
    }
   ],
   "source": [
    "import pandas as pd\n",
    "import numpy as np\n",
    "import matplotlib.pyplot as plt\n",
    "import random\n",
    "# Para o Modelo\n",
    "import tensorflow as tf\n",
    "import keras\n",
    "from keras import backend as K\n",
    "from keras.applications.vgg19 import VGG19\n",
    "from keras.optimizers import *\n",
    "from keras.callbacks import *\n",
    "from keras.metrics import top_k_categorical_accuracy\n",
    "from keras.utils import to_categorical\n",
    "from sklearn.metrics import accuracy_score\n",
    "from sklearn.model_selection import train_test_split\n",
    "\n",
    "from sklearn.preprocessing import StandardScaler"
   ]
  },
  {
   "cell_type": "markdown",
   "metadata": {},
   "source": [
    "# Processando os dados\n",
    "\n",
    "## Gerados com Penelope"
   ]
  },
  {
   "cell_type": "code",
   "execution_count": 3,
   "metadata": {},
   "outputs": [],
   "source": [
    "files =  glob.glob(\"../dados_*/*.dat\")"
   ]
  },
  {
   "cell_type": "code",
   "execution_count": 4,
   "metadata": {},
   "outputs": [
    {
     "data": {
      "text/plain": [
       "1320"
      ]
     },
     "execution_count": 4,
     "metadata": {},
     "output_type": "execute_result"
    }
   ],
   "source": [
    "len(files)"
   ]
  },
  {
   "cell_type": "code",
   "execution_count": 5,
   "metadata": {},
   "outputs": [],
   "source": [
    "def le_performance_report(filename):\n",
    "    # 164000\n",
    "    # Performance report\n",
    "    #   Random seeds:\n",
    "    #   1800926990\n",
    "    #   1275941380\n",
    "    #   No. of histories simulated [N]:\n",
    "    #            10000000.\n",
    "    #   CPU time [t] (s):\n",
    "    #    3.28417E+01\n",
    "    #   Speed (histories/s):\n",
    "    #    3.04491E+05\n",
    "    #   Average uncertainty (above 1/2 max score) in % [uncert]:\n",
    "    #    1.27128E-01\n",
    "    #   Intrinsic efficiency [N*uncert^2]^-1:\n",
    "    #    6.18758E-06\n",
    "    #   Absolute efficiency [t*uncert^2]^-1:\n",
    "    #    1.88406E+00\n",
    "    \n",
    "    with open(filename, \"r\") as f:\n",
    "        linhas = f.readlines()\n",
    "    return float(linhas[16400+7][1:])\n",
    "\n",
    "def carrega_dados(filename, n_particulas=1.0e07):\n",
    "    data = {\n",
    "        'Elow(eV)' : [],\n",
    "        'Emiddle(eV)' : [],\n",
    "        'counts(1/eV/hist)' : [],\n",
    "        '+-2sigma':[],\n",
    "        'nbin' : []\n",
    "    }\n",
    "\n",
    "    linha_de_dados = False\n",
    "    with open(filename, \"r\") as f:\n",
    "        lines = f.readlines()\n",
    "        for line in lines:\n",
    "            if line[0] == '#':\n",
    "                linha_de_dados = False\n",
    "            else:\n",
    "                linha_de_dados = True\n",
    "\n",
    "            if linha_de_dados:\n",
    "                aux = line.split(' ')\n",
    "                if len(aux) == 2:\n",
    "                    break\n",
    "\n",
    "                data['Elow(eV)'].append(np.fromstring(aux[2], dtype=np.float64, sep=',')[0])\n",
    "                data['Emiddle(eV)'].append(np.fromstring(aux[4], dtype=np.float64, sep=',')[0])\n",
    "                q = np.fromstring(aux[6], dtype=np.float64, sep=',')[0]\n",
    "                data['counts(1/eV/hist)'].append(q)\n",
    "                data['+-2sigma'].append(np.fromstring(aux[8], dtype=np.float64, sep=',')[0])\n",
    "                nbin = np.fromstring(aux[9], dtype=np.int, sep=',')[0]\n",
    "                data['nbin'].append(nbin)      \n",
    "\n",
    "    df = pd.DataFrame.from_dict(data)\n",
    "    df['counts'] = df['counts(1/eV/hist)'].values * n_particulas * 1 / ((df['Elow(eV)'].shift(-1).fillna(0) - df['Elow(eV)']) / df['nbin'])\n",
    "    df['counts'] = df['counts']#.astype(np.uint8)\n",
    "    df['counts'][0:20] = 0\n",
    "    df['E'] = df['Elow(eV)'] / 1e3\n",
    "    return df.loc[0:16383]"
   ]
  },
  {
   "cell_type": "code",
   "execution_count": 6,
   "metadata": {},
   "outputs": [
    {
     "name": "stdout",
     "output_type": "stream",
     "text": [
      "Total de tempo de CPU utilizado: 276.3862706481477 dias\n"
     ]
    }
   ],
   "source": [
    "tempo_segundos = 0\n",
    "\n",
    "for file_ in files:\n",
    "    tempo_segundos += le_performance_report(file_)\n",
    "    \n",
    "print(\"Total de tempo de CPU utilizado: {0} dias\".format(tempo_segundos / 60 / 60 / 24))"
   ]
  },
  {
   "cell_type": "code",
   "execution_count": 7,
   "metadata": {},
   "outputs": [],
   "source": [
    "energias_iniciais_multicanal = ['1', '250', '400', '150', '300', '0']\n",
    "#energias_iniciais_multicanal = ['0-01.dat']\n",
    "#energias_iniciais_multicanal = ['0-01.dat', '5-0.dat', '10-0.dat', '30-0.dat', '40-0.dat']\n",
    "#energias_iniciais_multicanal = ['0-01.dat']"
   ]
  },
  {
   "cell_type": "code",
   "execution_count": 8,
   "metadata": {},
   "outputs": [
    {
     "data": {
      "text/plain": [
       "array(['Am-241', 'Ba-133', 'Cd-109', 'Co-57', 'Co-60', 'Cs-137', 'Eu-152',\n",
       "       'Mn-54', 'Na-22', 'Pb-210'], dtype=object)"
      ]
     },
     "execution_count": 8,
     "metadata": {},
     "output_type": "execute_result"
    }
   ],
   "source": [
    "nomes_nuclideos = {\n",
    "    'Am-241': 0,\n",
    "    'Ba-133': 1,\n",
    "    'Cd-109': 2,\n",
    "    'Co-57': 3,\n",
    "    'Co-60': 4,\n",
    "    'Cs-137': 5,\n",
    "    'Eu-152': 6,\n",
    "    'Mn-54': 7,\n",
    "    'Na-22': 8,\n",
    "    'Pb-210': 9\n",
    "}\n",
    "\n",
    "binarizer = MultiLabelBinarizer()\n",
    "binarizer.fit([list(nomes_nuclideos.keys())])\n",
    "binarizer.classes_"
   ]
  },
  {
   "cell_type": "code",
   "execution_count": 279,
   "metadata": {},
   "outputs": [
    {
     "data": {
      "application/vnd.jupyter.widget-view+json": {
       "model_id": "450c2c77d0c740a2b13232c18606705d",
       "version_major": 2,
       "version_minor": 0
      },
      "text/plain": [
       "HBox(children=(IntProgress(value=0, max=1320), HTML(value='')))"
      ]
     },
     "metadata": {},
     "output_type": "display_data"
    },
    {
     "name": "stderr",
     "output_type": "stream",
     "text": [
      "/home/andre/.conda/envs/py36/lib/python3.6/site-packages/ipykernel_launcher.py:58: SettingWithCopyWarning: \n",
      "A value is trying to be set on a copy of a slice from a DataFrame\n",
      "\n",
      "See the caveats in the documentation: http://pandas.pydata.org/pandas-docs/stable/user_guide/indexing.html#returning-a-view-versus-a-copy\n"
     ]
    },
    {
     "name": "stdout",
     "output_type": "stream",
     "text": [
      "\n"
     ]
    },
    {
     "data": {
      "application/vnd.jupyter.widget-view+json": {
       "model_id": "86e967edbe4d437f9caf130af68c9a36",
       "version_major": 2,
       "version_minor": 0
      },
      "text/plain": [
       "HBox(children=(IntProgress(value=0, max=1320), HTML(value='')))"
      ]
     },
     "metadata": {},
     "output_type": "display_data"
    },
    {
     "name": "stdout",
     "output_type": "stream",
     "text": [
      "\n"
     ]
    },
    {
     "data": {
      "application/vnd.jupyter.widget-view+json": {
       "model_id": "4c092f4bb29943d9bba128ca5a39921a",
       "version_major": 2,
       "version_minor": 0
      },
      "text/plain": [
       "HBox(children=(IntProgress(value=0, max=1320), HTML(value='')))"
      ]
     },
     "metadata": {},
     "output_type": "display_data"
    },
    {
     "name": "stdout",
     "output_type": "stream",
     "text": [
      "\n"
     ]
    },
    {
     "data": {
      "application/vnd.jupyter.widget-view+json": {
       "model_id": "de09533998e54f408d9d389fc20c968e",
       "version_major": 2,
       "version_minor": 0
      },
      "text/plain": [
       "HBox(children=(IntProgress(value=0, max=1320), HTML(value='')))"
      ]
     },
     "metadata": {},
     "output_type": "display_data"
    },
    {
     "name": "stdout",
     "output_type": "stream",
     "text": [
      "\n"
     ]
    },
    {
     "data": {
      "application/vnd.jupyter.widget-view+json": {
       "model_id": "c3614746d0044874abade5e7e55cf0ae",
       "version_major": 2,
       "version_minor": 0
      },
      "text/plain": [
       "HBox(children=(IntProgress(value=0, max=1320), HTML(value='')))"
      ]
     },
     "metadata": {},
     "output_type": "display_data"
    },
    {
     "name": "stdout",
     "output_type": "stream",
     "text": [
      "\n"
     ]
    },
    {
     "data": {
      "application/vnd.jupyter.widget-view+json": {
       "model_id": "79508d468b474c05a01e4cf02bdd3c3f",
       "version_major": 2,
       "version_minor": 0
      },
      "text/plain": [
       "HBox(children=(IntProgress(value=0, max=1320), HTML(value='')))"
      ]
     },
     "metadata": {},
     "output_type": "display_data"
    },
    {
     "name": "stdout",
     "output_type": "stream",
     "text": [
      "\n"
     ]
    }
   ],
   "source": [
    "# Cd-109_41cm_1-0e08estories_0-01.dat\n",
    "dados_por_energia_inicial_multicanal = dict()\n",
    "\n",
    "n_particulas = [1e4, 1e5, 1e7, 1e8, 1e9]\n",
    "\n",
    "for energia_inicial_multicanal in energias_iniciais_multicanal:\n",
    "    dados_por_energia_inicial_multicanal[energia_inicial_multicanal] = []\n",
    "    \n",
    "    for file_ in tqdm_notebook(files):\n",
    "        if not file_.endswith(energia_inicial_multicanal+'.dat'):\n",
    "            continue\n",
    "        \n",
    "        partes = file_.split(\"/\")[2].replace(\".dat\", \"\").split(\"_\")\n",
    "        nuclideo = partes[0]        \n",
    "        distancia = partes[1]\n",
    "        #n_particulas = float(partes[2].replace('estories','').replace('-','.'))\n",
    "        \n",
    "        for n_particula in n_particulas:\n",
    "        \n",
    "            dados_ = carrega_dados(file_, n_particula)\n",
    "\n",
    "            label_ = binarizer.transform([[nuclideo]])\n",
    "\n",
    "            #Cria o label para o total de contagens do radionuclídeo\n",
    "            total_counts = np.zeros(label_.shape)\n",
    "            #total_counts[0][np.argmax(label_)] = np.sum(dados_.counts.values)\n",
    "            total_counts[0][np.argmax(label_)] = n_particula\n",
    "\n",
    "            dados_por_energia_inicial_multicanal[energia_inicial_multicanal].append({'X' : dados_.counts.values,\n",
    "                                                                                     'n' : n_particula,\n",
    "                                                                                     'y': label_,\n",
    "                                                                                     'y_count' : total_counts,\n",
    "                                                                                     'd': distancia,\n",
    "                                                                                     'e': energia_inicial_multicanal})"
   ]
  },
  {
   "cell_type": "code",
   "execution_count": 280,
   "metadata": {},
   "outputs": [
    {
     "data": {
      "text/plain": [
       "(['41cm', '46cm', '51cm', '56cm'],\n",
       " [10000.0, 100000.0, 10000000.0, 100000000.0, 1000000000.0])"
      ]
     },
     "execution_count": 280,
     "metadata": {},
     "output_type": "execute_result"
    }
   ],
   "source": [
    "distancias = list(np.unique([x['d'] for x in dados_por_energia_inicial_multicanal[energias_iniciais_multicanal[0]]]))\n",
    "n_particulas = list(np.unique([x['n'] for x in dados_por_energia_inicial_multicanal[energias_iniciais_multicanal[0]]]))\n",
    "distancias, n_particulas"
   ]
  },
  {
   "cell_type": "markdown",
   "metadata": {},
   "source": [
    "## Leituras experimentais da GRR"
   ]
  },
  {
   "cell_type": "code",
   "execution_count": 281,
   "metadata": {},
   "outputs": [],
   "source": [
    "def obtem_dados_dos_canais(linhas):\n",
    "    dados = []\n",
    "    pode_comecar = False\n",
    "    for linha in linhas:\n",
    "        if linha == \"A004USERDEFINED                                                     \\n\":\n",
    "            pode_comecar = True\n",
    "            continue\n",
    "        if pode_comecar:\n",
    "            aux = linha.strip().split()\n",
    "            if int(aux[1]) % 5:\n",
    "                print(\"oi!\")\n",
    "            dados.extend([float(x) for x in aux[2:]])\n",
    "    return dados[1:]"
   ]
  },
  {
   "cell_type": "code",
   "execution_count": 282,
   "metadata": {},
   "outputs": [
    {
     "name": "stdout",
     "output_type": "stream",
     "text": [
      "Am-241 - BG.IEC\n",
      "Ba-133 - BG.IEC\n",
      "Cd-109 - BG.IEC\n",
      "Co-57 - BG.IEC\n",
      "Co-60 - BG.IEC\n",
      "Cs-137 - BG.IEC\n",
      "Eu-152 - BG.IEC\n",
      "Mn-54 - BG.IEC\n",
      "Na-22 - BG.IEC\n",
      "Pb-210 - BG.IEC\n"
     ]
    }
   ],
   "source": [
    "arquivos = ['Am-241 - BG.IEC', 'Ba-133 - BG.IEC', 'Cd-109 - BG.IEC', 'Co-57 - BG.IEC', 'Co-60 - BG.IEC',\n",
    "            'Cs-137 - BG.IEC', 'Eu-152 - BG.IEC', 'Mn-54 - BG.IEC', 'Na-22 - BG.IEC', 'Pb-210 - BG.IEC',]\n",
    "\n",
    "df_nuclideos = dict()\n",
    "img_espectros = dict()\n",
    "img_convertidos = dict()\n",
    "images = dict()\n",
    "\n",
    "for arquivo in arquivos:\n",
    "    print(arquivo)\n",
    "    dados = []\n",
    "\n",
    "    with open('/export/ipen/artigo/ICDA-3/Espectros/Experimentos/17-Maio-2018/Espectros/{0}'.format(arquivo), 'r') as f:\n",
    "        dados = f.readlines()\n",
    "    dados = obtem_dados_dos_canais(dados)\n",
    "    df = pd.DataFrame({'channel': range(0, len(dados)), 'counts' : dados})\n",
    "    df_nuclideos[arquivo] = df.copy()\n",
    "    img_convertidos[arquivo] = np.array(dados).reshape((128, 128)).copy()\n",
    "    images[arquivo.split(' ')[0]] = np.array(dados).reshape((128, 128)).copy()"
   ]
  },
  {
   "cell_type": "code",
   "execution_count": 283,
   "metadata": {},
   "outputs": [
    {
     "data": {
      "text/plain": [
       "({'Am-241 - BG.IEC': 'Am-241',\n",
       "  'Ba-133 - BG.IEC': 'Ba-133',\n",
       "  'Cd-109 - BG.IEC': 'Cd-109',\n",
       "  'Co-57 - BG.IEC': 'Co-57',\n",
       "  'Co-60 - BG.IEC': 'Co-60',\n",
       "  'Cs-137 - BG.IEC': 'Cs-137',\n",
       "  'Eu-152 - BG.IEC': 'Eu-152',\n",
       "  'Mn-54 - BG.IEC': 'Mn-54',\n",
       "  'Na-22 - BG.IEC': 'Na-22',\n",
       "  'Pb-210 - BG.IEC': 'Pb-210'},\n",
       " {'Am-241': 'Am-241 - BG.IEC',\n",
       "  'Ba-133': 'Ba-133 - BG.IEC',\n",
       "  'Cd-109': 'Cd-109 - BG.IEC',\n",
       "  'Co-57': 'Co-57 - BG.IEC',\n",
       "  'Co-60': 'Co-60 - BG.IEC',\n",
       "  'Cs-137': 'Cs-137 - BG.IEC',\n",
       "  'Eu-152': 'Eu-152 - BG.IEC',\n",
       "  'Mn-54': 'Mn-54 - BG.IEC',\n",
       "  'Na-22': 'Na-22 - BG.IEC',\n",
       "  'Pb-210': 'Pb-210 - BG.IEC'},\n",
       " {0: 'Am-241',\n",
       "  1: 'Ba-133',\n",
       "  2: 'Cd-109',\n",
       "  3: 'Co-57',\n",
       "  4: 'Co-60',\n",
       "  5: 'Cs-137',\n",
       "  6: 'Eu-152',\n",
       "  7: 'Mn-54',\n",
       "  8: 'Na-22',\n",
       "  9: 'Pb-210'},\n",
       " {'Am-241': 0,\n",
       "  'Ba-133': 1,\n",
       "  'Cd-109': 2,\n",
       "  'Co-57': 3,\n",
       "  'Co-60': 4,\n",
       "  'Cs-137': 5,\n",
       "  'Eu-152': 6,\n",
       "  'Mn-54': 7,\n",
       "  'Na-22': 8,\n",
       "  'Pb-210': 9})"
      ]
     },
     "execution_count": 283,
     "metadata": {},
     "output_type": "execute_result"
    }
   ],
   "source": [
    "arquivo_por_nome = { b : b.split()[0] for a, b in enumerate(list(img_convertidos.keys()))}\n",
    "nome_por_arquivo = { b.split()[0] : b for a, b in enumerate(list(img_convertidos.keys()))}\n",
    "\n",
    "id_para_radionuclideos = { a : b.split()[0] for a, b in enumerate(list(img_convertidos.keys()))}\n",
    "radionuclideos = { b.split()[0] : a for a, b in enumerate(list(img_convertidos.keys()))}\n",
    "arquivo_por_nome, nome_por_arquivo, id_para_radionuclideos, radionuclideos"
   ]
  },
  {
   "cell_type": "code",
   "execution_count": null,
   "metadata": {},
   "outputs": [],
   "source": [
    "#plt.plot(np.random.poisson(1e5, (128, 128)))\n",
    "#plt.plot(np.random.normal(1, 0.1**0.5, (128, 128)))"
   ]
  },
  {
   "cell_type": "code",
   "execution_count": 284,
   "metadata": {},
   "outputs": [],
   "source": [
    "def add_noise(image):\n",
    "    #if random.random() <= 0.5:\n",
    "    #    return image.reshape((128, 128, 1))\n",
    "    row,col = image.shape\n",
    "    mean = 1 #np.mean(image)\n",
    "    var = 0.1 #random.random() #\n",
    "    sigma = var**0.5\n",
    "    gauss = np.random.normal(mean, sigma, (row,col))\n",
    "    gauss = gauss.reshape(row, col)\n",
    "    noisy = image + gauss\n",
    "    if np.random.random() > 0.3:\n",
    "        #increase de count rate by a random factor\n",
    "        noisy += noisy * (1 + np.random.random())\n",
    "    return noisy.reshape((128, 128, 1)) #/ np.max(noisy) # normalizando pelo valor máximo\n",
    "\n",
    "\n",
    "#def gera_imagem_combinada_experimental(dicionario_imagens, n_combinacoes=3):\n",
    "#    assert n_combinacoes <= 10, \"No máximo 10 combinações\"\n",
    "#    nuclei_idx = np.random.choice(10, n_combinacoes, replace=False).tolist()[0]\n",
    "#    label = to_categorical(nuclei_idx, 10)\n",
    "#    img = np.sum([add_noise(dicionario_imagens[id_para_radionuclideos[nuclei_idx]])], axis=0)\n",
    "#    counts = to_categorical(nuclei_idx, 10)\n",
    "#    counts[nuclei_idx] = np.sum(img)\n",
    "#    \n",
    "#    return img, label, counts\n",
    "\n",
    "def gera_imagem_combinada_experimental(dicionario_imagens,\n",
    "                                       n_combinacoes=1):\n",
    "    \n",
    "    assert n_combinacoes <= 10, \"No máximo 10 combinações\"\n",
    "    \n",
    "    a = np.random.choice(10, n_combinacoes, replace=False).tolist()\n",
    "    labels = np.sum([to_categorical(x, 10) for x in a], axis=0)\n",
    "    noise_img = [add_noise(dicionario_imagens[id_para_radionuclideos[x]]) for x in a]\n",
    "    img = np.sum(noise_img, axis=0)\n",
    "    \n",
    "    counts = np.zeros((10,))\n",
    "    for idx, item in enumerate(a):\n",
    "        counts[item] = np.sum(noise_img[idx])\n",
    "    \n",
    "    while np.max(labels) > 1: # temos nuclideo repetido\n",
    "        labels[0][np.argmax(labels[0])] = 1\n",
    "    \n",
    "    return img, labels, counts\n"
   ]
  },
  {
   "cell_type": "markdown",
   "metadata": {},
   "source": [
    "# Gerando conjunto de treino e validação"
   ]
  },
  {
   "cell_type": "code",
   "execution_count": 371,
   "metadata": {},
   "outputs": [],
   "source": [
    "X = []\n",
    "y = []\n",
    "y_counts = []"
   ]
  },
  {
   "cell_type": "markdown",
   "metadata": {},
   "source": [
    "## Com os dados experimentais"
   ]
  },
  {
   "cell_type": "code",
   "execution_count": 286,
   "metadata": {},
   "outputs": [],
   "source": [
    "# gerando imagens com mais de um espectro\n",
    "n_combinacoes = [1, 2, 3, 4]\n",
    "for n_combinacao in n_combinacoes:\n",
    "    how_many_combinations = 500\n",
    "    if n_combinacao == 1:\n",
    "        how_many_combinations = 250\n",
    "    for i in range(how_many_combinations):\n",
    "        img, label, counts = gera_imagem_combinada_experimental(images, n_combinacao)\n",
    "        X.append(img)\n",
    "        y.append(label)\n",
    "        y_counts.append(counts)"
   ]
  },
  {
   "cell_type": "code",
   "execution_count": 372,
   "metadata": {},
   "outputs": [
    {
     "data": {
      "text/plain": [
       "(0, 0, 0)"
      ]
     },
     "execution_count": 372,
     "metadata": {},
     "output_type": "execute_result"
    }
   ],
   "source": [
    "len(X), len(y), len(y_counts)"
   ]
  },
  {
   "cell_type": "markdown",
   "metadata": {},
   "source": [
    "## Com os dados gerados pelo PENELOPE"
   ]
  },
  {
   "cell_type": "code",
   "execution_count": 373,
   "metadata": {},
   "outputs": [],
   "source": [
    "def gera_imagem_combinada_penelope(dicionario_imagens, n_combinacoes=3):\n",
    "    assert n_combinacoes <= 10, \"No máximo 10 combinações\"\n",
    "\n",
    "    aux = np.random.choice(dicionario_imagens, n_combinacoes, replace=False)\n",
    "    #print(aux)\n",
    "    labels = np.sum([x['y'] for x in aux], axis=0)\n",
    "    counts = np.sum([x['y_count'] for x in aux], axis=0)\n",
    "    values = np.sum([x['X'] for x in aux], axis=0)\n",
    "    \n",
    "    while np.max(labels) > 1: # temos nuclideo repetido\n",
    "        labels[0][np.argmax(labels[0])] = 1\n",
    "    \n",
    "    return values, labels, counts"
   ]
  },
  {
   "cell_type": "markdown",
   "metadata": {},
   "source": [
    "### Gera espectros com mais de um radionuclideo\n",
    "\n",
    "Até 4 no mesmo espectro"
   ]
  },
  {
   "cell_type": "code",
   "execution_count": 374,
   "metadata": {},
   "outputs": [],
   "source": [
    "d_test = '56cm'\n",
    "n_combinacoes = [2, 3, 4]\n",
    "novos_dados = dict()\n",
    "\n",
    "for key in energias_iniciais_multicanal:\n",
    "    novos_dados[key] = []\n",
    "    for n_ in n_combinacoes:\n",
    "        for distancia in [x for x in distancias if x != d_test]:\n",
    "            aux_data = [x for x in dados_por_energia_inicial_multicanal[key]\n",
    "                        if x['d'] == distancia]\n",
    "            for i in range(150):\n",
    "                values, labels, counts = gera_imagem_combinada_penelope(aux_data, n_)\n",
    "                novos_dados[key].append({'X' : values,\n",
    "                                         'y': labels,\n",
    "                                         'y_count': counts})"
   ]
  },
  {
   "cell_type": "code",
   "execution_count": 375,
   "metadata": {},
   "outputs": [],
   "source": [
    "# Adiciona os espectros sem mistura\n",
    "for key in energias_iniciais_multicanal:\n",
    "    for item in [x for x in dados_por_energia_inicial_multicanal[key] if x['d'] != d_test]:\n",
    "        X.append(list(item.values())[0].reshape((128, 128)))\n",
    "        y.append(item['y'][0])\n",
    "        y_counts.append(item['y_count'][0])"
   ]
  },
  {
   "cell_type": "code",
   "execution_count": 376,
   "metadata": {},
   "outputs": [],
   "source": [
    "# Adiciona os espectros com mistura\n",
    "for key in energias_iniciais_multicanal:\n",
    "    for item in novos_dados[key]:\n",
    "        X.append(list(item.values())[0].reshape((128, 128)))\n",
    "        y.append(item['y'][0])\n",
    "        y_counts.append(item['y_count'][0])"
   ]
  },
  {
   "cell_type": "code",
   "execution_count": 377,
   "metadata": {},
   "outputs": [
    {
     "data": {
      "text/plain": [
       "(16650, 16650, 16650)"
      ]
     },
     "execution_count": 377,
     "metadata": {},
     "output_type": "execute_result"
    }
   ],
   "source": [
    "len(X), len(y), len(y_counts)"
   ]
  },
  {
   "cell_type": "markdown",
   "metadata": {},
   "source": [
    "## Validação"
   ]
  },
  {
   "cell_type": "code",
   "execution_count": 378,
   "metadata": {},
   "outputs": [],
   "source": [
    "X_test = []\n",
    "y_test = []\n",
    "y_counts_test = []"
   ]
  },
  {
   "cell_type": "code",
   "execution_count": 379,
   "metadata": {},
   "outputs": [],
   "source": [
    "n_combinacoes = [1, 2, 3, 4]\n",
    "novos_dados_test = dict()\n",
    "\n",
    "for key in energias_iniciais_multicanal:\n",
    "    novos_dados_test[key] = []\n",
    "    for n_ in n_combinacoes:\n",
    "        for distancia in [x for x in distancias if x == d_test]:\n",
    "            aux_data = [x for x in dados_por_energia_inicial_multicanal[key]\n",
    "                        if x['d'] == distancia]\n",
    "            for i in range(25):\n",
    "                values, labels, counts = gera_imagem_combinada_penelope(aux_data, n_)\n",
    "                novos_dados_test[key].append({'X' : values,\n",
    "                                              'y': labels,\n",
    "                                              'y_count': counts})"
   ]
  },
  {
   "cell_type": "code",
   "execution_count": 380,
   "metadata": {},
   "outputs": [],
   "source": [
    "for key in energias_iniciais_multicanal:\n",
    "    for item in novos_dados_test[key]:\n",
    "        X_test.append(list(item.values())[0].reshape((128, 128)))\n",
    "        y_test.append(item['y'][0])\n",
    "        y_counts_test.append(item['y_count'][0])"
   ]
  },
  {
   "cell_type": "code",
   "execution_count": 381,
   "metadata": {},
   "outputs": [
    {
     "data": {
      "text/plain": [
       "(600, 600, 600)"
      ]
     },
     "execution_count": 381,
     "metadata": {},
     "output_type": "execute_result"
    }
   ],
   "source": [
    "len(X_test), len(y_test), len(y_counts_test)"
   ]
  },
  {
   "cell_type": "markdown",
   "metadata": {},
   "source": [
    "# Modelo\n",
    "\n",
    "## Escalando os dados de contagem\n",
    "\n",
    "A rede neural gosta de coisas entre -1 e 1 ..."
   ]
  },
  {
   "cell_type": "code",
   "execution_count": 382,
   "metadata": {},
   "outputs": [
    {
     "data": {
      "text/plain": [
       "StandardScaler(copy=True, with_mean=True, with_std=True)"
      ]
     },
     "execution_count": 382,
     "metadata": {},
     "output_type": "execute_result"
    }
   ],
   "source": [
    "scaler = StandardScaler()\n",
    "scaler.fit(y_counts)\n",
    "\n",
    "#X_train, X_test, y_train, y_test = train_test_split(X, list(zip(y, scaler.transform(y_counts))),\n",
    "#                                                    test_size=0.30,\n",
    "#                                                    random_state=42)"
   ]
  },
  {
   "cell_type": "code",
   "execution_count": 383,
   "metadata": {},
   "outputs": [],
   "source": [
    "X_all_train = X\n",
    "X_all_test  = X_test"
   ]
  },
  {
   "cell_type": "code",
   "execution_count": 384,
   "metadata": {},
   "outputs": [],
   "source": [
    "y_all_train = list(zip(y, scaler.transform(y_counts)))"
   ]
  },
  {
   "cell_type": "code",
   "execution_count": 385,
   "metadata": {},
   "outputs": [],
   "source": [
    "y_all_test = list(zip(y_test, scaler.transform(y_counts_test)))"
   ]
  },
  {
   "cell_type": "code",
   "execution_count": 386,
   "metadata": {},
   "outputs": [
    {
     "data": {
      "text/plain": [
       "(16650, 600, 16650, 600)"
      ]
     },
     "execution_count": 386,
     "metadata": {},
     "output_type": "execute_result"
    }
   ],
   "source": [
    "len(X_all_train), len(X_all_test), len(y_all_train), len(y_all_test)"
   ]
  },
  {
   "cell_type": "markdown",
   "metadata": {},
   "source": [
    "## Armazenando os dados originais"
   ]
  },
  {
   "cell_type": "code",
   "execution_count": 387,
   "metadata": {},
   "outputs": [],
   "source": [
    "#!mkdir dados_v5\n",
    "!rm -rf dados_v5/*"
   ]
  },
  {
   "cell_type": "code",
   "execution_count": 388,
   "metadata": {},
   "outputs": [],
   "source": [
    "np.save(\"./dados_v5/X.npy\", [x.reshape((128,128,1)) for x in X])\n",
    "np.save(\"./dados_v5/y.npy\", y)\n",
    "np.save(\"./dados_v5/y_counts.npy\", y_counts)"
   ]
  },
  {
   "cell_type": "code",
   "execution_count": 389,
   "metadata": {},
   "outputs": [],
   "source": [
    "np.save(\"./dados_v5/X_test.npy\", [x.reshape((128,128,1)) for x in X_test])\n",
    "np.save(\"./dados_v5/y_test.npy\", y_test)\n",
    "np.save(\"./dados_v5/y_counts_test.npy\", y_counts_test)"
   ]
  },
  {
   "cell_type": "code",
   "execution_count": 390,
   "metadata": {},
   "outputs": [],
   "source": [
    "from keras.utils import Sequence"
   ]
  },
  {
   "cell_type": "code",
   "execution_count": 391,
   "metadata": {},
   "outputs": [],
   "source": [
    "class EspectraSequence(Sequence):\n",
    "\n",
    "    def __init__(self, x_set, y_set, y_set_count, batch_size):\n",
    "        self.x, self.y, self.y_set_count = x_set, y_set, y_set_count\n",
    "        self.batch_size = batch_size\n",
    "\n",
    "    def __len__(self):\n",
    "        return int(np.ceil(len(self.x) / float(self.batch_size)))\n",
    "\n",
    "    def __getitem__(self, idx):\n",
    "        batch_x = self.x[idx * self.batch_size:(idx + 1) * self.batch_size]\n",
    "        batch_y = self.y[idx * self.batch_size:(idx + 1) * self.batch_size]\n",
    "        batch_y_count = self.y_set_count[idx * self.batch_size:(idx + 1) * self.batch_size]\n",
    "\n",
    "        y_ = {'predictions_nuclei': np.array(batch_y, dtype=np.float32),\n",
    "              'predictions_counts': np.array(batch_y_count)}\n",
    "        \n",
    "        return np.array([x.reshape((128, 128, 1)) for x in batch_x]), y_"
   ]
  },
  {
   "cell_type": "code",
   "execution_count": 392,
   "metadata": {},
   "outputs": [],
   "source": [
    "s = EspectraSequence(X_all_train, [x[0] for x in y_all_train], [x[1] for x in y_all_train], batch_size=8)"
   ]
  },
  {
   "cell_type": "code",
   "execution_count": 393,
   "metadata": {},
   "outputs": [],
   "source": [
    "a, b = s.__getitem__(len(s)-1)"
   ]
  },
  {
   "cell_type": "code",
   "execution_count": 394,
   "metadata": {},
   "outputs": [
    {
     "data": {
      "image/png": "[encoded data removed]",
      "text/plain": [
       "<Figure size 432x288 with 1 Axes>"
      ]
     },
     "metadata": {},
     "output_type": "display_data"
    }
   ],
   "source": [
    "c = b['predictions_counts']\n",
    "b = b['predictions_nuclei']\n",
    "plt.imshow(a[0].reshape((128, 128)))\n",
    "plt.title(\" with \".join(binarizer.inverse_transform(np.array([b[0]]))[0]) + \" {:.0f} counts\".format(\n",
    "    np.sum(c[0])))\n",
    "plt.show()"
   ]
  },
  {
   "cell_type": "code",
   "execution_count": 395,
   "metadata": {},
   "outputs": [
    {
     "data": {
      "image/png": "[encoded data removed]",
      "text/plain": [
       "<Figure size 432x288 with 1 Axes>"
      ]
     },
     "metadata": {},
     "output_type": "display_data"
    }
   ],
   "source": [
    "plt.title(\" with \".join(binarizer.inverse_transform(np.array([b[0]]))[0]) + \" {:.0f} counts\".format(np.sum(c[0])))\n",
    "plt.yscale(\"log\")\n",
    "plt.plot(a[0].reshape(-1))\n",
    "plt.show()"
   ]
  },
  {
   "cell_type": "code",
   "execution_count": 396,
   "metadata": {},
   "outputs": [],
   "source": [
    "def accuracy_score_wrapper(label, pred):\n",
    "    threshold = .95\n",
    "    label = (label >= threshold).astype(np.uint8)\n",
    "    pred = (pred >= threshold).astype(np.uint8)\n",
    "    return np.float32(accuracy_score(label, pred))\n",
    "\n",
    "def my_accuracy_score(label, pred):\n",
    "    metric_value = tf.compat.v1.py_func(accuracy_score_wrapper, [label, pred], tf.float32)\n",
    "    return metric_value"
   ]
  },
  {
   "cell_type": "code",
   "execution_count": 397,
   "metadata": {
    "scrolled": true
   },
   "outputs": [],
   "source": [
    "K.clear_session()\n",
    "import keras\n",
    "vgg_model = VGG19(include_top=False,\n",
    "                  weights=None,\n",
    "                  input_shape=(128, 128, 1),\n",
    "                  classes=10)\n",
    "\n",
    "x = keras.layers.Flatten()(vgg_model.output)\n",
    "x = keras.layers.Dense(4096, activation='relu')(x)\n",
    "x = keras.layers.Dense(4096, activation='relu')(x)\n",
    "\n",
    "pred_nuclei = keras.layers.Dense(10, activation='sigmoid', name=\"predictions_nuclei\")(x)\n",
    "\n",
    "x1 = keras.layers.Flatten()(vgg_model.output)\n",
    "x1 = keras.layers.Dense(4096, activation='relu')(x1)\n",
    "x1 = keras.layers.Dense(4096, activation='relu')(x1)\n",
    "\n",
    "#pred_counts = keras.layers.Dense(10, activation=None, name=\"predictions_counts\")(x1)\n",
    "pred_counts = keras.layers.Dense(10, activation=None)(x1)\n",
    "pred_counts = keras.layers.multiply([pred_counts, pred_nuclei], name=\"predictions_counts\")\n",
    "\n",
    "#se a previsão do modelo for menor que zero, a gente zera a saída, afinal de contas\n",
    "#não existe atividade 0 bq :P\n",
    "#pred_counts = keras.layers.Lambda(lambda x: tf.where(x < 0, tf.zeros_like(x), x),\n",
    "#                                 name=\"predictions_counts\")(pred_counts)\n",
    "\n",
    "model = keras.models.Model(vgg_model.input, [pred_nuclei, pred_counts])\n",
    "#model.summary()\n"
   ]
  },
  {
   "cell_type": "code",
   "execution_count": 398,
   "metadata": {},
   "outputs": [],
   "source": [
    "learning_rate = 1e-4\n",
    "epochs = 250\n",
    "batch_size = 8\n",
    "steps_per_epoch = len(X_all_train) // batch_size + 1\n",
    "validation_steps = len(X_all_test) // batch_size + 1"
   ]
  },
  {
   "cell_type": "code",
   "execution_count": 399,
   "metadata": {},
   "outputs": [],
   "source": [
    "opt = SGD(lr=learning_rate,\n",
    "          nesterov=False,\n",
    "          momentum=0.9) # keras.optimizers.RMSprop(0.001)\n",
    "\n",
    "model.compile(optimizer=opt,\n",
    "              loss={\n",
    "                  'predictions_nuclei': 'binary_crossentropy',\n",
    "                  'predictions_counts': 'mean_squared_error'\n",
    "              },\n",
    "              metrics={\n",
    "                  'predictions_nuclei': [my_accuracy_score],#, 'accuracy'],\n",
    "                  #'predictions_counts': ['mean_squared_error', 'mean_absolute_error']\n",
    "              }\n",
    "             )"
   ]
  },
  {
   "cell_type": "code",
   "execution_count": 400,
   "metadata": {},
   "outputs": [
    {
     "name": "stdout",
     "output_type": "stream",
     "text": [
      "Tue Apr 14 07:52:09 2020       \r\n",
      "+-----------------------------------------------------------------------------+\r\n",
      "| NVIDIA-SMI 410.48                 Driver Version: 410.48                    |\r\n",
      "|-------------------------------+----------------------+----------------------+\r\n",
      "| GPU  Name        Persistence-M| Bus-Id        Disp.A | Volatile Uncorr. ECC |\r\n",
      "| Fan  Temp  Perf  Pwr:Usage/Cap|         Memory-Usage | GPU-Util  Compute M. |\r\n",
      "|===============================+======================+======================|\r\n",
      "|   0  GeForce GTX 1080    Off  | 00000000:01:00.0 Off |                  N/A |\r\n",
      "|  0%   36C    P8     9W / 180W |   7955MiB /  8117MiB |      0%      Default |\r\n",
      "+-------------------------------+----------------------+----------------------+\r\n",
      "                                                                               \r\n",
      "+-----------------------------------------------------------------------------+\r\n",
      "| Processes:                                                       GPU Memory |\r\n",
      "|  GPU       PID   Type   Process name                             Usage      |\r\n",
      "|=============================================================================|\r\n",
      "|    0      4352      C   /home/andre/.conda/envs/py36/bin/python     7945MiB |\r\n",
      "+-----------------------------------------------------------------------------+\r\n"
     ]
    }
   ],
   "source": [
    "!nvidia-smi"
   ]
  },
  {
   "cell_type": "code",
   "execution_count": 401,
   "metadata": {},
   "outputs": [],
   "source": [
    "#!mkdir ./logs_v5\n",
    "!rm -rf ./logs_v5"
   ]
  },
  {
   "cell_type": "code",
   "execution_count": 402,
   "metadata": {
    "scrolled": true
   },
   "outputs": [
    {
     "name": "stdout",
     "output_type": "stream",
     "text": [
      "Epoch 1/250\n",
      " - 171s - loss: 1.0465 - predictions_nuclei_loss: 0.6127 - predictions_counts_loss: 0.4338 - predictions_nuclei_my_accuracy_score: 0.0441 - val_loss: 0.9950 - val_predictions_nuclei_loss: 0.5848 - val_predictions_counts_loss: 0.4102 - val_predictions_nuclei_my_accuracy_score: 0.0461\n",
      "Epoch 2/250\n",
      " - 171s - loss: 0.8009 - predictions_nuclei_loss: 0.5418 - predictions_counts_loss: 0.2591 - predictions_nuclei_my_accuracy_score: 0.0749 - val_loss: 0.8178 - val_predictions_nuclei_loss: 0.5376 - val_predictions_counts_loss: 0.2802 - val_predictions_nuclei_my_accuracy_score: 0.0477\n",
      "Epoch 3/250\n",
      " - 171s - loss: 0.6568 - predictions_nuclei_loss: 0.4738 - predictions_counts_loss: 0.1830 - predictions_nuclei_my_accuracy_score: 0.0800 - val_loss: 0.6839 - val_predictions_nuclei_loss: 0.4733 - val_predictions_counts_loss: 0.2106 - val_predictions_nuclei_my_accuracy_score: 0.0493\n",
      "Epoch 4/250\n",
      " - 171s - loss: 0.5641 - predictions_nuclei_loss: 0.4085 - predictions_counts_loss: 0.1556 - predictions_nuclei_my_accuracy_score: 0.0880 - val_loss: 0.6323 - val_predictions_nuclei_loss: 0.4497 - val_predictions_counts_loss: 0.1826 - val_predictions_nuclei_my_accuracy_score: 0.0543\n",
      "Epoch 5/250\n",
      " - 171s - loss: 0.5267 - predictions_nuclei_loss: 0.3936 - predictions_counts_loss: 0.1331 - predictions_nuclei_my_accuracy_score: 0.0977 - val_loss: 0.6256 - val_predictions_nuclei_loss: 0.4564 - val_predictions_counts_loss: 0.1693 - val_predictions_nuclei_my_accuracy_score: 0.0576\n",
      "Epoch 6/250\n",
      " - 171s - loss: 0.4872 - predictions_nuclei_loss: 0.3888 - predictions_counts_loss: 0.0984 - predictions_nuclei_my_accuracy_score: 0.1039 - val_loss: 0.5068 - val_predictions_nuclei_loss: 0.4402 - val_predictions_counts_loss: 0.0667 - val_predictions_nuclei_my_accuracy_score: 0.0625\n",
      "Epoch 7/250\n",
      " - 171s - loss: 0.4491 - predictions_nuclei_loss: 0.3826 - predictions_counts_loss: 0.0665 - predictions_nuclei_my_accuracy_score: 0.1048 - val_loss: 0.4975 - val_predictions_nuclei_loss: 0.4380 - val_predictions_counts_loss: 0.0594 - val_predictions_nuclei_my_accuracy_score: 0.0625\n",
      "Epoch 8/250\n",
      " - 171s - loss: 0.4311 - predictions_nuclei_loss: 0.3759 - predictions_counts_loss: 0.0552 - predictions_nuclei_my_accuracy_score: 0.1063 - val_loss: 0.4651 - val_predictions_nuclei_loss: 0.4307 - val_predictions_counts_loss: 0.0344 - val_predictions_nuclei_my_accuracy_score: 0.0641\n",
      "Epoch 9/250\n",
      " - 171s - loss: 0.4114 - predictions_nuclei_loss: 0.3667 - predictions_counts_loss: 0.0446 - predictions_nuclei_my_accuracy_score: 0.1107 - val_loss: 0.4694 - val_predictions_nuclei_loss: 0.4281 - val_predictions_counts_loss: 0.0414 - val_predictions_nuclei_my_accuracy_score: 0.0658\n",
      "Epoch 10/250\n",
      " - 171s - loss: 0.3993 - predictions_nuclei_loss: 0.3610 - predictions_counts_loss: 0.0383 - predictions_nuclei_my_accuracy_score: 0.1171 - val_loss: 0.4988 - val_predictions_nuclei_loss: 0.4401 - val_predictions_counts_loss: 0.0587 - val_predictions_nuclei_my_accuracy_score: 0.0641\n",
      "Epoch 11/250\n",
      " - 171s - loss: 0.3885 - predictions_nuclei_loss: 0.3548 - predictions_counts_loss: 0.0337 - predictions_nuclei_my_accuracy_score: 0.1189 - val_loss: 0.4328 - val_predictions_nuclei_loss: 0.4071 - val_predictions_counts_loss: 0.0257 - val_predictions_nuclei_my_accuracy_score: 0.0707\n",
      "Epoch 12/250\n",
      " - 171s - loss: 0.3820 - predictions_nuclei_loss: 0.3493 - predictions_counts_loss: 0.0326 - predictions_nuclei_my_accuracy_score: 0.1228 - val_loss: 0.4538 - val_predictions_nuclei_loss: 0.4111 - val_predictions_counts_loss: 0.0427 - val_predictions_nuclei_my_accuracy_score: 0.0789\n",
      "Epoch 13/250\n",
      " - 171s - loss: 0.3716 - predictions_nuclei_loss: 0.3430 - predictions_counts_loss: 0.0286 - predictions_nuclei_my_accuracy_score: 0.1273 - val_loss: 0.4769 - val_predictions_nuclei_loss: 0.4037 - val_predictions_counts_loss: 0.0732 - val_predictions_nuclei_my_accuracy_score: 0.0740\n",
      "Epoch 14/250\n",
      " - 171s - loss: 0.3642 - predictions_nuclei_loss: 0.3367 - predictions_counts_loss: 0.0274 - predictions_nuclei_my_accuracy_score: 0.1360 - val_loss: 0.4375 - val_predictions_nuclei_loss: 0.4062 - val_predictions_counts_loss: 0.0313 - val_predictions_nuclei_my_accuracy_score: 0.0921\n",
      "Epoch 15/250\n",
      " - 171s - loss: 0.3576 - predictions_nuclei_loss: 0.3314 - predictions_counts_loss: 0.0262 - predictions_nuclei_my_accuracy_score: 0.1447 - val_loss: 0.4278 - val_predictions_nuclei_loss: 0.3895 - val_predictions_counts_loss: 0.0383 - val_predictions_nuclei_my_accuracy_score: 0.1020\n",
      "Epoch 16/250\n",
      " - 171s - loss: 0.3525 - predictions_nuclei_loss: 0.3260 - predictions_counts_loss: 0.0265 - predictions_nuclei_my_accuracy_score: 0.1597 - val_loss: 0.4090 - val_predictions_nuclei_loss: 0.3818 - val_predictions_counts_loss: 0.0272 - val_predictions_nuclei_my_accuracy_score: 0.1135\n",
      "Epoch 17/250\n",
      " - 171s - loss: 0.3445 - predictions_nuclei_loss: 0.3197 - predictions_counts_loss: 0.0248 - predictions_nuclei_my_accuracy_score: 0.1728 - val_loss: 0.4161 - val_predictions_nuclei_loss: 0.3751 - val_predictions_counts_loss: 0.0411 - val_predictions_nuclei_my_accuracy_score: 0.1118\n",
      "Epoch 18/250\n",
      " - 171s - loss: 0.3356 - predictions_nuclei_loss: 0.3127 - predictions_counts_loss: 0.0229 - predictions_nuclei_my_accuracy_score: 0.1854 - val_loss: 0.4005 - val_predictions_nuclei_loss: 0.3749 - val_predictions_counts_loss: 0.0256 - val_predictions_nuclei_my_accuracy_score: 0.1217\n",
      "Epoch 19/250\n",
      " - 171s - loss: 0.3284 - predictions_nuclei_loss: 0.3055 - predictions_counts_loss: 0.0229 - predictions_nuclei_my_accuracy_score: 0.1941 - val_loss: 0.3886 - val_predictions_nuclei_loss: 0.3685 - val_predictions_counts_loss: 0.0201 - val_predictions_nuclei_my_accuracy_score: 0.1234\n",
      "Epoch 20/250\n",
      " - 171s - loss: 0.3190 - predictions_nuclei_loss: 0.2967 - predictions_counts_loss: 0.0223 - predictions_nuclei_my_accuracy_score: 0.2040 - val_loss: 0.4159 - val_predictions_nuclei_loss: 0.3652 - val_predictions_counts_loss: 0.0507 - val_predictions_nuclei_my_accuracy_score: 0.1299\n",
      "Epoch 21/250\n",
      " - 171s - loss: 0.3095 - predictions_nuclei_loss: 0.2862 - predictions_counts_loss: 0.0233 - predictions_nuclei_my_accuracy_score: 0.2138 - val_loss: 0.3737 - val_predictions_nuclei_loss: 0.3418 - val_predictions_counts_loss: 0.0319 - val_predictions_nuclei_my_accuracy_score: 0.1382\n",
      "Epoch 22/250\n",
      " - 171s - loss: 0.2939 - predictions_nuclei_loss: 0.2715 - predictions_counts_loss: 0.0224 - predictions_nuclei_my_accuracy_score: 0.2308 - val_loss: 0.3534 - val_predictions_nuclei_loss: 0.3271 - val_predictions_counts_loss: 0.0263 - val_predictions_nuclei_my_accuracy_score: 0.1497\n",
      "Epoch 23/250\n",
      " - 171s - loss: 0.2806 - predictions_nuclei_loss: 0.2554 - predictions_counts_loss: 0.0251 - predictions_nuclei_my_accuracy_score: 0.2496 - val_loss: 0.3381 - val_predictions_nuclei_loss: 0.3075 - val_predictions_counts_loss: 0.0305 - val_predictions_nuclei_my_accuracy_score: 0.1546\n",
      "Epoch 24/250\n",
      " - 171s - loss: 0.2637 - predictions_nuclei_loss: 0.2392 - predictions_counts_loss: 0.0245 - predictions_nuclei_my_accuracy_score: 0.2821 - val_loss: 0.3362 - val_predictions_nuclei_loss: 0.3013 - val_predictions_counts_loss: 0.0349 - val_predictions_nuclei_my_accuracy_score: 0.1809\n",
      "Epoch 25/250\n",
      " - 171s - loss: 0.2521 - predictions_nuclei_loss: 0.2253 - predictions_counts_loss: 0.0268 - predictions_nuclei_my_accuracy_score: 0.3115 - val_loss: 0.3145 - val_predictions_nuclei_loss: 0.2881 - val_predictions_counts_loss: 0.0264 - val_predictions_nuclei_my_accuracy_score: 0.1924\n",
      "Epoch 26/250\n",
      " - 171s - loss: 0.2412 - predictions_nuclei_loss: 0.2133 - predictions_counts_loss: 0.0278 - predictions_nuclei_my_accuracy_score: 0.3380 - val_loss: 0.3054 - val_predictions_nuclei_loss: 0.2715 - val_predictions_counts_loss: 0.0339 - val_predictions_nuclei_my_accuracy_score: 0.2138\n",
      "Epoch 27/250\n",
      " - 171s - loss: 0.2300 - predictions_nuclei_loss: 0.2021 - predictions_counts_loss: 0.0279 - predictions_nuclei_my_accuracy_score: 0.3650 - val_loss: 0.3026 - val_predictions_nuclei_loss: 0.2645 - val_predictions_counts_loss: 0.0381 - val_predictions_nuclei_my_accuracy_score: 0.2385\n",
      "Epoch 28/250\n",
      " - 171s - loss: 0.2224 - predictions_nuclei_loss: 0.1937 - predictions_counts_loss: 0.0287 - predictions_nuclei_my_accuracy_score: 0.3863 - val_loss: 0.2854 - val_predictions_nuclei_loss: 0.2538 - val_predictions_counts_loss: 0.0316 - val_predictions_nuclei_my_accuracy_score: 0.2336\n"
     ]
    },
    {
     "name": "stdout",
     "output_type": "stream",
     "text": [
      "Epoch 29/250\n",
      " - 171s - loss: 0.2147 - predictions_nuclei_loss: 0.1854 - predictions_counts_loss: 0.0294 - predictions_nuclei_my_accuracy_score: 0.4060 - val_loss: 0.3079 - val_predictions_nuclei_loss: 0.2634 - val_predictions_counts_loss: 0.0445 - val_predictions_nuclei_my_accuracy_score: 0.2697\n",
      "Epoch 30/250\n",
      " - 171s - loss: 0.2068 - predictions_nuclei_loss: 0.1783 - predictions_counts_loss: 0.0284 - predictions_nuclei_my_accuracy_score: 0.4241 - val_loss: 0.2825 - val_predictions_nuclei_loss: 0.2458 - val_predictions_counts_loss: 0.0367 - val_predictions_nuclei_my_accuracy_score: 0.2796\n",
      "Epoch 31/250\n",
      " - 171s - loss: 0.1989 - predictions_nuclei_loss: 0.1713 - predictions_counts_loss: 0.0276 - predictions_nuclei_my_accuracy_score: 0.4439 - val_loss: 0.2906 - val_predictions_nuclei_loss: 0.2557 - val_predictions_counts_loss: 0.0349 - val_predictions_nuclei_my_accuracy_score: 0.2895\n",
      "Epoch 32/250\n",
      " - 171s - loss: 0.1938 - predictions_nuclei_loss: 0.1653 - predictions_counts_loss: 0.0285 - predictions_nuclei_my_accuracy_score: 0.4654 - val_loss: 0.2921 - val_predictions_nuclei_loss: 0.2388 - val_predictions_counts_loss: 0.0534 - val_predictions_nuclei_my_accuracy_score: 0.3257\n",
      "Epoch 33/250\n",
      " - 171s - loss: 0.1897 - predictions_nuclei_loss: 0.1607 - predictions_counts_loss: 0.0291 - predictions_nuclei_my_accuracy_score: 0.4846 - val_loss: 0.2700 - val_predictions_nuclei_loss: 0.2323 - val_predictions_counts_loss: 0.0378 - val_predictions_nuclei_my_accuracy_score: 0.3405\n",
      "Epoch 34/250\n",
      " - 171s - loss: 0.1846 - predictions_nuclei_loss: 0.1561 - predictions_counts_loss: 0.0285 - predictions_nuclei_my_accuracy_score: 0.4993 - val_loss: 0.2510 - val_predictions_nuclei_loss: 0.2218 - val_predictions_counts_loss: 0.0292 - val_predictions_nuclei_my_accuracy_score: 0.3421\n",
      "Epoch 35/250\n",
      " - 171s - loss: 0.1817 - predictions_nuclei_loss: 0.1523 - predictions_counts_loss: 0.0294 - predictions_nuclei_my_accuracy_score: 0.5145 - val_loss: 0.2619 - val_predictions_nuclei_loss: 0.2249 - val_predictions_counts_loss: 0.0370 - val_predictions_nuclei_my_accuracy_score: 0.3438\n",
      "Epoch 36/250\n",
      " - 171s - loss: 0.1782 - predictions_nuclei_loss: 0.1490 - predictions_counts_loss: 0.0292 - predictions_nuclei_my_accuracy_score: 0.5243 - val_loss: 0.2498 - val_predictions_nuclei_loss: 0.2196 - val_predictions_counts_loss: 0.0302 - val_predictions_nuclei_my_accuracy_score: 0.3569\n",
      "Epoch 37/250\n",
      " - 171s - loss: 0.1734 - predictions_nuclei_loss: 0.1452 - predictions_counts_loss: 0.0282 - predictions_nuclei_my_accuracy_score: 0.5336 - val_loss: 0.2668 - val_predictions_nuclei_loss: 0.2231 - val_predictions_counts_loss: 0.0437 - val_predictions_nuclei_my_accuracy_score: 0.3651\n",
      "Epoch 38/250\n",
      " - 171s - loss: 0.1705 - predictions_nuclei_loss: 0.1423 - predictions_counts_loss: 0.0282 - predictions_nuclei_my_accuracy_score: 0.5441 - val_loss: 0.2701 - val_predictions_nuclei_loss: 0.2197 - val_predictions_counts_loss: 0.0504 - val_predictions_nuclei_my_accuracy_score: 0.3783\n",
      "Epoch 39/250\n",
      " - 171s - loss: 0.1674 - predictions_nuclei_loss: 0.1392 - predictions_counts_loss: 0.0282 - predictions_nuclei_my_accuracy_score: 0.5494 - val_loss: 0.2632 - val_predictions_nuclei_loss: 0.2196 - val_predictions_counts_loss: 0.0436 - val_predictions_nuclei_my_accuracy_score: 0.3750\n",
      "Epoch 40/250\n",
      " - 171s - loss: 0.1655 - predictions_nuclei_loss: 0.1371 - predictions_counts_loss: 0.0284 - predictions_nuclei_my_accuracy_score: 0.5584 - val_loss: 0.2658 - val_predictions_nuclei_loss: 0.2132 - val_predictions_counts_loss: 0.0525 - val_predictions_nuclei_my_accuracy_score: 0.3865\n",
      "Epoch 41/250\n",
      " - 171s - loss: 0.1629 - predictions_nuclei_loss: 0.1347 - predictions_counts_loss: 0.0282 - predictions_nuclei_my_accuracy_score: 0.5639 - val_loss: 0.2573 - val_predictions_nuclei_loss: 0.2112 - val_predictions_counts_loss: 0.0461 - val_predictions_nuclei_my_accuracy_score: 0.3931\n",
      "Epoch 42/250\n",
      " - 171s - loss: 0.1614 - predictions_nuclei_loss: 0.1326 - predictions_counts_loss: 0.0287 - predictions_nuclei_my_accuracy_score: 0.5684 - val_loss: 0.2485 - val_predictions_nuclei_loss: 0.2076 - val_predictions_counts_loss: 0.0408 - val_predictions_nuclei_my_accuracy_score: 0.3882\n",
      "Epoch 43/250\n",
      " - 171s - loss: 0.1583 - predictions_nuclei_loss: 0.1300 - predictions_counts_loss: 0.0283 - predictions_nuclei_my_accuracy_score: 0.5735 - val_loss: 0.2686 - val_predictions_nuclei_loss: 0.2080 - val_predictions_counts_loss: 0.0607 - val_predictions_nuclei_my_accuracy_score: 0.3914\n",
      "Epoch 44/250\n",
      " - 171s - loss: 0.1567 - predictions_nuclei_loss: 0.1282 - predictions_counts_loss: 0.0285 - predictions_nuclei_my_accuracy_score: 0.5815 - val_loss: 0.2404 - val_predictions_nuclei_loss: 0.2067 - val_predictions_counts_loss: 0.0338 - val_predictions_nuclei_my_accuracy_score: 0.4095\n",
      "Epoch 45/250\n",
      " - 171s - loss: 0.1541 - predictions_nuclei_loss: 0.1262 - predictions_counts_loss: 0.0279 - predictions_nuclei_my_accuracy_score: 0.5881 - val_loss: 0.2393 - val_predictions_nuclei_loss: 0.2051 - val_predictions_counts_loss: 0.0342 - val_predictions_nuclei_my_accuracy_score: 0.4030\n",
      "Epoch 46/250\n",
      " - 171s - loss: 0.1526 - predictions_nuclei_loss: 0.1241 - predictions_counts_loss: 0.0285 - predictions_nuclei_my_accuracy_score: 0.5951 - val_loss: 0.2389 - val_predictions_nuclei_loss: 0.2032 - val_predictions_counts_loss: 0.0357 - val_predictions_nuclei_my_accuracy_score: 0.4194\n",
      "Epoch 47/250\n",
      " - 171s - loss: 0.1509 - predictions_nuclei_loss: 0.1227 - predictions_counts_loss: 0.0282 - predictions_nuclei_my_accuracy_score: 0.6000 - val_loss: 0.2422 - val_predictions_nuclei_loss: 0.2037 - val_predictions_counts_loss: 0.0384 - val_predictions_nuclei_my_accuracy_score: 0.4145\n",
      "Epoch 48/250\n",
      " - 171s - loss: 0.1495 - predictions_nuclei_loss: 0.1209 - predictions_counts_loss: 0.0286 - predictions_nuclei_my_accuracy_score: 0.6038 - val_loss: 0.2425 - val_predictions_nuclei_loss: 0.2043 - val_predictions_counts_loss: 0.0383 - val_predictions_nuclei_my_accuracy_score: 0.4227\n",
      "Epoch 49/250\n",
      " - 171s - loss: 0.1476 - predictions_nuclei_loss: 0.1194 - predictions_counts_loss: 0.0282 - predictions_nuclei_my_accuracy_score: 0.6104 - val_loss: 0.2408 - val_predictions_nuclei_loss: 0.2027 - val_predictions_counts_loss: 0.0381 - val_predictions_nuclei_my_accuracy_score: 0.4243\n",
      "Epoch 50/250\n",
      " - 171s - loss: 0.1462 - predictions_nuclei_loss: 0.1181 - predictions_counts_loss: 0.0281 - predictions_nuclei_my_accuracy_score: 0.6138 - val_loss: 0.2282 - val_predictions_nuclei_loss: 0.1952 - val_predictions_counts_loss: 0.0331 - val_predictions_nuclei_my_accuracy_score: 0.4391\n",
      "Epoch 51/250\n",
      " - 171s - loss: 0.1461 - predictions_nuclei_loss: 0.1170 - predictions_counts_loss: 0.0291 - predictions_nuclei_my_accuracy_score: 0.6175 - val_loss: 0.2360 - val_predictions_nuclei_loss: 0.2000 - val_predictions_counts_loss: 0.0360 - val_predictions_nuclei_my_accuracy_score: 0.4457\n",
      "Epoch 52/250\n",
      " - 171s - loss: 0.1437 - predictions_nuclei_loss: 0.1155 - predictions_counts_loss: 0.0282 - predictions_nuclei_my_accuracy_score: 0.6224 - val_loss: 0.2390 - val_predictions_nuclei_loss: 0.2041 - val_predictions_counts_loss: 0.0349 - val_predictions_nuclei_my_accuracy_score: 0.4326\n",
      "Epoch 53/250\n",
      " - 171s - loss: 0.1419 - predictions_nuclei_loss: 0.1142 - predictions_counts_loss: 0.0278 - predictions_nuclei_my_accuracy_score: 0.6254 - val_loss: 0.2345 - val_predictions_nuclei_loss: 0.1971 - val_predictions_counts_loss: 0.0374 - val_predictions_nuclei_my_accuracy_score: 0.4622\n",
      "Epoch 54/250\n",
      " - 171s - loss: 0.1400 - predictions_nuclei_loss: 0.1127 - predictions_counts_loss: 0.0273 - predictions_nuclei_my_accuracy_score: 0.6302 - val_loss: 0.2372 - val_predictions_nuclei_loss: 0.1966 - val_predictions_counts_loss: 0.0406 - val_predictions_nuclei_my_accuracy_score: 0.4704\n",
      "Epoch 55/250\n",
      " - 171s - loss: 0.1389 - predictions_nuclei_loss: 0.1113 - predictions_counts_loss: 0.0277 - predictions_nuclei_my_accuracy_score: 0.6325 - val_loss: 0.2397 - val_predictions_nuclei_loss: 0.1960 - val_predictions_counts_loss: 0.0437 - val_predictions_nuclei_my_accuracy_score: 0.4638\n",
      "Epoch 56/250\n",
      " - 171s - loss: 0.1385 - predictions_nuclei_loss: 0.1106 - predictions_counts_loss: 0.0278 - predictions_nuclei_my_accuracy_score: 0.6350 - val_loss: 0.2232 - val_predictions_nuclei_loss: 0.1917 - val_predictions_counts_loss: 0.0315 - val_predictions_nuclei_my_accuracy_score: 0.4688\n"
     ]
    },
    {
     "name": "stdout",
     "output_type": "stream",
     "text": [
      "Epoch 57/250\n",
      " - 171s - loss: 0.1376 - predictions_nuclei_loss: 0.1097 - predictions_counts_loss: 0.0279 - predictions_nuclei_my_accuracy_score: 0.6380 - val_loss: 0.2285 - val_predictions_nuclei_loss: 0.1906 - val_predictions_counts_loss: 0.0379 - val_predictions_nuclei_my_accuracy_score: 0.4770\n",
      "Epoch 58/250\n",
      " - 171s - loss: 0.1359 - predictions_nuclei_loss: 0.1081 - predictions_counts_loss: 0.0278 - predictions_nuclei_my_accuracy_score: 0.6398 - val_loss: 0.2385 - val_predictions_nuclei_loss: 0.1989 - val_predictions_counts_loss: 0.0396 - val_predictions_nuclei_my_accuracy_score: 0.4622\n",
      "Epoch 59/250\n",
      " - 171s - loss: 0.1350 - predictions_nuclei_loss: 0.1073 - predictions_counts_loss: 0.0277 - predictions_nuclei_my_accuracy_score: 0.6448 - val_loss: 0.2263 - val_predictions_nuclei_loss: 0.1910 - val_predictions_counts_loss: 0.0353 - val_predictions_nuclei_my_accuracy_score: 0.4753\n",
      "Epoch 60/250\n",
      " - 171s - loss: 0.1343 - predictions_nuclei_loss: 0.1068 - predictions_counts_loss: 0.0275 - predictions_nuclei_my_accuracy_score: 0.6467 - val_loss: 0.2404 - val_predictions_nuclei_loss: 0.2003 - val_predictions_counts_loss: 0.0401 - val_predictions_nuclei_my_accuracy_score: 0.4753\n",
      "Epoch 61/250\n",
      " - 171s - loss: 0.1321 - predictions_nuclei_loss: 0.1050 - predictions_counts_loss: 0.0271 - predictions_nuclei_my_accuracy_score: 0.6493 - val_loss: 0.2389 - val_predictions_nuclei_loss: 0.1987 - val_predictions_counts_loss: 0.0402 - val_predictions_nuclei_my_accuracy_score: 0.4720\n",
      "Epoch 62/250\n",
      " - 171s - loss: 0.1311 - predictions_nuclei_loss: 0.1043 - predictions_counts_loss: 0.0268 - predictions_nuclei_my_accuracy_score: 0.6539 - val_loss: 0.2499 - val_predictions_nuclei_loss: 0.2011 - val_predictions_counts_loss: 0.0488 - val_predictions_nuclei_my_accuracy_score: 0.4901\n",
      "Epoch 63/250\n",
      " - 171s - loss: 0.1304 - predictions_nuclei_loss: 0.1034 - predictions_counts_loss: 0.0270 - predictions_nuclei_my_accuracy_score: 0.6571 - val_loss: 0.2297 - val_predictions_nuclei_loss: 0.1940 - val_predictions_counts_loss: 0.0357 - val_predictions_nuclei_my_accuracy_score: 0.4918\n",
      "Epoch 64/250\n",
      " - 171s - loss: 0.1296 - predictions_nuclei_loss: 0.1028 - predictions_counts_loss: 0.0268 - predictions_nuclei_my_accuracy_score: 0.6592 - val_loss: 0.2233 - val_predictions_nuclei_loss: 0.1886 - val_predictions_counts_loss: 0.0347 - val_predictions_nuclei_my_accuracy_score: 0.5016\n",
      "Epoch 65/250\n",
      " - 171s - loss: 0.1282 - predictions_nuclei_loss: 0.1016 - predictions_counts_loss: 0.0266 - predictions_nuclei_my_accuracy_score: 0.6629 - val_loss: 0.2296 - val_predictions_nuclei_loss: 0.1934 - val_predictions_counts_loss: 0.0363 - val_predictions_nuclei_my_accuracy_score: 0.5016\n",
      "Epoch 66/250\n",
      " - 171s - loss: 0.1274 - predictions_nuclei_loss: 0.1009 - predictions_counts_loss: 0.0266 - predictions_nuclei_my_accuracy_score: 0.6662 - val_loss: 0.2313 - val_predictions_nuclei_loss: 0.1926 - val_predictions_counts_loss: 0.0387 - val_predictions_nuclei_my_accuracy_score: 0.5099\n",
      "Epoch 67/250\n",
      " - 171s - loss: 0.1272 - predictions_nuclei_loss: 0.1005 - predictions_counts_loss: 0.0268 - predictions_nuclei_my_accuracy_score: 0.6691 - val_loss: 0.2295 - val_predictions_nuclei_loss: 0.1899 - val_predictions_counts_loss: 0.0395 - val_predictions_nuclei_my_accuracy_score: 0.5099\n",
      "Epoch 68/250\n",
      " - 171s - loss: 0.1268 - predictions_nuclei_loss: 0.0998 - predictions_counts_loss: 0.0270 - predictions_nuclei_my_accuracy_score: 0.6689 - val_loss: 0.2496 - val_predictions_nuclei_loss: 0.1935 - val_predictions_counts_loss: 0.0561 - val_predictions_nuclei_my_accuracy_score: 0.5033\n",
      "Epoch 69/250\n",
      " - 171s - loss: 0.1263 - predictions_nuclei_loss: 0.0991 - predictions_counts_loss: 0.0271 - predictions_nuclei_my_accuracy_score: 0.6724 - val_loss: 0.2365 - val_predictions_nuclei_loss: 0.1927 - val_predictions_counts_loss: 0.0437 - val_predictions_nuclei_my_accuracy_score: 0.5000\n",
      "Epoch 70/250\n",
      " - 171s - loss: 0.1252 - predictions_nuclei_loss: 0.0984 - predictions_counts_loss: 0.0267 - predictions_nuclei_my_accuracy_score: 0.6735 - val_loss: 0.2254 - val_predictions_nuclei_loss: 0.1878 - val_predictions_counts_loss: 0.0376 - val_predictions_nuclei_my_accuracy_score: 0.4967\n",
      "Epoch 71/250\n",
      " - 171s - loss: 0.1245 - predictions_nuclei_loss: 0.0975 - predictions_counts_loss: 0.0270 - predictions_nuclei_my_accuracy_score: 0.6759 - val_loss: 0.2283 - val_predictions_nuclei_loss: 0.1921 - val_predictions_counts_loss: 0.0363 - val_predictions_nuclei_my_accuracy_score: 0.5082\n",
      "Epoch 72/250\n",
      " - 171s - loss: 0.1230 - predictions_nuclei_loss: 0.0964 - predictions_counts_loss: 0.0267 - predictions_nuclei_my_accuracy_score: 0.6802 - val_loss: 0.2383 - val_predictions_nuclei_loss: 0.1995 - val_predictions_counts_loss: 0.0388 - val_predictions_nuclei_my_accuracy_score: 0.5082\n",
      "Epoch 73/250\n",
      " - 171s - loss: 0.1220 - predictions_nuclei_loss: 0.0955 - predictions_counts_loss: 0.0266 - predictions_nuclei_my_accuracy_score: 0.6814 - val_loss: 0.2306 - val_predictions_nuclei_loss: 0.1938 - val_predictions_counts_loss: 0.0368 - val_predictions_nuclei_my_accuracy_score: 0.5066\n",
      "Epoch 74/250\n",
      " - 171s - loss: 0.1211 - predictions_nuclei_loss: 0.0949 - predictions_counts_loss: 0.0262 - predictions_nuclei_my_accuracy_score: 0.6846 - val_loss: 0.2329 - val_predictions_nuclei_loss: 0.1948 - val_predictions_counts_loss: 0.0381 - val_predictions_nuclei_my_accuracy_score: 0.5082\n",
      "Epoch 75/250\n",
      " - 171s - loss: 0.1207 - predictions_nuclei_loss: 0.0941 - predictions_counts_loss: 0.0265 - predictions_nuclei_my_accuracy_score: 0.6854 - val_loss: 0.2319 - val_predictions_nuclei_loss: 0.1925 - val_predictions_counts_loss: 0.0394 - val_predictions_nuclei_my_accuracy_score: 0.5164\n",
      "Epoch 76/250\n",
      " - 171s - loss: 0.1201 - predictions_nuclei_loss: 0.0933 - predictions_counts_loss: 0.0267 - predictions_nuclei_my_accuracy_score: 0.6898 - val_loss: 0.2302 - val_predictions_nuclei_loss: 0.1886 - val_predictions_counts_loss: 0.0416 - val_predictions_nuclei_my_accuracy_score: 0.5181\n"
     ]
    }
   ],
   "source": [
    "gerador_treino = EspectraSequence(X_all_train, [x[0] for x in y_all_train],\n",
    "                                  [x[1] for x in y_all_train],\n",
    "                                  batch_size=batch_size)\n",
    "#gerador_imagens(X_train, y_train, batch_size=batch_size)\n",
    "\n",
    "gerador_validacao = EspectraSequence(X_all_test, [x[0] for x in y_all_test],\n",
    "                                     [x[1] for x in y_all_test],\n",
    "                                     batch_size=batch_size)\n",
    "#gerador_imagens(X_test, y_test, batch_size=batch_size)\n",
    "\n",
    "es = keras.callbacks.EarlyStopping(monitor='val_loss',\n",
    "                                   mode='min',\n",
    "                                   patience=20)\n",
    "\n",
    "tb = keras.callbacks.TensorBoard(\n",
    "    log_dir='./logs_v5',\n",
    "    histogram_freq=0,\n",
    "    write_graph=True,\n",
    "    update_freq='epoch')\n",
    "\n",
    "#EspectraSequence(X_train, [x[0] for x in y_train], [x[1] for x in y_train], batch_size=8)\n",
    "\n",
    "callbacks = [es, tb]\n",
    "\n",
    "hist = model.fit_generator(generator=gerador_treino,\n",
    "                           steps_per_epoch=steps_per_epoch,\n",
    "                           epochs=epochs,\n",
    "                           verbose=2,\n",
    "                           callbacks=callbacks,\n",
    "                           validation_data=gerador_validacao, #(x_train_val, y_train_val),\n",
    "                           validation_steps=validation_steps,\n",
    "                           shuffle=True)\n"
   ]
  },
  {
   "cell_type": "code",
   "execution_count": 403,
   "metadata": {},
   "outputs": [],
   "source": [
    "from keras.models import save_model\n",
    "save_model(model, 'VGG-19-SGD-classificacao-regressao-PENELOPE-v5.hdf5')"
   ]
  },
  {
   "cell_type": "code",
   "execution_count": 404,
   "metadata": {},
   "outputs": [
    {
     "data": {
      "image/png": "[encoded data removed]",
      "text/plain": [
       "<Figure size 432x288 with 1 Axes>"
      ]
     },
     "metadata": {},
     "output_type": "display_data"
    }
   ],
   "source": [
    "plt.plot(hist.history['predictions_nuclei_my_accuracy_score'])\n",
    "plt.plot(hist.history['val_predictions_nuclei_my_accuracy_score'])\n",
    "plt.title('model accuracy')\n",
    "plt.ylabel('accuracy')\n",
    "plt.xlabel('epoch')\n",
    "plt.legend(['train', 'test'], loc='upper left')\n",
    "plt.show()"
   ]
  },
  {
   "cell_type": "code",
   "execution_count": 405,
   "metadata": {},
   "outputs": [
    {
     "data": {
      "image/png": "[encoded data removed]",
      "text/plain": [
       "<Figure size 432x288 with 1 Axes>"
      ]
     },
     "metadata": {},
     "output_type": "display_data"
    }
   ],
   "source": [
    "plt.plot(hist.history['predictions_counts_loss'])\n",
    "plt.plot(hist.history['val_predictions_counts_loss'])\n",
    "plt.title('model mean square error')\n",
    "plt.ylabel('coutns mean square error')\n",
    "plt.xlabel('epoch')\n",
    "plt.legend(['train', 'test'], loc='upper right')\n",
    "plt.show()"
   ]
  },
  {
   "cell_type": "code",
   "execution_count": 341,
   "metadata": {},
   "outputs": [
    {
     "data": {
      "image/png": "[encoded data removed]",
      "text/plain": [
       "<Figure size 432x288 with 1 Axes>"
      ]
     },
     "metadata": {},
     "output_type": "display_data"
    }
   ],
   "source": [
    "plt.plot(hist.history['predictions_nuclei_loss'])\n",
    "plt.plot(hist.history['val_predictions_nuclei_loss'])\n",
    "plt.title('model loss')\n",
    "plt.ylabel('loss')\n",
    "plt.xlabel('epoch')\n",
    "plt.legend(['train', 'test'], loc='upper right')\n",
    "plt.show()"
   ]
  },
  {
   "cell_type": "code",
   "execution_count": null,
   "metadata": {},
   "outputs": [],
   "source": [
    "val_metrics = model.evaluate_generator(gerador_validacao,\n",
    "                                       steps=validation_steps,\n",
    "                                      verbose=1)\n",
    "train_metrics = model.evaluate_generator(gerador_treino,\n",
    "                                         steps=steps_per_epoch,\n",
    "                                        verbose=1)\n"
   ]
  },
  {
   "cell_type": "code",
   "execution_count": null,
   "metadata": {},
   "outputs": [],
   "source": [
    "list(zip(model.metrics_names, val_metrics))"
   ]
  },
  {
   "cell_type": "code",
   "execution_count": null,
   "metadata": {},
   "outputs": [],
   "source": [
    "list(zip(model.metrics_names, train_metrics))"
   ]
  },
  {
   "cell_type": "markdown",
   "metadata": {},
   "source": [
    "# Validando nos espectros criados com Penelope"
   ]
  },
  {
   "cell_type": "code",
   "execution_count": 342,
   "metadata": {},
   "outputs": [],
   "source": [
    "from keras.utils.vis_utils import plot_model"
   ]
  },
  {
   "cell_type": "code",
   "execution_count": null,
   "metadata": {},
   "outputs": [],
   "source": [
    "#plot_model(model, to_file='model_plot.png', show_shapes=True, show_layer_names=True)"
   ]
  },
  {
   "cell_type": "code",
   "execution_count": 343,
   "metadata": {},
   "outputs": [
    {
     "name": "stdout",
     "output_type": "stream",
     "text": [
      "34\n"
     ]
    },
    {
     "data": {
      "image/png": "[encoded data removed]",
      "text/plain": [
       "<Figure size 1224x122.4 with 2 Axes>"
      ]
     },
     "metadata": {},
     "output_type": "display_data"
    }
   ],
   "source": [
    "idx_ = np.random.choice(len(gerador_validacao) - 1, 1)[0]\n",
    "print(idx_)\n",
    "x_, aux_ = gerador_validacao[idx_]\n",
    "\n",
    "y_counts = aux_['predictions_counts']\n",
    "y_ = aux_['predictions_nuclei']\n",
    "\n",
    "idx = 3\n",
    "f, axarr = plt.subplots(1, 2, figsize=(17, 1.7))\n",
    "axarr[0].plot(range(len(x_[idx].reshape(-1))),\n",
    "              x_[idx].reshape(-1), 'r')\n",
    "axarr[0].set_yscale(\"log\")\n",
    "\n",
    "axarr[0].set_title(\" with \".join(binarizer.inverse_transform(np.array([y_[idx]]))[0]))\n",
    "axarr[1].imshow(x_[idx].reshape((128,128)))\n",
    "\n",
    "plt.grid(False)\n",
    "plt.subplots_adjust(bottom=1.25, top=2.75)\n",
    "plt.show()"
   ]
  },
  {
   "cell_type": "code",
   "execution_count": 344,
   "metadata": {},
   "outputs": [
    {
     "data": {
      "image/png": "[encoded data removed]",
      "text/plain": [
       "<Figure size 1224x360 with 2 Axes>"
      ]
     },
     "metadata": {},
     "output_type": "display_data"
    }
   ],
   "source": [
    "\"\"\"\n",
    "f, axarr = plt.subplots(1, 2, figsize=(17, 5))\n",
    "plt.suptitle(\"Fonte tríplice de calibração Am-214, Cs-137, Co-60\", fontsize=16)\n",
    "axarr[0].plot(df_triplice['channel'], df_triplice.counts.shift(-145).fillna(0).values, 'r')\n",
    "axarr[0].set_title(\"Espectro\")\n",
    "axarr[0].set_yscale(\"log\")\n",
    "\n",
    "axarr[1].imshow(np.array(dados).reshape((128,128)))\n",
    "axarr[1].set_title(\"Imagem\")\n",
    "axarr[1].grid(False)\n",
    "\n",
    "#plt.subplots_adjust(bottom=1.25, top=2.75)\n",
    "plt.show()\n",
    "\"\"\"\n",
    "#idx_ = np.random.choice(len(gerador_validacao) - 1, 1)[0]\n",
    "x_, aux_ = gerador_validacao[idx_]\n",
    "\n",
    "y_counts = aux_['predictions_counts']\n",
    "y_ = aux_['predictions_nuclei']\n",
    "\n",
    "\n",
    "f, axarr = plt.subplots(1, 2, figsize=(17, 5))\n",
    "plt.suptitle(\"Espectro contendo: \"+\" e \".join(binarizer.inverse_transform(np.array([y_[idx]]))[0]),\n",
    "             fontsize=16)\n",
    "\n",
    "\n",
    "axarr[0].plot(range(len(x_[idx].reshape(-1))), x_[idx].reshape(-1), 'r')\n",
    "axarr[0].set_yscale(\"log\")\n",
    "axarr[0].set_xlabel(\"canal do detector\")\n",
    "axarr[0].set_ylabel(\"log(contagens)\")\n",
    "axarr[0].set_title(\"Espectro\", fontsize=14)\n",
    "\n",
    "axarr[1].set_title(\"Imagem\", fontsize=14)\n",
    "axarr[1].imshow(x_[0].reshape((128,128)))\n",
    "\n",
    "#plt.grid(False)\n",
    "#plt.subplots_adjust(bottom=1.25, top=2.75)\n",
    "plt.show()"
   ]
  },
  {
   "cell_type": "code",
   "execution_count": 345,
   "metadata": {},
   "outputs": [
    {
     "name": "stdout",
     "output_type": "stream",
     "text": [
      "CPU times: user 22 µs, sys: 3 µs, total: 25 µs\n",
      "Wall time: 53.6 µs\n"
     ]
    }
   ],
   "source": [
    "%time\n",
    "preds = model.predict(np.array([x_[idx].reshape((128, 128, 1))]))"
   ]
  },
  {
   "cell_type": "code",
   "execution_count": 346,
   "metadata": {},
   "outputs": [
    {
     "data": {
      "text/html": [
       "<div>\n",
       "<style scoped>\n",
       "    .dataframe tbody tr th:only-of-type {\n",
       "        vertical-align: middle;\n",
       "    }\n",
       "\n",
       "    .dataframe tbody tr th {\n",
       "        vertical-align: top;\n",
       "    }\n",
       "\n",
       "    .dataframe thead th {\n",
       "        text-align: right;\n",
       "    }\n",
       "</style>\n",
       "<table border=\"1\" class=\"dataframe\">\n",
       "  <thead>\n",
       "    <tr style=\"text-align: right;\">\n",
       "      <th></th>\n",
       "      <th>radionuclideo</th>\n",
       "      <th>nuclei_score</th>\n",
       "      <th>nuclei_counts</th>\n",
       "      <th>real_counts</th>\n",
       "    </tr>\n",
       "  </thead>\n",
       "  <tbody>\n",
       "    <tr>\n",
       "      <th>0</th>\n",
       "      <td>Am-241</td>\n",
       "      <td>60.05</td>\n",
       "      <td>-138,257,328.00</td>\n",
       "      <td>0.00</td>\n",
       "    </tr>\n",
       "    <tr>\n",
       "      <th>1</th>\n",
       "      <td>Ba-133</td>\n",
       "      <td>0.19</td>\n",
       "      <td>28,412,728.00</td>\n",
       "      <td>0.00</td>\n",
       "    </tr>\n",
       "    <tr>\n",
       "      <th>2</th>\n",
       "      <td>Cd-109</td>\n",
       "      <td>22.40</td>\n",
       "      <td>-50,368,024.00</td>\n",
       "      <td>0.00</td>\n",
       "    </tr>\n",
       "    <tr>\n",
       "      <th>3</th>\n",
       "      <td>Co-57</td>\n",
       "      <td>7.44</td>\n",
       "      <td>18,843,962.00</td>\n",
       "      <td>0.00</td>\n",
       "    </tr>\n",
       "    <tr>\n",
       "      <th>4</th>\n",
       "      <td>Co-60</td>\n",
       "      <td>99.67</td>\n",
       "      <td>-78,675,920.00</td>\n",
       "      <td>100,000.00</td>\n",
       "    </tr>\n",
       "    <tr>\n",
       "      <th>5</th>\n",
       "      <td>Cs-137</td>\n",
       "      <td>1.86</td>\n",
       "      <td>28,354,824.00</td>\n",
       "      <td>100,000.00</td>\n",
       "    </tr>\n",
       "    <tr>\n",
       "      <th>6</th>\n",
       "      <td>Eu-152</td>\n",
       "      <td>3.67</td>\n",
       "      <td>23,064,410.00</td>\n",
       "      <td>0.00</td>\n",
       "    </tr>\n",
       "    <tr>\n",
       "      <th>7</th>\n",
       "      <td>Mn-54</td>\n",
       "      <td>25.66</td>\n",
       "      <td>5,741,968.50</td>\n",
       "      <td>-0.00</td>\n",
       "    </tr>\n",
       "    <tr>\n",
       "      <th>8</th>\n",
       "      <td>Na-22</td>\n",
       "      <td>0.00</td>\n",
       "      <td>27,272,630.00</td>\n",
       "      <td>0.00</td>\n",
       "    </tr>\n",
       "    <tr>\n",
       "      <th>9</th>\n",
       "      <td>Pb-210</td>\n",
       "      <td>100.00</td>\n",
       "      <td>1,622,066,304.00</td>\n",
       "      <td>2,000,000,000.00</td>\n",
       "    </tr>\n",
       "  </tbody>\n",
       "</table>\n",
       "</div>"
      ],
      "text/plain": [
       "  radionuclideo  nuclei_score    nuclei_counts      real_counts\n",
       "0        Am-241         60.05  -138,257,328.00             0.00\n",
       "1        Ba-133          0.19    28,412,728.00             0.00\n",
       "2        Cd-109         22.40   -50,368,024.00             0.00\n",
       "3         Co-57          7.44    18,843,962.00             0.00\n",
       "4         Co-60         99.67   -78,675,920.00       100,000.00\n",
       "5        Cs-137          1.86    28,354,824.00       100,000.00\n",
       "6        Eu-152          3.67    23,064,410.00             0.00\n",
       "7         Mn-54         25.66     5,741,968.50            -0.00\n",
       "8         Na-22          0.00    27,272,630.00             0.00\n",
       "9        Pb-210        100.00 1,622,066,304.00 2,000,000,000.00"
      ]
     },
     "execution_count": 346,
     "metadata": {},
     "output_type": "execute_result"
    }
   ],
   "source": [
    "df = pd.DataFrame({'radionuclideo':binarizer.classes_,\n",
    "                   'nuclei_score': preds[0][0]*100,\n",
    "                   'nuclei_counts': scaler.inverse_transform(preds[1][0]),\n",
    "                   'real_counts': scaler.inverse_transform(y_counts[idx])})\n",
    "df"
   ]
  },
  {
   "cell_type": "code",
   "execution_count": null,
   "metadata": {},
   "outputs": [],
   "source": [
    "# Criar uma massa de dados simulando com papel ao invés de água\n",
    "# Corrigir as contagens na entrada pela eficiência da similação\n",
    "# Re-treinar"
   ]
  },
  {
   "cell_type": "markdown",
   "metadata": {},
   "source": [
    "# Validando nos espectros experimentais"
   ]
  },
  {
   "cell_type": "code",
   "execution_count": 347,
   "metadata": {},
   "outputs": [],
   "source": [
    "def obtem_dados_dos_canais(linhas):\n",
    "    dados = []\n",
    "    pode_comecar = False\n",
    "    for linha in linhas:\n",
    "        if linha == \"A004USERDEFINED                                                     \\n\":\n",
    "            pode_comecar = True\n",
    "            continue\n",
    "        if pode_comecar:\n",
    "            aux = linha.strip().split()\n",
    "            if int(aux[1]) % 5:\n",
    "                print(\"oi!\")\n",
    "            dados.extend([float(x) for x in aux[2:]])\n",
    "    return dados[1:]"
   ]
  },
  {
   "cell_type": "code",
   "execution_count": 348,
   "metadata": {},
   "outputs": [
    {
     "name": "stdout",
     "output_type": "stream",
     "text": [
      "Am-241 - BG.IEC\n",
      "Ba-133 - BG.IEC\n",
      "Cd-109 - BG.IEC\n",
      "Co-57 - BG.IEC\n",
      "Co-60 - BG.IEC\n",
      "Cs-137 - BG.IEC\n",
      "Eu-152 - BG.IEC\n",
      "Mn-54 - BG.IEC\n",
      "Na-22 - BG.IEC\n",
      "Pb-210 - BG.IEC\n"
     ]
    }
   ],
   "source": [
    "arquivos = ['Am-241 - BG.IEC',\n",
    "            'Ba-133 - BG.IEC',\n",
    "            'Cd-109 - BG.IEC',\n",
    "            'Co-57 - BG.IEC',\n",
    "            'Co-60 - BG.IEC',\n",
    "            'Cs-137 - BG.IEC',\n",
    "            'Eu-152 - BG.IEC',\n",
    "            'Mn-54 - BG.IEC',\n",
    "            'Na-22 - BG.IEC',\n",
    "            'Pb-210 - BG.IEC',]\n",
    "\n",
    "df_nuclideos = dict()\n",
    "img_espectros = dict()\n",
    "img_convertidos = dict()\n",
    "images = dict()\n",
    "\n",
    "for arquivo in arquivos:\n",
    "    print(arquivo)\n",
    "    dados = []\n",
    "\n",
    "    with open('/export/ipen/artigo/ICDA-3/Espectros/Experimentos/17-Maio-2018/Espectros/{0}'.format(arquivo), 'r') as f:\n",
    "        dados = f.readlines()\n",
    "    dados = obtem_dados_dos_canais(dados)\n",
    "    df = pd.DataFrame({'channel': range(0, len(dados)), 'counts' : dados})\n",
    "    df_nuclideos[arquivo] = df.copy()\n",
    "    img_convertidos[arquivo] = np.array(dados).reshape((128, 128)).copy()\n",
    "    images[arquivo.split(' ')[0]] = np.array(dados).reshape((128, 128)).copy()"
   ]
  },
  {
   "cell_type": "code",
   "execution_count": 349,
   "metadata": {},
   "outputs": [
    {
     "data": {
      "image/png": "[encoded data removed]",
      "text/plain": [
       "<Figure size 1080x1800 with 20 Axes>"
      ]
     },
     "metadata": {},
     "output_type": "display_data"
    }
   ],
   "source": [
    "f, axarr = plt.subplots(10, 2, figsize=(15,25))\n",
    "for n, arquivo in enumerate(arquivos):\n",
    "    df = df_nuclideos[arquivo]\n",
    "    axarr[n, 0].plot(df['channel'], df['counts'], 'r')\n",
    "    axarr[n, 0].set_title(\"Espectro : {0}\".format(arquivo))\n",
    "    axarr[n, 0].set_yscale(\"log\")\n",
    "    axarr[n, 1].imshow(img_convertidos[arquivo])\n",
    "    #axarr[n, 1].set_title(\"Como Imagem : {0}\".format(arquivo))\n",
    "    \n",
    "plt.grid(False)\n",
    "plt.subplots_adjust(bottom=1.25, top=2.75)\n",
    "plt.show()"
   ]
  },
  {
   "cell_type": "code",
   "execution_count": 351,
   "metadata": {},
   "outputs": [
    {
     "data": {
      "text/html": [
       "<div>\n",
       "<style scoped>\n",
       "    .dataframe tbody tr th:only-of-type {\n",
       "        vertical-align: middle;\n",
       "    }\n",
       "\n",
       "    .dataframe tbody tr th {\n",
       "        vertical-align: top;\n",
       "    }\n",
       "\n",
       "    .dataframe thead th {\n",
       "        text-align: right;\n",
       "    }\n",
       "</style>\n",
       "<table border=\"1\" class=\"dataframe\">\n",
       "  <thead>\n",
       "    <tr style=\"text-align: right;\">\n",
       "      <th></th>\n",
       "      <th>radionuclideo</th>\n",
       "      <th>nuclei_score</th>\n",
       "      <th>nuclei_counts</th>\n",
       "      <th>real_counts</th>\n",
       "    </tr>\n",
       "  </thead>\n",
       "  <tbody>\n",
       "    <tr>\n",
       "      <th>0</th>\n",
       "      <td>Am-241</td>\n",
       "      <td>99.98</td>\n",
       "      <td>6,688,463.50</td>\n",
       "      <td>141,596.00</td>\n",
       "    </tr>\n",
       "    <tr>\n",
       "      <th>1</th>\n",
       "      <td>Ba-133</td>\n",
       "      <td>0.08</td>\n",
       "      <td>28,495,148.00</td>\n",
       "      <td>141,596.00</td>\n",
       "    </tr>\n",
       "    <tr>\n",
       "      <th>2</th>\n",
       "      <td>Cd-109</td>\n",
       "      <td>26.22</td>\n",
       "      <td>-16,490,336.00</td>\n",
       "      <td>141,596.00</td>\n",
       "    </tr>\n",
       "    <tr>\n",
       "      <th>3</th>\n",
       "      <td>Co-57</td>\n",
       "      <td>30.22</td>\n",
       "      <td>2,380,529.00</td>\n",
       "      <td>141,596.00</td>\n",
       "    </tr>\n",
       "    <tr>\n",
       "      <th>4</th>\n",
       "      <td>Co-60</td>\n",
       "      <td>0.00</td>\n",
       "      <td>28,900,550.00</td>\n",
       "      <td>141,596.00</td>\n",
       "    </tr>\n",
       "    <tr>\n",
       "      <th>5</th>\n",
       "      <td>Cs-137</td>\n",
       "      <td>0.01</td>\n",
       "      <td>29,168,170.00</td>\n",
       "      <td>141,596.00</td>\n",
       "    </tr>\n",
       "    <tr>\n",
       "      <th>6</th>\n",
       "      <td>Eu-152</td>\n",
       "      <td>1.26</td>\n",
       "      <td>25,418,976.00</td>\n",
       "      <td>141,596.00</td>\n",
       "    </tr>\n",
       "    <tr>\n",
       "      <th>7</th>\n",
       "      <td>Mn-54</td>\n",
       "      <td>4.46</td>\n",
       "      <td>23,936,206.00</td>\n",
       "      <td>141,596.00</td>\n",
       "    </tr>\n",
       "    <tr>\n",
       "      <th>8</th>\n",
       "      <td>Na-22</td>\n",
       "      <td>0.04</td>\n",
       "      <td>27,241,766.00</td>\n",
       "      <td>141,596.00</td>\n",
       "    </tr>\n",
       "    <tr>\n",
       "      <th>9</th>\n",
       "      <td>Pb-210</td>\n",
       "      <td>1.58</td>\n",
       "      <td>23,760,772.00</td>\n",
       "      <td>141,596.00</td>\n",
       "    </tr>\n",
       "  </tbody>\n",
       "</table>\n",
       "</div>"
      ],
      "text/plain": [
       "  radionuclideo  nuclei_score  nuclei_counts  real_counts\n",
       "0        Am-241         99.98   6,688,463.50   141,596.00\n",
       "1        Ba-133          0.08  28,495,148.00   141,596.00\n",
       "2        Cd-109         26.22 -16,490,336.00   141,596.00\n",
       "3         Co-57         30.22   2,380,529.00   141,596.00\n",
       "4         Co-60          0.00  28,900,550.00   141,596.00\n",
       "5        Cs-137          0.01  29,168,170.00   141,596.00\n",
       "6        Eu-152          1.26  25,418,976.00   141,596.00\n",
       "7         Mn-54          4.46  23,936,206.00   141,596.00\n",
       "8         Na-22          0.04  27,241,766.00   141,596.00\n",
       "9        Pb-210          1.58  23,760,772.00   141,596.00"
      ]
     },
     "execution_count": 351,
     "metadata": {},
     "output_type": "execute_result"
    }
   ],
   "source": [
    "preds = model.predict(np.array([images['Am-241'].reshape((128, 128, 1))]))\n",
    "\n",
    "df = pd.DataFrame({'radionuclideo':binarizer.classes_,\n",
    "                   'nuclei_score': preds[0][0]*100,\n",
    "                   'nuclei_counts': scaler.inverse_transform(preds[1][0]),\n",
    "                   'real_counts': np.sum(images['Am-241'])})\n",
    "df"
   ]
  },
  {
   "cell_type": "code",
   "execution_count": 352,
   "metadata": {},
   "outputs": [
    {
     "data": {
      "text/html": [
       "<div>\n",
       "<style scoped>\n",
       "    .dataframe tbody tr th:only-of-type {\n",
       "        vertical-align: middle;\n",
       "    }\n",
       "\n",
       "    .dataframe tbody tr th {\n",
       "        vertical-align: top;\n",
       "    }\n",
       "\n",
       "    .dataframe thead th {\n",
       "        text-align: right;\n",
       "    }\n",
       "</style>\n",
       "<table border=\"1\" class=\"dataframe\">\n",
       "  <thead>\n",
       "    <tr style=\"text-align: right;\">\n",
       "      <th></th>\n",
       "      <th>radionuclideo</th>\n",
       "      <th>nuclei_score</th>\n",
       "      <th>nuclei_counts</th>\n",
       "      <th>real_counts</th>\n",
       "    </tr>\n",
       "  </thead>\n",
       "  <tbody>\n",
       "    <tr>\n",
       "      <th>0</th>\n",
       "      <td>Am-241</td>\n",
       "      <td>0.62</td>\n",
       "      <td>28,024,010.00</td>\n",
       "      <td>35,319.00</td>\n",
       "    </tr>\n",
       "    <tr>\n",
       "      <th>1</th>\n",
       "      <td>Ba-133</td>\n",
       "      <td>100.00</td>\n",
       "      <td>-43,671,708.00</td>\n",
       "      <td>35,319.00</td>\n",
       "    </tr>\n",
       "    <tr>\n",
       "      <th>2</th>\n",
       "      <td>Cd-109</td>\n",
       "      <td>12.45</td>\n",
       "      <td>10,373,312.00</td>\n",
       "      <td>35,319.00</td>\n",
       "    </tr>\n",
       "    <tr>\n",
       "      <th>3</th>\n",
       "      <td>Co-57</td>\n",
       "      <td>61.08</td>\n",
       "      <td>9,447,269.00</td>\n",
       "      <td>35,319.00</td>\n",
       "    </tr>\n",
       "    <tr>\n",
       "      <th>4</th>\n",
       "      <td>Co-60</td>\n",
       "      <td>0.00</td>\n",
       "      <td>28,900,616.00</td>\n",
       "      <td>35,319.00</td>\n",
       "    </tr>\n",
       "    <tr>\n",
       "      <th>5</th>\n",
       "      <td>Cs-137</td>\n",
       "      <td>0.00</td>\n",
       "      <td>29,184,482.00</td>\n",
       "      <td>35,319.00</td>\n",
       "    </tr>\n",
       "    <tr>\n",
       "      <th>6</th>\n",
       "      <td>Eu-152</td>\n",
       "      <td>0.40</td>\n",
       "      <td>27,711,880.00</td>\n",
       "      <td>35,319.00</td>\n",
       "    </tr>\n",
       "    <tr>\n",
       "      <th>7</th>\n",
       "      <td>Mn-54</td>\n",
       "      <td>4.28</td>\n",
       "      <td>25,986,800.00</td>\n",
       "      <td>35,319.00</td>\n",
       "    </tr>\n",
       "    <tr>\n",
       "      <th>8</th>\n",
       "      <td>Na-22</td>\n",
       "      <td>0.12</td>\n",
       "      <td>27,118,220.00</td>\n",
       "      <td>35,319.00</td>\n",
       "    </tr>\n",
       "    <tr>\n",
       "      <th>9</th>\n",
       "      <td>Pb-210</td>\n",
       "      <td>0.53</td>\n",
       "      <td>25,473,018.00</td>\n",
       "      <td>35,319.00</td>\n",
       "    </tr>\n",
       "  </tbody>\n",
       "</table>\n",
       "</div>"
      ],
      "text/plain": [
       "  radionuclideo  nuclei_score  nuclei_counts  real_counts\n",
       "0        Am-241          0.62  28,024,010.00    35,319.00\n",
       "1        Ba-133        100.00 -43,671,708.00    35,319.00\n",
       "2        Cd-109         12.45  10,373,312.00    35,319.00\n",
       "3         Co-57         61.08   9,447,269.00    35,319.00\n",
       "4         Co-60          0.00  28,900,616.00    35,319.00\n",
       "5        Cs-137          0.00  29,184,482.00    35,319.00\n",
       "6        Eu-152          0.40  27,711,880.00    35,319.00\n",
       "7         Mn-54          4.28  25,986,800.00    35,319.00\n",
       "8         Na-22          0.12  27,118,220.00    35,319.00\n",
       "9        Pb-210          0.53  25,473,018.00    35,319.00"
      ]
     },
     "execution_count": 352,
     "metadata": {},
     "output_type": "execute_result"
    }
   ],
   "source": [
    "validation_nuclei = 'Ba-133'\n",
    "preds = model.predict(np.array([images[validation_nuclei].reshape((128, 128, 1))]))\n",
    "\n",
    "df = pd.DataFrame({'radionuclideo':binarizer.classes_,\n",
    "                   'nuclei_score': preds[0][0]*100,\n",
    "                   'nuclei_counts': scaler.inverse_transform(preds[1][0]),\n",
    "                   'real_counts': np.sum(images[validation_nuclei])})\n",
    "df"
   ]
  },
  {
   "cell_type": "code",
   "execution_count": 353,
   "metadata": {},
   "outputs": [
    {
     "data": {
      "text/html": [
       "<div>\n",
       "<style scoped>\n",
       "    .dataframe tbody tr th:only-of-type {\n",
       "        vertical-align: middle;\n",
       "    }\n",
       "\n",
       "    .dataframe tbody tr th {\n",
       "        vertical-align: top;\n",
       "    }\n",
       "\n",
       "    .dataframe thead th {\n",
       "        text-align: right;\n",
       "    }\n",
       "</style>\n",
       "<table border=\"1\" class=\"dataframe\">\n",
       "  <thead>\n",
       "    <tr style=\"text-align: right;\">\n",
       "      <th></th>\n",
       "      <th>radionuclideo</th>\n",
       "      <th>nuclei_score</th>\n",
       "      <th>nuclei_counts</th>\n",
       "      <th>real_counts</th>\n",
       "    </tr>\n",
       "  </thead>\n",
       "  <tbody>\n",
       "    <tr>\n",
       "      <th>0</th>\n",
       "      <td>Am-241</td>\n",
       "      <td>3.61</td>\n",
       "      <td>19,816,006.00</td>\n",
       "      <td>7,195.00</td>\n",
       "    </tr>\n",
       "    <tr>\n",
       "      <th>1</th>\n",
       "      <td>Ba-133</td>\n",
       "      <td>0.27</td>\n",
       "      <td>28,247,422.00</td>\n",
       "      <td>7,195.00</td>\n",
       "    </tr>\n",
       "    <tr>\n",
       "      <th>2</th>\n",
       "      <td>Cd-109</td>\n",
       "      <td>99.89</td>\n",
       "      <td>-61,006,080.00</td>\n",
       "      <td>7,195.00</td>\n",
       "    </tr>\n",
       "    <tr>\n",
       "      <th>3</th>\n",
       "      <td>Co-57</td>\n",
       "      <td>0.20</td>\n",
       "      <td>28,551,522.00</td>\n",
       "      <td>7,195.00</td>\n",
       "    </tr>\n",
       "    <tr>\n",
       "      <th>4</th>\n",
       "      <td>Co-60</td>\n",
       "      <td>3.50</td>\n",
       "      <td>23,368,594.00</td>\n",
       "      <td>7,195.00</td>\n",
       "    </tr>\n",
       "    <tr>\n",
       "      <th>5</th>\n",
       "      <td>Cs-137</td>\n",
       "      <td>0.00</td>\n",
       "      <td>29,181,532.00</td>\n",
       "      <td>7,195.00</td>\n",
       "    </tr>\n",
       "    <tr>\n",
       "      <th>6</th>\n",
       "      <td>Eu-152</td>\n",
       "      <td>15.00</td>\n",
       "      <td>-18,586,712.00</td>\n",
       "      <td>7,195.00</td>\n",
       "    </tr>\n",
       "    <tr>\n",
       "      <th>7</th>\n",
       "      <td>Mn-54</td>\n",
       "      <td>0.60</td>\n",
       "      <td>27,558,266.00</td>\n",
       "      <td>7,195.00</td>\n",
       "    </tr>\n",
       "    <tr>\n",
       "      <th>8</th>\n",
       "      <td>Na-22</td>\n",
       "      <td>0.00</td>\n",
       "      <td>27,272,140.00</td>\n",
       "      <td>7,195.00</td>\n",
       "    </tr>\n",
       "    <tr>\n",
       "      <th>9</th>\n",
       "      <td>Pb-210</td>\n",
       "      <td>0.26</td>\n",
       "      <td>26,131,816.00</td>\n",
       "      <td>7,195.00</td>\n",
       "    </tr>\n",
       "  </tbody>\n",
       "</table>\n",
       "</div>"
      ],
      "text/plain": [
       "  radionuclideo  nuclei_score  nuclei_counts  real_counts\n",
       "0        Am-241          3.61  19,816,006.00     7,195.00\n",
       "1        Ba-133          0.27  28,247,422.00     7,195.00\n",
       "2        Cd-109         99.89 -61,006,080.00     7,195.00\n",
       "3         Co-57          0.20  28,551,522.00     7,195.00\n",
       "4         Co-60          3.50  23,368,594.00     7,195.00\n",
       "5        Cs-137          0.00  29,181,532.00     7,195.00\n",
       "6        Eu-152         15.00 -18,586,712.00     7,195.00\n",
       "7         Mn-54          0.60  27,558,266.00     7,195.00\n",
       "8         Na-22          0.00  27,272,140.00     7,195.00\n",
       "9        Pb-210          0.26  26,131,816.00     7,195.00"
      ]
     },
     "execution_count": 353,
     "metadata": {},
     "output_type": "execute_result"
    }
   ],
   "source": [
    "validation_nuclei = 'Cd-109'\n",
    "preds = model.predict(np.array([images[validation_nuclei].reshape((128, 128, 1))]))\n",
    "\n",
    "df = pd.DataFrame({'radionuclideo':binarizer.classes_,\n",
    "                   'nuclei_score': preds[0][0]*100,\n",
    "                   'nuclei_counts': scaler.inverse_transform(preds[1][0]),\n",
    "                   'real_counts': np.sum(images[validation_nuclei])})\n",
    "df"
   ]
  },
  {
   "cell_type": "code",
   "execution_count": 354,
   "metadata": {},
   "outputs": [
    {
     "data": {
      "text/html": [
       "<div>\n",
       "<style scoped>\n",
       "    .dataframe tbody tr th:only-of-type {\n",
       "        vertical-align: middle;\n",
       "    }\n",
       "\n",
       "    .dataframe tbody tr th {\n",
       "        vertical-align: top;\n",
       "    }\n",
       "\n",
       "    .dataframe thead th {\n",
       "        text-align: right;\n",
       "    }\n",
       "</style>\n",
       "<table border=\"1\" class=\"dataframe\">\n",
       "  <thead>\n",
       "    <tr style=\"text-align: right;\">\n",
       "      <th></th>\n",
       "      <th>radionuclideo</th>\n",
       "      <th>nuclei_score</th>\n",
       "      <th>nuclei_counts</th>\n",
       "      <th>real_counts</th>\n",
       "    </tr>\n",
       "  </thead>\n",
       "  <tbody>\n",
       "    <tr>\n",
       "      <th>0</th>\n",
       "      <td>Am-241</td>\n",
       "      <td>12.48</td>\n",
       "      <td>-8,996,222.00</td>\n",
       "      <td>7,323.00</td>\n",
       "    </tr>\n",
       "    <tr>\n",
       "      <th>1</th>\n",
       "      <td>Ba-133</td>\n",
       "      <td>0.35</td>\n",
       "      <td>28,192,600.00</td>\n",
       "      <td>7,323.00</td>\n",
       "    </tr>\n",
       "    <tr>\n",
       "      <th>2</th>\n",
       "      <td>Cd-109</td>\n",
       "      <td>12.15</td>\n",
       "      <td>10,950,254.00</td>\n",
       "      <td>7,323.00</td>\n",
       "    </tr>\n",
       "    <tr>\n",
       "      <th>3</th>\n",
       "      <td>Co-57</td>\n",
       "      <td>99.97</td>\n",
       "      <td>11,533,787.00</td>\n",
       "      <td>7,323.00</td>\n",
       "    </tr>\n",
       "    <tr>\n",
       "      <th>4</th>\n",
       "      <td>Co-60</td>\n",
       "      <td>0.00</td>\n",
       "      <td>28,897,930.00</td>\n",
       "      <td>7,323.00</td>\n",
       "    </tr>\n",
       "    <tr>\n",
       "      <th>5</th>\n",
       "      <td>Cs-137</td>\n",
       "      <td>0.05</td>\n",
       "      <td>29,080,938.00</td>\n",
       "      <td>7,323.00</td>\n",
       "    </tr>\n",
       "    <tr>\n",
       "      <th>6</th>\n",
       "      <td>Eu-152</td>\n",
       "      <td>4.07</td>\n",
       "      <td>15,336,587.00</td>\n",
       "      <td>7,323.00</td>\n",
       "    </tr>\n",
       "    <tr>\n",
       "      <th>7</th>\n",
       "      <td>Mn-54</td>\n",
       "      <td>0.03</td>\n",
       "      <td>28,387,552.00</td>\n",
       "      <td>7,323.00</td>\n",
       "    </tr>\n",
       "    <tr>\n",
       "      <th>8</th>\n",
       "      <td>Na-22</td>\n",
       "      <td>0.00</td>\n",
       "      <td>27,272,586.00</td>\n",
       "      <td>7,323.00</td>\n",
       "    </tr>\n",
       "    <tr>\n",
       "      <th>9</th>\n",
       "      <td>Pb-210</td>\n",
       "      <td>0.15</td>\n",
       "      <td>26,497,764.00</td>\n",
       "      <td>7,323.00</td>\n",
       "    </tr>\n",
       "  </tbody>\n",
       "</table>\n",
       "</div>"
      ],
      "text/plain": [
       "  radionuclideo  nuclei_score  nuclei_counts  real_counts\n",
       "0        Am-241         12.48  -8,996,222.00     7,323.00\n",
       "1        Ba-133          0.35  28,192,600.00     7,323.00\n",
       "2        Cd-109         12.15  10,950,254.00     7,323.00\n",
       "3         Co-57         99.97  11,533,787.00     7,323.00\n",
       "4         Co-60          0.00  28,897,930.00     7,323.00\n",
       "5        Cs-137          0.05  29,080,938.00     7,323.00\n",
       "6        Eu-152          4.07  15,336,587.00     7,323.00\n",
       "7         Mn-54          0.03  28,387,552.00     7,323.00\n",
       "8         Na-22          0.00  27,272,586.00     7,323.00\n",
       "9        Pb-210          0.15  26,497,764.00     7,323.00"
      ]
     },
     "execution_count": 354,
     "metadata": {},
     "output_type": "execute_result"
    }
   ],
   "source": [
    "validation_nuclei = 'Co-57'\n",
    "preds = model.predict(np.array([images[validation_nuclei].reshape((128, 128, 1))]))\n",
    "\n",
    "df = pd.DataFrame({'radionuclideo':binarizer.classes_,\n",
    "                   'nuclei_score': preds[0][0]*100,\n",
    "                   'nuclei_counts': scaler.inverse_transform(preds[1][0]),\n",
    "                   'real_counts': np.sum(images[validation_nuclei])})\n",
    "df"
   ]
  },
  {
   "cell_type": "code",
   "execution_count": 355,
   "metadata": {},
   "outputs": [
    {
     "data": {
      "text/html": [
       "<div>\n",
       "<style scoped>\n",
       "    .dataframe tbody tr th:only-of-type {\n",
       "        vertical-align: middle;\n",
       "    }\n",
       "\n",
       "    .dataframe tbody tr th {\n",
       "        vertical-align: top;\n",
       "    }\n",
       "\n",
       "    .dataframe thead th {\n",
       "        text-align: right;\n",
       "    }\n",
       "</style>\n",
       "<table border=\"1\" class=\"dataframe\">\n",
       "  <thead>\n",
       "    <tr style=\"text-align: right;\">\n",
       "      <th></th>\n",
       "      <th>radionuclideo</th>\n",
       "      <th>nuclei_score</th>\n",
       "      <th>nuclei_counts</th>\n",
       "      <th>real_counts</th>\n",
       "    </tr>\n",
       "  </thead>\n",
       "  <tbody>\n",
       "    <tr>\n",
       "      <th>0</th>\n",
       "      <td>Am-241</td>\n",
       "      <td>0.29</td>\n",
       "      <td>28,981,304.00</td>\n",
       "      <td>155,643.00</td>\n",
       "    </tr>\n",
       "    <tr>\n",
       "      <th>1</th>\n",
       "      <td>Ba-133</td>\n",
       "      <td>0.01</td>\n",
       "      <td>28,640,124.00</td>\n",
       "      <td>155,643.00</td>\n",
       "    </tr>\n",
       "    <tr>\n",
       "      <th>2</th>\n",
       "      <td>Cd-109</td>\n",
       "      <td>3.92</td>\n",
       "      <td>23,613,730.00</td>\n",
       "      <td>155,643.00</td>\n",
       "    </tr>\n",
       "    <tr>\n",
       "      <th>3</th>\n",
       "      <td>Co-57</td>\n",
       "      <td>2.34</td>\n",
       "      <td>25,298,666.00</td>\n",
       "      <td>155,643.00</td>\n",
       "    </tr>\n",
       "    <tr>\n",
       "      <th>4</th>\n",
       "      <td>Co-60</td>\n",
       "      <td>100.00</td>\n",
       "      <td>-7,089,433.50</td>\n",
       "      <td>155,643.00</td>\n",
       "    </tr>\n",
       "    <tr>\n",
       "      <th>5</th>\n",
       "      <td>Cs-137</td>\n",
       "      <td>0.00</td>\n",
       "      <td>29,183,714.00</td>\n",
       "      <td>155,643.00</td>\n",
       "    </tr>\n",
       "    <tr>\n",
       "      <th>6</th>\n",
       "      <td>Eu-152</td>\n",
       "      <td>0.14</td>\n",
       "      <td>28,604,124.00</td>\n",
       "      <td>155,643.00</td>\n",
       "    </tr>\n",
       "    <tr>\n",
       "      <th>7</th>\n",
       "      <td>Mn-54</td>\n",
       "      <td>26.18</td>\n",
       "      <td>8,957,815.00</td>\n",
       "      <td>155,643.00</td>\n",
       "    </tr>\n",
       "    <tr>\n",
       "      <th>8</th>\n",
       "      <td>Na-22</td>\n",
       "      <td>0.02</td>\n",
       "      <td>27,253,056.00</td>\n",
       "      <td>155,643.00</td>\n",
       "    </tr>\n",
       "    <tr>\n",
       "      <th>9</th>\n",
       "      <td>Pb-210</td>\n",
       "      <td>0.30</td>\n",
       "      <td>26,035,124.00</td>\n",
       "      <td>155,643.00</td>\n",
       "    </tr>\n",
       "  </tbody>\n",
       "</table>\n",
       "</div>"
      ],
      "text/plain": [
       "  radionuclideo  nuclei_score  nuclei_counts  real_counts\n",
       "0        Am-241          0.29  28,981,304.00   155,643.00\n",
       "1        Ba-133          0.01  28,640,124.00   155,643.00\n",
       "2        Cd-109          3.92  23,613,730.00   155,643.00\n",
       "3         Co-57          2.34  25,298,666.00   155,643.00\n",
       "4         Co-60        100.00  -7,089,433.50   155,643.00\n",
       "5        Cs-137          0.00  29,183,714.00   155,643.00\n",
       "6        Eu-152          0.14  28,604,124.00   155,643.00\n",
       "7         Mn-54         26.18   8,957,815.00   155,643.00\n",
       "8         Na-22          0.02  27,253,056.00   155,643.00\n",
       "9        Pb-210          0.30  26,035,124.00   155,643.00"
      ]
     },
     "execution_count": 355,
     "metadata": {},
     "output_type": "execute_result"
    }
   ],
   "source": [
    "validation_nuclei = 'Co-60'\n",
    "preds = model.predict(np.array([images[validation_nuclei].reshape((128, 128, 1))]))\n",
    "\n",
    "df = pd.DataFrame({'radionuclideo':binarizer.classes_,\n",
    "                   'nuclei_score': preds[0][0]*100,\n",
    "                   'nuclei_counts': scaler.inverse_transform(preds[1][0]),\n",
    "                   'real_counts': np.sum(images[validation_nuclei])})\n",
    "df"
   ]
  },
  {
   "cell_type": "code",
   "execution_count": 356,
   "metadata": {},
   "outputs": [
    {
     "data": {
      "text/html": [
       "<div>\n",
       "<style scoped>\n",
       "    .dataframe tbody tr th:only-of-type {\n",
       "        vertical-align: middle;\n",
       "    }\n",
       "\n",
       "    .dataframe tbody tr th {\n",
       "        vertical-align: top;\n",
       "    }\n",
       "\n",
       "    .dataframe thead th {\n",
       "        text-align: right;\n",
       "    }\n",
       "</style>\n",
       "<table border=\"1\" class=\"dataframe\">\n",
       "  <thead>\n",
       "    <tr style=\"text-align: right;\">\n",
       "      <th></th>\n",
       "      <th>radionuclideo</th>\n",
       "      <th>nuclei_score</th>\n",
       "      <th>nuclei_counts</th>\n",
       "      <th>real_counts</th>\n",
       "    </tr>\n",
       "  </thead>\n",
       "  <tbody>\n",
       "    <tr>\n",
       "      <th>0</th>\n",
       "      <td>Am-241</td>\n",
       "      <td>1.43</td>\n",
       "      <td>25,882,138.00</td>\n",
       "      <td>188,461.00</td>\n",
       "    </tr>\n",
       "    <tr>\n",
       "      <th>1</th>\n",
       "      <td>Ba-133</td>\n",
       "      <td>0.13</td>\n",
       "      <td>28,461,888.00</td>\n",
       "      <td>188,461.00</td>\n",
       "    </tr>\n",
       "    <tr>\n",
       "      <th>2</th>\n",
       "      <td>Cd-109</td>\n",
       "      <td>2.61</td>\n",
       "      <td>24,076,212.00</td>\n",
       "      <td>188,461.00</td>\n",
       "    </tr>\n",
       "    <tr>\n",
       "      <th>3</th>\n",
       "      <td>Co-57</td>\n",
       "      <td>16.10</td>\n",
       "      <td>15,318,300.00</td>\n",
       "      <td>188,461.00</td>\n",
       "    </tr>\n",
       "    <tr>\n",
       "      <th>4</th>\n",
       "      <td>Co-60</td>\n",
       "      <td>0.00</td>\n",
       "      <td>28,900,590.00</td>\n",
       "      <td>188,461.00</td>\n",
       "    </tr>\n",
       "    <tr>\n",
       "      <th>5</th>\n",
       "      <td>Cs-137</td>\n",
       "      <td>100.00</td>\n",
       "      <td>-33,071,216.00</td>\n",
       "      <td>188,461.00</td>\n",
       "    </tr>\n",
       "    <tr>\n",
       "      <th>6</th>\n",
       "      <td>Eu-152</td>\n",
       "      <td>0.39</td>\n",
       "      <td>27,880,646.00</td>\n",
       "      <td>188,461.00</td>\n",
       "    </tr>\n",
       "    <tr>\n",
       "      <th>7</th>\n",
       "      <td>Mn-54</td>\n",
       "      <td>0.93</td>\n",
       "      <td>27,427,684.00</td>\n",
       "      <td>188,461.00</td>\n",
       "    </tr>\n",
       "    <tr>\n",
       "      <th>8</th>\n",
       "      <td>Na-22</td>\n",
       "      <td>0.13</td>\n",
       "      <td>27,169,014.00</td>\n",
       "      <td>188,461.00</td>\n",
       "    </tr>\n",
       "    <tr>\n",
       "      <th>9</th>\n",
       "      <td>Pb-210</td>\n",
       "      <td>0.41</td>\n",
       "      <td>25,543,438.00</td>\n",
       "      <td>188,461.00</td>\n",
       "    </tr>\n",
       "  </tbody>\n",
       "</table>\n",
       "</div>"
      ],
      "text/plain": [
       "  radionuclideo  nuclei_score  nuclei_counts  real_counts\n",
       "0        Am-241          1.43  25,882,138.00   188,461.00\n",
       "1        Ba-133          0.13  28,461,888.00   188,461.00\n",
       "2        Cd-109          2.61  24,076,212.00   188,461.00\n",
       "3         Co-57         16.10  15,318,300.00   188,461.00\n",
       "4         Co-60          0.00  28,900,590.00   188,461.00\n",
       "5        Cs-137        100.00 -33,071,216.00   188,461.00\n",
       "6        Eu-152          0.39  27,880,646.00   188,461.00\n",
       "7         Mn-54          0.93  27,427,684.00   188,461.00\n",
       "8         Na-22          0.13  27,169,014.00   188,461.00\n",
       "9        Pb-210          0.41  25,543,438.00   188,461.00"
      ]
     },
     "execution_count": 356,
     "metadata": {},
     "output_type": "execute_result"
    }
   ],
   "source": [
    "validation_nuclei = 'Cs-137'\n",
    "preds = model.predict(np.array([images[validation_nuclei].reshape((128, 128, 1))]))\n",
    "\n",
    "df = pd.DataFrame({'radionuclideo':binarizer.classes_,\n",
    "                   'nuclei_score': preds[0][0]*100,\n",
    "                   'nuclei_counts': scaler.inverse_transform(preds[1][0]),\n",
    "                   'real_counts': np.sum(images[validation_nuclei])})\n",
    "df"
   ]
  },
  {
   "cell_type": "code",
   "execution_count": 357,
   "metadata": {},
   "outputs": [
    {
     "data": {
      "text/html": [
       "<div>\n",
       "<style scoped>\n",
       "    .dataframe tbody tr th:only-of-type {\n",
       "        vertical-align: middle;\n",
       "    }\n",
       "\n",
       "    .dataframe tbody tr th {\n",
       "        vertical-align: top;\n",
       "    }\n",
       "\n",
       "    .dataframe thead th {\n",
       "        text-align: right;\n",
       "    }\n",
       "</style>\n",
       "<table border=\"1\" class=\"dataframe\">\n",
       "  <thead>\n",
       "    <tr style=\"text-align: right;\">\n",
       "      <th></th>\n",
       "      <th>radionuclideo</th>\n",
       "      <th>nuclei_score</th>\n",
       "      <th>nuclei_counts</th>\n",
       "      <th>real_counts</th>\n",
       "    </tr>\n",
       "  </thead>\n",
       "  <tbody>\n",
       "    <tr>\n",
       "      <th>0</th>\n",
       "      <td>Am-241</td>\n",
       "      <td>1.50</td>\n",
       "      <td>26,720,682.00</td>\n",
       "      <td>94,419.00</td>\n",
       "    </tr>\n",
       "    <tr>\n",
       "      <th>1</th>\n",
       "      <td>Ba-133</td>\n",
       "      <td>0.09</td>\n",
       "      <td>28,489,490.00</td>\n",
       "      <td>94,419.00</td>\n",
       "    </tr>\n",
       "    <tr>\n",
       "      <th>2</th>\n",
       "      <td>Cd-109</td>\n",
       "      <td>6.38</td>\n",
       "      <td>19,711,718.00</td>\n",
       "      <td>94,419.00</td>\n",
       "    </tr>\n",
       "    <tr>\n",
       "      <th>3</th>\n",
       "      <td>Co-57</td>\n",
       "      <td>40.45</td>\n",
       "      <td>4,939,425.00</td>\n",
       "      <td>94,419.00</td>\n",
       "    </tr>\n",
       "    <tr>\n",
       "      <th>4</th>\n",
       "      <td>Co-60</td>\n",
       "      <td>0.00</td>\n",
       "      <td>28,900,660.00</td>\n",
       "      <td>94,419.00</td>\n",
       "    </tr>\n",
       "    <tr>\n",
       "      <th>5</th>\n",
       "      <td>Cs-137</td>\n",
       "      <td>0.01</td>\n",
       "      <td>29,158,372.00</td>\n",
       "      <td>94,419.00</td>\n",
       "    </tr>\n",
       "    <tr>\n",
       "      <th>6</th>\n",
       "      <td>Eu-152</td>\n",
       "      <td>100.00</td>\n",
       "      <td>9,405,178.00</td>\n",
       "      <td>94,419.00</td>\n",
       "    </tr>\n",
       "    <tr>\n",
       "      <th>7</th>\n",
       "      <td>Mn-54</td>\n",
       "      <td>1.91</td>\n",
       "      <td>25,889,556.00</td>\n",
       "      <td>94,419.00</td>\n",
       "    </tr>\n",
       "    <tr>\n",
       "      <th>8</th>\n",
       "      <td>Na-22</td>\n",
       "      <td>0.22</td>\n",
       "      <td>27,083,306.00</td>\n",
       "      <td>94,419.00</td>\n",
       "    </tr>\n",
       "    <tr>\n",
       "      <th>9</th>\n",
       "      <td>Pb-210</td>\n",
       "      <td>4.03</td>\n",
       "      <td>20,279,490.00</td>\n",
       "      <td>94,419.00</td>\n",
       "    </tr>\n",
       "  </tbody>\n",
       "</table>\n",
       "</div>"
      ],
      "text/plain": [
       "  radionuclideo  nuclei_score  nuclei_counts  real_counts\n",
       "0        Am-241          1.50  26,720,682.00    94,419.00\n",
       "1        Ba-133          0.09  28,489,490.00    94,419.00\n",
       "2        Cd-109          6.38  19,711,718.00    94,419.00\n",
       "3         Co-57         40.45   4,939,425.00    94,419.00\n",
       "4         Co-60          0.00  28,900,660.00    94,419.00\n",
       "5        Cs-137          0.01  29,158,372.00    94,419.00\n",
       "6        Eu-152        100.00   9,405,178.00    94,419.00\n",
       "7         Mn-54          1.91  25,889,556.00    94,419.00\n",
       "8         Na-22          0.22  27,083,306.00    94,419.00\n",
       "9        Pb-210          4.03  20,279,490.00    94,419.00"
      ]
     },
     "execution_count": 357,
     "metadata": {},
     "output_type": "execute_result"
    }
   ],
   "source": [
    "validation_nuclei = 'Eu-152'\n",
    "preds = model.predict(np.array([images[validation_nuclei].reshape((128, 128, 1))]))\n",
    "\n",
    "df = pd.DataFrame({'radionuclideo':binarizer.classes_,\n",
    "                   'nuclei_score': preds[0][0]*100,\n",
    "                   'nuclei_counts': scaler.inverse_transform(preds[1][0]),\n",
    "                   'real_counts': np.sum(images[validation_nuclei])})\n",
    "df"
   ]
  },
  {
   "cell_type": "code",
   "execution_count": 358,
   "metadata": {},
   "outputs": [
    {
     "data": {
      "text/html": [
       "<div>\n",
       "<style scoped>\n",
       "    .dataframe tbody tr th:only-of-type {\n",
       "        vertical-align: middle;\n",
       "    }\n",
       "\n",
       "    .dataframe tbody tr th {\n",
       "        vertical-align: top;\n",
       "    }\n",
       "\n",
       "    .dataframe thead th {\n",
       "        text-align: right;\n",
       "    }\n",
       "</style>\n",
       "<table border=\"1\" class=\"dataframe\">\n",
       "  <thead>\n",
       "    <tr style=\"text-align: right;\">\n",
       "      <th></th>\n",
       "      <th>radionuclideo</th>\n",
       "      <th>nuclei_score</th>\n",
       "      <th>nuclei_counts</th>\n",
       "      <th>real_counts</th>\n",
       "    </tr>\n",
       "  </thead>\n",
       "  <tbody>\n",
       "    <tr>\n",
       "      <th>0</th>\n",
       "      <td>Am-241</td>\n",
       "      <td>0.02</td>\n",
       "      <td>29,693,406.00</td>\n",
       "      <td>7,159.00</td>\n",
       "    </tr>\n",
       "    <tr>\n",
       "      <th>1</th>\n",
       "      <td>Ba-133</td>\n",
       "      <td>0.04</td>\n",
       "      <td>28,556,998.00</td>\n",
       "      <td>7,159.00</td>\n",
       "    </tr>\n",
       "    <tr>\n",
       "      <th>2</th>\n",
       "      <td>Cd-109</td>\n",
       "      <td>4.15</td>\n",
       "      <td>20,136,162.00</td>\n",
       "      <td>7,159.00</td>\n",
       "    </tr>\n",
       "    <tr>\n",
       "      <th>3</th>\n",
       "      <td>Co-57</td>\n",
       "      <td>3.31</td>\n",
       "      <td>25,131,258.00</td>\n",
       "      <td>7,159.00</td>\n",
       "    </tr>\n",
       "    <tr>\n",
       "      <th>4</th>\n",
       "      <td>Co-60</td>\n",
       "      <td>0.00</td>\n",
       "      <td>28,900,408.00</td>\n",
       "      <td>7,159.00</td>\n",
       "    </tr>\n",
       "    <tr>\n",
       "      <th>5</th>\n",
       "      <td>Cs-137</td>\n",
       "      <td>0.00</td>\n",
       "      <td>29,184,912.00</td>\n",
       "      <td>7,159.00</td>\n",
       "    </tr>\n",
       "    <tr>\n",
       "      <th>6</th>\n",
       "      <td>Eu-152</td>\n",
       "      <td>81.81</td>\n",
       "      <td>-180,048,784.00</td>\n",
       "      <td>7,159.00</td>\n",
       "    </tr>\n",
       "    <tr>\n",
       "      <th>7</th>\n",
       "      <td>Mn-54</td>\n",
       "      <td>99.89</td>\n",
       "      <td>7,791,998.50</td>\n",
       "      <td>7,159.00</td>\n",
       "    </tr>\n",
       "    <tr>\n",
       "      <th>8</th>\n",
       "      <td>Na-22</td>\n",
       "      <td>0.00</td>\n",
       "      <td>27,270,726.00</td>\n",
       "      <td>7,159.00</td>\n",
       "    </tr>\n",
       "    <tr>\n",
       "      <th>9</th>\n",
       "      <td>Pb-210</td>\n",
       "      <td>8.26</td>\n",
       "      <td>534,842.25</td>\n",
       "      <td>7,159.00</td>\n",
       "    </tr>\n",
       "  </tbody>\n",
       "</table>\n",
       "</div>"
      ],
      "text/plain": [
       "  radionuclideo  nuclei_score   nuclei_counts  real_counts\n",
       "0        Am-241          0.02   29,693,406.00     7,159.00\n",
       "1        Ba-133          0.04   28,556,998.00     7,159.00\n",
       "2        Cd-109          4.15   20,136,162.00     7,159.00\n",
       "3         Co-57          3.31   25,131,258.00     7,159.00\n",
       "4         Co-60          0.00   28,900,408.00     7,159.00\n",
       "5        Cs-137          0.00   29,184,912.00     7,159.00\n",
       "6        Eu-152         81.81 -180,048,784.00     7,159.00\n",
       "7         Mn-54         99.89    7,791,998.50     7,159.00\n",
       "8         Na-22          0.00   27,270,726.00     7,159.00\n",
       "9        Pb-210          8.26      534,842.25     7,159.00"
      ]
     },
     "execution_count": 358,
     "metadata": {},
     "output_type": "execute_result"
    }
   ],
   "source": [
    "validation_nuclei = 'Mn-54'\n",
    "preds = model.predict(np.array([images[validation_nuclei].reshape((128, 128, 1))]))\n",
    "\n",
    "df = pd.DataFrame({'radionuclideo':binarizer.classes_,\n",
    "                   'nuclei_score': preds[0][0]*100,\n",
    "                   'nuclei_counts': scaler.inverse_transform(preds[1][0]),\n",
    "                   'real_counts': np.sum(images[validation_nuclei])})\n",
    "df"
   ]
  },
  {
   "cell_type": "code",
   "execution_count": 359,
   "metadata": {},
   "outputs": [
    {
     "data": {
      "text/html": [
       "<div>\n",
       "<style scoped>\n",
       "    .dataframe tbody tr th:only-of-type {\n",
       "        vertical-align: middle;\n",
       "    }\n",
       "\n",
       "    .dataframe tbody tr th {\n",
       "        vertical-align: top;\n",
       "    }\n",
       "\n",
       "    .dataframe thead th {\n",
       "        text-align: right;\n",
       "    }\n",
       "</style>\n",
       "<table border=\"1\" class=\"dataframe\">\n",
       "  <thead>\n",
       "    <tr style=\"text-align: right;\">\n",
       "      <th></th>\n",
       "      <th>radionuclideo</th>\n",
       "      <th>nuclei_score</th>\n",
       "      <th>nuclei_counts</th>\n",
       "      <th>real_counts</th>\n",
       "    </tr>\n",
       "  </thead>\n",
       "  <tbody>\n",
       "    <tr>\n",
       "      <th>0</th>\n",
       "      <td>Am-241</td>\n",
       "      <td>8.37</td>\n",
       "      <td>-11,500,718.00</td>\n",
       "      <td>7,965.00</td>\n",
       "    </tr>\n",
       "    <tr>\n",
       "      <th>1</th>\n",
       "      <td>Ba-133</td>\n",
       "      <td>0.03</td>\n",
       "      <td>28,567,308.00</td>\n",
       "      <td>7,965.00</td>\n",
       "    </tr>\n",
       "    <tr>\n",
       "      <th>2</th>\n",
       "      <td>Cd-109</td>\n",
       "      <td>3.11</td>\n",
       "      <td>18,624,610.00</td>\n",
       "      <td>7,965.00</td>\n",
       "    </tr>\n",
       "    <tr>\n",
       "      <th>3</th>\n",
       "      <td>Co-57</td>\n",
       "      <td>6.64</td>\n",
       "      <td>18,420,724.00</td>\n",
       "      <td>7,965.00</td>\n",
       "    </tr>\n",
       "    <tr>\n",
       "      <th>4</th>\n",
       "      <td>Co-60</td>\n",
       "      <td>0.00</td>\n",
       "      <td>28,900,492.00</td>\n",
       "      <td>7,965.00</td>\n",
       "    </tr>\n",
       "    <tr>\n",
       "      <th>5</th>\n",
       "      <td>Cs-137</td>\n",
       "      <td>0.20</td>\n",
       "      <td>28,685,846.00</td>\n",
       "      <td>7,965.00</td>\n",
       "    </tr>\n",
       "    <tr>\n",
       "      <th>6</th>\n",
       "      <td>Eu-152</td>\n",
       "      <td>0.77</td>\n",
       "      <td>26,549,690.00</td>\n",
       "      <td>7,965.00</td>\n",
       "    </tr>\n",
       "    <tr>\n",
       "      <th>7</th>\n",
       "      <td>Mn-54</td>\n",
       "      <td>0.14</td>\n",
       "      <td>28,231,866.00</td>\n",
       "      <td>7,965.00</td>\n",
       "    </tr>\n",
       "    <tr>\n",
       "      <th>8</th>\n",
       "      <td>Na-22</td>\n",
       "      <td>100.00</td>\n",
       "      <td>-7,660,125.00</td>\n",
       "      <td>7,965.00</td>\n",
       "    </tr>\n",
       "    <tr>\n",
       "      <th>9</th>\n",
       "      <td>Pb-210</td>\n",
       "      <td>0.98</td>\n",
       "      <td>22,027,528.00</td>\n",
       "      <td>7,965.00</td>\n",
       "    </tr>\n",
       "  </tbody>\n",
       "</table>\n",
       "</div>"
      ],
      "text/plain": [
       "  radionuclideo  nuclei_score  nuclei_counts  real_counts\n",
       "0        Am-241          8.37 -11,500,718.00     7,965.00\n",
       "1        Ba-133          0.03  28,567,308.00     7,965.00\n",
       "2        Cd-109          3.11  18,624,610.00     7,965.00\n",
       "3         Co-57          6.64  18,420,724.00     7,965.00\n",
       "4         Co-60          0.00  28,900,492.00     7,965.00\n",
       "5        Cs-137          0.20  28,685,846.00     7,965.00\n",
       "6        Eu-152          0.77  26,549,690.00     7,965.00\n",
       "7         Mn-54          0.14  28,231,866.00     7,965.00\n",
       "8         Na-22        100.00  -7,660,125.00     7,965.00\n",
       "9        Pb-210          0.98  22,027,528.00     7,965.00"
      ]
     },
     "execution_count": 359,
     "metadata": {},
     "output_type": "execute_result"
    }
   ],
   "source": [
    "validation_nuclei = 'Na-22'\n",
    "preds = model.predict(np.array([images[validation_nuclei].reshape((128, 128, 1))]))\n",
    "\n",
    "df = pd.DataFrame({'radionuclideo':binarizer.classes_,\n",
    "                   'nuclei_score': preds[0][0]*100,\n",
    "                   'nuclei_counts': scaler.inverse_transform(preds[1][0]),\n",
    "                   'real_counts': np.sum(images[validation_nuclei])})\n",
    "df"
   ]
  },
  {
   "cell_type": "code",
   "execution_count": 360,
   "metadata": {},
   "outputs": [
    {
     "data": {
      "text/html": [
       "<div>\n",
       "<style scoped>\n",
       "    .dataframe tbody tr th:only-of-type {\n",
       "        vertical-align: middle;\n",
       "    }\n",
       "\n",
       "    .dataframe tbody tr th {\n",
       "        vertical-align: top;\n",
       "    }\n",
       "\n",
       "    .dataframe thead th {\n",
       "        text-align: right;\n",
       "    }\n",
       "</style>\n",
       "<table border=\"1\" class=\"dataframe\">\n",
       "  <thead>\n",
       "    <tr style=\"text-align: right;\">\n",
       "      <th></th>\n",
       "      <th>radionuclideo</th>\n",
       "      <th>nuclei_score</th>\n",
       "      <th>nuclei_counts</th>\n",
       "      <th>real_counts</th>\n",
       "    </tr>\n",
       "  </thead>\n",
       "  <tbody>\n",
       "    <tr>\n",
       "      <th>0</th>\n",
       "      <td>Am-241</td>\n",
       "      <td>19.41</td>\n",
       "      <td>-9,689,962.00</td>\n",
       "      <td>19,650.00</td>\n",
       "    </tr>\n",
       "    <tr>\n",
       "      <th>1</th>\n",
       "      <td>Ba-133</td>\n",
       "      <td>1.08</td>\n",
       "      <td>26,312,062.00</td>\n",
       "      <td>19,650.00</td>\n",
       "    </tr>\n",
       "    <tr>\n",
       "      <th>2</th>\n",
       "      <td>Cd-109</td>\n",
       "      <td>12.99</td>\n",
       "      <td>8,934,824.00</td>\n",
       "      <td>19,650.00</td>\n",
       "    </tr>\n",
       "    <tr>\n",
       "      <th>3</th>\n",
       "      <td>Co-57</td>\n",
       "      <td>7.83</td>\n",
       "      <td>18,507,836.00</td>\n",
       "      <td>19,650.00</td>\n",
       "    </tr>\n",
       "    <tr>\n",
       "      <th>4</th>\n",
       "      <td>Co-60</td>\n",
       "      <td>0.00</td>\n",
       "      <td>28,900,632.00</td>\n",
       "      <td>19,650.00</td>\n",
       "    </tr>\n",
       "    <tr>\n",
       "      <th>5</th>\n",
       "      <td>Cs-137</td>\n",
       "      <td>0.00</td>\n",
       "      <td>29,177,610.00</td>\n",
       "      <td>19,650.00</td>\n",
       "    </tr>\n",
       "    <tr>\n",
       "      <th>6</th>\n",
       "      <td>Eu-152</td>\n",
       "      <td>0.50</td>\n",
       "      <td>27,406,082.00</td>\n",
       "      <td>19,650.00</td>\n",
       "    </tr>\n",
       "    <tr>\n",
       "      <th>7</th>\n",
       "      <td>Mn-54</td>\n",
       "      <td>0.34</td>\n",
       "      <td>28,073,226.00</td>\n",
       "      <td>19,650.00</td>\n",
       "    </tr>\n",
       "    <tr>\n",
       "      <th>8</th>\n",
       "      <td>Na-22</td>\n",
       "      <td>0.05</td>\n",
       "      <td>27,221,672.00</td>\n",
       "      <td>19,650.00</td>\n",
       "    </tr>\n",
       "    <tr>\n",
       "      <th>9</th>\n",
       "      <td>Pb-210</td>\n",
       "      <td>99.98</td>\n",
       "      <td>1,949,602.25</td>\n",
       "      <td>19,650.00</td>\n",
       "    </tr>\n",
       "  </tbody>\n",
       "</table>\n",
       "</div>"
      ],
      "text/plain": [
       "  radionuclideo  nuclei_score  nuclei_counts  real_counts\n",
       "0        Am-241         19.41  -9,689,962.00    19,650.00\n",
       "1        Ba-133          1.08  26,312,062.00    19,650.00\n",
       "2        Cd-109         12.99   8,934,824.00    19,650.00\n",
       "3         Co-57          7.83  18,507,836.00    19,650.00\n",
       "4         Co-60          0.00  28,900,632.00    19,650.00\n",
       "5        Cs-137          0.00  29,177,610.00    19,650.00\n",
       "6        Eu-152          0.50  27,406,082.00    19,650.00\n",
       "7         Mn-54          0.34  28,073,226.00    19,650.00\n",
       "8         Na-22          0.05  27,221,672.00    19,650.00\n",
       "9        Pb-210         99.98   1,949,602.25    19,650.00"
      ]
     },
     "execution_count": 360,
     "metadata": {},
     "output_type": "execute_result"
    }
   ],
   "source": [
    "validation_nuclei = 'Pb-210'\n",
    "preds = model.predict(np.array([images[validation_nuclei].reshape((128, 128, 1))]))\n",
    "\n",
    "df = pd.DataFrame({'radionuclideo':binarizer.classes_,\n",
    "                   'nuclei_score': preds[0][0]*100,\n",
    "                   'nuclei_counts': scaler.inverse_transform(preds[1][0]),\n",
    "                   'real_counts': np.sum(images[validation_nuclei])})\n",
    "df"
   ]
  },
  {
   "cell_type": "markdown",
   "metadata": {},
   "source": [
    "## Fonte triplice de calibração"
   ]
  },
  {
   "cell_type": "code",
   "execution_count": 361,
   "metadata": {},
   "outputs": [],
   "source": [
    "dados = []\n",
    "\n",
    "with open('/export/ipen/artigo/ICDA-3/Espectros/Experimentos/17-Maio-2018/Espectros/Am-Cs-Co - BG.IEC', 'r') as f:\n",
    "    dados = f.readlines()\n",
    "dados = obtem_dados_dos_canais(dados)\n",
    "df_triplice = pd.DataFrame({'channel': range(0, len(dados)), 'counts' : dados})"
   ]
  },
  {
   "cell_type": "code",
   "execution_count": 362,
   "metadata": {},
   "outputs": [
    {
     "data": {
      "image/png": "[encoded data removed]",
      "text/plain": [
       "<Figure size 1224x360 with 2 Axes>"
      ]
     },
     "metadata": {},
     "output_type": "display_data"
    }
   ],
   "source": [
    "f, axarr = plt.subplots(1, 2, figsize=(17, 5))\n",
    "plt.suptitle(\"Fonte tríplice de calibração Am-214, Cs-137, Co-60\", fontsize=16)\n",
    "axarr[0].plot(df_triplice['channel'], df_triplice.counts.shift(-145).fillna(0).values, 'r')\n",
    "axarr[0].set_title(\"Espectro\")\n",
    "axarr[0].set_yscale(\"log\")\n",
    "axarr[0].set_xlabel(\"canal do detector\")\n",
    "axarr[0].set_ylabel(\"log(contagens)\")\n",
    "axarr[1].imshow(np.array(dados).reshape((128,128)))\n",
    "axarr[1].set_title(\"Imagem\")\n",
    "axarr[1].grid(False)\n",
    "\n",
    "#plt.subplots_adjust(bottom=1.25, top=2.75)\n",
    "plt.show()"
   ]
  },
  {
   "cell_type": "code",
   "execution_count": 363,
   "metadata": {},
   "outputs": [],
   "source": [
    "shift_ = 0\n",
    "dados = df_triplice.counts.shift(shift_).fillna(0).values"
   ]
  },
  {
   "cell_type": "code",
   "execution_count": 406,
   "metadata": {},
   "outputs": [
    {
     "name": "stdout",
     "output_type": "stream",
     "text": [
      "CPU times: user 20 µs, sys: 4 µs, total: 24 µs\n",
      "Wall time: 52.5 µs\n"
     ]
    }
   ],
   "source": [
    "%time\n",
    "preds = model.predict(np.array([dados.reshape((128, 128, 1))]))"
   ]
  },
  {
   "cell_type": "code",
   "execution_count": 407,
   "metadata": {
    "scrolled": false
   },
   "outputs": [
    {
     "data": {
      "text/html": [
       "<div>\n",
       "<style scoped>\n",
       "    .dataframe tbody tr th:only-of-type {\n",
       "        vertical-align: middle;\n",
       "    }\n",
       "\n",
       "    .dataframe tbody tr th {\n",
       "        vertical-align: top;\n",
       "    }\n",
       "\n",
       "    .dataframe thead th {\n",
       "        text-align: right;\n",
       "    }\n",
       "</style>\n",
       "<table border=\"1\" class=\"dataframe\">\n",
       "  <thead>\n",
       "    <tr style=\"text-align: right;\">\n",
       "      <th></th>\n",
       "      <th>radionuclideo</th>\n",
       "      <th>nuclei_score</th>\n",
       "      <th>nuclei_counts</th>\n",
       "      <th>real_counts</th>\n",
       "    </tr>\n",
       "  </thead>\n",
       "  <tbody>\n",
       "    <tr>\n",
       "      <th>0</th>\n",
       "      <td>Am-241</td>\n",
       "      <td>48.05</td>\n",
       "      <td>70,253,712.00</td>\n",
       "      <td>276,428.00</td>\n",
       "    </tr>\n",
       "    <tr>\n",
       "      <th>1</th>\n",
       "      <td>Ba-133</td>\n",
       "      <td>0.63</td>\n",
       "      <td>43,435,484.00</td>\n",
       "      <td>276,428.00</td>\n",
       "    </tr>\n",
       "    <tr>\n",
       "      <th>2</th>\n",
       "      <td>Cd-109</td>\n",
       "      <td>99.45</td>\n",
       "      <td>283,295,648.00</td>\n",
       "      <td>276,428.00</td>\n",
       "    </tr>\n",
       "    <tr>\n",
       "      <th>3</th>\n",
       "      <td>Co-57</td>\n",
       "      <td>88.44</td>\n",
       "      <td>-7,155,755.50</td>\n",
       "      <td>276,428.00</td>\n",
       "    </tr>\n",
       "    <tr>\n",
       "      <th>4</th>\n",
       "      <td>Co-60</td>\n",
       "      <td>99.59</td>\n",
       "      <td>89,932,472.00</td>\n",
       "      <td>276,428.00</td>\n",
       "    </tr>\n",
       "    <tr>\n",
       "      <th>5</th>\n",
       "      <td>Cs-137</td>\n",
       "      <td>99.41</td>\n",
       "      <td>47,187,988.00</td>\n",
       "      <td>276,428.00</td>\n",
       "    </tr>\n",
       "    <tr>\n",
       "      <th>6</th>\n",
       "      <td>Eu-152</td>\n",
       "      <td>83.70</td>\n",
       "      <td>51,174,184.00</td>\n",
       "      <td>276,428.00</td>\n",
       "    </tr>\n",
       "    <tr>\n",
       "      <th>7</th>\n",
       "      <td>Mn-54</td>\n",
       "      <td>0.08</td>\n",
       "      <td>41,746,032.00</td>\n",
       "      <td>276,428.00</td>\n",
       "    </tr>\n",
       "    <tr>\n",
       "      <th>8</th>\n",
       "      <td>Na-22</td>\n",
       "      <td>0.45</td>\n",
       "      <td>41,594,068.00</td>\n",
       "      <td>276,428.00</td>\n",
       "    </tr>\n",
       "    <tr>\n",
       "      <th>9</th>\n",
       "      <td>Pb-210</td>\n",
       "      <td>99.73</td>\n",
       "      <td>501,259,584.00</td>\n",
       "      <td>276,428.00</td>\n",
       "    </tr>\n",
       "  </tbody>\n",
       "</table>\n",
       "</div>"
      ],
      "text/plain": [
       "  radionuclideo  nuclei_score  nuclei_counts  real_counts\n",
       "0        Am-241         48.05  70,253,712.00   276,428.00\n",
       "1        Ba-133          0.63  43,435,484.00   276,428.00\n",
       "2        Cd-109         99.45 283,295,648.00   276,428.00\n",
       "3         Co-57         88.44  -7,155,755.50   276,428.00\n",
       "4         Co-60         99.59  89,932,472.00   276,428.00\n",
       "5        Cs-137         99.41  47,187,988.00   276,428.00\n",
       "6        Eu-152         83.70  51,174,184.00   276,428.00\n",
       "7         Mn-54          0.08  41,746,032.00   276,428.00\n",
       "8         Na-22          0.45  41,594,068.00   276,428.00\n",
       "9        Pb-210         99.73 501,259,584.00   276,428.00"
      ]
     },
     "execution_count": 407,
     "metadata": {},
     "output_type": "execute_result"
    }
   ],
   "source": [
    "df = pd.DataFrame({'radionuclideo':binarizer.classes_,\n",
    "                   'nuclei_score': preds[0][0]*100,\n",
    "                   'nuclei_counts': scaler.inverse_transform(preds[1][0]),\n",
    "                   'real_counts': np.sum(dados)})\n",
    "df"
   ]
  },
  {
   "cell_type": "markdown",
   "metadata": {},
   "source": [
    "## Identificando os picos da fonte triplice para calcular a atividade por nuclídeo"
   ]
  },
  {
   "cell_type": "code",
   "execution_count": null,
   "metadata": {},
   "outputs": [],
   "source": [
    "import plotly.plotly as py\n",
    "import plotly.graph_objs as go\n",
    "import plotly.figure_factory as ff\n",
    "\n",
    "import numpy as np\n",
    "import pandas as pd\n",
    "import scipy\n",
    "import peakutils"
   ]
  },
  {
   "cell_type": "code",
   "execution_count": null,
   "metadata": {},
   "outputs": [],
   "source": [
    "from scipy.signal import find_peaks"
   ]
  },
  {
   "cell_type": "code",
   "execution_count": null,
   "metadata": {},
   "outputs": [],
   "source": [
    "peaks, _ = find_peaks(df_triplice['counts'], prominence=2e2)\n",
    "plt.plot(df_triplice['counts'])\n",
    "plt.plot(peaks, df_triplice['counts'][peaks], \"x\")\n",
    "plt.plot(np.zeros_like(df_triplice['counts']), \"--\", color=\"gray\")\n",
    "plt.show()"
   ]
  },
  {
   "cell_type": "code",
   "execution_count": null,
   "metadata": {},
   "outputs": [],
   "source": [
    "values = []\n",
    "for idx, peak in enumerate(peaks):\n",
    "    print(idx)\n",
    "    values.append(np.trapz(df_triplice['counts'][peak-(1+1*idx):peak+(1+1*idx)], dx=15))\n",
    "values, np.sum(values)"
   ]
  },
  {
   "cell_type": "code",
   "execution_count": null,
   "metadata": {},
   "outputs": [],
   "source": [
    "values[-1] + values[-2], values[-1], values[-2]"
   ]
  },
  {
   "cell_type": "code",
   "execution_count": null,
   "metadata": {},
   "outputs": [],
   "source": [
    "from sklearn.metrics import mean_squared_error, mean_absolute_error"
   ]
  },
  {
   "cell_type": "code",
   "execution_count": null,
   "metadata": {},
   "outputs": [],
   "source": [
    "y_pred = scaler.transform([[36408, 0, 0, 0, 229988, 69041, 0, 0, 0, 0]])\n",
    "y_     = scaler.transform([[52020, 0, 0, 0, 86410, 368790, 0, 0, 0, 0]])\n",
    "\n",
    "y_pred = [[36408, 0, 0, 0, 229988, 69041, 0, 0, 0, 0]]\n",
    "y_     = [[52020, 0, 0, 0, 86410, 368790, 0, 0, 0, 0]]"
   ]
  },
  {
   "cell_type": "code",
   "execution_count": null,
   "metadata": {},
   "outputs": [],
   "source": [
    "np.sum(y_) / 1e6, np.sum(y_pred) / 1e6"
   ]
  },
  {
   "cell_type": "code",
   "execution_count": null,
   "metadata": {},
   "outputs": [],
   "source": [
    "mean_squared_error(y_, y_pred, multioutput='uniform_average') / 1e6"
   ]
  },
  {
   "cell_type": "code",
   "execution_count": null,
   "metadata": {},
   "outputs": [],
   "source": [
    "mean_absolute_error(y_, y_pred, multioutput='uniform_average')"
   ]
  }
 ],
 "metadata": {
  "kernelspec": {
   "display_name": "Python 3",
   "language": "python",
   "name": "python3"
  },
  "language_info": {
   "codemirror_mode": {
    "name": "ipython",
    "version": 3
   },
   "file_extension": ".py",
   "mimetype": "text/x-python",
   "name": "python",
   "nbconvert_exporter": "python",
   "pygments_lexer": "ipython3",
   "version": "3.7.4"
  }
 },
 "nbformat": 4,
 "nbformat_minor": 2
}
