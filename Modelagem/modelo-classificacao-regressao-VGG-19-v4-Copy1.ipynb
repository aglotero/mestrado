{
 "cells": [
  {
   "cell_type": "code",
   "execution_count": 1,
   "metadata": {},
   "outputs": [],
   "source": [
    "import glob\n",
    "import numpy as np\n",
    "import pandas as pd\n",
    "from tqdm import tqdm_notebook\n",
    "from sklearn.preprocessing import MultiLabelBinarizer\n",
    "\n",
    "pd.options.display.float_format = '{:,.2f}'.format"
   ]
  },
  {
   "cell_type": "code",
   "execution_count": 2,
   "metadata": {},
   "outputs": [
    {
     "name": "stderr",
     "output_type": "stream",
     "text": [
      "/home/andre/.conda/envs/py36/lib/python3.6/site-packages/h5py/__init__.py:36: FutureWarning: Conversion of the second argument of issubdtype from `float` to `np.floating` is deprecated. In future, it will be treated as `np.float64 == np.dtype(float).type`.\n",
      "  from ._conv import register_converters as _register_converters\n",
      "Using TensorFlow backend.\n"
     ]
    }
   ],
   "source": [
    "import pandas as pd\n",
    "import numpy as np\n",
    "import matplotlib.pyplot as plt\n",
    "import random\n",
    "# Para o Modelo\n",
    "import tensorflow as tf\n",
    "import keras\n",
    "from keras import backend as K\n",
    "from keras.applications.vgg19 import VGG19\n",
    "from keras.optimizers import *\n",
    "from keras.callbacks import *\n",
    "from keras.metrics import top_k_categorical_accuracy\n",
    "from keras.utils import to_categorical\n",
    "from sklearn.metrics import accuracy_score\n",
    "from sklearn.model_selection import train_test_split\n",
    "\n",
    "from sklearn.preprocessing import StandardScaler"
   ]
  },
  {
   "cell_type": "markdown",
   "metadata": {},
   "source": [
    "# Processando os dados\n",
    "\n",
    "## Gerados com Penelope"
   ]
  },
  {
   "cell_type": "code",
   "execution_count": 159,
   "metadata": {},
   "outputs": [
    {
     "name": "stdout",
     "output_type": "stream",
     "text": [
      "40\n"
     ]
    }
   ],
   "source": [
    "files =  glob.glob(\"../dados_v5/*.dat\")\n",
    "print(len(files))\n",
    "#files.extend(glob.glob(\"../dados_v5/*.dat\"))"
   ]
  },
  {
   "cell_type": "code",
   "execution_count": 160,
   "metadata": {},
   "outputs": [
    {
     "data": {
      "text/plain": [
       "40"
      ]
     },
     "execution_count": 160,
     "metadata": {},
     "output_type": "execute_result"
    }
   ],
   "source": [
    "len(files)"
   ]
  },
  {
   "cell_type": "code",
   "execution_count": 161,
   "metadata": {},
   "outputs": [
    {
     "data": {
      "text/plain": [
       "'../dados_v5/Co-57_41cm_1-0e08estories_0.dat'"
      ]
     },
     "execution_count": 161,
     "metadata": {},
     "output_type": "execute_result"
    }
   ],
   "source": [
    "files[0]"
   ]
  },
  {
   "cell_type": "code",
   "execution_count": 162,
   "metadata": {},
   "outputs": [],
   "source": [
    "def le_performance_report(filename):\n",
    "    # 164000\n",
    "    # Performance report\n",
    "    #   Random seeds:\n",
    "    #   1800926990\n",
    "    #   1275941380\n",
    "    #   No. of histories simulated [N]:\n",
    "    #            10000000.\n",
    "    #   CPU time [t] (s):\n",
    "    #    3.28417E+01\n",
    "    #   Speed (histories/s):\n",
    "    #    3.04491E+05\n",
    "    #   Average uncertainty (above 1/2 max score) in % [uncert]:\n",
    "    #    1.27128E-01\n",
    "    #   Intrinsic efficiency [N*uncert^2]^-1:\n",
    "    #    6.18758E-06\n",
    "    #   Absolute efficiency [t*uncert^2]^-1:\n",
    "    #    1.88406E+00\n",
    "    \n",
    "    with open(filename, \"r\") as f:\n",
    "        linhas = f.readlines()\n",
    "    try:\n",
    "        return float(linhas[16400+7][1:])\n",
    "    except:\n",
    "        return float(linhas[16400+6][1:])\n",
    "\n",
    "def carrega_dados(filename, n_particulas=1.0e07):\n",
    "    data = {\n",
    "        'Elow(eV)' : [],\n",
    "        'Emiddle(eV)' : [],\n",
    "        'counts(1/eV/hist)' : [],\n",
    "        '+-2sigma':[],\n",
    "        'nbin' : []\n",
    "    }\n",
    "\n",
    "    linha_de_dados = False\n",
    "    with open(filename, \"r\") as f:\n",
    "        lines = f.readlines()\n",
    "        for line in lines:\n",
    "            if line[0] == '#':\n",
    "                linha_de_dados = False\n",
    "            else:\n",
    "                linha_de_dados = True\n",
    "\n",
    "            if linha_de_dados:\n",
    "                aux = line.split(' ')\n",
    "                if len(aux) == 2:\n",
    "                    break\n",
    "\n",
    "                data['Elow(eV)'].append(np.fromstring(aux[2], dtype=np.float64, sep=',')[0])\n",
    "                data['Emiddle(eV)'].append(np.fromstring(aux[4], dtype=np.float64, sep=',')[0])\n",
    "                q = np.fromstring(aux[6], dtype=np.float64, sep=',')[0]\n",
    "                data['counts(1/eV/hist)'].append(q)\n",
    "                data['+-2sigma'].append(np.fromstring(aux[8], dtype=np.float64, sep=',')[0])\n",
    "                nbin = np.fromstring(aux[9], dtype=np.int, sep=',')[0]\n",
    "                data['nbin'].append(nbin)      \n",
    "\n",
    "    df = pd.DataFrame.from_dict(data)\n",
    "    df['counts'] = df['counts(1/eV/hist)'].values * n_particulas * 1 / ((df['Elow(eV)'].shift(-1).fillna(0) - df['Elow(eV)']) / df['nbin'])\n",
    "    df['counts'] = df['counts']#.astype(np.uint8)\n",
    "    df['counts'][0:20] = 0\n",
    "    df['E'] = df['Elow(eV)'] / 1e3\n",
    "    return df.loc[0:16383]"
   ]
  },
  {
   "cell_type": "code",
   "execution_count": 163,
   "metadata": {},
   "outputs": [
    {
     "name": "stdout",
     "output_type": "stream",
     "text": [
      "Total de tempo de CPU utilizado: 5.066599085648148 dias\n"
     ]
    }
   ],
   "source": [
    "tempo_segundos = 0\n",
    "\n",
    "for file_ in files:\n",
    "    tempo_segundos += le_performance_report(file_)\n",
    "    \n",
    "print(\"Total de tempo de CPU utilizado: {0} dias\".format(tempo_segundos / 60 / 60 / 24))"
   ]
  },
  {
   "cell_type": "code",
   "execution_count": 164,
   "metadata": {},
   "outputs": [],
   "source": [
    "energias_iniciais_multicanal = ['0', '1', '150', '250', '300', '400']\n",
    "#energias_iniciais_multicanal = ['0-01.dat']\n",
    "#energias_iniciais_multicanal = ['0-01.dat', '5-0.dat', '10-0.dat', '30-0.dat', '40-0.dat']\n",
    "#energias_iniciais_multicanal = ['0-01.dat']"
   ]
  },
  {
   "cell_type": "code",
   "execution_count": 165,
   "metadata": {},
   "outputs": [
    {
     "data": {
      "text/plain": [
       "array(['Am-241', 'Ba-133', 'Cd-109', 'Co-57', 'Co-60', 'Cs-137', 'Eu-152',\n",
       "       'Mn-54', 'Na-22', 'Pb-210'], dtype=object)"
      ]
     },
     "execution_count": 165,
     "metadata": {},
     "output_type": "execute_result"
    }
   ],
   "source": [
    "nomes_nuclideos = {\n",
    "    'Am-241': 0,\n",
    "    'Ba-133': 1,\n",
    "    'Cd-109': 2,\n",
    "    'Co-57': 3,\n",
    "    'Co-60': 4,\n",
    "    'Cs-137': 5,\n",
    "    'Eu-152': 6,\n",
    "    'Mn-54': 7,\n",
    "    'Na-22': 8,\n",
    "    'Pb-210': 9\n",
    "}\n",
    "\n",
    "binarizer = MultiLabelBinarizer()\n",
    "binarizer.fit([list(nomes_nuclideos.keys())])\n",
    "binarizer.classes_"
   ]
  },
  {
   "cell_type": "code",
   "execution_count": 166,
   "metadata": {},
   "outputs": [
    {
     "data": {
      "application/vnd.jupyter.widget-view+json": {
       "model_id": "53131cd7ef7348c7ad77d1f2f71ff1a8",
       "version_major": 2,
       "version_minor": 0
      },
      "text/plain": [
       "HBox(children=(IntProgress(value=0, max=40), HTML(value='')))"
      ]
     },
     "metadata": {},
     "output_type": "display_data"
    },
    {
     "name": "stderr",
     "output_type": "stream",
     "text": [
      "/home/andre/.conda/envs/py36/lib/python3.6/site-packages/ipykernel_launcher.py:61: SettingWithCopyWarning: \n",
      "A value is trying to be set on a copy of a slice from a DataFrame\n",
      "\n",
      "See the caveats in the documentation: http://pandas.pydata.org/pandas-docs/stable/user_guide/indexing.html#returning-a-view-versus-a-copy\n"
     ]
    },
    {
     "name": "stdout",
     "output_type": "stream",
     "text": [
      "\n"
     ]
    },
    {
     "data": {
      "application/vnd.jupyter.widget-view+json": {
       "model_id": "11e3c0b47b224ec5a22a20ab8b08e659",
       "version_major": 2,
       "version_minor": 0
      },
      "text/plain": [
       "HBox(children=(IntProgress(value=0, max=40), HTML(value='')))"
      ]
     },
     "metadata": {},
     "output_type": "display_data"
    },
    {
     "name": "stdout",
     "output_type": "stream",
     "text": [
      "\n"
     ]
    },
    {
     "data": {
      "application/vnd.jupyter.widget-view+json": {
       "model_id": "0c779d2b8fb541fbb030c674d5517cb9",
       "version_major": 2,
       "version_minor": 0
      },
      "text/plain": [
       "HBox(children=(IntProgress(value=0, max=40), HTML(value='')))"
      ]
     },
     "metadata": {},
     "output_type": "display_data"
    },
    {
     "name": "stdout",
     "output_type": "stream",
     "text": [
      "\n"
     ]
    },
    {
     "data": {
      "application/vnd.jupyter.widget-view+json": {
       "model_id": "373f6df0af714f1684e7772088940900",
       "version_major": 2,
       "version_minor": 0
      },
      "text/plain": [
       "HBox(children=(IntProgress(value=0, max=40), HTML(value='')))"
      ]
     },
     "metadata": {},
     "output_type": "display_data"
    },
    {
     "name": "stdout",
     "output_type": "stream",
     "text": [
      "\n"
     ]
    },
    {
     "data": {
      "application/vnd.jupyter.widget-view+json": {
       "model_id": "c9788db8808c47bb8e2f2331ea8a86ec",
       "version_major": 2,
       "version_minor": 0
      },
      "text/plain": [
       "HBox(children=(IntProgress(value=0, max=40), HTML(value='')))"
      ]
     },
     "metadata": {},
     "output_type": "display_data"
    },
    {
     "name": "stdout",
     "output_type": "stream",
     "text": [
      "\n"
     ]
    },
    {
     "data": {
      "application/vnd.jupyter.widget-view+json": {
       "model_id": "3b537b3c0e9b45e193b2ef0b208b32de",
       "version_major": 2,
       "version_minor": 0
      },
      "text/plain": [
       "HBox(children=(IntProgress(value=0, max=40), HTML(value='')))"
      ]
     },
     "metadata": {},
     "output_type": "display_data"
    },
    {
     "name": "stdout",
     "output_type": "stream",
     "text": [
      "\n"
     ]
    }
   ],
   "source": [
    "# Cd-109_41cm_1-0e08estories_0-01.dat\n",
    "dados_por_energia_inicial_multicanal = dict()\n",
    "\n",
    "for energia_inicial_multicanal in energias_iniciais_multicanal:\n",
    "    dados_por_energia_inicial_multicanal[energia_inicial_multicanal] = []\n",
    "    \n",
    "    for file_ in tqdm_notebook(files):\n",
    "        if not file_.endswith('_' + energia_inicial_multicanal + '.dat'):\n",
    "            continue\n",
    "        \n",
    "        partes = file_.split(\"/\")[2].replace(\".dat\", \"\").split(\"_\")\n",
    "        nuclideo = partes[0]        \n",
    "        distancia = partes[1]\n",
    "        n_particulas = float(partes[2].replace('estories','').replace('-','.'))\n",
    "        dados_ = carrega_dados(file_, n_particulas)\n",
    "        \n",
    "        label_ = binarizer.transform([[nuclideo]])\n",
    "\n",
    "        #Cria o label para o total de contagens do radionuclídeo\n",
    "        total_counts = np.zeros(label_.shape)\n",
    "        total_counts[0][np.argmax(label_)] = np.sum(dados_.counts.values)\n",
    "        \n",
    "        dados_por_energia_inicial_multicanal[energia_inicial_multicanal].append({'X' : dados_.counts.values,\n",
    "                                                                                 'n' : n_particulas,\n",
    "                                                                                 'y': label_,\n",
    "                                                                                 'y_count' : total_counts,\n",
    "                                                                                 'd': distancia,\n",
    "                                                                                 'e': energia_inicial_multicanal})"
   ]
  },
  {
   "cell_type": "code",
   "execution_count": 167,
   "metadata": {},
   "outputs": [
    {
     "data": {
      "text/plain": [
       "(['41cm', '46cm', '51cm', '56cm'], [100000000.0])"
      ]
     },
     "execution_count": 167,
     "metadata": {},
     "output_type": "execute_result"
    }
   ],
   "source": [
    "distancias = list(np.unique([x['d'] for x in dados_por_energia_inicial_multicanal[energias_iniciais_multicanal[0]]]))\n",
    "n_particulas = list(np.unique([x['n'] for x in dados_por_energia_inicial_multicanal[energias_iniciais_multicanal[0]]]))\n",
    "distancias, n_particulas"
   ]
  },
  {
   "cell_type": "code",
   "execution_count": 168,
   "metadata": {},
   "outputs": [
    {
     "data": {
      "text/plain": [
       "dict_keys(['0', '1', '150', '250', '300', '400'])"
      ]
     },
     "execution_count": 168,
     "metadata": {},
     "output_type": "execute_result"
    }
   ],
   "source": [
    "dados_por_energia_inicial_multicanal.keys()"
   ]
  },
  {
   "cell_type": "code",
   "execution_count": 169,
   "metadata": {},
   "outputs": [
    {
     "name": "stdout",
     "output_type": "stream",
     "text": [
      "40\n",
      "0\n",
      "0\n",
      "0\n",
      "0\n",
      "0\n"
     ]
    },
    {
     "data": {
      "text/plain": [
       "40"
      ]
     },
     "execution_count": 169,
     "metadata": {},
     "output_type": "execute_result"
    }
   ],
   "source": [
    "a = 0\n",
    "for k in dados_por_energia_inicial_multicanal:\n",
    "    print(len(dados_por_energia_inicial_multicanal[k]))\n",
    "    a += len(dados_por_energia_inicial_multicanal[k])\n",
    "a"
   ]
  },
  {
   "cell_type": "markdown",
   "metadata": {},
   "source": [
    "## Leituras experimentais da GRR"
   ]
  },
  {
   "cell_type": "code",
   "execution_count": 35,
   "metadata": {},
   "outputs": [],
   "source": [
    "def obtem_dados_dos_canais(linhas):\n",
    "    dados = []\n",
    "    pode_comecar = False\n",
    "    for linha in linhas:\n",
    "        if linha == \"A004USERDEFINED                                                     \\n\":\n",
    "            pode_comecar = True\n",
    "            continue\n",
    "        if pode_comecar:\n",
    "            aux = linha.strip().split()\n",
    "            if int(aux[1]) % 5:\n",
    "                print(\"oi!\")\n",
    "            dados.extend([float(x) for x in aux[2:]])\n",
    "    return dados[1:]"
   ]
  },
  {
   "cell_type": "code",
   "execution_count": 36,
   "metadata": {},
   "outputs": [
    {
     "name": "stdout",
     "output_type": "stream",
     "text": [
      "Am-241 - BG.IEC\n",
      "Ba-133 - BG.IEC\n",
      "Cd-109 - BG.IEC\n",
      "Co-57 - BG.IEC\n",
      "Co-60 - BG.IEC\n",
      "Cs-137 - BG.IEC\n",
      "Eu-152 - BG.IEC\n",
      "Mn-54 - BG.IEC\n",
      "Na-22 - BG.IEC\n",
      "Pb-210 - BG.IEC\n"
     ]
    }
   ],
   "source": [
    "arquivos = ['Am-241 - BG.IEC', 'Ba-133 - BG.IEC', 'Cd-109 - BG.IEC', 'Co-57 - BG.IEC', 'Co-60 - BG.IEC',\n",
    "            'Cs-137 - BG.IEC', 'Eu-152 - BG.IEC', 'Mn-54 - BG.IEC', 'Na-22 - BG.IEC', 'Pb-210 - BG.IEC',]\n",
    "\n",
    "df_nuclideos = dict()\n",
    "img_espectros = dict()\n",
    "img_convertidos = dict()\n",
    "images = dict()\n",
    "\n",
    "for arquivo in arquivos:\n",
    "    print(arquivo)\n",
    "    dados = []\n",
    "\n",
    "    with open('/export/ipen/artigo/ICDA-3/Espectros/Experimentos/17-Maio-2018/Espectros/{0}'.format(arquivo), 'r') as f:\n",
    "        dados = f.readlines()\n",
    "    dados = obtem_dados_dos_canais(dados)\n",
    "    df = pd.DataFrame({'channel': range(0, len(dados)), 'counts' : dados})\n",
    "    df_nuclideos[arquivo] = df.copy()\n",
    "    img_convertidos[arquivo] = np.array(dados).reshape((128, 128)).copy()\n",
    "    images[arquivo.split(' ')[0]] = np.array(dados).reshape((128, 128)).copy()"
   ]
  },
  {
   "cell_type": "code",
   "execution_count": 37,
   "metadata": {},
   "outputs": [
    {
     "data": {
      "text/plain": [
       "({'Am-241 - BG.IEC': 'Am-241',\n",
       "  'Ba-133 - BG.IEC': 'Ba-133',\n",
       "  'Cd-109 - BG.IEC': 'Cd-109',\n",
       "  'Co-57 - BG.IEC': 'Co-57',\n",
       "  'Co-60 - BG.IEC': 'Co-60',\n",
       "  'Cs-137 - BG.IEC': 'Cs-137',\n",
       "  'Eu-152 - BG.IEC': 'Eu-152',\n",
       "  'Mn-54 - BG.IEC': 'Mn-54',\n",
       "  'Na-22 - BG.IEC': 'Na-22',\n",
       "  'Pb-210 - BG.IEC': 'Pb-210'},\n",
       " {'Am-241': 'Am-241 - BG.IEC',\n",
       "  'Ba-133': 'Ba-133 - BG.IEC',\n",
       "  'Cd-109': 'Cd-109 - BG.IEC',\n",
       "  'Co-57': 'Co-57 - BG.IEC',\n",
       "  'Co-60': 'Co-60 - BG.IEC',\n",
       "  'Cs-137': 'Cs-137 - BG.IEC',\n",
       "  'Eu-152': 'Eu-152 - BG.IEC',\n",
       "  'Mn-54': 'Mn-54 - BG.IEC',\n",
       "  'Na-22': 'Na-22 - BG.IEC',\n",
       "  'Pb-210': 'Pb-210 - BG.IEC'},\n",
       " {0: 'Am-241',\n",
       "  1: 'Ba-133',\n",
       "  2: 'Cd-109',\n",
       "  3: 'Co-57',\n",
       "  4: 'Co-60',\n",
       "  5: 'Cs-137',\n",
       "  6: 'Eu-152',\n",
       "  7: 'Mn-54',\n",
       "  8: 'Na-22',\n",
       "  9: 'Pb-210'},\n",
       " {'Am-241': 0,\n",
       "  'Ba-133': 1,\n",
       "  'Cd-109': 2,\n",
       "  'Co-57': 3,\n",
       "  'Co-60': 4,\n",
       "  'Cs-137': 5,\n",
       "  'Eu-152': 6,\n",
       "  'Mn-54': 7,\n",
       "  'Na-22': 8,\n",
       "  'Pb-210': 9})"
      ]
     },
     "execution_count": 37,
     "metadata": {},
     "output_type": "execute_result"
    }
   ],
   "source": [
    "arquivo_por_nome = { b : b.split()[0] for a, b in enumerate(list(img_convertidos.keys()))}\n",
    "nome_por_arquivo = { b.split()[0] : b for a, b in enumerate(list(img_convertidos.keys()))}\n",
    "\n",
    "id_para_radionuclideos = { a : b.split()[0] for a, b in enumerate(list(img_convertidos.keys()))}\n",
    "radionuclideos = { b.split()[0] : a for a, b in enumerate(list(img_convertidos.keys()))}\n",
    "arquivo_por_nome, nome_por_arquivo, id_para_radionuclideos, radionuclideos"
   ]
  },
  {
   "cell_type": "code",
   "execution_count": null,
   "metadata": {},
   "outputs": [],
   "source": [
    "#plt.plot(np.random.poisson(1e5, (128, 128)))\n",
    "#plt.plot(np.random.normal(1, 0.1**0.5, (128, 128)))"
   ]
  },
  {
   "cell_type": "code",
   "execution_count": 38,
   "metadata": {},
   "outputs": [],
   "source": [
    "def add_noise(image):\n",
    "    #if random.random() <= 0.5:\n",
    "    #    return image.reshape((128, 128, 1))\n",
    "    row,col = image.shape\n",
    "    mean = 1 #np.mean(image)\n",
    "    var = 0.1 #random.random() #\n",
    "    sigma = var**0.5\n",
    "    gauss = np.random.normal(mean, sigma, (row,col))\n",
    "    gauss = gauss.reshape(row, col)\n",
    "    noisy = image + gauss\n",
    "    if np.random.random() > 0.0: #0.3\n",
    "        #increase de count rate by a random factor\n",
    "        noisy += noisy * (1 + np.random.random())\n",
    "    return noisy.reshape((128, 128, 1)) #/ np.max(noisy) # normalizando pelo valor máximo\n",
    "\n",
    "\n",
    "#def gera_imagem_combinada_experimental(dicionario_imagens, n_combinacoes=3):\n",
    "#    assert n_combinacoes <= 10, \"No máximo 10 combinações\"\n",
    "#    nuclei_idx = np.random.choice(10, n_combinacoes, replace=False).tolist()[0]\n",
    "#    label = to_categorical(nuclei_idx, 10)\n",
    "#    img = np.sum([add_noise(dicionario_imagens[id_para_radionuclideos[nuclei_idx]])], axis=0)\n",
    "#    counts = to_categorical(nuclei_idx, 10)\n",
    "#    counts[nuclei_idx] = np.sum(img)\n",
    "#    \n",
    "#    return img, label, counts\n",
    "\n",
    "def gera_imagem_combinada_experimental(dicionario_imagens,\n",
    "                                       n_combinacoes=1):\n",
    "    \n",
    "    assert n_combinacoes <= 10, \"No máximo 10 combinações\"\n",
    "    \n",
    "    a = np.random.choice(10, n_combinacoes, replace=False).tolist()\n",
    "    labels = np.sum([to_categorical(x, 10) for x in a], axis=0)\n",
    "    noise_img = [add_noise(dicionario_imagens[id_para_radionuclideos[x]]) for x in a]\n",
    "    img = np.sum(noise_img, axis=0)\n",
    "    \n",
    "    counts = np.zeros((10,))\n",
    "    for idx, item in enumerate(a):\n",
    "        counts[item] = np.sum(noise_img[idx])\n",
    "    \n",
    "    while np.max(labels) > 1: # temos nuclideo repetido\n",
    "        labels[0][np.argmax(labels[0])] = 1\n",
    "    \n",
    "    return img, labels, counts\n"
   ]
  },
  {
   "cell_type": "markdown",
   "metadata": {},
   "source": [
    "# Gerando conjunto de treino e validação"
   ]
  },
  {
   "cell_type": "code",
   "execution_count": 170,
   "metadata": {},
   "outputs": [],
   "source": [
    "X = []\n",
    "y = []\n",
    "y_counts = []"
   ]
  },
  {
   "cell_type": "markdown",
   "metadata": {},
   "source": [
    "## Com os dados experimentais"
   ]
  },
  {
   "cell_type": "code",
   "execution_count": null,
   "metadata": {},
   "outputs": [],
   "source": [
    "\"\"\"\n",
    "# gerando imagens com mais de um espectro\n",
    "n_combinacoes = [1, 2, 3, 4]\n",
    "for n_combinacao in n_combinacoes:\n",
    "    how_many_combinations = 500\n",
    "    if n_combinacao == 1:\n",
    "        how_many_combinations = 1320\n",
    "    for i in range(how_many_combinations):\n",
    "        img, label, counts = gera_imagem_combinada_experimental(images, n_combinacao)\n",
    "        X.append(img)\n",
    "        y.append(label)\n",
    "        y_counts.append(counts)\n",
    "\"\"\"\n",
    "\n",
    "# gerando imagens com mais de um espectro\n",
    "#n_combinacoes = [2, 3, 4]\n",
    "#for n_combinacao in n_combinacoes:\n",
    "#    for i in range(500):\n",
    "#        img, label, counts = gera_imagem_combinada_experimental(images, n_combinacao)\n",
    "#        X.append(img)\n",
    "#        y.append(label)\n",
    "#        y_counts.append(counts)"
   ]
  },
  {
   "cell_type": "code",
   "execution_count": 40,
   "metadata": {},
   "outputs": [
    {
     "data": {
      "text/plain": [
       "(0, 0, 0)"
      ]
     },
     "execution_count": 40,
     "metadata": {},
     "output_type": "execute_result"
    }
   ],
   "source": [
    "len(X), len(y), len(y_counts)"
   ]
  },
  {
   "cell_type": "markdown",
   "metadata": {},
   "source": [
    "## Com os dados gerados pelo PENELOPE"
   ]
  },
  {
   "cell_type": "code",
   "execution_count": 171,
   "metadata": {},
   "outputs": [],
   "source": [
    "def gera_imagem_combinada_penelope(dicionario_imagens, n_combinacoes=3):\n",
    "    assert n_combinacoes <= 10, \"No máximo 10 combinações\"\n",
    "\n",
    "    aux = np.random.choice(dicionario_imagens, n_combinacoes, replace=False)\n",
    "    #print(aux)\n",
    "    labels = np.sum([x['y'] for x in aux], axis=0)\n",
    "    counts = np.sum([x['y_count'] for x in aux], axis=0)\n",
    "    values = np.sum([x['X'] for x in aux], axis=0)\n",
    "    \n",
    "    while np.max(labels) > 1: # temos nuclideo repetido\n",
    "        labels[0][np.argmax(labels[0])] = 1\n",
    "    \n",
    "    return values, labels, counts"
   ]
  },
  {
   "cell_type": "markdown",
   "metadata": {},
   "source": [
    "### Gera espectros com mais de um radionuclideo\n",
    "\n",
    "Até 4 no mesmo espectro"
   ]
  },
  {
   "cell_type": "code",
   "execution_count": 178,
   "metadata": {},
   "outputs": [
    {
     "data": {
      "text/plain": [
       "[]"
      ]
     },
     "execution_count": 178,
     "metadata": {},
     "output_type": "execute_result"
    }
   ],
   "source": [
    "aux_data"
   ]
  },
  {
   "cell_type": "code",
   "execution_count": 179,
   "metadata": {},
   "outputs": [],
   "source": [
    "d_test = '56cm'\n",
    "n_combinacoes = [2, 3, 4]\n",
    "novos_dados = dict()\n",
    "\n",
    "for key in energias_iniciais_multicanal:\n",
    "    novos_dados[key] = []\n",
    "    for n_ in n_combinacoes:\n",
    "        for distancia in [x for x in distancias if x != d_test]:\n",
    "            for n_particula in n_particulas:\n",
    "                aux_data = [x for x in dados_por_energia_inicial_multicanal[key]\n",
    "                            if x['d'] == distancia and x['n'] == n_particula]\n",
    "                if len(aux_data) == 0:\n",
    "                    continue\n",
    "                for i in range(150):\n",
    "                    values, labels, counts = gera_imagem_combinada_penelope(aux_data, n_)\n",
    "                    novos_dados[key].append({'X' : values,\n",
    "                                             'y': labels,\n",
    "                                             'y_count': counts})"
   ]
  },
  {
   "cell_type": "code",
   "execution_count": 180,
   "metadata": {},
   "outputs": [],
   "source": [
    "# Adiciona os espectros sem mistura\n",
    "for key in energias_iniciais_multicanal:\n",
    "    for item in [x for x in dados_por_energia_inicial_multicanal[key] if x['d'] != d_test]:\n",
    "        X.append(list(item.values())[0].reshape((128, 128)))\n",
    "        y.append(item['y'][0])\n",
    "        y_counts.append(item['y_count'][0])"
   ]
  },
  {
   "cell_type": "code",
   "execution_count": 181,
   "metadata": {},
   "outputs": [],
   "source": [
    "# Adiciona os espectros com mistura\n",
    "for key in energias_iniciais_multicanal:\n",
    "    for item in novos_dados[key]:\n",
    "        X.append(list(item.values())[0].reshape((128, 128)))\n",
    "        y.append(item['y'][0])\n",
    "        y_counts.append(item['y_count'][0])"
   ]
  },
  {
   "cell_type": "code",
   "execution_count": 182,
   "metadata": {},
   "outputs": [
    {
     "data": {
      "text/plain": [
       "(1380, 1380, 1380)"
      ]
     },
     "execution_count": 182,
     "metadata": {},
     "output_type": "execute_result"
    }
   ],
   "source": [
    "len(X), len(y), len(y_counts)"
   ]
  },
  {
   "cell_type": "markdown",
   "metadata": {},
   "source": [
    "## Validação"
   ]
  },
  {
   "cell_type": "code",
   "execution_count": 183,
   "metadata": {},
   "outputs": [],
   "source": [
    "X_test = []\n",
    "y_test = []\n",
    "y_counts_test = []"
   ]
  },
  {
   "cell_type": "code",
   "execution_count": 186,
   "metadata": {},
   "outputs": [],
   "source": [
    "n_combinacoes = [1, 2, 3, 4]\n",
    "novos_dados_test = dict()\n",
    "\n",
    "for key in energias_iniciais_multicanal:\n",
    "    novos_dados_test[key] = []\n",
    "    for n_ in n_combinacoes:\n",
    "        for distancia in [x for x in distancias if x == d_test]:\n",
    "            for n_particula in n_particulas:\n",
    "                aux_data = [x for x in dados_por_energia_inicial_multicanal[key]\n",
    "                            if x['d'] == distancia and x['n'] == n_particula]\n",
    "                if len(aux_data) == 0:\n",
    "                    continue\n",
    "            \n",
    "                for i in range(25):\n",
    "                    values, labels, counts = gera_imagem_combinada_penelope(aux_data, n_)\n",
    "                    novos_dados_test[key].append({'X' : values,\n",
    "                                             'y': labels,\n",
    "                                             'y_count': counts})"
   ]
  },
  {
   "cell_type": "code",
   "execution_count": 187,
   "metadata": {},
   "outputs": [],
   "source": [
    "for key in energias_iniciais_multicanal:\n",
    "    for item in novos_dados_test[key]:\n",
    "        X_test.append(list(item.values())[0].reshape((128, 128)))\n",
    "        y_test.append(item['y'][0])\n",
    "        y_counts_test.append(item['y_count'][0])"
   ]
  },
  {
   "cell_type": "code",
   "execution_count": 188,
   "metadata": {},
   "outputs": [
    {
     "data": {
      "text/plain": [
       "(100, 100, 100)"
      ]
     },
     "execution_count": 188,
     "metadata": {},
     "output_type": "execute_result"
    }
   ],
   "source": [
    "len(X_test), len(y_test), len(y_counts_test)"
   ]
  },
  {
   "cell_type": "markdown",
   "metadata": {},
   "source": [
    "# Modelo\n",
    "\n",
    "## Escalando os dados de contagem\n",
    "\n",
    "A rede neural gosta de coisas entre -1 e 1 ..."
   ]
  },
  {
   "cell_type": "code",
   "execution_count": 189,
   "metadata": {},
   "outputs": [
    {
     "data": {
      "text/plain": [
       "StandardScaler(copy=True, with_mean=True, with_std=True)"
      ]
     },
     "execution_count": 189,
     "metadata": {},
     "output_type": "execute_result"
    }
   ],
   "source": [
    "scaler = StandardScaler()\n",
    "scaler.fit(y_counts)\n",
    "\n",
    "#X_train, X_test, y_train, y_test = train_test_split(X, list(zip(y, scaler.transform(y_counts))),\n",
    "#                                                    test_size=0.30,\n",
    "#                                                    random_state=42)"
   ]
  },
  {
   "cell_type": "code",
   "execution_count": 190,
   "metadata": {},
   "outputs": [],
   "source": [
    "X_all_train = X\n",
    "X_all_test  = X_test"
   ]
  },
  {
   "cell_type": "code",
   "execution_count": 191,
   "metadata": {},
   "outputs": [],
   "source": [
    "y_all_train = list(zip(y, scaler.transform(y_counts)))"
   ]
  },
  {
   "cell_type": "code",
   "execution_count": 192,
   "metadata": {},
   "outputs": [],
   "source": [
    "y_all_test = list(zip(y_test, scaler.transform(y_counts_test)))"
   ]
  },
  {
   "cell_type": "code",
   "execution_count": 193,
   "metadata": {},
   "outputs": [
    {
     "data": {
      "text/plain": [
       "(1380, 100, 1380, 100)"
      ]
     },
     "execution_count": 193,
     "metadata": {},
     "output_type": "execute_result"
    }
   ],
   "source": [
    "len(X_all_train), len(X_all_test), len(y_all_train), len(y_all_test)"
   ]
  },
  {
   "cell_type": "markdown",
   "metadata": {},
   "source": [
    "## Armazenando os dados originais"
   ]
  },
  {
   "cell_type": "code",
   "execution_count": 194,
   "metadata": {},
   "outputs": [
    {
     "name": "stdout",
     "output_type": "stream",
     "text": [
      "mkdir: cannot create directory ‘dados_v5’: File exists\r\n"
     ]
    }
   ],
   "source": [
    "!mkdir dados_v5\n",
    "#!rm -rf dados_v5"
   ]
  },
  {
   "cell_type": "code",
   "execution_count": 195,
   "metadata": {},
   "outputs": [],
   "source": [
    "np.save(\"./dados_v5/X.npy\", [x.reshape((128,128,1)) for x in X])\n",
    "np.save(\"./dados_v5/y.npy\", y)\n",
    "np.save(\"./dados_v5/y_counts.npy\", y_counts)"
   ]
  },
  {
   "cell_type": "code",
   "execution_count": 196,
   "metadata": {},
   "outputs": [],
   "source": [
    "np.save(\"./dados_v5/X_test.npy\", [x.reshape((128,128,1)) for x in X_test])\n",
    "np.save(\"./dados_v5/y_test.npy\", y_test)\n",
    "np.save(\"./dados_v5/y_counts_test.npy\", y_counts_test)"
   ]
  },
  {
   "cell_type": "code",
   "execution_count": 197,
   "metadata": {},
   "outputs": [],
   "source": [
    "from keras.utils import Sequence"
   ]
  },
  {
   "cell_type": "code",
   "execution_count": 198,
   "metadata": {},
   "outputs": [],
   "source": [
    "class EspectraSequence(Sequence):\n",
    "\n",
    "    def __init__(self, x_set, y_set, y_set_count, batch_size):\n",
    "        self.x, self.y, self.y_set_count = x_set, y_set, y_set_count\n",
    "        self.batch_size = batch_size\n",
    "\n",
    "    def __len__(self):\n",
    "        return int(np.ceil(len(self.x) / float(self.batch_size)))\n",
    "\n",
    "    def __getitem__(self, idx):\n",
    "        batch_x = self.x[idx * self.batch_size:(idx + 1) * self.batch_size]\n",
    "        batch_y = self.y[idx * self.batch_size:(idx + 1) * self.batch_size]\n",
    "        batch_y_count = self.y_set_count[idx * self.batch_size:(idx + 1) * self.batch_size]\n",
    "\n",
    "        y_ = {'predictions_nuclei': np.array(batch_y, dtype=np.float32),\n",
    "              'predictions_counts': np.array(batch_y_count)}\n",
    "        \n",
    "        return np.array([x.reshape((128, 128, 1)) for x in batch_x]), y_"
   ]
  },
  {
   "cell_type": "code",
   "execution_count": 199,
   "metadata": {},
   "outputs": [],
   "source": [
    "s = EspectraSequence(X_all_train, [x[0] for x in y_all_train], [x[1] for x in y_all_train], batch_size=8)"
   ]
  },
  {
   "cell_type": "code",
   "execution_count": 200,
   "metadata": {},
   "outputs": [
    {
     "data": {
      "image/png": "[encoded data removed]",
      "text/plain": [
       "<Figure size 432x288 with 1 Axes>"
      ]
     },
     "metadata": {},
     "output_type": "display_data"
    }
   ],
   "source": [
    "a, b = s[2]\n",
    "c = b['predictions_counts']\n",
    "b = b['predictions_nuclei']\n",
    "plt.imshow(a[0].reshape((128, 128)))\n",
    "plt.title(\" with \".join(binarizer.inverse_transform(np.array([b[0]]))[0]) + \" {:.0f} counts\".format(\n",
    "    np.sum(c[0])))\n",
    "plt.show()"
   ]
  },
  {
   "cell_type": "code",
   "execution_count": 201,
   "metadata": {},
   "outputs": [
    {
     "data": {
      "image/png": "[encoded data removed]",
      "text/plain": [
       "<Figure size 432x288 with 1 Axes>"
      ]
     },
     "metadata": {},
     "output_type": "display_data"
    }
   ],
   "source": [
    "plt.title(\" with \".join(binarizer.inverse_transform(np.array([b[0]]))[0]) + \" {:.0f} counts\".format(np.sum(c[0])))\n",
    "plt.yscale(\"log\")\n",
    "plt.plot(a[0].reshape(-1))\n",
    "plt.show()"
   ]
  },
  {
   "cell_type": "code",
   "execution_count": 202,
   "metadata": {},
   "outputs": [],
   "source": [
    "def accuracy_score_wrapper(label, pred):\n",
    "    threshold = .95\n",
    "    label = (label >= threshold).astype(np.uint8)\n",
    "    pred = (pred >= threshold).astype(np.uint8)\n",
    "    return np.float32(accuracy_score(label, pred))\n",
    "\n",
    "def my_accuracy_score(label, pred):\n",
    "    metric_value = tf.compat.v1.py_func(accuracy_score_wrapper, [label, pred], tf.float32)\n",
    "    return metric_value"
   ]
  },
  {
   "cell_type": "code",
   "execution_count": 203,
   "metadata": {
    "scrolled": true
   },
   "outputs": [
    {
     "name": "stdout",
     "output_type": "stream",
     "text": [
      "__________________________________________________________________________________________________\n",
      "Layer (type)                    Output Shape         Param #     Connected to                     \n",
      "==================================================================================================\n",
      "input_1 (InputLayer)            (None, 128, 128, 1)  0                                            \n",
      "__________________________________________________________________________________________________\n",
      "block1_conv1 (Conv2D)           (None, 128, 128, 64) 640         input_1[0][0]                    \n",
      "__________________________________________________________________________________________________\n",
      "block1_conv2 (Conv2D)           (None, 128, 128, 64) 36928       block1_conv1[0][0]               \n",
      "__________________________________________________________________________________________________\n",
      "block1_pool (MaxPooling2D)      (None, 64, 64, 64)   0           block1_conv2[0][0]               \n",
      "__________________________________________________________________________________________________\n",
      "block2_conv1 (Conv2D)           (None, 64, 64, 128)  73856       block1_pool[0][0]                \n",
      "__________________________________________________________________________________________________\n",
      "block2_conv2 (Conv2D)           (None, 64, 64, 128)  147584      block2_conv1[0][0]               \n",
      "__________________________________________________________________________________________________\n",
      "block2_pool (MaxPooling2D)      (None, 32, 32, 128)  0           block2_conv2[0][0]               \n",
      "__________________________________________________________________________________________________\n",
      "block3_conv1 (Conv2D)           (None, 32, 32, 256)  295168      block2_pool[0][0]                \n",
      "__________________________________________________________________________________________________\n",
      "block3_conv2 (Conv2D)           (None, 32, 32, 256)  590080      block3_conv1[0][0]               \n",
      "__________________________________________________________________________________________________\n",
      "block3_conv3 (Conv2D)           (None, 32, 32, 256)  590080      block3_conv2[0][0]               \n",
      "__________________________________________________________________________________________________\n",
      "block3_conv4 (Conv2D)           (None, 32, 32, 256)  590080      block3_conv3[0][0]               \n",
      "__________________________________________________________________________________________________\n",
      "block3_pool (MaxPooling2D)      (None, 16, 16, 256)  0           block3_conv4[0][0]               \n",
      "__________________________________________________________________________________________________\n",
      "block4_conv1 (Conv2D)           (None, 16, 16, 512)  1180160     block3_pool[0][0]                \n",
      "__________________________________________________________________________________________________\n",
      "block4_conv2 (Conv2D)           (None, 16, 16, 512)  2359808     block4_conv1[0][0]               \n",
      "__________________________________________________________________________________________________\n",
      "block4_conv3 (Conv2D)           (None, 16, 16, 512)  2359808     block4_conv2[0][0]               \n",
      "__________________________________________________________________________________________________\n",
      "block4_conv4 (Conv2D)           (None, 16, 16, 512)  2359808     block4_conv3[0][0]               \n",
      "__________________________________________________________________________________________________\n",
      "block4_pool (MaxPooling2D)      (None, 8, 8, 512)    0           block4_conv4[0][0]               \n",
      "__________________________________________________________________________________________________\n",
      "block5_conv1 (Conv2D)           (None, 8, 8, 512)    2359808     block4_pool[0][0]                \n",
      "__________________________________________________________________________________________________\n",
      "block5_conv2 (Conv2D)           (None, 8, 8, 512)    2359808     block5_conv1[0][0]               \n",
      "__________________________________________________________________________________________________\n",
      "block5_conv3 (Conv2D)           (None, 8, 8, 512)    2359808     block5_conv2[0][0]               \n",
      "__________________________________________________________________________________________________\n",
      "block5_conv4 (Conv2D)           (None, 8, 8, 512)    2359808     block5_conv3[0][0]               \n",
      "__________________________________________________________________________________________________\n",
      "block5_pool (MaxPooling2D)      (None, 4, 4, 512)    0           block5_conv4[0][0]               \n",
      "__________________________________________________________________________________________________\n",
      "flatten_1 (Flatten)             (None, 8192)         0           block5_pool[0][0]                \n",
      "__________________________________________________________________________________________________\n",
      "flatten_2 (Flatten)             (None, 8192)         0           block5_pool[0][0]                \n",
      "__________________________________________________________________________________________________\n",
      "dense_1 (Dense)                 (None, 4096)         33558528    flatten_1[0][0]                  \n",
      "__________________________________________________________________________________________________\n",
      "dense_3 (Dense)                 (None, 4096)         33558528    flatten_2[0][0]                  \n",
      "__________________________________________________________________________________________________\n",
      "dense_2 (Dense)                 (None, 4096)         16781312    dense_1[0][0]                    \n",
      "__________________________________________________________________________________________________\n",
      "dense_4 (Dense)                 (None, 4096)         16781312    dense_3[0][0]                    \n",
      "__________________________________________________________________________________________________\n",
      "predictions_nuclei (Dense)      (None, 10)           40970       dense_2[0][0]                    \n",
      "__________________________________________________________________________________________________\n",
      "dense_5 (Dense)                 (None, 10)           40970       dense_4[0][0]                    \n",
      "__________________________________________________________________________________________________\n",
      "predictions_counts (Add)        (None, 10)           0           dense_5[0][0]                    \n",
      "                                                                 predictions_nuclei[0][0]         \n",
      "==================================================================================================\n",
      "Total params: 120,784,852\n",
      "Trainable params: 120,784,852\n",
      "Non-trainable params: 0\n",
      "__________________________________________________________________________________________________\n"
     ]
    }
   ],
   "source": [
    "K.clear_session()\n",
    "import keras\n",
    "vgg_model = VGG19(include_top=False,\n",
    "                  weights=None,\n",
    "                  input_shape=(128, 128, 1),\n",
    "                  classes=10)\n",
    "\n",
    "x = keras.layers.Flatten()(vgg_model.output)\n",
    "x = keras.layers.Dense(4096, activation='relu')(x)\n",
    "x = keras.layers.Dense(4096, activation='relu')(x)\n",
    "\n",
    "pred_nuclei = keras.layers.Dense(10, activation='sigmoid', name=\"predictions_nuclei\")(x)\n",
    "\n",
    "x1 = keras.layers.Flatten()(vgg_model.output)\n",
    "x1 = keras.layers.Dense(4096, activation='relu')(x1)\n",
    "x1 = keras.layers.Dense(4096, activation='relu')(x1)\n",
    "\n",
    "pred_counts = keras.layers.Dense(10, activation=None)(x1)\n",
    "\n",
    "pred_counts = keras.layers.add([pred_counts, pred_nuclei], name=\"predictions_counts\")\n",
    "\n",
    "#se a previsão do modelo for menor que zero, a gente zera a saída, afinal de contas\n",
    "#não existe atividade 0 bq :P\n",
    "#pred_counts = keras.layers.Lambda(lambda x: tf.where(x < 0, tf.zeros_like(x), x),\n",
    "#                                 name=\"predictions_counts\")(pred_counts)\n",
    "\n",
    "model = keras.models.Model(vgg_model.input, [pred_nuclei, pred_counts])\n",
    "model.summary()\n"
   ]
  },
  {
   "cell_type": "code",
   "execution_count": 204,
   "metadata": {},
   "outputs": [],
   "source": [
    "learning_rate = 1e-3\n",
    "epochs = 250\n",
    "batch_size = 8\n",
    "steps_per_epoch = len(X_all_train) // batch_size + 1\n",
    "validation_steps = len(X_all_test) // batch_size + 1"
   ]
  },
  {
   "cell_type": "code",
   "execution_count": 205,
   "metadata": {},
   "outputs": [],
   "source": [
    "opt = SGD(lr=learning_rate,\n",
    "          nesterov=False,\n",
    "          momentum=0.9) # keras.optimizers.RMSprop(0.001)\n",
    "\n",
    "model.compile(optimizer=opt,\n",
    "              loss={\n",
    "                  'predictions_nuclei': 'binary_crossentropy',\n",
    "                  'predictions_counts': 'mean_squared_error'\n",
    "              },\n",
    "              metrics={\n",
    "                  'predictions_nuclei': [my_accuracy_score, 'accuracy'],\n",
    "                  'predictions_counts': ['mean_squared_error', 'mean_absolute_error']\n",
    "              }\n",
    "             )"
   ]
  },
  {
   "cell_type": "code",
   "execution_count": null,
   "metadata": {},
   "outputs": [],
   "source": [
    "!nvidia-smi"
   ]
  },
  {
   "cell_type": "code",
   "execution_count": 206,
   "metadata": {},
   "outputs": [],
   "source": [
    "!rm -rf ./logs_v5\n",
    "!mkdir ./logs_v5"
   ]
  },
  {
   "cell_type": "code",
   "execution_count": 207,
   "metadata": {
    "scrolled": true
   },
   "outputs": [],
   "source": [
    "gerador_treino = EspectraSequence(X_all_train, [x[0] for x in y_all_train], [x[1] for x in y_all_train],\n",
    "                                  batch_size=batch_size)\n",
    "#gerador_imagens(X_train, y_train, batch_size=batch_size)\n",
    "\n",
    "gerador_validacao = EspectraSequence(X_all_test, [x[0] for x in y_all_test], [x[1] for x in y_all_test],\n",
    "                                     batch_size=batch_size)\n",
    "#gerador_imagens(X_test, y_test, batch_size=batch_size)\n",
    "\n",
    "es = keras.callbacks.EarlyStopping(monitor='val_loss',\n",
    "                                   mode='min',\n",
    "                                   patience=50)\n",
    "\n",
    "tb = keras.callbacks.TensorBoard(\n",
    "    log_dir='./logs_v4',\n",
    "    histogram_freq=0,\n",
    "    batch_size=32,\n",
    "    write_graph=True,\n",
    "    #batch_gen=gerador_validacao,\n",
    "    #nb_steps=validation_steps,\n",
    "    update_freq='epoch')\n",
    "\n",
    "#EspectraSequence(X_train, [x[0] for x in y_train], [x[1] for x in y_train], batch_size=8)\n",
    "\n",
    "callbacks = [es, tb]"
   ]
  },
  {
   "cell_type": "code",
   "execution_count": 208,
   "metadata": {
    "scrolled": true
   },
   "outputs": [
    {
     "name": "stdout",
     "output_type": "stream",
     "text": [
      "Epoch 1/250\n",
      " - 15s - loss: 2.8829 - predictions_nuclei_loss: 0.6617 - predictions_counts_loss: 2.2212 - predictions_nuclei_my_accuracy_score: 0.0000e+00 - predictions_nuclei_acc: 0.6622 - predictions_counts_mean_squared_error: 2.2212 - predictions_counts_mean_absolute_error: 1.0383 - val_loss: 1.3852 - val_predictions_nuclei_loss: 0.6584 - val_predictions_counts_loss: 0.7269 - val_predictions_nuclei_my_accuracy_score: 0.0000e+00 - val_predictions_nuclei_acc: 0.7500 - val_predictions_counts_mean_squared_error: 0.7269 - val_predictions_counts_mean_absolute_error: 0.8205\n",
      "Epoch 2/250\n",
      " - 14s - loss: 1.3802 - predictions_nuclei_loss: 0.5581 - predictions_counts_loss: 0.8221 - predictions_nuclei_my_accuracy_score: 0.0000e+00 - predictions_nuclei_acc: 0.7712 - predictions_counts_mean_squared_error: 0.8221 - predictions_counts_mean_absolute_error: 0.7786 - val_loss: 1.0323 - val_predictions_nuclei_loss: 0.5068 - val_predictions_counts_loss: 0.5255 - val_predictions_nuclei_my_accuracy_score: 0.0000e+00 - val_predictions_nuclei_acc: 0.8550 - val_predictions_counts_mean_squared_error: 0.5255 - val_predictions_counts_mean_absolute_error: 0.6686\n",
      "Epoch 3/250\n",
      " - 14s - loss: 0.9594 - predictions_nuclei_loss: 0.4010 - predictions_counts_loss: 0.5584 - predictions_nuclei_my_accuracy_score: 0.0087 - predictions_nuclei_acc: 0.8560 - predictions_counts_mean_squared_error: 0.5584 - predictions_counts_mean_absolute_error: 0.5720 - val_loss: 0.7358 - val_predictions_nuclei_loss: 0.3947 - val_predictions_counts_loss: 0.3411 - val_predictions_nuclei_my_accuracy_score: 0.0300 - val_predictions_nuclei_acc: 0.9040 - val_predictions_counts_mean_squared_error: 0.3411 - val_predictions_counts_mean_absolute_error: 0.5044\n",
      "Epoch 4/250\n",
      " - 14s - loss: 0.7887 - predictions_nuclei_loss: 0.3228 - predictions_counts_loss: 0.4659 - predictions_nuclei_my_accuracy_score: 0.0282 - predictions_nuclei_acc: 0.8785 - predictions_counts_mean_squared_error: 0.4659 - predictions_counts_mean_absolute_error: 0.4757 - val_loss: 0.5606 - val_predictions_nuclei_loss: 0.2945 - val_predictions_counts_loss: 0.2661 - val_predictions_nuclei_my_accuracy_score: 0.1200 - val_predictions_nuclei_acc: 0.9060 - val_predictions_counts_mean_squared_error: 0.2661 - val_predictions_counts_mean_absolute_error: 0.4150\n",
      "Epoch 5/250\n",
      " - 14s - loss: 0.7455 - predictions_nuclei_loss: 0.2969 - predictions_counts_loss: 0.4486 - predictions_nuclei_my_accuracy_score: 0.0701 - predictions_nuclei_acc: 0.8805 - predictions_counts_mean_squared_error: 0.4486 - predictions_counts_mean_absolute_error: 0.4576 - val_loss: 0.5738 - val_predictions_nuclei_loss: 0.3054 - val_predictions_counts_loss: 0.2684 - val_predictions_nuclei_my_accuracy_score: 0.0800 - val_predictions_nuclei_acc: 0.9090 - val_predictions_counts_mean_squared_error: 0.2684 - val_predictions_counts_mean_absolute_error: 0.4400\n",
      "Epoch 6/250\n",
      " - 14s - loss: 0.7152 - predictions_nuclei_loss: 0.2839 - predictions_counts_loss: 0.4313 - predictions_nuclei_my_accuracy_score: 0.0925 - predictions_nuclei_acc: 0.8833 - predictions_counts_mean_squared_error: 0.4313 - predictions_counts_mean_absolute_error: 0.4411 - val_loss: 0.6009 - val_predictions_nuclei_loss: 0.2922 - val_predictions_counts_loss: 0.3087 - val_predictions_nuclei_my_accuracy_score: 0.1400 - val_predictions_nuclei_acc: 0.9030 - val_predictions_counts_mean_squared_error: 0.3087 - val_predictions_counts_mean_absolute_error: 0.4522\n",
      "Epoch 7/250\n",
      " - 14s - loss: 0.6760 - predictions_nuclei_loss: 0.2677 - predictions_counts_loss: 0.4083 - predictions_nuclei_my_accuracy_score: 0.1077 - predictions_nuclei_acc: 0.8849 - predictions_counts_mean_squared_error: 0.4083 - predictions_counts_mean_absolute_error: 0.4241 - val_loss: 0.5114 - val_predictions_nuclei_loss: 0.2560 - val_predictions_counts_loss: 0.2554 - val_predictions_nuclei_my_accuracy_score: 0.2800 - val_predictions_nuclei_acc: 0.9170 - val_predictions_counts_mean_squared_error: 0.2554 - val_predictions_counts_mean_absolute_error: 0.4034\n",
      "Epoch 8/250\n",
      " - 14s - loss: 0.6209 - predictions_nuclei_loss: 0.2453 - predictions_counts_loss: 0.3756 - predictions_nuclei_my_accuracy_score: 0.1214 - predictions_nuclei_acc: 0.8957 - predictions_counts_mean_squared_error: 0.3756 - predictions_counts_mean_absolute_error: 0.4010 - val_loss: 0.4335 - val_predictions_nuclei_loss: 0.2278 - val_predictions_counts_loss: 0.2057 - val_predictions_nuclei_my_accuracy_score: 0.3000 - val_predictions_nuclei_acc: 0.9260 - val_predictions_counts_mean_squared_error: 0.2057 - val_predictions_counts_mean_absolute_error: 0.3479\n",
      "Epoch 9/250\n",
      " - 14s - loss: 0.5573 - predictions_nuclei_loss: 0.2188 - predictions_counts_loss: 0.3385 - predictions_nuclei_my_accuracy_score: 0.1431 - predictions_nuclei_acc: 0.9075 - predictions_counts_mean_squared_error: 0.3385 - predictions_counts_mean_absolute_error: 0.3663 - val_loss: 0.4249 - val_predictions_nuclei_loss: 0.2163 - val_predictions_counts_loss: 0.2087 - val_predictions_nuclei_my_accuracy_score: 0.3100 - val_predictions_nuclei_acc: 0.9300 - val_predictions_counts_mean_squared_error: 0.2087 - val_predictions_counts_mean_absolute_error: 0.3445\n",
      "Epoch 10/250\n",
      " - 14s - loss: 0.5350 - predictions_nuclei_loss: 0.2085 - predictions_counts_loss: 0.3265 - predictions_nuclei_my_accuracy_score: 0.1893 - predictions_nuclei_acc: 0.9077 - predictions_counts_mean_squared_error: 0.3265 - predictions_counts_mean_absolute_error: 0.3506 - val_loss: 0.4459 - val_predictions_nuclei_loss: 0.2200 - val_predictions_counts_loss: 0.2259 - val_predictions_nuclei_my_accuracy_score: 0.1700 - val_predictions_nuclei_acc: 0.9150 - val_predictions_counts_mean_squared_error: 0.2259 - val_predictions_counts_mean_absolute_error: 0.3568\n",
      "Epoch 11/250\n",
      " - 14s - loss: 0.5223 - predictions_nuclei_loss: 0.2036 - predictions_counts_loss: 0.3187 - predictions_nuclei_my_accuracy_score: 0.2023 - predictions_nuclei_acc: 0.9067 - predictions_counts_mean_squared_error: 0.3187 - predictions_counts_mean_absolute_error: 0.3388 - val_loss: 0.4439 - val_predictions_nuclei_loss: 0.2056 - val_predictions_counts_loss: 0.2384 - val_predictions_nuclei_my_accuracy_score: 0.3000 - val_predictions_nuclei_acc: 0.9230 - val_predictions_counts_mean_squared_error: 0.2384 - val_predictions_counts_mean_absolute_error: 0.3734\n",
      "Epoch 12/250\n",
      " - 14s - loss: 0.5088 - predictions_nuclei_loss: 0.1967 - predictions_counts_loss: 0.3122 - predictions_nuclei_my_accuracy_score: 0.2211 - predictions_nuclei_acc: 0.9077 - predictions_counts_mean_squared_error: 0.3122 - predictions_counts_mean_absolute_error: 0.3321 - val_loss: 0.4099 - val_predictions_nuclei_loss: 0.2015 - val_predictions_counts_loss: 0.2084 - val_predictions_nuclei_my_accuracy_score: 0.3200 - val_predictions_nuclei_acc: 0.9290 - val_predictions_counts_mean_squared_error: 0.2084 - val_predictions_counts_mean_absolute_error: 0.3483\n",
      "Epoch 13/250\n",
      " - 14s - loss: 0.5051 - predictions_nuclei_loss: 0.1960 - predictions_counts_loss: 0.3091 - predictions_nuclei_my_accuracy_score: 0.2283 - predictions_nuclei_acc: 0.9082 - predictions_counts_mean_squared_error: 0.3091 - predictions_counts_mean_absolute_error: 0.3286 - val_loss: 0.3890 - val_predictions_nuclei_loss: 0.2063 - val_predictions_counts_loss: 0.1826 - val_predictions_nuclei_my_accuracy_score: 0.2600 - val_predictions_nuclei_acc: 0.9260 - val_predictions_counts_mean_squared_error: 0.1826 - val_predictions_counts_mean_absolute_error: 0.3244\n",
      "Epoch 14/250\n",
      " - 14s - loss: 0.4999 - predictions_nuclei_loss: 0.1926 - predictions_counts_loss: 0.3072 - predictions_nuclei_my_accuracy_score: 0.2363 - predictions_nuclei_acc: 0.9079 - predictions_counts_mean_squared_error: 0.3072 - predictions_counts_mean_absolute_error: 0.3245 - val_loss: 0.4117 - val_predictions_nuclei_loss: 0.2107 - val_predictions_counts_loss: 0.2010 - val_predictions_nuclei_my_accuracy_score: 0.2100 - val_predictions_nuclei_acc: 0.9230 - val_predictions_counts_mean_squared_error: 0.2010 - val_predictions_counts_mean_absolute_error: 0.3240\n",
      "Epoch 15/250\n",
      " - 14s - loss: 0.4934 - predictions_nuclei_loss: 0.1897 - predictions_counts_loss: 0.3037 - predictions_nuclei_my_accuracy_score: 0.2522 - predictions_nuclei_acc: 0.9068 - predictions_counts_mean_squared_error: 0.3037 - predictions_counts_mean_absolute_error: 0.3210 - val_loss: 0.4132 - val_predictions_nuclei_loss: 0.1948 - val_predictions_counts_loss: 0.2185 - val_predictions_nuclei_my_accuracy_score: 0.3600 - val_predictions_nuclei_acc: 0.9280 - val_predictions_counts_mean_squared_error: 0.2185 - val_predictions_counts_mean_absolute_error: 0.3440\n"
     ]
    },
    {
     "name": "stdout",
     "output_type": "stream",
     "text": [
      "Epoch 16/250\n",
      " - 14s - loss: 0.4877 - predictions_nuclei_loss: 0.1871 - predictions_counts_loss: 0.3006 - predictions_nuclei_my_accuracy_score: 0.2608 - predictions_nuclei_acc: 0.9105 - predictions_counts_mean_squared_error: 0.3006 - predictions_counts_mean_absolute_error: 0.3156 - val_loss: 0.4275 - val_predictions_nuclei_loss: 0.2051 - val_predictions_counts_loss: 0.2224 - val_predictions_nuclei_my_accuracy_score: 0.3600 - val_predictions_nuclei_acc: 0.9020 - val_predictions_counts_mean_squared_error: 0.2224 - val_predictions_counts_mean_absolute_error: 0.3209\n",
      "Epoch 17/250\n",
      " - 14s - loss: 0.4882 - predictions_nuclei_loss: 0.1865 - predictions_counts_loss: 0.3017 - predictions_nuclei_my_accuracy_score: 0.2536 - predictions_nuclei_acc: 0.9090 - predictions_counts_mean_squared_error: 0.3017 - predictions_counts_mean_absolute_error: 0.3191 - val_loss: 0.3870 - val_predictions_nuclei_loss: 0.1858 - val_predictions_counts_loss: 0.2012 - val_predictions_nuclei_my_accuracy_score: 0.3800 - val_predictions_nuclei_acc: 0.9330 - val_predictions_counts_mean_squared_error: 0.2012 - val_predictions_counts_mean_absolute_error: 0.3140\n",
      "Epoch 18/250\n",
      " - 14s - loss: 0.4856 - predictions_nuclei_loss: 0.1859 - predictions_counts_loss: 0.2997 - predictions_nuclei_my_accuracy_score: 0.2630 - predictions_nuclei_acc: 0.9086 - predictions_counts_mean_squared_error: 0.2997 - predictions_counts_mean_absolute_error: 0.3141 - val_loss: 0.4013 - val_predictions_nuclei_loss: 0.2012 - val_predictions_counts_loss: 0.2001 - val_predictions_nuclei_my_accuracy_score: 0.2700 - val_predictions_nuclei_acc: 0.9030 - val_predictions_counts_mean_squared_error: 0.2001 - val_predictions_counts_mean_absolute_error: 0.3034\n",
      "Epoch 19/250\n",
      " - 14s - loss: 0.4878 - predictions_nuclei_loss: 0.1861 - predictions_counts_loss: 0.3017 - predictions_nuclei_my_accuracy_score: 0.2681 - predictions_nuclei_acc: 0.9079 - predictions_counts_mean_squared_error: 0.3017 - predictions_counts_mean_absolute_error: 0.3157 - val_loss: 0.3963 - val_predictions_nuclei_loss: 0.1937 - val_predictions_counts_loss: 0.2026 - val_predictions_nuclei_my_accuracy_score: 0.3500 - val_predictions_nuclei_acc: 0.9310 - val_predictions_counts_mean_squared_error: 0.2026 - val_predictions_counts_mean_absolute_error: 0.3284\n",
      "Epoch 20/250\n",
      " - 14s - loss: 0.4784 - predictions_nuclei_loss: 0.1825 - predictions_counts_loss: 0.2960 - predictions_nuclei_my_accuracy_score: 0.2825 - predictions_nuclei_acc: 0.9110 - predictions_counts_mean_squared_error: 0.2960 - predictions_counts_mean_absolute_error: 0.3085 - val_loss: 0.4579 - val_predictions_nuclei_loss: 0.1985 - val_predictions_counts_loss: 0.2594 - val_predictions_nuclei_my_accuracy_score: 0.3900 - val_predictions_nuclei_acc: 0.8920 - val_predictions_counts_mean_squared_error: 0.2594 - val_predictions_counts_mean_absolute_error: 0.3499\n",
      "Epoch 21/250\n",
      " - 14s - loss: 0.4797 - predictions_nuclei_loss: 0.1818 - predictions_counts_loss: 0.2979 - predictions_nuclei_my_accuracy_score: 0.2738 - predictions_nuclei_acc: 0.9095 - predictions_counts_mean_squared_error: 0.2979 - predictions_counts_mean_absolute_error: 0.3112 - val_loss: 0.4202 - val_predictions_nuclei_loss: 0.2042 - val_predictions_counts_loss: 0.2159 - val_predictions_nuclei_my_accuracy_score: 0.3000 - val_predictions_nuclei_acc: 0.8870 - val_predictions_counts_mean_squared_error: 0.2159 - val_predictions_counts_mean_absolute_error: 0.3167\n",
      "Epoch 22/250\n",
      " - 14s - loss: 0.4804 - predictions_nuclei_loss: 0.1832 - predictions_counts_loss: 0.2972 - predictions_nuclei_my_accuracy_score: 0.2767 - predictions_nuclei_acc: 0.9098 - predictions_counts_mean_squared_error: 0.2972 - predictions_counts_mean_absolute_error: 0.3114 - val_loss: 0.3863 - val_predictions_nuclei_loss: 0.1915 - val_predictions_counts_loss: 0.1948 - val_predictions_nuclei_my_accuracy_score: 0.3800 - val_predictions_nuclei_acc: 0.9250 - val_predictions_counts_mean_squared_error: 0.1948 - val_predictions_counts_mean_absolute_error: 0.3075\n",
      "Epoch 23/250\n",
      " - 14s - loss: 0.4754 - predictions_nuclei_loss: 0.1812 - predictions_counts_loss: 0.2942 - predictions_nuclei_my_accuracy_score: 0.2876 - predictions_nuclei_acc: 0.9115 - predictions_counts_mean_squared_error: 0.2942 - predictions_counts_mean_absolute_error: 0.3045 - val_loss: 0.3918 - val_predictions_nuclei_loss: 0.1842 - val_predictions_counts_loss: 0.2076 - val_predictions_nuclei_my_accuracy_score: 0.4200 - val_predictions_nuclei_acc: 0.9290 - val_predictions_counts_mean_squared_error: 0.2076 - val_predictions_counts_mean_absolute_error: 0.3217\n",
      "Epoch 24/250\n",
      " - 14s - loss: 0.4753 - predictions_nuclei_loss: 0.1802 - predictions_counts_loss: 0.2951 - predictions_nuclei_my_accuracy_score: 0.2861 - predictions_nuclei_acc: 0.9100 - predictions_counts_mean_squared_error: 0.2951 - predictions_counts_mean_absolute_error: 0.3073 - val_loss: 0.3904 - val_predictions_nuclei_loss: 0.1983 - val_predictions_counts_loss: 0.1921 - val_predictions_nuclei_my_accuracy_score: 0.1800 - val_predictions_nuclei_acc: 0.9240 - val_predictions_counts_mean_squared_error: 0.1921 - val_predictions_counts_mean_absolute_error: 0.2979\n",
      "Epoch 25/250\n",
      " - 14s - loss: 0.4739 - predictions_nuclei_loss: 0.1789 - predictions_counts_loss: 0.2950 - predictions_nuclei_my_accuracy_score: 0.2941 - predictions_nuclei_acc: 0.9086 - predictions_counts_mean_squared_error: 0.2950 - predictions_counts_mean_absolute_error: 0.3078 - val_loss: 0.4391 - val_predictions_nuclei_loss: 0.1950 - val_predictions_counts_loss: 0.2441 - val_predictions_nuclei_my_accuracy_score: 0.4000 - val_predictions_nuclei_acc: 0.8900 - val_predictions_counts_mean_squared_error: 0.2441 - val_predictions_counts_mean_absolute_error: 0.3442\n",
      "Epoch 26/250\n",
      " - 14s - loss: 0.4684 - predictions_nuclei_loss: 0.1776 - predictions_counts_loss: 0.2908 - predictions_nuclei_my_accuracy_score: 0.2926 - predictions_nuclei_acc: 0.9105 - predictions_counts_mean_squared_error: 0.2908 - predictions_counts_mean_absolute_error: 0.3040 - val_loss: 0.3737 - val_predictions_nuclei_loss: 0.1870 - val_predictions_counts_loss: 0.1867 - val_predictions_nuclei_my_accuracy_score: 0.3000 - val_predictions_nuclei_acc: 0.9150 - val_predictions_counts_mean_squared_error: 0.1867 - val_predictions_counts_mean_absolute_error: 0.2969\n",
      "Epoch 27/250\n",
      " - 14s - loss: 0.4722 - predictions_nuclei_loss: 0.1801 - predictions_counts_loss: 0.2922 - predictions_nuclei_my_accuracy_score: 0.2897 - predictions_nuclei_acc: 0.9104 - predictions_counts_mean_squared_error: 0.2922 - predictions_counts_mean_absolute_error: 0.3029 - val_loss: 0.3731 - val_predictions_nuclei_loss: 0.1864 - val_predictions_counts_loss: 0.1867 - val_predictions_nuclei_my_accuracy_score: 0.3800 - val_predictions_nuclei_acc: 0.9170 - val_predictions_counts_mean_squared_error: 0.1867 - val_predictions_counts_mean_absolute_error: 0.2945\n",
      "Epoch 28/250\n",
      " - 14s - loss: 0.4692 - predictions_nuclei_loss: 0.1783 - predictions_counts_loss: 0.2908 - predictions_nuclei_my_accuracy_score: 0.2991 - predictions_nuclei_acc: 0.9116 - predictions_counts_mean_squared_error: 0.2908 - predictions_counts_mean_absolute_error: 0.3032 - val_loss: 0.3497 - val_predictions_nuclei_loss: 0.1814 - val_predictions_counts_loss: 0.1682 - val_predictions_nuclei_my_accuracy_score: 0.3200 - val_predictions_nuclei_acc: 0.9290 - val_predictions_counts_mean_squared_error: 0.1682 - val_predictions_counts_mean_absolute_error: 0.2827\n",
      "Epoch 29/250\n",
      " - 14s - loss: 0.4719 - predictions_nuclei_loss: 0.1791 - predictions_counts_loss: 0.2928 - predictions_nuclei_my_accuracy_score: 0.2955 - predictions_nuclei_acc: 0.9105 - predictions_counts_mean_squared_error: 0.2928 - predictions_counts_mean_absolute_error: 0.3047 - val_loss: 0.3549 - val_predictions_nuclei_loss: 0.1815 - val_predictions_counts_loss: 0.1734 - val_predictions_nuclei_my_accuracy_score: 0.2000 - val_predictions_nuclei_acc: 0.9290 - val_predictions_counts_mean_squared_error: 0.1734 - val_predictions_counts_mean_absolute_error: 0.2844\n",
      "Epoch 30/250\n",
      " - 14s - loss: 0.4703 - predictions_nuclei_loss: 0.1789 - predictions_counts_loss: 0.2914 - predictions_nuclei_my_accuracy_score: 0.2890 - predictions_nuclei_acc: 0.9109 - predictions_counts_mean_squared_error: 0.2914 - predictions_counts_mean_absolute_error: 0.3000 - val_loss: 0.4062 - val_predictions_nuclei_loss: 0.1963 - val_predictions_counts_loss: 0.2099 - val_predictions_nuclei_my_accuracy_score: 0.3100 - val_predictions_nuclei_acc: 0.9020 - val_predictions_counts_mean_squared_error: 0.2099 - val_predictions_counts_mean_absolute_error: 0.3081\n"
     ]
    },
    {
     "name": "stdout",
     "output_type": "stream",
     "text": [
      "Epoch 31/250\n",
      " - 14s - loss: 0.4708 - predictions_nuclei_loss: 0.1801 - predictions_counts_loss: 0.2907 - predictions_nuclei_my_accuracy_score: 0.3006 - predictions_nuclei_acc: 0.9103 - predictions_counts_mean_squared_error: 0.2907 - predictions_counts_mean_absolute_error: 0.2993 - val_loss: 0.3526 - val_predictions_nuclei_loss: 0.1802 - val_predictions_counts_loss: 0.1724 - val_predictions_nuclei_my_accuracy_score: 0.3300 - val_predictions_nuclei_acc: 0.9340 - val_predictions_counts_mean_squared_error: 0.1724 - val_predictions_counts_mean_absolute_error: 0.2797\n",
      "Epoch 32/250\n",
      " - 14s - loss: 0.4653 - predictions_nuclei_loss: 0.1762 - predictions_counts_loss: 0.2891 - predictions_nuclei_my_accuracy_score: 0.2991 - predictions_nuclei_acc: 0.9105 - predictions_counts_mean_squared_error: 0.2891 - predictions_counts_mean_absolute_error: 0.2988 - val_loss: 0.4157 - val_predictions_nuclei_loss: 0.1976 - val_predictions_counts_loss: 0.2181 - val_predictions_nuclei_my_accuracy_score: 0.3700 - val_predictions_nuclei_acc: 0.9090 - val_predictions_counts_mean_squared_error: 0.2181 - val_predictions_counts_mean_absolute_error: 0.3189\n",
      "Epoch 33/250\n",
      " - 14s - loss: 0.4646 - predictions_nuclei_loss: 0.1760 - predictions_counts_loss: 0.2886 - predictions_nuclei_my_accuracy_score: 0.3049 - predictions_nuclei_acc: 0.9121 - predictions_counts_mean_squared_error: 0.2886 - predictions_counts_mean_absolute_error: 0.3015 - val_loss: 0.3409 - val_predictions_nuclei_loss: 0.1961 - val_predictions_counts_loss: 0.1448 - val_predictions_nuclei_my_accuracy_score: 0.0100 - val_predictions_nuclei_acc: 0.9290 - val_predictions_counts_mean_squared_error: 0.1448 - val_predictions_counts_mean_absolute_error: 0.2368\n",
      "Epoch 34/250\n",
      " - 14s - loss: 0.4664 - predictions_nuclei_loss: 0.1766 - predictions_counts_loss: 0.2898 - predictions_nuclei_my_accuracy_score: 0.2977 - predictions_nuclei_acc: 0.9111 - predictions_counts_mean_squared_error: 0.2898 - predictions_counts_mean_absolute_error: 0.2978 - val_loss: 0.3599 - val_predictions_nuclei_loss: 0.1851 - val_predictions_counts_loss: 0.1749 - val_predictions_nuclei_my_accuracy_score: 0.3900 - val_predictions_nuclei_acc: 0.9230 - val_predictions_counts_mean_squared_error: 0.1749 - val_predictions_counts_mean_absolute_error: 0.2771\n",
      "Epoch 35/250\n",
      " - 14s - loss: 0.4633 - predictions_nuclei_loss: 0.1759 - predictions_counts_loss: 0.2874 - predictions_nuclei_my_accuracy_score: 0.3064 - predictions_nuclei_acc: 0.9118 - predictions_counts_mean_squared_error: 0.2874 - predictions_counts_mean_absolute_error: 0.2974 - val_loss: 0.3796 - val_predictions_nuclei_loss: 0.1946 - val_predictions_counts_loss: 0.1850 - val_predictions_nuclei_my_accuracy_score: 0.2900 - val_predictions_nuclei_acc: 0.9110 - val_predictions_counts_mean_squared_error: 0.1850 - val_predictions_counts_mean_absolute_error: 0.2875\n",
      "Epoch 36/250\n",
      " - 14s - loss: 0.4613 - predictions_nuclei_loss: 0.1750 - predictions_counts_loss: 0.2863 - predictions_nuclei_my_accuracy_score: 0.3028 - predictions_nuclei_acc: 0.9107 - predictions_counts_mean_squared_error: 0.2863 - predictions_counts_mean_absolute_error: 0.2976 - val_loss: 0.3472 - val_predictions_nuclei_loss: 0.1858 - val_predictions_counts_loss: 0.1614 - val_predictions_nuclei_my_accuracy_score: 0.3700 - val_predictions_nuclei_acc: 0.9290 - val_predictions_counts_mean_squared_error: 0.1614 - val_predictions_counts_mean_absolute_error: 0.2661\n",
      "Epoch 37/250\n",
      " - 14s - loss: 0.4611 - predictions_nuclei_loss: 0.1755 - predictions_counts_loss: 0.2856 - predictions_nuclei_my_accuracy_score: 0.3064 - predictions_nuclei_acc: 0.9105 - predictions_counts_mean_squared_error: 0.2856 - predictions_counts_mean_absolute_error: 0.2946 - val_loss: 0.3549 - val_predictions_nuclei_loss: 0.1789 - val_predictions_counts_loss: 0.1760 - val_predictions_nuclei_my_accuracy_score: 0.4300 - val_predictions_nuclei_acc: 0.9290 - val_predictions_counts_mean_squared_error: 0.1760 - val_predictions_counts_mean_absolute_error: 0.2888\n",
      "Epoch 38/250\n",
      " - 14s - loss: 0.4615 - predictions_nuclei_loss: 0.1753 - predictions_counts_loss: 0.2862 - predictions_nuclei_my_accuracy_score: 0.3013 - predictions_nuclei_acc: 0.9124 - predictions_counts_mean_squared_error: 0.2862 - predictions_counts_mean_absolute_error: 0.2952 - val_loss: 0.3801 - val_predictions_nuclei_loss: 0.1869 - val_predictions_counts_loss: 0.1933 - val_predictions_nuclei_my_accuracy_score: 0.4700 - val_predictions_nuclei_acc: 0.9110 - val_predictions_counts_mean_squared_error: 0.1933 - val_predictions_counts_mean_absolute_error: 0.2928\n",
      "Epoch 39/250\n",
      " - 14s - loss: 0.4617 - predictions_nuclei_loss: 0.1750 - predictions_counts_loss: 0.2867 - predictions_nuclei_my_accuracy_score: 0.3064 - predictions_nuclei_acc: 0.9129 - predictions_counts_mean_squared_error: 0.2867 - predictions_counts_mean_absolute_error: 0.2972 - val_loss: 0.3495 - val_predictions_nuclei_loss: 0.1767 - val_predictions_counts_loss: 0.1727 - val_predictions_nuclei_my_accuracy_score: 0.4200 - val_predictions_nuclei_acc: 0.9290 - val_predictions_counts_mean_squared_error: 0.1727 - val_predictions_counts_mean_absolute_error: 0.2768\n",
      "Epoch 40/250\n",
      " - 14s - loss: 0.4607 - predictions_nuclei_loss: 0.1752 - predictions_counts_loss: 0.2855 - predictions_nuclei_my_accuracy_score: 0.3042 - predictions_nuclei_acc: 0.9134 - predictions_counts_mean_squared_error: 0.2855 - predictions_counts_mean_absolute_error: 0.2947 - val_loss: 0.3429 - val_predictions_nuclei_loss: 0.1835 - val_predictions_counts_loss: 0.1593 - val_predictions_nuclei_my_accuracy_score: 0.3600 - val_predictions_nuclei_acc: 0.9290 - val_predictions_counts_mean_squared_error: 0.1593 - val_predictions_counts_mean_absolute_error: 0.2579\n",
      "Epoch 41/250\n",
      " - 14s - loss: 0.4590 - predictions_nuclei_loss: 0.1749 - predictions_counts_loss: 0.2841 - predictions_nuclei_my_accuracy_score: 0.3056 - predictions_nuclei_acc: 0.9121 - predictions_counts_mean_squared_error: 0.2841 - predictions_counts_mean_absolute_error: 0.2944 - val_loss: 0.3500 - val_predictions_nuclei_loss: 0.1805 - val_predictions_counts_loss: 0.1695 - val_predictions_nuclei_my_accuracy_score: 0.2300 - val_predictions_nuclei_acc: 0.9150 - val_predictions_counts_mean_squared_error: 0.1695 - val_predictions_counts_mean_absolute_error: 0.2670\n",
      "Epoch 42/250\n",
      " - 14s - loss: 0.4598 - predictions_nuclei_loss: 0.1753 - predictions_counts_loss: 0.2845 - predictions_nuclei_my_accuracy_score: 0.3056 - predictions_nuclei_acc: 0.9118 - predictions_counts_mean_squared_error: 0.2845 - predictions_counts_mean_absolute_error: 0.2926 - val_loss: 0.3421 - val_predictions_nuclei_loss: 0.1825 - val_predictions_counts_loss: 0.1596 - val_predictions_nuclei_my_accuracy_score: 0.3600 - val_predictions_nuclei_acc: 0.9290 - val_predictions_counts_mean_squared_error: 0.1596 - val_predictions_counts_mean_absolute_error: 0.2608\n",
      "Epoch 43/250\n",
      " - 14s - loss: 0.4574 - predictions_nuclei_loss: 0.1752 - predictions_counts_loss: 0.2822 - predictions_nuclei_my_accuracy_score: 0.3028 - predictions_nuclei_acc: 0.9134 - predictions_counts_mean_squared_error: 0.2822 - predictions_counts_mean_absolute_error: 0.2908 - val_loss: 0.3679 - val_predictions_nuclei_loss: 0.1830 - val_predictions_counts_loss: 0.1849 - val_predictions_nuclei_my_accuracy_score: 0.4800 - val_predictions_nuclei_acc: 0.9220 - val_predictions_counts_mean_squared_error: 0.1849 - val_predictions_counts_mean_absolute_error: 0.2883\n",
      "Epoch 44/250\n",
      " - 14s - loss: 0.4536 - predictions_nuclei_loss: 0.1719 - predictions_counts_loss: 0.2817 - predictions_nuclei_my_accuracy_score: 0.3020 - predictions_nuclei_acc: 0.9142 - predictions_counts_mean_squared_error: 0.2817 - predictions_counts_mean_absolute_error: 0.2928 - val_loss: 0.3665 - val_predictions_nuclei_loss: 0.1755 - val_predictions_counts_loss: 0.1909 - val_predictions_nuclei_my_accuracy_score: 0.4800 - val_predictions_nuclei_acc: 0.9260 - val_predictions_counts_mean_squared_error: 0.1909 - val_predictions_counts_mean_absolute_error: 0.2932\n",
      "Epoch 45/250\n",
      " - 14s - loss: 0.4621 - predictions_nuclei_loss: 0.1750 - predictions_counts_loss: 0.2871 - predictions_nuclei_my_accuracy_score: 0.3028 - predictions_nuclei_acc: 0.9117 - predictions_counts_mean_squared_error: 0.2871 - predictions_counts_mean_absolute_error: 0.2980 - val_loss: 0.3445 - val_predictions_nuclei_loss: 0.1837 - val_predictions_counts_loss: 0.1608 - val_predictions_nuclei_my_accuracy_score: 0.1900 - val_predictions_nuclei_acc: 0.9270 - val_predictions_counts_mean_squared_error: 0.1608 - val_predictions_counts_mean_absolute_error: 0.2608\n"
     ]
    },
    {
     "name": "stdout",
     "output_type": "stream",
     "text": [
      "Epoch 46/250\n",
      " - 14s - loss: 0.4557 - predictions_nuclei_loss: 0.1738 - predictions_counts_loss: 0.2818 - predictions_nuclei_my_accuracy_score: 0.3006 - predictions_nuclei_acc: 0.9129 - predictions_counts_mean_squared_error: 0.2818 - predictions_counts_mean_absolute_error: 0.2918 - val_loss: 0.3706 - val_predictions_nuclei_loss: 0.1865 - val_predictions_counts_loss: 0.1841 - val_predictions_nuclei_my_accuracy_score: 0.4300 - val_predictions_nuclei_acc: 0.9010 - val_predictions_counts_mean_squared_error: 0.1841 - val_predictions_counts_mean_absolute_error: 0.2804\n",
      "Epoch 47/250\n",
      " - 14s - loss: 0.4537 - predictions_nuclei_loss: 0.1731 - predictions_counts_loss: 0.2805 - predictions_nuclei_my_accuracy_score: 0.3013 - predictions_nuclei_acc: 0.9132 - predictions_counts_mean_squared_error: 0.2805 - predictions_counts_mean_absolute_error: 0.2900 - val_loss: 0.3858 - val_predictions_nuclei_loss: 0.2016 - val_predictions_counts_loss: 0.1842 - val_predictions_nuclei_my_accuracy_score: 0.1600 - val_predictions_nuclei_acc: 0.8870 - val_predictions_counts_mean_squared_error: 0.1842 - val_predictions_counts_mean_absolute_error: 0.2724\n",
      "Epoch 48/250\n",
      " - 14s - loss: 0.4528 - predictions_nuclei_loss: 0.1728 - predictions_counts_loss: 0.2800 - predictions_nuclei_my_accuracy_score: 0.3049 - predictions_nuclei_acc: 0.9117 - predictions_counts_mean_squared_error: 0.2800 - predictions_counts_mean_absolute_error: 0.2901 - val_loss: 0.3722 - val_predictions_nuclei_loss: 0.1922 - val_predictions_counts_loss: 0.1801 - val_predictions_nuclei_my_accuracy_score: 0.4000 - val_predictions_nuclei_acc: 0.9340 - val_predictions_counts_mean_squared_error: 0.1801 - val_predictions_counts_mean_absolute_error: 0.2813\n",
      "Epoch 49/250\n",
      " - 14s - loss: 0.4490 - predictions_nuclei_loss: 0.1716 - predictions_counts_loss: 0.2774 - predictions_nuclei_my_accuracy_score: 0.3035 - predictions_nuclei_acc: 0.9134 - predictions_counts_mean_squared_error: 0.2774 - predictions_counts_mean_absolute_error: 0.2884 - val_loss: 0.3353 - val_predictions_nuclei_loss: 0.1729 - val_predictions_counts_loss: 0.1624 - val_predictions_nuclei_my_accuracy_score: 0.4700 - val_predictions_nuclei_acc: 0.9310 - val_predictions_counts_mean_squared_error: 0.1624 - val_predictions_counts_mean_absolute_error: 0.2653\n",
      "Epoch 50/250\n",
      " - 14s - loss: 0.4467 - predictions_nuclei_loss: 0.1707 - predictions_counts_loss: 0.2760 - predictions_nuclei_my_accuracy_score: 0.3064 - predictions_nuclei_acc: 0.9156 - predictions_counts_mean_squared_error: 0.2760 - predictions_counts_mean_absolute_error: 0.2900 - val_loss: 0.3537 - val_predictions_nuclei_loss: 0.1934 - val_predictions_counts_loss: 0.1603 - val_predictions_nuclei_my_accuracy_score: 0.3000 - val_predictions_nuclei_acc: 0.9160 - val_predictions_counts_mean_squared_error: 0.1603 - val_predictions_counts_mean_absolute_error: 0.2450\n",
      "Epoch 51/250\n",
      " - 14s - loss: 0.4421 - predictions_nuclei_loss: 0.1691 - predictions_counts_loss: 0.2730 - predictions_nuclei_my_accuracy_score: 0.3064 - predictions_nuclei_acc: 0.9161 - predictions_counts_mean_squared_error: 0.2730 - predictions_counts_mean_absolute_error: 0.2869 - val_loss: 0.3601 - val_predictions_nuclei_loss: 0.1813 - val_predictions_counts_loss: 0.1788 - val_predictions_nuclei_my_accuracy_score: 0.4300 - val_predictions_nuclei_acc: 0.9240 - val_predictions_counts_mean_squared_error: 0.1788 - val_predictions_counts_mean_absolute_error: 0.2799\n",
      "Epoch 52/250\n",
      " - 14s - loss: 0.4352 - predictions_nuclei_loss: 0.1664 - predictions_counts_loss: 0.2688 - predictions_nuclei_my_accuracy_score: 0.3020 - predictions_nuclei_acc: 0.9197 - predictions_counts_mean_squared_error: 0.2688 - predictions_counts_mean_absolute_error: 0.2853 - val_loss: 0.3259 - val_predictions_nuclei_loss: 0.1675 - val_predictions_counts_loss: 0.1584 - val_predictions_nuclei_my_accuracy_score: 0.3700 - val_predictions_nuclei_acc: 0.9360 - val_predictions_counts_mean_squared_error: 0.1584 - val_predictions_counts_mean_absolute_error: 0.2571\n",
      "Epoch 53/250\n",
      " - 14s - loss: 0.4331 - predictions_nuclei_loss: 0.1660 - predictions_counts_loss: 0.2671 - predictions_nuclei_my_accuracy_score: 0.3035 - predictions_nuclei_acc: 0.9178 - predictions_counts_mean_squared_error: 0.2671 - predictions_counts_mean_absolute_error: 0.2827 - val_loss: 0.3527 - val_predictions_nuclei_loss: 0.1808 - val_predictions_counts_loss: 0.1719 - val_predictions_nuclei_my_accuracy_score: 0.4500 - val_predictions_nuclei_acc: 0.9160 - val_predictions_counts_mean_squared_error: 0.1719 - val_predictions_counts_mean_absolute_error: 0.2651\n",
      "Epoch 54/250\n",
      " - 14s - loss: 0.4185 - predictions_nuclei_loss: 0.1605 - predictions_counts_loss: 0.2580 - predictions_nuclei_my_accuracy_score: 0.3013 - predictions_nuclei_acc: 0.9231 - predictions_counts_mean_squared_error: 0.2580 - predictions_counts_mean_absolute_error: 0.2801 - val_loss: 0.3355 - val_predictions_nuclei_loss: 0.1726 - val_predictions_counts_loss: 0.1628 - val_predictions_nuclei_my_accuracy_score: 0.3600 - val_predictions_nuclei_acc: 0.9130 - val_predictions_counts_mean_squared_error: 0.1628 - val_predictions_counts_mean_absolute_error: 0.2651\n",
      "Epoch 55/250\n",
      " - 14s - loss: 0.4068 - predictions_nuclei_loss: 0.1560 - predictions_counts_loss: 0.2508 - predictions_nuclei_my_accuracy_score: 0.3064 - predictions_nuclei_acc: 0.9269 - predictions_counts_mean_squared_error: 0.2508 - predictions_counts_mean_absolute_error: 0.2720 - val_loss: 0.3202 - val_predictions_nuclei_loss: 0.1604 - val_predictions_counts_loss: 0.1598 - val_predictions_nuclei_my_accuracy_score: 0.3900 - val_predictions_nuclei_acc: 0.9240 - val_predictions_counts_mean_squared_error: 0.1598 - val_predictions_counts_mean_absolute_error: 0.2574\n",
      "Epoch 56/250\n",
      " - 14s - loss: 0.3775 - predictions_nuclei_loss: 0.1448 - predictions_counts_loss: 0.2327 - predictions_nuclei_my_accuracy_score: 0.3150 - predictions_nuclei_acc: 0.9308 - predictions_counts_mean_squared_error: 0.2327 - predictions_counts_mean_absolute_error: 0.2609 - val_loss: 0.3383 - val_predictions_nuclei_loss: 0.1803 - val_predictions_counts_loss: 0.1580 - val_predictions_nuclei_my_accuracy_score: 0.0700 - val_predictions_nuclei_acc: 0.8950 - val_predictions_counts_mean_squared_error: 0.1580 - val_predictions_counts_mean_absolute_error: 0.2282\n",
      "Epoch 57/250\n",
      " - 14s - loss: 0.3570 - predictions_nuclei_loss: 0.1365 - predictions_counts_loss: 0.2205 - predictions_nuclei_my_accuracy_score: 0.3309 - predictions_nuclei_acc: 0.9379 - predictions_counts_mean_squared_error: 0.2205 - predictions_counts_mean_absolute_error: 0.2529 - val_loss: 0.3028 - val_predictions_nuclei_loss: 0.1520 - val_predictions_counts_loss: 0.1508 - val_predictions_nuclei_my_accuracy_score: 0.2500 - val_predictions_nuclei_acc: 0.9230 - val_predictions_counts_mean_squared_error: 0.1508 - val_predictions_counts_mean_absolute_error: 0.2415\n",
      "Epoch 58/250\n",
      " - 14s - loss: 0.3363 - predictions_nuclei_loss: 0.1276 - predictions_counts_loss: 0.2087 - predictions_nuclei_my_accuracy_score: 0.3562 - predictions_nuclei_acc: 0.9415 - predictions_counts_mean_squared_error: 0.2087 - predictions_counts_mean_absolute_error: 0.2445 - val_loss: 0.3465 - val_predictions_nuclei_loss: 0.1643 - val_predictions_counts_loss: 0.1821 - val_predictions_nuclei_my_accuracy_score: 0.0400 - val_predictions_nuclei_acc: 0.8970 - val_predictions_counts_mean_squared_error: 0.1821 - val_predictions_counts_mean_absolute_error: 0.2633\n",
      "Epoch 59/250\n",
      " - 14s - loss: 0.3271 - predictions_nuclei_loss: 0.1238 - predictions_counts_loss: 0.2034 - predictions_nuclei_my_accuracy_score: 0.3772 - predictions_nuclei_acc: 0.9430 - predictions_counts_mean_squared_error: 0.2034 - predictions_counts_mean_absolute_error: 0.2420 - val_loss: 0.3141 - val_predictions_nuclei_loss: 0.1311 - val_predictions_counts_loss: 0.1830 - val_predictions_nuclei_my_accuracy_score: 0.5200 - val_predictions_nuclei_acc: 0.9310 - val_predictions_counts_mean_squared_error: 0.1830 - val_predictions_counts_mean_absolute_error: 0.2864\n",
      "Epoch 60/250\n",
      " - 14s - loss: 0.3172 - predictions_nuclei_loss: 0.1193 - predictions_counts_loss: 0.1978 - predictions_nuclei_my_accuracy_score: 0.4025 - predictions_nuclei_acc: 0.9437 - predictions_counts_mean_squared_error: 0.1978 - predictions_counts_mean_absolute_error: 0.2323 - val_loss: 0.2315 - val_predictions_nuclei_loss: 0.1235 - val_predictions_counts_loss: 0.1080 - val_predictions_nuclei_my_accuracy_score: 0.3600 - val_predictions_nuclei_acc: 0.9540 - val_predictions_counts_mean_squared_error: 0.1080 - val_predictions_counts_mean_absolute_error: 0.2044\n"
     ]
    },
    {
     "name": "stdout",
     "output_type": "stream",
     "text": [
      "Epoch 61/250\n",
      " - 14s - loss: 0.3053 - predictions_nuclei_loss: 0.1164 - predictions_counts_loss: 0.1888 - predictions_nuclei_my_accuracy_score: 0.4256 - predictions_nuclei_acc: 0.9442 - predictions_counts_mean_squared_error: 0.1888 - predictions_counts_mean_absolute_error: 0.2232 - val_loss: 0.2518 - val_predictions_nuclei_loss: 0.1249 - val_predictions_counts_loss: 0.1269 - val_predictions_nuclei_my_accuracy_score: 0.4700 - val_predictions_nuclei_acc: 0.9370 - val_predictions_counts_mean_squared_error: 0.1269 - val_predictions_counts_mean_absolute_error: 0.2166\n",
      "Epoch 62/250\n",
      " - 14s - loss: 0.3081 - predictions_nuclei_loss: 0.1154 - predictions_counts_loss: 0.1927 - predictions_nuclei_my_accuracy_score: 0.4400 - predictions_nuclei_acc: 0.9441 - predictions_counts_mean_squared_error: 0.1927 - predictions_counts_mean_absolute_error: 0.2285 - val_loss: 0.2482 - val_predictions_nuclei_loss: 0.1167 - val_predictions_counts_loss: 0.1315 - val_predictions_nuclei_my_accuracy_score: 0.5000 - val_predictions_nuclei_acc: 0.9580 - val_predictions_counts_mean_squared_error: 0.1315 - val_predictions_counts_mean_absolute_error: 0.2265\n",
      "Epoch 63/250\n",
      " - 14s - loss: 0.3012 - predictions_nuclei_loss: 0.1146 - predictions_counts_loss: 0.1866 - predictions_nuclei_my_accuracy_score: 0.4451 - predictions_nuclei_acc: 0.9460 - predictions_counts_mean_squared_error: 0.1866 - predictions_counts_mean_absolute_error: 0.2194 - val_loss: 0.2559 - val_predictions_nuclei_loss: 0.1251 - val_predictions_counts_loss: 0.1308 - val_predictions_nuclei_my_accuracy_score: 0.2500 - val_predictions_nuclei_acc: 0.9480 - val_predictions_counts_mean_squared_error: 0.1308 - val_predictions_counts_mean_absolute_error: 0.2164\n",
      "Epoch 64/250\n",
      " - 14s - loss: 0.2950 - predictions_nuclei_loss: 0.1132 - predictions_counts_loss: 0.1818 - predictions_nuclei_my_accuracy_score: 0.4588 - predictions_nuclei_acc: 0.9444 - predictions_counts_mean_squared_error: 0.1818 - predictions_counts_mean_absolute_error: 0.2168 - val_loss: 0.2708 - val_predictions_nuclei_loss: 0.1402 - val_predictions_counts_loss: 0.1306 - val_predictions_nuclei_my_accuracy_score: 0.3900 - val_predictions_nuclei_acc: 0.9310 - val_predictions_counts_mean_squared_error: 0.1306 - val_predictions_counts_mean_absolute_error: 0.2107\n",
      "Epoch 65/250\n",
      " - 14s - loss: 0.2869 - predictions_nuclei_loss: 0.1090 - predictions_counts_loss: 0.1779 - predictions_nuclei_my_accuracy_score: 0.4610 - predictions_nuclei_acc: 0.9467 - predictions_counts_mean_squared_error: 0.1779 - predictions_counts_mean_absolute_error: 0.2148 - val_loss: 0.2110 - val_predictions_nuclei_loss: 0.1144 - val_predictions_counts_loss: 0.0965 - val_predictions_nuclei_my_accuracy_score: 0.3000 - val_predictions_nuclei_acc: 0.9500 - val_predictions_counts_mean_squared_error: 0.0965 - val_predictions_counts_mean_absolute_error: 0.1820\n",
      "Epoch 66/250\n",
      " - 14s - loss: 0.2781 - predictions_nuclei_loss: 0.1047 - predictions_counts_loss: 0.1734 - predictions_nuclei_my_accuracy_score: 0.4653 - predictions_nuclei_acc: 0.9494 - predictions_counts_mean_squared_error: 0.1734 - predictions_counts_mean_absolute_error: 0.2179 - val_loss: 0.2600 - val_predictions_nuclei_loss: 0.1302 - val_predictions_counts_loss: 0.1298 - val_predictions_nuclei_my_accuracy_score: 0.3200 - val_predictions_nuclei_acc: 0.9270 - val_predictions_counts_mean_squared_error: 0.1298 - val_predictions_counts_mean_absolute_error: 0.2010\n",
      "Epoch 67/250\n",
      " - 14s - loss: 0.2615 - predictions_nuclei_loss: 0.0993 - predictions_counts_loss: 0.1622 - predictions_nuclei_my_accuracy_score: 0.4754 - predictions_nuclei_acc: 0.9543 - predictions_counts_mean_squared_error: 0.1622 - predictions_counts_mean_absolute_error: 0.2069 - val_loss: 0.2712 - val_predictions_nuclei_loss: 0.1167 - val_predictions_counts_loss: 0.1546 - val_predictions_nuclei_my_accuracy_score: 0.4700 - val_predictions_nuclei_acc: 0.9320 - val_predictions_counts_mean_squared_error: 0.1546 - val_predictions_counts_mean_absolute_error: 0.2460\n",
      "Epoch 68/250\n",
      " - 14s - loss: 0.2583 - predictions_nuclei_loss: 0.0976 - predictions_counts_loss: 0.1607 - predictions_nuclei_my_accuracy_score: 0.4733 - predictions_nuclei_acc: 0.9551 - predictions_counts_mean_squared_error: 0.1607 - predictions_counts_mean_absolute_error: 0.2098 - val_loss: 0.2008 - val_predictions_nuclei_loss: 0.1030 - val_predictions_counts_loss: 0.0978 - val_predictions_nuclei_my_accuracy_score: 0.5000 - val_predictions_nuclei_acc: 0.9560 - val_predictions_counts_mean_squared_error: 0.0978 - val_predictions_counts_mean_absolute_error: 0.1854\n",
      "Epoch 69/250\n",
      " - 14s - loss: 0.2459 - predictions_nuclei_loss: 0.0926 - predictions_counts_loss: 0.1533 - predictions_nuclei_my_accuracy_score: 0.4834 - predictions_nuclei_acc: 0.9572 - predictions_counts_mean_squared_error: 0.1533 - predictions_counts_mean_absolute_error: 0.2029 - val_loss: 0.2130 - val_predictions_nuclei_loss: 0.0929 - val_predictions_counts_loss: 0.1201 - val_predictions_nuclei_my_accuracy_score: 0.5800 - val_predictions_nuclei_acc: 0.9580 - val_predictions_counts_mean_squared_error: 0.1201 - val_predictions_counts_mean_absolute_error: 0.2135\n",
      "Epoch 70/250\n",
      " - 14s - loss: 0.2340 - predictions_nuclei_loss: 0.0899 - predictions_counts_loss: 0.1441 - predictions_nuclei_my_accuracy_score: 0.4964 - predictions_nuclei_acc: 0.9590 - predictions_counts_mean_squared_error: 0.1441 - predictions_counts_mean_absolute_error: 0.1890 - val_loss: 0.2559 - val_predictions_nuclei_loss: 0.1055 - val_predictions_counts_loss: 0.1504 - val_predictions_nuclei_my_accuracy_score: 0.6100 - val_predictions_nuclei_acc: 0.9360 - val_predictions_counts_mean_squared_error: 0.1504 - val_predictions_counts_mean_absolute_error: 0.2285\n",
      "Epoch 71/250\n",
      " - 14s - loss: 0.2244 - predictions_nuclei_loss: 0.0860 - predictions_counts_loss: 0.1384 - predictions_nuclei_my_accuracy_score: 0.5159 - predictions_nuclei_acc: 0.9609 - predictions_counts_mean_squared_error: 0.1384 - predictions_counts_mean_absolute_error: 0.1826 - val_loss: 0.2357 - val_predictions_nuclei_loss: 0.1018 - val_predictions_counts_loss: 0.1339 - val_predictions_nuclei_my_accuracy_score: 0.5700 - val_predictions_nuclei_acc: 0.9450 - val_predictions_counts_mean_squared_error: 0.1339 - val_predictions_counts_mean_absolute_error: 0.2209\n",
      "Epoch 72/250\n",
      " - 14s - loss: 0.2329 - predictions_nuclei_loss: 0.0861 - predictions_counts_loss: 0.1468 - predictions_nuclei_my_accuracy_score: 0.5145 - predictions_nuclei_acc: 0.9619 - predictions_counts_mean_squared_error: 0.1468 - predictions_counts_mean_absolute_error: 0.1978 - val_loss: 0.2300 - val_predictions_nuclei_loss: 0.1014 - val_predictions_counts_loss: 0.1286 - val_predictions_nuclei_my_accuracy_score: 0.5900 - val_predictions_nuclei_acc: 0.9490 - val_predictions_counts_mean_squared_error: 0.1286 - val_predictions_counts_mean_absolute_error: 0.2129\n",
      "Epoch 73/250\n",
      " - 14s - loss: 0.2206 - predictions_nuclei_loss: 0.0857 - predictions_counts_loss: 0.1349 - predictions_nuclei_my_accuracy_score: 0.5296 - predictions_nuclei_acc: 0.9603 - predictions_counts_mean_squared_error: 0.1349 - predictions_counts_mean_absolute_error: 0.1805 - val_loss: 0.1870 - val_predictions_nuclei_loss: 0.0953 - val_predictions_counts_loss: 0.0916 - val_predictions_nuclei_my_accuracy_score: 0.3000 - val_predictions_nuclei_acc: 0.9590 - val_predictions_counts_mean_squared_error: 0.0916 - val_predictions_counts_mean_absolute_error: 0.1675\n",
      "Epoch 74/250\n",
      " - 14s - loss: 0.2139 - predictions_nuclei_loss: 0.0817 - predictions_counts_loss: 0.1323 - predictions_nuclei_my_accuracy_score: 0.5311 - predictions_nuclei_acc: 0.9636 - predictions_counts_mean_squared_error: 0.1323 - predictions_counts_mean_absolute_error: 0.1789 - val_loss: 0.2147 - val_predictions_nuclei_loss: 0.0962 - val_predictions_counts_loss: 0.1185 - val_predictions_nuclei_my_accuracy_score: 0.6000 - val_predictions_nuclei_acc: 0.9490 - val_predictions_counts_mean_squared_error: 0.1185 - val_predictions_counts_mean_absolute_error: 0.2009\n",
      "Epoch 75/250\n",
      " - 14s - loss: 0.2068 - predictions_nuclei_loss: 0.0795 - predictions_counts_loss: 0.1272 - predictions_nuclei_my_accuracy_score: 0.5397 - predictions_nuclei_acc: 0.9638 - predictions_counts_mean_squared_error: 0.1272 - predictions_counts_mean_absolute_error: 0.1760 - val_loss: 0.1676 - val_predictions_nuclei_loss: 0.0977 - val_predictions_counts_loss: 0.0699 - val_predictions_nuclei_my_accuracy_score: 0.4000 - val_predictions_nuclei_acc: 0.9660 - val_predictions_counts_mean_squared_error: 0.0699 - val_predictions_counts_mean_absolute_error: 0.1437\n"
     ]
    },
    {
     "name": "stdout",
     "output_type": "stream",
     "text": [
      "Epoch 76/250\n",
      " - 14s - loss: 0.1954 - predictions_nuclei_loss: 0.0754 - predictions_counts_loss: 0.1200 - predictions_nuclei_my_accuracy_score: 0.5658 - predictions_nuclei_acc: 0.9644 - predictions_counts_mean_squared_error: 0.1200 - predictions_counts_mean_absolute_error: 0.1664 - val_loss: 0.1799 - val_predictions_nuclei_loss: 0.0892 - val_predictions_counts_loss: 0.0907 - val_predictions_nuclei_my_accuracy_score: 0.6000 - val_predictions_nuclei_acc: 0.9510 - val_predictions_counts_mean_squared_error: 0.0907 - val_predictions_counts_mean_absolute_error: 0.1634\n",
      "Epoch 77/250\n",
      " - 14s - loss: 0.1957 - predictions_nuclei_loss: 0.0748 - predictions_counts_loss: 0.1209 - predictions_nuclei_my_accuracy_score: 0.5679 - predictions_nuclei_acc: 0.9653 - predictions_counts_mean_squared_error: 0.1209 - predictions_counts_mean_absolute_error: 0.1703 - val_loss: 0.1790 - val_predictions_nuclei_loss: 0.0872 - val_predictions_counts_loss: 0.0919 - val_predictions_nuclei_my_accuracy_score: 0.5400 - val_predictions_nuclei_acc: 0.9510 - val_predictions_counts_mean_squared_error: 0.0919 - val_predictions_counts_mean_absolute_error: 0.1728\n",
      "Epoch 78/250\n",
      " - 14s - loss: 0.1939 - predictions_nuclei_loss: 0.0747 - predictions_counts_loss: 0.1192 - predictions_nuclei_my_accuracy_score: 0.5824 - predictions_nuclei_acc: 0.9638 - predictions_counts_mean_squared_error: 0.1192 - predictions_counts_mean_absolute_error: 0.1646 - val_loss: 0.1625 - val_predictions_nuclei_loss: 0.0792 - val_predictions_counts_loss: 0.0834 - val_predictions_nuclei_my_accuracy_score: 0.6200 - val_predictions_nuclei_acc: 0.9540 - val_predictions_counts_mean_squared_error: 0.0834 - val_predictions_counts_mean_absolute_error: 0.1678\n",
      "Epoch 79/250\n",
      " - 14s - loss: 0.1915 - predictions_nuclei_loss: 0.0733 - predictions_counts_loss: 0.1182 - predictions_nuclei_my_accuracy_score: 0.5795 - predictions_nuclei_acc: 0.9652 - predictions_counts_mean_squared_error: 0.1182 - predictions_counts_mean_absolute_error: 0.1648 - val_loss: 0.2245 - val_predictions_nuclei_loss: 0.0926 - val_predictions_counts_loss: 0.1318 - val_predictions_nuclei_my_accuracy_score: 0.6700 - val_predictions_nuclei_acc: 0.9450 - val_predictions_counts_mean_squared_error: 0.1318 - val_predictions_counts_mean_absolute_error: 0.1999\n",
      "Epoch 80/250\n",
      " - 14s - loss: 0.1879 - predictions_nuclei_loss: 0.0736 - predictions_counts_loss: 0.1143 - predictions_nuclei_my_accuracy_score: 0.5845 - predictions_nuclei_acc: 0.9660 - predictions_counts_mean_squared_error: 0.1143 - predictions_counts_mean_absolute_error: 0.1563 - val_loss: 0.1721 - val_predictions_nuclei_loss: 0.0819 - val_predictions_counts_loss: 0.0902 - val_predictions_nuclei_my_accuracy_score: 0.6600 - val_predictions_nuclei_acc: 0.9530 - val_predictions_counts_mean_squared_error: 0.0902 - val_predictions_counts_mean_absolute_error: 0.1731\n",
      "Epoch 81/250\n",
      " - 14s - loss: 0.1918 - predictions_nuclei_loss: 0.0720 - predictions_counts_loss: 0.1198 - predictions_nuclei_my_accuracy_score: 0.5896 - predictions_nuclei_acc: 0.9676 - predictions_counts_mean_squared_error: 0.1198 - predictions_counts_mean_absolute_error: 0.1663 - val_loss: 0.1885 - val_predictions_nuclei_loss: 0.0817 - val_predictions_counts_loss: 0.1068 - val_predictions_nuclei_my_accuracy_score: 0.6500 - val_predictions_nuclei_acc: 0.9510 - val_predictions_counts_mean_squared_error: 0.1068 - val_predictions_counts_mean_absolute_error: 0.1887\n",
      "Epoch 82/250\n",
      " - 14s - loss: 0.1843 - predictions_nuclei_loss: 0.0716 - predictions_counts_loss: 0.1128 - predictions_nuclei_my_accuracy_score: 0.5874 - predictions_nuclei_acc: 0.9654 - predictions_counts_mean_squared_error: 0.1128 - predictions_counts_mean_absolute_error: 0.1557 - val_loss: 0.1892 - val_predictions_nuclei_loss: 0.0895 - val_predictions_counts_loss: 0.0997 - val_predictions_nuclei_my_accuracy_score: 0.4500 - val_predictions_nuclei_acc: 0.9460 - val_predictions_counts_mean_squared_error: 0.0997 - val_predictions_counts_mean_absolute_error: 0.1636\n",
      "Epoch 83/250\n",
      " - 14s - loss: 0.1878 - predictions_nuclei_loss: 0.0724 - predictions_counts_loss: 0.1154 - predictions_nuclei_my_accuracy_score: 0.5896 - predictions_nuclei_acc: 0.9662 - predictions_counts_mean_squared_error: 0.1154 - predictions_counts_mean_absolute_error: 0.1587 - val_loss: 0.1817 - val_predictions_nuclei_loss: 0.0796 - val_predictions_counts_loss: 0.1021 - val_predictions_nuclei_my_accuracy_score: 0.6200 - val_predictions_nuclei_acc: 0.9580 - val_predictions_counts_mean_squared_error: 0.1021 - val_predictions_counts_mean_absolute_error: 0.1893\n",
      "Epoch 84/250\n",
      " - 14s - loss: 0.1847 - predictions_nuclei_loss: 0.0709 - predictions_counts_loss: 0.1138 - predictions_nuclei_my_accuracy_score: 0.6062 - predictions_nuclei_acc: 0.9662 - predictions_counts_mean_squared_error: 0.1138 - predictions_counts_mean_absolute_error: 0.1561 - val_loss: 0.1707 - val_predictions_nuclei_loss: 0.0831 - val_predictions_counts_loss: 0.0876 - val_predictions_nuclei_my_accuracy_score: 0.6700 - val_predictions_nuclei_acc: 0.9500 - val_predictions_counts_mean_squared_error: 0.0876 - val_predictions_counts_mean_absolute_error: 0.1639\n",
      "Epoch 85/250\n",
      " - 14s - loss: 0.1874 - predictions_nuclei_loss: 0.0732 - predictions_counts_loss: 0.1142 - predictions_nuclei_my_accuracy_score: 0.6033 - predictions_nuclei_acc: 0.9647 - predictions_counts_mean_squared_error: 0.1142 - predictions_counts_mean_absolute_error: 0.1529 - val_loss: 0.1976 - val_predictions_nuclei_loss: 0.0892 - val_predictions_counts_loss: 0.1083 - val_predictions_nuclei_my_accuracy_score: 0.6700 - val_predictions_nuclei_acc: 0.9470 - val_predictions_counts_mean_squared_error: 0.1083 - val_predictions_counts_mean_absolute_error: 0.1852\n",
      "Epoch 86/250\n",
      " - 14s - loss: 0.1864 - predictions_nuclei_loss: 0.0723 - predictions_counts_loss: 0.1141 - predictions_nuclei_my_accuracy_score: 0.6048 - predictions_nuclei_acc: 0.9664 - predictions_counts_mean_squared_error: 0.1141 - predictions_counts_mean_absolute_error: 0.1532 - val_loss: 0.1933 - val_predictions_nuclei_loss: 0.1072 - val_predictions_counts_loss: 0.0861 - val_predictions_nuclei_my_accuracy_score: 0.3800 - val_predictions_nuclei_acc: 0.9390 - val_predictions_counts_mean_squared_error: 0.0861 - val_predictions_counts_mean_absolute_error: 0.1453\n",
      "Epoch 87/250\n",
      " - 14s - loss: 0.1836 - predictions_nuclei_loss: 0.0707 - predictions_counts_loss: 0.1129 - predictions_nuclei_my_accuracy_score: 0.5976 - predictions_nuclei_acc: 0.9665 - predictions_counts_mean_squared_error: 0.1129 - predictions_counts_mean_absolute_error: 0.1581 - val_loss: 0.2100 - val_predictions_nuclei_loss: 0.1094 - val_predictions_counts_loss: 0.1006 - val_predictions_nuclei_my_accuracy_score: 0.2600 - val_predictions_nuclei_acc: 0.9450 - val_predictions_counts_mean_squared_error: 0.1006 - val_predictions_counts_mean_absolute_error: 0.1438\n",
      "Epoch 88/250\n",
      " - 14s - loss: 0.1838 - predictions_nuclei_loss: 0.0718 - predictions_counts_loss: 0.1121 - predictions_nuclei_my_accuracy_score: 0.6120 - predictions_nuclei_acc: 0.9665 - predictions_counts_mean_squared_error: 0.1121 - predictions_counts_mean_absolute_error: 0.1499 - val_loss: 0.2121 - val_predictions_nuclei_loss: 0.1125 - val_predictions_counts_loss: 0.0996 - val_predictions_nuclei_my_accuracy_score: 0.5600 - val_predictions_nuclei_acc: 0.9430 - val_predictions_counts_mean_squared_error: 0.0996 - val_predictions_counts_mean_absolute_error: 0.1502\n",
      "Epoch 89/250\n",
      " - 14s - loss: 0.1851 - predictions_nuclei_loss: 0.0713 - predictions_counts_loss: 0.1138 - predictions_nuclei_my_accuracy_score: 0.6084 - predictions_nuclei_acc: 0.9664 - predictions_counts_mean_squared_error: 0.1138 - predictions_counts_mean_absolute_error: 0.1561 - val_loss: 0.1928 - val_predictions_nuclei_loss: 0.0966 - val_predictions_counts_loss: 0.0962 - val_predictions_nuclei_my_accuracy_score: 0.5700 - val_predictions_nuclei_acc: 0.9480 - val_predictions_counts_mean_squared_error: 0.0962 - val_predictions_counts_mean_absolute_error: 0.1540\n",
      "Epoch 90/250\n",
      " - 14s - loss: 0.1789 - predictions_nuclei_loss: 0.0686 - predictions_counts_loss: 0.1103 - predictions_nuclei_my_accuracy_score: 0.6106 - predictions_nuclei_acc: 0.9671 - predictions_counts_mean_squared_error: 0.1103 - predictions_counts_mean_absolute_error: 0.1528 - val_loss: 0.2011 - val_predictions_nuclei_loss: 0.0995 - val_predictions_counts_loss: 0.1016 - val_predictions_nuclei_my_accuracy_score: 0.6100 - val_predictions_nuclei_acc: 0.9440 - val_predictions_counts_mean_squared_error: 0.1016 - val_predictions_counts_mean_absolute_error: 0.1601\n"
     ]
    },
    {
     "name": "stdout",
     "output_type": "stream",
     "text": [
      "Epoch 91/250\n",
      " - 14s - loss: 0.1835 - predictions_nuclei_loss: 0.0711 - predictions_counts_loss: 0.1124 - predictions_nuclei_my_accuracy_score: 0.6084 - predictions_nuclei_acc: 0.9659 - predictions_counts_mean_squared_error: 0.1124 - predictions_counts_mean_absolute_error: 0.1540 - val_loss: 0.1733 - val_predictions_nuclei_loss: 0.0913 - val_predictions_counts_loss: 0.0820 - val_predictions_nuclei_my_accuracy_score: 0.5000 - val_predictions_nuclei_acc: 0.9480 - val_predictions_counts_mean_squared_error: 0.0820 - val_predictions_counts_mean_absolute_error: 0.1409\n",
      "Epoch 92/250\n",
      " - 14s - loss: 0.1804 - predictions_nuclei_loss: 0.0690 - predictions_counts_loss: 0.1114 - predictions_nuclei_my_accuracy_score: 0.6200 - predictions_nuclei_acc: 0.9674 - predictions_counts_mean_squared_error: 0.1114 - predictions_counts_mean_absolute_error: 0.1549 - val_loss: 0.1616 - val_predictions_nuclei_loss: 0.0855 - val_predictions_counts_loss: 0.0761 - val_predictions_nuclei_my_accuracy_score: 0.4700 - val_predictions_nuclei_acc: 0.9550 - val_predictions_counts_mean_squared_error: 0.0761 - val_predictions_counts_mean_absolute_error: 0.1313\n",
      "Epoch 93/250\n",
      " - 14s - loss: 0.1864 - predictions_nuclei_loss: 0.0719 - predictions_counts_loss: 0.1144 - predictions_nuclei_my_accuracy_score: 0.6106 - predictions_nuclei_acc: 0.9660 - predictions_counts_mean_squared_error: 0.1144 - predictions_counts_mean_absolute_error: 0.1543 - val_loss: 0.1948 - val_predictions_nuclei_loss: 0.0936 - val_predictions_counts_loss: 0.1012 - val_predictions_nuclei_my_accuracy_score: 0.5300 - val_predictions_nuclei_acc: 0.9470 - val_predictions_counts_mean_squared_error: 0.1012 - val_predictions_counts_mean_absolute_error: 0.1620\n",
      "Epoch 94/250\n",
      " - 14s - loss: 0.1812 - predictions_nuclei_loss: 0.0694 - predictions_counts_loss: 0.1118 - predictions_nuclei_my_accuracy_score: 0.6221 - predictions_nuclei_acc: 0.9675 - predictions_counts_mean_squared_error: 0.1118 - predictions_counts_mean_absolute_error: 0.1528 - val_loss: 0.1565 - val_predictions_nuclei_loss: 0.0862 - val_predictions_counts_loss: 0.0703 - val_predictions_nuclei_my_accuracy_score: 0.4000 - val_predictions_nuclei_acc: 0.9530 - val_predictions_counts_mean_squared_error: 0.0703 - val_predictions_counts_mean_absolute_error: 0.1307\n",
      "Epoch 95/250\n",
      " - 14s - loss: 0.1784 - predictions_nuclei_loss: 0.0688 - predictions_counts_loss: 0.1096 - predictions_nuclei_my_accuracy_score: 0.6200 - predictions_nuclei_acc: 0.9670 - predictions_counts_mean_squared_error: 0.1096 - predictions_counts_mean_absolute_error: 0.1489 - val_loss: 0.1653 - val_predictions_nuclei_loss: 0.0825 - val_predictions_counts_loss: 0.0827 - val_predictions_nuclei_my_accuracy_score: 0.6500 - val_predictions_nuclei_acc: 0.9520 - val_predictions_counts_mean_squared_error: 0.0827 - val_predictions_counts_mean_absolute_error: 0.1494\n",
      "Epoch 96/250\n",
      " - 14s - loss: 0.1805 - predictions_nuclei_loss: 0.0698 - predictions_counts_loss: 0.1107 - predictions_nuclei_my_accuracy_score: 0.6106 - predictions_nuclei_acc: 0.9665 - predictions_counts_mean_squared_error: 0.1107 - predictions_counts_mean_absolute_error: 0.1519 - val_loss: 0.1778 - val_predictions_nuclei_loss: 0.0900 - val_predictions_counts_loss: 0.0878 - val_predictions_nuclei_my_accuracy_score: 0.5300 - val_predictions_nuclei_acc: 0.9510 - val_predictions_counts_mean_squared_error: 0.0878 - val_predictions_counts_mean_absolute_error: 0.1451\n",
      "Epoch 97/250\n",
      " - 14s - loss: 0.1837 - predictions_nuclei_loss: 0.0701 - predictions_counts_loss: 0.1135 - predictions_nuclei_my_accuracy_score: 0.6207 - predictions_nuclei_acc: 0.9654 - predictions_counts_mean_squared_error: 0.1135 - predictions_counts_mean_absolute_error: 0.1533 - val_loss: 0.1524 - val_predictions_nuclei_loss: 0.0829 - val_predictions_counts_loss: 0.0695 - val_predictions_nuclei_my_accuracy_score: 0.5700 - val_predictions_nuclei_acc: 0.9560 - val_predictions_counts_mean_squared_error: 0.0695 - val_predictions_counts_mean_absolute_error: 0.1364\n",
      "Epoch 98/250\n",
      " - 14s - loss: 0.1791 - predictions_nuclei_loss: 0.0680 - predictions_counts_loss: 0.1111 - predictions_nuclei_my_accuracy_score: 0.6272 - predictions_nuclei_acc: 0.9671 - predictions_counts_mean_squared_error: 0.1111 - predictions_counts_mean_absolute_error: 0.1509 - val_loss: 0.1536 - val_predictions_nuclei_loss: 0.0776 - val_predictions_counts_loss: 0.0760 - val_predictions_nuclei_my_accuracy_score: 0.6600 - val_predictions_nuclei_acc: 0.9670 - val_predictions_counts_mean_squared_error: 0.0760 - val_predictions_counts_mean_absolute_error: 0.1522\n",
      "Epoch 99/250\n",
      " - 14s - loss: 0.1763 - predictions_nuclei_loss: 0.0678 - predictions_counts_loss: 0.1085 - predictions_nuclei_my_accuracy_score: 0.6265 - predictions_nuclei_acc: 0.9673 - predictions_counts_mean_squared_error: 0.1085 - predictions_counts_mean_absolute_error: 0.1460 - val_loss: 0.1471 - val_predictions_nuclei_loss: 0.0758 - val_predictions_counts_loss: 0.0713 - val_predictions_nuclei_my_accuracy_score: 0.6600 - val_predictions_nuclei_acc: 0.9660 - val_predictions_counts_mean_squared_error: 0.0713 - val_predictions_counts_mean_absolute_error: 0.1417\n",
      "Epoch 100/250\n",
      " - 14s - loss: 0.1806 - predictions_nuclei_loss: 0.0705 - predictions_counts_loss: 0.1101 - predictions_nuclei_my_accuracy_score: 0.6207 - predictions_nuclei_acc: 0.9669 - predictions_counts_mean_squared_error: 0.1101 - predictions_counts_mean_absolute_error: 0.1476 - val_loss: 0.2011 - val_predictions_nuclei_loss: 0.0946 - val_predictions_counts_loss: 0.1066 - val_predictions_nuclei_my_accuracy_score: 0.5600 - val_predictions_nuclei_acc: 0.9480 - val_predictions_counts_mean_squared_error: 0.1066 - val_predictions_counts_mean_absolute_error: 0.1651\n",
      "Epoch 101/250\n",
      " - 14s - loss: 0.1824 - predictions_nuclei_loss: 0.0690 - predictions_counts_loss: 0.1134 - predictions_nuclei_my_accuracy_score: 0.6257 - predictions_nuclei_acc: 0.9678 - predictions_counts_mean_squared_error: 0.1134 - predictions_counts_mean_absolute_error: 0.1566 - val_loss: 0.1833 - val_predictions_nuclei_loss: 0.0803 - val_predictions_counts_loss: 0.1030 - val_predictions_nuclei_my_accuracy_score: 0.7000 - val_predictions_nuclei_acc: 0.9490 - val_predictions_counts_mean_squared_error: 0.1030 - val_predictions_counts_mean_absolute_error: 0.1747\n",
      "Epoch 102/250\n",
      " - 14s - loss: 0.1767 - predictions_nuclei_loss: 0.0685 - predictions_counts_loss: 0.1082 - predictions_nuclei_my_accuracy_score: 0.6250 - predictions_nuclei_acc: 0.9681 - predictions_counts_mean_squared_error: 0.1082 - predictions_counts_mean_absolute_error: 0.1466 - val_loss: 0.2434 - val_predictions_nuclei_loss: 0.1122 - val_predictions_counts_loss: 0.1312 - val_predictions_nuclei_my_accuracy_score: 0.6300 - val_predictions_nuclei_acc: 0.9450 - val_predictions_counts_mean_squared_error: 0.1312 - val_predictions_counts_mean_absolute_error: 0.1879\n",
      "Epoch 103/250\n",
      " - 14s - loss: 0.1729 - predictions_nuclei_loss: 0.0668 - predictions_counts_loss: 0.1061 - predictions_nuclei_my_accuracy_score: 0.6279 - predictions_nuclei_acc: 0.9684 - predictions_counts_mean_squared_error: 0.1061 - predictions_counts_mean_absolute_error: 0.1422 - val_loss: 0.1929 - val_predictions_nuclei_loss: 0.0920 - val_predictions_counts_loss: 0.1009 - val_predictions_nuclei_my_accuracy_score: 0.6600 - val_predictions_nuclei_acc: 0.9470 - val_predictions_counts_mean_squared_error: 0.1009 - val_predictions_counts_mean_absolute_error: 0.1593\n",
      "Epoch 104/250\n",
      " - 14s - loss: 0.1766 - predictions_nuclei_loss: 0.0679 - predictions_counts_loss: 0.1087 - predictions_nuclei_my_accuracy_score: 0.6221 - predictions_nuclei_acc: 0.9680 - predictions_counts_mean_squared_error: 0.1087 - predictions_counts_mean_absolute_error: 0.1458 - val_loss: 0.1853 - val_predictions_nuclei_loss: 0.0943 - val_predictions_counts_loss: 0.0910 - val_predictions_nuclei_my_accuracy_score: 0.6200 - val_predictions_nuclei_acc: 0.9480 - val_predictions_counts_mean_squared_error: 0.0910 - val_predictions_counts_mean_absolute_error: 0.1507\n",
      "Epoch 105/250\n",
      " - 14s - loss: 0.1760 - predictions_nuclei_loss: 0.0675 - predictions_counts_loss: 0.1085 - predictions_nuclei_my_accuracy_score: 0.6265 - predictions_nuclei_acc: 0.9674 - predictions_counts_mean_squared_error: 0.1085 - predictions_counts_mean_absolute_error: 0.1477 - val_loss: 0.1946 - val_predictions_nuclei_loss: 0.0884 - val_predictions_counts_loss: 0.1062 - val_predictions_nuclei_my_accuracy_score: 0.6400 - val_predictions_nuclei_acc: 0.9510 - val_predictions_counts_mean_squared_error: 0.1062 - val_predictions_counts_mean_absolute_error: 0.1727\n"
     ]
    },
    {
     "name": "stdout",
     "output_type": "stream",
     "text": [
      "Epoch 106/250\n",
      " - 14s - loss: 0.1787 - predictions_nuclei_loss: 0.0685 - predictions_counts_loss: 0.1102 - predictions_nuclei_my_accuracy_score: 0.6308 - predictions_nuclei_acc: 0.9674 - predictions_counts_mean_squared_error: 0.1102 - predictions_counts_mean_absolute_error: 0.1476 - val_loss: 0.1610 - val_predictions_nuclei_loss: 0.0848 - val_predictions_counts_loss: 0.0762 - val_predictions_nuclei_my_accuracy_score: 0.6500 - val_predictions_nuclei_acc: 0.9530 - val_predictions_counts_mean_squared_error: 0.0762 - val_predictions_counts_mean_absolute_error: 0.1363\n",
      "Epoch 107/250\n",
      " - 14s - loss: 0.1710 - predictions_nuclei_loss: 0.0666 - predictions_counts_loss: 0.1045 - predictions_nuclei_my_accuracy_score: 0.6337 - predictions_nuclei_acc: 0.9669 - predictions_counts_mean_squared_error: 0.1045 - predictions_counts_mean_absolute_error: 0.1393 - val_loss: 0.1615 - val_predictions_nuclei_loss: 0.0746 - val_predictions_counts_loss: 0.0869 - val_predictions_nuclei_my_accuracy_score: 0.7000 - val_predictions_nuclei_acc: 0.9720 - val_predictions_counts_mean_squared_error: 0.0869 - val_predictions_counts_mean_absolute_error: 0.1620\n",
      "Epoch 108/250\n",
      " - 14s - loss: 0.1711 - predictions_nuclei_loss: 0.0664 - predictions_counts_loss: 0.1047 - predictions_nuclei_my_accuracy_score: 0.6272 - predictions_nuclei_acc: 0.9686 - predictions_counts_mean_squared_error: 0.1047 - predictions_counts_mean_absolute_error: 0.1406 - val_loss: 0.2089 - val_predictions_nuclei_loss: 0.1001 - val_predictions_counts_loss: 0.1088 - val_predictions_nuclei_my_accuracy_score: 0.6200 - val_predictions_nuclei_acc: 0.9450 - val_predictions_counts_mean_squared_error: 0.1088 - val_predictions_counts_mean_absolute_error: 0.1636\n",
      "Epoch 109/250\n",
      " - 14s - loss: 0.1705 - predictions_nuclei_loss: 0.0657 - predictions_counts_loss: 0.1048 - predictions_nuclei_my_accuracy_score: 0.6337 - predictions_nuclei_acc: 0.9676 - predictions_counts_mean_squared_error: 0.1048 - predictions_counts_mean_absolute_error: 0.1405 - val_loss: 0.1718 - val_predictions_nuclei_loss: 0.0802 - val_predictions_counts_loss: 0.0916 - val_predictions_nuclei_my_accuracy_score: 0.6900 - val_predictions_nuclei_acc: 0.9520 - val_predictions_counts_mean_squared_error: 0.0916 - val_predictions_counts_mean_absolute_error: 0.1625\n",
      "Epoch 110/250\n",
      " - 14s - loss: 0.1723 - predictions_nuclei_loss: 0.0651 - predictions_counts_loss: 0.1071 - predictions_nuclei_my_accuracy_score: 0.6358 - predictions_nuclei_acc: 0.9687 - predictions_counts_mean_squared_error: 0.1071 - predictions_counts_mean_absolute_error: 0.1475 - val_loss: 0.1964 - val_predictions_nuclei_loss: 0.0890 - val_predictions_counts_loss: 0.1074 - val_predictions_nuclei_my_accuracy_score: 0.6700 - val_predictions_nuclei_acc: 0.9450 - val_predictions_counts_mean_squared_error: 0.1074 - val_predictions_counts_mean_absolute_error: 0.1667\n",
      "Epoch 111/250\n",
      " - 14s - loss: 0.1669 - predictions_nuclei_loss: 0.0644 - predictions_counts_loss: 0.1026 - predictions_nuclei_my_accuracy_score: 0.6366 - predictions_nuclei_acc: 0.9686 - predictions_counts_mean_squared_error: 0.1026 - predictions_counts_mean_absolute_error: 0.1400 - val_loss: 0.1620 - val_predictions_nuclei_loss: 0.0733 - val_predictions_counts_loss: 0.0888 - val_predictions_nuclei_my_accuracy_score: 0.7100 - val_predictions_nuclei_acc: 0.9620 - val_predictions_counts_mean_squared_error: 0.0888 - val_predictions_counts_mean_absolute_error: 0.1596\n",
      "Epoch 112/250\n",
      " - 14s - loss: 0.1626 - predictions_nuclei_loss: 0.0627 - predictions_counts_loss: 0.1000 - predictions_nuclei_my_accuracy_score: 0.6373 - predictions_nuclei_acc: 0.9694 - predictions_counts_mean_squared_error: 0.1000 - predictions_counts_mean_absolute_error: 0.1390 - val_loss: 0.2106 - val_predictions_nuclei_loss: 0.0819 - val_predictions_counts_loss: 0.1287 - val_predictions_nuclei_my_accuracy_score: 0.7100 - val_predictions_nuclei_acc: 0.9540 - val_predictions_counts_mean_squared_error: 0.1287 - val_predictions_counts_mean_absolute_error: 0.1978\n",
      "Epoch 113/250\n",
      " - 14s - loss: 0.1634 - predictions_nuclei_loss: 0.0610 - predictions_counts_loss: 0.1024 - predictions_nuclei_my_accuracy_score: 0.6380 - predictions_nuclei_acc: 0.9710 - predictions_counts_mean_squared_error: 0.1024 - predictions_counts_mean_absolute_error: 0.1473 - val_loss: 0.2025 - val_predictions_nuclei_loss: 0.0850 - val_predictions_counts_loss: 0.1175 - val_predictions_nuclei_my_accuracy_score: 0.6900 - val_predictions_nuclei_acc: 0.9470 - val_predictions_counts_mean_squared_error: 0.1175 - val_predictions_counts_mean_absolute_error: 0.1867\n",
      "Epoch 114/250\n",
      " - 14s - loss: 0.1518 - predictions_nuclei_loss: 0.0577 - predictions_counts_loss: 0.0941 - predictions_nuclei_my_accuracy_score: 0.6445 - predictions_nuclei_acc: 0.9726 - predictions_counts_mean_squared_error: 0.0941 - predictions_counts_mean_absolute_error: 0.1387 - val_loss: 0.1614 - val_predictions_nuclei_loss: 0.0803 - val_predictions_counts_loss: 0.0811 - val_predictions_nuclei_my_accuracy_score: 0.6900 - val_predictions_nuclei_acc: 0.9550 - val_predictions_counts_mean_squared_error: 0.0811 - val_predictions_counts_mean_absolute_error: 0.1402\n",
      "Epoch 115/250\n",
      " - 14s - loss: 0.1457 - predictions_nuclei_loss: 0.0555 - predictions_counts_loss: 0.0902 - predictions_nuclei_my_accuracy_score: 0.6517 - predictions_nuclei_acc: 0.9742 - predictions_counts_mean_squared_error: 0.0902 - predictions_counts_mean_absolute_error: 0.1326 - val_loss: 0.1647 - val_predictions_nuclei_loss: 0.0785 - val_predictions_counts_loss: 0.0861 - val_predictions_nuclei_my_accuracy_score: 0.6900 - val_predictions_nuclei_acc: 0.9540 - val_predictions_counts_mean_squared_error: 0.0861 - val_predictions_counts_mean_absolute_error: 0.1559\n",
      "Epoch 116/250\n",
      " - 14s - loss: 0.1464 - predictions_nuclei_loss: 0.0558 - predictions_counts_loss: 0.0907 - predictions_nuclei_my_accuracy_score: 0.6532 - predictions_nuclei_acc: 0.9733 - predictions_counts_mean_squared_error: 0.0907 - predictions_counts_mean_absolute_error: 0.1340 - val_loss: 0.1341 - val_predictions_nuclei_loss: 0.0707 - val_predictions_counts_loss: 0.0635 - val_predictions_nuclei_my_accuracy_score: 0.6900 - val_predictions_nuclei_acc: 0.9590 - val_predictions_counts_mean_squared_error: 0.0635 - val_predictions_counts_mean_absolute_error: 0.1260\n",
      "Epoch 117/250\n",
      " - 14s - loss: 0.1431 - predictions_nuclei_loss: 0.0540 - predictions_counts_loss: 0.0891 - predictions_nuclei_my_accuracy_score: 0.6633 - predictions_nuclei_acc: 0.9751 - predictions_counts_mean_squared_error: 0.0891 - predictions_counts_mean_absolute_error: 0.1343 - val_loss: 0.1865 - val_predictions_nuclei_loss: 0.0786 - val_predictions_counts_loss: 0.1079 - val_predictions_nuclei_my_accuracy_score: 0.7100 - val_predictions_nuclei_acc: 0.9570 - val_predictions_counts_mean_squared_error: 0.1079 - val_predictions_counts_mean_absolute_error: 0.1721\n",
      "Epoch 118/250\n",
      " - 14s - loss: 0.1381 - predictions_nuclei_loss: 0.0528 - predictions_counts_loss: 0.0852 - predictions_nuclei_my_accuracy_score: 0.6669 - predictions_nuclei_acc: 0.9738 - predictions_counts_mean_squared_error: 0.0852 - predictions_counts_mean_absolute_error: 0.1291 - val_loss: 0.1753 - val_predictions_nuclei_loss: 0.0806 - val_predictions_counts_loss: 0.0947 - val_predictions_nuclei_my_accuracy_score: 0.7200 - val_predictions_nuclei_acc: 0.9540 - val_predictions_counts_mean_squared_error: 0.0947 - val_predictions_counts_mean_absolute_error: 0.1527\n",
      "Epoch 119/250\n",
      " - 14s - loss: 0.1416 - predictions_nuclei_loss: 0.0546 - predictions_counts_loss: 0.0870 - predictions_nuclei_my_accuracy_score: 0.6669 - predictions_nuclei_acc: 0.9728 - predictions_counts_mean_squared_error: 0.0870 - predictions_counts_mean_absolute_error: 0.1271 - val_loss: 0.1725 - val_predictions_nuclei_loss: 0.0748 - val_predictions_counts_loss: 0.0977 - val_predictions_nuclei_my_accuracy_score: 0.6500 - val_predictions_nuclei_acc: 0.9550 - val_predictions_counts_mean_squared_error: 0.0977 - val_predictions_counts_mean_absolute_error: 0.1605\n",
      "Epoch 120/250\n",
      " - 14s - loss: 0.1439 - predictions_nuclei_loss: 0.0551 - predictions_counts_loss: 0.0889 - predictions_nuclei_my_accuracy_score: 0.6705 - predictions_nuclei_acc: 0.9728 - predictions_counts_mean_squared_error: 0.0889 - predictions_counts_mean_absolute_error: 0.1304 - val_loss: 0.2085 - val_predictions_nuclei_loss: 0.0816 - val_predictions_counts_loss: 0.1268 - val_predictions_nuclei_my_accuracy_score: 0.7500 - val_predictions_nuclei_acc: 0.9520 - val_predictions_counts_mean_squared_error: 0.1268 - val_predictions_counts_mean_absolute_error: 0.1900\n"
     ]
    },
    {
     "name": "stdout",
     "output_type": "stream",
     "text": [
      "Epoch 121/250\n",
      " - 14s - loss: 0.1373 - predictions_nuclei_loss: 0.0532 - predictions_counts_loss: 0.0841 - predictions_nuclei_my_accuracy_score: 0.6734 - predictions_nuclei_acc: 0.9738 - predictions_counts_mean_squared_error: 0.0841 - predictions_counts_mean_absolute_error: 0.1262 - val_loss: 0.1335 - val_predictions_nuclei_loss: 0.0645 - val_predictions_counts_loss: 0.0690 - val_predictions_nuclei_my_accuracy_score: 0.7300 - val_predictions_nuclei_acc: 0.9660 - val_predictions_counts_mean_squared_error: 0.0690 - val_predictions_counts_mean_absolute_error: 0.1392\n",
      "Epoch 122/250\n",
      " - 14s - loss: 0.1329 - predictions_nuclei_loss: 0.0517 - predictions_counts_loss: 0.0811 - predictions_nuclei_my_accuracy_score: 0.6756 - predictions_nuclei_acc: 0.9735 - predictions_counts_mean_squared_error: 0.0811 - predictions_counts_mean_absolute_error: 0.1197 - val_loss: 0.1306 - val_predictions_nuclei_loss: 0.0696 - val_predictions_counts_loss: 0.0609 - val_predictions_nuclei_my_accuracy_score: 0.5700 - val_predictions_nuclei_acc: 0.9590 - val_predictions_counts_mean_squared_error: 0.0609 - val_predictions_counts_mean_absolute_error: 0.1233\n",
      "Epoch 123/250\n",
      " - 14s - loss: 0.1378 - predictions_nuclei_loss: 0.0542 - predictions_counts_loss: 0.0836 - predictions_nuclei_my_accuracy_score: 0.6655 - predictions_nuclei_acc: 0.9744 - predictions_counts_mean_squared_error: 0.0836 - predictions_counts_mean_absolute_error: 0.1310 - val_loss: 0.1757 - val_predictions_nuclei_loss: 0.0745 - val_predictions_counts_loss: 0.1012 - val_predictions_nuclei_my_accuracy_score: 0.7200 - val_predictions_nuclei_acc: 0.9600 - val_predictions_counts_mean_squared_error: 0.1012 - val_predictions_counts_mean_absolute_error: 0.1678\n",
      "Epoch 124/250\n",
      " - 14s - loss: 0.1301 - predictions_nuclei_loss: 0.0500 - predictions_counts_loss: 0.0801 - predictions_nuclei_my_accuracy_score: 0.6734 - predictions_nuclei_acc: 0.9752 - predictions_counts_mean_squared_error: 0.0801 - predictions_counts_mean_absolute_error: 0.1327 - val_loss: 0.1695 - val_predictions_nuclei_loss: 0.0818 - val_predictions_counts_loss: 0.0877 - val_predictions_nuclei_my_accuracy_score: 0.6700 - val_predictions_nuclei_acc: 0.9570 - val_predictions_counts_mean_squared_error: 0.0877 - val_predictions_counts_mean_absolute_error: 0.1508\n",
      "Epoch 125/250\n",
      " - 14s - loss: 0.1134 - predictions_nuclei_loss: 0.0451 - predictions_counts_loss: 0.0683 - predictions_nuclei_my_accuracy_score: 0.6778 - predictions_nuclei_acc: 0.9790 - predictions_counts_mean_squared_error: 0.0683 - predictions_counts_mean_absolute_error: 0.1231 - val_loss: 0.0984 - val_predictions_nuclei_loss: 0.0510 - val_predictions_counts_loss: 0.0474 - val_predictions_nuclei_my_accuracy_score: 0.6100 - val_predictions_nuclei_acc: 0.9760 - val_predictions_counts_mean_squared_error: 0.0474 - val_predictions_counts_mean_absolute_error: 0.1235\n",
      "Epoch 126/250\n",
      " - 14s - loss: 0.0974 - predictions_nuclei_loss: 0.0377 - predictions_counts_loss: 0.0597 - predictions_nuclei_my_accuracy_score: 0.6843 - predictions_nuclei_acc: 0.9832 - predictions_counts_mean_squared_error: 0.0597 - predictions_counts_mean_absolute_error: 0.1196 - val_loss: 0.1350 - val_predictions_nuclei_loss: 0.0525 - val_predictions_counts_loss: 0.0825 - val_predictions_nuclei_my_accuracy_score: 0.7000 - val_predictions_nuclei_acc: 0.9780 - val_predictions_counts_mean_squared_error: 0.0825 - val_predictions_counts_mean_absolute_error: 0.1658\n",
      "Epoch 127/250\n",
      " - 14s - loss: 0.0798 - predictions_nuclei_loss: 0.0311 - predictions_counts_loss: 0.0488 - predictions_nuclei_my_accuracy_score: 0.6987 - predictions_nuclei_acc: 0.9875 - predictions_counts_mean_squared_error: 0.0488 - predictions_counts_mean_absolute_error: 0.1115 - val_loss: 0.1028 - val_predictions_nuclei_loss: 0.0555 - val_predictions_counts_loss: 0.0474 - val_predictions_nuclei_my_accuracy_score: 0.6500 - val_predictions_nuclei_acc: 0.9850 - val_predictions_counts_mean_squared_error: 0.0474 - val_predictions_counts_mean_absolute_error: 0.1047\n",
      "Epoch 128/250\n",
      " - 14s - loss: 0.0659 - predictions_nuclei_loss: 0.0252 - predictions_counts_loss: 0.0407 - predictions_nuclei_my_accuracy_score: 0.7392 - predictions_nuclei_acc: 0.9902 - predictions_counts_mean_squared_error: 0.0407 - predictions_counts_mean_absolute_error: 0.0996 - val_loss: 0.0937 - val_predictions_nuclei_loss: 0.0407 - val_predictions_counts_loss: 0.0530 - val_predictions_nuclei_my_accuracy_score: 0.7900 - val_predictions_nuclei_acc: 0.9840 - val_predictions_counts_mean_squared_error: 0.0530 - val_predictions_counts_mean_absolute_error: 0.1294\n",
      "Epoch 129/250\n",
      " - 14s - loss: 0.0630 - predictions_nuclei_loss: 0.0232 - predictions_counts_loss: 0.0398 - predictions_nuclei_my_accuracy_score: 0.7515 - predictions_nuclei_acc: 0.9895 - predictions_counts_mean_squared_error: 0.0398 - predictions_counts_mean_absolute_error: 0.1033 - val_loss: 0.0943 - val_predictions_nuclei_loss: 0.0369 - val_predictions_counts_loss: 0.0574 - val_predictions_nuclei_my_accuracy_score: 0.7800 - val_predictions_nuclei_acc: 0.9850 - val_predictions_counts_mean_squared_error: 0.0574 - val_predictions_counts_mean_absolute_error: 0.1435\n",
      "Epoch 130/250\n",
      " - 14s - loss: 0.0508 - predictions_nuclei_loss: 0.0176 - predictions_counts_loss: 0.0331 - predictions_nuclei_my_accuracy_score: 0.7926 - predictions_nuclei_acc: 0.9931 - predictions_counts_mean_squared_error: 0.0331 - predictions_counts_mean_absolute_error: 0.0964 - val_loss: 0.0824 - val_predictions_nuclei_loss: 0.0343 - val_predictions_counts_loss: 0.0481 - val_predictions_nuclei_my_accuracy_score: 0.7800 - val_predictions_nuclei_acc: 0.9860 - val_predictions_counts_mean_squared_error: 0.0481 - val_predictions_counts_mean_absolute_error: 0.1226\n",
      "Epoch 131/250\n",
      " - 14s - loss: 0.0517 - predictions_nuclei_loss: 0.0183 - predictions_counts_loss: 0.0334 - predictions_nuclei_my_accuracy_score: 0.8129 - predictions_nuclei_acc: 0.9927 - predictions_counts_mean_squared_error: 0.0334 - predictions_counts_mean_absolute_error: 0.0948 - val_loss: 0.0664 - val_predictions_nuclei_loss: 0.0292 - val_predictions_counts_loss: 0.0372 - val_predictions_nuclei_my_accuracy_score: 0.7000 - val_predictions_nuclei_acc: 0.9850 - val_predictions_counts_mean_squared_error: 0.0372 - val_predictions_counts_mean_absolute_error: 0.1077\n",
      "Epoch 132/250\n",
      " - 14s - loss: 0.0360 - predictions_nuclei_loss: 0.0109 - predictions_counts_loss: 0.0252 - predictions_nuclei_my_accuracy_score: 0.8490 - predictions_nuclei_acc: 0.9965 - predictions_counts_mean_squared_error: 0.0252 - predictions_counts_mean_absolute_error: 0.0903 - val_loss: 0.0426 - val_predictions_nuclei_loss: 0.0165 - val_predictions_counts_loss: 0.0261 - val_predictions_nuclei_my_accuracy_score: 0.8300 - val_predictions_nuclei_acc: 0.9930 - val_predictions_counts_mean_squared_error: 0.0261 - val_predictions_counts_mean_absolute_error: 0.1019\n",
      "Epoch 133/250\n",
      " - 14s - loss: 0.0293 - predictions_nuclei_loss: 0.0082 - predictions_counts_loss: 0.0212 - predictions_nuclei_my_accuracy_score: 0.8757 - predictions_nuclei_acc: 0.9971 - predictions_counts_mean_squared_error: 0.0212 - predictions_counts_mean_absolute_error: 0.0870 - val_loss: 0.0521 - val_predictions_nuclei_loss: 0.0153 - val_predictions_counts_loss: 0.0368 - val_predictions_nuclei_my_accuracy_score: 0.7700 - val_predictions_nuclei_acc: 0.9960 - val_predictions_counts_mean_squared_error: 0.0368 - val_predictions_counts_mean_absolute_error: 0.1161\n",
      "Epoch 134/250\n",
      " - 14s - loss: 0.0275 - predictions_nuclei_loss: 0.0083 - predictions_counts_loss: 0.0193 - predictions_nuclei_my_accuracy_score: 0.8685 - predictions_nuclei_acc: 0.9978 - predictions_counts_mean_squared_error: 0.0193 - predictions_counts_mean_absolute_error: 0.0804 - val_loss: 0.0405 - val_predictions_nuclei_loss: 0.0205 - val_predictions_counts_loss: 0.0200 - val_predictions_nuclei_my_accuracy_score: 0.6500 - val_predictions_nuclei_acc: 0.9930 - val_predictions_counts_mean_squared_error: 0.0200 - val_predictions_counts_mean_absolute_error: 0.0816\n",
      "Epoch 135/250\n",
      " - 14s - loss: 0.0180 - predictions_nuclei_loss: 0.0042 - predictions_counts_loss: 0.0138 - predictions_nuclei_my_accuracy_score: 0.9205 - predictions_nuclei_acc: 0.9993 - predictions_counts_mean_squared_error: 0.0138 - predictions_counts_mean_absolute_error: 0.0720 - val_loss: 0.0337 - val_predictions_nuclei_loss: 0.0097 - val_predictions_counts_loss: 0.0240 - val_predictions_nuclei_my_accuracy_score: 0.8000 - val_predictions_nuclei_acc: 0.9980 - val_predictions_counts_mean_squared_error: 0.0240 - val_predictions_counts_mean_absolute_error: 0.0980\n"
     ]
    },
    {
     "name": "stdout",
     "output_type": "stream",
     "text": [
      "Epoch 136/250\n",
      " - 14s - loss: 0.0116 - predictions_nuclei_loss: 0.0022 - predictions_counts_loss: 0.0094 - predictions_nuclei_my_accuracy_score: 0.9422 - predictions_nuclei_acc: 0.9999 - predictions_counts_mean_squared_error: 0.0094 - predictions_counts_mean_absolute_error: 0.0621 - val_loss: 0.0337 - val_predictions_nuclei_loss: 0.0111 - val_predictions_counts_loss: 0.0226 - val_predictions_nuclei_my_accuracy_score: 0.7800 - val_predictions_nuclei_acc: 0.9950 - val_predictions_counts_mean_squared_error: 0.0226 - val_predictions_counts_mean_absolute_error: 0.0931\n",
      "Epoch 137/250\n",
      " - 14s - loss: 0.0099 - predictions_nuclei_loss: 0.0018 - predictions_counts_loss: 0.0081 - predictions_nuclei_my_accuracy_score: 0.9523 - predictions_nuclei_acc: 0.9999 - predictions_counts_mean_squared_error: 0.0081 - predictions_counts_mean_absolute_error: 0.0582 - val_loss: 0.0276 - val_predictions_nuclei_loss: 0.0098 - val_predictions_counts_loss: 0.0178 - val_predictions_nuclei_my_accuracy_score: 0.8100 - val_predictions_nuclei_acc: 0.9960 - val_predictions_counts_mean_squared_error: 0.0178 - val_predictions_counts_mean_absolute_error: 0.0801\n",
      "Epoch 138/250\n",
      " - 14s - loss: 0.0080 - predictions_nuclei_loss: 0.0011 - predictions_counts_loss: 0.0069 - predictions_nuclei_my_accuracy_score: 0.9754 - predictions_nuclei_acc: 1.0000 - predictions_counts_mean_squared_error: 0.0069 - predictions_counts_mean_absolute_error: 0.0535 - val_loss: 0.0298 - val_predictions_nuclei_loss: 0.0111 - val_predictions_counts_loss: 0.0187 - val_predictions_nuclei_my_accuracy_score: 0.8300 - val_predictions_nuclei_acc: 0.9950 - val_predictions_counts_mean_squared_error: 0.0187 - val_predictions_counts_mean_absolute_error: 0.0797\n",
      "Epoch 139/250\n",
      " - 14s - loss: 0.0076 - predictions_nuclei_loss: 9.2794e-04 - predictions_counts_loss: 0.0067 - predictions_nuclei_my_accuracy_score: 0.9798 - predictions_nuclei_acc: 1.0000 - predictions_counts_mean_squared_error: 0.0067 - predictions_counts_mean_absolute_error: 0.0529 - val_loss: 0.0296 - val_predictions_nuclei_loss: 0.0084 - val_predictions_counts_loss: 0.0212 - val_predictions_nuclei_my_accuracy_score: 0.8800 - val_predictions_nuclei_acc: 0.9960 - val_predictions_counts_mean_squared_error: 0.0212 - val_predictions_counts_mean_absolute_error: 0.0861\n",
      "Epoch 140/250\n",
      " - 14s - loss: 0.0072 - predictions_nuclei_loss: 8.0137e-04 - predictions_counts_loss: 0.0064 - predictions_nuclei_my_accuracy_score: 0.9877 - predictions_nuclei_acc: 1.0000 - predictions_counts_mean_squared_error: 0.0064 - predictions_counts_mean_absolute_error: 0.0513 - val_loss: 0.0268 - val_predictions_nuclei_loss: 0.0062 - val_predictions_counts_loss: 0.0207 - val_predictions_nuclei_my_accuracy_score: 0.9200 - val_predictions_nuclei_acc: 1.0000 - val_predictions_counts_mean_squared_error: 0.0207 - val_predictions_counts_mean_absolute_error: 0.0875\n",
      "Epoch 141/250\n",
      " - 14s - loss: 0.0070 - predictions_nuclei_loss: 7.1013e-04 - predictions_counts_loss: 0.0063 - predictions_nuclei_my_accuracy_score: 0.9884 - predictions_nuclei_acc: 1.0000 - predictions_counts_mean_squared_error: 0.0063 - predictions_counts_mean_absolute_error: 0.0511 - val_loss: 0.0260 - val_predictions_nuclei_loss: 0.0053 - val_predictions_counts_loss: 0.0208 - val_predictions_nuclei_my_accuracy_score: 0.9400 - val_predictions_nuclei_acc: 0.9990 - val_predictions_counts_mean_squared_error: 0.0208 - val_predictions_counts_mean_absolute_error: 0.0934\n",
      "Epoch 142/250\n",
      " - 14s - loss: 0.0060 - predictions_nuclei_loss: 6.1951e-04 - predictions_counts_loss: 0.0054 - predictions_nuclei_my_accuracy_score: 0.9913 - predictions_nuclei_acc: 1.0000 - predictions_counts_mean_squared_error: 0.0054 - predictions_counts_mean_absolute_error: 0.0468 - val_loss: 0.0243 - val_predictions_nuclei_loss: 0.0061 - val_predictions_counts_loss: 0.0182 - val_predictions_nuclei_my_accuracy_score: 0.9200 - val_predictions_nuclei_acc: 0.9990 - val_predictions_counts_mean_squared_error: 0.0182 - val_predictions_counts_mean_absolute_error: 0.0851\n",
      "Epoch 143/250\n",
      " - 14s - loss: 0.0055 - predictions_nuclei_loss: 5.5628e-04 - predictions_counts_loss: 0.0049 - predictions_nuclei_my_accuracy_score: 0.9899 - predictions_nuclei_acc: 1.0000 - predictions_counts_mean_squared_error: 0.0049 - predictions_counts_mean_absolute_error: 0.0448 - val_loss: 0.0227 - val_predictions_nuclei_loss: 0.0048 - val_predictions_counts_loss: 0.0179 - val_predictions_nuclei_my_accuracy_score: 0.9500 - val_predictions_nuclei_acc: 1.0000 - val_predictions_counts_mean_squared_error: 0.0179 - val_predictions_counts_mean_absolute_error: 0.0825\n",
      "Epoch 144/250\n",
      " - 14s - loss: 0.0060 - predictions_nuclei_loss: 5.2123e-04 - predictions_counts_loss: 0.0055 - predictions_nuclei_my_accuracy_score: 0.9935 - predictions_nuclei_acc: 1.0000 - predictions_counts_mean_squared_error: 0.0055 - predictions_counts_mean_absolute_error: 0.0478 - val_loss: 0.0220 - val_predictions_nuclei_loss: 0.0080 - val_predictions_counts_loss: 0.0140 - val_predictions_nuclei_my_accuracy_score: 0.8700 - val_predictions_nuclei_acc: 0.9960 - val_predictions_counts_mean_squared_error: 0.0140 - val_predictions_counts_mean_absolute_error: 0.0735\n",
      "Epoch 145/250\n",
      " - 14s - loss: 0.0047 - predictions_nuclei_loss: 4.7311e-04 - predictions_counts_loss: 0.0043 - predictions_nuclei_my_accuracy_score: 0.9949 - predictions_nuclei_acc: 1.0000 - predictions_counts_mean_squared_error: 0.0043 - predictions_counts_mean_absolute_error: 0.0416 - val_loss: 0.0246 - val_predictions_nuclei_loss: 0.0036 - val_predictions_counts_loss: 0.0210 - val_predictions_nuclei_my_accuracy_score: 0.9400 - val_predictions_nuclei_acc: 1.0000 - val_predictions_counts_mean_squared_error: 0.0210 - val_predictions_counts_mean_absolute_error: 0.0882\n",
      "Epoch 146/250\n",
      " - 14s - loss: 0.0055 - predictions_nuclei_loss: 4.3503e-04 - predictions_counts_loss: 0.0050 - predictions_nuclei_my_accuracy_score: 0.9949 - predictions_nuclei_acc: 1.0000 - predictions_counts_mean_squared_error: 0.0050 - predictions_counts_mean_absolute_error: 0.0454 - val_loss: 0.0218 - val_predictions_nuclei_loss: 0.0038 - val_predictions_counts_loss: 0.0180 - val_predictions_nuclei_my_accuracy_score: 0.9400 - val_predictions_nuclei_acc: 1.0000 - val_predictions_counts_mean_squared_error: 0.0180 - val_predictions_counts_mean_absolute_error: 0.0831\n",
      "Epoch 147/250\n",
      " - 14s - loss: 0.0047 - predictions_nuclei_loss: 3.8894e-04 - predictions_counts_loss: 0.0043 - predictions_nuclei_my_accuracy_score: 0.9971 - predictions_nuclei_acc: 1.0000 - predictions_counts_mean_squared_error: 0.0043 - predictions_counts_mean_absolute_error: 0.0422 - val_loss: 0.0243 - val_predictions_nuclei_loss: 0.0071 - val_predictions_counts_loss: 0.0172 - val_predictions_nuclei_my_accuracy_score: 0.9400 - val_predictions_nuclei_acc: 0.9960 - val_predictions_counts_mean_squared_error: 0.0172 - val_predictions_counts_mean_absolute_error: 0.0796\n",
      "Epoch 148/250\n",
      " - 14s - loss: 0.0042 - predictions_nuclei_loss: 3.6267e-04 - predictions_counts_loss: 0.0038 - predictions_nuclei_my_accuracy_score: 0.9971 - predictions_nuclei_acc: 1.0000 - predictions_counts_mean_squared_error: 0.0038 - predictions_counts_mean_absolute_error: 0.0384 - val_loss: 0.0225 - val_predictions_nuclei_loss: 0.0033 - val_predictions_counts_loss: 0.0192 - val_predictions_nuclei_my_accuracy_score: 0.9600 - val_predictions_nuclei_acc: 1.0000 - val_predictions_counts_mean_squared_error: 0.0192 - val_predictions_counts_mean_absolute_error: 0.0876\n",
      "Epoch 149/250\n",
      " - 14s - loss: 0.0046 - predictions_nuclei_loss: 3.5063e-04 - predictions_counts_loss: 0.0043 - predictions_nuclei_my_accuracy_score: 0.9964 - predictions_nuclei_acc: 1.0000 - predictions_counts_mean_squared_error: 0.0043 - predictions_counts_mean_absolute_error: 0.0414 - val_loss: 0.0223 - val_predictions_nuclei_loss: 0.0075 - val_predictions_counts_loss: 0.0148 - val_predictions_nuclei_my_accuracy_score: 0.9000 - val_predictions_nuclei_acc: 0.9970 - val_predictions_counts_mean_squared_error: 0.0148 - val_predictions_counts_mean_absolute_error: 0.0734\n",
      "Epoch 150/250\n",
      " - 14s - loss: 0.0040 - predictions_nuclei_loss: 3.2721e-04 - predictions_counts_loss: 0.0037 - predictions_nuclei_my_accuracy_score: 0.9964 - predictions_nuclei_acc: 1.0000 - predictions_counts_mean_squared_error: 0.0037 - predictions_counts_mean_absolute_error: 0.0384 - val_loss: 0.0176 - val_predictions_nuclei_loss: 0.0039 - val_predictions_counts_loss: 0.0137 - val_predictions_nuclei_my_accuracy_score: 0.9600 - val_predictions_nuclei_acc: 1.0000 - val_predictions_counts_mean_squared_error: 0.0137 - val_predictions_counts_mean_absolute_error: 0.0777\n"
     ]
    },
    {
     "name": "stdout",
     "output_type": "stream",
     "text": [
      "Epoch 151/250\n",
      " - 14s - loss: 0.0038 - predictions_nuclei_loss: 3.1812e-04 - predictions_counts_loss: 0.0035 - predictions_nuclei_my_accuracy_score: 0.9978 - predictions_nuclei_acc: 1.0000 - predictions_counts_mean_squared_error: 0.0035 - predictions_counts_mean_absolute_error: 0.0375 - val_loss: 0.0223 - val_predictions_nuclei_loss: 0.0054 - val_predictions_counts_loss: 0.0169 - val_predictions_nuclei_my_accuracy_score: 0.9400 - val_predictions_nuclei_acc: 0.9960 - val_predictions_counts_mean_squared_error: 0.0169 - val_predictions_counts_mean_absolute_error: 0.0790\n",
      "Epoch 152/250\n",
      " - 14s - loss: 0.0037 - predictions_nuclei_loss: 2.7825e-04 - predictions_counts_loss: 0.0034 - predictions_nuclei_my_accuracy_score: 0.9993 - predictions_nuclei_acc: 1.0000 - predictions_counts_mean_squared_error: 0.0034 - predictions_counts_mean_absolute_error: 0.0364 - val_loss: 0.0200 - val_predictions_nuclei_loss: 0.0061 - val_predictions_counts_loss: 0.0139 - val_predictions_nuclei_my_accuracy_score: 0.9000 - val_predictions_nuclei_acc: 0.9970 - val_predictions_counts_mean_squared_error: 0.0139 - val_predictions_counts_mean_absolute_error: 0.0779\n",
      "Epoch 153/250\n",
      " - 14s - loss: 0.0040 - predictions_nuclei_loss: 2.7764e-04 - predictions_counts_loss: 0.0037 - predictions_nuclei_my_accuracy_score: 0.9986 - predictions_nuclei_acc: 1.0000 - predictions_counts_mean_squared_error: 0.0037 - predictions_counts_mean_absolute_error: 0.0384 - val_loss: 0.0208 - val_predictions_nuclei_loss: 0.0045 - val_predictions_counts_loss: 0.0163 - val_predictions_nuclei_my_accuracy_score: 0.9600 - val_predictions_nuclei_acc: 1.0000 - val_predictions_counts_mean_squared_error: 0.0163 - val_predictions_counts_mean_absolute_error: 0.0768\n",
      "Epoch 154/250\n",
      " - 14s - loss: 0.0037 - predictions_nuclei_loss: 2.6446e-04 - predictions_counts_loss: 0.0034 - predictions_nuclei_my_accuracy_score: 1.0000 - predictions_nuclei_acc: 1.0000 - predictions_counts_mean_squared_error: 0.0034 - predictions_counts_mean_absolute_error: 0.0372 - val_loss: 0.0160 - val_predictions_nuclei_loss: 0.0050 - val_predictions_counts_loss: 0.0110 - val_predictions_nuclei_my_accuracy_score: 0.9600 - val_predictions_nuclei_acc: 0.9970 - val_predictions_counts_mean_squared_error: 0.0110 - val_predictions_counts_mean_absolute_error: 0.0655\n",
      "Epoch 155/250\n",
      " - 14s - loss: 0.0033 - predictions_nuclei_loss: 2.5352e-04 - predictions_counts_loss: 0.0031 - predictions_nuclei_my_accuracy_score: 1.0000 - predictions_nuclei_acc: 1.0000 - predictions_counts_mean_squared_error: 0.0031 - predictions_counts_mean_absolute_error: 0.0341 - val_loss: 0.0190 - val_predictions_nuclei_loss: 0.0071 - val_predictions_counts_loss: 0.0119 - val_predictions_nuclei_my_accuracy_score: 0.9200 - val_predictions_nuclei_acc: 0.9960 - val_predictions_counts_mean_squared_error: 0.0119 - val_predictions_counts_mean_absolute_error: 0.0673\n",
      "Epoch 156/250\n",
      " - 14s - loss: 0.0039 - predictions_nuclei_loss: 2.3738e-04 - predictions_counts_loss: 0.0037 - predictions_nuclei_my_accuracy_score: 1.0000 - predictions_nuclei_acc: 1.0000 - predictions_counts_mean_squared_error: 0.0037 - predictions_counts_mean_absolute_error: 0.0385 - val_loss: 0.0176 - val_predictions_nuclei_loss: 0.0062 - val_predictions_counts_loss: 0.0114 - val_predictions_nuclei_my_accuracy_score: 0.9600 - val_predictions_nuclei_acc: 0.9970 - val_predictions_counts_mean_squared_error: 0.0114 - val_predictions_counts_mean_absolute_error: 0.0678\n",
      "Epoch 157/250\n",
      " - 14s - loss: 0.0032 - predictions_nuclei_loss: 2.3737e-04 - predictions_counts_loss: 0.0030 - predictions_nuclei_my_accuracy_score: 0.9993 - predictions_nuclei_acc: 1.0000 - predictions_counts_mean_squared_error: 0.0030 - predictions_counts_mean_absolute_error: 0.0348 - val_loss: 0.0190 - val_predictions_nuclei_loss: 0.0037 - val_predictions_counts_loss: 0.0153 - val_predictions_nuclei_my_accuracy_score: 0.9600 - val_predictions_nuclei_acc: 1.0000 - val_predictions_counts_mean_squared_error: 0.0153 - val_predictions_counts_mean_absolute_error: 0.0787\n",
      "Epoch 158/250\n",
      " - 14s - loss: 0.0030 - predictions_nuclei_loss: 2.2438e-04 - predictions_counts_loss: 0.0028 - predictions_nuclei_my_accuracy_score: 0.9993 - predictions_nuclei_acc: 1.0000 - predictions_counts_mean_squared_error: 0.0028 - predictions_counts_mean_absolute_error: 0.0332 - val_loss: 0.0148 - val_predictions_nuclei_loss: 0.0045 - val_predictions_counts_loss: 0.0103 - val_predictions_nuclei_my_accuracy_score: 0.9600 - val_predictions_nuclei_acc: 1.0000 - val_predictions_counts_mean_squared_error: 0.0103 - val_predictions_counts_mean_absolute_error: 0.0676\n",
      "Epoch 159/250\n",
      " - 14s - loss: 0.0027 - predictions_nuclei_loss: 2.0741e-04 - predictions_counts_loss: 0.0025 - predictions_nuclei_my_accuracy_score: 1.0000 - predictions_nuclei_acc: 1.0000 - predictions_counts_mean_squared_error: 0.0025 - predictions_counts_mean_absolute_error: 0.0313 - val_loss: 0.0161 - val_predictions_nuclei_loss: 0.0045 - val_predictions_counts_loss: 0.0117 - val_predictions_nuclei_my_accuracy_score: 0.9600 - val_predictions_nuclei_acc: 1.0000 - val_predictions_counts_mean_squared_error: 0.0117 - val_predictions_counts_mean_absolute_error: 0.0663\n",
      "Epoch 160/250\n",
      " - 14s - loss: 0.0040 - predictions_nuclei_loss: 2.0926e-04 - predictions_counts_loss: 0.0037 - predictions_nuclei_my_accuracy_score: 1.0000 - predictions_nuclei_acc: 1.0000 - predictions_counts_mean_squared_error: 0.0037 - predictions_counts_mean_absolute_error: 0.0383 - val_loss: 0.0188 - val_predictions_nuclei_loss: 0.0040 - val_predictions_counts_loss: 0.0148 - val_predictions_nuclei_my_accuracy_score: 0.9600 - val_predictions_nuclei_acc: 1.0000 - val_predictions_counts_mean_squared_error: 0.0148 - val_predictions_counts_mean_absolute_error: 0.0722\n",
      "Epoch 161/250\n",
      " - 14s - loss: 0.0030 - predictions_nuclei_loss: 2.0684e-04 - predictions_counts_loss: 0.0028 - predictions_nuclei_my_accuracy_score: 1.0000 - predictions_nuclei_acc: 1.0000 - predictions_counts_mean_squared_error: 0.0028 - predictions_counts_mean_absolute_error: 0.0341 - val_loss: 0.0170 - val_predictions_nuclei_loss: 0.0057 - val_predictions_counts_loss: 0.0113 - val_predictions_nuclei_my_accuracy_score: 0.9600 - val_predictions_nuclei_acc: 0.9970 - val_predictions_counts_mean_squared_error: 0.0113 - val_predictions_counts_mean_absolute_error: 0.0633\n",
      "Epoch 162/250\n",
      " - 14s - loss: 0.0030 - predictions_nuclei_loss: 1.9355e-04 - predictions_counts_loss: 0.0028 - predictions_nuclei_my_accuracy_score: 1.0000 - predictions_nuclei_acc: 1.0000 - predictions_counts_mean_squared_error: 0.0028 - predictions_counts_mean_absolute_error: 0.0338 - val_loss: 0.0179 - val_predictions_nuclei_loss: 0.0058 - val_predictions_counts_loss: 0.0120 - val_predictions_nuclei_my_accuracy_score: 0.9600 - val_predictions_nuclei_acc: 0.9960 - val_predictions_counts_mean_squared_error: 0.0120 - val_predictions_counts_mean_absolute_error: 0.0690\n",
      "Epoch 163/250\n",
      " - 14s - loss: 0.0031 - predictions_nuclei_loss: 1.8872e-04 - predictions_counts_loss: 0.0030 - predictions_nuclei_my_accuracy_score: 1.0000 - predictions_nuclei_acc: 1.0000 - predictions_counts_mean_squared_error: 0.0030 - predictions_counts_mean_absolute_error: 0.0334 - val_loss: 0.0183 - val_predictions_nuclei_loss: 0.0042 - val_predictions_counts_loss: 0.0141 - val_predictions_nuclei_my_accuracy_score: 0.9600 - val_predictions_nuclei_acc: 1.0000 - val_predictions_counts_mean_squared_error: 0.0141 - val_predictions_counts_mean_absolute_error: 0.0743\n",
      "Epoch 164/250\n",
      " - 14s - loss: 0.0031 - predictions_nuclei_loss: 1.9070e-04 - predictions_counts_loss: 0.0029 - predictions_nuclei_my_accuracy_score: 1.0000 - predictions_nuclei_acc: 1.0000 - predictions_counts_mean_squared_error: 0.0029 - predictions_counts_mean_absolute_error: 0.0340 - val_loss: 0.0152 - val_predictions_nuclei_loss: 0.0060 - val_predictions_counts_loss: 0.0092 - val_predictions_nuclei_my_accuracy_score: 0.9400 - val_predictions_nuclei_acc: 0.9960 - val_predictions_counts_mean_squared_error: 0.0092 - val_predictions_counts_mean_absolute_error: 0.0600\n",
      "Epoch 165/250\n",
      " - 14s - loss: 0.0028 - predictions_nuclei_loss: 1.7945e-04 - predictions_counts_loss: 0.0027 - predictions_nuclei_my_accuracy_score: 1.0000 - predictions_nuclei_acc: 1.0000 - predictions_counts_mean_squared_error: 0.0027 - predictions_counts_mean_absolute_error: 0.0321 - val_loss: 0.0155 - val_predictions_nuclei_loss: 0.0061 - val_predictions_counts_loss: 0.0094 - val_predictions_nuclei_my_accuracy_score: 0.9600 - val_predictions_nuclei_acc: 0.9960 - val_predictions_counts_mean_squared_error: 0.0094 - val_predictions_counts_mean_absolute_error: 0.0601\n"
     ]
    },
    {
     "name": "stdout",
     "output_type": "stream",
     "text": [
      "Epoch 166/250\n",
      " - 14s - loss: 0.0027 - predictions_nuclei_loss: 1.7054e-04 - predictions_counts_loss: 0.0025 - predictions_nuclei_my_accuracy_score: 1.0000 - predictions_nuclei_acc: 1.0000 - predictions_counts_mean_squared_error: 0.0025 - predictions_counts_mean_absolute_error: 0.0311 - val_loss: 0.0162 - val_predictions_nuclei_loss: 0.0055 - val_predictions_counts_loss: 0.0107 - val_predictions_nuclei_my_accuracy_score: 0.9600 - val_predictions_nuclei_acc: 0.9960 - val_predictions_counts_mean_squared_error: 0.0107 - val_predictions_counts_mean_absolute_error: 0.0647\n",
      "Epoch 167/250\n",
      " - 14s - loss: 0.0025 - predictions_nuclei_loss: 1.6386e-04 - predictions_counts_loss: 0.0023 - predictions_nuclei_my_accuracy_score: 1.0000 - predictions_nuclei_acc: 1.0000 - predictions_counts_mean_squared_error: 0.0023 - predictions_counts_mean_absolute_error: 0.0299 - val_loss: 0.0164 - val_predictions_nuclei_loss: 0.0056 - val_predictions_counts_loss: 0.0109 - val_predictions_nuclei_my_accuracy_score: 0.9600 - val_predictions_nuclei_acc: 0.9970 - val_predictions_counts_mean_squared_error: 0.0109 - val_predictions_counts_mean_absolute_error: 0.0643\n",
      "Epoch 168/250\n",
      " - 14s - loss: 0.0025 - predictions_nuclei_loss: 1.6392e-04 - predictions_counts_loss: 0.0024 - predictions_nuclei_my_accuracy_score: 1.0000 - predictions_nuclei_acc: 1.0000 - predictions_counts_mean_squared_error: 0.0024 - predictions_counts_mean_absolute_error: 0.0311 - val_loss: 0.0164 - val_predictions_nuclei_loss: 0.0044 - val_predictions_counts_loss: 0.0120 - val_predictions_nuclei_my_accuracy_score: 0.9600 - val_predictions_nuclei_acc: 0.9970 - val_predictions_counts_mean_squared_error: 0.0120 - val_predictions_counts_mean_absolute_error: 0.0662\n",
      "Epoch 169/250\n",
      " - 14s - loss: 0.0023 - predictions_nuclei_loss: 1.5805e-04 - predictions_counts_loss: 0.0021 - predictions_nuclei_my_accuracy_score: 1.0000 - predictions_nuclei_acc: 1.0000 - predictions_counts_mean_squared_error: 0.0021 - predictions_counts_mean_absolute_error: 0.0288 - val_loss: 0.0170 - val_predictions_nuclei_loss: 0.0044 - val_predictions_counts_loss: 0.0126 - val_predictions_nuclei_my_accuracy_score: 0.9600 - val_predictions_nuclei_acc: 0.9960 - val_predictions_counts_mean_squared_error: 0.0126 - val_predictions_counts_mean_absolute_error: 0.0676\n",
      "Epoch 170/250\n",
      " - 14s - loss: 0.0021 - predictions_nuclei_loss: 1.5182e-04 - predictions_counts_loss: 0.0020 - predictions_nuclei_my_accuracy_score: 1.0000 - predictions_nuclei_acc: 1.0000 - predictions_counts_mean_squared_error: 0.0020 - predictions_counts_mean_absolute_error: 0.0278 - val_loss: 0.0169 - val_predictions_nuclei_loss: 0.0058 - val_predictions_counts_loss: 0.0112 - val_predictions_nuclei_my_accuracy_score: 0.9600 - val_predictions_nuclei_acc: 0.9970 - val_predictions_counts_mean_squared_error: 0.0112 - val_predictions_counts_mean_absolute_error: 0.0645\n",
      "Epoch 171/250\n",
      " - 14s - loss: 0.0023 - predictions_nuclei_loss: 1.5035e-04 - predictions_counts_loss: 0.0021 - predictions_nuclei_my_accuracy_score: 1.0000 - predictions_nuclei_acc: 1.0000 - predictions_counts_mean_squared_error: 0.0021 - predictions_counts_mean_absolute_error: 0.0287 - val_loss: 0.0160 - val_predictions_nuclei_loss: 0.0049 - val_predictions_counts_loss: 0.0111 - val_predictions_nuclei_my_accuracy_score: 0.9600 - val_predictions_nuclei_acc: 0.9970 - val_predictions_counts_mean_squared_error: 0.0111 - val_predictions_counts_mean_absolute_error: 0.0636\n",
      "Epoch 172/250\n",
      " - 14s - loss: 0.0021 - predictions_nuclei_loss: 1.4206e-04 - predictions_counts_loss: 0.0020 - predictions_nuclei_my_accuracy_score: 1.0000 - predictions_nuclei_acc: 1.0000 - predictions_counts_mean_squared_error: 0.0020 - predictions_counts_mean_absolute_error: 0.0278 - val_loss: 0.0148 - val_predictions_nuclei_loss: 0.0048 - val_predictions_counts_loss: 0.0100 - val_predictions_nuclei_my_accuracy_score: 0.9600 - val_predictions_nuclei_acc: 0.9970 - val_predictions_counts_mean_squared_error: 0.0100 - val_predictions_counts_mean_absolute_error: 0.0625\n",
      "Epoch 173/250\n",
      " - 14s - loss: 0.0021 - predictions_nuclei_loss: 1.3631e-04 - predictions_counts_loss: 0.0020 - predictions_nuclei_my_accuracy_score: 1.0000 - predictions_nuclei_acc: 1.0000 - predictions_counts_mean_squared_error: 0.0020 - predictions_counts_mean_absolute_error: 0.0276 - val_loss: 0.0156 - val_predictions_nuclei_loss: 0.0034 - val_predictions_counts_loss: 0.0121 - val_predictions_nuclei_my_accuracy_score: 0.9600 - val_predictions_nuclei_acc: 1.0000 - val_predictions_counts_mean_squared_error: 0.0121 - val_predictions_counts_mean_absolute_error: 0.0668\n",
      "Epoch 174/250\n",
      " - 14s - loss: 0.0023 - predictions_nuclei_loss: 1.3777e-04 - predictions_counts_loss: 0.0021 - predictions_nuclei_my_accuracy_score: 1.0000 - predictions_nuclei_acc: 1.0000 - predictions_counts_mean_squared_error: 0.0021 - predictions_counts_mean_absolute_error: 0.0293 - val_loss: 0.0156 - val_predictions_nuclei_loss: 0.0048 - val_predictions_counts_loss: 0.0109 - val_predictions_nuclei_my_accuracy_score: 0.9600 - val_predictions_nuclei_acc: 0.9970 - val_predictions_counts_mean_squared_error: 0.0109 - val_predictions_counts_mean_absolute_error: 0.0653\n",
      "Epoch 175/250\n",
      " - 14s - loss: 0.0020 - predictions_nuclei_loss: 1.3363e-04 - predictions_counts_loss: 0.0018 - predictions_nuclei_my_accuracy_score: 1.0000 - predictions_nuclei_acc: 1.0000 - predictions_counts_mean_squared_error: 0.0018 - predictions_counts_mean_absolute_error: 0.0266 - val_loss: 0.0152 - val_predictions_nuclei_loss: 0.0046 - val_predictions_counts_loss: 0.0107 - val_predictions_nuclei_my_accuracy_score: 0.9600 - val_predictions_nuclei_acc: 0.9960 - val_predictions_counts_mean_squared_error: 0.0107 - val_predictions_counts_mean_absolute_error: 0.0648\n",
      "Epoch 176/250\n",
      " - 14s - loss: 0.0019 - predictions_nuclei_loss: 1.2929e-04 - predictions_counts_loss: 0.0018 - predictions_nuclei_my_accuracy_score: 1.0000 - predictions_nuclei_acc: 1.0000 - predictions_counts_mean_squared_error: 0.0018 - predictions_counts_mean_absolute_error: 0.0266 - val_loss: 0.0168 - val_predictions_nuclei_loss: 0.0060 - val_predictions_counts_loss: 0.0108 - val_predictions_nuclei_my_accuracy_score: 0.9400 - val_predictions_nuclei_acc: 0.9970 - val_predictions_counts_mean_squared_error: 0.0108 - val_predictions_counts_mean_absolute_error: 0.0641\n",
      "Epoch 177/250\n",
      " - 14s - loss: 0.0017 - predictions_nuclei_loss: 1.2174e-04 - predictions_counts_loss: 0.0016 - predictions_nuclei_my_accuracy_score: 1.0000 - predictions_nuclei_acc: 1.0000 - predictions_counts_mean_squared_error: 0.0016 - predictions_counts_mean_absolute_error: 0.0241 - val_loss: 0.0145 - val_predictions_nuclei_loss: 0.0049 - val_predictions_counts_loss: 0.0096 - val_predictions_nuclei_my_accuracy_score: 0.9600 - val_predictions_nuclei_acc: 0.9970 - val_predictions_counts_mean_squared_error: 0.0096 - val_predictions_counts_mean_absolute_error: 0.0606\n",
      "Epoch 178/250\n",
      " - 14s - loss: 0.0017 - predictions_nuclei_loss: 1.1854e-04 - predictions_counts_loss: 0.0016 - predictions_nuclei_my_accuracy_score: 1.0000 - predictions_nuclei_acc: 1.0000 - predictions_counts_mean_squared_error: 0.0016 - predictions_counts_mean_absolute_error: 0.0247 - val_loss: 0.0155 - val_predictions_nuclei_loss: 0.0058 - val_predictions_counts_loss: 0.0097 - val_predictions_nuclei_my_accuracy_score: 0.9600 - val_predictions_nuclei_acc: 0.9960 - val_predictions_counts_mean_squared_error: 0.0097 - val_predictions_counts_mean_absolute_error: 0.0604\n",
      "Epoch 179/250\n",
      " - 14s - loss: 0.0025 - predictions_nuclei_loss: 1.2071e-04 - predictions_counts_loss: 0.0024 - predictions_nuclei_my_accuracy_score: 1.0000 - predictions_nuclei_acc: 1.0000 - predictions_counts_mean_squared_error: 0.0024 - predictions_counts_mean_absolute_error: 0.0315 - val_loss: 0.0145 - val_predictions_nuclei_loss: 0.0045 - val_predictions_counts_loss: 0.0100 - val_predictions_nuclei_my_accuracy_score: 0.9600 - val_predictions_nuclei_acc: 0.9970 - val_predictions_counts_mean_squared_error: 0.0100 - val_predictions_counts_mean_absolute_error: 0.0625\n",
      "Epoch 180/250\n",
      " - 14s - loss: 0.0022 - predictions_nuclei_loss: 1.2015e-04 - predictions_counts_loss: 0.0021 - predictions_nuclei_my_accuracy_score: 1.0000 - predictions_nuclei_acc: 1.0000 - predictions_counts_mean_squared_error: 0.0021 - predictions_counts_mean_absolute_error: 0.0284 - val_loss: 0.0164 - val_predictions_nuclei_loss: 0.0036 - val_predictions_counts_loss: 0.0128 - val_predictions_nuclei_my_accuracy_score: 0.9600 - val_predictions_nuclei_acc: 1.0000 - val_predictions_counts_mean_squared_error: 0.0128 - val_predictions_counts_mean_absolute_error: 0.0690\n"
     ]
    },
    {
     "name": "stdout",
     "output_type": "stream",
     "text": [
      "Epoch 181/250\n",
      " - 14s - loss: 0.0018 - predictions_nuclei_loss: 1.1549e-04 - predictions_counts_loss: 0.0017 - predictions_nuclei_my_accuracy_score: 1.0000 - predictions_nuclei_acc: 1.0000 - predictions_counts_mean_squared_error: 0.0017 - predictions_counts_mean_absolute_error: 0.0256 - val_loss: 0.0161 - val_predictions_nuclei_loss: 0.0050 - val_predictions_counts_loss: 0.0111 - val_predictions_nuclei_my_accuracy_score: 0.9600 - val_predictions_nuclei_acc: 0.9970 - val_predictions_counts_mean_squared_error: 0.0111 - val_predictions_counts_mean_absolute_error: 0.0647\n",
      "Epoch 182/250\n",
      " - 14s - loss: 0.0017 - predictions_nuclei_loss: 1.1315e-04 - predictions_counts_loss: 0.0016 - predictions_nuclei_my_accuracy_score: 1.0000 - predictions_nuclei_acc: 1.0000 - predictions_counts_mean_squared_error: 0.0016 - predictions_counts_mean_absolute_error: 0.0249 - val_loss: 0.0152 - val_predictions_nuclei_loss: 0.0045 - val_predictions_counts_loss: 0.0107 - val_predictions_nuclei_my_accuracy_score: 0.9600 - val_predictions_nuclei_acc: 0.9970 - val_predictions_counts_mean_squared_error: 0.0107 - val_predictions_counts_mean_absolute_error: 0.0655\n",
      "Epoch 183/250\n",
      " - 14s - loss: 0.0016 - predictions_nuclei_loss: 1.1444e-04 - predictions_counts_loss: 0.0015 - predictions_nuclei_my_accuracy_score: 1.0000 - predictions_nuclei_acc: 1.0000 - predictions_counts_mean_squared_error: 0.0015 - predictions_counts_mean_absolute_error: 0.0241 - val_loss: 0.0155 - val_predictions_nuclei_loss: 0.0049 - val_predictions_counts_loss: 0.0106 - val_predictions_nuclei_my_accuracy_score: 0.9600 - val_predictions_nuclei_acc: 0.9960 - val_predictions_counts_mean_squared_error: 0.0106 - val_predictions_counts_mean_absolute_error: 0.0631\n",
      "Epoch 184/250\n",
      " - 14s - loss: 0.0018 - predictions_nuclei_loss: 1.0735e-04 - predictions_counts_loss: 0.0016 - predictions_nuclei_my_accuracy_score: 1.0000 - predictions_nuclei_acc: 1.0000 - predictions_counts_mean_squared_error: 0.0016 - predictions_counts_mean_absolute_error: 0.0254 - val_loss: 0.0140 - val_predictions_nuclei_loss: 0.0046 - val_predictions_counts_loss: 0.0094 - val_predictions_nuclei_my_accuracy_score: 0.9600 - val_predictions_nuclei_acc: 0.9970 - val_predictions_counts_mean_squared_error: 0.0094 - val_predictions_counts_mean_absolute_error: 0.0604\n",
      "Epoch 185/250\n",
      " - 14s - loss: 0.0014 - predictions_nuclei_loss: 1.0333e-04 - predictions_counts_loss: 0.0013 - predictions_nuclei_my_accuracy_score: 1.0000 - predictions_nuclei_acc: 1.0000 - predictions_counts_mean_squared_error: 0.0013 - predictions_counts_mean_absolute_error: 0.0225 - val_loss: 0.0123 - val_predictions_nuclei_loss: 0.0038 - val_predictions_counts_loss: 0.0085 - val_predictions_nuclei_my_accuracy_score: 0.9600 - val_predictions_nuclei_acc: 1.0000 - val_predictions_counts_mean_squared_error: 0.0085 - val_predictions_counts_mean_absolute_error: 0.0580\n",
      "Epoch 186/250\n",
      " - 14s - loss: 0.0015 - predictions_nuclei_loss: 1.0086e-04 - predictions_counts_loss: 0.0014 - predictions_nuclei_my_accuracy_score: 1.0000 - predictions_nuclei_acc: 1.0000 - predictions_counts_mean_squared_error: 0.0014 - predictions_counts_mean_absolute_error: 0.0231 - val_loss: 0.0143 - val_predictions_nuclei_loss: 0.0041 - val_predictions_counts_loss: 0.0102 - val_predictions_nuclei_my_accuracy_score: 0.9600 - val_predictions_nuclei_acc: 0.9970 - val_predictions_counts_mean_squared_error: 0.0102 - val_predictions_counts_mean_absolute_error: 0.0622\n",
      "Epoch 187/250\n",
      " - 14s - loss: 0.0016 - predictions_nuclei_loss: 9.7636e-05 - predictions_counts_loss: 0.0015 - predictions_nuclei_my_accuracy_score: 1.0000 - predictions_nuclei_acc: 1.0000 - predictions_counts_mean_squared_error: 0.0015 - predictions_counts_mean_absolute_error: 0.0235 - val_loss: 0.0142 - val_predictions_nuclei_loss: 0.0032 - val_predictions_counts_loss: 0.0110 - val_predictions_nuclei_my_accuracy_score: 0.9700 - val_predictions_nuclei_acc: 1.0000 - val_predictions_counts_mean_squared_error: 0.0110 - val_predictions_counts_mean_absolute_error: 0.0641\n",
      "Epoch 188/250\n",
      " - 14s - loss: 0.0016 - predictions_nuclei_loss: 9.6326e-05 - predictions_counts_loss: 0.0015 - predictions_nuclei_my_accuracy_score: 1.0000 - predictions_nuclei_acc: 1.0000 - predictions_counts_mean_squared_error: 0.0015 - predictions_counts_mean_absolute_error: 0.0243 - val_loss: 0.0148 - val_predictions_nuclei_loss: 0.0034 - val_predictions_counts_loss: 0.0114 - val_predictions_nuclei_my_accuracy_score: 0.9600 - val_predictions_nuclei_acc: 1.0000 - val_predictions_counts_mean_squared_error: 0.0114 - val_predictions_counts_mean_absolute_error: 0.0663\n",
      "Epoch 189/250\n",
      " - 14s - loss: 0.0015 - predictions_nuclei_loss: 9.8123e-05 - predictions_counts_loss: 0.0015 - predictions_nuclei_my_accuracy_score: 1.0000 - predictions_nuclei_acc: 1.0000 - predictions_counts_mean_squared_error: 0.0015 - predictions_counts_mean_absolute_error: 0.0244 - val_loss: 0.0139 - val_predictions_nuclei_loss: 0.0040 - val_predictions_counts_loss: 0.0099 - val_predictions_nuclei_my_accuracy_score: 0.9600 - val_predictions_nuclei_acc: 0.9970 - val_predictions_counts_mean_squared_error: 0.0099 - val_predictions_counts_mean_absolute_error: 0.0617\n",
      "Epoch 190/250\n",
      " - 14s - loss: 0.0014 - predictions_nuclei_loss: 9.4479e-05 - predictions_counts_loss: 0.0013 - predictions_nuclei_my_accuracy_score: 1.0000 - predictions_nuclei_acc: 1.0000 - predictions_counts_mean_squared_error: 0.0013 - predictions_counts_mean_absolute_error: 0.0221 - val_loss: 0.0136 - val_predictions_nuclei_loss: 0.0037 - val_predictions_counts_loss: 0.0099 - val_predictions_nuclei_my_accuracy_score: 0.9600 - val_predictions_nuclei_acc: 1.0000 - val_predictions_counts_mean_squared_error: 0.0099 - val_predictions_counts_mean_absolute_error: 0.0612\n",
      "Epoch 191/250\n",
      " - 14s - loss: 0.0016 - predictions_nuclei_loss: 9.1047e-05 - predictions_counts_loss: 0.0015 - predictions_nuclei_my_accuracy_score: 1.0000 - predictions_nuclei_acc: 1.0000 - predictions_counts_mean_squared_error: 0.0015 - predictions_counts_mean_absolute_error: 0.0248 - val_loss: 0.0134 - val_predictions_nuclei_loss: 0.0051 - val_predictions_counts_loss: 0.0083 - val_predictions_nuclei_my_accuracy_score: 0.9600 - val_predictions_nuclei_acc: 0.9960 - val_predictions_counts_mean_squared_error: 0.0083 - val_predictions_counts_mean_absolute_error: 0.0567\n",
      "Epoch 192/250\n",
      " - 14s - loss: 0.0015 - predictions_nuclei_loss: 9.2286e-05 - predictions_counts_loss: 0.0014 - predictions_nuclei_my_accuracy_score: 1.0000 - predictions_nuclei_acc: 1.0000 - predictions_counts_mean_squared_error: 0.0014 - predictions_counts_mean_absolute_error: 0.0237 - val_loss: 0.0139 - val_predictions_nuclei_loss: 0.0038 - val_predictions_counts_loss: 0.0101 - val_predictions_nuclei_my_accuracy_score: 0.9600 - val_predictions_nuclei_acc: 1.0000 - val_predictions_counts_mean_squared_error: 0.0101 - val_predictions_counts_mean_absolute_error: 0.0601\n",
      "Epoch 193/250\n",
      " - 14s - loss: 0.0014 - predictions_nuclei_loss: 8.7816e-05 - predictions_counts_loss: 0.0013 - predictions_nuclei_my_accuracy_score: 1.0000 - predictions_nuclei_acc: 1.0000 - predictions_counts_mean_squared_error: 0.0013 - predictions_counts_mean_absolute_error: 0.0221 - val_loss: 0.0134 - val_predictions_nuclei_loss: 0.0036 - val_predictions_counts_loss: 0.0098 - val_predictions_nuclei_my_accuracy_score: 0.9700 - val_predictions_nuclei_acc: 1.0000 - val_predictions_counts_mean_squared_error: 0.0098 - val_predictions_counts_mean_absolute_error: 0.0605\n",
      "Epoch 194/250\n",
      " - 14s - loss: 0.0013 - predictions_nuclei_loss: 8.7600e-05 - predictions_counts_loss: 0.0012 - predictions_nuclei_my_accuracy_score: 1.0000 - predictions_nuclei_acc: 1.0000 - predictions_counts_mean_squared_error: 0.0012 - predictions_counts_mean_absolute_error: 0.0216 - val_loss: 0.0152 - val_predictions_nuclei_loss: 0.0044 - val_predictions_counts_loss: 0.0108 - val_predictions_nuclei_my_accuracy_score: 0.9600 - val_predictions_nuclei_acc: 0.9970 - val_predictions_counts_mean_squared_error: 0.0108 - val_predictions_counts_mean_absolute_error: 0.0624\n",
      "Epoch 195/250\n",
      " - 14s - loss: 0.0012 - predictions_nuclei_loss: 8.2972e-05 - predictions_counts_loss: 0.0011 - predictions_nuclei_my_accuracy_score: 1.0000 - predictions_nuclei_acc: 1.0000 - predictions_counts_mean_squared_error: 0.0011 - predictions_counts_mean_absolute_error: 0.0211 - val_loss: 0.0129 - val_predictions_nuclei_loss: 0.0042 - val_predictions_counts_loss: 0.0087 - val_predictions_nuclei_my_accuracy_score: 0.9600 - val_predictions_nuclei_acc: 0.9970 - val_predictions_counts_mean_squared_error: 0.0087 - val_predictions_counts_mean_absolute_error: 0.0581\n"
     ]
    },
    {
     "name": "stdout",
     "output_type": "stream",
     "text": [
      "Epoch 196/250\n",
      " - 14s - loss: 0.0013 - predictions_nuclei_loss: 8.4085e-05 - predictions_counts_loss: 0.0012 - predictions_nuclei_my_accuracy_score: 1.0000 - predictions_nuclei_acc: 1.0000 - predictions_counts_mean_squared_error: 0.0012 - predictions_counts_mean_absolute_error: 0.0212 - val_loss: 0.0127 - val_predictions_nuclei_loss: 0.0033 - val_predictions_counts_loss: 0.0093 - val_predictions_nuclei_my_accuracy_score: 0.9800 - val_predictions_nuclei_acc: 1.0000 - val_predictions_counts_mean_squared_error: 0.0093 - val_predictions_counts_mean_absolute_error: 0.0594\n",
      "Epoch 197/250\n",
      " - 14s - loss: 0.0012 - predictions_nuclei_loss: 8.3692e-05 - predictions_counts_loss: 0.0011 - predictions_nuclei_my_accuracy_score: 1.0000 - predictions_nuclei_acc: 1.0000 - predictions_counts_mean_squared_error: 0.0011 - predictions_counts_mean_absolute_error: 0.0211 - val_loss: 0.0139 - val_predictions_nuclei_loss: 0.0043 - val_predictions_counts_loss: 0.0095 - val_predictions_nuclei_my_accuracy_score: 0.9600 - val_predictions_nuclei_acc: 0.9970 - val_predictions_counts_mean_squared_error: 0.0095 - val_predictions_counts_mean_absolute_error: 0.0590\n",
      "Epoch 198/250\n",
      " - 14s - loss: 0.0012 - predictions_nuclei_loss: 8.0428e-05 - predictions_counts_loss: 0.0011 - predictions_nuclei_my_accuracy_score: 1.0000 - predictions_nuclei_acc: 1.0000 - predictions_counts_mean_squared_error: 0.0011 - predictions_counts_mean_absolute_error: 0.0202 - val_loss: 0.0125 - val_predictions_nuclei_loss: 0.0038 - val_predictions_counts_loss: 0.0087 - val_predictions_nuclei_my_accuracy_score: 0.9600 - val_predictions_nuclei_acc: 0.9970 - val_predictions_counts_mean_squared_error: 0.0087 - val_predictions_counts_mean_absolute_error: 0.0585\n",
      "Epoch 199/250\n",
      " - 14s - loss: 0.0011 - predictions_nuclei_loss: 7.6783e-05 - predictions_counts_loss: 0.0010 - predictions_nuclei_my_accuracy_score: 1.0000 - predictions_nuclei_acc: 1.0000 - predictions_counts_mean_squared_error: 0.0010 - predictions_counts_mean_absolute_error: 0.0200 - val_loss: 0.0134 - val_predictions_nuclei_loss: 0.0039 - val_predictions_counts_loss: 0.0095 - val_predictions_nuclei_my_accuracy_score: 0.9600 - val_predictions_nuclei_acc: 0.9970 - val_predictions_counts_mean_squared_error: 0.0095 - val_predictions_counts_mean_absolute_error: 0.0612\n",
      "Epoch 200/250\n",
      " - 14s - loss: 0.0011 - predictions_nuclei_loss: 8.0895e-05 - predictions_counts_loss: 0.0010 - predictions_nuclei_my_accuracy_score: 1.0000 - predictions_nuclei_acc: 1.0000 - predictions_counts_mean_squared_error: 0.0010 - predictions_counts_mean_absolute_error: 0.0203 - val_loss: 0.0126 - val_predictions_nuclei_loss: 0.0037 - val_predictions_counts_loss: 0.0090 - val_predictions_nuclei_my_accuracy_score: 0.9700 - val_predictions_nuclei_acc: 1.0000 - val_predictions_counts_mean_squared_error: 0.0090 - val_predictions_counts_mean_absolute_error: 0.0589\n",
      "Epoch 201/250\n",
      " - 14s - loss: 0.0010 - predictions_nuclei_loss: 7.4640e-05 - predictions_counts_loss: 9.4575e-04 - predictions_nuclei_my_accuracy_score: 1.0000 - predictions_nuclei_acc: 1.0000 - predictions_counts_mean_squared_error: 9.4575e-04 - predictions_counts_mean_absolute_error: 0.0189 - val_loss: 0.0118 - val_predictions_nuclei_loss: 0.0033 - val_predictions_counts_loss: 0.0085 - val_predictions_nuclei_my_accuracy_score: 0.9800 - val_predictions_nuclei_acc: 1.0000 - val_predictions_counts_mean_squared_error: 0.0085 - val_predictions_counts_mean_absolute_error: 0.0573\n",
      "Epoch 202/250\n",
      " - 14s - loss: 0.0013 - predictions_nuclei_loss: 7.6677e-05 - predictions_counts_loss: 0.0012 - predictions_nuclei_my_accuracy_score: 1.0000 - predictions_nuclei_acc: 1.0000 - predictions_counts_mean_squared_error: 0.0012 - predictions_counts_mean_absolute_error: 0.0224 - val_loss: 0.0124 - val_predictions_nuclei_loss: 0.0033 - val_predictions_counts_loss: 0.0091 - val_predictions_nuclei_my_accuracy_score: 0.9700 - val_predictions_nuclei_acc: 1.0000 - val_predictions_counts_mean_squared_error: 0.0091 - val_predictions_counts_mean_absolute_error: 0.0596\n",
      "Epoch 203/250\n",
      " - 14s - loss: 0.0011 - predictions_nuclei_loss: 7.5153e-05 - predictions_counts_loss: 0.0011 - predictions_nuclei_my_accuracy_score: 1.0000 - predictions_nuclei_acc: 1.0000 - predictions_counts_mean_squared_error: 0.0011 - predictions_counts_mean_absolute_error: 0.0201 - val_loss: 0.0125 - val_predictions_nuclei_loss: 0.0035 - val_predictions_counts_loss: 0.0090 - val_predictions_nuclei_my_accuracy_score: 0.9800 - val_predictions_nuclei_acc: 1.0000 - val_predictions_counts_mean_squared_error: 0.0090 - val_predictions_counts_mean_absolute_error: 0.0597\n",
      "Epoch 204/250\n",
      " - 14s - loss: 0.0013 - predictions_nuclei_loss: 7.3179e-05 - predictions_counts_loss: 0.0012 - predictions_nuclei_my_accuracy_score: 1.0000 - predictions_nuclei_acc: 1.0000 - predictions_counts_mean_squared_error: 0.0012 - predictions_counts_mean_absolute_error: 0.0216 - val_loss: 0.0124 - val_predictions_nuclei_loss: 0.0048 - val_predictions_counts_loss: 0.0076 - val_predictions_nuclei_my_accuracy_score: 0.9600 - val_predictions_nuclei_acc: 0.9970 - val_predictions_counts_mean_squared_error: 0.0076 - val_predictions_counts_mean_absolute_error: 0.0544\n",
      "Epoch 205/250\n",
      " - 14s - loss: 0.0012 - predictions_nuclei_loss: 7.4249e-05 - predictions_counts_loss: 0.0011 - predictions_nuclei_my_accuracy_score: 1.0000 - predictions_nuclei_acc: 1.0000 - predictions_counts_mean_squared_error: 0.0011 - predictions_counts_mean_absolute_error: 0.0214 - val_loss: 0.0137 - val_predictions_nuclei_loss: 0.0037 - val_predictions_counts_loss: 0.0100 - val_predictions_nuclei_my_accuracy_score: 0.9600 - val_predictions_nuclei_acc: 0.9970 - val_predictions_counts_mean_squared_error: 0.0100 - val_predictions_counts_mean_absolute_error: 0.0644\n",
      "Epoch 206/250\n",
      " - 14s - loss: 0.0017 - predictions_nuclei_loss: 7.5835e-05 - predictions_counts_loss: 0.0017 - predictions_nuclei_my_accuracy_score: 1.0000 - predictions_nuclei_acc: 1.0000 - predictions_counts_mean_squared_error: 0.0017 - predictions_counts_mean_absolute_error: 0.0260 - val_loss: 0.0126 - val_predictions_nuclei_loss: 0.0039 - val_predictions_counts_loss: 0.0087 - val_predictions_nuclei_my_accuracy_score: 0.9600 - val_predictions_nuclei_acc: 0.9970 - val_predictions_counts_mean_squared_error: 0.0087 - val_predictions_counts_mean_absolute_error: 0.0578\n",
      "Epoch 207/250\n",
      " - 14s - loss: 0.0011 - predictions_nuclei_loss: 7.1062e-05 - predictions_counts_loss: 0.0010 - predictions_nuclei_my_accuracy_score: 1.0000 - predictions_nuclei_acc: 1.0000 - predictions_counts_mean_squared_error: 0.0010 - predictions_counts_mean_absolute_error: 0.0198 - val_loss: 0.0124 - val_predictions_nuclei_loss: 0.0040 - val_predictions_counts_loss: 0.0084 - val_predictions_nuclei_my_accuracy_score: 0.9700 - val_predictions_nuclei_acc: 0.9970 - val_predictions_counts_mean_squared_error: 0.0084 - val_predictions_counts_mean_absolute_error: 0.0585\n",
      "Epoch 208/250\n",
      " - 14s - loss: 9.9808e-04 - predictions_nuclei_loss: 7.0881e-05 - predictions_counts_loss: 9.2720e-04 - predictions_nuclei_my_accuracy_score: 1.0000 - predictions_nuclei_acc: 1.0000 - predictions_counts_mean_squared_error: 9.2720e-04 - predictions_counts_mean_absolute_error: 0.0185 - val_loss: 0.0141 - val_predictions_nuclei_loss: 0.0046 - val_predictions_counts_loss: 0.0095 - val_predictions_nuclei_my_accuracy_score: 0.9600 - val_predictions_nuclei_acc: 0.9970 - val_predictions_counts_mean_squared_error: 0.0095 - val_predictions_counts_mean_absolute_error: 0.0587\n",
      "Epoch 209/250\n",
      " - 14s - loss: 9.3048e-04 - predictions_nuclei_loss: 7.0262e-05 - predictions_counts_loss: 8.6022e-04 - predictions_nuclei_my_accuracy_score: 1.0000 - predictions_nuclei_acc: 1.0000 - predictions_counts_mean_squared_error: 8.6022e-04 - predictions_counts_mean_absolute_error: 0.0181 - val_loss: 0.0129 - val_predictions_nuclei_loss: 0.0032 - val_predictions_counts_loss: 0.0097 - val_predictions_nuclei_my_accuracy_score: 0.9800 - val_predictions_nuclei_acc: 1.0000 - val_predictions_counts_mean_squared_error: 0.0097 - val_predictions_counts_mean_absolute_error: 0.0605\n",
      "Epoch 210/250\n",
      " - 14s - loss: 9.1957e-04 - predictions_nuclei_loss: 6.7306e-05 - predictions_counts_loss: 8.5226e-04 - predictions_nuclei_my_accuracy_score: 1.0000 - predictions_nuclei_acc: 1.0000 - predictions_counts_mean_squared_error: 8.5226e-04 - predictions_counts_mean_absolute_error: 0.0180 - val_loss: 0.0119 - val_predictions_nuclei_loss: 0.0035 - val_predictions_counts_loss: 0.0084 - val_predictions_nuclei_my_accuracy_score: 0.9800 - val_predictions_nuclei_acc: 1.0000 - val_predictions_counts_mean_squared_error: 0.0084 - val_predictions_counts_mean_absolute_error: 0.0578\n"
     ]
    },
    {
     "name": "stdout",
     "output_type": "stream",
     "text": [
      "Epoch 211/250\n",
      " - 14s - loss: 8.8812e-04 - predictions_nuclei_loss: 6.5267e-05 - predictions_counts_loss: 8.2285e-04 - predictions_nuclei_my_accuracy_score: 1.0000 - predictions_nuclei_acc: 1.0000 - predictions_counts_mean_squared_error: 8.2285e-04 - predictions_counts_mean_absolute_error: 0.0174 - val_loss: 0.0123 - val_predictions_nuclei_loss: 0.0029 - val_predictions_counts_loss: 0.0095 - val_predictions_nuclei_my_accuracy_score: 0.9900 - val_predictions_nuclei_acc: 1.0000 - val_predictions_counts_mean_squared_error: 0.0095 - val_predictions_counts_mean_absolute_error: 0.0607\n",
      "Epoch 212/250\n",
      " - 14s - loss: 9.9336e-04 - predictions_nuclei_loss: 6.7394e-05 - predictions_counts_loss: 9.2597e-04 - predictions_nuclei_my_accuracy_score: 1.0000 - predictions_nuclei_acc: 1.0000 - predictions_counts_mean_squared_error: 9.2597e-04 - predictions_counts_mean_absolute_error: 0.0193 - val_loss: 0.0124 - val_predictions_nuclei_loss: 0.0041 - val_predictions_counts_loss: 0.0083 - val_predictions_nuclei_my_accuracy_score: 0.9600 - val_predictions_nuclei_acc: 0.9970 - val_predictions_counts_mean_squared_error: 0.0083 - val_predictions_counts_mean_absolute_error: 0.0569\n",
      "Epoch 213/250\n",
      " - 14s - loss: 8.6470e-04 - predictions_nuclei_loss: 6.3123e-05 - predictions_counts_loss: 8.0158e-04 - predictions_nuclei_my_accuracy_score: 1.0000 - predictions_nuclei_acc: 1.0000 - predictions_counts_mean_squared_error: 8.0158e-04 - predictions_counts_mean_absolute_error: 0.0173 - val_loss: 0.0119 - val_predictions_nuclei_loss: 0.0039 - val_predictions_counts_loss: 0.0080 - val_predictions_nuclei_my_accuracy_score: 0.9700 - val_predictions_nuclei_acc: 0.9970 - val_predictions_counts_mean_squared_error: 0.0080 - val_predictions_counts_mean_absolute_error: 0.0543\n",
      "Epoch 214/250\n",
      " - 14s - loss: 7.4125e-04 - predictions_nuclei_loss: 6.3631e-05 - predictions_counts_loss: 6.7762e-04 - predictions_nuclei_my_accuracy_score: 1.0000 - predictions_nuclei_acc: 1.0000 - predictions_counts_mean_squared_error: 6.7762e-04 - predictions_counts_mean_absolute_error: 0.0157 - val_loss: 0.0120 - val_predictions_nuclei_loss: 0.0037 - val_predictions_counts_loss: 0.0083 - val_predictions_nuclei_my_accuracy_score: 0.9800 - val_predictions_nuclei_acc: 0.9970 - val_predictions_counts_mean_squared_error: 0.0083 - val_predictions_counts_mean_absolute_error: 0.0564\n",
      "Epoch 215/250\n",
      " - 14s - loss: 9.1302e-04 - predictions_nuclei_loss: 6.0543e-05 - predictions_counts_loss: 8.5248e-04 - predictions_nuclei_my_accuracy_score: 1.0000 - predictions_nuclei_acc: 1.0000 - predictions_counts_mean_squared_error: 8.5248e-04 - predictions_counts_mean_absolute_error: 0.0182 - val_loss: 0.0126 - val_predictions_nuclei_loss: 0.0039 - val_predictions_counts_loss: 0.0087 - val_predictions_nuclei_my_accuracy_score: 0.9800 - val_predictions_nuclei_acc: 0.9970 - val_predictions_counts_mean_squared_error: 0.0087 - val_predictions_counts_mean_absolute_error: 0.0571\n",
      "Epoch 216/250\n",
      " - 14s - loss: 9.6843e-04 - predictions_nuclei_loss: 6.1032e-05 - predictions_counts_loss: 9.0739e-04 - predictions_nuclei_my_accuracy_score: 1.0000 - predictions_nuclei_acc: 1.0000 - predictions_counts_mean_squared_error: 9.0739e-04 - predictions_counts_mean_absolute_error: 0.0190 - val_loss: 0.0134 - val_predictions_nuclei_loss: 0.0044 - val_predictions_counts_loss: 0.0090 - val_predictions_nuclei_my_accuracy_score: 0.9600 - val_predictions_nuclei_acc: 0.9970 - val_predictions_counts_mean_squared_error: 0.0090 - val_predictions_counts_mean_absolute_error: 0.0574\n",
      "Epoch 217/250\n",
      " - 14s - loss: 0.0010 - predictions_nuclei_loss: 6.1435e-05 - predictions_counts_loss: 9.5744e-04 - predictions_nuclei_my_accuracy_score: 1.0000 - predictions_nuclei_acc: 1.0000 - predictions_counts_mean_squared_error: 9.5744e-04 - predictions_counts_mean_absolute_error: 0.0195 - val_loss: 0.0123 - val_predictions_nuclei_loss: 0.0038 - val_predictions_counts_loss: 0.0085 - val_predictions_nuclei_my_accuracy_score: 0.9700 - val_predictions_nuclei_acc: 0.9970 - val_predictions_counts_mean_squared_error: 0.0085 - val_predictions_counts_mean_absolute_error: 0.0568\n",
      "Epoch 218/250\n",
      " - 14s - loss: 0.0010 - predictions_nuclei_loss: 6.2640e-05 - predictions_counts_loss: 9.4060e-04 - predictions_nuclei_my_accuracy_score: 1.0000 - predictions_nuclei_acc: 1.0000 - predictions_counts_mean_squared_error: 9.4060e-04 - predictions_counts_mean_absolute_error: 0.0193 - val_loss: 0.0123 - val_predictions_nuclei_loss: 0.0041 - val_predictions_counts_loss: 0.0082 - val_predictions_nuclei_my_accuracy_score: 0.9700 - val_predictions_nuclei_acc: 0.9970 - val_predictions_counts_mean_squared_error: 0.0082 - val_predictions_counts_mean_absolute_error: 0.0565\n",
      "Epoch 219/250\n",
      " - 14s - loss: 7.7072e-04 - predictions_nuclei_loss: 5.9743e-05 - predictions_counts_loss: 7.1097e-04 - predictions_nuclei_my_accuracy_score: 1.0000 - predictions_nuclei_acc: 1.0000 - predictions_counts_mean_squared_error: 7.1097e-04 - predictions_counts_mean_absolute_error: 0.0164 - val_loss: 0.0129 - val_predictions_nuclei_loss: 0.0039 - val_predictions_counts_loss: 0.0089 - val_predictions_nuclei_my_accuracy_score: 0.9600 - val_predictions_nuclei_acc: 0.9970 - val_predictions_counts_mean_squared_error: 0.0089 - val_predictions_counts_mean_absolute_error: 0.0577\n",
      "Epoch 220/250\n",
      " - 14s - loss: 7.7015e-04 - predictions_nuclei_loss: 5.8004e-05 - predictions_counts_loss: 7.1214e-04 - predictions_nuclei_my_accuracy_score: 1.0000 - predictions_nuclei_acc: 1.0000 - predictions_counts_mean_squared_error: 7.1214e-04 - predictions_counts_mean_absolute_error: 0.0162 - val_loss: 0.0121 - val_predictions_nuclei_loss: 0.0038 - val_predictions_counts_loss: 0.0083 - val_predictions_nuclei_my_accuracy_score: 0.9800 - val_predictions_nuclei_acc: 0.9970 - val_predictions_counts_mean_squared_error: 0.0083 - val_predictions_counts_mean_absolute_error: 0.0549\n",
      "Epoch 221/250\n",
      " - 14s - loss: 7.8013e-04 - predictions_nuclei_loss: 5.6749e-05 - predictions_counts_loss: 7.2338e-04 - predictions_nuclei_my_accuracy_score: 1.0000 - predictions_nuclei_acc: 1.0000 - predictions_counts_mean_squared_error: 7.2338e-04 - predictions_counts_mean_absolute_error: 0.0167 - val_loss: 0.0120 - val_predictions_nuclei_loss: 0.0038 - val_predictions_counts_loss: 0.0082 - val_predictions_nuclei_my_accuracy_score: 0.9700 - val_predictions_nuclei_acc: 0.9970 - val_predictions_counts_mean_squared_error: 0.0082 - val_predictions_counts_mean_absolute_error: 0.0576\n",
      "Epoch 222/250\n",
      " - 14s - loss: 7.4707e-04 - predictions_nuclei_loss: 5.7828e-05 - predictions_counts_loss: 6.8924e-04 - predictions_nuclei_my_accuracy_score: 1.0000 - predictions_nuclei_acc: 1.0000 - predictions_counts_mean_squared_error: 6.8924e-04 - predictions_counts_mean_absolute_error: 0.0160 - val_loss: 0.0120 - val_predictions_nuclei_loss: 0.0034 - val_predictions_counts_loss: 0.0086 - val_predictions_nuclei_my_accuracy_score: 0.9700 - val_predictions_nuclei_acc: 1.0000 - val_predictions_counts_mean_squared_error: 0.0086 - val_predictions_counts_mean_absolute_error: 0.0576\n",
      "Epoch 223/250\n",
      " - 14s - loss: 7.5011e-04 - predictions_nuclei_loss: 5.4335e-05 - predictions_counts_loss: 6.9578e-04 - predictions_nuclei_my_accuracy_score: 1.0000 - predictions_nuclei_acc: 1.0000 - predictions_counts_mean_squared_error: 6.9578e-04 - predictions_counts_mean_absolute_error: 0.0164 - val_loss: 0.0110 - val_predictions_nuclei_loss: 0.0037 - val_predictions_counts_loss: 0.0073 - val_predictions_nuclei_my_accuracy_score: 0.9800 - val_predictions_nuclei_acc: 0.9970 - val_predictions_counts_mean_squared_error: 0.0073 - val_predictions_counts_mean_absolute_error: 0.0548\n",
      "Epoch 224/250\n",
      " - 14s - loss: 7.9933e-04 - predictions_nuclei_loss: 5.3901e-05 - predictions_counts_loss: 7.4543e-04 - predictions_nuclei_my_accuracy_score: 1.0000 - predictions_nuclei_acc: 1.0000 - predictions_counts_mean_squared_error: 7.4543e-04 - predictions_counts_mean_absolute_error: 0.0167 - val_loss: 0.0128 - val_predictions_nuclei_loss: 0.0041 - val_predictions_counts_loss: 0.0087 - val_predictions_nuclei_my_accuracy_score: 0.9800 - val_predictions_nuclei_acc: 0.9970 - val_predictions_counts_mean_squared_error: 0.0087 - val_predictions_counts_mean_absolute_error: 0.0585\n",
      "Epoch 225/250\n"
     ]
    },
    {
     "name": "stdout",
     "output_type": "stream",
     "text": [
      " - 14s - loss: 8.1250e-04 - predictions_nuclei_loss: 5.4621e-05 - predictions_counts_loss: 7.5788e-04 - predictions_nuclei_my_accuracy_score: 1.0000 - predictions_nuclei_acc: 1.0000 - predictions_counts_mean_squared_error: 7.5788e-04 - predictions_counts_mean_absolute_error: 0.0170 - val_loss: 0.0119 - val_predictions_nuclei_loss: 0.0035 - val_predictions_counts_loss: 0.0084 - val_predictions_nuclei_my_accuracy_score: 0.9800 - val_predictions_nuclei_acc: 1.0000 - val_predictions_counts_mean_squared_error: 0.0084 - val_predictions_counts_mean_absolute_error: 0.0575\n",
      "Epoch 226/250\n",
      " - 14s - loss: 7.1912e-04 - predictions_nuclei_loss: 5.3229e-05 - predictions_counts_loss: 6.6589e-04 - predictions_nuclei_my_accuracy_score: 1.0000 - predictions_nuclei_acc: 1.0000 - predictions_counts_mean_squared_error: 6.6589e-04 - predictions_counts_mean_absolute_error: 0.0160 - val_loss: 0.0118 - val_predictions_nuclei_loss: 0.0040 - val_predictions_counts_loss: 0.0078 - val_predictions_nuclei_my_accuracy_score: 0.9700 - val_predictions_nuclei_acc: 0.9970 - val_predictions_counts_mean_squared_error: 0.0078 - val_predictions_counts_mean_absolute_error: 0.0549\n",
      "Epoch 227/250\n",
      " - 14s - loss: 8.4223e-04 - predictions_nuclei_loss: 5.1812e-05 - predictions_counts_loss: 7.9041e-04 - predictions_nuclei_my_accuracy_score: 1.0000 - predictions_nuclei_acc: 1.0000 - predictions_counts_mean_squared_error: 7.9041e-04 - predictions_counts_mean_absolute_error: 0.0174 - val_loss: 0.0123 - val_predictions_nuclei_loss: 0.0039 - val_predictions_counts_loss: 0.0083 - val_predictions_nuclei_my_accuracy_score: 0.9800 - val_predictions_nuclei_acc: 0.9970 - val_predictions_counts_mean_squared_error: 0.0083 - val_predictions_counts_mean_absolute_error: 0.0564\n",
      "Epoch 228/250\n",
      " - 14s - loss: 8.4618e-04 - predictions_nuclei_loss: 5.3564e-05 - predictions_counts_loss: 7.9262e-04 - predictions_nuclei_my_accuracy_score: 1.0000 - predictions_nuclei_acc: 1.0000 - predictions_counts_mean_squared_error: 7.9262e-04 - predictions_counts_mean_absolute_error: 0.0174 - val_loss: 0.0130 - val_predictions_nuclei_loss: 0.0046 - val_predictions_counts_loss: 0.0084 - val_predictions_nuclei_my_accuracy_score: 0.9700 - val_predictions_nuclei_acc: 0.9970 - val_predictions_counts_mean_squared_error: 0.0084 - val_predictions_counts_mean_absolute_error: 0.0562\n",
      "Epoch 229/250\n",
      " - 14s - loss: 8.6976e-04 - predictions_nuclei_loss: 5.1727e-05 - predictions_counts_loss: 8.1804e-04 - predictions_nuclei_my_accuracy_score: 1.0000 - predictions_nuclei_acc: 1.0000 - predictions_counts_mean_squared_error: 8.1804e-04 - predictions_counts_mean_absolute_error: 0.0178 - val_loss: 0.0115 - val_predictions_nuclei_loss: 0.0035 - val_predictions_counts_loss: 0.0080 - val_predictions_nuclei_my_accuracy_score: 0.9900 - val_predictions_nuclei_acc: 0.9970 - val_predictions_counts_mean_squared_error: 0.0080 - val_predictions_counts_mean_absolute_error: 0.0557\n",
      "Epoch 230/250\n",
      " - 14s - loss: 7.2059e-04 - predictions_nuclei_loss: 5.1090e-05 - predictions_counts_loss: 6.6950e-04 - predictions_nuclei_my_accuracy_score: 1.0000 - predictions_nuclei_acc: 1.0000 - predictions_counts_mean_squared_error: 6.6950e-04 - predictions_counts_mean_absolute_error: 0.0157 - val_loss: 0.0117 - val_predictions_nuclei_loss: 0.0038 - val_predictions_counts_loss: 0.0079 - val_predictions_nuclei_my_accuracy_score: 0.9800 - val_predictions_nuclei_acc: 0.9970 - val_predictions_counts_mean_squared_error: 0.0079 - val_predictions_counts_mean_absolute_error: 0.0550\n",
      "Epoch 231/250\n",
      " - 14s - loss: 6.5615e-04 - predictions_nuclei_loss: 5.0250e-05 - predictions_counts_loss: 6.0590e-04 - predictions_nuclei_my_accuracy_score: 1.0000 - predictions_nuclei_acc: 1.0000 - predictions_counts_mean_squared_error: 6.0590e-04 - predictions_counts_mean_absolute_error: 0.0151 - val_loss: 0.0129 - val_predictions_nuclei_loss: 0.0050 - val_predictions_counts_loss: 0.0079 - val_predictions_nuclei_my_accuracy_score: 0.9800 - val_predictions_nuclei_acc: 0.9970 - val_predictions_counts_mean_squared_error: 0.0079 - val_predictions_counts_mean_absolute_error: 0.0548\n",
      "Epoch 232/250\n",
      " - 14s - loss: 6.6027e-04 - predictions_nuclei_loss: 4.8757e-05 - predictions_counts_loss: 6.1151e-04 - predictions_nuclei_my_accuracy_score: 1.0000 - predictions_nuclei_acc: 1.0000 - predictions_counts_mean_squared_error: 6.1151e-04 - predictions_counts_mean_absolute_error: 0.0155 - val_loss: 0.0117 - val_predictions_nuclei_loss: 0.0037 - val_predictions_counts_loss: 0.0080 - val_predictions_nuclei_my_accuracy_score: 0.9700 - val_predictions_nuclei_acc: 0.9970 - val_predictions_counts_mean_squared_error: 0.0080 - val_predictions_counts_mean_absolute_error: 0.0550\n",
      "Epoch 233/250\n",
      " - 14s - loss: 5.9724e-04 - predictions_nuclei_loss: 4.8416e-05 - predictions_counts_loss: 5.4883e-04 - predictions_nuclei_my_accuracy_score: 1.0000 - predictions_nuclei_acc: 1.0000 - predictions_counts_mean_squared_error: 5.4883e-04 - predictions_counts_mean_absolute_error: 0.0142 - val_loss: 0.0132 - val_predictions_nuclei_loss: 0.0039 - val_predictions_counts_loss: 0.0093 - val_predictions_nuclei_my_accuracy_score: 0.9700 - val_predictions_nuclei_acc: 0.9970 - val_predictions_counts_mean_squared_error: 0.0093 - val_predictions_counts_mean_absolute_error: 0.0582\n",
      "Epoch 234/250\n",
      " - 14s - loss: 6.1607e-04 - predictions_nuclei_loss: 4.8052e-05 - predictions_counts_loss: 5.6802e-04 - predictions_nuclei_my_accuracy_score: 1.0000 - predictions_nuclei_acc: 1.0000 - predictions_counts_mean_squared_error: 5.6802e-04 - predictions_counts_mean_absolute_error: 0.0147 - val_loss: 0.0118 - val_predictions_nuclei_loss: 0.0038 - val_predictions_counts_loss: 0.0080 - val_predictions_nuclei_my_accuracy_score: 0.9800 - val_predictions_nuclei_acc: 0.9970 - val_predictions_counts_mean_squared_error: 0.0080 - val_predictions_counts_mean_absolute_error: 0.0547\n",
      "Epoch 235/250\n",
      " - 14s - loss: 5.2871e-04 - predictions_nuclei_loss: 4.6591e-05 - predictions_counts_loss: 4.8212e-04 - predictions_nuclei_my_accuracy_score: 1.0000 - predictions_nuclei_acc: 1.0000 - predictions_counts_mean_squared_error: 4.8212e-04 - predictions_counts_mean_absolute_error: 0.0129 - val_loss: 0.0121 - val_predictions_nuclei_loss: 0.0039 - val_predictions_counts_loss: 0.0081 - val_predictions_nuclei_my_accuracy_score: 0.9700 - val_predictions_nuclei_acc: 0.9970 - val_predictions_counts_mean_squared_error: 0.0081 - val_predictions_counts_mean_absolute_error: 0.0567\n",
      "Epoch 236/250\n",
      " - 14s - loss: 7.1595e-04 - predictions_nuclei_loss: 4.5417e-05 - predictions_counts_loss: 6.7053e-04 - predictions_nuclei_my_accuracy_score: 1.0000 - predictions_nuclei_acc: 1.0000 - predictions_counts_mean_squared_error: 6.7053e-04 - predictions_counts_mean_absolute_error: 0.0157 - val_loss: 0.0119 - val_predictions_nuclei_loss: 0.0037 - val_predictions_counts_loss: 0.0082 - val_predictions_nuclei_my_accuracy_score: 0.9900 - val_predictions_nuclei_acc: 0.9970 - val_predictions_counts_mean_squared_error: 0.0082 - val_predictions_counts_mean_absolute_error: 0.0571\n",
      "Epoch 237/250\n",
      " - 14s - loss: 5.9394e-04 - predictions_nuclei_loss: 4.6320e-05 - predictions_counts_loss: 5.4762e-04 - predictions_nuclei_my_accuracy_score: 1.0000 - predictions_nuclei_acc: 1.0000 - predictions_counts_mean_squared_error: 5.4762e-04 - predictions_counts_mean_absolute_error: 0.0144 - val_loss: 0.0122 - val_predictions_nuclei_loss: 0.0042 - val_predictions_counts_loss: 0.0080 - val_predictions_nuclei_my_accuracy_score: 0.9700 - val_predictions_nuclei_acc: 0.9970 - val_predictions_counts_mean_squared_error: 0.0080 - val_predictions_counts_mean_absolute_error: 0.0557\n",
      "Epoch 238/250\n",
      " - 14s - loss: 5.5000e-04 - predictions_nuclei_loss: 4.6055e-05 - predictions_counts_loss: 5.0395e-04 - predictions_nuclei_my_accuracy_score: 1.0000 - predictions_nuclei_acc: 1.0000 - predictions_counts_mean_squared_error: 5.0395e-04 - predictions_counts_mean_absolute_error: 0.0135 - val_loss: 0.0115 - val_predictions_nuclei_loss: 0.0039 - val_predictions_counts_loss: 0.0075 - val_predictions_nuclei_my_accuracy_score: 0.9800 - val_predictions_nuclei_acc: 0.9970 - val_predictions_counts_mean_squared_error: 0.0075 - val_predictions_counts_mean_absolute_error: 0.0544\n",
      "Epoch 239/250\n",
      " - 14s - loss: 6.5716e-04 - predictions_nuclei_loss: 4.5525e-05 - predictions_counts_loss: 6.1164e-04 - predictions_nuclei_my_accuracy_score: 1.0000 - predictions_nuclei_acc: 1.0000 - predictions_counts_mean_squared_error: 6.1164e-04 - predictions_counts_mean_absolute_error: 0.0151 - val_loss: 0.0118 - val_predictions_nuclei_loss: 0.0037 - val_predictions_counts_loss: 0.0081 - val_predictions_nuclei_my_accuracy_score: 0.9800 - val_predictions_nuclei_acc: 0.9970 - val_predictions_counts_mean_squared_error: 0.0081 - val_predictions_counts_mean_absolute_error: 0.0550\n"
     ]
    },
    {
     "name": "stdout",
     "output_type": "stream",
     "text": [
      "Epoch 240/250\n",
      " - 14s - loss: 5.7449e-04 - predictions_nuclei_loss: 4.3424e-05 - predictions_counts_loss: 5.3107e-04 - predictions_nuclei_my_accuracy_score: 1.0000 - predictions_nuclei_acc: 1.0000 - predictions_counts_mean_squared_error: 5.3107e-04 - predictions_counts_mean_absolute_error: 0.0142 - val_loss: 0.0122 - val_predictions_nuclei_loss: 0.0040 - val_predictions_counts_loss: 0.0082 - val_predictions_nuclei_my_accuracy_score: 0.9800 - val_predictions_nuclei_acc: 0.9970 - val_predictions_counts_mean_squared_error: 0.0082 - val_predictions_counts_mean_absolute_error: 0.0565\n",
      "Epoch 241/250\n",
      " - 14s - loss: 5.4284e-04 - predictions_nuclei_loss: 4.3070e-05 - predictions_counts_loss: 4.9977e-04 - predictions_nuclei_my_accuracy_score: 1.0000 - predictions_nuclei_acc: 1.0000 - predictions_counts_mean_squared_error: 4.9977e-04 - predictions_counts_mean_absolute_error: 0.0138 - val_loss: 0.0114 - val_predictions_nuclei_loss: 0.0037 - val_predictions_counts_loss: 0.0077 - val_predictions_nuclei_my_accuracy_score: 0.9800 - val_predictions_nuclei_acc: 0.9970 - val_predictions_counts_mean_squared_error: 0.0077 - val_predictions_counts_mean_absolute_error: 0.0543\n",
      "Epoch 242/250\n",
      " - 14s - loss: 7.1268e-04 - predictions_nuclei_loss: 4.5389e-05 - predictions_counts_loss: 6.6729e-04 - predictions_nuclei_my_accuracy_score: 1.0000 - predictions_nuclei_acc: 1.0000 - predictions_counts_mean_squared_error: 6.6729e-04 - predictions_counts_mean_absolute_error: 0.0159 - val_loss: 0.0115 - val_predictions_nuclei_loss: 0.0038 - val_predictions_counts_loss: 0.0078 - val_predictions_nuclei_my_accuracy_score: 0.9800 - val_predictions_nuclei_acc: 0.9970 - val_predictions_counts_mean_squared_error: 0.0078 - val_predictions_counts_mean_absolute_error: 0.0546\n",
      "Epoch 243/250\n",
      " - 14s - loss: 5.8239e-04 - predictions_nuclei_loss: 4.2288e-05 - predictions_counts_loss: 5.4010e-04 - predictions_nuclei_my_accuracy_score: 1.0000 - predictions_nuclei_acc: 1.0000 - predictions_counts_mean_squared_error: 5.4010e-04 - predictions_counts_mean_absolute_error: 0.0144 - val_loss: 0.0122 - val_predictions_nuclei_loss: 0.0038 - val_predictions_counts_loss: 0.0084 - val_predictions_nuclei_my_accuracy_score: 0.9700 - val_predictions_nuclei_acc: 0.9970 - val_predictions_counts_mean_squared_error: 0.0084 - val_predictions_counts_mean_absolute_error: 0.0558\n",
      "Epoch 244/250\n",
      " - 14s - loss: 5.2586e-04 - predictions_nuclei_loss: 4.1607e-05 - predictions_counts_loss: 4.8425e-04 - predictions_nuclei_my_accuracy_score: 1.0000 - predictions_nuclei_acc: 1.0000 - predictions_counts_mean_squared_error: 4.8425e-04 - predictions_counts_mean_absolute_error: 0.0132 - val_loss: 0.0115 - val_predictions_nuclei_loss: 0.0044 - val_predictions_counts_loss: 0.0071 - val_predictions_nuclei_my_accuracy_score: 0.9800 - val_predictions_nuclei_acc: 0.9970 - val_predictions_counts_mean_squared_error: 0.0071 - val_predictions_counts_mean_absolute_error: 0.0520\n",
      "Epoch 245/250\n",
      " - 14s - loss: 5.4244e-04 - predictions_nuclei_loss: 4.0241e-05 - predictions_counts_loss: 5.0220e-04 - predictions_nuclei_my_accuracy_score: 1.0000 - predictions_nuclei_acc: 1.0000 - predictions_counts_mean_squared_error: 5.0220e-04 - predictions_counts_mean_absolute_error: 0.0137 - val_loss: 0.0110 - val_predictions_nuclei_loss: 0.0035 - val_predictions_counts_loss: 0.0075 - val_predictions_nuclei_my_accuracy_score: 0.9900 - val_predictions_nuclei_acc: 0.9970 - val_predictions_counts_mean_squared_error: 0.0075 - val_predictions_counts_mean_absolute_error: 0.0534\n",
      "Epoch 246/250\n",
      " - 14s - loss: 5.0287e-04 - predictions_nuclei_loss: 4.0887e-05 - predictions_counts_loss: 4.6198e-04 - predictions_nuclei_my_accuracy_score: 1.0000 - predictions_nuclei_acc: 1.0000 - predictions_counts_mean_squared_error: 4.6198e-04 - predictions_counts_mean_absolute_error: 0.0132 - val_loss: 0.0116 - val_predictions_nuclei_loss: 0.0036 - val_predictions_counts_loss: 0.0080 - val_predictions_nuclei_my_accuracy_score: 0.9800 - val_predictions_nuclei_acc: 0.9970 - val_predictions_counts_mean_squared_error: 0.0080 - val_predictions_counts_mean_absolute_error: 0.0545\n",
      "Epoch 247/250\n",
      " - 14s - loss: 5.3173e-04 - predictions_nuclei_loss: 4.0703e-05 - predictions_counts_loss: 4.9103e-04 - predictions_nuclei_my_accuracy_score: 1.0000 - predictions_nuclei_acc: 1.0000 - predictions_counts_mean_squared_error: 4.9103e-04 - predictions_counts_mean_absolute_error: 0.0133 - val_loss: 0.0126 - val_predictions_nuclei_loss: 0.0043 - val_predictions_counts_loss: 0.0083 - val_predictions_nuclei_my_accuracy_score: 0.9800 - val_predictions_nuclei_acc: 0.9970 - val_predictions_counts_mean_squared_error: 0.0083 - val_predictions_counts_mean_absolute_error: 0.0558\n",
      "Epoch 248/250\n",
      " - 14s - loss: 5.2928e-04 - predictions_nuclei_loss: 4.0080e-05 - predictions_counts_loss: 4.8921e-04 - predictions_nuclei_my_accuracy_score: 1.0000 - predictions_nuclei_acc: 1.0000 - predictions_counts_mean_squared_error: 4.8921e-04 - predictions_counts_mean_absolute_error: 0.0133 - val_loss: 0.0110 - val_predictions_nuclei_loss: 0.0032 - val_predictions_counts_loss: 0.0077 - val_predictions_nuclei_my_accuracy_score: 0.9800 - val_predictions_nuclei_acc: 1.0000 - val_predictions_counts_mean_squared_error: 0.0077 - val_predictions_counts_mean_absolute_error: 0.0543\n",
      "Epoch 249/250\n",
      " - 14s - loss: 7.2959e-04 - predictions_nuclei_loss: 4.0664e-05 - predictions_counts_loss: 6.8892e-04 - predictions_nuclei_my_accuracy_score: 1.0000 - predictions_nuclei_acc: 1.0000 - predictions_counts_mean_squared_error: 6.8892e-04 - predictions_counts_mean_absolute_error: 0.0168 - val_loss: 0.0107 - val_predictions_nuclei_loss: 0.0038 - val_predictions_counts_loss: 0.0069 - val_predictions_nuclei_my_accuracy_score: 0.9800 - val_predictions_nuclei_acc: 0.9970 - val_predictions_counts_mean_squared_error: 0.0069 - val_predictions_counts_mean_absolute_error: 0.0515\n",
      "Epoch 250/250\n",
      " - 14s - loss: 6.8855e-04 - predictions_nuclei_loss: 4.0240e-05 - predictions_counts_loss: 6.4831e-04 - predictions_nuclei_my_accuracy_score: 1.0000 - predictions_nuclei_acc: 1.0000 - predictions_counts_mean_squared_error: 6.4831e-04 - predictions_counts_mean_absolute_error: 0.0163 - val_loss: 0.0117 - val_predictions_nuclei_loss: 0.0036 - val_predictions_counts_loss: 0.0081 - val_predictions_nuclei_my_accuracy_score: 0.9800 - val_predictions_nuclei_acc: 0.9970 - val_predictions_counts_mean_squared_error: 0.0081 - val_predictions_counts_mean_absolute_error: 0.0557\n"
     ]
    }
   ],
   "source": [
    "hist = model.fit_generator(generator=gerador_treino,\n",
    "                           steps_per_epoch=steps_per_epoch,\n",
    "                           epochs=epochs,\n",
    "                           verbose=2,\n",
    "                           callbacks=callbacks,\n",
    "                           validation_data=gerador_validacao, #(x_train_val, y_train_val),\n",
    "                           validation_steps=validation_steps,\n",
    "                           shuffle=True)"
   ]
  },
  {
   "cell_type": "code",
   "execution_count": 114,
   "metadata": {},
   "outputs": [],
   "source": [
    "from keras.models import save_model\n",
    "save_model(model, 'VGG-19-SGD-classificacao-regressao-PENELOPE-v5.hdf5')"
   ]
  },
  {
   "cell_type": "code",
   "execution_count": 209,
   "metadata": {},
   "outputs": [
    {
     "data": {
      "image/png": "[encoded data removed]",
      "text/plain": [
       "<Figure size 432x288 with 1 Axes>"
      ]
     },
     "metadata": {},
     "output_type": "display_data"
    }
   ],
   "source": [
    "plt.plot(hist.history['predictions_nuclei_my_accuracy_score'])\n",
    "plt.plot(hist.history['val_predictions_nuclei_my_accuracy_score'])\n",
    "plt.title('model accuracy')\n",
    "plt.ylabel('accuracy')\n",
    "plt.xlabel('epoch')\n",
    "plt.legend(['train', 'test'], loc='upper left')\n",
    "plt.show()"
   ]
  },
  {
   "cell_type": "code",
   "execution_count": 210,
   "metadata": {},
   "outputs": [
    {
     "data": {
      "image/png": "[encoded data removed]",
      "text/plain": [
       "<Figure size 432x288 with 1 Axes>"
      ]
     },
     "metadata": {},
     "output_type": "display_data"
    }
   ],
   "source": [
    "plt.plot(hist.history['predictions_counts_mean_squared_error'])\n",
    "plt.plot(hist.history['val_predictions_counts_mean_squared_error'])\n",
    "plt.title('model mean square error')\n",
    "plt.ylabel('coutns mean square error')\n",
    "plt.xlabel('epoch')\n",
    "plt.legend(['train', 'test'], loc='upper right')\n",
    "plt.show()"
   ]
  },
  {
   "cell_type": "code",
   "execution_count": 211,
   "metadata": {},
   "outputs": [
    {
     "data": {
      "image/png": "[encoded data removed]",
      "text/plain": [
       "<Figure size 432x288 with 1 Axes>"
      ]
     },
     "metadata": {},
     "output_type": "display_data"
    }
   ],
   "source": [
    "plt.plot(hist.history['predictions_nuclei_loss'])\n",
    "plt.plot(hist.history['val_predictions_nuclei_loss'])\n",
    "plt.title('model loss')\n",
    "plt.ylabel('loss')\n",
    "plt.xlabel('epoch')\n",
    "plt.legend(['train', 'test'], loc='upper right')\n",
    "plt.show()"
   ]
  },
  {
   "cell_type": "code",
   "execution_count": 212,
   "metadata": {},
   "outputs": [
    {
     "name": "stdout",
     "output_type": "stream",
     "text": [
      "13/13 [==============================] - 0s 24ms/step\n",
      "173/173 [==============================] - 4s 23ms/step\n"
     ]
    }
   ],
   "source": [
    "val_metrics = model.evaluate_generator(gerador_validacao,\n",
    "                                       steps=validation_steps,\n",
    "                                      verbose=1)\n",
    "train_metrics = model.evaluate_generator(gerador_treino,\n",
    "                                         steps=steps_per_epoch,\n",
    "                                        verbose=1)\n"
   ]
  },
  {
   "cell_type": "code",
   "execution_count": 213,
   "metadata": {},
   "outputs": [
    {
     "data": {
      "text/plain": [
       "[('loss', 0.011672768238931895),\n",
       " ('predictions_nuclei_loss', 0.0035730783420149237),\n",
       " ('predictions_counts_loss', 0.008099689856171608),\n",
       " ('predictions_nuclei_my_accuracy_score', 0.98),\n",
       " ('predictions_nuclei_acc', 0.997000002861023),\n",
       " ('predictions_counts_mean_squared_error', 0.008099689856171608),\n",
       " ('predictions_counts_mean_absolute_error', 0.05565500974655151)]"
      ]
     },
     "execution_count": 213,
     "metadata": {},
     "output_type": "execute_result"
    }
   ],
   "source": [
    "list(zip(model.metrics_names, val_metrics))"
   ]
  },
  {
   "cell_type": "code",
   "execution_count": 214,
   "metadata": {},
   "outputs": [
    {
     "data": {
      "text/plain": [
       "[('loss', 0.0007374735336507792),\n",
       " ('predictions_nuclei_loss', 3.8743987538246204e-05),\n",
       " ('predictions_counts_loss', 0.0006987295463593488),\n",
       " ('predictions_nuclei_my_accuracy_score', 1.0),\n",
       " ('predictions_nuclei_acc', 1.0),\n",
       " ('predictions_counts_mean_squared_error', 0.0006987295463593488),\n",
       " ('predictions_counts_mean_absolute_error', 0.016177087763081428)]"
      ]
     },
     "execution_count": 214,
     "metadata": {},
     "output_type": "execute_result"
    }
   ],
   "source": [
    "list(zip(model.metrics_names, train_metrics))"
   ]
  },
  {
   "cell_type": "markdown",
   "metadata": {},
   "source": [
    "# Validando nos espectros criados com Penelope"
   ]
  },
  {
   "cell_type": "code",
   "execution_count": 120,
   "metadata": {},
   "outputs": [],
   "source": [
    "from keras.utils.vis_utils import plot_model"
   ]
  },
  {
   "cell_type": "code",
   "execution_count": null,
   "metadata": {},
   "outputs": [],
   "source": [
    "#plot_model(model, to_file='model_plot.png', show_shapes=True, show_layer_names=True)"
   ]
  },
  {
   "cell_type": "code",
   "execution_count": 215,
   "metadata": {},
   "outputs": [
    {
     "name": "stdout",
     "output_type": "stream",
     "text": [
      "2\n"
     ]
    },
    {
     "data": {
      "image/png": "[encoded data removed]",
      "text/plain": [
       "<Figure size 1224x122.4 with 2 Axes>"
      ]
     },
     "metadata": {},
     "output_type": "display_data"
    }
   ],
   "source": [
    "idx_ = np.random.choice(len(gerador_validacao) - 1, 1)[0]\n",
    "print(idx_)\n",
    "x_, aux_ = gerador_validacao[idx_]\n",
    "\n",
    "y_counts = aux_['predictions_counts']\n",
    "y_ = aux_['predictions_nuclei']\n",
    "\n",
    "idx = 3\n",
    "f, axarr = plt.subplots(1, 2, figsize=(17, 1.7))\n",
    "axarr[0].plot(range(len(x_[idx].reshape(-1))),\n",
    "              x_[idx].reshape(-1), 'r')\n",
    "axarr[0].set_yscale(\"log\")\n",
    "\n",
    "axarr[0].set_title(\" with \".join(binarizer.inverse_transform(np.array([y_[idx]]))[0]))\n",
    "axarr[1].imshow(x_[idx].reshape((128,128)))\n",
    "\n",
    "plt.grid(False)\n",
    "plt.subplots_adjust(bottom=1.25, top=2.75)\n",
    "plt.show()"
   ]
  },
  {
   "cell_type": "code",
   "execution_count": 216,
   "metadata": {},
   "outputs": [
    {
     "data": {
      "image/png": "[encoded data removed]",
      "text/plain": [
       "<Figure size 1224x360 with 2 Axes>"
      ]
     },
     "metadata": {},
     "output_type": "display_data"
    }
   ],
   "source": [
    "\"\"\"\n",
    "f, axarr = plt.subplots(1, 2, figsize=(17, 5))\n",
    "plt.suptitle(\"Fonte tríplice de calibração Am-214, Cs-137, Co-60\", fontsize=16)\n",
    "axarr[0].plot(df_triplice['channel'], df_triplice.counts.shift(-145).fillna(0).values, 'r')\n",
    "axarr[0].set_title(\"Espectro\")\n",
    "axarr[0].set_yscale(\"log\")\n",
    "\n",
    "axarr[1].imshow(np.array(dados).reshape((128,128)))\n",
    "axarr[1].set_title(\"Imagem\")\n",
    "axarr[1].grid(False)\n",
    "\n",
    "#plt.subplots_adjust(bottom=1.25, top=2.75)\n",
    "plt.show()\n",
    "\"\"\"\n",
    "#idx_ = np.random.choice(len(gerador_validacao) - 1, 1)[0]\n",
    "x_, aux_ = gerador_validacao[idx_]\n",
    "\n",
    "y_counts = aux_['predictions_counts']\n",
    "y_ = aux_['predictions_nuclei']\n",
    "\n",
    "\n",
    "f, axarr = plt.subplots(1, 2, figsize=(17, 5))\n",
    "plt.suptitle(\"Espectro contendo: \"+\" e \".join(binarizer.inverse_transform(np.array([y_[idx]]))[0]),\n",
    "             fontsize=16)\n",
    "\n",
    "\n",
    "axarr[0].plot(range(len(x_[idx].reshape(-1))), x_[idx].reshape(-1), 'r')\n",
    "axarr[0].set_yscale(\"log\")\n",
    "axarr[0].set_xlabel(\"canal do detector\")\n",
    "axarr[0].set_ylabel(\"log(contagens)\")\n",
    "axarr[0].set_title(\"Espectro\", fontsize=14)\n",
    "\n",
    "axarr[1].set_title(\"Imagem\", fontsize=14)\n",
    "axarr[1].imshow(x_[0].reshape((128,128)))\n",
    "\n",
    "#plt.grid(False)\n",
    "#plt.subplots_adjust(bottom=1.25, top=2.75)\n",
    "plt.show()"
   ]
  },
  {
   "cell_type": "code",
   "execution_count": 217,
   "metadata": {},
   "outputs": [
    {
     "name": "stdout",
     "output_type": "stream",
     "text": [
      "CPU times: user 15 µs, sys: 3 µs, total: 18 µs\n",
      "Wall time: 36.2 µs\n"
     ]
    }
   ],
   "source": [
    "%time\n",
    "preds = model.predict(np.array([x_[idx].reshape((128, 128, 1))]))"
   ]
  },
  {
   "cell_type": "code",
   "execution_count": 218,
   "metadata": {},
   "outputs": [
    {
     "data": {
      "text/html": [
       "<div>\n",
       "<style scoped>\n",
       "    .dataframe tbody tr th:only-of-type {\n",
       "        vertical-align: middle;\n",
       "    }\n",
       "\n",
       "    .dataframe tbody tr th {\n",
       "        vertical-align: top;\n",
       "    }\n",
       "\n",
       "    .dataframe thead th {\n",
       "        text-align: right;\n",
       "    }\n",
       "</style>\n",
       "<table border=\"1\" class=\"dataframe\">\n",
       "  <thead>\n",
       "    <tr style=\"text-align: right;\">\n",
       "      <th></th>\n",
       "      <th>radionuclideo</th>\n",
       "      <th>nuclei_score</th>\n",
       "      <th>nuclei_counts</th>\n",
       "      <th>real_counts</th>\n",
       "    </tr>\n",
       "  </thead>\n",
       "  <tbody>\n",
       "    <tr>\n",
       "      <th>0</th>\n",
       "      <td>Am-241</td>\n",
       "      <td>0.00</td>\n",
       "      <td>-8.41</td>\n",
       "      <td>0.00</td>\n",
       "    </tr>\n",
       "    <tr>\n",
       "      <th>1</th>\n",
       "      <td>Ba-133</td>\n",
       "      <td>0.01</td>\n",
       "      <td>-438.08</td>\n",
       "      <td>0.00</td>\n",
       "    </tr>\n",
       "    <tr>\n",
       "      <th>2</th>\n",
       "      <td>Cd-109</td>\n",
       "      <td>0.00</td>\n",
       "      <td>-1.34</td>\n",
       "      <td>0.00</td>\n",
       "    </tr>\n",
       "    <tr>\n",
       "      <th>3</th>\n",
       "      <td>Co-57</td>\n",
       "      <td>0.00</td>\n",
       "      <td>-117.83</td>\n",
       "      <td>0.00</td>\n",
       "    </tr>\n",
       "    <tr>\n",
       "      <th>4</th>\n",
       "      <td>Co-60</td>\n",
       "      <td>0.02</td>\n",
       "      <td>-9,958.37</td>\n",
       "      <td>-0.00</td>\n",
       "    </tr>\n",
       "    <tr>\n",
       "      <th>5</th>\n",
       "      <td>Cs-137</td>\n",
       "      <td>0.01</td>\n",
       "      <td>-2,831.42</td>\n",
       "      <td>0.00</td>\n",
       "    </tr>\n",
       "    <tr>\n",
       "      <th>6</th>\n",
       "      <td>Eu-152</td>\n",
       "      <td>99.99</td>\n",
       "      <td>219,831.75</td>\n",
       "      <td>201,280.95</td>\n",
       "    </tr>\n",
       "    <tr>\n",
       "      <th>7</th>\n",
       "      <td>Mn-54</td>\n",
       "      <td>0.05</td>\n",
       "      <td>4,771.39</td>\n",
       "      <td>0.00</td>\n",
       "    </tr>\n",
       "    <tr>\n",
       "      <th>8</th>\n",
       "      <td>Na-22</td>\n",
       "      <td>0.01</td>\n",
       "      <td>-6,987.68</td>\n",
       "      <td>0.00</td>\n",
       "    </tr>\n",
       "    <tr>\n",
       "      <th>9</th>\n",
       "      <td>Pb-210</td>\n",
       "      <td>0.00</td>\n",
       "      <td>-0.20</td>\n",
       "      <td>0.00</td>\n",
       "    </tr>\n",
       "  </tbody>\n",
       "</table>\n",
       "</div>"
      ],
      "text/plain": [
       "  radionuclideo  nuclei_score  nuclei_counts  real_counts\n",
       "0        Am-241          0.00          -8.41         0.00\n",
       "1        Ba-133          0.01        -438.08         0.00\n",
       "2        Cd-109          0.00          -1.34         0.00\n",
       "3         Co-57          0.00        -117.83         0.00\n",
       "4         Co-60          0.02      -9,958.37        -0.00\n",
       "5        Cs-137          0.01      -2,831.42         0.00\n",
       "6        Eu-152         99.99     219,831.75   201,280.95\n",
       "7         Mn-54          0.05       4,771.39         0.00\n",
       "8         Na-22          0.01      -6,987.68         0.00\n",
       "9        Pb-210          0.00          -0.20         0.00"
      ]
     },
     "execution_count": 218,
     "metadata": {},
     "output_type": "execute_result"
    }
   ],
   "source": [
    "df = pd.DataFrame({'radionuclideo':binarizer.classes_,\n",
    "                   'nuclei_score': preds[0][0]*100,\n",
    "                   'nuclei_counts': scaler.inverse_transform(preds[1][0]),\n",
    "                   'real_counts': scaler.inverse_transform(y_counts[idx])})\n",
    "df"
   ]
  },
  {
   "cell_type": "code",
   "execution_count": null,
   "metadata": {},
   "outputs": [],
   "source": [
    "# Criar uma massa de dados simulando com papel ao invés de água\n",
    "# Corrigir as contagens na entrada pela eficiência da similação\n",
    "# Re-treinar"
   ]
  },
  {
   "cell_type": "markdown",
   "metadata": {},
   "source": [
    "# Validando nos espectros experimentais"
   ]
  },
  {
   "cell_type": "code",
   "execution_count": 219,
   "metadata": {},
   "outputs": [],
   "source": [
    "def obtem_dados_dos_canais(linhas):\n",
    "    dados = []\n",
    "    pode_comecar = False\n",
    "    for linha in linhas:\n",
    "        if linha == \"A004USERDEFINED                                                     \\n\":\n",
    "            pode_comecar = True\n",
    "            continue\n",
    "        if pode_comecar:\n",
    "            aux = linha.strip().split()\n",
    "            if int(aux[1]) % 5:\n",
    "                print(\"oi!\")\n",
    "            dados.extend([float(x) for x in aux[2:]])\n",
    "    return dados[1:]"
   ]
  },
  {
   "cell_type": "code",
   "execution_count": 220,
   "metadata": {},
   "outputs": [
    {
     "name": "stdout",
     "output_type": "stream",
     "text": [
      "Am-241 - BG.IEC\n",
      "Ba-133 - BG.IEC\n",
      "Cd-109 - BG.IEC\n",
      "Co-57 - BG.IEC\n",
      "Co-60 - BG.IEC\n",
      "Cs-137 - BG.IEC\n",
      "Eu-152 - BG.IEC\n",
      "Mn-54 - BG.IEC\n",
      "Na-22 - BG.IEC\n",
      "Pb-210 - BG.IEC\n"
     ]
    }
   ],
   "source": [
    "arquivos = ['Am-241 - BG.IEC',\n",
    "            'Ba-133 - BG.IEC',\n",
    "            'Cd-109 - BG.IEC',\n",
    "            'Co-57 - BG.IEC',\n",
    "            'Co-60 - BG.IEC',\n",
    "            'Cs-137 - BG.IEC',\n",
    "            'Eu-152 - BG.IEC',\n",
    "            'Mn-54 - BG.IEC',\n",
    "            'Na-22 - BG.IEC',\n",
    "            'Pb-210 - BG.IEC',]\n",
    "\n",
    "df_nuclideos = dict()\n",
    "img_espectros = dict()\n",
    "img_convertidos = dict()\n",
    "images = dict()\n",
    "\n",
    "for arquivo in arquivos:\n",
    "    print(arquivo)\n",
    "    dados = []\n",
    "\n",
    "    with open('/export/ipen/artigo/ICDA-3/Espectros/Experimentos/17-Maio-2018/Espectros/{0}'.format(arquivo), 'r') as f:\n",
    "        dados = f.readlines()\n",
    "    dados = obtem_dados_dos_canais(dados)\n",
    "    df = pd.DataFrame({'channel': range(0, len(dados)), 'counts' : dados})\n",
    "    df_nuclideos[arquivo] = df.copy()\n",
    "    img_convertidos[arquivo] = np.array(dados).reshape((128, 128)).copy()\n",
    "    images[arquivo.split(' ')[0]] = np.array(dados).reshape((128, 128)).copy()"
   ]
  },
  {
   "cell_type": "code",
   "execution_count": 128,
   "metadata": {},
   "outputs": [
    {
     "data": {
      "image/png": "[encoded data removed]",
      "text/plain": [
       "<Figure size 1080x1800 with 20 Axes>"
      ]
     },
     "metadata": {},
     "output_type": "display_data"
    }
   ],
   "source": [
    "f, axarr = plt.subplots(10, 2, figsize=(15,25))\n",
    "for n, arquivo in enumerate(arquivos):\n",
    "    df = df_nuclideos[arquivo]\n",
    "    axarr[n, 0].plot(df['channel'], df['counts'], 'r')\n",
    "    axarr[n, 0].set_title(\"Espectro : {0}\".format(arquivo))\n",
    "    axarr[n, 0].set_yscale(\"log\")\n",
    "    axarr[n, 1].imshow(img_convertidos[arquivo])\n",
    "    #axarr[n, 1].set_title(\"Como Imagem : {0}\".format(arquivo))\n",
    "    \n",
    "plt.grid(False)\n",
    "plt.subplots_adjust(bottom=1.25, top=2.75)\n",
    "plt.show()"
   ]
  },
  {
   "cell_type": "code",
   "execution_count": 221,
   "metadata": {},
   "outputs": [
    {
     "data": {
      "text/html": [
       "<div>\n",
       "<style scoped>\n",
       "    .dataframe tbody tr th:only-of-type {\n",
       "        vertical-align: middle;\n",
       "    }\n",
       "\n",
       "    .dataframe tbody tr th {\n",
       "        vertical-align: top;\n",
       "    }\n",
       "\n",
       "    .dataframe thead th {\n",
       "        text-align: right;\n",
       "    }\n",
       "</style>\n",
       "<table border=\"1\" class=\"dataframe\">\n",
       "  <thead>\n",
       "    <tr style=\"text-align: right;\">\n",
       "      <th></th>\n",
       "      <th>radionuclideo</th>\n",
       "      <th>nuclei_score</th>\n",
       "      <th>nuclei_counts</th>\n",
       "      <th>real_counts</th>\n",
       "    </tr>\n",
       "  </thead>\n",
       "  <tbody>\n",
       "    <tr>\n",
       "      <th>0</th>\n",
       "      <td>Am-241</td>\n",
       "      <td>100.00</td>\n",
       "      <td>2,640.46</td>\n",
       "      <td>141,596.00</td>\n",
       "    </tr>\n",
       "    <tr>\n",
       "      <th>1</th>\n",
       "      <td>Ba-133</td>\n",
       "      <td>0.00</td>\n",
       "      <td>-1,776.16</td>\n",
       "      <td>141,596.00</td>\n",
       "    </tr>\n",
       "    <tr>\n",
       "      <th>2</th>\n",
       "      <td>Cd-109</td>\n",
       "      <td>78.36</td>\n",
       "      <td>237.03</td>\n",
       "      <td>141,596.00</td>\n",
       "    </tr>\n",
       "    <tr>\n",
       "      <th>3</th>\n",
       "      <td>Co-57</td>\n",
       "      <td>0.19</td>\n",
       "      <td>4,574.97</td>\n",
       "      <td>141,596.00</td>\n",
       "    </tr>\n",
       "    <tr>\n",
       "      <th>4</th>\n",
       "      <td>Co-60</td>\n",
       "      <td>0.00</td>\n",
       "      <td>26,482.94</td>\n",
       "      <td>141,596.00</td>\n",
       "    </tr>\n",
       "    <tr>\n",
       "      <th>5</th>\n",
       "      <td>Cs-137</td>\n",
       "      <td>0.00</td>\n",
       "      <td>1,420.45</td>\n",
       "      <td>141,596.00</td>\n",
       "    </tr>\n",
       "    <tr>\n",
       "      <th>6</th>\n",
       "      <td>Eu-152</td>\n",
       "      <td>0.00</td>\n",
       "      <td>11,946.21</td>\n",
       "      <td>141,596.00</td>\n",
       "    </tr>\n",
       "    <tr>\n",
       "      <th>7</th>\n",
       "      <td>Mn-54</td>\n",
       "      <td>0.00</td>\n",
       "      <td>-11,664.65</td>\n",
       "      <td>141,596.00</td>\n",
       "    </tr>\n",
       "    <tr>\n",
       "      <th>8</th>\n",
       "      <td>Na-22</td>\n",
       "      <td>0.00</td>\n",
       "      <td>-21,709.38</td>\n",
       "      <td>141,596.00</td>\n",
       "    </tr>\n",
       "    <tr>\n",
       "      <th>9</th>\n",
       "      <td>Pb-210</td>\n",
       "      <td>97.12</td>\n",
       "      <td>50.72</td>\n",
       "      <td>141,596.00</td>\n",
       "    </tr>\n",
       "  </tbody>\n",
       "</table>\n",
       "</div>"
      ],
      "text/plain": [
       "  radionuclideo  nuclei_score  nuclei_counts  real_counts\n",
       "0        Am-241        100.00       2,640.46   141,596.00\n",
       "1        Ba-133          0.00      -1,776.16   141,596.00\n",
       "2        Cd-109         78.36         237.03   141,596.00\n",
       "3         Co-57          0.19       4,574.97   141,596.00\n",
       "4         Co-60          0.00      26,482.94   141,596.00\n",
       "5        Cs-137          0.00       1,420.45   141,596.00\n",
       "6        Eu-152          0.00      11,946.21   141,596.00\n",
       "7         Mn-54          0.00     -11,664.65   141,596.00\n",
       "8         Na-22          0.00     -21,709.38   141,596.00\n",
       "9        Pb-210         97.12          50.72   141,596.00"
      ]
     },
     "execution_count": 221,
     "metadata": {},
     "output_type": "execute_result"
    }
   ],
   "source": [
    "preds = model.predict(np.array([images['Am-241'].reshape((128, 128, 1))]))\n",
    "\n",
    "df = pd.DataFrame({'radionuclideo':binarizer.classes_,\n",
    "                   'nuclei_score': preds[0][0]*100,\n",
    "                   'nuclei_counts': scaler.inverse_transform(preds[1][0]),\n",
    "                   'real_counts': np.sum(images['Am-241'])})\n",
    "df"
   ]
  },
  {
   "cell_type": "code",
   "execution_count": 222,
   "metadata": {},
   "outputs": [
    {
     "data": {
      "text/html": [
       "<div>\n",
       "<style scoped>\n",
       "    .dataframe tbody tr th:only-of-type {\n",
       "        vertical-align: middle;\n",
       "    }\n",
       "\n",
       "    .dataframe tbody tr th {\n",
       "        vertical-align: top;\n",
       "    }\n",
       "\n",
       "    .dataframe thead th {\n",
       "        text-align: right;\n",
       "    }\n",
       "</style>\n",
       "<table border=\"1\" class=\"dataframe\">\n",
       "  <thead>\n",
       "    <tr style=\"text-align: right;\">\n",
       "      <th></th>\n",
       "      <th>radionuclideo</th>\n",
       "      <th>nuclei_score</th>\n",
       "      <th>nuclei_counts</th>\n",
       "      <th>real_counts</th>\n",
       "    </tr>\n",
       "  </thead>\n",
       "  <tbody>\n",
       "    <tr>\n",
       "      <th>0</th>\n",
       "      <td>Am-241</td>\n",
       "      <td>99.96</td>\n",
       "      <td>1,276.87</td>\n",
       "      <td>35,319.00</td>\n",
       "    </tr>\n",
       "    <tr>\n",
       "      <th>1</th>\n",
       "      <td>Ba-133</td>\n",
       "      <td>0.00</td>\n",
       "      <td>2,296.14</td>\n",
       "      <td>35,319.00</td>\n",
       "    </tr>\n",
       "    <tr>\n",
       "      <th>2</th>\n",
       "      <td>Cd-109</td>\n",
       "      <td>100.00</td>\n",
       "      <td>459.77</td>\n",
       "      <td>35,319.00</td>\n",
       "    </tr>\n",
       "    <tr>\n",
       "      <th>3</th>\n",
       "      <td>Co-57</td>\n",
       "      <td>0.00</td>\n",
       "      <td>3,535.57</td>\n",
       "      <td>35,319.00</td>\n",
       "    </tr>\n",
       "    <tr>\n",
       "      <th>4</th>\n",
       "      <td>Co-60</td>\n",
       "      <td>0.00</td>\n",
       "      <td>-3,802.23</td>\n",
       "      <td>35,319.00</td>\n",
       "    </tr>\n",
       "    <tr>\n",
       "      <th>5</th>\n",
       "      <td>Cs-137</td>\n",
       "      <td>0.00</td>\n",
       "      <td>-2,244.56</td>\n",
       "      <td>35,319.00</td>\n",
       "    </tr>\n",
       "    <tr>\n",
       "      <th>6</th>\n",
       "      <td>Eu-152</td>\n",
       "      <td>0.00</td>\n",
       "      <td>3,184.95</td>\n",
       "      <td>35,319.00</td>\n",
       "    </tr>\n",
       "    <tr>\n",
       "      <th>7</th>\n",
       "      <td>Mn-54</td>\n",
       "      <td>0.00</td>\n",
       "      <td>7,492.76</td>\n",
       "      <td>35,319.00</td>\n",
       "    </tr>\n",
       "    <tr>\n",
       "      <th>8</th>\n",
       "      <td>Na-22</td>\n",
       "      <td>0.00</td>\n",
       "      <td>-134.48</td>\n",
       "      <td>35,319.00</td>\n",
       "    </tr>\n",
       "    <tr>\n",
       "      <th>9</th>\n",
       "      <td>Pb-210</td>\n",
       "      <td>100.00</td>\n",
       "      <td>77.82</td>\n",
       "      <td>35,319.00</td>\n",
       "    </tr>\n",
       "  </tbody>\n",
       "</table>\n",
       "</div>"
      ],
      "text/plain": [
       "  radionuclideo  nuclei_score  nuclei_counts  real_counts\n",
       "0        Am-241         99.96       1,276.87    35,319.00\n",
       "1        Ba-133          0.00       2,296.14    35,319.00\n",
       "2        Cd-109        100.00         459.77    35,319.00\n",
       "3         Co-57          0.00       3,535.57    35,319.00\n",
       "4         Co-60          0.00      -3,802.23    35,319.00\n",
       "5        Cs-137          0.00      -2,244.56    35,319.00\n",
       "6        Eu-152          0.00       3,184.95    35,319.00\n",
       "7         Mn-54          0.00       7,492.76    35,319.00\n",
       "8         Na-22          0.00        -134.48    35,319.00\n",
       "9        Pb-210        100.00          77.82    35,319.00"
      ]
     },
     "execution_count": 222,
     "metadata": {},
     "output_type": "execute_result"
    }
   ],
   "source": [
    "validation_nuclei = 'Ba-133'\n",
    "preds = model.predict(np.array([images[validation_nuclei].reshape((128, 128, 1))]))\n",
    "\n",
    "df = pd.DataFrame({'radionuclideo':binarizer.classes_,\n",
    "                   'nuclei_score': preds[0][0]*100,\n",
    "                   'nuclei_counts': scaler.inverse_transform(preds[1][0]),\n",
    "                   'real_counts': np.sum(images[validation_nuclei])})\n",
    "df"
   ]
  },
  {
   "cell_type": "code",
   "execution_count": 223,
   "metadata": {},
   "outputs": [
    {
     "data": {
      "text/html": [
       "<div>\n",
       "<style scoped>\n",
       "    .dataframe tbody tr th:only-of-type {\n",
       "        vertical-align: middle;\n",
       "    }\n",
       "\n",
       "    .dataframe tbody tr th {\n",
       "        vertical-align: top;\n",
       "    }\n",
       "\n",
       "    .dataframe thead th {\n",
       "        text-align: right;\n",
       "    }\n",
       "</style>\n",
       "<table border=\"1\" class=\"dataframe\">\n",
       "  <thead>\n",
       "    <tr style=\"text-align: right;\">\n",
       "      <th></th>\n",
       "      <th>radionuclideo</th>\n",
       "      <th>nuclei_score</th>\n",
       "      <th>nuclei_counts</th>\n",
       "      <th>real_counts</th>\n",
       "    </tr>\n",
       "  </thead>\n",
       "  <tbody>\n",
       "    <tr>\n",
       "      <th>0</th>\n",
       "      <td>Am-241</td>\n",
       "      <td>0.00</td>\n",
       "      <td>-7.40</td>\n",
       "      <td>7,195.00</td>\n",
       "    </tr>\n",
       "    <tr>\n",
       "      <th>1</th>\n",
       "      <td>Ba-133</td>\n",
       "      <td>0.00</td>\n",
       "      <td>313.56</td>\n",
       "      <td>7,195.00</td>\n",
       "    </tr>\n",
       "    <tr>\n",
       "      <th>2</th>\n",
       "      <td>Cd-109</td>\n",
       "      <td>0.00</td>\n",
       "      <td>2.75</td>\n",
       "      <td>7,195.00</td>\n",
       "    </tr>\n",
       "    <tr>\n",
       "      <th>3</th>\n",
       "      <td>Co-57</td>\n",
       "      <td>0.00</td>\n",
       "      <td>317.07</td>\n",
       "      <td>7,195.00</td>\n",
       "    </tr>\n",
       "    <tr>\n",
       "      <th>4</th>\n",
       "      <td>Co-60</td>\n",
       "      <td>0.00</td>\n",
       "      <td>10,245.58</td>\n",
       "      <td>7,195.00</td>\n",
       "    </tr>\n",
       "    <tr>\n",
       "      <th>5</th>\n",
       "      <td>Cs-137</td>\n",
       "      <td>0.00</td>\n",
       "      <td>1,540.18</td>\n",
       "      <td>7,195.00</td>\n",
       "    </tr>\n",
       "    <tr>\n",
       "      <th>6</th>\n",
       "      <td>Eu-152</td>\n",
       "      <td>0.00</td>\n",
       "      <td>-3,254.38</td>\n",
       "      <td>7,195.00</td>\n",
       "    </tr>\n",
       "    <tr>\n",
       "      <th>7</th>\n",
       "      <td>Mn-54</td>\n",
       "      <td>0.00</td>\n",
       "      <td>3,222.91</td>\n",
       "      <td>7,195.00</td>\n",
       "    </tr>\n",
       "    <tr>\n",
       "      <th>8</th>\n",
       "      <td>Na-22</td>\n",
       "      <td>0.00</td>\n",
       "      <td>13,713.79</td>\n",
       "      <td>7,195.00</td>\n",
       "    </tr>\n",
       "    <tr>\n",
       "      <th>9</th>\n",
       "      <td>Pb-210</td>\n",
       "      <td>10.30</td>\n",
       "      <td>10.88</td>\n",
       "      <td>7,195.00</td>\n",
       "    </tr>\n",
       "  </tbody>\n",
       "</table>\n",
       "</div>"
      ],
      "text/plain": [
       "  radionuclideo  nuclei_score  nuclei_counts  real_counts\n",
       "0        Am-241          0.00          -7.40     7,195.00\n",
       "1        Ba-133          0.00         313.56     7,195.00\n",
       "2        Cd-109          0.00           2.75     7,195.00\n",
       "3         Co-57          0.00         317.07     7,195.00\n",
       "4         Co-60          0.00      10,245.58     7,195.00\n",
       "5        Cs-137          0.00       1,540.18     7,195.00\n",
       "6        Eu-152          0.00      -3,254.38     7,195.00\n",
       "7         Mn-54          0.00       3,222.91     7,195.00\n",
       "8         Na-22          0.00      13,713.79     7,195.00\n",
       "9        Pb-210         10.30          10.88     7,195.00"
      ]
     },
     "execution_count": 223,
     "metadata": {},
     "output_type": "execute_result"
    }
   ],
   "source": [
    "validation_nuclei = 'Cd-109'\n",
    "preds = model.predict(np.array([images[validation_nuclei].reshape((128, 128, 1))]))\n",
    "\n",
    "df = pd.DataFrame({'radionuclideo':binarizer.classes_,\n",
    "                   'nuclei_score': preds[0][0]*100,\n",
    "                   'nuclei_counts': scaler.inverse_transform(preds[1][0]),\n",
    "                   'real_counts': np.sum(images[validation_nuclei])})\n",
    "df"
   ]
  },
  {
   "cell_type": "code",
   "execution_count": 224,
   "metadata": {},
   "outputs": [
    {
     "data": {
      "text/html": [
       "<div>\n",
       "<style scoped>\n",
       "    .dataframe tbody tr th:only-of-type {\n",
       "        vertical-align: middle;\n",
       "    }\n",
       "\n",
       "    .dataframe tbody tr th {\n",
       "        vertical-align: top;\n",
       "    }\n",
       "\n",
       "    .dataframe thead th {\n",
       "        text-align: right;\n",
       "    }\n",
       "</style>\n",
       "<table border=\"1\" class=\"dataframe\">\n",
       "  <thead>\n",
       "    <tr style=\"text-align: right;\">\n",
       "      <th></th>\n",
       "      <th>radionuclideo</th>\n",
       "      <th>nuclei_score</th>\n",
       "      <th>nuclei_counts</th>\n",
       "      <th>real_counts</th>\n",
       "    </tr>\n",
       "  </thead>\n",
       "  <tbody>\n",
       "    <tr>\n",
       "      <th>0</th>\n",
       "      <td>Am-241</td>\n",
       "      <td>0.00</td>\n",
       "      <td>-1.58</td>\n",
       "      <td>7,323.00</td>\n",
       "    </tr>\n",
       "    <tr>\n",
       "      <th>1</th>\n",
       "      <td>Ba-133</td>\n",
       "      <td>0.00</td>\n",
       "      <td>382.92</td>\n",
       "      <td>7,323.00</td>\n",
       "    </tr>\n",
       "    <tr>\n",
       "      <th>2</th>\n",
       "      <td>Cd-109</td>\n",
       "      <td>0.00</td>\n",
       "      <td>3.45</td>\n",
       "      <td>7,323.00</td>\n",
       "    </tr>\n",
       "    <tr>\n",
       "      <th>3</th>\n",
       "      <td>Co-57</td>\n",
       "      <td>0.00</td>\n",
       "      <td>294.49</td>\n",
       "      <td>7,323.00</td>\n",
       "    </tr>\n",
       "    <tr>\n",
       "      <th>4</th>\n",
       "      <td>Co-60</td>\n",
       "      <td>0.00</td>\n",
       "      <td>10,321.39</td>\n",
       "      <td>7,323.00</td>\n",
       "    </tr>\n",
       "    <tr>\n",
       "      <th>5</th>\n",
       "      <td>Cs-137</td>\n",
       "      <td>0.00</td>\n",
       "      <td>1,616.93</td>\n",
       "      <td>7,323.00</td>\n",
       "    </tr>\n",
       "    <tr>\n",
       "      <th>6</th>\n",
       "      <td>Eu-152</td>\n",
       "      <td>0.00</td>\n",
       "      <td>-3,305.24</td>\n",
       "      <td>7,323.00</td>\n",
       "    </tr>\n",
       "    <tr>\n",
       "      <th>7</th>\n",
       "      <td>Mn-54</td>\n",
       "      <td>0.00</td>\n",
       "      <td>3,168.04</td>\n",
       "      <td>7,323.00</td>\n",
       "    </tr>\n",
       "    <tr>\n",
       "      <th>8</th>\n",
       "      <td>Na-22</td>\n",
       "      <td>0.00</td>\n",
       "      <td>13,763.87</td>\n",
       "      <td>7,323.00</td>\n",
       "    </tr>\n",
       "    <tr>\n",
       "      <th>9</th>\n",
       "      <td>Pb-210</td>\n",
       "      <td>8.51</td>\n",
       "      <td>9.96</td>\n",
       "      <td>7,323.00</td>\n",
       "    </tr>\n",
       "  </tbody>\n",
       "</table>\n",
       "</div>"
      ],
      "text/plain": [
       "  radionuclideo  nuclei_score  nuclei_counts  real_counts\n",
       "0        Am-241          0.00          -1.58     7,323.00\n",
       "1        Ba-133          0.00         382.92     7,323.00\n",
       "2        Cd-109          0.00           3.45     7,323.00\n",
       "3         Co-57          0.00         294.49     7,323.00\n",
       "4         Co-60          0.00      10,321.39     7,323.00\n",
       "5        Cs-137          0.00       1,616.93     7,323.00\n",
       "6        Eu-152          0.00      -3,305.24     7,323.00\n",
       "7         Mn-54          0.00       3,168.04     7,323.00\n",
       "8         Na-22          0.00      13,763.87     7,323.00\n",
       "9        Pb-210          8.51           9.96     7,323.00"
      ]
     },
     "execution_count": 224,
     "metadata": {},
     "output_type": "execute_result"
    }
   ],
   "source": [
    "validation_nuclei = 'Co-57'\n",
    "preds = model.predict(np.array([images[validation_nuclei].reshape((128, 128, 1))]))\n",
    "\n",
    "df = pd.DataFrame({'radionuclideo':binarizer.classes_,\n",
    "                   'nuclei_score': preds[0][0]*100,\n",
    "                   'nuclei_counts': scaler.inverse_transform(preds[1][0]),\n",
    "                   'real_counts': np.sum(images[validation_nuclei])})\n",
    "df"
   ]
  },
  {
   "cell_type": "code",
   "execution_count": 225,
   "metadata": {},
   "outputs": [
    {
     "data": {
      "text/html": [
       "<div>\n",
       "<style scoped>\n",
       "    .dataframe tbody tr th:only-of-type {\n",
       "        vertical-align: middle;\n",
       "    }\n",
       "\n",
       "    .dataframe tbody tr th {\n",
       "        vertical-align: top;\n",
       "    }\n",
       "\n",
       "    .dataframe thead th {\n",
       "        text-align: right;\n",
       "    }\n",
       "</style>\n",
       "<table border=\"1\" class=\"dataframe\">\n",
       "  <thead>\n",
       "    <tr style=\"text-align: right;\">\n",
       "      <th></th>\n",
       "      <th>radionuclideo</th>\n",
       "      <th>nuclei_score</th>\n",
       "      <th>nuclei_counts</th>\n",
       "      <th>real_counts</th>\n",
       "    </tr>\n",
       "  </thead>\n",
       "  <tbody>\n",
       "    <tr>\n",
       "      <th>0</th>\n",
       "      <td>Am-241</td>\n",
       "      <td>99.88</td>\n",
       "      <td>1,552.01</td>\n",
       "      <td>155,643.00</td>\n",
       "    </tr>\n",
       "    <tr>\n",
       "      <th>1</th>\n",
       "      <td>Ba-133</td>\n",
       "      <td>0.00</td>\n",
       "      <td>-1,610.22</td>\n",
       "      <td>155,643.00</td>\n",
       "    </tr>\n",
       "    <tr>\n",
       "      <th>2</th>\n",
       "      <td>Cd-109</td>\n",
       "      <td>100.00</td>\n",
       "      <td>482.94</td>\n",
       "      <td>155,643.00</td>\n",
       "    </tr>\n",
       "    <tr>\n",
       "      <th>3</th>\n",
       "      <td>Co-57</td>\n",
       "      <td>0.00</td>\n",
       "      <td>700.87</td>\n",
       "      <td>155,643.00</td>\n",
       "    </tr>\n",
       "    <tr>\n",
       "      <th>4</th>\n",
       "      <td>Co-60</td>\n",
       "      <td>0.00</td>\n",
       "      <td>-68,734.31</td>\n",
       "      <td>155,643.00</td>\n",
       "    </tr>\n",
       "    <tr>\n",
       "      <th>5</th>\n",
       "      <td>Cs-137</td>\n",
       "      <td>0.00</td>\n",
       "      <td>1,239.89</td>\n",
       "      <td>155,643.00</td>\n",
       "    </tr>\n",
       "    <tr>\n",
       "      <th>6</th>\n",
       "      <td>Eu-152</td>\n",
       "      <td>0.00</td>\n",
       "      <td>2,930.41</td>\n",
       "      <td>155,643.00</td>\n",
       "    </tr>\n",
       "    <tr>\n",
       "      <th>7</th>\n",
       "      <td>Mn-54</td>\n",
       "      <td>0.00</td>\n",
       "      <td>-12,110.82</td>\n",
       "      <td>155,643.00</td>\n",
       "    </tr>\n",
       "    <tr>\n",
       "      <th>8</th>\n",
       "      <td>Na-22</td>\n",
       "      <td>0.00</td>\n",
       "      <td>-18,264.38</td>\n",
       "      <td>155,643.00</td>\n",
       "    </tr>\n",
       "    <tr>\n",
       "      <th>9</th>\n",
       "      <td>Pb-210</td>\n",
       "      <td>99.91</td>\n",
       "      <td>56.53</td>\n",
       "      <td>155,643.00</td>\n",
       "    </tr>\n",
       "  </tbody>\n",
       "</table>\n",
       "</div>"
      ],
      "text/plain": [
       "  radionuclideo  nuclei_score  nuclei_counts  real_counts\n",
       "0        Am-241         99.88       1,552.01   155,643.00\n",
       "1        Ba-133          0.00      -1,610.22   155,643.00\n",
       "2        Cd-109        100.00         482.94   155,643.00\n",
       "3         Co-57          0.00         700.87   155,643.00\n",
       "4         Co-60          0.00     -68,734.31   155,643.00\n",
       "5        Cs-137          0.00       1,239.89   155,643.00\n",
       "6        Eu-152          0.00       2,930.41   155,643.00\n",
       "7         Mn-54          0.00     -12,110.82   155,643.00\n",
       "8         Na-22          0.00     -18,264.38   155,643.00\n",
       "9        Pb-210         99.91          56.53   155,643.00"
      ]
     },
     "execution_count": 225,
     "metadata": {},
     "output_type": "execute_result"
    }
   ],
   "source": [
    "validation_nuclei = 'Co-60'\n",
    "preds = model.predict(np.array([images[validation_nuclei].reshape((128, 128, 1))]))\n",
    "\n",
    "df = pd.DataFrame({'radionuclideo':binarizer.classes_,\n",
    "                   'nuclei_score': preds[0][0]*100,\n",
    "                   'nuclei_counts': scaler.inverse_transform(preds[1][0]),\n",
    "                   'real_counts': np.sum(images[validation_nuclei])})\n",
    "df"
   ]
  },
  {
   "cell_type": "code",
   "execution_count": 226,
   "metadata": {},
   "outputs": [
    {
     "data": {
      "text/html": [
       "<div>\n",
       "<style scoped>\n",
       "    .dataframe tbody tr th:only-of-type {\n",
       "        vertical-align: middle;\n",
       "    }\n",
       "\n",
       "    .dataframe tbody tr th {\n",
       "        vertical-align: top;\n",
       "    }\n",
       "\n",
       "    .dataframe thead th {\n",
       "        text-align: right;\n",
       "    }\n",
       "</style>\n",
       "<table border=\"1\" class=\"dataframe\">\n",
       "  <thead>\n",
       "    <tr style=\"text-align: right;\">\n",
       "      <th></th>\n",
       "      <th>radionuclideo</th>\n",
       "      <th>nuclei_score</th>\n",
       "      <th>nuclei_counts</th>\n",
       "      <th>real_counts</th>\n",
       "    </tr>\n",
       "  </thead>\n",
       "  <tbody>\n",
       "    <tr>\n",
       "      <th>0</th>\n",
       "      <td>Am-241</td>\n",
       "      <td>100.00</td>\n",
       "      <td>1,960.42</td>\n",
       "      <td>188,461.00</td>\n",
       "    </tr>\n",
       "    <tr>\n",
       "      <th>1</th>\n",
       "      <td>Ba-133</td>\n",
       "      <td>0.00</td>\n",
       "      <td>1,109.47</td>\n",
       "      <td>188,461.00</td>\n",
       "    </tr>\n",
       "    <tr>\n",
       "      <th>2</th>\n",
       "      <td>Cd-109</td>\n",
       "      <td>99.48</td>\n",
       "      <td>330.32</td>\n",
       "      <td>188,461.00</td>\n",
       "    </tr>\n",
       "    <tr>\n",
       "      <th>3</th>\n",
       "      <td>Co-57</td>\n",
       "      <td>0.00</td>\n",
       "      <td>3,078.06</td>\n",
       "      <td>188,461.00</td>\n",
       "    </tr>\n",
       "    <tr>\n",
       "      <th>4</th>\n",
       "      <td>Co-60</td>\n",
       "      <td>0.00</td>\n",
       "      <td>5,224.59</td>\n",
       "      <td>188,461.00</td>\n",
       "    </tr>\n",
       "    <tr>\n",
       "      <th>5</th>\n",
       "      <td>Cs-137</td>\n",
       "      <td>0.00</td>\n",
       "      <td>-6,412.73</td>\n",
       "      <td>188,461.00</td>\n",
       "    </tr>\n",
       "    <tr>\n",
       "      <th>6</th>\n",
       "      <td>Eu-152</td>\n",
       "      <td>0.00</td>\n",
       "      <td>9,314.96</td>\n",
       "      <td>188,461.00</td>\n",
       "    </tr>\n",
       "    <tr>\n",
       "      <th>7</th>\n",
       "      <td>Mn-54</td>\n",
       "      <td>0.00</td>\n",
       "      <td>29,165.49</td>\n",
       "      <td>188,461.00</td>\n",
       "    </tr>\n",
       "    <tr>\n",
       "      <th>8</th>\n",
       "      <td>Na-22</td>\n",
       "      <td>0.00</td>\n",
       "      <td>72,900.98</td>\n",
       "      <td>188,461.00</td>\n",
       "    </tr>\n",
       "    <tr>\n",
       "      <th>9</th>\n",
       "      <td>Pb-210</td>\n",
       "      <td>99.99</td>\n",
       "      <td>58.02</td>\n",
       "      <td>188,461.00</td>\n",
       "    </tr>\n",
       "  </tbody>\n",
       "</table>\n",
       "</div>"
      ],
      "text/plain": [
       "  radionuclideo  nuclei_score  nuclei_counts  real_counts\n",
       "0        Am-241        100.00       1,960.42   188,461.00\n",
       "1        Ba-133          0.00       1,109.47   188,461.00\n",
       "2        Cd-109         99.48         330.32   188,461.00\n",
       "3         Co-57          0.00       3,078.06   188,461.00\n",
       "4         Co-60          0.00       5,224.59   188,461.00\n",
       "5        Cs-137          0.00      -6,412.73   188,461.00\n",
       "6        Eu-152          0.00       9,314.96   188,461.00\n",
       "7         Mn-54          0.00      29,165.49   188,461.00\n",
       "8         Na-22          0.00      72,900.98   188,461.00\n",
       "9        Pb-210         99.99          58.02   188,461.00"
      ]
     },
     "execution_count": 226,
     "metadata": {},
     "output_type": "execute_result"
    }
   ],
   "source": [
    "validation_nuclei = 'Cs-137'\n",
    "preds = model.predict(np.array([images[validation_nuclei].reshape((128, 128, 1))]))\n",
    "\n",
    "df = pd.DataFrame({'radionuclideo':binarizer.classes_,\n",
    "                   'nuclei_score': preds[0][0]*100,\n",
    "                   'nuclei_counts': scaler.inverse_transform(preds[1][0]),\n",
    "                   'real_counts': np.sum(images[validation_nuclei])})\n",
    "df"
   ]
  },
  {
   "cell_type": "code",
   "execution_count": 227,
   "metadata": {},
   "outputs": [
    {
     "data": {
      "text/html": [
       "<div>\n",
       "<style scoped>\n",
       "    .dataframe tbody tr th:only-of-type {\n",
       "        vertical-align: middle;\n",
       "    }\n",
       "\n",
       "    .dataframe tbody tr th {\n",
       "        vertical-align: top;\n",
       "    }\n",
       "\n",
       "    .dataframe thead th {\n",
       "        text-align: right;\n",
       "    }\n",
       "</style>\n",
       "<table border=\"1\" class=\"dataframe\">\n",
       "  <thead>\n",
       "    <tr style=\"text-align: right;\">\n",
       "      <th></th>\n",
       "      <th>radionuclideo</th>\n",
       "      <th>nuclei_score</th>\n",
       "      <th>nuclei_counts</th>\n",
       "      <th>real_counts</th>\n",
       "    </tr>\n",
       "  </thead>\n",
       "  <tbody>\n",
       "    <tr>\n",
       "      <th>0</th>\n",
       "      <td>Am-241</td>\n",
       "      <td>89.37</td>\n",
       "      <td>1,222.71</td>\n",
       "      <td>94,419.00</td>\n",
       "    </tr>\n",
       "    <tr>\n",
       "      <th>1</th>\n",
       "      <td>Ba-133</td>\n",
       "      <td>0.00</td>\n",
       "      <td>-234.71</td>\n",
       "      <td>94,419.00</td>\n",
       "    </tr>\n",
       "    <tr>\n",
       "      <th>2</th>\n",
       "      <td>Cd-109</td>\n",
       "      <td>100.00</td>\n",
       "      <td>587.75</td>\n",
       "      <td>94,419.00</td>\n",
       "    </tr>\n",
       "    <tr>\n",
       "      <th>3</th>\n",
       "      <td>Co-57</td>\n",
       "      <td>0.00</td>\n",
       "      <td>5,065.22</td>\n",
       "      <td>94,419.00</td>\n",
       "    </tr>\n",
       "    <tr>\n",
       "      <th>4</th>\n",
       "      <td>Co-60</td>\n",
       "      <td>0.00</td>\n",
       "      <td>16,460.96</td>\n",
       "      <td>94,419.00</td>\n",
       "    </tr>\n",
       "    <tr>\n",
       "      <th>5</th>\n",
       "      <td>Cs-137</td>\n",
       "      <td>0.00</td>\n",
       "      <td>-4,420.80</td>\n",
       "      <td>94,419.00</td>\n",
       "    </tr>\n",
       "    <tr>\n",
       "      <th>6</th>\n",
       "      <td>Eu-152</td>\n",
       "      <td>0.00</td>\n",
       "      <td>-9,402.40</td>\n",
       "      <td>94,419.00</td>\n",
       "    </tr>\n",
       "    <tr>\n",
       "      <th>7</th>\n",
       "      <td>Mn-54</td>\n",
       "      <td>0.00</td>\n",
       "      <td>16,052.39</td>\n",
       "      <td>94,419.00</td>\n",
       "    </tr>\n",
       "    <tr>\n",
       "      <th>8</th>\n",
       "      <td>Na-22</td>\n",
       "      <td>0.00</td>\n",
       "      <td>20,668.13</td>\n",
       "      <td>94,419.00</td>\n",
       "    </tr>\n",
       "    <tr>\n",
       "      <th>9</th>\n",
       "      <td>Pb-210</td>\n",
       "      <td>100.00</td>\n",
       "      <td>66.66</td>\n",
       "      <td>94,419.00</td>\n",
       "    </tr>\n",
       "  </tbody>\n",
       "</table>\n",
       "</div>"
      ],
      "text/plain": [
       "  radionuclideo  nuclei_score  nuclei_counts  real_counts\n",
       "0        Am-241         89.37       1,222.71    94,419.00\n",
       "1        Ba-133          0.00        -234.71    94,419.00\n",
       "2        Cd-109        100.00         587.75    94,419.00\n",
       "3         Co-57          0.00       5,065.22    94,419.00\n",
       "4         Co-60          0.00      16,460.96    94,419.00\n",
       "5        Cs-137          0.00      -4,420.80    94,419.00\n",
       "6        Eu-152          0.00      -9,402.40    94,419.00\n",
       "7         Mn-54          0.00      16,052.39    94,419.00\n",
       "8         Na-22          0.00      20,668.13    94,419.00\n",
       "9        Pb-210        100.00          66.66    94,419.00"
      ]
     },
     "execution_count": 227,
     "metadata": {},
     "output_type": "execute_result"
    }
   ],
   "source": [
    "validation_nuclei = 'Eu-152'\n",
    "preds = model.predict(np.array([images[validation_nuclei].reshape((128, 128, 1))]))\n",
    "\n",
    "df = pd.DataFrame({'radionuclideo':binarizer.classes_,\n",
    "                   'nuclei_score': preds[0][0]*100,\n",
    "                   'nuclei_counts': scaler.inverse_transform(preds[1][0]),\n",
    "                   'real_counts': np.sum(images[validation_nuclei])})\n",
    "df"
   ]
  },
  {
   "cell_type": "code",
   "execution_count": 228,
   "metadata": {},
   "outputs": [
    {
     "data": {
      "text/html": [
       "<div>\n",
       "<style scoped>\n",
       "    .dataframe tbody tr th:only-of-type {\n",
       "        vertical-align: middle;\n",
       "    }\n",
       "\n",
       "    .dataframe tbody tr th {\n",
       "        vertical-align: top;\n",
       "    }\n",
       "\n",
       "    .dataframe thead th {\n",
       "        text-align: right;\n",
       "    }\n",
       "</style>\n",
       "<table border=\"1\" class=\"dataframe\">\n",
       "  <thead>\n",
       "    <tr style=\"text-align: right;\">\n",
       "      <th></th>\n",
       "      <th>radionuclideo</th>\n",
       "      <th>nuclei_score</th>\n",
       "      <th>nuclei_counts</th>\n",
       "      <th>real_counts</th>\n",
       "    </tr>\n",
       "  </thead>\n",
       "  <tbody>\n",
       "    <tr>\n",
       "      <th>0</th>\n",
       "      <td>Am-241</td>\n",
       "      <td>0.00</td>\n",
       "      <td>-3.57</td>\n",
       "      <td>7,159.00</td>\n",
       "    </tr>\n",
       "    <tr>\n",
       "      <th>1</th>\n",
       "      <td>Ba-133</td>\n",
       "      <td>0.00</td>\n",
       "      <td>329.99</td>\n",
       "      <td>7,159.00</td>\n",
       "    </tr>\n",
       "    <tr>\n",
       "      <th>2</th>\n",
       "      <td>Cd-109</td>\n",
       "      <td>0.00</td>\n",
       "      <td>1.94</td>\n",
       "      <td>7,159.00</td>\n",
       "    </tr>\n",
       "    <tr>\n",
       "      <th>3</th>\n",
       "      <td>Co-57</td>\n",
       "      <td>0.00</td>\n",
       "      <td>298.76</td>\n",
       "      <td>7,159.00</td>\n",
       "    </tr>\n",
       "    <tr>\n",
       "      <th>4</th>\n",
       "      <td>Co-60</td>\n",
       "      <td>0.00</td>\n",
       "      <td>10,106.33</td>\n",
       "      <td>7,159.00</td>\n",
       "    </tr>\n",
       "    <tr>\n",
       "      <th>5</th>\n",
       "      <td>Cs-137</td>\n",
       "      <td>0.00</td>\n",
       "      <td>1,594.40</td>\n",
       "      <td>7,159.00</td>\n",
       "    </tr>\n",
       "    <tr>\n",
       "      <th>6</th>\n",
       "      <td>Eu-152</td>\n",
       "      <td>0.00</td>\n",
       "      <td>-3,210.27</td>\n",
       "      <td>7,159.00</td>\n",
       "    </tr>\n",
       "    <tr>\n",
       "      <th>7</th>\n",
       "      <td>Mn-54</td>\n",
       "      <td>0.00</td>\n",
       "      <td>3,097.75</td>\n",
       "      <td>7,159.00</td>\n",
       "    </tr>\n",
       "    <tr>\n",
       "      <th>8</th>\n",
       "      <td>Na-22</td>\n",
       "      <td>0.00</td>\n",
       "      <td>13,431.68</td>\n",
       "      <td>7,159.00</td>\n",
       "    </tr>\n",
       "    <tr>\n",
       "      <th>9</th>\n",
       "      <td>Pb-210</td>\n",
       "      <td>8.98</td>\n",
       "      <td>10.31</td>\n",
       "      <td>7,159.00</td>\n",
       "    </tr>\n",
       "  </tbody>\n",
       "</table>\n",
       "</div>"
      ],
      "text/plain": [
       "  radionuclideo  nuclei_score  nuclei_counts  real_counts\n",
       "0        Am-241          0.00          -3.57     7,159.00\n",
       "1        Ba-133          0.00         329.99     7,159.00\n",
       "2        Cd-109          0.00           1.94     7,159.00\n",
       "3         Co-57          0.00         298.76     7,159.00\n",
       "4         Co-60          0.00      10,106.33     7,159.00\n",
       "5        Cs-137          0.00       1,594.40     7,159.00\n",
       "6        Eu-152          0.00      -3,210.27     7,159.00\n",
       "7         Mn-54          0.00       3,097.75     7,159.00\n",
       "8         Na-22          0.00      13,431.68     7,159.00\n",
       "9        Pb-210          8.98          10.31     7,159.00"
      ]
     },
     "execution_count": 228,
     "metadata": {},
     "output_type": "execute_result"
    }
   ],
   "source": [
    "validation_nuclei = 'Mn-54'\n",
    "preds = model.predict(np.array([images[validation_nuclei].reshape((128, 128, 1))]))\n",
    "\n",
    "df = pd.DataFrame({'radionuclideo':binarizer.classes_,\n",
    "                   'nuclei_score': preds[0][0]*100,\n",
    "                   'nuclei_counts': scaler.inverse_transform(preds[1][0]),\n",
    "                   'real_counts': np.sum(images[validation_nuclei])})\n",
    "df"
   ]
  },
  {
   "cell_type": "code",
   "execution_count": 229,
   "metadata": {},
   "outputs": [
    {
     "data": {
      "text/html": [
       "<div>\n",
       "<style scoped>\n",
       "    .dataframe tbody tr th:only-of-type {\n",
       "        vertical-align: middle;\n",
       "    }\n",
       "\n",
       "    .dataframe tbody tr th {\n",
       "        vertical-align: top;\n",
       "    }\n",
       "\n",
       "    .dataframe thead th {\n",
       "        text-align: right;\n",
       "    }\n",
       "</style>\n",
       "<table border=\"1\" class=\"dataframe\">\n",
       "  <thead>\n",
       "    <tr style=\"text-align: right;\">\n",
       "      <th></th>\n",
       "      <th>radionuclideo</th>\n",
       "      <th>nuclei_score</th>\n",
       "      <th>nuclei_counts</th>\n",
       "      <th>real_counts</th>\n",
       "    </tr>\n",
       "  </thead>\n",
       "  <tbody>\n",
       "    <tr>\n",
       "      <th>0</th>\n",
       "      <td>Am-241</td>\n",
       "      <td>0.00</td>\n",
       "      <td>3.57</td>\n",
       "      <td>7,965.00</td>\n",
       "    </tr>\n",
       "    <tr>\n",
       "      <th>1</th>\n",
       "      <td>Ba-133</td>\n",
       "      <td>0.00</td>\n",
       "      <td>811.70</td>\n",
       "      <td>7,965.00</td>\n",
       "    </tr>\n",
       "    <tr>\n",
       "      <th>2</th>\n",
       "      <td>Cd-109</td>\n",
       "      <td>0.01</td>\n",
       "      <td>6.82</td>\n",
       "      <td>7,965.00</td>\n",
       "    </tr>\n",
       "    <tr>\n",
       "      <th>3</th>\n",
       "      <td>Co-57</td>\n",
       "      <td>0.00</td>\n",
       "      <td>222.98</td>\n",
       "      <td>7,965.00</td>\n",
       "    </tr>\n",
       "    <tr>\n",
       "      <th>4</th>\n",
       "      <td>Co-60</td>\n",
       "      <td>0.00</td>\n",
       "      <td>11,193.09</td>\n",
       "      <td>7,965.00</td>\n",
       "    </tr>\n",
       "    <tr>\n",
       "      <th>5</th>\n",
       "      <td>Cs-137</td>\n",
       "      <td>0.00</td>\n",
       "      <td>1,403.25</td>\n",
       "      <td>7,965.00</td>\n",
       "    </tr>\n",
       "    <tr>\n",
       "      <th>6</th>\n",
       "      <td>Eu-152</td>\n",
       "      <td>0.00</td>\n",
       "      <td>-3,801.38</td>\n",
       "      <td>7,965.00</td>\n",
       "    </tr>\n",
       "    <tr>\n",
       "      <th>7</th>\n",
       "      <td>Mn-54</td>\n",
       "      <td>0.00</td>\n",
       "      <td>3,456.21</td>\n",
       "      <td>7,965.00</td>\n",
       "    </tr>\n",
       "    <tr>\n",
       "      <th>8</th>\n",
       "      <td>Na-22</td>\n",
       "      <td>0.00</td>\n",
       "      <td>15,406.99</td>\n",
       "      <td>7,965.00</td>\n",
       "    </tr>\n",
       "    <tr>\n",
       "      <th>9</th>\n",
       "      <td>Pb-210</td>\n",
       "      <td>8.34</td>\n",
       "      <td>9.54</td>\n",
       "      <td>7,965.00</td>\n",
       "    </tr>\n",
       "  </tbody>\n",
       "</table>\n",
       "</div>"
      ],
      "text/plain": [
       "  radionuclideo  nuclei_score  nuclei_counts  real_counts\n",
       "0        Am-241          0.00           3.57     7,965.00\n",
       "1        Ba-133          0.00         811.70     7,965.00\n",
       "2        Cd-109          0.01           6.82     7,965.00\n",
       "3         Co-57          0.00         222.98     7,965.00\n",
       "4         Co-60          0.00      11,193.09     7,965.00\n",
       "5        Cs-137          0.00       1,403.25     7,965.00\n",
       "6        Eu-152          0.00      -3,801.38     7,965.00\n",
       "7         Mn-54          0.00       3,456.21     7,965.00\n",
       "8         Na-22          0.00      15,406.99     7,965.00\n",
       "9        Pb-210          8.34           9.54     7,965.00"
      ]
     },
     "execution_count": 229,
     "metadata": {},
     "output_type": "execute_result"
    }
   ],
   "source": [
    "validation_nuclei = 'Na-22'\n",
    "preds = model.predict(np.array([images[validation_nuclei].reshape((128, 128, 1))]))\n",
    "\n",
    "df = pd.DataFrame({'radionuclideo':binarizer.classes_,\n",
    "                   'nuclei_score': preds[0][0]*100,\n",
    "                   'nuclei_counts': scaler.inverse_transform(preds[1][0]),\n",
    "                   'real_counts': np.sum(images[validation_nuclei])})\n",
    "df"
   ]
  },
  {
   "cell_type": "code",
   "execution_count": 230,
   "metadata": {},
   "outputs": [
    {
     "data": {
      "text/html": [
       "<div>\n",
       "<style scoped>\n",
       "    .dataframe tbody tr th:only-of-type {\n",
       "        vertical-align: middle;\n",
       "    }\n",
       "\n",
       "    .dataframe tbody tr th {\n",
       "        vertical-align: top;\n",
       "    }\n",
       "\n",
       "    .dataframe thead th {\n",
       "        text-align: right;\n",
       "    }\n",
       "</style>\n",
       "<table border=\"1\" class=\"dataframe\">\n",
       "  <thead>\n",
       "    <tr style=\"text-align: right;\">\n",
       "      <th></th>\n",
       "      <th>radionuclideo</th>\n",
       "      <th>nuclei_score</th>\n",
       "      <th>nuclei_counts</th>\n",
       "      <th>real_counts</th>\n",
       "    </tr>\n",
       "  </thead>\n",
       "  <tbody>\n",
       "    <tr>\n",
       "      <th>0</th>\n",
       "      <td>Am-241</td>\n",
       "      <td>0.00</td>\n",
       "      <td>-95.88</td>\n",
       "      <td>19,650.00</td>\n",
       "    </tr>\n",
       "    <tr>\n",
       "      <th>1</th>\n",
       "      <td>Ba-133</td>\n",
       "      <td>0.00</td>\n",
       "      <td>168.67</td>\n",
       "      <td>19,650.00</td>\n",
       "    </tr>\n",
       "    <tr>\n",
       "      <th>2</th>\n",
       "      <td>Cd-109</td>\n",
       "      <td>0.01</td>\n",
       "      <td>28.34</td>\n",
       "      <td>19,650.00</td>\n",
       "    </tr>\n",
       "    <tr>\n",
       "      <th>3</th>\n",
       "      <td>Co-57</td>\n",
       "      <td>0.00</td>\n",
       "      <td>561.57</td>\n",
       "      <td>19,650.00</td>\n",
       "    </tr>\n",
       "    <tr>\n",
       "      <th>4</th>\n",
       "      <td>Co-60</td>\n",
       "      <td>0.00</td>\n",
       "      <td>7,567.99</td>\n",
       "      <td>19,650.00</td>\n",
       "    </tr>\n",
       "    <tr>\n",
       "      <th>5</th>\n",
       "      <td>Cs-137</td>\n",
       "      <td>0.00</td>\n",
       "      <td>-595.61</td>\n",
       "      <td>19,650.00</td>\n",
       "    </tr>\n",
       "    <tr>\n",
       "      <th>6</th>\n",
       "      <td>Eu-152</td>\n",
       "      <td>0.00</td>\n",
       "      <td>-6,837.40</td>\n",
       "      <td>19,650.00</td>\n",
       "    </tr>\n",
       "    <tr>\n",
       "      <th>7</th>\n",
       "      <td>Mn-54</td>\n",
       "      <td>0.00</td>\n",
       "      <td>4,114.57</td>\n",
       "      <td>19,650.00</td>\n",
       "    </tr>\n",
       "    <tr>\n",
       "      <th>8</th>\n",
       "      <td>Na-22</td>\n",
       "      <td>0.00</td>\n",
       "      <td>1,060.13</td>\n",
       "      <td>19,650.00</td>\n",
       "    </tr>\n",
       "    <tr>\n",
       "      <th>9</th>\n",
       "      <td>Pb-210</td>\n",
       "      <td>100.00</td>\n",
       "      <td>62.46</td>\n",
       "      <td>19,650.00</td>\n",
       "    </tr>\n",
       "  </tbody>\n",
       "</table>\n",
       "</div>"
      ],
      "text/plain": [
       "  radionuclideo  nuclei_score  nuclei_counts  real_counts\n",
       "0        Am-241          0.00         -95.88    19,650.00\n",
       "1        Ba-133          0.00         168.67    19,650.00\n",
       "2        Cd-109          0.01          28.34    19,650.00\n",
       "3         Co-57          0.00         561.57    19,650.00\n",
       "4         Co-60          0.00       7,567.99    19,650.00\n",
       "5        Cs-137          0.00        -595.61    19,650.00\n",
       "6        Eu-152          0.00      -6,837.40    19,650.00\n",
       "7         Mn-54          0.00       4,114.57    19,650.00\n",
       "8         Na-22          0.00       1,060.13    19,650.00\n",
       "9        Pb-210        100.00          62.46    19,650.00"
      ]
     },
     "execution_count": 230,
     "metadata": {},
     "output_type": "execute_result"
    }
   ],
   "source": [
    "validation_nuclei = 'Pb-210'\n",
    "preds = model.predict(np.array([images[validation_nuclei].reshape((128, 128, 1))]))\n",
    "\n",
    "df = pd.DataFrame({'radionuclideo':binarizer.classes_,\n",
    "                   'nuclei_score': preds[0][0]*100,\n",
    "                   'nuclei_counts': scaler.inverse_transform(preds[1][0]),\n",
    "                   'real_counts': np.sum(images[validation_nuclei])})\n",
    "df"
   ]
  },
  {
   "cell_type": "markdown",
   "metadata": {},
   "source": [
    "## Fonte triplice de calibração"
   ]
  },
  {
   "cell_type": "code",
   "execution_count": 231,
   "metadata": {},
   "outputs": [],
   "source": [
    "dados = []\n",
    "\n",
    "with open('/export/ipen/artigo/ICDA-3/Espectros/Experimentos/17-Maio-2018/Espectros/Am-Cs-Co - BG.IEC', 'r') as f:\n",
    "    dados = f.readlines()\n",
    "dados = obtem_dados_dos_canais(dados)\n",
    "df_triplice = pd.DataFrame({'channel': range(0, len(dados)), 'counts' : dados})"
   ]
  },
  {
   "cell_type": "code",
   "execution_count": 232,
   "metadata": {},
   "outputs": [
    {
     "data": {
      "image/png": "[encoded data removed]",
      "text/plain": [
       "<Figure size 1224x360 with 2 Axes>"
      ]
     },
     "metadata": {},
     "output_type": "display_data"
    }
   ],
   "source": [
    "f, axarr = plt.subplots(1, 2, figsize=(17, 5))\n",
    "plt.suptitle(\"Fonte tríplice de calibração Am-214, Cs-137, Co-60\", fontsize=16)\n",
    "axarr[0].plot(df_triplice['channel'], df_triplice.counts.shift(-145).fillna(0).values, 'r')\n",
    "axarr[0].set_title(\"Espectro\")\n",
    "axarr[0].set_yscale(\"log\")\n",
    "axarr[0].set_xlabel(\"canal do detector\")\n",
    "axarr[0].set_ylabel(\"log(contagens)\")\n",
    "axarr[1].imshow(np.array(dados).reshape((128,128)))\n",
    "axarr[1].set_title(\"Imagem\")\n",
    "axarr[1].grid(False)\n",
    "\n",
    "#plt.subplots_adjust(bottom=1.25, top=2.75)\n",
    "plt.show()"
   ]
  },
  {
   "cell_type": "code",
   "execution_count": 233,
   "metadata": {},
   "outputs": [],
   "source": [
    "shift_ = 0\n",
    "dados = df_triplice.counts.shift(shift_).fillna(0).values"
   ]
  },
  {
   "cell_type": "code",
   "execution_count": 234,
   "metadata": {},
   "outputs": [
    {
     "name": "stdout",
     "output_type": "stream",
     "text": [
      "CPU times: user 16 µs, sys: 3 µs, total: 19 µs\n",
      "Wall time: 37.2 µs\n"
     ]
    }
   ],
   "source": [
    "%time\n",
    "preds = model.predict(np.array([dados.reshape((128, 128, 1))]))"
   ]
  },
  {
   "cell_type": "code",
   "execution_count": 235,
   "metadata": {
    "scrolled": false
   },
   "outputs": [
    {
     "data": {
      "text/html": [
       "<div>\n",
       "<style scoped>\n",
       "    .dataframe tbody tr th:only-of-type {\n",
       "        vertical-align: middle;\n",
       "    }\n",
       "\n",
       "    .dataframe tbody tr th {\n",
       "        vertical-align: top;\n",
       "    }\n",
       "\n",
       "    .dataframe thead th {\n",
       "        text-align: right;\n",
       "    }\n",
       "</style>\n",
       "<table border=\"1\" class=\"dataframe\">\n",
       "  <thead>\n",
       "    <tr style=\"text-align: right;\">\n",
       "      <th></th>\n",
       "      <th>radionuclideo</th>\n",
       "      <th>nuclei_score</th>\n",
       "      <th>nuclei_counts</th>\n",
       "      <th>real_counts</th>\n",
       "    </tr>\n",
       "  </thead>\n",
       "  <tbody>\n",
       "    <tr>\n",
       "      <th>0</th>\n",
       "      <td>Am-241</td>\n",
       "      <td>100.00</td>\n",
       "      <td>2,185.25</td>\n",
       "      <td>276,428.00</td>\n",
       "    </tr>\n",
       "    <tr>\n",
       "      <th>1</th>\n",
       "      <td>Ba-133</td>\n",
       "      <td>0.00</td>\n",
       "      <td>-3,429.11</td>\n",
       "      <td>276,428.00</td>\n",
       "    </tr>\n",
       "    <tr>\n",
       "      <th>2</th>\n",
       "      <td>Cd-109</td>\n",
       "      <td>99.12</td>\n",
       "      <td>280.52</td>\n",
       "      <td>276,428.00</td>\n",
       "    </tr>\n",
       "    <tr>\n",
       "      <th>3</th>\n",
       "      <td>Co-57</td>\n",
       "      <td>0.02</td>\n",
       "      <td>1,061.44</td>\n",
       "      <td>276,428.00</td>\n",
       "    </tr>\n",
       "    <tr>\n",
       "      <th>4</th>\n",
       "      <td>Co-60</td>\n",
       "      <td>0.00</td>\n",
       "      <td>7,227.27</td>\n",
       "      <td>276,428.00</td>\n",
       "    </tr>\n",
       "    <tr>\n",
       "      <th>5</th>\n",
       "      <td>Cs-137</td>\n",
       "      <td>0.00</td>\n",
       "      <td>-402.28</td>\n",
       "      <td>276,428.00</td>\n",
       "    </tr>\n",
       "    <tr>\n",
       "      <th>6</th>\n",
       "      <td>Eu-152</td>\n",
       "      <td>0.00</td>\n",
       "      <td>-1,379.58</td>\n",
       "      <td>276,428.00</td>\n",
       "    </tr>\n",
       "    <tr>\n",
       "      <th>7</th>\n",
       "      <td>Mn-54</td>\n",
       "      <td>0.00</td>\n",
       "      <td>-16,053.68</td>\n",
       "      <td>276,428.00</td>\n",
       "    </tr>\n",
       "    <tr>\n",
       "      <th>8</th>\n",
       "      <td>Na-22</td>\n",
       "      <td>0.00</td>\n",
       "      <td>5,183.30</td>\n",
       "      <td>276,428.00</td>\n",
       "    </tr>\n",
       "    <tr>\n",
       "      <th>9</th>\n",
       "      <td>Pb-210</td>\n",
       "      <td>98.67</td>\n",
       "      <td>48.48</td>\n",
       "      <td>276,428.00</td>\n",
       "    </tr>\n",
       "  </tbody>\n",
       "</table>\n",
       "</div>"
      ],
      "text/plain": [
       "  radionuclideo  nuclei_score  nuclei_counts  real_counts\n",
       "0        Am-241        100.00       2,185.25   276,428.00\n",
       "1        Ba-133          0.00      -3,429.11   276,428.00\n",
       "2        Cd-109         99.12         280.52   276,428.00\n",
       "3         Co-57          0.02       1,061.44   276,428.00\n",
       "4         Co-60          0.00       7,227.27   276,428.00\n",
       "5        Cs-137          0.00        -402.28   276,428.00\n",
       "6        Eu-152          0.00      -1,379.58   276,428.00\n",
       "7         Mn-54          0.00     -16,053.68   276,428.00\n",
       "8         Na-22          0.00       5,183.30   276,428.00\n",
       "9        Pb-210         98.67          48.48   276,428.00"
      ]
     },
     "execution_count": 235,
     "metadata": {},
     "output_type": "execute_result"
    }
   ],
   "source": [
    "df = pd.DataFrame({'radionuclideo':binarizer.classes_,\n",
    "                   'nuclei_score': preds[0][0]*100,\n",
    "                   'nuclei_counts': scaler.inverse_transform(preds[1][0]),\n",
    "                   'real_counts': np.sum(dados)})\n",
    "df"
   ]
  },
  {
   "cell_type": "markdown",
   "metadata": {},
   "source": [
    "## Identificando os picos da fonte triplice para calcular a atividade por nuclídeo"
   ]
  },
  {
   "cell_type": "code",
   "execution_count": null,
   "metadata": {},
   "outputs": [],
   "source": [
    "import plotly.plotly as py\n",
    "import plotly.graph_objs as go\n",
    "import plotly.figure_factory as ff\n",
    "\n",
    "import numpy as np\n",
    "import pandas as pd\n",
    "import scipy\n",
    "import peakutils"
   ]
  },
  {
   "cell_type": "code",
   "execution_count": null,
   "metadata": {},
   "outputs": [],
   "source": [
    "from scipy.signal import find_peaks"
   ]
  },
  {
   "cell_type": "code",
   "execution_count": null,
   "metadata": {},
   "outputs": [],
   "source": [
    "peaks, _ = find_peaks(df_triplice['counts'], prominence=2e2)\n",
    "plt.plot(df_triplice['counts'])\n",
    "plt.plot(peaks, df_triplice['counts'][peaks], \"x\")\n",
    "plt.plot(np.zeros_like(df_triplice['counts']), \"--\", color=\"gray\")\n",
    "plt.show()"
   ]
  },
  {
   "cell_type": "code",
   "execution_count": null,
   "metadata": {},
   "outputs": [],
   "source": [
    "values = []\n",
    "for idx, peak in enumerate(peaks):\n",
    "    print(idx)\n",
    "    values.append(np.trapz(df_triplice['counts'][peak-(1+1*idx):peak+(1+1*idx)], dx=15))\n",
    "values, np.sum(values)"
   ]
  },
  {
   "cell_type": "code",
   "execution_count": null,
   "metadata": {},
   "outputs": [],
   "source": [
    "values[-1] + values[-2], values[-1], values[-2]"
   ]
  },
  {
   "cell_type": "code",
   "execution_count": null,
   "metadata": {},
   "outputs": [],
   "source": [
    "from sklearn.metrics import mean_squared_error, mean_absolute_error"
   ]
  },
  {
   "cell_type": "code",
   "execution_count": null,
   "metadata": {},
   "outputs": [],
   "source": [
    "y_pred = scaler.transform([[36408, 0, 0, 0, 229988, 69041, 0, 0, 0, 0]])\n",
    "y_     = scaler.transform([[52020, 0, 0, 0, 86410, 368790, 0, 0, 0, 0]])\n",
    "\n",
    "y_pred = [[36408, 0, 0, 0, 229988, 69041, 0, 0, 0, 0]]\n",
    "y_     = [[52020, 0, 0, 0, 86410, 368790, 0, 0, 0, 0]]"
   ]
  },
  {
   "cell_type": "code",
   "execution_count": null,
   "metadata": {},
   "outputs": [],
   "source": [
    "np.sum(y_) / 1e6, np.sum(y_pred) / 1e6"
   ]
  },
  {
   "cell_type": "code",
   "execution_count": null,
   "metadata": {},
   "outputs": [],
   "source": [
    "mean_squared_error(y_, y_pred, multioutput='uniform_average') / 1e6"
   ]
  },
  {
   "cell_type": "code",
   "execution_count": null,
   "metadata": {},
   "outputs": [],
   "source": [
    "mean_absolute_error(y_, y_pred, multioutput='uniform_average')"
   ]
  }
 ],
 "metadata": {
  "kernelspec": {
   "display_name": "Python 3",
   "language": "python",
   "name": "python3"
  },
  "language_info": {
   "codemirror_mode": {
    "name": "ipython",
    "version": 3
   },
   "file_extension": ".py",
   "mimetype": "text/x-python",
   "name": "python",
   "nbconvert_exporter": "python",
   "pygments_lexer": "ipython3",
   "version": "3.6.8"
  }
 },
 "nbformat": 4,
 "nbformat_minor": 2
}
