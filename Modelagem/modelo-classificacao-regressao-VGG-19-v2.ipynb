{
 "cells": [
  {
   "cell_type": "code",
   "execution_count": 1,
   "metadata": {},
   "outputs": [],
   "source": [
    "import glob\n",
    "import numpy as np\n",
    "import pandas as pd\n",
    "from tqdm import tqdm_notebook\n",
    "from sklearn.preprocessing import MultiLabelBinarizer\n",
    "\n",
    "pd.options.display.float_format = '{:,.2f}'.format"
   ]
  },
  {
   "cell_type": "code",
   "execution_count": 2,
   "metadata": {},
   "outputs": [
    {
     "name": "stderr",
     "output_type": "stream",
     "text": [
      "/home/andre/.conda/envs/py36/lib/python3.6/site-packages/h5py/__init__.py:36: FutureWarning: Conversion of the second argument of issubdtype from `float` to `np.floating` is deprecated. In future, it will be treated as `np.float64 == np.dtype(float).type`.\n",
      "  from ._conv import register_converters as _register_converters\n",
      "Using TensorFlow backend.\n"
     ]
    }
   ],
   "source": [
    "import pandas as pd\n",
    "import numpy as np\n",
    "import matplotlib.pyplot as plt\n",
    "import random\n",
    "# Para o Modelo\n",
    "import tensorflow as tf\n",
    "import keras\n",
    "from keras import backend as K\n",
    "from keras.applications.vgg19 import VGG19\n",
    "from keras.optimizers import *\n",
    "from keras.callbacks import *\n",
    "from keras.metrics import top_k_categorical_accuracy\n",
    "from keras.utils import to_categorical\n",
    "from sklearn.metrics import accuracy_score\n",
    "from sklearn.model_selection import train_test_split\n",
    "\n",
    "from sklearn.preprocessing import StandardScaler"
   ]
  },
  {
   "cell_type": "markdown",
   "metadata": {},
   "source": [
    "# Processando os dados\n",
    "\n",
    "## Gerados com Penelope"
   ]
  },
  {
   "cell_type": "code",
   "execution_count": 3,
   "metadata": {},
   "outputs": [],
   "source": [
    "files =  glob.glob(\"../dados_*/*.dat\")"
   ]
  },
  {
   "cell_type": "code",
   "execution_count": 4,
   "metadata": {},
   "outputs": [
    {
     "data": {
      "text/plain": [
       "1320"
      ]
     },
     "execution_count": 4,
     "metadata": {},
     "output_type": "execute_result"
    }
   ],
   "source": [
    "len(files)"
   ]
  },
  {
   "cell_type": "code",
   "execution_count": 5,
   "metadata": {},
   "outputs": [],
   "source": [
    "def le_performance_report(filename):\n",
    "    # 164000\n",
    "    # Performance report\n",
    "    #   Random seeds:\n",
    "    #   1800926990\n",
    "    #   1275941380\n",
    "    #   No. of histories simulated [N]:\n",
    "    #            10000000.\n",
    "    #   CPU time [t] (s):\n",
    "    #    3.28417E+01\n",
    "    #   Speed (histories/s):\n",
    "    #    3.04491E+05\n",
    "    #   Average uncertainty (above 1/2 max score) in % [uncert]:\n",
    "    #    1.27128E-01\n",
    "    #   Intrinsic efficiency [N*uncert^2]^-1:\n",
    "    #    6.18758E-06\n",
    "    #   Absolute efficiency [t*uncert^2]^-1:\n",
    "    #    1.88406E+00\n",
    "    \n",
    "    with open(filename, \"r\") as f:\n",
    "        linhas = f.readlines()\n",
    "    return float(linhas[16400+7][1:])\n",
    "\n",
    "def carrega_dados(filename, n_particulas=1.0e07):\n",
    "    data = {\n",
    "        'Elow(eV)' : [],\n",
    "        'Emiddle(eV)' : [],\n",
    "        'counts(1/eV/hist)' : [],\n",
    "        '+-2sigma':[],\n",
    "        'nbin' : []\n",
    "    }\n",
    "\n",
    "    linha_de_dados = False\n",
    "    with open(filename, \"r\") as f:\n",
    "        for line in f:\n",
    "            if line[0] == '#':\n",
    "                linha_de_dados = False\n",
    "            else:\n",
    "                linha_de_dados = True\n",
    "\n",
    "            if linha_de_dados:\n",
    "                aux = line.split(' ')\n",
    "                if len(aux) == 2:\n",
    "                    break\n",
    "\n",
    "                data['Elow(eV)'].append(np.fromstring(aux[2], dtype=np.float64, sep=',')[0])\n",
    "                data['Emiddle(eV)'].append(np.fromstring(aux[4], dtype=np.float64, sep=',')[0])\n",
    "                q = np.fromstring(aux[6], dtype=np.float64, sep=',')[0]\n",
    "                data['counts(1/eV/hist)'].append(q)\n",
    "                data['+-2sigma'].append(np.fromstring(aux[8], dtype=np.float64, sep=',')[0])\n",
    "                nbin = np.fromstring(aux[9], dtype=np.int, sep=',')[0]\n",
    "                data['nbin'].append(nbin)      \n",
    "\n",
    "    df = pd.DataFrame.from_dict(data)\n",
    "    df['counts'] = df['counts(1/eV/hist)'].values * n_particulas * 1 / ((df['Elow(eV)'].shift(-1).fillna(0) - df['Elow(eV)']) / df['nbin'])\n",
    "    df['counts'] = df['counts']#.astype(np.uint8)\n",
    "    df['counts'][0:20] = 0\n",
    "    df['E'] = df['Elow(eV)'] / 1e3\n",
    "    return df.loc[0:16383]"
   ]
  },
  {
   "cell_type": "code",
   "execution_count": 6,
   "metadata": {},
   "outputs": [
    {
     "name": "stdout",
     "output_type": "stream",
     "text": [
      "Total de tempo de CPU utilizado: 276.3862706481477 dias\n"
     ]
    }
   ],
   "source": [
    "tempo_segundos = 0\n",
    "\n",
    "for file_ in files:\n",
    "    tempo_segundos += le_performance_report(file_)\n",
    "    \n",
    "print(\"Total de tempo de CPU utilizado: {0} dias\".format(tempo_segundos / 60 / 60 / 24))"
   ]
  },
  {
   "cell_type": "code",
   "execution_count": 7,
   "metadata": {},
   "outputs": [],
   "source": [
    "energias_iniciais_multicanal = ['1', '250', '400', '150', '300', '0']\n",
    "#energias_iniciais_multicanal = ['0-01.dat']\n",
    "#energias_iniciais_multicanal = ['0-01.dat', '5-0.dat', '10-0.dat', '30-0.dat', '40-0.dat']\n",
    "#energias_iniciais_multicanal = ['0-01.dat']"
   ]
  },
  {
   "cell_type": "code",
   "execution_count": 8,
   "metadata": {},
   "outputs": [
    {
     "data": {
      "text/plain": [
       "array(['Am-241', 'Ba-133', 'Cd-109', 'Co-57', 'Co-60', 'Cs-137', 'Eu-152',\n",
       "       'Mn-54', 'Na-22', 'Pb-210'], dtype=object)"
      ]
     },
     "execution_count": 8,
     "metadata": {},
     "output_type": "execute_result"
    }
   ],
   "source": [
    "nomes_nuclideos = {\n",
    "    'Am-241': 0,\n",
    "    'Ba-133': 1,\n",
    "    'Cd-109': 2,\n",
    "    'Co-57': 3,\n",
    "    'Co-60': 4,\n",
    "    'Cs-137': 5,\n",
    "    'Eu-152': 6,\n",
    "    'Mn-54': 7,\n",
    "    'Na-22': 8,\n",
    "    'Pb-210': 9\n",
    "}\n",
    "\n",
    "binarizer = MultiLabelBinarizer()\n",
    "binarizer.fit([list(nomes_nuclideos.keys())])\n",
    "binarizer.classes_"
   ]
  },
  {
   "cell_type": "code",
   "execution_count": 9,
   "metadata": {},
   "outputs": [
    {
     "data": {
      "application/vnd.jupyter.widget-view+json": {
       "model_id": "548d998027b94be1804b56a28056df65",
       "version_major": 2,
       "version_minor": 0
      },
      "text/plain": [
       "HBox(children=(IntProgress(value=0, max=1320), HTML(value='')))"
      ]
     },
     "metadata": {},
     "output_type": "display_data"
    },
    {
     "name": "stderr",
     "output_type": "stream",
     "text": [
      "/home/andre/.conda/envs/py36/lib/python3.6/site-packages/ipykernel_launcher.py:57: SettingWithCopyWarning: \n",
      "A value is trying to be set on a copy of a slice from a DataFrame\n",
      "\n",
      "See the caveats in the documentation: http://pandas.pydata.org/pandas-docs/stable/user_guide/indexing.html#returning-a-view-versus-a-copy\n"
     ]
    },
    {
     "name": "stdout",
     "output_type": "stream",
     "text": [
      "\n"
     ]
    },
    {
     "data": {
      "application/vnd.jupyter.widget-view+json": {
       "model_id": "2583561c88294b6e9cf2c43f9ee98c73",
       "version_major": 2,
       "version_minor": 0
      },
      "text/plain": [
       "HBox(children=(IntProgress(value=0, max=1320), HTML(value='')))"
      ]
     },
     "metadata": {},
     "output_type": "display_data"
    },
    {
     "name": "stdout",
     "output_type": "stream",
     "text": [
      "\n"
     ]
    },
    {
     "data": {
      "application/vnd.jupyter.widget-view+json": {
       "model_id": "9252c97380cd40ca95a6dca430d6dc0f",
       "version_major": 2,
       "version_minor": 0
      },
      "text/plain": [
       "HBox(children=(IntProgress(value=0, max=1320), HTML(value='')))"
      ]
     },
     "metadata": {},
     "output_type": "display_data"
    },
    {
     "name": "stdout",
     "output_type": "stream",
     "text": [
      "\n"
     ]
    },
    {
     "data": {
      "application/vnd.jupyter.widget-view+json": {
       "model_id": "f5a2b2d9f30245a0a16ff57f36b2c86b",
       "version_major": 2,
       "version_minor": 0
      },
      "text/plain": [
       "HBox(children=(IntProgress(value=0, max=1320), HTML(value='')))"
      ]
     },
     "metadata": {},
     "output_type": "display_data"
    },
    {
     "name": "stdout",
     "output_type": "stream",
     "text": [
      "\n"
     ]
    },
    {
     "data": {
      "application/vnd.jupyter.widget-view+json": {
       "model_id": "5e6f3e1c3e814f6c86ae3cf4aac58b24",
       "version_major": 2,
       "version_minor": 0
      },
      "text/plain": [
       "HBox(children=(IntProgress(value=0, max=1320), HTML(value='')))"
      ]
     },
     "metadata": {},
     "output_type": "display_data"
    },
    {
     "name": "stdout",
     "output_type": "stream",
     "text": [
      "\n"
     ]
    },
    {
     "data": {
      "application/vnd.jupyter.widget-view+json": {
       "model_id": "3157c6f2f54b429395762474208e5a9e",
       "version_major": 2,
       "version_minor": 0
      },
      "text/plain": [
       "HBox(children=(IntProgress(value=0, max=1320), HTML(value='')))"
      ]
     },
     "metadata": {},
     "output_type": "display_data"
    },
    {
     "name": "stdout",
     "output_type": "stream",
     "text": [
      "\n"
     ]
    }
   ],
   "source": [
    "# Cd-109_41cm_1-0e08estories_0-01.dat\n",
    "dados_por_energia_inicial_multicanal = dict()\n",
    "\n",
    "for energia_inicial_multicanal in energias_iniciais_multicanal:\n",
    "    dados_por_energia_inicial_multicanal[energia_inicial_multicanal] = []\n",
    "    \n",
    "    for file_ in tqdm_notebook(files):\n",
    "        if not file_.endswith(energia_inicial_multicanal+'.dat'):\n",
    "            continue\n",
    "        \n",
    "        partes = file_.split(\"/\")[2].replace(\".dat\", \"\").split(\"_\")\n",
    "        nuclideo = partes[0]        \n",
    "        distancia = partes[1]\n",
    "        n_particulas = float(partes[2].replace('estories','').replace('-','.'))\n",
    "        dados_ = carrega_dados(file_, n_particulas)\n",
    "        \n",
    "        label_ = binarizer.transform([[nuclideo]])\n",
    "\n",
    "        #Cria o label para o total de contagens do radionuclídeo\n",
    "        total_counts = np.zeros(label_.shape)\n",
    "        total_counts[0][np.argmax(label_)] = np.sum(dados_.counts.values)\n",
    "        \n",
    "        dados_por_energia_inicial_multicanal[energia_inicial_multicanal].append({'X' : dados_.counts.values,\n",
    "                                                                                 'n' : n_particulas,\n",
    "                                                                                 'y': label_,\n",
    "                                                                                 'y_count' : total_counts,\n",
    "                                                                                 'd': distancia,\n",
    "                                                                                 'e': energia_inicial_multicanal})"
   ]
  },
  {
   "cell_type": "markdown",
   "metadata": {},
   "source": [
    "## Leituras experimentais da GRR"
   ]
  },
  {
   "cell_type": "code",
   "execution_count": 10,
   "metadata": {},
   "outputs": [],
   "source": [
    "def obtem_dados_dos_canais(linhas):\n",
    "    dados = []\n",
    "    pode_comecar = False\n",
    "    for linha in linhas:\n",
    "        if linha == \"A004USERDEFINED                                                     \\n\":\n",
    "            pode_comecar = True\n",
    "            continue\n",
    "        if pode_comecar:\n",
    "            aux = linha.strip().split()\n",
    "            if int(aux[1]) % 5:\n",
    "                print(\"oi!\")\n",
    "            dados.extend([float(x) for x in aux[2:]])\n",
    "    return dados[1:]"
   ]
  },
  {
   "cell_type": "code",
   "execution_count": 11,
   "metadata": {},
   "outputs": [
    {
     "name": "stdout",
     "output_type": "stream",
     "text": [
      "Am-241 - BG.IEC\n",
      "Ba-133 - BG.IEC\n",
      "Cd-109 - BG.IEC\n",
      "Co-57 - BG.IEC\n",
      "Co-60 - BG.IEC\n",
      "Cs-137 - BG.IEC\n",
      "Eu-152 - BG.IEC\n",
      "Mn-54 - BG.IEC\n",
      "Na-22 - BG.IEC\n",
      "Pb-210 - BG.IEC\n"
     ]
    }
   ],
   "source": [
    "arquivos = ['Am-241 - BG.IEC', 'Ba-133 - BG.IEC', 'Cd-109 - BG.IEC', 'Co-57 - BG.IEC', 'Co-60 - BG.IEC',\n",
    "            'Cs-137 - BG.IEC', 'Eu-152 - BG.IEC', 'Mn-54 - BG.IEC', 'Na-22 - BG.IEC', 'Pb-210 - BG.IEC',]\n",
    "\n",
    "df_nuclideos = dict()\n",
    "img_espectros = dict()\n",
    "img_convertidos = dict()\n",
    "images = dict()\n",
    "\n",
    "for arquivo in arquivos:\n",
    "    print(arquivo)\n",
    "    dados = []\n",
    "\n",
    "    with open('/export/ipen/artigo/ICDA-3/Espectros/Experimentos/17-Maio-2018/Espectros/{0}'.format(arquivo), 'r') as f:\n",
    "        dados = f.readlines()\n",
    "    dados = obtem_dados_dos_canais(dados)\n",
    "    df = pd.DataFrame({'channel': range(0, len(dados)), 'counts' : dados})\n",
    "    df_nuclideos[arquivo] = df.copy()\n",
    "    img_convertidos[arquivo] = np.array(dados).reshape((128, 128)).copy()\n",
    "    images[arquivo.split(' ')[0]] = np.array(dados).reshape((128, 128)).copy()"
   ]
  },
  {
   "cell_type": "code",
   "execution_count": 12,
   "metadata": {},
   "outputs": [
    {
     "data": {
      "text/plain": [
       "({'Am-241 - BG.IEC': 'Am-241',\n",
       "  'Ba-133 - BG.IEC': 'Ba-133',\n",
       "  'Cd-109 - BG.IEC': 'Cd-109',\n",
       "  'Co-57 - BG.IEC': 'Co-57',\n",
       "  'Co-60 - BG.IEC': 'Co-60',\n",
       "  'Cs-137 - BG.IEC': 'Cs-137',\n",
       "  'Eu-152 - BG.IEC': 'Eu-152',\n",
       "  'Mn-54 - BG.IEC': 'Mn-54',\n",
       "  'Na-22 - BG.IEC': 'Na-22',\n",
       "  'Pb-210 - BG.IEC': 'Pb-210'},\n",
       " {'Am-241': 'Am-241 - BG.IEC',\n",
       "  'Ba-133': 'Ba-133 - BG.IEC',\n",
       "  'Cd-109': 'Cd-109 - BG.IEC',\n",
       "  'Co-57': 'Co-57 - BG.IEC',\n",
       "  'Co-60': 'Co-60 - BG.IEC',\n",
       "  'Cs-137': 'Cs-137 - BG.IEC',\n",
       "  'Eu-152': 'Eu-152 - BG.IEC',\n",
       "  'Mn-54': 'Mn-54 - BG.IEC',\n",
       "  'Na-22': 'Na-22 - BG.IEC',\n",
       "  'Pb-210': 'Pb-210 - BG.IEC'},\n",
       " {0: 'Am-241',\n",
       "  1: 'Ba-133',\n",
       "  2: 'Cd-109',\n",
       "  3: 'Co-57',\n",
       "  4: 'Co-60',\n",
       "  5: 'Cs-137',\n",
       "  6: 'Eu-152',\n",
       "  7: 'Mn-54',\n",
       "  8: 'Na-22',\n",
       "  9: 'Pb-210'},\n",
       " {'Am-241': 0,\n",
       "  'Ba-133': 1,\n",
       "  'Cd-109': 2,\n",
       "  'Co-57': 3,\n",
       "  'Co-60': 4,\n",
       "  'Cs-137': 5,\n",
       "  'Eu-152': 6,\n",
       "  'Mn-54': 7,\n",
       "  'Na-22': 8,\n",
       "  'Pb-210': 9})"
      ]
     },
     "execution_count": 12,
     "metadata": {},
     "output_type": "execute_result"
    }
   ],
   "source": [
    "arquivo_por_nome = { b : b.split()[0] for a, b in enumerate(list(img_convertidos.keys()))}\n",
    "nome_por_arquivo = { b.split()[0] : b for a, b in enumerate(list(img_convertidos.keys()))}\n",
    "\n",
    "id_para_radionuclideos = { a : b.split()[0] for a, b in enumerate(list(img_convertidos.keys()))}\n",
    "radionuclideos = { b.split()[0] : a for a, b in enumerate(list(img_convertidos.keys()))}\n",
    "arquivo_por_nome, nome_por_arquivo, id_para_radionuclideos, radionuclideos"
   ]
  },
  {
   "cell_type": "code",
   "execution_count": 13,
   "metadata": {},
   "outputs": [],
   "source": [
    "#plt.plot(np.random.poisson(1e5, (128, 128)))\n",
    "#plt.plot(np.random.normal(1, 0.1**0.5, (128, 128)))"
   ]
  },
  {
   "cell_type": "code",
   "execution_count": 14,
   "metadata": {},
   "outputs": [],
   "source": [
    "def add_noise(image):\n",
    "    #if random.random() <= 0.5:\n",
    "    #    return image.reshape((128, 128, 1))\n",
    "    row,col = image.shape\n",
    "    mean = 1 #np.mean(image)\n",
    "    var = 0.1 #random.random() #\n",
    "    sigma = var**0.5\n",
    "    gauss = np.random.normal(mean, sigma, (row,col))\n",
    "    gauss = gauss.reshape(row, col)\n",
    "    noisy = image + gauss\n",
    "    if np.random.random() > 0.3:\n",
    "        #increase de count rate by a random factor\n",
    "        noisy += noisy * (1 + np.random.random())\n",
    "    return noisy.reshape((128, 128, 1)) #/ np.max(noisy) # normalizando pelo valor máximo\n",
    "\n",
    "\n",
    "#def gera_imagem_combinada_experimental(dicionario_imagens, n_combinacoes=3):\n",
    "#    assert n_combinacoes <= 10, \"No máximo 10 combinações\"\n",
    "#    nuclei_idx = np.random.choice(10, n_combinacoes, replace=False).tolist()[0]\n",
    "#    label = to_categorical(nuclei_idx, 10)\n",
    "#    img = np.sum([add_noise(dicionario_imagens[id_para_radionuclideos[nuclei_idx]])], axis=0)\n",
    "#    counts = to_categorical(nuclei_idx, 10)\n",
    "#    counts[nuclei_idx] = np.sum(img)\n",
    "#    \n",
    "#    return img, label, counts\n",
    "\n",
    "def gera_imagem_combinada_experimental(dicionario_imagens,\n",
    "                                       n_combinacoes=1):\n",
    "    \n",
    "    assert n_combinacoes <= 10, \"No máximo 10 combinações\"\n",
    "    \n",
    "    a = np.random.choice(10, n_combinacoes, replace=False).tolist()\n",
    "    labels = np.sum([to_categorical(x, 10) for x in a], axis=0)\n",
    "    noise_img = [add_noise(dicionario_imagens[id_para_radionuclideos[x]]) for x in a]\n",
    "    img = np.sum(noise_img, axis=0)\n",
    "    \n",
    "    counts = np.zeros((10,))\n",
    "    for idx, item in enumerate(a):\n",
    "        counts[item] = np.sum(noise_img[idx])\n",
    "    \n",
    "    while np.max(labels) > 1: # temos nuclideo repetido\n",
    "        labels[0][np.argmax(labels[0])] = 1\n",
    "    \n",
    "    return img, labels, counts\n"
   ]
  },
  {
   "cell_type": "markdown",
   "metadata": {},
   "source": [
    "# Gerando conjunto de treino e validação\n",
    "\n",
    "## Com os dados experimentais"
   ]
  },
  {
   "cell_type": "code",
   "execution_count": 15,
   "metadata": {},
   "outputs": [],
   "source": [
    "X = []\n",
    "y = []\n",
    "y_counts = []"
   ]
  },
  {
   "cell_type": "code",
   "execution_count": 16,
   "metadata": {},
   "outputs": [],
   "source": [
    "# gerando imagens com mais de um espectro\n",
    "n_combinacoes = [1, 2, 3, 4]\n",
    "for n_combinacao in n_combinacoes:\n",
    "    for i in range(500):\n",
    "        img, label, counts = gera_imagem_combinada_experimental(images, n_combinacao)\n",
    "        X.append(img)\n",
    "        y.append(label)\n",
    "        y_counts.append(counts)"
   ]
  },
  {
   "cell_type": "code",
   "execution_count": 17,
   "metadata": {},
   "outputs": [
    {
     "data": {
      "text/plain": [
       "(2000, 2000, 2000)"
      ]
     },
     "execution_count": 17,
     "metadata": {},
     "output_type": "execute_result"
    }
   ],
   "source": [
    "len(X), len(y), len(y_counts)"
   ]
  },
  {
   "cell_type": "markdown",
   "metadata": {},
   "source": [
    "## Com os dados gerados pelo PENELOPE"
   ]
  },
  {
   "cell_type": "code",
   "execution_count": 18,
   "metadata": {},
   "outputs": [],
   "source": [
    "def gera_imagem_combinada_penelope(dicionario_imagens, n_combinacoes=3):\n",
    "    assert n_combinacoes <= 10, \"No máximo 10 combinações\"\n",
    "\n",
    "    aux = np.random.choice(dicionario_imagens, n_combinacoes, replace=False)\n",
    "    #print(aux)\n",
    "    labels = np.sum([x['y'] for x in aux], axis=0)\n",
    "    counts = np.sum([x['y_count'] for x in aux], axis=0)\n",
    "    values = np.sum([x['X'] for x in aux], axis=0)\n",
    "    \n",
    "    while np.max(labels) > 1: # temos nuclideo repetido\n",
    "        labels[0][np.argmax(labels[0])] = 1\n",
    "    \n",
    "    return values, labels, counts"
   ]
  },
  {
   "cell_type": "markdown",
   "metadata": {},
   "source": [
    "### Gera espectros com mais de um radionuclideo\n",
    "\n",
    "Até 4 no mesmo espectro"
   ]
  },
  {
   "cell_type": "code",
   "execution_count": 19,
   "metadata": {},
   "outputs": [],
   "source": [
    "n_combinacoes = [2, 3, 4]\n",
    "novos_dados = dict()\n",
    "\n",
    "for key in energias_iniciais_multicanal:\n",
    "    novos_dados[key] = []\n",
    "    for n_ in n_combinacoes:\n",
    "        for i in range(500):\n",
    "            values, labels, counts = gera_imagem_combinada_penelope(dados_por_energia_inicial_multicanal[key],\n",
    "                                                  n_)\n",
    "            novos_dados[key].append({'X' : values,\n",
    "                                     'y': labels,\n",
    "                                     'y_count': counts})"
   ]
  },
  {
   "cell_type": "code",
   "execution_count": 20,
   "metadata": {},
   "outputs": [],
   "source": [
    "for key in energias_iniciais_multicanal:\n",
    "    for item in dados_por_energia_inicial_multicanal[key]:\n",
    "        X.append(list(item.values())[0].reshape((128, 128)))\n",
    "        y.append(item['y'][0])\n",
    "        y_counts.append(item['y_count'][0])"
   ]
  },
  {
   "cell_type": "code",
   "execution_count": 21,
   "metadata": {},
   "outputs": [],
   "source": [
    "for key in energias_iniciais_multicanal:\n",
    "    for item in novos_dados[key]:\n",
    "        X.append(list(item.values())[0].reshape((128, 128)))\n",
    "        y.append(item['y'][0])\n",
    "        y_counts.append(item['y_count'][0])"
   ]
  },
  {
   "cell_type": "code",
   "execution_count": 22,
   "metadata": {},
   "outputs": [
    {
     "data": {
      "text/plain": [
       "(13280, 13280, 13280)"
      ]
     },
     "execution_count": 22,
     "metadata": {},
     "output_type": "execute_result"
    }
   ],
   "source": [
    "len(X), len(y), len(y_counts)"
   ]
  },
  {
   "cell_type": "markdown",
   "metadata": {},
   "source": [
    "# Modelo\n",
    "\n",
    "## Dividindo os dados em treino e teste"
   ]
  },
  {
   "cell_type": "code",
   "execution_count": 23,
   "metadata": {},
   "outputs": [],
   "source": [
    "scaler = StandardScaler()\n",
    "scaler.fit(y_counts)\n",
    "\n",
    "X_train, X_test, y_train, y_test = train_test_split(X, list(zip(y, scaler.transform(y_counts))),\n",
    "                                                    test_size=0.30,\n",
    "                                                    random_state=42)"
   ]
  },
  {
   "cell_type": "code",
   "execution_count": 24,
   "metadata": {},
   "outputs": [
    {
     "data": {
      "text/plain": [
       "(9296, 3984, 9296, 3984)"
      ]
     },
     "execution_count": 24,
     "metadata": {},
     "output_type": "execute_result"
    }
   ],
   "source": [
    "len(X_train), len(X_test), len(y_train), len(y_test)"
   ]
  },
  {
   "cell_type": "code",
   "execution_count": 25,
   "metadata": {},
   "outputs": [],
   "source": [
    "from keras.utils import Sequence"
   ]
  },
  {
   "cell_type": "code",
   "execution_count": 26,
   "metadata": {},
   "outputs": [],
   "source": [
    "class EspectraSequence(Sequence):\n",
    "\n",
    "    def __init__(self, x_set, y_set, y_set_count, batch_size):\n",
    "        self.x, self.y, self.y_set_count = x_set, y_set, y_set_count\n",
    "        self.batch_size = batch_size\n",
    "\n",
    "    def __len__(self):\n",
    "        return int(np.ceil(len(self.x) / float(self.batch_size)))\n",
    "\n",
    "    def __getitem__(self, idx):\n",
    "        batch_x = self.x[idx * self.batch_size:(idx + 1) * self.batch_size]\n",
    "        batch_y = self.y[idx * self.batch_size:(idx + 1) * self.batch_size]\n",
    "        batch_y_count = self.y_set_count[idx * self.batch_size:(idx + 1) * self.batch_size]\n",
    "\n",
    "        y_ = {'predictions_nuclei': np.array(batch_y, dtype=np.float32),\n",
    "              'predictions_counts': np.array(batch_y_count)}\n",
    "        \n",
    "        return np.array([x.reshape((128, 128, 1)) for x in batch_x]), y_"
   ]
  },
  {
   "cell_type": "code",
   "execution_count": 27,
   "metadata": {},
   "outputs": [],
   "source": [
    "s = EspectraSequence(X_train, [x[0] for x in y_train], [x[1] for x in y_train], batch_size=8)"
   ]
  },
  {
   "cell_type": "code",
   "execution_count": 28,
   "metadata": {},
   "outputs": [
    {
     "data": {
      "image/png": "[encoded data removed]",
      "text/plain": [
       "<Figure size 432x288 with 1 Axes>"
      ]
     },
     "metadata": {},
     "output_type": "display_data"
    }
   ],
   "source": [
    "a, b = s[2]\n",
    "c = b['predictions_counts']\n",
    "b = b['predictions_nuclei']\n",
    "plt.imshow(a[0].reshape((128, 128)))\n",
    "plt.title(\" with \".join(binarizer.inverse_transform(np.array([b[0]]))[0]) + \" {:.0f} counts\".format(np.sum(c[0])))\n",
    "plt.show()"
   ]
  },
  {
   "cell_type": "code",
   "execution_count": 29,
   "metadata": {},
   "outputs": [
    {
     "data": {
      "image/png": "[encoded data removed]",
      "text/plain": [
       "<Figure size 432x288 with 1 Axes>"
      ]
     },
     "metadata": {},
     "output_type": "display_data"
    }
   ],
   "source": [
    "plt.title(\" with \".join(binarizer.inverse_transform(np.array([b[0]]))[0]) + \" {:.0f} counts\".format(np.sum(c[0])))\n",
    "plt.plot(a[0].reshape(-1))\n",
    "plt.show()"
   ]
  },
  {
   "cell_type": "code",
   "execution_count": 30,
   "metadata": {},
   "outputs": [],
   "source": [
    "def accuracy_score_wrapper(label, pred):\n",
    "    threshold = .95\n",
    "    label = (label >= threshold).astype(np.uint8)\n",
    "    pred = (pred >= threshold).astype(np.uint8)\n",
    "    return np.float32(accuracy_score(label, pred))\n",
    "\n",
    "def my_accuracy_score(label, pred):\n",
    "    metric_value = tf.compat.v1.py_func(accuracy_score_wrapper, [label, pred], tf.float32)\n",
    "    return metric_value"
   ]
  },
  {
   "cell_type": "code",
   "execution_count": 40,
   "metadata": {
    "scrolled": true
   },
   "outputs": [
    {
     "name": "stdout",
     "output_type": "stream",
     "text": [
      "__________________________________________________________________________________________________\n",
      "Layer (type)                    Output Shape         Param #     Connected to                     \n",
      "==================================================================================================\n",
      "input_1 (InputLayer)            (None, 128, 128, 1)  0                                            \n",
      "__________________________________________________________________________________________________\n",
      "block1_conv1 (Conv2D)           (None, 128, 128, 64) 640         input_1[0][0]                    \n",
      "__________________________________________________________________________________________________\n",
      "block1_conv2 (Conv2D)           (None, 128, 128, 64) 36928       block1_conv1[0][0]               \n",
      "__________________________________________________________________________________________________\n",
      "block1_pool (MaxPooling2D)      (None, 64, 64, 64)   0           block1_conv2[0][0]               \n",
      "__________________________________________________________________________________________________\n",
      "block2_conv1 (Conv2D)           (None, 64, 64, 128)  73856       block1_pool[0][0]                \n",
      "__________________________________________________________________________________________________\n",
      "block2_conv2 (Conv2D)           (None, 64, 64, 128)  147584      block2_conv1[0][0]               \n",
      "__________________________________________________________________________________________________\n",
      "block2_pool (MaxPooling2D)      (None, 32, 32, 128)  0           block2_conv2[0][0]               \n",
      "__________________________________________________________________________________________________\n",
      "block3_conv1 (Conv2D)           (None, 32, 32, 256)  295168      block2_pool[0][0]                \n",
      "__________________________________________________________________________________________________\n",
      "block3_conv2 (Conv2D)           (None, 32, 32, 256)  590080      block3_conv1[0][0]               \n",
      "__________________________________________________________________________________________________\n",
      "block3_conv3 (Conv2D)           (None, 32, 32, 256)  590080      block3_conv2[0][0]               \n",
      "__________________________________________________________________________________________________\n",
      "block3_conv4 (Conv2D)           (None, 32, 32, 256)  590080      block3_conv3[0][0]               \n",
      "__________________________________________________________________________________________________\n",
      "block3_pool (MaxPooling2D)      (None, 16, 16, 256)  0           block3_conv4[0][0]               \n",
      "__________________________________________________________________________________________________\n",
      "block4_conv1 (Conv2D)           (None, 16, 16, 512)  1180160     block3_pool[0][0]                \n",
      "__________________________________________________________________________________________________\n",
      "block4_conv2 (Conv2D)           (None, 16, 16, 512)  2359808     block4_conv1[0][0]               \n",
      "__________________________________________________________________________________________________\n",
      "block4_conv3 (Conv2D)           (None, 16, 16, 512)  2359808     block4_conv2[0][0]               \n",
      "__________________________________________________________________________________________________\n",
      "block4_conv4 (Conv2D)           (None, 16, 16, 512)  2359808     block4_conv3[0][0]               \n",
      "__________________________________________________________________________________________________\n",
      "block4_pool (MaxPooling2D)      (None, 8, 8, 512)    0           block4_conv4[0][0]               \n",
      "__________________________________________________________________________________________________\n",
      "block5_conv1 (Conv2D)           (None, 8, 8, 512)    2359808     block4_pool[0][0]                \n",
      "__________________________________________________________________________________________________\n",
      "block5_conv2 (Conv2D)           (None, 8, 8, 512)    2359808     block5_conv1[0][0]               \n",
      "__________________________________________________________________________________________________\n",
      "block5_conv3 (Conv2D)           (None, 8, 8, 512)    2359808     block5_conv2[0][0]               \n",
      "__________________________________________________________________________________________________\n",
      "block5_conv4 (Conv2D)           (None, 8, 8, 512)    2359808     block5_conv3[0][0]               \n",
      "__________________________________________________________________________________________________\n",
      "block5_pool (MaxPooling2D)      (None, 4, 4, 512)    0           block5_conv4[0][0]               \n",
      "__________________________________________________________________________________________________\n",
      "flatten_1 (Flatten)             (None, 8192)         0           block5_pool[0][0]                \n",
      "__________________________________________________________________________________________________\n",
      "flatten_2 (Flatten)             (None, 8192)         0           block5_pool[0][0]                \n",
      "__________________________________________________________________________________________________\n",
      "dense_1 (Dense)                 (None, 4096)         33558528    flatten_1[0][0]                  \n",
      "__________________________________________________________________________________________________\n",
      "dense_3 (Dense)                 (None, 4096)         33558528    flatten_2[0][0]                  \n",
      "__________________________________________________________________________________________________\n",
      "dense_2 (Dense)                 (None, 4096)         16781312    dense_1[0][0]                    \n",
      "__________________________________________________________________________________________________\n",
      "dense_4 (Dense)                 (None, 4096)         16781312    dense_3[0][0]                    \n",
      "__________________________________________________________________________________________________\n",
      "predictions_nuclei (Dense)      (None, 10)           40970       dense_2[0][0]                    \n",
      "__________________________________________________________________________________________________\n",
      "dense_5 (Dense)                 (None, 10)           40970       dense_4[0][0]                    \n",
      "__________________________________________________________________________________________________\n",
      "predictions_counts (Multiply)   (None, 10)           0           dense_5[0][0]                    \n",
      "                                                                 predictions_nuclei[0][0]         \n",
      "==================================================================================================\n",
      "Total params: 120,784,852\n",
      "Trainable params: 120,784,852\n",
      "Non-trainable params: 0\n",
      "__________________________________________________________________________________________________\n"
     ]
    }
   ],
   "source": [
    "K.clear_session()\n",
    "import keras\n",
    "vgg_model = VGG19(include_top=False,\n",
    "                  weights=None,\n",
    "                  input_shape=(128, 128, 1),\n",
    "                  classes=10)\n",
    "\n",
    "x = keras.layers.Flatten()(vgg_model.output)\n",
    "x = keras.layers.Dense(4096, activation='relu')(x)\n",
    "x = keras.layers.Dense(4096, activation='relu')(x)\n",
    "\n",
    "pred_nuclei = keras.layers.Dense(10, activation='sigmoid', name=\"predictions_nuclei\")(x)\n",
    "\n",
    "x1 = keras.layers.Flatten()(vgg_model.output)\n",
    "x1 = keras.layers.Dense(4096, activation='relu')(x1)\n",
    "x1 = keras.layers.Dense(4096, activation='relu')(x1)\n",
    "\n",
    "pred_counts = keras.layers.Dense(10, activation=None)(x1)\n",
    "\n",
    "pred_counts = keras.layers.multiply([pred_counts, pred_nuclei], name=\"predictions_counts\")\n",
    "\n",
    "\n",
    "\n",
    "#se a previsão do modelo for menor que zero, a gente zera a saída, afinal de contas\n",
    "#não existe atividade 0 bq :P\n",
    "#pred_counts = keras.layers.Lambda(lambda x: tf.where(x < 0, tf.zeros_like(x), x),\n",
    "#                                 name=\"predictions_counts\")(pred_counts)\n",
    "\n",
    "model = keras.models.Model(vgg_model.input, [pred_nuclei, pred_counts])\n",
    "model.summary()\n"
   ]
  },
  {
   "cell_type": "code",
   "execution_count": 41,
   "metadata": {},
   "outputs": [],
   "source": [
    "learning_rate = 1e-4\n",
    "epochs = 250\n",
    "batch_size = 8\n",
    "steps_per_epoch = len(X_train) // batch_size + 1\n",
    "validation_steps = len(X_test) // batch_size + 1"
   ]
  },
  {
   "cell_type": "code",
   "execution_count": 42,
   "metadata": {},
   "outputs": [],
   "source": [
    "opt = SGD(lr=learning_rate,\n",
    "          nesterov=False,\n",
    "          momentum=0.9) # keras.optimizers.RMSprop(0.001)\n",
    "\n",
    "model.compile(optimizer=opt,\n",
    "              loss={\n",
    "                  'predictions_nuclei': 'binary_crossentropy',\n",
    "                  'predictions_counts': 'mean_squared_error'\n",
    "              },\n",
    "              metrics={\n",
    "                  'predictions_nuclei': [my_accuracy_score, 'accuracy'],\n",
    "                  'predictions_counts': ['mean_squared_error', 'mean_absolute_error']\n",
    "              }\n",
    "             )"
   ]
  },
  {
   "cell_type": "code",
   "execution_count": 43,
   "metadata": {},
   "outputs": [
    {
     "name": "stdout",
     "output_type": "stream",
     "text": [
      "Sun Apr  5 14:11:07 2020       \r\n",
      "+-----------------------------------------------------------------------------+\r\n",
      "| NVIDIA-SMI 410.48                 Driver Version: 410.48                    |\r\n",
      "|-------------------------------+----------------------+----------------------+\r\n",
      "| GPU  Name        Persistence-M| Bus-Id        Disp.A | Volatile Uncorr. ECC |\r\n",
      "| Fan  Temp  Perf  Pwr:Usage/Cap|         Memory-Usage | GPU-Util  Compute M. |\r\n",
      "|===============================+======================+======================|\r\n",
      "|   0  GeForce GTX 1080    Off  | 00000000:01:00.0 Off |                  N/A |\r\n",
      "| 44%   55C    P8    10W / 180W |   7953MiB /  8117MiB |      0%      Default |\r\n",
      "+-------------------------------+----------------------+----------------------+\r\n",
      "                                                                               \r\n",
      "+-----------------------------------------------------------------------------+\r\n",
      "| Processes:                                                       GPU Memory |\r\n",
      "|  GPU       PID   Type   Process name                             Usage      |\r\n",
      "|=============================================================================|\r\n",
      "|    0     22866      C   /home/andre/.conda/envs/py36/bin/python     7943MiB |\r\n",
      "+-----------------------------------------------------------------------------+\r\n"
     ]
    }
   ],
   "source": [
    "!nvidia-smi"
   ]
  },
  {
   "cell_type": "code",
   "execution_count": 44,
   "metadata": {},
   "outputs": [],
   "source": [
    "!rm -rf ./logs_v2"
   ]
  },
  {
   "cell_type": "code",
   "execution_count": 45,
   "metadata": {},
   "outputs": [
    {
     "data": {
      "text/plain": [
       "\"\\n\\nnao funciona bem com multiplas saidas...\\n\\nclass TensorBoardWrapper(keras.callbacks.TensorBoard):\\n    '''Sets the self.validation_data property for use with TensorBoard callback.'''\\n\\n    def __init__(self, batch_gen, nb_steps, **kwargs):\\n        super(TensorBoardWrapper, self).__init__(**kwargs)\\n        self.batch_gen = batch_gen # The generator.\\n        self.nb_steps = nb_steps   # Number of times to call next() on the generator.\\n\\n    def on_epoch_end(self, epoch, logs):\\n        # Fill in the `validation_data` property. Obviously this is specific to how your generator works.\\n        # Below is an example that yields images and classification tags.\\n        # After it's filled in, the regular on_epoch_end method has access to the validation_data.\\n        imgs, tags = None, None\\n        for s in range(self.nb_steps):\\n            ib, tb = next(self.batch_gen)\\n            if imgs is None and tags is None:\\n                imgs = np.zeros(((self.nb_steps * ib.shape[0],) + ib.shape[1:]), dtype=np.float32)\\n                tags = np.zeros(((self.nb_steps * tb.shape[0],) + tb.shape[1:]), dtype=np.uint8)\\n            imgs[s * ib.shape[0]:(s + 1) * ib.shape[0]] = ib\\n            tags[s * tb.shape[0]:(s + 1) * tb.shape[0]] = tb\\n        self.validation_data = [imgs, tags, np.ones(imgs.shape[0]), 0.0]\\n        return super(TensorBoardWrapper, self).on_epoch_end(epoch, logs)\\n\""
      ]
     },
     "execution_count": 45,
     "metadata": {},
     "output_type": "execute_result"
    }
   ],
   "source": [
    "\"\"\"\n",
    "\n",
    "nao funciona bem com multiplas saidas...\n",
    "\n",
    "class TensorBoardWrapper(keras.callbacks.TensorBoard):\n",
    "    '''Sets the self.validation_data property for use with TensorBoard callback.'''\n",
    "\n",
    "    def __init__(self, batch_gen, nb_steps, **kwargs):\n",
    "        super(TensorBoardWrapper, self).__init__(**kwargs)\n",
    "        self.batch_gen = batch_gen # The generator.\n",
    "        self.nb_steps = nb_steps   # Number of times to call next() on the generator.\n",
    "\n",
    "    def on_epoch_end(self, epoch, logs):\n",
    "        # Fill in the `validation_data` property. Obviously this is specific to how your generator works.\n",
    "        # Below is an example that yields images and classification tags.\n",
    "        # After it's filled in, the regular on_epoch_end method has access to the validation_data.\n",
    "        imgs, tags = None, None\n",
    "        for s in range(self.nb_steps):\n",
    "            ib, tb = next(self.batch_gen)\n",
    "            if imgs is None and tags is None:\n",
    "                imgs = np.zeros(((self.nb_steps * ib.shape[0],) + ib.shape[1:]), dtype=np.float32)\n",
    "                tags = np.zeros(((self.nb_steps * tb.shape[0],) + tb.shape[1:]), dtype=np.uint8)\n",
    "            imgs[s * ib.shape[0]:(s + 1) * ib.shape[0]] = ib\n",
    "            tags[s * tb.shape[0]:(s + 1) * tb.shape[0]] = tb\n",
    "        self.validation_data = [imgs, tags, np.ones(imgs.shape[0]), 0.0]\n",
    "        return super(TensorBoardWrapper, self).on_epoch_end(epoch, logs)\n",
    "\"\"\""
   ]
  },
  {
   "cell_type": "code",
   "execution_count": 46,
   "metadata": {
    "scrolled": true
   },
   "outputs": [
    {
     "name": "stdout",
     "output_type": "stream",
     "text": [
      "Epoch 1/250\n",
      " - 106s - loss: 1.0331 - predictions_nuclei_loss: 0.5870 - predictions_counts_loss: 0.4461 - predictions_nuclei_my_accuracy_score: 0.0238 - predictions_nuclei_acc: 0.8249 - predictions_counts_mean_squared_error: 0.4461 - predictions_counts_mean_absolute_error: 0.3732 - val_loss: 0.9240 - val_predictions_nuclei_loss: 0.5683 - val_predictions_counts_loss: 0.3557 - val_predictions_nuclei_my_accuracy_score: 0.0318 - val_predictions_nuclei_acc: 0.8394 - val_predictions_counts_mean_squared_error: 0.3557 - val_predictions_counts_mean_absolute_error: 0.3177\n",
      "Epoch 2/250\n",
      " - 106s - loss: 0.8122 - predictions_nuclei_loss: 0.5326 - predictions_counts_loss: 0.2796 - predictions_nuclei_my_accuracy_score: 0.0451 - predictions_nuclei_acc: 0.8429 - predictions_counts_mean_squared_error: 0.2796 - predictions_counts_mean_absolute_error: 0.2813 - val_loss: 0.7852 - val_predictions_nuclei_loss: 0.5245 - val_predictions_counts_loss: 0.2606 - val_predictions_nuclei_my_accuracy_score: 0.0651 - val_predictions_nuclei_acc: 0.8476 - val_predictions_counts_mean_squared_error: 0.2606 - val_predictions_counts_mean_absolute_error: 0.2677\n",
      "Epoch 3/250\n",
      " - 106s - loss: 0.7641 - predictions_nuclei_loss: 0.5139 - predictions_counts_loss: 0.2503 - predictions_nuclei_my_accuracy_score: 0.0621 - predictions_nuclei_acc: 0.8482 - predictions_counts_mean_squared_error: 0.2503 - predictions_counts_mean_absolute_error: 0.2570 - val_loss: 0.7534 - val_predictions_nuclei_loss: 0.5058 - val_predictions_counts_loss: 0.2476 - val_predictions_nuclei_my_accuracy_score: 0.0704 - val_predictions_nuclei_acc: 0.8535 - val_predictions_counts_mean_squared_error: 0.2476 - val_predictions_counts_mean_absolute_error: 0.2492\n",
      "Epoch 4/250\n",
      " - 106s - loss: 0.7369 - predictions_nuclei_loss: 0.4997 - predictions_counts_loss: 0.2372 - predictions_nuclei_my_accuracy_score: 0.0644 - predictions_nuclei_acc: 0.8505 - predictions_counts_mean_squared_error: 0.2372 - predictions_counts_mean_absolute_error: 0.2454 - val_loss: 0.7301 - val_predictions_nuclei_loss: 0.4907 - val_predictions_counts_loss: 0.2394 - val_predictions_nuclei_my_accuracy_score: 0.0746 - val_predictions_nuclei_acc: 0.8548 - val_predictions_counts_mean_squared_error: 0.2394 - val_predictions_counts_mean_absolute_error: 0.2453\n",
      "Epoch 5/250\n",
      " - 106s - loss: 0.7128 - predictions_nuclei_loss: 0.4853 - predictions_counts_loss: 0.2275 - predictions_nuclei_my_accuracy_score: 0.0693 - predictions_nuclei_acc: 0.8528 - predictions_counts_mean_squared_error: 0.2275 - predictions_counts_mean_absolute_error: 0.2353 - val_loss: 0.7125 - val_predictions_nuclei_loss: 0.4812 - val_predictions_counts_loss: 0.2313 - val_predictions_nuclei_my_accuracy_score: 0.0784 - val_predictions_nuclei_acc: 0.8575 - val_predictions_counts_mean_squared_error: 0.2313 - val_predictions_counts_mean_absolute_error: 0.2341\n",
      "Epoch 6/250\n",
      " - 106s - loss: 0.6909 - predictions_nuclei_loss: 0.4717 - predictions_counts_loss: 0.2192 - predictions_nuclei_my_accuracy_score: 0.0713 - predictions_nuclei_acc: 0.8551 - predictions_counts_mean_squared_error: 0.2192 - predictions_counts_mean_absolute_error: 0.2312 - val_loss: 0.6931 - val_predictions_nuclei_loss: 0.4692 - val_predictions_counts_loss: 0.2239 - val_predictions_nuclei_my_accuracy_score: 0.0802 - val_predictions_nuclei_acc: 0.8574 - val_predictions_counts_mean_squared_error: 0.2239 - val_predictions_counts_mean_absolute_error: 0.2288\n",
      "Epoch 7/250\n",
      " - 106s - loss: 0.6690 - predictions_nuclei_loss: 0.4582 - predictions_counts_loss: 0.2108 - predictions_nuclei_my_accuracy_score: 0.0734 - predictions_nuclei_acc: 0.8581 - predictions_counts_mean_squared_error: 0.2108 - predictions_counts_mean_absolute_error: 0.2279 - val_loss: 0.6742 - val_predictions_nuclei_loss: 0.4549 - val_predictions_counts_loss: 0.2193 - val_predictions_nuclei_my_accuracy_score: 0.0809 - val_predictions_nuclei_acc: 0.8612 - val_predictions_counts_mean_squared_error: 0.2193 - val_predictions_counts_mean_absolute_error: 0.2343\n",
      "Epoch 8/250\n",
      " - 106s - loss: 0.6401 - predictions_nuclei_loss: 0.4439 - predictions_counts_loss: 0.1962 - predictions_nuclei_my_accuracy_score: 0.0730 - predictions_nuclei_acc: 0.8617 - predictions_counts_mean_squared_error: 0.1962 - predictions_counts_mean_absolute_error: 0.2284 - val_loss: 0.6252 - val_predictions_nuclei_loss: 0.4382 - val_predictions_counts_loss: 0.1871 - val_predictions_nuclei_my_accuracy_score: 0.0829 - val_predictions_nuclei_acc: 0.8676 - val_predictions_counts_mean_squared_error: 0.1871 - val_predictions_counts_mean_absolute_error: 0.2279\n",
      "Epoch 9/250\n",
      " - 106s - loss: 0.5955 - predictions_nuclei_loss: 0.4293 - predictions_counts_loss: 0.1662 - predictions_nuclei_my_accuracy_score: 0.0744 - predictions_nuclei_acc: 0.8658 - predictions_counts_mean_squared_error: 0.1662 - predictions_counts_mean_absolute_error: 0.2207 - val_loss: 0.5628 - val_predictions_nuclei_loss: 0.4159 - val_predictions_counts_loss: 0.1470 - val_predictions_nuclei_my_accuracy_score: 0.0809 - val_predictions_nuclei_acc: 0.8694 - val_predictions_counts_mean_squared_error: 0.1470 - val_predictions_counts_mean_absolute_error: 0.2161\n",
      "Epoch 10/250\n",
      " - 106s - loss: 0.5460 - predictions_nuclei_loss: 0.4086 - predictions_counts_loss: 0.1374 - predictions_nuclei_my_accuracy_score: 0.0776 - predictions_nuclei_acc: 0.8692 - predictions_counts_mean_squared_error: 0.1374 - predictions_counts_mean_absolute_error: 0.2077 - val_loss: 0.5366 - val_predictions_nuclei_loss: 0.3981 - val_predictions_counts_loss: 0.1384 - val_predictions_nuclei_my_accuracy_score: 0.0874 - val_predictions_nuclei_acc: 0.8743 - val_predictions_counts_mean_squared_error: 0.1384 - val_predictions_counts_mean_absolute_error: 0.2170\n",
      "Epoch 11/250\n",
      " - 106s - loss: 0.5123 - predictions_nuclei_loss: 0.3872 - predictions_counts_loss: 0.1251 - predictions_nuclei_my_accuracy_score: 0.0833 - predictions_nuclei_acc: 0.8731 - predictions_counts_mean_squared_error: 0.1251 - predictions_counts_mean_absolute_error: 0.1991 - val_loss: 0.4993 - val_predictions_nuclei_loss: 0.3768 - val_predictions_counts_loss: 0.1225 - val_predictions_nuclei_my_accuracy_score: 0.0912 - val_predictions_nuclei_acc: 0.8752 - val_predictions_counts_mean_squared_error: 0.1225 - val_predictions_counts_mean_absolute_error: 0.1944\n",
      "Epoch 12/250\n",
      " - 106s - loss: 0.4841 - predictions_nuclei_loss: 0.3655 - predictions_counts_loss: 0.1186 - predictions_nuclei_my_accuracy_score: 0.0910 - predictions_nuclei_acc: 0.8762 - predictions_counts_mean_squared_error: 0.1186 - predictions_counts_mean_absolute_error: 0.1952 - val_loss: 0.4938 - val_predictions_nuclei_loss: 0.3633 - val_predictions_counts_loss: 0.1305 - val_predictions_nuclei_my_accuracy_score: 0.0942 - val_predictions_nuclei_acc: 0.8746 - val_predictions_counts_mean_squared_error: 0.1305 - val_predictions_counts_mean_absolute_error: 0.2110\n",
      "Epoch 13/250\n",
      " - 106s - loss: 0.4678 - predictions_nuclei_loss: 0.3502 - predictions_counts_loss: 0.1176 - predictions_nuclei_my_accuracy_score: 0.0978 - predictions_nuclei_acc: 0.8785 - predictions_counts_mean_squared_error: 0.1176 - predictions_counts_mean_absolute_error: 0.1919 - val_loss: 0.4921 - val_predictions_nuclei_loss: 0.3528 - val_predictions_counts_loss: 0.1394 - val_predictions_nuclei_my_accuracy_score: 0.1127 - val_predictions_nuclei_acc: 0.8802 - val_predictions_counts_mean_squared_error: 0.1394 - val_predictions_counts_mean_absolute_error: 0.2030\n",
      "Epoch 14/250\n",
      " - 106s - loss: 0.4492 - predictions_nuclei_loss: 0.3370 - predictions_counts_loss: 0.1122 - predictions_nuclei_my_accuracy_score: 0.1081 - predictions_nuclei_acc: 0.8815 - predictions_counts_mean_squared_error: 0.1122 - predictions_counts_mean_absolute_error: 0.1903 - val_loss: 0.4508 - val_predictions_nuclei_loss: 0.3306 - val_predictions_counts_loss: 0.1202 - val_predictions_nuclei_my_accuracy_score: 0.1230 - val_predictions_nuclei_acc: 0.8851 - val_predictions_counts_mean_squared_error: 0.1202 - val_predictions_counts_mean_absolute_error: 0.1880\n",
      "Epoch 15/250\n",
      " - 106s - loss: 0.4355 - predictions_nuclei_loss: 0.3241 - predictions_counts_loss: 0.1114 - predictions_nuclei_my_accuracy_score: 0.1165 - predictions_nuclei_acc: 0.8851 - predictions_counts_mean_squared_error: 0.1114 - predictions_counts_mean_absolute_error: 0.1888 - val_loss: 0.4378 - val_predictions_nuclei_loss: 0.3244 - val_predictions_counts_loss: 0.1134 - val_predictions_nuclei_my_accuracy_score: 0.1425 - val_predictions_nuclei_acc: 0.8886 - val_predictions_counts_mean_squared_error: 0.1134 - val_predictions_counts_mean_absolute_error: 0.1821\n"
     ]
    },
    {
     "name": "stdout",
     "output_type": "stream",
     "text": [
      "Epoch 16/250\n",
      " - 106s - loss: 0.4256 - predictions_nuclei_loss: 0.3145 - predictions_counts_loss: 0.1111 - predictions_nuclei_my_accuracy_score: 0.1260 - predictions_nuclei_acc: 0.8877 - predictions_counts_mean_squared_error: 0.1111 - predictions_counts_mean_absolute_error: 0.1870 - val_loss: 0.4339 - val_predictions_nuclei_loss: 0.3227 - val_predictions_counts_loss: 0.1113 - val_predictions_nuclei_my_accuracy_score: 0.1318 - val_predictions_nuclei_acc: 0.8889 - val_predictions_counts_mean_squared_error: 0.1113 - val_predictions_counts_mean_absolute_error: 0.1785\n",
      "Epoch 17/250\n",
      " - 106s - loss: 0.4110 - predictions_nuclei_loss: 0.3038 - predictions_counts_loss: 0.1072 - predictions_nuclei_my_accuracy_score: 0.1360 - predictions_nuclei_acc: 0.8907 - predictions_counts_mean_squared_error: 0.1072 - predictions_counts_mean_absolute_error: 0.1858 - val_loss: 0.4161 - val_predictions_nuclei_loss: 0.3100 - val_predictions_counts_loss: 0.1061 - val_predictions_nuclei_my_accuracy_score: 0.1508 - val_predictions_nuclei_acc: 0.8930 - val_predictions_counts_mean_squared_error: 0.1061 - val_predictions_counts_mean_absolute_error: 0.1712\n",
      "Epoch 18/250\n",
      " - 106s - loss: 0.4009 - predictions_nuclei_loss: 0.2960 - predictions_counts_loss: 0.1049 - predictions_nuclei_my_accuracy_score: 0.1419 - predictions_nuclei_acc: 0.8926 - predictions_counts_mean_squared_error: 0.1049 - predictions_counts_mean_absolute_error: 0.1855 - val_loss: 0.4071 - val_predictions_nuclei_loss: 0.2949 - val_predictions_counts_loss: 0.1123 - val_predictions_nuclei_my_accuracy_score: 0.1613 - val_predictions_nuclei_acc: 0.8940 - val_predictions_counts_mean_squared_error: 0.1123 - val_predictions_counts_mean_absolute_error: 0.1877\n",
      "Epoch 19/250\n",
      " - 106s - loss: 0.3948 - predictions_nuclei_loss: 0.2886 - predictions_counts_loss: 0.1063 - predictions_nuclei_my_accuracy_score: 0.1507 - predictions_nuclei_acc: 0.8944 - predictions_counts_mean_squared_error: 0.1063 - predictions_counts_mean_absolute_error: 0.1862 - val_loss: 0.4072 - val_predictions_nuclei_loss: 0.2951 - val_predictions_counts_loss: 0.1121 - val_predictions_nuclei_my_accuracy_score: 0.1656 - val_predictions_nuclei_acc: 0.8939 - val_predictions_counts_mean_squared_error: 0.1121 - val_predictions_counts_mean_absolute_error: 0.1900\n",
      "Epoch 20/250\n",
      " - 106s - loss: 0.3873 - predictions_nuclei_loss: 0.2809 - predictions_counts_loss: 0.1063 - predictions_nuclei_my_accuracy_score: 0.1547 - predictions_nuclei_acc: 0.8970 - predictions_counts_mean_squared_error: 0.1063 - predictions_counts_mean_absolute_error: 0.1871 - val_loss: 0.4008 - val_predictions_nuclei_loss: 0.2856 - val_predictions_counts_loss: 0.1152 - val_predictions_nuclei_my_accuracy_score: 0.1741 - val_predictions_nuclei_acc: 0.8930 - val_predictions_counts_mean_squared_error: 0.1152 - val_predictions_counts_mean_absolute_error: 0.1924\n",
      "Epoch 21/250\n",
      " - 106s - loss: 0.3698 - predictions_nuclei_loss: 0.2703 - predictions_counts_loss: 0.0996 - predictions_nuclei_my_accuracy_score: 0.1697 - predictions_nuclei_acc: 0.8998 - predictions_counts_mean_squared_error: 0.0996 - predictions_counts_mean_absolute_error: 0.1849 - val_loss: 0.4007 - val_predictions_nuclei_loss: 0.2826 - val_predictions_counts_loss: 0.1181 - val_predictions_nuclei_my_accuracy_score: 0.1490 - val_predictions_nuclei_acc: 0.8972 - val_predictions_counts_mean_squared_error: 0.1181 - val_predictions_counts_mean_absolute_error: 0.1977\n",
      "Epoch 22/250\n",
      " - 106s - loss: 0.3649 - predictions_nuclei_loss: 0.2625 - predictions_counts_loss: 0.1024 - predictions_nuclei_my_accuracy_score: 0.1770 - predictions_nuclei_acc: 0.9008 - predictions_counts_mean_squared_error: 0.1024 - predictions_counts_mean_absolute_error: 0.1881 - val_loss: 0.3787 - val_predictions_nuclei_loss: 0.2696 - val_predictions_counts_loss: 0.1092 - val_predictions_nuclei_my_accuracy_score: 0.1911 - val_predictions_nuclei_acc: 0.8993 - val_predictions_counts_mean_squared_error: 0.1092 - val_predictions_counts_mean_absolute_error: 0.1913\n",
      "Epoch 23/250\n",
      " - 106s - loss: 0.3631 - predictions_nuclei_loss: 0.2583 - predictions_counts_loss: 0.1048 - predictions_nuclei_my_accuracy_score: 0.1862 - predictions_nuclei_acc: 0.9039 - predictions_counts_mean_squared_error: 0.1048 - predictions_counts_mean_absolute_error: 0.1897 - val_loss: 0.3743 - val_predictions_nuclei_loss: 0.2593 - val_predictions_counts_loss: 0.1151 - val_predictions_nuclei_my_accuracy_score: 0.2209 - val_predictions_nuclei_acc: 0.9054 - val_predictions_counts_mean_squared_error: 0.1151 - val_predictions_counts_mean_absolute_error: 0.2054\n",
      "Epoch 24/250\n",
      " - 106s - loss: 0.3502 - predictions_nuclei_loss: 0.2486 - predictions_counts_loss: 0.1016 - predictions_nuclei_my_accuracy_score: 0.1970 - predictions_nuclei_acc: 0.9060 - predictions_counts_mean_squared_error: 0.1016 - predictions_counts_mean_absolute_error: 0.1902 - val_loss: 0.4040 - val_predictions_nuclei_loss: 0.2534 - val_predictions_counts_loss: 0.1506 - val_predictions_nuclei_my_accuracy_score: 0.2202 - val_predictions_nuclei_acc: 0.9080 - val_predictions_counts_mean_squared_error: 0.1506 - val_predictions_counts_mean_absolute_error: 0.2294\n",
      "Epoch 25/250\n",
      " - 106s - loss: 0.3417 - predictions_nuclei_loss: 0.2406 - predictions_counts_loss: 0.1011 - predictions_nuclei_my_accuracy_score: 0.2068 - predictions_nuclei_acc: 0.9093 - predictions_counts_mean_squared_error: 0.1011 - predictions_counts_mean_absolute_error: 0.1944 - val_loss: 0.3495 - val_predictions_nuclei_loss: 0.2432 - val_predictions_counts_loss: 0.1063 - val_predictions_nuclei_my_accuracy_score: 0.2305 - val_predictions_nuclei_acc: 0.9115 - val_predictions_counts_mean_squared_error: 0.1063 - val_predictions_counts_mean_absolute_error: 0.1908\n",
      "Epoch 26/250\n",
      " - 106s - loss: 0.3320 - predictions_nuclei_loss: 0.2310 - predictions_counts_loss: 0.1010 - predictions_nuclei_my_accuracy_score: 0.2246 - predictions_nuclei_acc: 0.9136 - predictions_counts_mean_squared_error: 0.1010 - predictions_counts_mean_absolute_error: 0.1948 - val_loss: 0.3395 - val_predictions_nuclei_loss: 0.2401 - val_predictions_counts_loss: 0.0995 - val_predictions_nuclei_my_accuracy_score: 0.2292 - val_predictions_nuclei_acc: 0.9107 - val_predictions_counts_mean_squared_error: 0.0995 - val_predictions_counts_mean_absolute_error: 0.1885\n",
      "Epoch 27/250\n",
      " - 106s - loss: 0.3196 - predictions_nuclei_loss: 0.2208 - predictions_counts_loss: 0.0987 - predictions_nuclei_my_accuracy_score: 0.2365 - predictions_nuclei_acc: 0.9178 - predictions_counts_mean_squared_error: 0.0987 - predictions_counts_mean_absolute_error: 0.1986 - val_loss: 0.3332 - val_predictions_nuclei_loss: 0.2274 - val_predictions_counts_loss: 0.1058 - val_predictions_nuclei_my_accuracy_score: 0.2595 - val_predictions_nuclei_acc: 0.9184 - val_predictions_counts_mean_squared_error: 0.1058 - val_predictions_counts_mean_absolute_error: 0.2067\n",
      "Epoch 28/250\n",
      " - 106s - loss: 0.3133 - predictions_nuclei_loss: 0.2136 - predictions_counts_loss: 0.0997 - predictions_nuclei_my_accuracy_score: 0.2465 - predictions_nuclei_acc: 0.9218 - predictions_counts_mean_squared_error: 0.0997 - predictions_counts_mean_absolute_error: 0.2021 - val_loss: 0.3255 - val_predictions_nuclei_loss: 0.2238 - val_predictions_counts_loss: 0.1018 - val_predictions_nuclei_my_accuracy_score: 0.2317 - val_predictions_nuclei_acc: 0.9197 - val_predictions_counts_mean_squared_error: 0.1018 - val_predictions_counts_mean_absolute_error: 0.2083\n",
      "Epoch 29/250\n",
      " - 106s - loss: 0.3042 - predictions_nuclei_loss: 0.2069 - predictions_counts_loss: 0.0972 - predictions_nuclei_my_accuracy_score: 0.2488 - predictions_nuclei_acc: 0.9262 - predictions_counts_mean_squared_error: 0.0972 - predictions_counts_mean_absolute_error: 0.2060 - val_loss: 0.3170 - val_predictions_nuclei_loss: 0.2149 - val_predictions_counts_loss: 0.1021 - val_predictions_nuclei_my_accuracy_score: 0.2640 - val_predictions_nuclei_acc: 0.9275 - val_predictions_counts_mean_squared_error: 0.1021 - val_predictions_counts_mean_absolute_error: 0.2069\n",
      "Epoch 30/250\n",
      " - 106s - loss: 0.2907 - predictions_nuclei_loss: 0.1963 - predictions_counts_loss: 0.0945 - predictions_nuclei_my_accuracy_score: 0.2629 - predictions_nuclei_acc: 0.9306 - predictions_counts_mean_squared_error: 0.0945 - predictions_counts_mean_absolute_error: 0.2095 - val_loss: 0.3086 - val_predictions_nuclei_loss: 0.2113 - val_predictions_counts_loss: 0.0973 - val_predictions_nuclei_my_accuracy_score: 0.2658 - val_predictions_nuclei_acc: 0.9264 - val_predictions_counts_mean_squared_error: 0.0973 - val_predictions_counts_mean_absolute_error: 0.2089\n"
     ]
    },
    {
     "name": "stdout",
     "output_type": "stream",
     "text": [
      "Epoch 31/250\n",
      " - 106s - loss: 0.2867 - predictions_nuclei_loss: 0.1898 - predictions_counts_loss: 0.0968 - predictions_nuclei_my_accuracy_score: 0.2707 - predictions_nuclei_acc: 0.9347 - predictions_counts_mean_squared_error: 0.0968 - predictions_counts_mean_absolute_error: 0.2127 - val_loss: 0.3058 - val_predictions_nuclei_loss: 0.2004 - val_predictions_counts_loss: 0.1054 - val_predictions_nuclei_my_accuracy_score: 0.2846 - val_predictions_nuclei_acc: 0.9322 - val_predictions_counts_mean_squared_error: 0.1054 - val_predictions_counts_mean_absolute_error: 0.2268\n",
      "Epoch 32/250\n",
      " - 106s - loss: 0.2709 - predictions_nuclei_loss: 0.1825 - predictions_counts_loss: 0.0884 - predictions_nuclei_my_accuracy_score: 0.2790 - predictions_nuclei_acc: 0.9377 - predictions_counts_mean_squared_error: 0.0884 - predictions_counts_mean_absolute_error: 0.2117 - val_loss: 0.2858 - val_predictions_nuclei_loss: 0.1964 - val_predictions_counts_loss: 0.0894 - val_predictions_nuclei_my_accuracy_score: 0.2786 - val_predictions_nuclei_acc: 0.9355 - val_predictions_counts_mean_squared_error: 0.0894 - val_predictions_counts_mean_absolute_error: 0.2112\n",
      "Epoch 33/250\n",
      " - 106s - loss: 0.2579 - predictions_nuclei_loss: 0.1723 - predictions_counts_loss: 0.0856 - predictions_nuclei_my_accuracy_score: 0.2950 - predictions_nuclei_acc: 0.9417 - predictions_counts_mean_squared_error: 0.0856 - predictions_counts_mean_absolute_error: 0.2128 - val_loss: 0.2858 - val_predictions_nuclei_loss: 0.1827 - val_predictions_counts_loss: 0.1031 - val_predictions_nuclei_my_accuracy_score: 0.3231 - val_predictions_nuclei_acc: 0.9402 - val_predictions_counts_mean_squared_error: 0.1031 - val_predictions_counts_mean_absolute_error: 0.2287\n",
      "Epoch 34/250\n",
      " - 106s - loss: 0.2563 - predictions_nuclei_loss: 0.1695 - predictions_counts_loss: 0.0869 - predictions_nuclei_my_accuracy_score: 0.3008 - predictions_nuclei_acc: 0.9436 - predictions_counts_mean_squared_error: 0.0869 - predictions_counts_mean_absolute_error: 0.2158 - val_loss: 0.2597 - val_predictions_nuclei_loss: 0.1765 - val_predictions_counts_loss: 0.0831 - val_predictions_nuclei_my_accuracy_score: 0.3272 - val_predictions_nuclei_acc: 0.9443 - val_predictions_counts_mean_squared_error: 0.0831 - val_predictions_counts_mean_absolute_error: 0.2059\n",
      "Epoch 35/250\n",
      " - 106s - loss: 0.2392 - predictions_nuclei_loss: 0.1587 - predictions_counts_loss: 0.0806 - predictions_nuclei_my_accuracy_score: 0.3210 - predictions_nuclei_acc: 0.9473 - predictions_counts_mean_squared_error: 0.0806 - predictions_counts_mean_absolute_error: 0.2160 - val_loss: 0.3072 - val_predictions_nuclei_loss: 0.1984 - val_predictions_counts_loss: 0.1088 - val_predictions_nuclei_my_accuracy_score: 0.3347 - val_predictions_nuclei_acc: 0.9399 - val_predictions_counts_mean_squared_error: 0.1088 - val_predictions_counts_mean_absolute_error: 0.2125\n",
      "Epoch 36/250\n",
      " - 106s - loss: 0.2365 - predictions_nuclei_loss: 0.1535 - predictions_counts_loss: 0.0830 - predictions_nuclei_my_accuracy_score: 0.3349 - predictions_nuclei_acc: 0.9493 - predictions_counts_mean_squared_error: 0.0830 - predictions_counts_mean_absolute_error: 0.2177 - val_loss: 0.2437 - val_predictions_nuclei_loss: 0.1645 - val_predictions_counts_loss: 0.0793 - val_predictions_nuclei_my_accuracy_score: 0.3587 - val_predictions_nuclei_acc: 0.9484 - val_predictions_counts_mean_squared_error: 0.0793 - val_predictions_counts_mean_absolute_error: 0.2159\n",
      "Epoch 37/250\n",
      " - 106s - loss: 0.2273 - predictions_nuclei_loss: 0.1468 - predictions_counts_loss: 0.0805 - predictions_nuclei_my_accuracy_score: 0.3479 - predictions_nuclei_acc: 0.9517 - predictions_counts_mean_squared_error: 0.0805 - predictions_counts_mean_absolute_error: 0.2180 - val_loss: 0.2434 - val_predictions_nuclei_loss: 0.1628 - val_predictions_counts_loss: 0.0807 - val_predictions_nuclei_my_accuracy_score: 0.3622 - val_predictions_nuclei_acc: 0.9487 - val_predictions_counts_mean_squared_error: 0.0807 - val_predictions_counts_mean_absolute_error: 0.2098\n",
      "Epoch 38/250\n",
      " - 106s - loss: 0.2183 - predictions_nuclei_loss: 0.1408 - predictions_counts_loss: 0.0775 - predictions_nuclei_my_accuracy_score: 0.3641 - predictions_nuclei_acc: 0.9536 - predictions_counts_mean_squared_error: 0.0775 - predictions_counts_mean_absolute_error: 0.2177 - val_loss: 0.2351 - val_predictions_nuclei_loss: 0.1510 - val_predictions_counts_loss: 0.0842 - val_predictions_nuclei_my_accuracy_score: 0.3835 - val_predictions_nuclei_acc: 0.9500 - val_predictions_counts_mean_squared_error: 0.0842 - val_predictions_counts_mean_absolute_error: 0.2266\n",
      "Epoch 39/250\n",
      " - 106s - loss: 0.2113 - predictions_nuclei_loss: 0.1342 - predictions_counts_loss: 0.0771 - predictions_nuclei_my_accuracy_score: 0.3877 - predictions_nuclei_acc: 0.9557 - predictions_counts_mean_squared_error: 0.0771 - predictions_counts_mean_absolute_error: 0.2187 - val_loss: 0.2355 - val_predictions_nuclei_loss: 0.1491 - val_predictions_counts_loss: 0.0864 - val_predictions_nuclei_my_accuracy_score: 0.4003 - val_predictions_nuclei_acc: 0.9506 - val_predictions_counts_mean_squared_error: 0.0864 - val_predictions_counts_mean_absolute_error: 0.2340\n",
      "Epoch 40/250\n",
      " - 106s - loss: 0.2059 - predictions_nuclei_loss: 0.1286 - predictions_counts_loss: 0.0773 - predictions_nuclei_my_accuracy_score: 0.4066 - predictions_nuclei_acc: 0.9578 - predictions_counts_mean_squared_error: 0.0773 - predictions_counts_mean_absolute_error: 0.2192 - val_loss: 0.2415 - val_predictions_nuclei_loss: 0.1499 - val_predictions_counts_loss: 0.0916 - val_predictions_nuclei_my_accuracy_score: 0.4301 - val_predictions_nuclei_acc: 0.9512 - val_predictions_counts_mean_squared_error: 0.0916 - val_predictions_counts_mean_absolute_error: 0.2330\n",
      "Epoch 41/250\n",
      " - 106s - loss: 0.2006 - predictions_nuclei_loss: 0.1253 - predictions_counts_loss: 0.0752 - predictions_nuclei_my_accuracy_score: 0.4182 - predictions_nuclei_acc: 0.9595 - predictions_counts_mean_squared_error: 0.0752 - predictions_counts_mean_absolute_error: 0.2184 - val_loss: 0.2218 - val_predictions_nuclei_loss: 0.1425 - val_predictions_counts_loss: 0.0793 - val_predictions_nuclei_my_accuracy_score: 0.4316 - val_predictions_nuclei_acc: 0.9543 - val_predictions_counts_mean_squared_error: 0.0793 - val_predictions_counts_mean_absolute_error: 0.2213\n",
      "Epoch 42/250\n",
      " - 106s - loss: 0.1965 - predictions_nuclei_loss: 0.1204 - predictions_counts_loss: 0.0761 - predictions_nuclei_my_accuracy_score: 0.4360 - predictions_nuclei_acc: 0.9605 - predictions_counts_mean_squared_error: 0.0761 - predictions_counts_mean_absolute_error: 0.2199 - val_loss: 0.2305 - val_predictions_nuclei_loss: 0.1417 - val_predictions_counts_loss: 0.0887 - val_predictions_nuclei_my_accuracy_score: 0.3945 - val_predictions_nuclei_acc: 0.9529 - val_predictions_counts_mean_squared_error: 0.0887 - val_predictions_counts_mean_absolute_error: 0.2356\n",
      "Epoch 43/250\n",
      " - 106s - loss: 0.1900 - predictions_nuclei_loss: 0.1149 - predictions_counts_loss: 0.0751 - predictions_nuclei_my_accuracy_score: 0.4512 - predictions_nuclei_acc: 0.9625 - predictions_counts_mean_squared_error: 0.0751 - predictions_counts_mean_absolute_error: 0.2216 - val_loss: 0.2373 - val_predictions_nuclei_loss: 0.1464 - val_predictions_counts_loss: 0.0909 - val_predictions_nuclei_my_accuracy_score: 0.4557 - val_predictions_nuclei_acc: 0.9531 - val_predictions_counts_mean_squared_error: 0.0909 - val_predictions_counts_mean_absolute_error: 0.2356\n",
      "Epoch 44/250\n",
      " - 106s - loss: 0.1883 - predictions_nuclei_loss: 0.1131 - predictions_counts_loss: 0.0752 - predictions_nuclei_my_accuracy_score: 0.4599 - predictions_nuclei_acc: 0.9641 - predictions_counts_mean_squared_error: 0.0752 - predictions_counts_mean_absolute_error: 0.2228 - val_loss: 0.2101 - val_predictions_nuclei_loss: 0.1317 - val_predictions_counts_loss: 0.0784 - val_predictions_nuclei_my_accuracy_score: 0.4572 - val_predictions_nuclei_acc: 0.9586 - val_predictions_counts_mean_squared_error: 0.0784 - val_predictions_counts_mean_absolute_error: 0.2220\n",
      "Epoch 45/250\n",
      " - 106s - loss: 0.1817 - predictions_nuclei_loss: 0.1090 - predictions_counts_loss: 0.0727 - predictions_nuclei_my_accuracy_score: 0.4721 - predictions_nuclei_acc: 0.9650 - predictions_counts_mean_squared_error: 0.0727 - predictions_counts_mean_absolute_error: 0.2196 - val_loss: 0.2089 - val_predictions_nuclei_loss: 0.1298 - val_predictions_counts_loss: 0.0791 - val_predictions_nuclei_my_accuracy_score: 0.4617 - val_predictions_nuclei_acc: 0.9623 - val_predictions_counts_mean_squared_error: 0.0791 - val_predictions_counts_mean_absolute_error: 0.2201\n"
     ]
    },
    {
     "name": "stdout",
     "output_type": "stream",
     "text": [
      "Epoch 46/250\n",
      " - 106s - loss: 0.1752 - predictions_nuclei_loss: 0.1028 - predictions_counts_loss: 0.0724 - predictions_nuclei_my_accuracy_score: 0.4972 - predictions_nuclei_acc: 0.9680 - predictions_counts_mean_squared_error: 0.0724 - predictions_counts_mean_absolute_error: 0.2193 - val_loss: 0.2057 - val_predictions_nuclei_loss: 0.1255 - val_predictions_counts_loss: 0.0802 - val_predictions_nuclei_my_accuracy_score: 0.4890 - val_predictions_nuclei_acc: 0.9605 - val_predictions_counts_mean_squared_error: 0.0802 - val_predictions_counts_mean_absolute_error: 0.2297\n",
      "Epoch 47/250\n",
      " - 106s - loss: 0.1761 - predictions_nuclei_loss: 0.1027 - predictions_counts_loss: 0.0734 - predictions_nuclei_my_accuracy_score: 0.4974 - predictions_nuclei_acc: 0.9675 - predictions_counts_mean_squared_error: 0.0734 - predictions_counts_mean_absolute_error: 0.2211 - val_loss: 0.1979 - val_predictions_nuclei_loss: 0.1221 - val_predictions_counts_loss: 0.0758 - val_predictions_nuclei_my_accuracy_score: 0.5053 - val_predictions_nuclei_acc: 0.9623 - val_predictions_counts_mean_squared_error: 0.0758 - val_predictions_counts_mean_absolute_error: 0.2183\n",
      "Epoch 48/250\n",
      " - 106s - loss: 0.1710 - predictions_nuclei_loss: 0.0983 - predictions_counts_loss: 0.0727 - predictions_nuclei_my_accuracy_score: 0.5153 - predictions_nuclei_acc: 0.9692 - predictions_counts_mean_squared_error: 0.0727 - predictions_counts_mean_absolute_error: 0.2211 - val_loss: 0.2166 - val_predictions_nuclei_loss: 0.1232 - val_predictions_counts_loss: 0.0933 - val_predictions_nuclei_my_accuracy_score: 0.5158 - val_predictions_nuclei_acc: 0.9615 - val_predictions_counts_mean_squared_error: 0.0933 - val_predictions_counts_mean_absolute_error: 0.2502\n",
      "Epoch 49/250\n",
      " - 106s - loss: 0.1648 - predictions_nuclei_loss: 0.0939 - predictions_counts_loss: 0.0709 - predictions_nuclei_my_accuracy_score: 0.5288 - predictions_nuclei_acc: 0.9709 - predictions_counts_mean_squared_error: 0.0709 - predictions_counts_mean_absolute_error: 0.2197 - val_loss: 0.1943 - val_predictions_nuclei_loss: 0.1195 - val_predictions_counts_loss: 0.0749 - val_predictions_nuclei_my_accuracy_score: 0.5303 - val_predictions_nuclei_acc: 0.9643 - val_predictions_counts_mean_squared_error: 0.0749 - val_predictions_counts_mean_absolute_error: 0.2174\n",
      "Epoch 50/250\n",
      " - 106s - loss: 0.1638 - predictions_nuclei_loss: 0.0916 - predictions_counts_loss: 0.0722 - predictions_nuclei_my_accuracy_score: 0.5375 - predictions_nuclei_acc: 0.9721 - predictions_counts_mean_squared_error: 0.0722 - predictions_counts_mean_absolute_error: 0.2206 - val_loss: 0.1975 - val_predictions_nuclei_loss: 0.1160 - val_predictions_counts_loss: 0.0815 - val_predictions_nuclei_my_accuracy_score: 0.5463 - val_predictions_nuclei_acc: 0.9652 - val_predictions_counts_mean_squared_error: 0.0815 - val_predictions_counts_mean_absolute_error: 0.2333\n",
      "Epoch 51/250\n",
      " - 106s - loss: 0.1609 - predictions_nuclei_loss: 0.0888 - predictions_counts_loss: 0.0721 - predictions_nuclei_my_accuracy_score: 0.5411 - predictions_nuclei_acc: 0.9730 - predictions_counts_mean_squared_error: 0.0721 - predictions_counts_mean_absolute_error: 0.2212 - val_loss: 0.1871 - val_predictions_nuclei_loss: 0.1120 - val_predictions_counts_loss: 0.0751 - val_predictions_nuclei_my_accuracy_score: 0.5408 - val_predictions_nuclei_acc: 0.9669 - val_predictions_counts_mean_squared_error: 0.0751 - val_predictions_counts_mean_absolute_error: 0.2173\n",
      "Epoch 52/250\n",
      " - 106s - loss: 0.1579 - predictions_nuclei_loss: 0.0872 - predictions_counts_loss: 0.0708 - predictions_nuclei_my_accuracy_score: 0.5507 - predictions_nuclei_acc: 0.9730 - predictions_counts_mean_squared_error: 0.0708 - predictions_counts_mean_absolute_error: 0.2199 - val_loss: 0.1884 - val_predictions_nuclei_loss: 0.1106 - val_predictions_counts_loss: 0.0778 - val_predictions_nuclei_my_accuracy_score: 0.5453 - val_predictions_nuclei_acc: 0.9652 - val_predictions_counts_mean_squared_error: 0.0778 - val_predictions_counts_mean_absolute_error: 0.2261\n",
      "Epoch 53/250\n",
      " - 106s - loss: 0.1537 - predictions_nuclei_loss: 0.0843 - predictions_counts_loss: 0.0695 - predictions_nuclei_my_accuracy_score: 0.5633 - predictions_nuclei_acc: 0.9738 - predictions_counts_mean_squared_error: 0.0695 - predictions_counts_mean_absolute_error: 0.2207 - val_loss: 0.1945 - val_predictions_nuclei_loss: 0.1141 - val_predictions_counts_loss: 0.0804 - val_predictions_nuclei_my_accuracy_score: 0.5398 - val_predictions_nuclei_acc: 0.9658 - val_predictions_counts_mean_squared_error: 0.0804 - val_predictions_counts_mean_absolute_error: 0.2273\n",
      "Epoch 54/250\n",
      " - 106s - loss: 0.1545 - predictions_nuclei_loss: 0.0840 - predictions_counts_loss: 0.0705 - predictions_nuclei_my_accuracy_score: 0.5676 - predictions_nuclei_acc: 0.9746 - predictions_counts_mean_squared_error: 0.0705 - predictions_counts_mean_absolute_error: 0.2211 - val_loss: 0.1903 - val_predictions_nuclei_loss: 0.1119 - val_predictions_counts_loss: 0.0784 - val_predictions_nuclei_my_accuracy_score: 0.5546 - val_predictions_nuclei_acc: 0.9680 - val_predictions_counts_mean_squared_error: 0.0784 - val_predictions_counts_mean_absolute_error: 0.2260\n",
      "Epoch 55/250\n",
      " - 106s - loss: 0.1512 - predictions_nuclei_loss: 0.0816 - predictions_counts_loss: 0.0696 - predictions_nuclei_my_accuracy_score: 0.5712 - predictions_nuclei_acc: 0.9753 - predictions_counts_mean_squared_error: 0.0696 - predictions_counts_mean_absolute_error: 0.2194 - val_loss: 0.1798 - val_predictions_nuclei_loss: 0.1053 - val_predictions_counts_loss: 0.0745 - val_predictions_nuclei_my_accuracy_score: 0.5514 - val_predictions_nuclei_acc: 0.9690 - val_predictions_counts_mean_squared_error: 0.0745 - val_predictions_counts_mean_absolute_error: 0.2232\n",
      "Epoch 56/250\n",
      " - 106s - loss: 0.1502 - predictions_nuclei_loss: 0.0792 - predictions_counts_loss: 0.0710 - predictions_nuclei_my_accuracy_score: 0.5837 - predictions_nuclei_acc: 0.9762 - predictions_counts_mean_squared_error: 0.0710 - predictions_counts_mean_absolute_error: 0.2215 - val_loss: 0.1799 - val_predictions_nuclei_loss: 0.1065 - val_predictions_counts_loss: 0.0734 - val_predictions_nuclei_my_accuracy_score: 0.5706 - val_predictions_nuclei_acc: 0.9684 - val_predictions_counts_mean_squared_error: 0.0734 - val_predictions_counts_mean_absolute_error: 0.2230\n",
      "Epoch 57/250\n",
      " - 106s - loss: 0.1427 - predictions_nuclei_loss: 0.0752 - predictions_counts_loss: 0.0674 - predictions_nuclei_my_accuracy_score: 0.5991 - predictions_nuclei_acc: 0.9776 - predictions_counts_mean_squared_error: 0.0674 - predictions_counts_mean_absolute_error: 0.2188 - val_loss: 0.1764 - val_predictions_nuclei_loss: 0.1034 - val_predictions_counts_loss: 0.0731 - val_predictions_nuclei_my_accuracy_score: 0.5924 - val_predictions_nuclei_acc: 0.9695 - val_predictions_counts_mean_squared_error: 0.0731 - val_predictions_counts_mean_absolute_error: 0.2211\n",
      "Epoch 58/250\n",
      " - 106s - loss: 0.1406 - predictions_nuclei_loss: 0.0739 - predictions_counts_loss: 0.0667 - predictions_nuclei_my_accuracy_score: 0.6094 - predictions_nuclei_acc: 0.9782 - predictions_counts_mean_squared_error: 0.0667 - predictions_counts_mean_absolute_error: 0.2177 - val_loss: 0.1773 - val_predictions_nuclei_loss: 0.1035 - val_predictions_counts_loss: 0.0738 - val_predictions_nuclei_my_accuracy_score: 0.5824 - val_predictions_nuclei_acc: 0.9700 - val_predictions_counts_mean_squared_error: 0.0738 - val_predictions_counts_mean_absolute_error: 0.2163\n",
      "Epoch 59/250\n",
      " - 106s - loss: 0.1400 - predictions_nuclei_loss: 0.0723 - predictions_counts_loss: 0.0677 - predictions_nuclei_my_accuracy_score: 0.6152 - predictions_nuclei_acc: 0.9787 - predictions_counts_mean_squared_error: 0.0677 - predictions_counts_mean_absolute_error: 0.2196 - val_loss: 0.1771 - val_predictions_nuclei_loss: 0.1039 - val_predictions_counts_loss: 0.0731 - val_predictions_nuclei_my_accuracy_score: 0.6067 - val_predictions_nuclei_acc: 0.9675 - val_predictions_counts_mean_squared_error: 0.0731 - val_predictions_counts_mean_absolute_error: 0.2241\n",
      "Epoch 60/250\n",
      " - 106s - loss: 0.1372 - predictions_nuclei_loss: 0.0710 - predictions_counts_loss: 0.0662 - predictions_nuclei_my_accuracy_score: 0.6222 - predictions_nuclei_acc: 0.9793 - predictions_counts_mean_squared_error: 0.0662 - predictions_counts_mean_absolute_error: 0.2171 - val_loss: 0.1686 - val_predictions_nuclei_loss: 0.0979 - val_predictions_counts_loss: 0.0708 - val_predictions_nuclei_my_accuracy_score: 0.6107 - val_predictions_nuclei_acc: 0.9716 - val_predictions_counts_mean_squared_error: 0.0708 - val_predictions_counts_mean_absolute_error: 0.2198\n"
     ]
    },
    {
     "name": "stdout",
     "output_type": "stream",
     "text": [
      "Epoch 61/250\n",
      " - 106s - loss: 0.1380 - predictions_nuclei_loss: 0.0700 - predictions_counts_loss: 0.0680 - predictions_nuclei_my_accuracy_score: 0.6234 - predictions_nuclei_acc: 0.9801 - predictions_counts_mean_squared_error: 0.0680 - predictions_counts_mean_absolute_error: 0.2174 - val_loss: 0.1779 - val_predictions_nuclei_loss: 0.1006 - val_predictions_counts_loss: 0.0773 - val_predictions_nuclei_my_accuracy_score: 0.6290 - val_predictions_nuclei_acc: 0.9701 - val_predictions_counts_mean_squared_error: 0.0773 - val_predictions_counts_mean_absolute_error: 0.2265\n",
      "Epoch 62/250\n",
      " - 106s - loss: 0.1360 - predictions_nuclei_loss: 0.0702 - predictions_counts_loss: 0.0658 - predictions_nuclei_my_accuracy_score: 0.6289 - predictions_nuclei_acc: 0.9801 - predictions_counts_mean_squared_error: 0.0658 - predictions_counts_mean_absolute_error: 0.2176 - val_loss: 0.1768 - val_predictions_nuclei_loss: 0.0977 - val_predictions_counts_loss: 0.0791 - val_predictions_nuclei_my_accuracy_score: 0.6155 - val_predictions_nuclei_acc: 0.9717 - val_predictions_counts_mean_squared_error: 0.0791 - val_predictions_counts_mean_absolute_error: 0.2231\n",
      "Epoch 63/250\n",
      " - 106s - loss: 0.1328 - predictions_nuclei_loss: 0.0673 - predictions_counts_loss: 0.0655 - predictions_nuclei_my_accuracy_score: 0.6411 - predictions_nuclei_acc: 0.9809 - predictions_counts_mean_squared_error: 0.0655 - predictions_counts_mean_absolute_error: 0.2159 - val_loss: 0.1665 - val_predictions_nuclei_loss: 0.0941 - val_predictions_counts_loss: 0.0724 - val_predictions_nuclei_my_accuracy_score: 0.6052 - val_predictions_nuclei_acc: 0.9719 - val_predictions_counts_mean_squared_error: 0.0724 - val_predictions_counts_mean_absolute_error: 0.2209\n",
      "Epoch 64/250\n",
      " - 106s - loss: 0.1261 - predictions_nuclei_loss: 0.0635 - predictions_counts_loss: 0.0627 - predictions_nuclei_my_accuracy_score: 0.6557 - predictions_nuclei_acc: 0.9820 - predictions_counts_mean_squared_error: 0.0627 - predictions_counts_mean_absolute_error: 0.2138 - val_loss: 0.1640 - val_predictions_nuclei_loss: 0.0938 - val_predictions_counts_loss: 0.0702 - val_predictions_nuclei_my_accuracy_score: 0.6478 - val_predictions_nuclei_acc: 0.9721 - val_predictions_counts_mean_squared_error: 0.0702 - val_predictions_counts_mean_absolute_error: 0.2190\n",
      "Epoch 65/250\n",
      " - 106s - loss: 0.1270 - predictions_nuclei_loss: 0.0634 - predictions_counts_loss: 0.0636 - predictions_nuclei_my_accuracy_score: 0.6566 - predictions_nuclei_acc: 0.9820 - predictions_counts_mean_squared_error: 0.0636 - predictions_counts_mean_absolute_error: 0.2145 - val_loss: 0.1730 - val_predictions_nuclei_loss: 0.0982 - val_predictions_counts_loss: 0.0748 - val_predictions_nuclei_my_accuracy_score: 0.6445 - val_predictions_nuclei_acc: 0.9713 - val_predictions_counts_mean_squared_error: 0.0748 - val_predictions_counts_mean_absolute_error: 0.2192\n",
      "Epoch 66/250\n",
      " - 106s - loss: 0.1200 - predictions_nuclei_loss: 0.0598 - predictions_counts_loss: 0.0602 - predictions_nuclei_my_accuracy_score: 0.6708 - predictions_nuclei_acc: 0.9834 - predictions_counts_mean_squared_error: 0.0602 - predictions_counts_mean_absolute_error: 0.2110 - val_loss: 0.1627 - val_predictions_nuclei_loss: 0.0931 - val_predictions_counts_loss: 0.0696 - val_predictions_nuclei_my_accuracy_score: 0.6716 - val_predictions_nuclei_acc: 0.9739 - val_predictions_counts_mean_squared_error: 0.0696 - val_predictions_counts_mean_absolute_error: 0.2177\n",
      "Epoch 67/250\n",
      " - 106s - loss: 0.1225 - predictions_nuclei_loss: 0.0606 - predictions_counts_loss: 0.0619 - predictions_nuclei_my_accuracy_score: 0.6764 - predictions_nuclei_acc: 0.9828 - predictions_counts_mean_squared_error: 0.0619 - predictions_counts_mean_absolute_error: 0.2125 - val_loss: 0.1565 - val_predictions_nuclei_loss: 0.0882 - val_predictions_counts_loss: 0.0682 - val_predictions_nuclei_my_accuracy_score: 0.6571 - val_predictions_nuclei_acc: 0.9741 - val_predictions_counts_mean_squared_error: 0.0682 - val_predictions_counts_mean_absolute_error: 0.2186\n",
      "Epoch 68/250\n",
      " - 106s - loss: 0.1161 - predictions_nuclei_loss: 0.0567 - predictions_counts_loss: 0.0594 - predictions_nuclei_my_accuracy_score: 0.6900 - predictions_nuclei_acc: 0.9843 - predictions_counts_mean_squared_error: 0.0594 - predictions_counts_mean_absolute_error: 0.2098 - val_loss: 0.1834 - val_predictions_nuclei_loss: 0.1046 - val_predictions_counts_loss: 0.0788 - val_predictions_nuclei_my_accuracy_score: 0.6754 - val_predictions_nuclei_acc: 0.9701 - val_predictions_counts_mean_squared_error: 0.0788 - val_predictions_counts_mean_absolute_error: 0.2273\n",
      "Epoch 69/250\n",
      " - 106s - loss: 0.1155 - predictions_nuclei_loss: 0.0563 - predictions_counts_loss: 0.0592 - predictions_nuclei_my_accuracy_score: 0.6927 - predictions_nuclei_acc: 0.9849 - predictions_counts_mean_squared_error: 0.0592 - predictions_counts_mean_absolute_error: 0.2103 - val_loss: 0.1622 - val_predictions_nuclei_loss: 0.0903 - val_predictions_counts_loss: 0.0719 - val_predictions_nuclei_my_accuracy_score: 0.6691 - val_predictions_nuclei_acc: 0.9749 - val_predictions_counts_mean_squared_error: 0.0719 - val_predictions_counts_mean_absolute_error: 0.2194\n",
      "Epoch 70/250\n",
      " - 106s - loss: 0.1185 - predictions_nuclei_loss: 0.0570 - predictions_counts_loss: 0.0615 - predictions_nuclei_my_accuracy_score: 0.6883 - predictions_nuclei_acc: 0.9844 - predictions_counts_mean_squared_error: 0.0615 - predictions_counts_mean_absolute_error: 0.2115 - val_loss: 0.1561 - val_predictions_nuclei_loss: 0.0904 - val_predictions_counts_loss: 0.0658 - val_predictions_nuclei_my_accuracy_score: 0.6846 - val_predictions_nuclei_acc: 0.9721 - val_predictions_counts_mean_squared_error: 0.0658 - val_predictions_counts_mean_absolute_error: 0.2130\n",
      "Epoch 71/250\n",
      " - 106s - loss: 0.1138 - predictions_nuclei_loss: 0.0542 - predictions_counts_loss: 0.0595 - predictions_nuclei_my_accuracy_score: 0.7013 - predictions_nuclei_acc: 0.9854 - predictions_counts_mean_squared_error: 0.0595 - predictions_counts_mean_absolute_error: 0.2093 - val_loss: 0.1681 - val_predictions_nuclei_loss: 0.0945 - val_predictions_counts_loss: 0.0736 - val_predictions_nuclei_my_accuracy_score: 0.6616 - val_predictions_nuclei_acc: 0.9739 - val_predictions_counts_mean_squared_error: 0.0736 - val_predictions_counts_mean_absolute_error: 0.2207\n",
      "Epoch 72/250\n",
      " - 106s - loss: 0.1135 - predictions_nuclei_loss: 0.0542 - predictions_counts_loss: 0.0593 - predictions_nuclei_my_accuracy_score: 0.7061 - predictions_nuclei_acc: 0.9853 - predictions_counts_mean_squared_error: 0.0593 - predictions_counts_mean_absolute_error: 0.2084 - val_loss: 0.1547 - val_predictions_nuclei_loss: 0.0882 - val_predictions_counts_loss: 0.0665 - val_predictions_nuclei_my_accuracy_score: 0.6839 - val_predictions_nuclei_acc: 0.9747 - val_predictions_counts_mean_squared_error: 0.0665 - val_predictions_counts_mean_absolute_error: 0.2138\n",
      "Epoch 73/250\n",
      " - 106s - loss: 0.1084 - predictions_nuclei_loss: 0.0518 - predictions_counts_loss: 0.0567 - predictions_nuclei_my_accuracy_score: 0.7138 - predictions_nuclei_acc: 0.9865 - predictions_counts_mean_squared_error: 0.0567 - predictions_counts_mean_absolute_error: 0.2053 - val_loss: 0.1583 - val_predictions_nuclei_loss: 0.0855 - val_predictions_counts_loss: 0.0728 - val_predictions_nuclei_my_accuracy_score: 0.6911 - val_predictions_nuclei_acc: 0.9756 - val_predictions_counts_mean_squared_error: 0.0728 - val_predictions_counts_mean_absolute_error: 0.2246\n",
      "Epoch 74/250\n",
      " - 106s - loss: 0.1076 - predictions_nuclei_loss: 0.0507 - predictions_counts_loss: 0.0569 - predictions_nuclei_my_accuracy_score: 0.7236 - predictions_nuclei_acc: 0.9871 - predictions_counts_mean_squared_error: 0.0569 - predictions_counts_mean_absolute_error: 0.2053 - val_loss: 0.1553 - val_predictions_nuclei_loss: 0.0857 - val_predictions_counts_loss: 0.0696 - val_predictions_nuclei_my_accuracy_score: 0.6984 - val_predictions_nuclei_acc: 0.9767 - val_predictions_counts_mean_squared_error: 0.0696 - val_predictions_counts_mean_absolute_error: 0.2207\n",
      "Epoch 75/250\n",
      " - 106s - loss: 0.1067 - predictions_nuclei_loss: 0.0496 - predictions_counts_loss: 0.0571 - predictions_nuclei_my_accuracy_score: 0.7267 - predictions_nuclei_acc: 0.9874 - predictions_counts_mean_squared_error: 0.0571 - predictions_counts_mean_absolute_error: 0.2056 - val_loss: 0.1534 - val_predictions_nuclei_loss: 0.0867 - val_predictions_counts_loss: 0.0667 - val_predictions_nuclei_my_accuracy_score: 0.6814 - val_predictions_nuclei_acc: 0.9756 - val_predictions_counts_mean_squared_error: 0.0667 - val_predictions_counts_mean_absolute_error: 0.2155\n"
     ]
    },
    {
     "name": "stdout",
     "output_type": "stream",
     "text": [
      "Epoch 76/250\n",
      " - 106s - loss: 0.1016 - predictions_nuclei_loss: 0.0476 - predictions_counts_loss: 0.0540 - predictions_nuclei_my_accuracy_score: 0.7385 - predictions_nuclei_acc: 0.9883 - predictions_counts_mean_squared_error: 0.0540 - predictions_counts_mean_absolute_error: 0.2018 - val_loss: 0.1517 - val_predictions_nuclei_loss: 0.0843 - val_predictions_counts_loss: 0.0674 - val_predictions_nuclei_my_accuracy_score: 0.7104 - val_predictions_nuclei_acc: 0.9766 - val_predictions_counts_mean_squared_error: 0.0674 - val_predictions_counts_mean_absolute_error: 0.2150\n",
      "Epoch 77/250\n",
      " - 106s - loss: 0.1015 - predictions_nuclei_loss: 0.0475 - predictions_counts_loss: 0.0540 - predictions_nuclei_my_accuracy_score: 0.7403 - predictions_nuclei_acc: 0.9879 - predictions_counts_mean_squared_error: 0.0540 - predictions_counts_mean_absolute_error: 0.2017 - val_loss: 0.1536 - val_predictions_nuclei_loss: 0.0837 - val_predictions_counts_loss: 0.0699 - val_predictions_nuclei_my_accuracy_score: 0.7152 - val_predictions_nuclei_acc: 0.9757 - val_predictions_counts_mean_squared_error: 0.0699 - val_predictions_counts_mean_absolute_error: 0.2188\n",
      "Epoch 78/250\n",
      " - 106s - loss: 0.1026 - predictions_nuclei_loss: 0.0474 - predictions_counts_loss: 0.0552 - predictions_nuclei_my_accuracy_score: 0.7406 - predictions_nuclei_acc: 0.9881 - predictions_counts_mean_squared_error: 0.0552 - predictions_counts_mean_absolute_error: 0.2030 - val_loss: 0.1508 - val_predictions_nuclei_loss: 0.0825 - val_predictions_counts_loss: 0.0683 - val_predictions_nuclei_my_accuracy_score: 0.7062 - val_predictions_nuclei_acc: 0.9770 - val_predictions_counts_mean_squared_error: 0.0683 - val_predictions_counts_mean_absolute_error: 0.2156\n",
      "Epoch 79/250\n",
      " - 106s - loss: 0.1017 - predictions_nuclei_loss: 0.0465 - predictions_counts_loss: 0.0552 - predictions_nuclei_my_accuracy_score: 0.7419 - predictions_nuclei_acc: 0.9886 - predictions_counts_mean_squared_error: 0.0552 - predictions_counts_mean_absolute_error: 0.2017 - val_loss: 0.1482 - val_predictions_nuclei_loss: 0.0815 - val_predictions_counts_loss: 0.0666 - val_predictions_nuclei_my_accuracy_score: 0.7049 - val_predictions_nuclei_acc: 0.9774 - val_predictions_counts_mean_squared_error: 0.0666 - val_predictions_counts_mean_absolute_error: 0.2151\n",
      "Epoch 80/250\n",
      " - 106s - loss: 0.1003 - predictions_nuclei_loss: 0.0461 - predictions_counts_loss: 0.0541 - predictions_nuclei_my_accuracy_score: 0.7495 - predictions_nuclei_acc: 0.9884 - predictions_counts_mean_squared_error: 0.0541 - predictions_counts_mean_absolute_error: 0.2005 - val_loss: 0.1527 - val_predictions_nuclei_loss: 0.0855 - val_predictions_counts_loss: 0.0672 - val_predictions_nuclei_my_accuracy_score: 0.7162 - val_predictions_nuclei_acc: 0.9769 - val_predictions_counts_mean_squared_error: 0.0672 - val_predictions_counts_mean_absolute_error: 0.2131\n",
      "Epoch 81/250\n",
      " - 106s - loss: 0.0973 - predictions_nuclei_loss: 0.0450 - predictions_counts_loss: 0.0524 - predictions_nuclei_my_accuracy_score: 0.7515 - predictions_nuclei_acc: 0.9890 - predictions_counts_mean_squared_error: 0.0524 - predictions_counts_mean_absolute_error: 0.1980 - val_loss: 0.1471 - val_predictions_nuclei_loss: 0.0848 - val_predictions_counts_loss: 0.0623 - val_predictions_nuclei_my_accuracy_score: 0.7082 - val_predictions_nuclei_acc: 0.9776 - val_predictions_counts_mean_squared_error: 0.0623 - val_predictions_counts_mean_absolute_error: 0.2031\n",
      "Epoch 82/250\n",
      " - 106s - loss: 0.0975 - predictions_nuclei_loss: 0.0437 - predictions_counts_loss: 0.0537 - predictions_nuclei_my_accuracy_score: 0.7599 - predictions_nuclei_acc: 0.9894 - predictions_counts_mean_squared_error: 0.0537 - predictions_counts_mean_absolute_error: 0.1991 - val_loss: 0.1482 - val_predictions_nuclei_loss: 0.0811 - val_predictions_counts_loss: 0.0671 - val_predictions_nuclei_my_accuracy_score: 0.7172 - val_predictions_nuclei_acc: 0.9773 - val_predictions_counts_mean_squared_error: 0.0671 - val_predictions_counts_mean_absolute_error: 0.2142\n",
      "Epoch 83/250\n",
      " - 106s - loss: 0.0954 - predictions_nuclei_loss: 0.0427 - predictions_counts_loss: 0.0526 - predictions_nuclei_my_accuracy_score: 0.7610 - predictions_nuclei_acc: 0.9899 - predictions_counts_mean_squared_error: 0.0526 - predictions_counts_mean_absolute_error: 0.1981 - val_loss: 0.1449 - val_predictions_nuclei_loss: 0.0804 - val_predictions_counts_loss: 0.0646 - val_predictions_nuclei_my_accuracy_score: 0.7189 - val_predictions_nuclei_acc: 0.9787 - val_predictions_counts_mean_squared_error: 0.0646 - val_predictions_counts_mean_absolute_error: 0.2122\n",
      "Epoch 84/250\n",
      " - 106s - loss: 0.0942 - predictions_nuclei_loss: 0.0420 - predictions_counts_loss: 0.0521 - predictions_nuclei_my_accuracy_score: 0.7664 - predictions_nuclei_acc: 0.9897 - predictions_counts_mean_squared_error: 0.0521 - predictions_counts_mean_absolute_error: 0.1970 - val_loss: 0.1444 - val_predictions_nuclei_loss: 0.0796 - val_predictions_counts_loss: 0.0648 - val_predictions_nuclei_my_accuracy_score: 0.7172 - val_predictions_nuclei_acc: 0.9781 - val_predictions_counts_mean_squared_error: 0.0648 - val_predictions_counts_mean_absolute_error: 0.2093\n",
      "Epoch 85/250\n",
      " - 106s - loss: 0.0919 - predictions_nuclei_loss: 0.0413 - predictions_counts_loss: 0.0506 - predictions_nuclei_my_accuracy_score: 0.7719 - predictions_nuclei_acc: 0.9905 - predictions_counts_mean_squared_error: 0.0506 - predictions_counts_mean_absolute_error: 0.1948 - val_loss: 0.1432 - val_predictions_nuclei_loss: 0.0791 - val_predictions_counts_loss: 0.0641 - val_predictions_nuclei_my_accuracy_score: 0.7257 - val_predictions_nuclei_acc: 0.9793 - val_predictions_counts_mean_squared_error: 0.0641 - val_predictions_counts_mean_absolute_error: 0.2052\n",
      "Epoch 86/250\n",
      " - 106s - loss: 0.0909 - predictions_nuclei_loss: 0.0404 - predictions_counts_loss: 0.0506 - predictions_nuclei_my_accuracy_score: 0.7740 - predictions_nuclei_acc: 0.9908 - predictions_counts_mean_squared_error: 0.0506 - predictions_counts_mean_absolute_error: 0.1944 - val_loss: 0.1466 - val_predictions_nuclei_loss: 0.0830 - val_predictions_counts_loss: 0.0636 - val_predictions_nuclei_my_accuracy_score: 0.7357 - val_predictions_nuclei_acc: 0.9772 - val_predictions_counts_mean_squared_error: 0.0636 - val_predictions_counts_mean_absolute_error: 0.2041\n",
      "Epoch 87/250\n",
      " - 106s - loss: 0.0905 - predictions_nuclei_loss: 0.0397 - predictions_counts_loss: 0.0508 - predictions_nuclei_my_accuracy_score: 0.7841 - predictions_nuclei_acc: 0.9909 - predictions_counts_mean_squared_error: 0.0508 - predictions_counts_mean_absolute_error: 0.1940 - val_loss: 0.1485 - val_predictions_nuclei_loss: 0.0801 - val_predictions_counts_loss: 0.0684 - val_predictions_nuclei_my_accuracy_score: 0.7380 - val_predictions_nuclei_acc: 0.9787 - val_predictions_counts_mean_squared_error: 0.0684 - val_predictions_counts_mean_absolute_error: 0.2183\n",
      "Epoch 88/250\n",
      " - 106s - loss: 0.0906 - predictions_nuclei_loss: 0.0400 - predictions_counts_loss: 0.0507 - predictions_nuclei_my_accuracy_score: 0.7804 - predictions_nuclei_acc: 0.9908 - predictions_counts_mean_squared_error: 0.0507 - predictions_counts_mean_absolute_error: 0.1939 - val_loss: 0.1420 - val_predictions_nuclei_loss: 0.0776 - val_predictions_counts_loss: 0.0645 - val_predictions_nuclei_my_accuracy_score: 0.7367 - val_predictions_nuclei_acc: 0.9785 - val_predictions_counts_mean_squared_error: 0.0645 - val_predictions_counts_mean_absolute_error: 0.2105\n",
      "Epoch 89/250\n",
      " - 106s - loss: 0.0874 - predictions_nuclei_loss: 0.0385 - predictions_counts_loss: 0.0489 - predictions_nuclei_my_accuracy_score: 0.7925 - predictions_nuclei_acc: 0.9915 - predictions_counts_mean_squared_error: 0.0489 - predictions_counts_mean_absolute_error: 0.1911 - val_loss: 0.1461 - val_predictions_nuclei_loss: 0.0787 - val_predictions_counts_loss: 0.0674 - val_predictions_nuclei_my_accuracy_score: 0.7312 - val_predictions_nuclei_acc: 0.9784 - val_predictions_counts_mean_squared_error: 0.0674 - val_predictions_counts_mean_absolute_error: 0.2098\n",
      "Epoch 90/250\n",
      " - 106s - loss: 0.0892 - predictions_nuclei_loss: 0.0391 - predictions_counts_loss: 0.0501 - predictions_nuclei_my_accuracy_score: 0.7841 - predictions_nuclei_acc: 0.9910 - predictions_counts_mean_squared_error: 0.0501 - predictions_counts_mean_absolute_error: 0.1922 - val_loss: 0.1409 - val_predictions_nuclei_loss: 0.0784 - val_predictions_counts_loss: 0.0625 - val_predictions_nuclei_my_accuracy_score: 0.7432 - val_predictions_nuclei_acc: 0.9786 - val_predictions_counts_mean_squared_error: 0.0625 - val_predictions_counts_mean_absolute_error: 0.2039\n"
     ]
    },
    {
     "name": "stdout",
     "output_type": "stream",
     "text": [
      "Epoch 91/250\n",
      " - 106s - loss: 0.0888 - predictions_nuclei_loss: 0.0384 - predictions_counts_loss: 0.0504 - predictions_nuclei_my_accuracy_score: 0.7907 - predictions_nuclei_acc: 0.9917 - predictions_counts_mean_squared_error: 0.0504 - predictions_counts_mean_absolute_error: 0.1914 - val_loss: 0.1445 - val_predictions_nuclei_loss: 0.0784 - val_predictions_counts_loss: 0.0661 - val_predictions_nuclei_my_accuracy_score: 0.7487 - val_predictions_nuclei_acc: 0.9793 - val_predictions_counts_mean_squared_error: 0.0661 - val_predictions_counts_mean_absolute_error: 0.2086\n",
      "Epoch 92/250\n",
      " - 106s - loss: 0.0876 - predictions_nuclei_loss: 0.0374 - predictions_counts_loss: 0.0501 - predictions_nuclei_my_accuracy_score: 0.7971 - predictions_nuclei_acc: 0.9918 - predictions_counts_mean_squared_error: 0.0501 - predictions_counts_mean_absolute_error: 0.1913 - val_loss: 0.1422 - val_predictions_nuclei_loss: 0.0812 - val_predictions_counts_loss: 0.0610 - val_predictions_nuclei_my_accuracy_score: 0.7440 - val_predictions_nuclei_acc: 0.9786 - val_predictions_counts_mean_squared_error: 0.0610 - val_predictions_counts_mean_absolute_error: 0.1977\n",
      "Epoch 93/250\n",
      " - 106s - loss: 0.0859 - predictions_nuclei_loss: 0.0372 - predictions_counts_loss: 0.0487 - predictions_nuclei_my_accuracy_score: 0.7943 - predictions_nuclei_acc: 0.9921 - predictions_counts_mean_squared_error: 0.0487 - predictions_counts_mean_absolute_error: 0.1892 - val_loss: 0.1415 - val_predictions_nuclei_loss: 0.0806 - val_predictions_counts_loss: 0.0609 - val_predictions_nuclei_my_accuracy_score: 0.7475 - val_predictions_nuclei_acc: 0.9776 - val_predictions_counts_mean_squared_error: 0.0609 - val_predictions_counts_mean_absolute_error: 0.1977\n",
      "Epoch 94/250\n",
      " - 106s - loss: 0.0846 - predictions_nuclei_loss: 0.0365 - predictions_counts_loss: 0.0480 - predictions_nuclei_my_accuracy_score: 0.8028 - predictions_nuclei_acc: 0.9921 - predictions_counts_mean_squared_error: 0.0480 - predictions_counts_mean_absolute_error: 0.1880 - val_loss: 0.1437 - val_predictions_nuclei_loss: 0.0783 - val_predictions_counts_loss: 0.0655 - val_predictions_nuclei_my_accuracy_score: 0.7290 - val_predictions_nuclei_acc: 0.9791 - val_predictions_counts_mean_squared_error: 0.0655 - val_predictions_counts_mean_absolute_error: 0.2037\n",
      "Epoch 95/250\n",
      " - 106s - loss: 0.0861 - predictions_nuclei_loss: 0.0368 - predictions_counts_loss: 0.0493 - predictions_nuclei_my_accuracy_score: 0.7984 - predictions_nuclei_acc: 0.9923 - predictions_counts_mean_squared_error: 0.0493 - predictions_counts_mean_absolute_error: 0.1894 - val_loss: 0.1412 - val_predictions_nuclei_loss: 0.0764 - val_predictions_counts_loss: 0.0648 - val_predictions_nuclei_my_accuracy_score: 0.7445 - val_predictions_nuclei_acc: 0.9796 - val_predictions_counts_mean_squared_error: 0.0648 - val_predictions_counts_mean_absolute_error: 0.2072\n",
      "Epoch 96/250\n",
      " - 106s - loss: 0.0835 - predictions_nuclei_loss: 0.0360 - predictions_counts_loss: 0.0475 - predictions_nuclei_my_accuracy_score: 0.8031 - predictions_nuclei_acc: 0.9923 - predictions_counts_mean_squared_error: 0.0475 - predictions_counts_mean_absolute_error: 0.1875 - val_loss: 0.1393 - val_predictions_nuclei_loss: 0.0767 - val_predictions_counts_loss: 0.0626 - val_predictions_nuclei_my_accuracy_score: 0.7510 - val_predictions_nuclei_acc: 0.9801 - val_predictions_counts_mean_squared_error: 0.0626 - val_predictions_counts_mean_absolute_error: 0.2003\n",
      "Epoch 97/250\n",
      " - 106s - loss: 0.0838 - predictions_nuclei_loss: 0.0358 - predictions_counts_loss: 0.0480 - predictions_nuclei_my_accuracy_score: 0.8051 - predictions_nuclei_acc: 0.9923 - predictions_counts_mean_squared_error: 0.0480 - predictions_counts_mean_absolute_error: 0.1871 - val_loss: 0.1441 - val_predictions_nuclei_loss: 0.0765 - val_predictions_counts_loss: 0.0676 - val_predictions_nuclei_my_accuracy_score: 0.7432 - val_predictions_nuclei_acc: 0.9785 - val_predictions_counts_mean_squared_error: 0.0676 - val_predictions_counts_mean_absolute_error: 0.2078\n",
      "Epoch 98/250\n",
      " - 106s - loss: 0.0811 - predictions_nuclei_loss: 0.0344 - predictions_counts_loss: 0.0468 - predictions_nuclei_my_accuracy_score: 0.8093 - predictions_nuclei_acc: 0.9934 - predictions_counts_mean_squared_error: 0.0468 - predictions_counts_mean_absolute_error: 0.1849 - val_loss: 0.1391 - val_predictions_nuclei_loss: 0.0760 - val_predictions_counts_loss: 0.0631 - val_predictions_nuclei_my_accuracy_score: 0.7553 - val_predictions_nuclei_acc: 0.9808 - val_predictions_counts_mean_squared_error: 0.0631 - val_predictions_counts_mean_absolute_error: 0.1984\n",
      "Epoch 99/250\n",
      " - 106s - loss: 0.0810 - predictions_nuclei_loss: 0.0341 - predictions_counts_loss: 0.0469 - predictions_nuclei_my_accuracy_score: 0.8141 - predictions_nuclei_acc: 0.9932 - predictions_counts_mean_squared_error: 0.0469 - predictions_counts_mean_absolute_error: 0.1852 - val_loss: 0.1396 - val_predictions_nuclei_loss: 0.0752 - val_predictions_counts_loss: 0.0644 - val_predictions_nuclei_my_accuracy_score: 0.7470 - val_predictions_nuclei_acc: 0.9793 - val_predictions_counts_mean_squared_error: 0.0644 - val_predictions_counts_mean_absolute_error: 0.2057\n",
      "Epoch 100/250\n",
      " - 106s - loss: 0.0809 - predictions_nuclei_loss: 0.0342 - predictions_counts_loss: 0.0468 - predictions_nuclei_my_accuracy_score: 0.8126 - predictions_nuclei_acc: 0.9930 - predictions_counts_mean_squared_error: 0.0468 - predictions_counts_mean_absolute_error: 0.1839 - val_loss: 0.1446 - val_predictions_nuclei_loss: 0.0792 - val_predictions_counts_loss: 0.0654 - val_predictions_nuclei_my_accuracy_score: 0.7658 - val_predictions_nuclei_acc: 0.9785 - val_predictions_counts_mean_squared_error: 0.0654 - val_predictions_counts_mean_absolute_error: 0.2028\n",
      "Epoch 101/250\n",
      " - 106s - loss: 0.0780 - predictions_nuclei_loss: 0.0329 - predictions_counts_loss: 0.0451 - predictions_nuclei_my_accuracy_score: 0.8242 - predictions_nuclei_acc: 0.9936 - predictions_counts_mean_squared_error: 0.0451 - predictions_counts_mean_absolute_error: 0.1812 - val_loss: 0.1400 - val_predictions_nuclei_loss: 0.0777 - val_predictions_counts_loss: 0.0623 - val_predictions_nuclei_my_accuracy_score: 0.7683 - val_predictions_nuclei_acc: 0.9806 - val_predictions_counts_mean_squared_error: 0.0623 - val_predictions_counts_mean_absolute_error: 0.1981\n",
      "Epoch 102/250\n",
      " - 106s - loss: 0.0765 - predictions_nuclei_loss: 0.0316 - predictions_counts_loss: 0.0449 - predictions_nuclei_my_accuracy_score: 0.8252 - predictions_nuclei_acc: 0.9941 - predictions_counts_mean_squared_error: 0.0449 - predictions_counts_mean_absolute_error: 0.1814 - val_loss: 0.1423 - val_predictions_nuclei_loss: 0.0746 - val_predictions_counts_loss: 0.0678 - val_predictions_nuclei_my_accuracy_score: 0.7740 - val_predictions_nuclei_acc: 0.9810 - val_predictions_counts_mean_squared_error: 0.0678 - val_predictions_counts_mean_absolute_error: 0.2057\n",
      "Epoch 103/250\n",
      " - 106s - loss: 0.0784 - predictions_nuclei_loss: 0.0331 - predictions_counts_loss: 0.0453 - predictions_nuclei_my_accuracy_score: 0.8224 - predictions_nuclei_acc: 0.9936 - predictions_counts_mean_squared_error: 0.0453 - predictions_counts_mean_absolute_error: 0.1809 - val_loss: 0.1424 - val_predictions_nuclei_loss: 0.0786 - val_predictions_counts_loss: 0.0638 - val_predictions_nuclei_my_accuracy_score: 0.7695 - val_predictions_nuclei_acc: 0.9791 - val_predictions_counts_mean_squared_error: 0.0638 - val_predictions_counts_mean_absolute_error: 0.1976\n",
      "Epoch 104/250\n",
      " - 106s - loss: 0.0759 - predictions_nuclei_loss: 0.0320 - predictions_counts_loss: 0.0439 - predictions_nuclei_my_accuracy_score: 0.8298 - predictions_nuclei_acc: 0.9939 - predictions_counts_mean_squared_error: 0.0439 - predictions_counts_mean_absolute_error: 0.1789 - val_loss: 0.1396 - val_predictions_nuclei_loss: 0.0784 - val_predictions_counts_loss: 0.0612 - val_predictions_nuclei_my_accuracy_score: 0.7751 - val_predictions_nuclei_acc: 0.9776 - val_predictions_counts_mean_squared_error: 0.0612 - val_predictions_counts_mean_absolute_error: 0.1958\n",
      "Epoch 105/250\n",
      " - 106s - loss: 0.0747 - predictions_nuclei_loss: 0.0310 - predictions_counts_loss: 0.0437 - predictions_nuclei_my_accuracy_score: 0.8317 - predictions_nuclei_acc: 0.9941 - predictions_counts_mean_squared_error: 0.0437 - predictions_counts_mean_absolute_error: 0.1785 - val_loss: 0.1400 - val_predictions_nuclei_loss: 0.0757 - val_predictions_counts_loss: 0.0644 - val_predictions_nuclei_my_accuracy_score: 0.7730 - val_predictions_nuclei_acc: 0.9797 - val_predictions_counts_mean_squared_error: 0.0644 - val_predictions_counts_mean_absolute_error: 0.1960\n"
     ]
    },
    {
     "name": "stdout",
     "output_type": "stream",
     "text": [
      "Epoch 106/250\n",
      " - 106s - loss: 0.0748 - predictions_nuclei_loss: 0.0312 - predictions_counts_loss: 0.0437 - predictions_nuclei_my_accuracy_score: 0.8294 - predictions_nuclei_acc: 0.9941 - predictions_counts_mean_squared_error: 0.0437 - predictions_counts_mean_absolute_error: 0.1780 - val_loss: 0.1389 - val_predictions_nuclei_loss: 0.0754 - val_predictions_counts_loss: 0.0635 - val_predictions_nuclei_my_accuracy_score: 0.7735 - val_predictions_nuclei_acc: 0.9805 - val_predictions_counts_mean_squared_error: 0.0635 - val_predictions_counts_mean_absolute_error: 0.1955\n",
      "Epoch 107/250\n",
      " - 106s - loss: 0.0735 - predictions_nuclei_loss: 0.0308 - predictions_counts_loss: 0.0427 - predictions_nuclei_my_accuracy_score: 0.8351 - predictions_nuclei_acc: 0.9942 - predictions_counts_mean_squared_error: 0.0427 - predictions_counts_mean_absolute_error: 0.1759 - val_loss: 0.1388 - val_predictions_nuclei_loss: 0.0757 - val_predictions_counts_loss: 0.0631 - val_predictions_nuclei_my_accuracy_score: 0.7823 - val_predictions_nuclei_acc: 0.9794 - val_predictions_counts_mean_squared_error: 0.0631 - val_predictions_counts_mean_absolute_error: 0.1938\n",
      "Epoch 108/250\n",
      " - 106s - loss: 0.0725 - predictions_nuclei_loss: 0.0301 - predictions_counts_loss: 0.0425 - predictions_nuclei_my_accuracy_score: 0.8407 - predictions_nuclei_acc: 0.9945 - predictions_counts_mean_squared_error: 0.0425 - predictions_counts_mean_absolute_error: 0.1755 - val_loss: 0.1390 - val_predictions_nuclei_loss: 0.0736 - val_predictions_counts_loss: 0.0654 - val_predictions_nuclei_my_accuracy_score: 0.7796 - val_predictions_nuclei_acc: 0.9804 - val_predictions_counts_mean_squared_error: 0.0654 - val_predictions_counts_mean_absolute_error: 0.2023\n",
      "Epoch 109/250\n",
      " - 106s - loss: 0.0724 - predictions_nuclei_loss: 0.0300 - predictions_counts_loss: 0.0424 - predictions_nuclei_my_accuracy_score: 0.8380 - predictions_nuclei_acc: 0.9947 - predictions_counts_mean_squared_error: 0.0424 - predictions_counts_mean_absolute_error: 0.1755 - val_loss: 0.1383 - val_predictions_nuclei_loss: 0.0754 - val_predictions_counts_loss: 0.0629 - val_predictions_nuclei_my_accuracy_score: 0.7735 - val_predictions_nuclei_acc: 0.9809 - val_predictions_counts_mean_squared_error: 0.0629 - val_predictions_counts_mean_absolute_error: 0.1947\n",
      "Epoch 110/250\n",
      " - 106s - loss: 0.0716 - predictions_nuclei_loss: 0.0298 - predictions_counts_loss: 0.0419 - predictions_nuclei_my_accuracy_score: 0.8404 - predictions_nuclei_acc: 0.9946 - predictions_counts_mean_squared_error: 0.0419 - predictions_counts_mean_absolute_error: 0.1739 - val_loss: 0.1365 - val_predictions_nuclei_loss: 0.0734 - val_predictions_counts_loss: 0.0631 - val_predictions_nuclei_my_accuracy_score: 0.7728 - val_predictions_nuclei_acc: 0.9816 - val_predictions_counts_mean_squared_error: 0.0631 - val_predictions_counts_mean_absolute_error: 0.1971\n",
      "Epoch 111/250\n",
      " - 106s - loss: 0.0710 - predictions_nuclei_loss: 0.0294 - predictions_counts_loss: 0.0416 - predictions_nuclei_my_accuracy_score: 0.8428 - predictions_nuclei_acc: 0.9949 - predictions_counts_mean_squared_error: 0.0416 - predictions_counts_mean_absolute_error: 0.1731 - val_loss: 0.1406 - val_predictions_nuclei_loss: 0.0732 - val_predictions_counts_loss: 0.0674 - val_predictions_nuclei_my_accuracy_score: 0.7788 - val_predictions_nuclei_acc: 0.9809 - val_predictions_counts_mean_squared_error: 0.0674 - val_predictions_counts_mean_absolute_error: 0.2010\n",
      "Epoch 112/250\n",
      " - 106s - loss: 0.0709 - predictions_nuclei_loss: 0.0294 - predictions_counts_loss: 0.0415 - predictions_nuclei_my_accuracy_score: 0.8436 - predictions_nuclei_acc: 0.9950 - predictions_counts_mean_squared_error: 0.0415 - predictions_counts_mean_absolute_error: 0.1730 - val_loss: 0.1406 - val_predictions_nuclei_loss: 0.0754 - val_predictions_counts_loss: 0.0652 - val_predictions_nuclei_my_accuracy_score: 0.7838 - val_predictions_nuclei_acc: 0.9816 - val_predictions_counts_mean_squared_error: 0.0652 - val_predictions_counts_mean_absolute_error: 0.1921\n",
      "Epoch 113/250\n",
      " - 106s - loss: 0.0711 - predictions_nuclei_loss: 0.0293 - predictions_counts_loss: 0.0418 - predictions_nuclei_my_accuracy_score: 0.8442 - predictions_nuclei_acc: 0.9947 - predictions_counts_mean_squared_error: 0.0418 - predictions_counts_mean_absolute_error: 0.1732 - val_loss: 0.1419 - val_predictions_nuclei_loss: 0.0746 - val_predictions_counts_loss: 0.0673 - val_predictions_nuclei_my_accuracy_score: 0.7786 - val_predictions_nuclei_acc: 0.9812 - val_predictions_counts_mean_squared_error: 0.0673 - val_predictions_counts_mean_absolute_error: 0.2005\n",
      "Epoch 114/250\n",
      " - 106s - loss: 0.0743 - predictions_nuclei_loss: 0.0305 - predictions_counts_loss: 0.0438 - predictions_nuclei_my_accuracy_score: 0.8406 - predictions_nuclei_acc: 0.9944 - predictions_counts_mean_squared_error: 0.0438 - predictions_counts_mean_absolute_error: 0.1760 - val_loss: 0.1412 - val_predictions_nuclei_loss: 0.0777 - val_predictions_counts_loss: 0.0634 - val_predictions_nuclei_my_accuracy_score: 0.7763 - val_predictions_nuclei_acc: 0.9819 - val_predictions_counts_mean_squared_error: 0.0634 - val_predictions_counts_mean_absolute_error: 0.1917\n",
      "Epoch 115/250\n",
      " - 106s - loss: 0.0711 - predictions_nuclei_loss: 0.0295 - predictions_counts_loss: 0.0416 - predictions_nuclei_my_accuracy_score: 0.8448 - predictions_nuclei_acc: 0.9949 - predictions_counts_mean_squared_error: 0.0416 - predictions_counts_mean_absolute_error: 0.1729 - val_loss: 0.1372 - val_predictions_nuclei_loss: 0.0725 - val_predictions_counts_loss: 0.0647 - val_predictions_nuclei_my_accuracy_score: 0.7816 - val_predictions_nuclei_acc: 0.9812 - val_predictions_counts_mean_squared_error: 0.0647 - val_predictions_counts_mean_absolute_error: 0.1946\n",
      "Epoch 116/250\n",
      " - 106s - loss: 0.0682 - predictions_nuclei_loss: 0.0281 - predictions_counts_loss: 0.0401 - predictions_nuclei_my_accuracy_score: 0.8482 - predictions_nuclei_acc: 0.9955 - predictions_counts_mean_squared_error: 0.0401 - predictions_counts_mean_absolute_error: 0.1692 - val_loss: 0.1384 - val_predictions_nuclei_loss: 0.0744 - val_predictions_counts_loss: 0.0640 - val_predictions_nuclei_my_accuracy_score: 0.7801 - val_predictions_nuclei_acc: 0.9814 - val_predictions_counts_mean_squared_error: 0.0640 - val_predictions_counts_mean_absolute_error: 0.1904\n",
      "Epoch 117/250\n",
      " - 106s - loss: 0.0679 - predictions_nuclei_loss: 0.0280 - predictions_counts_loss: 0.0399 - predictions_nuclei_my_accuracy_score: 0.8522 - predictions_nuclei_acc: 0.9953 - predictions_counts_mean_squared_error: 0.0399 - predictions_counts_mean_absolute_error: 0.1683 - val_loss: 0.1379 - val_predictions_nuclei_loss: 0.0739 - val_predictions_counts_loss: 0.0640 - val_predictions_nuclei_my_accuracy_score: 0.7813 - val_predictions_nuclei_acc: 0.9817 - val_predictions_counts_mean_squared_error: 0.0640 - val_predictions_counts_mean_absolute_error: 0.1928\n",
      "Epoch 118/250\n",
      " - 106s - loss: 0.0711 - predictions_nuclei_loss: 0.0288 - predictions_counts_loss: 0.0422 - predictions_nuclei_my_accuracy_score: 0.8461 - predictions_nuclei_acc: 0.9952 - predictions_counts_mean_squared_error: 0.0422 - predictions_counts_mean_absolute_error: 0.1722 - val_loss: 0.1367 - val_predictions_nuclei_loss: 0.0734 - val_predictions_counts_loss: 0.0633 - val_predictions_nuclei_my_accuracy_score: 0.7851 - val_predictions_nuclei_acc: 0.9807 - val_predictions_counts_mean_squared_error: 0.0633 - val_predictions_counts_mean_absolute_error: 0.1902\n",
      "Epoch 119/250\n",
      " - 106s - loss: 0.0679 - predictions_nuclei_loss: 0.0282 - predictions_counts_loss: 0.0397 - predictions_nuclei_my_accuracy_score: 0.8496 - predictions_nuclei_acc: 0.9956 - predictions_counts_mean_squared_error: 0.0397 - predictions_counts_mean_absolute_error: 0.1679 - val_loss: 0.1428 - val_predictions_nuclei_loss: 0.0753 - val_predictions_counts_loss: 0.0675 - val_predictions_nuclei_my_accuracy_score: 0.7833 - val_predictions_nuclei_acc: 0.9816 - val_predictions_counts_mean_squared_error: 0.0675 - val_predictions_counts_mean_absolute_error: 0.1969\n",
      "Epoch 120/250\n",
      " - 106s - loss: 0.0668 - predictions_nuclei_loss: 0.0279 - predictions_counts_loss: 0.0389 - predictions_nuclei_my_accuracy_score: 0.8532 - predictions_nuclei_acc: 0.9955 - predictions_counts_mean_squared_error: 0.0389 - predictions_counts_mean_absolute_error: 0.1661 - val_loss: 0.1423 - val_predictions_nuclei_loss: 0.0784 - val_predictions_counts_loss: 0.0639 - val_predictions_nuclei_my_accuracy_score: 0.7786 - val_predictions_nuclei_acc: 0.9826 - val_predictions_counts_mean_squared_error: 0.0639 - val_predictions_counts_mean_absolute_error: 0.1924\n"
     ]
    }
   ],
   "source": [
    "gerador_treino = EspectraSequence(X_train, [x[0] for x in y_train], [x[1] for x in y_train], batch_size=batch_size)\n",
    "#gerador_imagens(X_train, y_train, batch_size=batch_size)\n",
    "\n",
    "gerador_validacao = EspectraSequence(X_test, [x[0] for x in y_test], [x[1] for x in y_test], batch_size=batch_size)\n",
    "#gerador_imagens(X_test, y_test, batch_size=batch_size)\n",
    "\n",
    "es = keras.callbacks.EarlyStopping(monitor='val_loss',\n",
    "                                   mode='min',\n",
    "                                   patience=10)\n",
    "\n",
    "tb = keras.callbacks.TensorBoard(\n",
    "    log_dir='./logs_v2',\n",
    "    histogram_freq=0,\n",
    "    batch_size=32,\n",
    "    write_graph=True,\n",
    "    #batch_gen=gerador_validacao,\n",
    "    #nb_steps=validation_steps,\n",
    "    update_freq='epoch')\n",
    "\n",
    "#EspectraSequence(X_train, [x[0] for x in y_train], [x[1] for x in y_train], batch_size=8)\n",
    "\n",
    "callbacks = [es, tb]\n",
    "\n",
    "hist = model.fit_generator(generator=gerador_treino,\n",
    "                           steps_per_epoch=steps_per_epoch,\n",
    "                           epochs=epochs,\n",
    "                           verbose=2,\n",
    "                           callbacks=callbacks,\n",
    "                           validation_data=gerador_validacao, #(x_train_val, y_train_val),\n",
    "                           validation_steps=validation_steps,\n",
    "                           shuffle=True)\n"
   ]
  },
  {
   "cell_type": "code",
   "execution_count": 47,
   "metadata": {},
   "outputs": [],
   "source": [
    "from keras.models import save_model\n",
    "save_model(model, 'VGG-19-SGD-classificacao-regressao-PENELOPE-v2.hdf5')"
   ]
  },
  {
   "cell_type": "code",
   "execution_count": 48,
   "metadata": {},
   "outputs": [
    {
     "data": {
      "image/png": "[encoded data removed]",
      "text/plain": [
       "<Figure size 432x288 with 1 Axes>"
      ]
     },
     "metadata": {},
     "output_type": "display_data"
    }
   ],
   "source": [
    "plt.plot(hist.history['predictions_nuclei_my_accuracy_score'])\n",
    "plt.plot(hist.history['val_predictions_nuclei_my_accuracy_score'])\n",
    "plt.title('model accuracy')\n",
    "plt.ylabel('accuracy')\n",
    "plt.xlabel('epoch')\n",
    "plt.legend(['train', 'test'], loc='upper left')\n",
    "plt.show()"
   ]
  },
  {
   "cell_type": "code",
   "execution_count": 49,
   "metadata": {},
   "outputs": [
    {
     "data": {
      "image/png": "[encoded data removed]",
      "text/plain": [
       "<Figure size 432x288 with 1 Axes>"
      ]
     },
     "metadata": {},
     "output_type": "display_data"
    }
   ],
   "source": [
    "plt.plot(hist.history['predictions_counts_mean_squared_error'])\n",
    "plt.plot(hist.history['val_predictions_counts_mean_squared_error'])\n",
    "plt.title('model accuracy')\n",
    "plt.ylabel('coutns mean square error')\n",
    "plt.xlabel('epoch')\n",
    "plt.legend(['train', 'test'], loc='upper right')\n",
    "plt.show()"
   ]
  },
  {
   "cell_type": "code",
   "execution_count": 50,
   "metadata": {},
   "outputs": [
    {
     "data": {
      "image/png": "[encoded data removed]",
      "text/plain": [
       "<Figure size 432x288 with 1 Axes>"
      ]
     },
     "metadata": {},
     "output_type": "display_data"
    }
   ],
   "source": [
    "plt.plot(hist.history['predictions_nuclei_loss'])\n",
    "plt.plot(hist.history['val_predictions_nuclei_loss'])\n",
    "plt.title('model loss')\n",
    "plt.ylabel('loss')\n",
    "plt.xlabel('epoch')\n",
    "plt.legend(['train', 'test'], loc='upper right')\n",
    "plt.show()"
   ]
  },
  {
   "cell_type": "markdown",
   "metadata": {},
   "source": [
    "# Validando nos espectros criados com Penelope"
   ]
  },
  {
   "cell_type": "code",
   "execution_count": 51,
   "metadata": {},
   "outputs": [],
   "source": [
    "from keras.utils.vis_utils import plot_model"
   ]
  },
  {
   "cell_type": "code",
   "execution_count": null,
   "metadata": {},
   "outputs": [],
   "source": [
    "#plot_model(model, to_file='model_plot.png', show_shapes=True, show_layer_names=True)"
   ]
  },
  {
   "cell_type": "code",
   "execution_count": 74,
   "metadata": {},
   "outputs": [
    {
     "name": "stdout",
     "output_type": "stream",
     "text": [
      "327\n"
     ]
    },
    {
     "data": {
      "image/png": "[encoded data removed]",
      "text/plain": [
       "<Figure size 1224x122.4 with 2 Axes>"
      ]
     },
     "metadata": {},
     "output_type": "display_data"
    }
   ],
   "source": [
    "#idx_ = np.random.choice(len(gerador_validacao) - 1, 1)[0]\n",
    "print(idx_)\n",
    "x_, aux_ = gerador_validacao[idx_]\n",
    "\n",
    "y_counts = aux_['predictions_counts']\n",
    "y_ = aux_['predictions_nuclei']\n",
    "\n",
    "idx = 3\n",
    "f, axarr = plt.subplots(1, 2, figsize=(17, 1.7))\n",
    "axarr[0].plot(range(len(x_[idx].reshape(-1))),\n",
    "              x_[idx].reshape(-1), 'r')\n",
    "axarr[0].set_yscale(\"log\")\n",
    "\n",
    "axarr[0].set_title(\" with \".join(binarizer.inverse_transform(np.array([y_[idx]]))[0]))\n",
    "axarr[1].imshow(x_[0].reshape((128,128)))\n",
    "\n",
    "plt.grid(False)\n",
    "plt.subplots_adjust(bottom=1.25, top=2.75)\n",
    "plt.show()"
   ]
  },
  {
   "cell_type": "code",
   "execution_count": 75,
   "metadata": {},
   "outputs": [
    {
     "data": {
      "image/png": "[encoded data removed]",
      "text/plain": [
       "<Figure size 1224x122.4 with 2 Axes>"
      ]
     },
     "metadata": {},
     "output_type": "display_data"
    }
   ],
   "source": [
    "#idx_ = np.random.choice(len(gerador_validacao) - 1, 1)[0]\n",
    "x_, aux_ = gerador_validacao[0]\n",
    "\n",
    "y_counts = aux_['predictions_counts']\n",
    "y_ = aux_['predictions_nuclei']\n",
    "\n",
    "idx = 3\n",
    "f, axarr = plt.subplots(1, 2, figsize=(17, 1.7))\n",
    "axarr[0].plot(range(len(x_[idx].reshape(-1))),\n",
    "              x_[idx].reshape(-1), 'r')\n",
    "axarr[0].set_yscale(\"log\")\n",
    "\n",
    "axarr[0].set_title(\" with \".join(binarizer.inverse_transform(np.array([y_[idx]]))[0]))\n",
    "axarr[1].imshow(x_[0].reshape((128,128)))\n",
    "\n",
    "plt.grid(False)\n",
    "plt.subplots_adjust(bottom=1.25, top=2.75)\n",
    "plt.show()"
   ]
  },
  {
   "cell_type": "code",
   "execution_count": 76,
   "metadata": {},
   "outputs": [],
   "source": [
    "preds = model.predict(np.array([x_[idx].reshape((128, 128, 1))]))"
   ]
  },
  {
   "cell_type": "code",
   "execution_count": 77,
   "metadata": {},
   "outputs": [
    {
     "data": {
      "text/html": [
       "<div>\n",
       "<style scoped>\n",
       "    .dataframe tbody tr th:only-of-type {\n",
       "        vertical-align: middle;\n",
       "    }\n",
       "\n",
       "    .dataframe tbody tr th {\n",
       "        vertical-align: top;\n",
       "    }\n",
       "\n",
       "    .dataframe thead th {\n",
       "        text-align: right;\n",
       "    }\n",
       "</style>\n",
       "<table border=\"1\" class=\"dataframe\">\n",
       "  <thead>\n",
       "    <tr style=\"text-align: right;\">\n",
       "      <th></th>\n",
       "      <th>radionuclideo</th>\n",
       "      <th>nuclei_score</th>\n",
       "      <th>nuclei_counts</th>\n",
       "      <th>real_counts</th>\n",
       "    </tr>\n",
       "  </thead>\n",
       "  <tbody>\n",
       "    <tr>\n",
       "      <th>0</th>\n",
       "      <td>Am-241</td>\n",
       "      <td>100.00</td>\n",
       "      <td>464,558.16</td>\n",
       "      <td>454,883.78</td>\n",
       "    </tr>\n",
       "    <tr>\n",
       "      <th>1</th>\n",
       "      <td>Ba-133</td>\n",
       "      <td>100.00</td>\n",
       "      <td>26,162.54</td>\n",
       "      <td>106,707.08</td>\n",
       "    </tr>\n",
       "    <tr>\n",
       "      <th>2</th>\n",
       "      <td>Cd-109</td>\n",
       "      <td>0.00</td>\n",
       "      <td>3,413.82</td>\n",
       "      <td>0.00</td>\n",
       "    </tr>\n",
       "    <tr>\n",
       "      <th>3</th>\n",
       "      <td>Co-57</td>\n",
       "      <td>0.16</td>\n",
       "      <td>16,729.17</td>\n",
       "      <td>0.00</td>\n",
       "    </tr>\n",
       "    <tr>\n",
       "      <th>4</th>\n",
       "      <td>Co-60</td>\n",
       "      <td>0.00</td>\n",
       "      <td>212,589.05</td>\n",
       "      <td>0.00</td>\n",
       "    </tr>\n",
       "    <tr>\n",
       "      <th>5</th>\n",
       "      <td>Cs-137</td>\n",
       "      <td>100.00</td>\n",
       "      <td>662,250.50</td>\n",
       "      <td>595,208.16</td>\n",
       "    </tr>\n",
       "    <tr>\n",
       "      <th>6</th>\n",
       "      <td>Eu-152</td>\n",
       "      <td>2.14</td>\n",
       "      <td>20,356.48</td>\n",
       "      <td>0.00</td>\n",
       "    </tr>\n",
       "    <tr>\n",
       "      <th>7</th>\n",
       "      <td>Mn-54</td>\n",
       "      <td>1.96</td>\n",
       "      <td>66,154.69</td>\n",
       "      <td>0.00</td>\n",
       "    </tr>\n",
       "    <tr>\n",
       "      <th>8</th>\n",
       "      <td>Na-22</td>\n",
       "      <td>0.01</td>\n",
       "      <td>213,353.42</td>\n",
       "      <td>0.00</td>\n",
       "    </tr>\n",
       "    <tr>\n",
       "      <th>9</th>\n",
       "      <td>Pb-210</td>\n",
       "      <td>100.00</td>\n",
       "      <td>100,218.32</td>\n",
       "      <td>108,113.32</td>\n",
       "    </tr>\n",
       "  </tbody>\n",
       "</table>\n",
       "</div>"
      ],
      "text/plain": [
       "  radionuclideo  nuclei_score  nuclei_counts  real_counts\n",
       "0        Am-241        100.00     464,558.16   454,883.78\n",
       "1        Ba-133        100.00      26,162.54   106,707.08\n",
       "2        Cd-109          0.00       3,413.82         0.00\n",
       "3         Co-57          0.16      16,729.17         0.00\n",
       "4         Co-60          0.00     212,589.05         0.00\n",
       "5        Cs-137        100.00     662,250.50   595,208.16\n",
       "6        Eu-152          2.14      20,356.48         0.00\n",
       "7         Mn-54          1.96      66,154.69         0.00\n",
       "8         Na-22          0.01     213,353.42         0.00\n",
       "9        Pb-210        100.00     100,218.32   108,113.32"
      ]
     },
     "execution_count": 77,
     "metadata": {},
     "output_type": "execute_result"
    }
   ],
   "source": [
    "df = pd.DataFrame({'radionuclideo':binarizer.classes_,\n",
    "                   'nuclei_score': preds[0][0]*100,\n",
    "                   'nuclei_counts': scaler.inverse_transform(preds[1][0]),\n",
    "                   'real_counts': scaler.inverse_transform(y_counts[idx])})\n",
    "df"
   ]
  },
  {
   "cell_type": "code",
   "execution_count": null,
   "metadata": {},
   "outputs": [],
   "source": [
    "# Criar uma massa de dados simulando com papel ao invés de água\n",
    "# Corrigir as contagens na entrada pela eficiência da similação\n",
    "# Re-treinar"
   ]
  },
  {
   "cell_type": "markdown",
   "metadata": {},
   "source": [
    "# Validando nos espectros experimentais"
   ]
  },
  {
   "cell_type": "code",
   "execution_count": 57,
   "metadata": {},
   "outputs": [],
   "source": [
    "def obtem_dados_dos_canais(linhas):\n",
    "    dados = []\n",
    "    pode_comecar = False\n",
    "    for linha in linhas:\n",
    "        if linha == \"A004USERDEFINED                                                     \\n\":\n",
    "            pode_comecar = True\n",
    "            continue\n",
    "        if pode_comecar:\n",
    "            aux = linha.strip().split()\n",
    "            if int(aux[1]) % 5:\n",
    "                print(\"oi!\")\n",
    "            dados.extend([float(x) for x in aux[2:]])\n",
    "    return dados[1:]"
   ]
  },
  {
   "cell_type": "code",
   "execution_count": 58,
   "metadata": {},
   "outputs": [
    {
     "name": "stdout",
     "output_type": "stream",
     "text": [
      "Am-241 - BG.IEC\n",
      "Ba-133 - BG.IEC\n",
      "Cd-109 - BG.IEC\n",
      "Co-57 - BG.IEC\n",
      "Co-60 - BG.IEC\n",
      "Cs-137 - BG.IEC\n",
      "Eu-152 - BG.IEC\n",
      "Mn-54 - BG.IEC\n",
      "Na-22 - BG.IEC\n",
      "Pb-210 - BG.IEC\n"
     ]
    }
   ],
   "source": [
    "arquivos = ['Am-241 - BG.IEC',\n",
    "            'Ba-133 - BG.IEC',\n",
    "            'Cd-109 - BG.IEC',\n",
    "            'Co-57 - BG.IEC',\n",
    "            'Co-60 - BG.IEC',\n",
    "            'Cs-137 - BG.IEC',\n",
    "            'Eu-152 - BG.IEC',\n",
    "            'Mn-54 - BG.IEC',\n",
    "            'Na-22 - BG.IEC',\n",
    "            'Pb-210 - BG.IEC',]\n",
    "\n",
    "df_nuclideos = dict()\n",
    "img_espectros = dict()\n",
    "img_convertidos = dict()\n",
    "images = dict()\n",
    "\n",
    "for arquivo in arquivos:\n",
    "    print(arquivo)\n",
    "    dados = []\n",
    "\n",
    "    with open('/export/ipen/artigo/ICDA-3/Espectros/Experimentos/17-Maio-2018/Espectros/{0}'.format(arquivo), 'r') as f:\n",
    "        dados = f.readlines()\n",
    "    dados = obtem_dados_dos_canais(dados)\n",
    "    df = pd.DataFrame({'channel': range(0, len(dados)), 'counts' : dados})\n",
    "    df_nuclideos[arquivo] = df.copy()\n",
    "    img_convertidos[arquivo] = np.array(dados).reshape((128, 128)).copy()\n",
    "    images[arquivo.split(' ')[0]] = np.array(dados).reshape((128, 128)).copy()"
   ]
  },
  {
   "cell_type": "code",
   "execution_count": null,
   "metadata": {},
   "outputs": [],
   "source": [
    "f, axarr = plt.subplots(10, 2, figsize=(15,25))\n",
    "for n, arquivo in enumerate(arquivos):\n",
    "    df = df_nuclideos[arquivo]\n",
    "    axarr[n, 0].plot(df['channel'], df['counts'], 'r')\n",
    "    axarr[n, 0].set_title(\"Espectro : {0}\".format(arquivo))\n",
    "    \n",
    "    axarr[n, 1].imshow(img_convertidos[arquivo])\n",
    "    #axarr[n, 1].set_title(\"Como Imagem : {0}\".format(arquivo))\n",
    "    \n",
    "plt.grid(False)\n",
    "plt.subplots_adjust(bottom=1.25, top=2.75)\n",
    "plt.show()"
   ]
  },
  {
   "cell_type": "code",
   "execution_count": 59,
   "metadata": {},
   "outputs": [
    {
     "data": {
      "text/html": [
       "<div>\n",
       "<style scoped>\n",
       "    .dataframe tbody tr th:only-of-type {\n",
       "        vertical-align: middle;\n",
       "    }\n",
       "\n",
       "    .dataframe tbody tr th {\n",
       "        vertical-align: top;\n",
       "    }\n",
       "\n",
       "    .dataframe thead th {\n",
       "        text-align: right;\n",
       "    }\n",
       "</style>\n",
       "<table border=\"1\" class=\"dataframe\">\n",
       "  <thead>\n",
       "    <tr style=\"text-align: right;\">\n",
       "      <th></th>\n",
       "      <th>radionuclideo</th>\n",
       "      <th>nuclei_score</th>\n",
       "      <th>nuclei_counts</th>\n",
       "      <th>real_counts</th>\n",
       "    </tr>\n",
       "  </thead>\n",
       "  <tbody>\n",
       "    <tr>\n",
       "      <th>0</th>\n",
       "      <td>Am-241</td>\n",
       "      <td>100.00</td>\n",
       "      <td>156,141.00</td>\n",
       "      <td>141,596.00</td>\n",
       "    </tr>\n",
       "    <tr>\n",
       "      <th>1</th>\n",
       "      <td>Ba-133</td>\n",
       "      <td>2.88</td>\n",
       "      <td>9,490.93</td>\n",
       "      <td>141,596.00</td>\n",
       "    </tr>\n",
       "    <tr>\n",
       "      <th>2</th>\n",
       "      <td>Cd-109</td>\n",
       "      <td>0.68</td>\n",
       "      <td>3,274.90</td>\n",
       "      <td>141,596.00</td>\n",
       "    </tr>\n",
       "    <tr>\n",
       "      <th>3</th>\n",
       "      <td>Co-57</td>\n",
       "      <td>2.06</td>\n",
       "      <td>14,190.21</td>\n",
       "      <td>141,596.00</td>\n",
       "    </tr>\n",
       "    <tr>\n",
       "      <th>4</th>\n",
       "      <td>Co-60</td>\n",
       "      <td>0.02</td>\n",
       "      <td>209,287.31</td>\n",
       "      <td>141,596.00</td>\n",
       "    </tr>\n",
       "    <tr>\n",
       "      <th>5</th>\n",
       "      <td>Cs-137</td>\n",
       "      <td>4.82</td>\n",
       "      <td>-30,429.09</td>\n",
       "      <td>141,596.00</td>\n",
       "    </tr>\n",
       "    <tr>\n",
       "      <th>6</th>\n",
       "      <td>Eu-152</td>\n",
       "      <td>1.34</td>\n",
       "      <td>-15,473.00</td>\n",
       "      <td>141,596.00</td>\n",
       "    </tr>\n",
       "    <tr>\n",
       "      <th>7</th>\n",
       "      <td>Mn-54</td>\n",
       "      <td>1.51</td>\n",
       "      <td>60,959.54</td>\n",
       "      <td>141,596.00</td>\n",
       "    </tr>\n",
       "    <tr>\n",
       "      <th>8</th>\n",
       "      <td>Na-22</td>\n",
       "      <td>2.18</td>\n",
       "      <td>100,990.26</td>\n",
       "      <td>141,596.00</td>\n",
       "    </tr>\n",
       "    <tr>\n",
       "      <th>9</th>\n",
       "      <td>Pb-210</td>\n",
       "      <td>0.04</td>\n",
       "      <td>3,332.64</td>\n",
       "      <td>141,596.00</td>\n",
       "    </tr>\n",
       "  </tbody>\n",
       "</table>\n",
       "</div>"
      ],
      "text/plain": [
       "  radionuclideo  nuclei_score  nuclei_counts  real_counts\n",
       "0        Am-241        100.00     156,141.00   141,596.00\n",
       "1        Ba-133          2.88       9,490.93   141,596.00\n",
       "2        Cd-109          0.68       3,274.90   141,596.00\n",
       "3         Co-57          2.06      14,190.21   141,596.00\n",
       "4         Co-60          0.02     209,287.31   141,596.00\n",
       "5        Cs-137          4.82     -30,429.09   141,596.00\n",
       "6        Eu-152          1.34     -15,473.00   141,596.00\n",
       "7         Mn-54          1.51      60,959.54   141,596.00\n",
       "8         Na-22          2.18     100,990.26   141,596.00\n",
       "9        Pb-210          0.04       3,332.64   141,596.00"
      ]
     },
     "execution_count": 59,
     "metadata": {},
     "output_type": "execute_result"
    }
   ],
   "source": [
    "preds = model.predict(np.array([images['Am-241'].reshape((128, 128, 1))]))\n",
    "\n",
    "df = pd.DataFrame({'radionuclideo':binarizer.classes_,\n",
    "                   'nuclei_score': preds[0][0]*100,\n",
    "                   'nuclei_counts': scaler.inverse_transform(preds[1][0]),\n",
    "                   'real_counts': np.sum(images['Am-241'])})\n",
    "df"
   ]
  },
  {
   "cell_type": "code",
   "execution_count": 60,
   "metadata": {},
   "outputs": [
    {
     "data": {
      "text/html": [
       "<div>\n",
       "<style scoped>\n",
       "    .dataframe tbody tr th:only-of-type {\n",
       "        vertical-align: middle;\n",
       "    }\n",
       "\n",
       "    .dataframe tbody tr th {\n",
       "        vertical-align: top;\n",
       "    }\n",
       "\n",
       "    .dataframe thead th {\n",
       "        text-align: right;\n",
       "    }\n",
       "</style>\n",
       "<table border=\"1\" class=\"dataframe\">\n",
       "  <thead>\n",
       "    <tr style=\"text-align: right;\">\n",
       "      <th></th>\n",
       "      <th>radionuclideo</th>\n",
       "      <th>nuclei_score</th>\n",
       "      <th>nuclei_counts</th>\n",
       "      <th>real_counts</th>\n",
       "    </tr>\n",
       "  </thead>\n",
       "  <tbody>\n",
       "    <tr>\n",
       "      <th>0</th>\n",
       "      <td>Am-241</td>\n",
       "      <td>0.06</td>\n",
       "      <td>15,851.72</td>\n",
       "      <td>35,319.00</td>\n",
       "    </tr>\n",
       "    <tr>\n",
       "      <th>1</th>\n",
       "      <td>Ba-133</td>\n",
       "      <td>100.00</td>\n",
       "      <td>51,301.25</td>\n",
       "      <td>35,319.00</td>\n",
       "    </tr>\n",
       "    <tr>\n",
       "      <th>2</th>\n",
       "      <td>Cd-109</td>\n",
       "      <td>0.69</td>\n",
       "      <td>3,324.34</td>\n",
       "      <td>35,319.00</td>\n",
       "    </tr>\n",
       "    <tr>\n",
       "      <th>3</th>\n",
       "      <td>Co-57</td>\n",
       "      <td>3.24</td>\n",
       "      <td>14,724.16</td>\n",
       "      <td>35,319.00</td>\n",
       "    </tr>\n",
       "    <tr>\n",
       "      <th>4</th>\n",
       "      <td>Co-60</td>\n",
       "      <td>0.04</td>\n",
       "      <td>207,010.03</td>\n",
       "      <td>35,319.00</td>\n",
       "    </tr>\n",
       "    <tr>\n",
       "      <th>5</th>\n",
       "      <td>Cs-137</td>\n",
       "      <td>3.70</td>\n",
       "      <td>-5,576.63</td>\n",
       "      <td>35,319.00</td>\n",
       "    </tr>\n",
       "    <tr>\n",
       "      <th>6</th>\n",
       "      <td>Eu-152</td>\n",
       "      <td>1.47</td>\n",
       "      <td>-14,428.52</td>\n",
       "      <td>35,319.00</td>\n",
       "    </tr>\n",
       "    <tr>\n",
       "      <th>7</th>\n",
       "      <td>Mn-54</td>\n",
       "      <td>1.41</td>\n",
       "      <td>61,665.84</td>\n",
       "      <td>35,319.00</td>\n",
       "    </tr>\n",
       "    <tr>\n",
       "      <th>8</th>\n",
       "      <td>Na-22</td>\n",
       "      <td>1.77</td>\n",
       "      <td>143,846.67</td>\n",
       "      <td>35,319.00</td>\n",
       "    </tr>\n",
       "    <tr>\n",
       "      <th>9</th>\n",
       "      <td>Pb-210</td>\n",
       "      <td>0.32</td>\n",
       "      <td>3,277.91</td>\n",
       "      <td>35,319.00</td>\n",
       "    </tr>\n",
       "  </tbody>\n",
       "</table>\n",
       "</div>"
      ],
      "text/plain": [
       "  radionuclideo  nuclei_score  nuclei_counts  real_counts\n",
       "0        Am-241          0.06      15,851.72    35,319.00\n",
       "1        Ba-133        100.00      51,301.25    35,319.00\n",
       "2        Cd-109          0.69       3,324.34    35,319.00\n",
       "3         Co-57          3.24      14,724.16    35,319.00\n",
       "4         Co-60          0.04     207,010.03    35,319.00\n",
       "5        Cs-137          3.70      -5,576.63    35,319.00\n",
       "6        Eu-152          1.47     -14,428.52    35,319.00\n",
       "7         Mn-54          1.41      61,665.84    35,319.00\n",
       "8         Na-22          1.77     143,846.67    35,319.00\n",
       "9        Pb-210          0.32       3,277.91    35,319.00"
      ]
     },
     "execution_count": 60,
     "metadata": {},
     "output_type": "execute_result"
    }
   ],
   "source": [
    "validation_nuclei = 'Ba-133'\n",
    "preds = model.predict(np.array([images[validation_nuclei].reshape((128, 128, 1))]))\n",
    "\n",
    "df = pd.DataFrame({'radionuclideo':binarizer.classes_,\n",
    "                   'nuclei_score': preds[0][0]*100,\n",
    "                   'nuclei_counts': scaler.inverse_transform(preds[1][0]),\n",
    "                   'real_counts': np.sum(images[validation_nuclei])})\n",
    "df"
   ]
  },
  {
   "cell_type": "code",
   "execution_count": 61,
   "metadata": {},
   "outputs": [
    {
     "data": {
      "text/html": [
       "<div>\n",
       "<style scoped>\n",
       "    .dataframe tbody tr th:only-of-type {\n",
       "        vertical-align: middle;\n",
       "    }\n",
       "\n",
       "    .dataframe tbody tr th {\n",
       "        vertical-align: top;\n",
       "    }\n",
       "\n",
       "    .dataframe thead th {\n",
       "        text-align: right;\n",
       "    }\n",
       "</style>\n",
       "<table border=\"1\" class=\"dataframe\">\n",
       "  <thead>\n",
       "    <tr style=\"text-align: right;\">\n",
       "      <th></th>\n",
       "      <th>radionuclideo</th>\n",
       "      <th>nuclei_score</th>\n",
       "      <th>nuclei_counts</th>\n",
       "      <th>real_counts</th>\n",
       "    </tr>\n",
       "  </thead>\n",
       "  <tbody>\n",
       "    <tr>\n",
       "      <th>0</th>\n",
       "      <td>Am-241</td>\n",
       "      <td>0.00</td>\n",
       "      <td>15,892.65</td>\n",
       "      <td>7,195.00</td>\n",
       "    </tr>\n",
       "    <tr>\n",
       "      <th>1</th>\n",
       "      <td>Ba-133</td>\n",
       "      <td>2.67</td>\n",
       "      <td>-3,891.03</td>\n",
       "      <td>7,195.00</td>\n",
       "    </tr>\n",
       "    <tr>\n",
       "      <th>2</th>\n",
       "      <td>Cd-109</td>\n",
       "      <td>99.94</td>\n",
       "      <td>19,634.31</td>\n",
       "      <td>7,195.00</td>\n",
       "    </tr>\n",
       "    <tr>\n",
       "      <th>3</th>\n",
       "      <td>Co-57</td>\n",
       "      <td>4.09</td>\n",
       "      <td>5,514.90</td>\n",
       "      <td>7,195.00</td>\n",
       "    </tr>\n",
       "    <tr>\n",
       "      <th>4</th>\n",
       "      <td>Co-60</td>\n",
       "      <td>1.54</td>\n",
       "      <td>20,408.62</td>\n",
       "      <td>7,195.00</td>\n",
       "    </tr>\n",
       "    <tr>\n",
       "      <th>5</th>\n",
       "      <td>Cs-137</td>\n",
       "      <td>2.20</td>\n",
       "      <td>-690.95</td>\n",
       "      <td>7,195.00</td>\n",
       "    </tr>\n",
       "    <tr>\n",
       "      <th>6</th>\n",
       "      <td>Eu-152</td>\n",
       "      <td>1.43</td>\n",
       "      <td>-33,518.87</td>\n",
       "      <td>7,195.00</td>\n",
       "    </tr>\n",
       "    <tr>\n",
       "      <th>7</th>\n",
       "      <td>Mn-54</td>\n",
       "      <td>1.89</td>\n",
       "      <td>62,404.35</td>\n",
       "      <td>7,195.00</td>\n",
       "    </tr>\n",
       "    <tr>\n",
       "      <th>8</th>\n",
       "      <td>Na-22</td>\n",
       "      <td>2.04</td>\n",
       "      <td>116,090.34</td>\n",
       "      <td>7,195.00</td>\n",
       "    </tr>\n",
       "    <tr>\n",
       "      <th>9</th>\n",
       "      <td>Pb-210</td>\n",
       "      <td>0.00</td>\n",
       "      <td>3,338.74</td>\n",
       "      <td>7,195.00</td>\n",
       "    </tr>\n",
       "  </tbody>\n",
       "</table>\n",
       "</div>"
      ],
      "text/plain": [
       "  radionuclideo  nuclei_score  nuclei_counts  real_counts\n",
       "0        Am-241          0.00      15,892.65     7,195.00\n",
       "1        Ba-133          2.67      -3,891.03     7,195.00\n",
       "2        Cd-109         99.94      19,634.31     7,195.00\n",
       "3         Co-57          4.09       5,514.90     7,195.00\n",
       "4         Co-60          1.54      20,408.62     7,195.00\n",
       "5        Cs-137          2.20        -690.95     7,195.00\n",
       "6        Eu-152          1.43     -33,518.87     7,195.00\n",
       "7         Mn-54          1.89      62,404.35     7,195.00\n",
       "8         Na-22          2.04     116,090.34     7,195.00\n",
       "9        Pb-210          0.00       3,338.74     7,195.00"
      ]
     },
     "execution_count": 61,
     "metadata": {},
     "output_type": "execute_result"
    }
   ],
   "source": [
    "validation_nuclei = 'Cd-109'\n",
    "preds = model.predict(np.array([images[validation_nuclei].reshape((128, 128, 1))]))\n",
    "\n",
    "df = pd.DataFrame({'radionuclideo':binarizer.classes_,\n",
    "                   'nuclei_score': preds[0][0]*100,\n",
    "                   'nuclei_counts': scaler.inverse_transform(preds[1][0]),\n",
    "                   'real_counts': np.sum(images[validation_nuclei])})\n",
    "df"
   ]
  },
  {
   "cell_type": "code",
   "execution_count": 62,
   "metadata": {},
   "outputs": [
    {
     "data": {
      "text/html": [
       "<div>\n",
       "<style scoped>\n",
       "    .dataframe tbody tr th:only-of-type {\n",
       "        vertical-align: middle;\n",
       "    }\n",
       "\n",
       "    .dataframe tbody tr th {\n",
       "        vertical-align: top;\n",
       "    }\n",
       "\n",
       "    .dataframe thead th {\n",
       "        text-align: right;\n",
       "    }\n",
       "</style>\n",
       "<table border=\"1\" class=\"dataframe\">\n",
       "  <thead>\n",
       "    <tr style=\"text-align: right;\">\n",
       "      <th></th>\n",
       "      <th>radionuclideo</th>\n",
       "      <th>nuclei_score</th>\n",
       "      <th>nuclei_counts</th>\n",
       "      <th>real_counts</th>\n",
       "    </tr>\n",
       "  </thead>\n",
       "  <tbody>\n",
       "    <tr>\n",
       "      <th>0</th>\n",
       "      <td>Am-241</td>\n",
       "      <td>0.00</td>\n",
       "      <td>15,892.53</td>\n",
       "      <td>7,323.00</td>\n",
       "    </tr>\n",
       "    <tr>\n",
       "      <th>1</th>\n",
       "      <td>Ba-133</td>\n",
       "      <td>3.75</td>\n",
       "      <td>-5,203.22</td>\n",
       "      <td>7,323.00</td>\n",
       "    </tr>\n",
       "    <tr>\n",
       "      <th>2</th>\n",
       "      <td>Cd-109</td>\n",
       "      <td>0.36</td>\n",
       "      <td>3,366.14</td>\n",
       "      <td>7,323.00</td>\n",
       "    </tr>\n",
       "    <tr>\n",
       "      <th>3</th>\n",
       "      <td>Co-57</td>\n",
       "      <td>99.68</td>\n",
       "      <td>12,855.37</td>\n",
       "      <td>7,323.00</td>\n",
       "    </tr>\n",
       "    <tr>\n",
       "      <th>4</th>\n",
       "      <td>Co-60</td>\n",
       "      <td>0.18</td>\n",
       "      <td>185,346.89</td>\n",
       "      <td>7,323.00</td>\n",
       "    </tr>\n",
       "    <tr>\n",
       "      <th>5</th>\n",
       "      <td>Cs-137</td>\n",
       "      <td>3.05</td>\n",
       "      <td>-9,655.38</td>\n",
       "      <td>7,323.00</td>\n",
       "    </tr>\n",
       "    <tr>\n",
       "      <th>6</th>\n",
       "      <td>Eu-152</td>\n",
       "      <td>1.16</td>\n",
       "      <td>-5,789.62</td>\n",
       "      <td>7,323.00</td>\n",
       "    </tr>\n",
       "    <tr>\n",
       "      <th>7</th>\n",
       "      <td>Mn-54</td>\n",
       "      <td>3.79</td>\n",
       "      <td>52,059.04</td>\n",
       "      <td>7,323.00</td>\n",
       "    </tr>\n",
       "    <tr>\n",
       "      <th>8</th>\n",
       "      <td>Na-22</td>\n",
       "      <td>1.67</td>\n",
       "      <td>139,226.66</td>\n",
       "      <td>7,323.00</td>\n",
       "    </tr>\n",
       "    <tr>\n",
       "      <th>9</th>\n",
       "      <td>Pb-210</td>\n",
       "      <td>0.00</td>\n",
       "      <td>3,338.83</td>\n",
       "      <td>7,323.00</td>\n",
       "    </tr>\n",
       "  </tbody>\n",
       "</table>\n",
       "</div>"
      ],
      "text/plain": [
       "  radionuclideo  nuclei_score  nuclei_counts  real_counts\n",
       "0        Am-241          0.00      15,892.53     7,323.00\n",
       "1        Ba-133          3.75      -5,203.22     7,323.00\n",
       "2        Cd-109          0.36       3,366.14     7,323.00\n",
       "3         Co-57         99.68      12,855.37     7,323.00\n",
       "4         Co-60          0.18     185,346.89     7,323.00\n",
       "5        Cs-137          3.05      -9,655.38     7,323.00\n",
       "6        Eu-152          1.16      -5,789.62     7,323.00\n",
       "7         Mn-54          3.79      52,059.04     7,323.00\n",
       "8         Na-22          1.67     139,226.66     7,323.00\n",
       "9        Pb-210          0.00       3,338.83     7,323.00"
      ]
     },
     "execution_count": 62,
     "metadata": {},
     "output_type": "execute_result"
    }
   ],
   "source": [
    "validation_nuclei = 'Co-57'\n",
    "preds = model.predict(np.array([images[validation_nuclei].reshape((128, 128, 1))]))\n",
    "\n",
    "df = pd.DataFrame({'radionuclideo':binarizer.classes_,\n",
    "                   'nuclei_score': preds[0][0]*100,\n",
    "                   'nuclei_counts': scaler.inverse_transform(preds[1][0]),\n",
    "                   'real_counts': np.sum(images[validation_nuclei])})\n",
    "df"
   ]
  },
  {
   "cell_type": "code",
   "execution_count": 63,
   "metadata": {},
   "outputs": [
    {
     "data": {
      "text/html": [
       "<div>\n",
       "<style scoped>\n",
       "    .dataframe tbody tr th:only-of-type {\n",
       "        vertical-align: middle;\n",
       "    }\n",
       "\n",
       "    .dataframe tbody tr th {\n",
       "        vertical-align: top;\n",
       "    }\n",
       "\n",
       "    .dataframe thead th {\n",
       "        text-align: right;\n",
       "    }\n",
       "</style>\n",
       "<table border=\"1\" class=\"dataframe\">\n",
       "  <thead>\n",
       "    <tr style=\"text-align: right;\">\n",
       "      <th></th>\n",
       "      <th>radionuclideo</th>\n",
       "      <th>nuclei_score</th>\n",
       "      <th>nuclei_counts</th>\n",
       "      <th>real_counts</th>\n",
       "    </tr>\n",
       "  </thead>\n",
       "  <tbody>\n",
       "    <tr>\n",
       "      <th>0</th>\n",
       "      <td>Am-241</td>\n",
       "      <td>0.00</td>\n",
       "      <td>15,892.61</td>\n",
       "      <td>155,643.00</td>\n",
       "    </tr>\n",
       "    <tr>\n",
       "      <th>1</th>\n",
       "      <td>Ba-133</td>\n",
       "      <td>2.02</td>\n",
       "      <td>19,618.46</td>\n",
       "      <td>155,643.00</td>\n",
       "    </tr>\n",
       "    <tr>\n",
       "      <th>2</th>\n",
       "      <td>Cd-109</td>\n",
       "      <td>0.23</td>\n",
       "      <td>3,382.47</td>\n",
       "      <td>155,643.00</td>\n",
       "    </tr>\n",
       "    <tr>\n",
       "      <th>3</th>\n",
       "      <td>Co-57</td>\n",
       "      <td>0.33</td>\n",
       "      <td>16,361.19</td>\n",
       "      <td>155,643.00</td>\n",
       "    </tr>\n",
       "    <tr>\n",
       "      <th>4</th>\n",
       "      <td>Co-60</td>\n",
       "      <td>100.00</td>\n",
       "      <td>156,416.22</td>\n",
       "      <td>155,643.00</td>\n",
       "    </tr>\n",
       "    <tr>\n",
       "      <th>5</th>\n",
       "      <td>Cs-137</td>\n",
       "      <td>3.25</td>\n",
       "      <td>-4,737.44</td>\n",
       "      <td>155,643.00</td>\n",
       "    </tr>\n",
       "    <tr>\n",
       "      <th>6</th>\n",
       "      <td>Eu-152</td>\n",
       "      <td>4.42</td>\n",
       "      <td>-40,493.85</td>\n",
       "      <td>155,643.00</td>\n",
       "    </tr>\n",
       "    <tr>\n",
       "      <th>7</th>\n",
       "      <td>Mn-54</td>\n",
       "      <td>0.54</td>\n",
       "      <td>71,374.52</td>\n",
       "      <td>155,643.00</td>\n",
       "    </tr>\n",
       "    <tr>\n",
       "      <th>8</th>\n",
       "      <td>Na-22</td>\n",
       "      <td>2.46</td>\n",
       "      <td>166,538.56</td>\n",
       "      <td>155,643.00</td>\n",
       "    </tr>\n",
       "    <tr>\n",
       "      <th>9</th>\n",
       "      <td>Pb-210</td>\n",
       "      <td>0.00</td>\n",
       "      <td>3,338.47</td>\n",
       "      <td>155,643.00</td>\n",
       "    </tr>\n",
       "  </tbody>\n",
       "</table>\n",
       "</div>"
      ],
      "text/plain": [
       "  radionuclideo  nuclei_score  nuclei_counts  real_counts\n",
       "0        Am-241          0.00      15,892.61   155,643.00\n",
       "1        Ba-133          2.02      19,618.46   155,643.00\n",
       "2        Cd-109          0.23       3,382.47   155,643.00\n",
       "3         Co-57          0.33      16,361.19   155,643.00\n",
       "4         Co-60        100.00     156,416.22   155,643.00\n",
       "5        Cs-137          3.25      -4,737.44   155,643.00\n",
       "6        Eu-152          4.42     -40,493.85   155,643.00\n",
       "7         Mn-54          0.54      71,374.52   155,643.00\n",
       "8         Na-22          2.46     166,538.56   155,643.00\n",
       "9        Pb-210          0.00       3,338.47   155,643.00"
      ]
     },
     "execution_count": 63,
     "metadata": {},
     "output_type": "execute_result"
    }
   ],
   "source": [
    "validation_nuclei = 'Co-60'\n",
    "preds = model.predict(np.array([images[validation_nuclei].reshape((128, 128, 1))]))\n",
    "\n",
    "df = pd.DataFrame({'radionuclideo':binarizer.classes_,\n",
    "                   'nuclei_score': preds[0][0]*100,\n",
    "                   'nuclei_counts': scaler.inverse_transform(preds[1][0]),\n",
    "                   'real_counts': np.sum(images[validation_nuclei])})\n",
    "df"
   ]
  },
  {
   "cell_type": "code",
   "execution_count": 64,
   "metadata": {},
   "outputs": [
    {
     "data": {
      "text/html": [
       "<div>\n",
       "<style scoped>\n",
       "    .dataframe tbody tr th:only-of-type {\n",
       "        vertical-align: middle;\n",
       "    }\n",
       "\n",
       "    .dataframe tbody tr th {\n",
       "        vertical-align: top;\n",
       "    }\n",
       "\n",
       "    .dataframe thead th {\n",
       "        text-align: right;\n",
       "    }\n",
       "</style>\n",
       "<table border=\"1\" class=\"dataframe\">\n",
       "  <thead>\n",
       "    <tr style=\"text-align: right;\">\n",
       "      <th></th>\n",
       "      <th>radionuclideo</th>\n",
       "      <th>nuclei_score</th>\n",
       "      <th>nuclei_counts</th>\n",
       "      <th>real_counts</th>\n",
       "    </tr>\n",
       "  </thead>\n",
       "  <tbody>\n",
       "    <tr>\n",
       "      <th>0</th>\n",
       "      <td>Am-241</td>\n",
       "      <td>0.03</td>\n",
       "      <td>15,880.37</td>\n",
       "      <td>188,461.00</td>\n",
       "    </tr>\n",
       "    <tr>\n",
       "      <th>1</th>\n",
       "      <td>Ba-133</td>\n",
       "      <td>4.43</td>\n",
       "      <td>16,173.28</td>\n",
       "      <td>188,461.00</td>\n",
       "    </tr>\n",
       "    <tr>\n",
       "      <th>2</th>\n",
       "      <td>Cd-109</td>\n",
       "      <td>0.10</td>\n",
       "      <td>3,391.07</td>\n",
       "      <td>188,461.00</td>\n",
       "    </tr>\n",
       "    <tr>\n",
       "      <th>3</th>\n",
       "      <td>Co-57</td>\n",
       "      <td>0.98</td>\n",
       "      <td>15,796.29</td>\n",
       "      <td>188,461.00</td>\n",
       "    </tr>\n",
       "    <tr>\n",
       "      <th>4</th>\n",
       "      <td>Co-60</td>\n",
       "      <td>0.00</td>\n",
       "      <td>212,290.59</td>\n",
       "      <td>188,461.00</td>\n",
       "    </tr>\n",
       "    <tr>\n",
       "      <th>5</th>\n",
       "      <td>Cs-137</td>\n",
       "      <td>100.00</td>\n",
       "      <td>222,605.23</td>\n",
       "      <td>188,461.00</td>\n",
       "    </tr>\n",
       "    <tr>\n",
       "      <th>6</th>\n",
       "      <td>Eu-152</td>\n",
       "      <td>1.95</td>\n",
       "      <td>-7,642.27</td>\n",
       "      <td>188,461.00</td>\n",
       "    </tr>\n",
       "    <tr>\n",
       "      <th>7</th>\n",
       "      <td>Mn-54</td>\n",
       "      <td>2.80</td>\n",
       "      <td>63,020.91</td>\n",
       "      <td>188,461.00</td>\n",
       "    </tr>\n",
       "    <tr>\n",
       "      <th>8</th>\n",
       "      <td>Na-22</td>\n",
       "      <td>0.56</td>\n",
       "      <td>198,931.16</td>\n",
       "      <td>188,461.00</td>\n",
       "    </tr>\n",
       "    <tr>\n",
       "      <th>9</th>\n",
       "      <td>Pb-210</td>\n",
       "      <td>0.12</td>\n",
       "      <td>3,315.10</td>\n",
       "      <td>188,461.00</td>\n",
       "    </tr>\n",
       "  </tbody>\n",
       "</table>\n",
       "</div>"
      ],
      "text/plain": [
       "  radionuclideo  nuclei_score  nuclei_counts  real_counts\n",
       "0        Am-241          0.03      15,880.37   188,461.00\n",
       "1        Ba-133          4.43      16,173.28   188,461.00\n",
       "2        Cd-109          0.10       3,391.07   188,461.00\n",
       "3         Co-57          0.98      15,796.29   188,461.00\n",
       "4         Co-60          0.00     212,290.59   188,461.00\n",
       "5        Cs-137        100.00     222,605.23   188,461.00\n",
       "6        Eu-152          1.95      -7,642.27   188,461.00\n",
       "7         Mn-54          2.80      63,020.91   188,461.00\n",
       "8         Na-22          0.56     198,931.16   188,461.00\n",
       "9        Pb-210          0.12       3,315.10   188,461.00"
      ]
     },
     "execution_count": 64,
     "metadata": {},
     "output_type": "execute_result"
    }
   ],
   "source": [
    "validation_nuclei = 'Cs-137'\n",
    "preds = model.predict(np.array([images[validation_nuclei].reshape((128, 128, 1))]))\n",
    "\n",
    "df = pd.DataFrame({'radionuclideo':binarizer.classes_,\n",
    "                   'nuclei_score': preds[0][0]*100,\n",
    "                   'nuclei_counts': scaler.inverse_transform(preds[1][0]),\n",
    "                   'real_counts': np.sum(images[validation_nuclei])})\n",
    "df"
   ]
  },
  {
   "cell_type": "code",
   "execution_count": 65,
   "metadata": {},
   "outputs": [
    {
     "data": {
      "text/html": [
       "<div>\n",
       "<style scoped>\n",
       "    .dataframe tbody tr th:only-of-type {\n",
       "        vertical-align: middle;\n",
       "    }\n",
       "\n",
       "    .dataframe tbody tr th {\n",
       "        vertical-align: top;\n",
       "    }\n",
       "\n",
       "    .dataframe thead th {\n",
       "        text-align: right;\n",
       "    }\n",
       "</style>\n",
       "<table border=\"1\" class=\"dataframe\">\n",
       "  <thead>\n",
       "    <tr style=\"text-align: right;\">\n",
       "      <th></th>\n",
       "      <th>radionuclideo</th>\n",
       "      <th>nuclei_score</th>\n",
       "      <th>nuclei_counts</th>\n",
       "      <th>real_counts</th>\n",
       "    </tr>\n",
       "  </thead>\n",
       "  <tbody>\n",
       "    <tr>\n",
       "      <th>0</th>\n",
       "      <td>Am-241</td>\n",
       "      <td>0.38</td>\n",
       "      <td>15,784.01</td>\n",
       "      <td>94,419.00</td>\n",
       "    </tr>\n",
       "    <tr>\n",
       "      <th>1</th>\n",
       "      <td>Ba-133</td>\n",
       "      <td>1.82</td>\n",
       "      <td>36,447.51</td>\n",
       "      <td>94,419.00</td>\n",
       "    </tr>\n",
       "    <tr>\n",
       "      <th>2</th>\n",
       "      <td>Cd-109</td>\n",
       "      <td>0.06</td>\n",
       "      <td>3,403.13</td>\n",
       "      <td>94,419.00</td>\n",
       "    </tr>\n",
       "    <tr>\n",
       "      <th>3</th>\n",
       "      <td>Co-57</td>\n",
       "      <td>1.39</td>\n",
       "      <td>15,896.01</td>\n",
       "      <td>94,419.00</td>\n",
       "    </tr>\n",
       "    <tr>\n",
       "      <th>4</th>\n",
       "      <td>Co-60</td>\n",
       "      <td>0.00</td>\n",
       "      <td>212,364.02</td>\n",
       "      <td>94,419.00</td>\n",
       "    </tr>\n",
       "    <tr>\n",
       "      <th>5</th>\n",
       "      <td>Cs-137</td>\n",
       "      <td>2.23</td>\n",
       "      <td>27,721.42</td>\n",
       "      <td>94,419.00</td>\n",
       "    </tr>\n",
       "    <tr>\n",
       "      <th>6</th>\n",
       "      <td>Eu-152</td>\n",
       "      <td>99.93</td>\n",
       "      <td>127,647.67</td>\n",
       "      <td>94,419.00</td>\n",
       "    </tr>\n",
       "    <tr>\n",
       "      <th>7</th>\n",
       "      <td>Mn-54</td>\n",
       "      <td>0.86</td>\n",
       "      <td>71,454.24</td>\n",
       "      <td>94,419.00</td>\n",
       "    </tr>\n",
       "    <tr>\n",
       "      <th>8</th>\n",
       "      <td>Na-22</td>\n",
       "      <td>0.56</td>\n",
       "      <td>210,789.69</td>\n",
       "      <td>94,419.00</td>\n",
       "    </tr>\n",
       "    <tr>\n",
       "      <th>9</th>\n",
       "      <td>Pb-210</td>\n",
       "      <td>0.18</td>\n",
       "      <td>3,317.98</td>\n",
       "      <td>94,419.00</td>\n",
       "    </tr>\n",
       "  </tbody>\n",
       "</table>\n",
       "</div>"
      ],
      "text/plain": [
       "  radionuclideo  nuclei_score  nuclei_counts  real_counts\n",
       "0        Am-241          0.38      15,784.01    94,419.00\n",
       "1        Ba-133          1.82      36,447.51    94,419.00\n",
       "2        Cd-109          0.06       3,403.13    94,419.00\n",
       "3         Co-57          1.39      15,896.01    94,419.00\n",
       "4         Co-60          0.00     212,364.02    94,419.00\n",
       "5        Cs-137          2.23      27,721.42    94,419.00\n",
       "6        Eu-152         99.93     127,647.67    94,419.00\n",
       "7         Mn-54          0.86      71,454.24    94,419.00\n",
       "8         Na-22          0.56     210,789.69    94,419.00\n",
       "9        Pb-210          0.18       3,317.98    94,419.00"
      ]
     },
     "execution_count": 65,
     "metadata": {},
     "output_type": "execute_result"
    }
   ],
   "source": [
    "validation_nuclei = 'Eu-152'\n",
    "preds = model.predict(np.array([images[validation_nuclei].reshape((128, 128, 1))]))\n",
    "\n",
    "df = pd.DataFrame({'radionuclideo':binarizer.classes_,\n",
    "                   'nuclei_score': preds[0][0]*100,\n",
    "                   'nuclei_counts': scaler.inverse_transform(preds[1][0]),\n",
    "                   'real_counts': np.sum(images[validation_nuclei])})\n",
    "df"
   ]
  },
  {
   "cell_type": "code",
   "execution_count": 66,
   "metadata": {},
   "outputs": [
    {
     "data": {
      "text/html": [
       "<div>\n",
       "<style scoped>\n",
       "    .dataframe tbody tr th:only-of-type {\n",
       "        vertical-align: middle;\n",
       "    }\n",
       "\n",
       "    .dataframe tbody tr th {\n",
       "        vertical-align: top;\n",
       "    }\n",
       "\n",
       "    .dataframe thead th {\n",
       "        text-align: right;\n",
       "    }\n",
       "</style>\n",
       "<table border=\"1\" class=\"dataframe\">\n",
       "  <thead>\n",
       "    <tr style=\"text-align: right;\">\n",
       "      <th></th>\n",
       "      <th>radionuclideo</th>\n",
       "      <th>nuclei_score</th>\n",
       "      <th>nuclei_counts</th>\n",
       "      <th>real_counts</th>\n",
       "    </tr>\n",
       "  </thead>\n",
       "  <tbody>\n",
       "    <tr>\n",
       "      <th>0</th>\n",
       "      <td>Am-241</td>\n",
       "      <td>0.00</td>\n",
       "      <td>15,892.65</td>\n",
       "      <td>7,159.00</td>\n",
       "    </tr>\n",
       "    <tr>\n",
       "      <th>1</th>\n",
       "      <td>Ba-133</td>\n",
       "      <td>2.68</td>\n",
       "      <td>-15,286.92</td>\n",
       "      <td>7,159.00</td>\n",
       "    </tr>\n",
       "    <tr>\n",
       "      <th>2</th>\n",
       "      <td>Cd-109</td>\n",
       "      <td>0.70</td>\n",
       "      <td>3,210.11</td>\n",
       "      <td>7,159.00</td>\n",
       "    </tr>\n",
       "    <tr>\n",
       "      <th>3</th>\n",
       "      <td>Co-57</td>\n",
       "      <td>5.29</td>\n",
       "      <td>49.42</td>\n",
       "      <td>7,159.00</td>\n",
       "    </tr>\n",
       "    <tr>\n",
       "      <th>4</th>\n",
       "      <td>Co-60</td>\n",
       "      <td>0.12</td>\n",
       "      <td>193,122.08</td>\n",
       "      <td>7,159.00</td>\n",
       "    </tr>\n",
       "    <tr>\n",
       "      <th>5</th>\n",
       "      <td>Cs-137</td>\n",
       "      <td>2.23</td>\n",
       "      <td>-17.98</td>\n",
       "      <td>7,159.00</td>\n",
       "    </tr>\n",
       "    <tr>\n",
       "      <th>6</th>\n",
       "      <td>Eu-152</td>\n",
       "      <td>1.30</td>\n",
       "      <td>-41,320.71</td>\n",
       "      <td>7,159.00</td>\n",
       "    </tr>\n",
       "    <tr>\n",
       "      <th>7</th>\n",
       "      <td>Mn-54</td>\n",
       "      <td>89.45</td>\n",
       "      <td>-84,025.52</td>\n",
       "      <td>7,159.00</td>\n",
       "    </tr>\n",
       "    <tr>\n",
       "      <th>8</th>\n",
       "      <td>Na-22</td>\n",
       "      <td>2.67</td>\n",
       "      <td>81,076.30</td>\n",
       "      <td>7,159.00</td>\n",
       "    </tr>\n",
       "    <tr>\n",
       "      <th>9</th>\n",
       "      <td>Pb-210</td>\n",
       "      <td>0.00</td>\n",
       "      <td>3,338.81</td>\n",
       "      <td>7,159.00</td>\n",
       "    </tr>\n",
       "  </tbody>\n",
       "</table>\n",
       "</div>"
      ],
      "text/plain": [
       "  radionuclideo  nuclei_score  nuclei_counts  real_counts\n",
       "0        Am-241          0.00      15,892.65     7,159.00\n",
       "1        Ba-133          2.68     -15,286.92     7,159.00\n",
       "2        Cd-109          0.70       3,210.11     7,159.00\n",
       "3         Co-57          5.29          49.42     7,159.00\n",
       "4         Co-60          0.12     193,122.08     7,159.00\n",
       "5        Cs-137          2.23         -17.98     7,159.00\n",
       "6        Eu-152          1.30     -41,320.71     7,159.00\n",
       "7         Mn-54         89.45     -84,025.52     7,159.00\n",
       "8         Na-22          2.67      81,076.30     7,159.00\n",
       "9        Pb-210          0.00       3,338.81     7,159.00"
      ]
     },
     "execution_count": 66,
     "metadata": {},
     "output_type": "execute_result"
    }
   ],
   "source": [
    "validation_nuclei = 'Mn-54'\n",
    "preds = model.predict(np.array([images[validation_nuclei].reshape((128, 128, 1))]))\n",
    "\n",
    "df = pd.DataFrame({'radionuclideo':binarizer.classes_,\n",
    "                   'nuclei_score': preds[0][0]*100,\n",
    "                   'nuclei_counts': scaler.inverse_transform(preds[1][0]),\n",
    "                   'real_counts': np.sum(images[validation_nuclei])})\n",
    "df"
   ]
  },
  {
   "cell_type": "code",
   "execution_count": 67,
   "metadata": {},
   "outputs": [
    {
     "data": {
      "text/html": [
       "<div>\n",
       "<style scoped>\n",
       "    .dataframe tbody tr th:only-of-type {\n",
       "        vertical-align: middle;\n",
       "    }\n",
       "\n",
       "    .dataframe tbody tr th {\n",
       "        vertical-align: top;\n",
       "    }\n",
       "\n",
       "    .dataframe thead th {\n",
       "        text-align: right;\n",
       "    }\n",
       "</style>\n",
       "<table border=\"1\" class=\"dataframe\">\n",
       "  <thead>\n",
       "    <tr style=\"text-align: right;\">\n",
       "      <th></th>\n",
       "      <th>radionuclideo</th>\n",
       "      <th>nuclei_score</th>\n",
       "      <th>nuclei_counts</th>\n",
       "      <th>real_counts</th>\n",
       "    </tr>\n",
       "  </thead>\n",
       "  <tbody>\n",
       "    <tr>\n",
       "      <th>0</th>\n",
       "      <td>Am-241</td>\n",
       "      <td>0.00</td>\n",
       "      <td>15,892.65</td>\n",
       "      <td>7,965.00</td>\n",
       "    </tr>\n",
       "    <tr>\n",
       "      <th>1</th>\n",
       "      <td>Ba-133</td>\n",
       "      <td>3.03</td>\n",
       "      <td>-13,706.59</td>\n",
       "      <td>7,965.00</td>\n",
       "    </tr>\n",
       "    <tr>\n",
       "      <th>2</th>\n",
       "      <td>Cd-109</td>\n",
       "      <td>0.24</td>\n",
       "      <td>3,344.76</td>\n",
       "      <td>7,965.00</td>\n",
       "    </tr>\n",
       "    <tr>\n",
       "      <th>3</th>\n",
       "      <td>Co-57</td>\n",
       "      <td>1.47</td>\n",
       "      <td>11,113.53</td>\n",
       "      <td>7,965.00</td>\n",
       "    </tr>\n",
       "    <tr>\n",
       "      <th>4</th>\n",
       "      <td>Co-60</td>\n",
       "      <td>0.43</td>\n",
       "      <td>150,356.47</td>\n",
       "      <td>7,965.00</td>\n",
       "    </tr>\n",
       "    <tr>\n",
       "      <th>5</th>\n",
       "      <td>Cs-137</td>\n",
       "      <td>3.13</td>\n",
       "      <td>-6,002.02</td>\n",
       "      <td>7,965.00</td>\n",
       "    </tr>\n",
       "    <tr>\n",
       "      <th>6</th>\n",
       "      <td>Eu-152</td>\n",
       "      <td>1.51</td>\n",
       "      <td>-35,733.10</td>\n",
       "      <td>7,965.00</td>\n",
       "    </tr>\n",
       "    <tr>\n",
       "      <th>7</th>\n",
       "      <td>Mn-54</td>\n",
       "      <td>1.17</td>\n",
       "      <td>68,294.89</td>\n",
       "      <td>7,965.00</td>\n",
       "    </tr>\n",
       "    <tr>\n",
       "      <th>8</th>\n",
       "      <td>Na-22</td>\n",
       "      <td>99.98</td>\n",
       "      <td>-309,047.41</td>\n",
       "      <td>7,965.00</td>\n",
       "    </tr>\n",
       "    <tr>\n",
       "      <th>9</th>\n",
       "      <td>Pb-210</td>\n",
       "      <td>0.00</td>\n",
       "      <td>3,338.78</td>\n",
       "      <td>7,965.00</td>\n",
       "    </tr>\n",
       "  </tbody>\n",
       "</table>\n",
       "</div>"
      ],
      "text/plain": [
       "  radionuclideo  nuclei_score  nuclei_counts  real_counts\n",
       "0        Am-241          0.00      15,892.65     7,965.00\n",
       "1        Ba-133          3.03     -13,706.59     7,965.00\n",
       "2        Cd-109          0.24       3,344.76     7,965.00\n",
       "3         Co-57          1.47      11,113.53     7,965.00\n",
       "4         Co-60          0.43     150,356.47     7,965.00\n",
       "5        Cs-137          3.13      -6,002.02     7,965.00\n",
       "6        Eu-152          1.51     -35,733.10     7,965.00\n",
       "7         Mn-54          1.17      68,294.89     7,965.00\n",
       "8         Na-22         99.98    -309,047.41     7,965.00\n",
       "9        Pb-210          0.00       3,338.78     7,965.00"
      ]
     },
     "execution_count": 67,
     "metadata": {},
     "output_type": "execute_result"
    }
   ],
   "source": [
    "validation_nuclei = 'Na-22'\n",
    "preds = model.predict(np.array([images[validation_nuclei].reshape((128, 128, 1))]))\n",
    "\n",
    "df = pd.DataFrame({'radionuclideo':binarizer.classes_,\n",
    "                   'nuclei_score': preds[0][0]*100,\n",
    "                   'nuclei_counts': scaler.inverse_transform(preds[1][0]),\n",
    "                   'real_counts': np.sum(images[validation_nuclei])})\n",
    "df"
   ]
  },
  {
   "cell_type": "code",
   "execution_count": 68,
   "metadata": {},
   "outputs": [
    {
     "data": {
      "text/html": [
       "<div>\n",
       "<style scoped>\n",
       "    .dataframe tbody tr th:only-of-type {\n",
       "        vertical-align: middle;\n",
       "    }\n",
       "\n",
       "    .dataframe tbody tr th {\n",
       "        vertical-align: top;\n",
       "    }\n",
       "\n",
       "    .dataframe thead th {\n",
       "        text-align: right;\n",
       "    }\n",
       "</style>\n",
       "<table border=\"1\" class=\"dataframe\">\n",
       "  <thead>\n",
       "    <tr style=\"text-align: right;\">\n",
       "      <th></th>\n",
       "      <th>radionuclideo</th>\n",
       "      <th>nuclei_score</th>\n",
       "      <th>nuclei_counts</th>\n",
       "      <th>real_counts</th>\n",
       "    </tr>\n",
       "  </thead>\n",
       "  <tbody>\n",
       "    <tr>\n",
       "      <th>0</th>\n",
       "      <td>Am-241</td>\n",
       "      <td>4.20</td>\n",
       "      <td>13,052.41</td>\n",
       "      <td>19,650.00</td>\n",
       "    </tr>\n",
       "    <tr>\n",
       "      <th>1</th>\n",
       "      <td>Ba-133</td>\n",
       "      <td>2.63</td>\n",
       "      <td>11,709.32</td>\n",
       "      <td>19,650.00</td>\n",
       "    </tr>\n",
       "    <tr>\n",
       "      <th>2</th>\n",
       "      <td>Cd-109</td>\n",
       "      <td>1.89</td>\n",
       "      <td>3,202.34</td>\n",
       "      <td>19,650.00</td>\n",
       "    </tr>\n",
       "    <tr>\n",
       "      <th>3</th>\n",
       "      <td>Co-57</td>\n",
       "      <td>0.47</td>\n",
       "      <td>16,374.04</td>\n",
       "      <td>19,650.00</td>\n",
       "    </tr>\n",
       "    <tr>\n",
       "      <th>4</th>\n",
       "      <td>Co-60</td>\n",
       "      <td>0.19</td>\n",
       "      <td>184,933.80</td>\n",
       "      <td>19,650.00</td>\n",
       "    </tr>\n",
       "    <tr>\n",
       "      <th>5</th>\n",
       "      <td>Cs-137</td>\n",
       "      <td>3.24</td>\n",
       "      <td>-10,640.53</td>\n",
       "      <td>19,650.00</td>\n",
       "    </tr>\n",
       "    <tr>\n",
       "      <th>6</th>\n",
       "      <td>Eu-152</td>\n",
       "      <td>1.34</td>\n",
       "      <td>-19,157.15</td>\n",
       "      <td>19,650.00</td>\n",
       "    </tr>\n",
       "    <tr>\n",
       "      <th>7</th>\n",
       "      <td>Mn-54</td>\n",
       "      <td>2.43</td>\n",
       "      <td>46,291.78</td>\n",
       "      <td>19,650.00</td>\n",
       "    </tr>\n",
       "    <tr>\n",
       "      <th>8</th>\n",
       "      <td>Na-22</td>\n",
       "      <td>3.59</td>\n",
       "      <td>-10,285.43</td>\n",
       "      <td>19,650.00</td>\n",
       "    </tr>\n",
       "    <tr>\n",
       "      <th>9</th>\n",
       "      <td>Pb-210</td>\n",
       "      <td>100.00</td>\n",
       "      <td>34,802.18</td>\n",
       "      <td>19,650.00</td>\n",
       "    </tr>\n",
       "  </tbody>\n",
       "</table>\n",
       "</div>"
      ],
      "text/plain": [
       "  radionuclideo  nuclei_score  nuclei_counts  real_counts\n",
       "0        Am-241          4.20      13,052.41    19,650.00\n",
       "1        Ba-133          2.63      11,709.32    19,650.00\n",
       "2        Cd-109          1.89       3,202.34    19,650.00\n",
       "3         Co-57          0.47      16,374.04    19,650.00\n",
       "4         Co-60          0.19     184,933.80    19,650.00\n",
       "5        Cs-137          3.24     -10,640.53    19,650.00\n",
       "6        Eu-152          1.34     -19,157.15    19,650.00\n",
       "7         Mn-54          2.43      46,291.78    19,650.00\n",
       "8         Na-22          3.59     -10,285.43    19,650.00\n",
       "9        Pb-210        100.00      34,802.18    19,650.00"
      ]
     },
     "execution_count": 68,
     "metadata": {},
     "output_type": "execute_result"
    }
   ],
   "source": [
    "validation_nuclei = 'Pb-210'\n",
    "preds = model.predict(np.array([images[validation_nuclei].reshape((128, 128, 1))]))\n",
    "\n",
    "df = pd.DataFrame({'radionuclideo':binarizer.classes_,\n",
    "                   'nuclei_score': preds[0][0]*100,\n",
    "                   'nuclei_counts': scaler.inverse_transform(preds[1][0]),\n",
    "                   'real_counts': np.sum(images[validation_nuclei])})\n",
    "df"
   ]
  },
  {
   "cell_type": "markdown",
   "metadata": {},
   "source": [
    "## Fonte triplice de calibração"
   ]
  },
  {
   "cell_type": "code",
   "execution_count": 69,
   "metadata": {},
   "outputs": [],
   "source": [
    "dados = []\n",
    "\n",
    "with open('/export/ipen/artigo/ICDA-3/Espectros/Experimentos/17-Maio-2018/Espectros/Am-Cs-Co - BG.IEC', 'r') as f:\n",
    "    dados = f.readlines()\n",
    "dados = obtem_dados_dos_canais(dados)\n",
    "df_triplice = pd.DataFrame({'channel': range(0, len(dados)), 'counts' : dados})"
   ]
  },
  {
   "cell_type": "code",
   "execution_count": 70,
   "metadata": {},
   "outputs": [
    {
     "data": {
      "image/png": "[encoded data removed]",
      "text/plain": [
       "<Figure size 1224x216 with 2 Axes>"
      ]
     },
     "metadata": {},
     "output_type": "display_data"
    }
   ],
   "source": [
    "f, axarr = plt.subplots(1, 2, figsize=(17, 3))\n",
    "axarr[0].plot(df_triplice['channel'], df_triplice.counts.shift(-145).fillna(0).values, 'r')\n",
    "axarr[0].set_title(\"Espectro de calibração\")\n",
    "axarr[0].set_yscale(\"log\")\n",
    "axarr[1].imshow(np.array(dados).reshape((128,128)))\n",
    "\n",
    "plt.grid(False)\n",
    "plt.subplots_adjust(bottom=1.25, top=2.75)\n",
    "plt.show()"
   ]
  },
  {
   "cell_type": "code",
   "execution_count": 72,
   "metadata": {
    "scrolled": false
   },
   "outputs": [
    {
     "data": {
      "text/html": [
       "<div>\n",
       "<style scoped>\n",
       "    .dataframe tbody tr th:only-of-type {\n",
       "        vertical-align: middle;\n",
       "    }\n",
       "\n",
       "    .dataframe tbody tr th {\n",
       "        vertical-align: top;\n",
       "    }\n",
       "\n",
       "    .dataframe thead th {\n",
       "        text-align: right;\n",
       "    }\n",
       "</style>\n",
       "<table border=\"1\" class=\"dataframe\">\n",
       "  <thead>\n",
       "    <tr style=\"text-align: right;\">\n",
       "      <th></th>\n",
       "      <th>radionuclideo</th>\n",
       "      <th>nuclei_score</th>\n",
       "      <th>nuclei_counts</th>\n",
       "      <th>real_counts</th>\n",
       "    </tr>\n",
       "  </thead>\n",
       "  <tbody>\n",
       "    <tr>\n",
       "      <th>0</th>\n",
       "      <td>Am-241</td>\n",
       "      <td>50.40</td>\n",
       "      <td>24,013.48</td>\n",
       "      <td>276,428.00</td>\n",
       "    </tr>\n",
       "    <tr>\n",
       "      <th>1</th>\n",
       "      <td>Ba-133</td>\n",
       "      <td>1.17</td>\n",
       "      <td>38,102.12</td>\n",
       "      <td>276,428.00</td>\n",
       "    </tr>\n",
       "    <tr>\n",
       "      <th>2</th>\n",
       "      <td>Cd-109</td>\n",
       "      <td>0.19</td>\n",
       "      <td>3,440.69</td>\n",
       "      <td>276,428.00</td>\n",
       "    </tr>\n",
       "    <tr>\n",
       "      <th>3</th>\n",
       "      <td>Co-57</td>\n",
       "      <td>1.48</td>\n",
       "      <td>15,939.20</td>\n",
       "      <td>276,428.00</td>\n",
       "    </tr>\n",
       "    <tr>\n",
       "      <th>4</th>\n",
       "      <td>Co-60</td>\n",
       "      <td>100.00</td>\n",
       "      <td>72,626.05</td>\n",
       "      <td>276,428.00</td>\n",
       "    </tr>\n",
       "    <tr>\n",
       "      <th>5</th>\n",
       "      <td>Cs-137</td>\n",
       "      <td>100.00</td>\n",
       "      <td>58,826.16</td>\n",
       "      <td>276,428.00</td>\n",
       "    </tr>\n",
       "    <tr>\n",
       "      <th>6</th>\n",
       "      <td>Eu-152</td>\n",
       "      <td>7.17</td>\n",
       "      <td>-19,990.90</td>\n",
       "      <td>276,428.00</td>\n",
       "    </tr>\n",
       "    <tr>\n",
       "      <th>7</th>\n",
       "      <td>Mn-54</td>\n",
       "      <td>0.71</td>\n",
       "      <td>70,544.93</td>\n",
       "      <td>276,428.00</td>\n",
       "    </tr>\n",
       "    <tr>\n",
       "      <th>8</th>\n",
       "      <td>Na-22</td>\n",
       "      <td>0.40</td>\n",
       "      <td>209,368.78</td>\n",
       "      <td>276,428.00</td>\n",
       "    </tr>\n",
       "    <tr>\n",
       "      <th>9</th>\n",
       "      <td>Pb-210</td>\n",
       "      <td>6.22</td>\n",
       "      <td>2,826.83</td>\n",
       "      <td>276,428.00</td>\n",
       "    </tr>\n",
       "  </tbody>\n",
       "</table>\n",
       "</div>"
      ],
      "text/plain": [
       "  radionuclideo  nuclei_score  nuclei_counts  real_counts\n",
       "0        Am-241         50.40      24,013.48   276,428.00\n",
       "1        Ba-133          1.17      38,102.12   276,428.00\n",
       "2        Cd-109          0.19       3,440.69   276,428.00\n",
       "3         Co-57          1.48      15,939.20   276,428.00\n",
       "4         Co-60        100.00      72,626.05   276,428.00\n",
       "5        Cs-137        100.00      58,826.16   276,428.00\n",
       "6        Eu-152          7.17     -19,990.90   276,428.00\n",
       "7         Mn-54          0.71      70,544.93   276,428.00\n",
       "8         Na-22          0.40     209,368.78   276,428.00\n",
       "9        Pb-210          6.22       2,826.83   276,428.00"
      ]
     },
     "execution_count": 72,
     "metadata": {},
     "output_type": "execute_result"
    }
   ],
   "source": [
    "shift_ = 0\n",
    "dados = df_triplice.counts.shift(shift_).fillna(0).values\n",
    "\n",
    "preds = model.predict(np.array([dados.reshape((128, 128, 1))]))\n",
    "\n",
    "df = pd.DataFrame({'radionuclideo':binarizer.classes_,\n",
    "                   'nuclei_score': preds[0][0]*100,\n",
    "                   'nuclei_counts': scaler.inverse_transform(preds[1][0]),\n",
    "                   'real_counts': np.sum(dados)})\n",
    "df"
   ]
  },
  {
   "cell_type": "code",
   "execution_count": 73,
   "metadata": {},
   "outputs": [
    {
     "data": {
      "text/plain": [
       "155465.69"
      ]
     },
     "execution_count": 73,
     "metadata": {},
     "output_type": "execute_result"
    }
   ],
   "source": [
    "24013.48 + 58826.16 + 72626.05"
   ]
  }
 ],
 "metadata": {
  "kernelspec": {
   "display_name": "Python 3",
   "language": "python",
   "name": "python3"
  },
  "language_info": {
   "codemirror_mode": {
    "name": "ipython",
    "version": 3
   },
   "file_extension": ".py",
   "mimetype": "text/x-python",
   "name": "python",
   "nbconvert_exporter": "python",
   "pygments_lexer": "ipython3",
   "version": "3.7.4"
  }
 },
 "nbformat": 4,
 "nbformat_minor": 2
}
