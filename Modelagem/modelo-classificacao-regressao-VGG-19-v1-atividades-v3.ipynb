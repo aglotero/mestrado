{
 "cells": [
  {
   "cell_type": "code",
   "execution_count": 1,
   "metadata": {},
   "outputs": [],
   "source": [
    "import gc\n",
    "import glob\n",
    "import numpy as np\n",
    "import pandas as pd\n",
    "from tqdm import tqdm_notebook\n",
    "from sklearn.preprocessing import MultiLabelBinarizer\n",
    "\n",
    "pd.options.display.float_format = '{:,.2f}'.format"
   ]
  },
  {
   "cell_type": "code",
   "execution_count": 2,
   "metadata": {},
   "outputs": [
    {
     "name": "stderr",
     "output_type": "stream",
     "text": [
      "/home/andre/.conda/envs/py36/lib/python3.6/site-packages/h5py/__init__.py:36: FutureWarning: Conversion of the second argument of issubdtype from `float` to `np.floating` is deprecated. In future, it will be treated as `np.float64 == np.dtype(float).type`.\n",
      "  from ._conv import register_converters as _register_converters\n",
      "Using TensorFlow backend.\n"
     ]
    }
   ],
   "source": [
    "import pandas as pd\n",
    "import numpy as np\n",
    "import matplotlib.pyplot as plt\n",
    "import random\n",
    "# Para o Modelo\n",
    "import tensorflow as tf\n",
    "import keras\n",
    "from keras import backend as K\n",
    "from keras.applications.vgg19 import VGG19\n",
    "from keras.optimizers import *\n",
    "from keras.callbacks import *\n",
    "from keras.metrics import top_k_categorical_accuracy\n",
    "from keras.utils import to_categorical\n",
    "from sklearn.metrics import accuracy_score\n",
    "from sklearn.model_selection import train_test_split\n",
    "\n",
    "from sklearn.preprocessing import StandardScaler\n",
    "from keras.models import save_model, load_model"
   ]
  },
  {
   "cell_type": "markdown",
   "metadata": {},
   "source": [
    "# Processando os dados\n",
    "\n",
    "## Gerados com Penelope"
   ]
  },
  {
   "cell_type": "code",
   "execution_count": 3,
   "metadata": {},
   "outputs": [],
   "source": [
    "files =  glob.glob(\"../dados_v[4-5]/*.dat\")"
   ]
  },
  {
   "cell_type": "code",
   "execution_count": 4,
   "metadata": {},
   "outputs": [
    {
     "data": {
      "text/plain": [
       "758"
      ]
     },
     "execution_count": 4,
     "metadata": {},
     "output_type": "execute_result"
    }
   ],
   "source": [
    "len(files)"
   ]
  },
  {
   "cell_type": "code",
   "execution_count": 5,
   "metadata": {},
   "outputs": [],
   "source": [
    "def le_performance_report(filename):\n",
    "    # 164000\n",
    "    # Performance report\n",
    "    #   Random seeds:\n",
    "    #   1800926990\n",
    "    #   1275941380\n",
    "    #   No. of histories simulated [N]:\n",
    "    #            10000000.\n",
    "    #   CPU time [t] (s):\n",
    "    #    3.28417E+01\n",
    "    #   Speed (histories/s):\n",
    "    #    3.04491E+05\n",
    "    #   Average uncertainty (above 1/2 max score) in % [uncert]:\n",
    "    #    1.27128E-01\n",
    "    #   Intrinsic efficiency [N*uncert^2]^-1:\n",
    "    #    6.18758E-06\n",
    "    #   Absolute efficiency [t*uncert^2]^-1:\n",
    "    #    1.88406E+00\n",
    "    \n",
    "    with open(filename, \"r\") as f:\n",
    "        linhas = f.readlines()\n",
    "    try:\n",
    "        return float(linhas[16400+7][1:])\n",
    "    except:\n",
    "        return float(linhas[16400+6][1:])\n",
    "\n",
    "def carrega_dados(filename, n_particulas=1.0e07):\n",
    "    data = {\n",
    "        'Elow(eV)' : [],\n",
    "        'Emiddle(eV)' : [],\n",
    "        'counts(1/eV/hist)' : [],\n",
    "        '+-2sigma':[],\n",
    "        'nbin' : []\n",
    "    }\n",
    "\n",
    "    linha_de_dados = False\n",
    "    with open(filename, \"r\") as f:\n",
    "        for line in f:\n",
    "            if line[0] == '#':\n",
    "                linha_de_dados = False\n",
    "            else:\n",
    "                linha_de_dados = True\n",
    "\n",
    "            if linha_de_dados:\n",
    "                aux = line.split(' ')\n",
    "                if len(aux) == 2:\n",
    "                    break\n",
    "\n",
    "                data['Elow(eV)'].append(np.fromstring(aux[2], dtype=np.float64, sep=',')[0])\n",
    "                data['Emiddle(eV)'].append(np.fromstring(aux[4], dtype=np.float64, sep=',')[0])\n",
    "                q = np.fromstring(aux[6], dtype=np.float64, sep=',')[0]\n",
    "                data['counts(1/eV/hist)'].append(q)\n",
    "                data['+-2sigma'].append(np.fromstring(aux[8], dtype=np.float64, sep=',')[0])\n",
    "                nbin = np.fromstring(aux[9], dtype=np.int, sep=',')[0]\n",
    "                data['nbin'].append(nbin)      \n",
    "\n",
    "    df = pd.DataFrame.from_dict(data)\n",
    "    df['counts'] = df['counts(1/eV/hist)'].values * n_particulas * 1 / ((df['Elow(eV)'].shift(-1).fillna(0) - df['Elow(eV)']) / df['nbin'])\n",
    "    df['counts'] = df['counts']#.astype(np.uint8)\n",
    "    df['counts'][0:20] = 0\n",
    "    df['E'] = df['Elow(eV)'] / 1e3\n",
    "    return df.loc[0:16383]"
   ]
  },
  {
   "cell_type": "code",
   "execution_count": 6,
   "metadata": {},
   "outputs": [
    {
     "name": "stdout",
     "output_type": "stream",
     "text": [
      "Total de tempo de CPU utilizado: 377.7199294814816 dias\n"
     ]
    }
   ],
   "source": [
    "tempo_segundos = 0\n",
    "\n",
    "for file_ in files:\n",
    "    tempo_segundos += le_performance_report(file_)\n",
    "    \n",
    "print(\"Total de tempo de CPU utilizado: {0} dias\".format(tempo_segundos / 60 / 60 / 24))"
   ]
  },
  {
   "cell_type": "code",
   "execution_count": 7,
   "metadata": {},
   "outputs": [],
   "source": [
    "energias_iniciais_multicanal = ['-1', '1', '250', '400', '150', '300', '0']\n",
    "#energias_iniciais_multicanal = ['0-01.dat']\n",
    "#energias_iniciais_multicanal = ['0-01.dat', '5-0.dat', '10-0.dat', '30-0.dat', '40-0.dat']\n",
    "#energias_iniciais_multicanal = ['0-01.dat']"
   ]
  },
  {
   "cell_type": "code",
   "execution_count": 8,
   "metadata": {},
   "outputs": [
    {
     "data": {
      "text/plain": [
       "array(['Am-241', 'Ba-133', 'Cd-109', 'Co-57', 'Co-60', 'Cs-137', 'Eu-152',\n",
       "       'Mn-54', 'Na-22', 'Pb-210'], dtype=object)"
      ]
     },
     "execution_count": 8,
     "metadata": {},
     "output_type": "execute_result"
    }
   ],
   "source": [
    "nomes_nuclideos = {\n",
    "    'Am-241': 0,\n",
    "    'Ba-133': 1,\n",
    "    'Cd-109': 2,\n",
    "    'Co-57': 3,\n",
    "    'Co-60': 4,\n",
    "    'Cs-137': 5,\n",
    "    'Eu-152': 6,\n",
    "    'Mn-54': 7,\n",
    "    'Na-22': 8,\n",
    "    'Pb-210': 9\n",
    "}\n",
    "\n",
    "binarizer = MultiLabelBinarizer()\n",
    "binarizer.fit([list(nomes_nuclideos.keys())])\n",
    "binarizer.classes_"
   ]
  },
  {
   "cell_type": "code",
   "execution_count": 9,
   "metadata": {},
   "outputs": [
    {
     "data": {
      "application/vnd.jupyter.widget-view+json": {
       "model_id": "31f4f65636ca47368ba5c300f36d17bc",
       "version_major": 2,
       "version_minor": 0
      },
      "text/plain": [
       "HBox(children=(IntProgress(value=0, max=758), HTML(value='')))"
      ]
     },
     "metadata": {},
     "output_type": "display_data"
    },
    {
     "name": "stderr",
     "output_type": "stream",
     "text": [
      "/home/andre/.conda/envs/py36/lib/python3.6/site-packages/ipykernel_launcher.py:60: SettingWithCopyWarning: \n",
      "A value is trying to be set on a copy of a slice from a DataFrame\n",
      "\n",
      "See the caveats in the documentation: http://pandas.pydata.org/pandas-docs/stable/user_guide/indexing.html#returning-a-view-versus-a-copy\n"
     ]
    },
    {
     "name": "stdout",
     "output_type": "stream",
     "text": [
      "\n"
     ]
    },
    {
     "data": {
      "application/vnd.jupyter.widget-view+json": {
       "model_id": "b969d59639bc465490f834592f7dfb6c",
       "version_major": 2,
       "version_minor": 0
      },
      "text/plain": [
       "HBox(children=(IntProgress(value=0, max=758), HTML(value='')))"
      ]
     },
     "metadata": {},
     "output_type": "display_data"
    },
    {
     "name": "stdout",
     "output_type": "stream",
     "text": [
      "\n"
     ]
    },
    {
     "data": {
      "application/vnd.jupyter.widget-view+json": {
       "model_id": "9c6285928f734ab9ae9a5afd1c6fabba",
       "version_major": 2,
       "version_minor": 0
      },
      "text/plain": [
       "HBox(children=(IntProgress(value=0, max=758), HTML(value='')))"
      ]
     },
     "metadata": {},
     "output_type": "display_data"
    },
    {
     "name": "stdout",
     "output_type": "stream",
     "text": [
      "\n"
     ]
    },
    {
     "data": {
      "application/vnd.jupyter.widget-view+json": {
       "model_id": "34abcd8045cb43e3a3aa7a15756fff21",
       "version_major": 2,
       "version_minor": 0
      },
      "text/plain": [
       "HBox(children=(IntProgress(value=0, max=758), HTML(value='')))"
      ]
     },
     "metadata": {},
     "output_type": "display_data"
    },
    {
     "name": "stdout",
     "output_type": "stream",
     "text": [
      "\n"
     ]
    },
    {
     "data": {
      "application/vnd.jupyter.widget-view+json": {
       "model_id": "69a5bbfadf9f4639959f81e0bb5a2ff9",
       "version_major": 2,
       "version_minor": 0
      },
      "text/plain": [
       "HBox(children=(IntProgress(value=0, max=758), HTML(value='')))"
      ]
     },
     "metadata": {},
     "output_type": "display_data"
    },
    {
     "name": "stdout",
     "output_type": "stream",
     "text": [
      "\n"
     ]
    },
    {
     "data": {
      "application/vnd.jupyter.widget-view+json": {
       "model_id": "983bef38e2f34449a6c5e64ad211a713",
       "version_major": 2,
       "version_minor": 0
      },
      "text/plain": [
       "HBox(children=(IntProgress(value=0, max=758), HTML(value='')))"
      ]
     },
     "metadata": {},
     "output_type": "display_data"
    },
    {
     "name": "stdout",
     "output_type": "stream",
     "text": [
      "\n"
     ]
    },
    {
     "data": {
      "application/vnd.jupyter.widget-view+json": {
       "model_id": "717ac6d7ef9c49218ee11f99154b5011",
       "version_major": 2,
       "version_minor": 0
      },
      "text/plain": [
       "HBox(children=(IntProgress(value=0, max=758), HTML(value='')))"
      ]
     },
     "metadata": {},
     "output_type": "display_data"
    },
    {
     "name": "stdout",
     "output_type": "stream",
     "text": [
      "\n"
     ]
    }
   ],
   "source": [
    "# Cd-109_41cm_1-0e08estories_0-01.dat\n",
    "dados_por_energia_inicial_multicanal = dict()\n",
    "\n",
    "for energia_inicial_multicanal in energias_iniciais_multicanal:\n",
    "    dados_por_energia_inicial_multicanal[energia_inicial_multicanal] = []\n",
    "    \n",
    "    for file_ in tqdm_notebook(files):\n",
    "        if not file_.endswith('_'+energia_inicial_multicanal+'.dat'):\n",
    "            continue\n",
    "        \n",
    "        partes = file_.split(\"/\")[2].replace(\".dat\", \"\").split(\"_\")\n",
    "        nuclideo = partes[0]        \n",
    "        distancia = partes[1]\n",
    "        \n",
    "        n_particulas_simulacao = float(partes[2].replace('estories','').replace('-','.'))\n",
    "        \n",
    "        # diferentes atividades\n",
    "        for n_particulas in [1e3, 1e6, 1e9, 2e3, 2e6, 2e9, 3e3, 3e6, 3e9, n_particulas_simulacao]:\n",
    "        \n",
    "            dados_ = carrega_dados(file_, n_particulas)\n",
    "\n",
    "            label_ = binarizer.transform([[nuclideo]])\n",
    "\n",
    "            #Cria o label para o total de contagens do radionuclídeo\n",
    "            #total_counts = np.zeros(label_.shape)\n",
    "            #total_counts[0][np.argmax(label_)] = np.sum(dados_.counts.values)\n",
    "\n",
    "            atividade = np.zeros(label_.shape)\n",
    "            atividade[0][np.argmax(label_)] = n_particulas\n",
    "            \n",
    "            dados_por_energia_inicial_multicanal[energia_inicial_multicanal].append({\n",
    "                'X' : dados_.counts.values,\n",
    "                'n' : atividade,\n",
    "                'y': label_,\n",
    "                #'y_count' : total_counts,\n",
    "                'd': distancia,\n",
    "                'e': energia_inicial_multicanal\n",
    "            })"
   ]
  },
  {
   "cell_type": "code",
   "execution_count": 10,
   "metadata": {},
   "outputs": [
    {
     "name": "stdout",
     "output_type": "stream",
     "text": [
      "-1 400\n",
      "1 1200\n",
      "250 1190\n",
      "400 1200\n",
      "150 1200\n",
      "300 1200\n",
      "0 1190\n"
     ]
    },
    {
     "data": {
      "text/plain": [
       "7580"
      ]
     },
     "execution_count": 10,
     "metadata": {},
     "output_type": "execute_result"
    }
   ],
   "source": [
    "a = 0\n",
    "for k in dados_por_energia_inicial_multicanal:\n",
    "    print(k, len(dados_por_energia_inicial_multicanal[k]))\n",
    "    a += len(dados_por_energia_inicial_multicanal[k])\n",
    "a"
   ]
  },
  {
   "cell_type": "markdown",
   "metadata": {},
   "source": [
    "## Leituras experimentais da GRR"
   ]
  },
  {
   "cell_type": "code",
   "execution_count": 11,
   "metadata": {},
   "outputs": [],
   "source": [
    "def obtem_dados_dos_canais(linhas):\n",
    "    dados = []\n",
    "    pode_comecar = False\n",
    "    for linha in linhas:\n",
    "        if linha == \"A004USERDEFINED                                                     \\n\":\n",
    "            pode_comecar = True\n",
    "            continue\n",
    "        if pode_comecar:\n",
    "            aux = linha.strip().split()\n",
    "            if int(aux[1]) % 5:\n",
    "                print(\"oi!\")\n",
    "            dados.extend([float(x) for x in aux[2:]])\n",
    "    return dados[1:]"
   ]
  },
  {
   "cell_type": "code",
   "execution_count": 12,
   "metadata": {},
   "outputs": [
    {
     "name": "stdout",
     "output_type": "stream",
     "text": [
      "Am-241 - BG.IEC\n",
      "Ba-133 - BG.IEC\n",
      "Cd-109 - BG.IEC\n",
      "Co-57 - BG.IEC\n",
      "Co-60 - BG.IEC\n",
      "Cs-137 - BG.IEC\n",
      "Eu-152 - BG.IEC\n",
      "Mn-54 - BG.IEC\n",
      "Na-22 - BG.IEC\n",
      "Pb-210 - BG.IEC\n"
     ]
    }
   ],
   "source": [
    "arquivos = ['Am-241 - BG.IEC', 'Ba-133 - BG.IEC', 'Cd-109 - BG.IEC', 'Co-57 - BG.IEC', 'Co-60 - BG.IEC',\n",
    "            'Cs-137 - BG.IEC', 'Eu-152 - BG.IEC', 'Mn-54 - BG.IEC', 'Na-22 - BG.IEC', 'Pb-210 - BG.IEC',]\n",
    "\n",
    "df_nuclideos = dict()\n",
    "img_espectros = dict()\n",
    "img_convertidos = dict()\n",
    "images = dict()\n",
    "\n",
    "for arquivo in arquivos:\n",
    "    print(arquivo)\n",
    "    dados = []\n",
    "\n",
    "    with open('/export/ipen/artigo/ICDA-3/Espectros/Experimentos/17-Maio-2018/Espectros/{0}'.format(arquivo), 'r') as f:\n",
    "        dados = f.readlines()\n",
    "    dados = obtem_dados_dos_canais(dados)\n",
    "    df = pd.DataFrame({'channel': range(0, len(dados)), 'counts' : dados})\n",
    "    df_nuclideos[arquivo] = df.copy()\n",
    "    img_convertidos[arquivo] = np.array(dados).reshape((128, 128)).copy()\n",
    "    images[arquivo.split(' ')[0]] = np.array(dados).reshape((128, 128)).copy()"
   ]
  },
  {
   "cell_type": "code",
   "execution_count": 13,
   "metadata": {},
   "outputs": [
    {
     "data": {
      "text/plain": [
       "({'Am-241 - BG.IEC': 'Am-241',\n",
       "  'Ba-133 - BG.IEC': 'Ba-133',\n",
       "  'Cd-109 - BG.IEC': 'Cd-109',\n",
       "  'Co-57 - BG.IEC': 'Co-57',\n",
       "  'Co-60 - BG.IEC': 'Co-60',\n",
       "  'Cs-137 - BG.IEC': 'Cs-137',\n",
       "  'Eu-152 - BG.IEC': 'Eu-152',\n",
       "  'Mn-54 - BG.IEC': 'Mn-54',\n",
       "  'Na-22 - BG.IEC': 'Na-22',\n",
       "  'Pb-210 - BG.IEC': 'Pb-210'},\n",
       " {'Am-241': 'Am-241 - BG.IEC',\n",
       "  'Ba-133': 'Ba-133 - BG.IEC',\n",
       "  'Cd-109': 'Cd-109 - BG.IEC',\n",
       "  'Co-57': 'Co-57 - BG.IEC',\n",
       "  'Co-60': 'Co-60 - BG.IEC',\n",
       "  'Cs-137': 'Cs-137 - BG.IEC',\n",
       "  'Eu-152': 'Eu-152 - BG.IEC',\n",
       "  'Mn-54': 'Mn-54 - BG.IEC',\n",
       "  'Na-22': 'Na-22 - BG.IEC',\n",
       "  'Pb-210': 'Pb-210 - BG.IEC'},\n",
       " {0: 'Am-241',\n",
       "  1: 'Ba-133',\n",
       "  2: 'Cd-109',\n",
       "  3: 'Co-57',\n",
       "  4: 'Co-60',\n",
       "  5: 'Cs-137',\n",
       "  6: 'Eu-152',\n",
       "  7: 'Mn-54',\n",
       "  8: 'Na-22',\n",
       "  9: 'Pb-210'},\n",
       " {'Am-241': 0,\n",
       "  'Ba-133': 1,\n",
       "  'Cd-109': 2,\n",
       "  'Co-57': 3,\n",
       "  'Co-60': 4,\n",
       "  'Cs-137': 5,\n",
       "  'Eu-152': 6,\n",
       "  'Mn-54': 7,\n",
       "  'Na-22': 8,\n",
       "  'Pb-210': 9})"
      ]
     },
     "execution_count": 13,
     "metadata": {},
     "output_type": "execute_result"
    }
   ],
   "source": [
    "arquivo_por_nome = { b : b.split()[0] for a, b in enumerate(list(img_convertidos.keys()))}\n",
    "nome_por_arquivo = { b.split()[0] : b for a, b in enumerate(list(img_convertidos.keys()))}\n",
    "\n",
    "id_para_radionuclideos = { a : b.split()[0] for a, b in enumerate(list(img_convertidos.keys()))}\n",
    "radionuclideos = { b.split()[0] : a for a, b in enumerate(list(img_convertidos.keys()))}\n",
    "arquivo_por_nome, nome_por_arquivo, id_para_radionuclideos, radionuclideos"
   ]
  },
  {
   "cell_type": "code",
   "execution_count": 14,
   "metadata": {},
   "outputs": [],
   "source": [
    "#plt.plot(np.random.poisson(1e5, (128, 128)))\n",
    "#plt.plot(np.random.normal(1, 0.1**0.5, (128, 128)))"
   ]
  },
  {
   "cell_type": "code",
   "execution_count": 15,
   "metadata": {},
   "outputs": [],
   "source": [
    "def add_noise(image):\n",
    "    #if random.random() <= 0.5:\n",
    "    #    return image.reshape((128, 128, 1))\n",
    "    row,col = image.shape\n",
    "    mean = 1 #np.mean(image)\n",
    "    var = 0.1 #random.random() #\n",
    "    sigma = var**0.5\n",
    "    gauss = np.random.normal(mean, sigma, (row,col))\n",
    "    gauss = gauss.reshape(row, col)\n",
    "    noisy = image + gauss\n",
    "    if np.random.random() > 0.3:\n",
    "        #increase de count rate by a random factor\n",
    "        noisy += noisy * (1 + np.random.random())\n",
    "    return noisy.reshape((128, 128, 1)) #/ np.max(noisy) # normalizando pelo valor máximo\n",
    "\n",
    "\n",
    "#def gera_imagem_combinada_experimental(dicionario_imagens, n_combinacoes=3):\n",
    "#    assert n_combinacoes <= 10, \"No máximo 10 combinações\"\n",
    "#    nuclei_idx = np.random.choice(10, n_combinacoes, replace=False).tolist()[0]\n",
    "#    label = to_categorical(nuclei_idx, 10)\n",
    "#    img = np.sum([add_noise(dicionario_imagens[id_para_radionuclideos[nuclei_idx]])], axis=0)\n",
    "#    counts = to_categorical(nuclei_idx, 10)\n",
    "#    counts[nuclei_idx] = np.sum(img)\n",
    "#    \n",
    "#    return img, label, counts\n",
    "\n",
    "def gera_imagem_combinada_experimental(dicionario_imagens,\n",
    "                                       n_combinacoes=1):\n",
    "    \n",
    "    assert n_combinacoes <= 10, \"No máximo 10 combinações\"\n",
    "    \n",
    "    a = np.random.choice(10, n_combinacoes, replace=False).tolist()\n",
    "    labels = np.sum([to_categorical(x, 10) for x in a], axis=0)\n",
    "    noise_img = [add_noise(dicionario_imagens[id_para_radionuclideos[x]]) for x in a]\n",
    "    img = np.sum(noise_img, axis=0)\n",
    "    \n",
    "    counts = np.zeros((10,))\n",
    "    for idx, item in enumerate(a):\n",
    "        counts[item] = np.sum(noise_img[idx])\n",
    "    \n",
    "    while np.max(labels) > 1: # temos nuclideo repetido\n",
    "        labels[0][np.argmax(labels[0])] = 1\n",
    "    \n",
    "    return img, labels, counts\n"
   ]
  },
  {
   "cell_type": "markdown",
   "metadata": {},
   "source": [
    "# Gerando conjunto de treino e validação\n",
    "\n",
    "## Com os dados experimentais"
   ]
  },
  {
   "cell_type": "code",
   "execution_count": 16,
   "metadata": {},
   "outputs": [],
   "source": [
    "X = []\n",
    "y = []\n",
    "y_counts = []\n",
    "ids = []"
   ]
  },
  {
   "cell_type": "code",
   "execution_count": 17,
   "metadata": {},
   "outputs": [],
   "source": [
    "# gerando imagens com mais de um espectro\n",
    "n_combinacoes = [1, 2, 3, 4]\n",
    "for n_combinacao in n_combinacoes:\n",
    "    for i in range(500):\n",
    "        img, label, counts = gera_imagem_combinada_experimental(images, n_combinacao)\n",
    "        X.append(img)\n",
    "        y.append(label)\n",
    "        y_counts.append(counts)\n",
    "        ids.append({'tipo': 'experimental'})"
   ]
  },
  {
   "cell_type": "code",
   "execution_count": 18,
   "metadata": {},
   "outputs": [
    {
     "data": {
      "text/plain": [
       "(2000, 2000, 2000, 2000)"
      ]
     },
     "execution_count": 18,
     "metadata": {},
     "output_type": "execute_result"
    }
   ],
   "source": [
    "len(X), len(y), len(y_counts), len(ids)"
   ]
  },
  {
   "cell_type": "markdown",
   "metadata": {},
   "source": [
    "## Com os dados gerados pelo PENELOPE"
   ]
  },
  {
   "cell_type": "code",
   "execution_count": 19,
   "metadata": {},
   "outputs": [],
   "source": [
    "def gera_imagem_combinada_penelope(dicionario_imagens, n_combinacoes=3):\n",
    "    assert n_combinacoes <= 10, \"No máximo 10 combinações\"\n",
    "\n",
    "    aux = np.random.choice(dicionario_imagens, n_combinacoes, replace=False)\n",
    "    #print(aux)\n",
    "    labels = np.sum([x['y'] for x in aux], axis=0)\n",
    "    counts = np.sum([x['n'] for x in aux], axis=0)\n",
    "    values = np.sum([x['X'] for x in aux], axis=0)\n",
    "    \n",
    "    while np.max(labels) > 1: # temos nuclideo repetido\n",
    "        labels[0][np.argmax(labels[0])] = 1\n",
    "    \n",
    "    id_instancia = {'tipo': 'penelope_multiplo', 'meta': aux}\n",
    "    \n",
    "    return values, labels, counts, id_instancia"
   ]
  },
  {
   "cell_type": "markdown",
   "metadata": {},
   "source": [
    "### Gera espectros com mais de um radionuclideo\n",
    "\n",
    "Até 4 no mesmo espectro"
   ]
  },
  {
   "cell_type": "code",
   "execution_count": 20,
   "metadata": {},
   "outputs": [],
   "source": [
    "n_combinacoes = [2, 3, 4]\n",
    "novos_dados = dict()\n",
    "\n",
    "for key in energias_iniciais_multicanal:\n",
    "    novos_dados[key] = []\n",
    "    for n_ in n_combinacoes:\n",
    "        for i in range(800):\n",
    "            values, labels, counts, id_instancia = gera_imagem_combinada_penelope(dados_por_energia_inicial_multicanal[key],\n",
    "                                                  n_)\n",
    "            novos_dados[key].append({'X' : values,\n",
    "                                     'y': labels,\n",
    "                                     'n': counts,\n",
    "                                     'id': id_instancia})"
   ]
  },
  {
   "cell_type": "code",
   "execution_count": 21,
   "metadata": {},
   "outputs": [],
   "source": [
    "for key in energias_iniciais_multicanal:\n",
    "    for item in dados_por_energia_inicial_multicanal[key]:\n",
    "        X.append(list(item.values())[0].reshape((128, 128)))\n",
    "        y.append(item['y'][0])\n",
    "        y_counts.append(item['n'][0])\n",
    "        ids.append(item.get(\"id\", {'tipo': 'penelope_original', 'meta': item}))"
   ]
  },
  {
   "cell_type": "code",
   "execution_count": 22,
   "metadata": {},
   "outputs": [],
   "source": [
    "for key in energias_iniciais_multicanal:\n",
    "    for item in novos_dados[key]:\n",
    "        X.append(list(item.values())[0].reshape((128, 128)))\n",
    "        y.append(item['y'][0])\n",
    "        y_counts.append(item['n'][0])\n",
    "        ids.append(item.get(\"id\", {'tipo': 'penelope_original', 'meta': item}))"
   ]
  },
  {
   "cell_type": "code",
   "execution_count": 23,
   "metadata": {},
   "outputs": [
    {
     "data": {
      "text/plain": [
       "(26380, 26380, 26380, 26380)"
      ]
     },
     "execution_count": 23,
     "metadata": {},
     "output_type": "execute_result"
    }
   ],
   "source": [
    "len(X), len(y), len(y_counts), len(ids)"
   ]
  },
  {
   "cell_type": "code",
   "execution_count": 24,
   "metadata": {},
   "outputs": [],
   "source": [
    "!rm -rf ./dados_v3_atividade\n",
    "!mkdir ./dados_v3_atividade\n",
    "np.save(\"./dados_v3_atividade/X.npy\", [x.reshape((128,128,1)) for x in X])\n",
    "np.save(\"./dados_v3_atividade/y.npy\", y)\n",
    "np.save(\"./dados_v3_atividade/y_counts.npy\", y_counts)\n",
    "np.save(\"./dados_v3_atividade/ids.npy\", np.array(ids))"
   ]
  },
  {
   "cell_type": "code",
   "execution_count": 25,
   "metadata": {},
   "outputs": [],
   "source": [
    "X = np.load(\"./dados_v3_atividade/X.npy\")\n",
    "y = np.load(\"./dados_v3_atividade/y.npy\")\n",
    "y_counts = np.load(\"./dados_v3_atividade/y_counts.npy\")\n",
    "ids = np.load(\"./dados_v3_atividade/ids.npy\")"
   ]
  },
  {
   "cell_type": "code",
   "execution_count": 26,
   "metadata": {},
   "outputs": [
    {
     "data": {
      "text/plain": [
       "0"
      ]
     },
     "execution_count": 26,
     "metadata": {},
     "output_type": "execute_result"
    }
   ],
   "source": [
    "gc.collect()"
   ]
  },
  {
   "cell_type": "markdown",
   "metadata": {},
   "source": [
    "# Modelo\n",
    "\n",
    "## Dividindo os dados em treino e teste"
   ]
  },
  {
   "cell_type": "code",
   "execution_count": 27,
   "metadata": {},
   "outputs": [],
   "source": [
    "#scaler = StandardScaler()\n",
    "#scaler.fit(y_counts)\n",
    "\n",
    "X_train, X_test, y_train, y_test = train_test_split(X, list(zip(y, np.log(np.array(y_counts) + 1))),\n",
    "                                                    test_size=0.30,\n",
    "                                                    random_state=42)"
   ]
  },
  {
   "cell_type": "code",
   "execution_count": 28,
   "metadata": {},
   "outputs": [],
   "source": [
    "ids_train, ids_test  = train_test_split(ids,\n",
    "                                       test_size=0.30,\n",
    "                                       random_state=42)"
   ]
  },
  {
   "cell_type": "code",
   "execution_count": null,
   "metadata": {},
   "outputs": [],
   "source": []
  },
  {
   "cell_type": "code",
   "execution_count": 29,
   "metadata": {},
   "outputs": [
    {
     "data": {
      "text/plain": [
       "(18466, 18466, 18466, 7914, 7914, 7914)"
      ]
     },
     "execution_count": 29,
     "metadata": {},
     "output_type": "execute_result"
    }
   ],
   "source": [
    "len(X_train), len(y_train), len(ids_train), len(X_test), len(y_test), len(ids_test)"
   ]
  },
  {
   "cell_type": "code",
   "execution_count": 30,
   "metadata": {},
   "outputs": [],
   "source": [
    "from keras.utils import Sequence"
   ]
  },
  {
   "cell_type": "code",
   "execution_count": 31,
   "metadata": {},
   "outputs": [],
   "source": [
    "class EspectraSequence(Sequence):\n",
    "\n",
    "    def __init__(self, x_set, y_set, y_set_count, batch_size):\n",
    "        self.x, self.y, self.y_set_count = x_set, y_set, y_set_count\n",
    "        self.batch_size = batch_size\n",
    "\n",
    "    def __len__(self):\n",
    "        return int(np.ceil(len(self.x) / float(self.batch_size)))\n",
    "\n",
    "    def __getitem__(self, idx):\n",
    "        batch_x = self.x[idx * self.batch_size:(idx + 1) * self.batch_size]\n",
    "        batch_y = self.y[idx * self.batch_size:(idx + 1) * self.batch_size]\n",
    "        batch_y_count = self.y_set_count[idx * self.batch_size:(idx + 1) * self.batch_size]\n",
    "\n",
    "        y_ = {'predictions_nuclei': np.array(batch_y, dtype=np.float32),\n",
    "              'predictions_counts': np.array(batch_y_count)}\n",
    "        \n",
    "        return np.array([x.reshape((128, 128, 1)) for x in batch_x]), y_"
   ]
  },
  {
   "cell_type": "code",
   "execution_count": 32,
   "metadata": {},
   "outputs": [],
   "source": [
    "s = EspectraSequence(X_train, [x[0] for x in y_train], [x[1] for x in y_train], batch_size=8)"
   ]
  },
  {
   "cell_type": "code",
   "execution_count": 33,
   "metadata": {},
   "outputs": [
    {
     "data": {
      "image/png": "[encoded data removed]",
      "text/plain": [
       "<Figure size 432x288 with 1 Axes>"
      ]
     },
     "metadata": {},
     "output_type": "display_data"
    }
   ],
   "source": [
    "a, b = s[2]\n",
    "c = b['predictions_counts']\n",
    "b = b['predictions_nuclei']\n",
    "plt.imshow(a[0].reshape((128, 128)))\n",
    "title_data = list(zip(binarizer.inverse_transform(np.array([b[0]]))[0], np.exp(c[0])[np.array([b[0]]).astype(np.bool)[0]]))\n",
    "plt.title(\" with \".join([\"{} - {:.1e}Bq\".format(x[0], x[1]) for x in title_data]))\n",
    "plt.show()"
   ]
  },
  {
   "cell_type": "code",
   "execution_count": 34,
   "metadata": {},
   "outputs": [
    {
     "data": {
      "image/png": "[encoded data removed]",
      "text/plain": [
       "<Figure size 432x288 with 1 Axes>"
      ]
     },
     "metadata": {},
     "output_type": "display_data"
    }
   ],
   "source": [
    "title_data = list(zip(binarizer.inverse_transform(np.array([b[0]]))[0], np.exp(c[0])[np.array([b[0]]).astype(np.bool)[0]]))\n",
    "plt.title(\" with \".join([\"{} - {:.1e}Bq\".format(x[0], x[1]) for x in title_data]))\n",
    "plt.plot(a[0].reshape(-1))\n",
    "plt.yscale(\"log\")\n",
    "plt.show()"
   ]
  },
  {
   "cell_type": "code",
   "execution_count": 35,
   "metadata": {},
   "outputs": [],
   "source": [
    "def accuracy_score_wrapper(label, pred):\n",
    "    threshold = .95\n",
    "    label = (label >= threshold).astype(np.uint8)\n",
    "    pred = (pred >= threshold).astype(np.uint8)\n",
    "    return np.float32(accuracy_score(label, pred))\n",
    "\n",
    "def my_accuracy_score(label, pred):\n",
    "    metric_value = tf.compat.v1.py_func(accuracy_score_wrapper, [label, pred], tf.float32)\n",
    "    return metric_value"
   ]
  },
  {
   "cell_type": "code",
   "execution_count": 36,
   "metadata": {},
   "outputs": [
    {
     "name": "stdout",
     "output_type": "stream",
     "text": [
      "WARNING:tensorflow:From /home/andre/.conda/envs/py36/lib/python3.6/site-packages/tensorflow/python/framework/op_def_library.py:263: colocate_with (from tensorflow.python.framework.ops) is deprecated and will be removed in a future version.\n",
      "Instructions for updating:\n",
      "Colocations handled automatically by placer.\n",
      "__________________________________________________________________________________________________\n",
      "Layer (type)                    Output Shape         Param #     Connected to                     \n",
      "==================================================================================================\n",
      "input_1 (InputLayer)            (None, 128, 128, 1)  0                                            \n",
      "__________________________________________________________________________________________________\n",
      "block1_conv1 (Conv2D)           (None, 128, 128, 64) 640         input_1[0][0]                    \n",
      "__________________________________________________________________________________________________\n",
      "block1_conv2 (Conv2D)           (None, 128, 128, 64) 36928       block1_conv1[0][0]               \n",
      "__________________________________________________________________________________________________\n",
      "block1_pool (MaxPooling2D)      (None, 64, 64, 64)   0           block1_conv2[0][0]               \n",
      "__________________________________________________________________________________________________\n",
      "block2_conv1 (Conv2D)           (None, 64, 64, 128)  73856       block1_pool[0][0]                \n",
      "__________________________________________________________________________________________________\n",
      "block2_conv2 (Conv2D)           (None, 64, 64, 128)  147584      block2_conv1[0][0]               \n",
      "__________________________________________________________________________________________________\n",
      "block2_pool (MaxPooling2D)      (None, 32, 32, 128)  0           block2_conv2[0][0]               \n",
      "__________________________________________________________________________________________________\n",
      "block3_conv1 (Conv2D)           (None, 32, 32, 256)  295168      block2_pool[0][0]                \n",
      "__________________________________________________________________________________________________\n",
      "block3_conv2 (Conv2D)           (None, 32, 32, 256)  590080      block3_conv1[0][0]               \n",
      "__________________________________________________________________________________________________\n",
      "block3_conv3 (Conv2D)           (None, 32, 32, 256)  590080      block3_conv2[0][0]               \n",
      "__________________________________________________________________________________________________\n",
      "block3_conv4 (Conv2D)           (None, 32, 32, 256)  590080      block3_conv3[0][0]               \n",
      "__________________________________________________________________________________________________\n",
      "block3_pool (MaxPooling2D)      (None, 16, 16, 256)  0           block3_conv4[0][0]               \n",
      "__________________________________________________________________________________________________\n",
      "block4_conv1 (Conv2D)           (None, 16, 16, 512)  1180160     block3_pool[0][0]                \n",
      "__________________________________________________________________________________________________\n",
      "block4_conv2 (Conv2D)           (None, 16, 16, 512)  2359808     block4_conv1[0][0]               \n",
      "__________________________________________________________________________________________________\n",
      "block4_conv3 (Conv2D)           (None, 16, 16, 512)  2359808     block4_conv2[0][0]               \n",
      "__________________________________________________________________________________________________\n",
      "block4_conv4 (Conv2D)           (None, 16, 16, 512)  2359808     block4_conv3[0][0]               \n",
      "__________________________________________________________________________________________________\n",
      "block4_pool (MaxPooling2D)      (None, 8, 8, 512)    0           block4_conv4[0][0]               \n",
      "__________________________________________________________________________________________________\n",
      "block5_conv1 (Conv2D)           (None, 8, 8, 512)    2359808     block4_pool[0][0]                \n",
      "__________________________________________________________________________________________________\n",
      "block5_conv2 (Conv2D)           (None, 8, 8, 512)    2359808     block5_conv1[0][0]               \n",
      "__________________________________________________________________________________________________\n",
      "block5_conv3 (Conv2D)           (None, 8, 8, 512)    2359808     block5_conv2[0][0]               \n",
      "__________________________________________________________________________________________________\n",
      "block5_conv4 (Conv2D)           (None, 8, 8, 512)    2359808     block5_conv3[0][0]               \n",
      "__________________________________________________________________________________________________\n",
      "block5_pool (MaxPooling2D)      (None, 4, 4, 512)    0           block5_conv4[0][0]               \n",
      "__________________________________________________________________________________________________\n",
      "flatten_1 (Flatten)             (None, 8192)         0           block5_pool[0][0]                \n",
      "__________________________________________________________________________________________________\n",
      "flatten_2 (Flatten)             (None, 8192)         0           block5_pool[0][0]                \n",
      "__________________________________________________________________________________________________\n",
      "dense_1 (Dense)                 (None, 4096)         33558528    flatten_1[0][0]                  \n",
      "__________________________________________________________________________________________________\n",
      "dense_3 (Dense)                 (None, 4096)         33558528    flatten_2[0][0]                  \n",
      "__________________________________________________________________________________________________\n",
      "dense_2 (Dense)                 (None, 4096)         16781312    dense_1[0][0]                    \n",
      "__________________________________________________________________________________________________\n",
      "dense_4 (Dense)                 (None, 4096)         16781312    dense_3[0][0]                    \n",
      "__________________________________________________________________________________________________\n",
      "predictions_nuclei (Dense)      (None, 10)           40970       dense_2[0][0]                    \n",
      "__________________________________________________________________________________________________\n",
      "predictions_counts (Dense)      (None, 10)           40970       dense_4[0][0]                    \n",
      "==================================================================================================\n",
      "Total params: 120,784,852\n",
      "Trainable params: 120,784,852\n",
      "Non-trainable params: 0\n",
      "__________________________________________________________________________________________________\n"
     ]
    }
   ],
   "source": [
    "K.clear_session()\n",
    "import keras\n",
    "vgg_model = VGG19(include_top=False,\n",
    "                  weights=None,\n",
    "                  input_shape=(128, 128, 1),\n",
    "                  classes=10)\n",
    "\n",
    "x = keras.layers.Flatten()(vgg_model.output)\n",
    "x = keras.layers.Dense(4096, activation='relu')(x)\n",
    "x = keras.layers.Dense(4096, activation='relu')(x)\n",
    "pred_nuclei = keras.layers.Dense(10, activation='sigmoid', name=\"predictions_nuclei\")(x)\n",
    "\n",
    "x1 = keras.layers.Flatten()(vgg_model.output)\n",
    "x1 = keras.layers.Dense(4096, activation='relu')(x1)\n",
    "x1 = keras.layers.Dense(4096, activation='relu')(x1)\n",
    "pred_counts = keras.layers.Dense(10, activation=None, name=\"predictions_counts\")(x1)\n",
    "\n",
    "#se a previsão do modelo for menor que zero, a gente zera a saída, afinal de contas\n",
    "#não existe atividade 0 bq :P\n",
    "#pred_counts = keras.layers.Lambda(lambda x: tf.where(x < 0, tf.zeros_like(x), x),\n",
    "#                                 name=\"predictions_counts\")(pred_counts)\n",
    "\n",
    "model = keras.models.Model(vgg_model.input, [pred_nuclei, pred_counts])\n",
    "model.summary()"
   ]
  },
  {
   "cell_type": "code",
   "execution_count": 37,
   "metadata": {},
   "outputs": [],
   "source": [
    "learning_rate = 1e-5\n",
    "epochs = 250\n",
    "batch_size = 8\n",
    "steps_per_epoch = len(X_train) // batch_size + 1\n",
    "validation_steps = len(X_test) // batch_size + 1"
   ]
  },
  {
   "cell_type": "code",
   "execution_count": 38,
   "metadata": {},
   "outputs": [
    {
     "name": "stdout",
     "output_type": "stream",
     "text": [
      "WARNING:tensorflow:From <ipython-input-35-e9be23c5b0b0>:8: py_func (from tensorflow.python.ops.script_ops) is deprecated and will be removed in a future version.\n",
      "Instructions for updating:\n",
      "tf.py_func is deprecated in TF V2. Instead, use\n",
      "    tf.py_function, which takes a python function which manipulates tf eager\n",
      "    tensors instead of numpy arrays. It's easy to convert a tf eager tensor to\n",
      "    an ndarray (just call tensor.numpy()) but having access to eager tensors\n",
      "    means `tf.py_function`s can use accelerators such as GPUs as well as\n",
      "    being differentiable using a gradient tape.\n",
      "    \n"
     ]
    }
   ],
   "source": [
    "opt = SGD(lr=learning_rate,\n",
    "          nesterov=False,\n",
    "          momentum=0.9) # keras.optimizers.RMSprop(0.001)\n",
    "\n",
    "model.compile(optimizer=Adam(lr=1e-4),\n",
    "              loss={\n",
    "                  'predictions_nuclei': 'binary_crossentropy',\n",
    "                  'predictions_counts': 'mean_squared_error'\n",
    "              },\n",
    "              metrics={\n",
    "                  'predictions_nuclei': [my_accuracy_score, 'accuracy'],\n",
    "                  'predictions_counts': ['mean_squared_error', 'mean_absolute_error']\n",
    "              }\n",
    "             )"
   ]
  },
  {
   "cell_type": "code",
   "execution_count": 39,
   "metadata": {},
   "outputs": [
    {
     "name": "stdout",
     "output_type": "stream",
     "text": [
      "Thu Aug 13 08:46:03 2020       \n",
      "+-----------------------------------------------------------------------------+\n",
      "| NVIDIA-SMI 410.48                 Driver Version: 410.48                    |\n",
      "|-------------------------------+----------------------+----------------------+\n",
      "| GPU  Name        Persistence-M| Bus-Id        Disp.A | Volatile Uncorr. ECC |\n",
      "| Fan  Temp  Perf  Pwr:Usage/Cap|         Memory-Usage | GPU-Util  Compute M. |\n",
      "|===============================+======================+======================|\n",
      "|   0  GeForce GTX 1080    Off  | 00000000:01:00.0 Off |                  N/A |\n",
      "|  0%   40C    P5    12W / 180W |      0MiB /  8117MiB |      3%      Default |\n",
      "+-------------------------------+----------------------+----------------------+\n",
      "                                                                               \n",
      "+-----------------------------------------------------------------------------+\n",
      "| Processes:                                                       GPU Memory |\n",
      "|  GPU       PID   Type   Process name                             Usage      |\n",
      "|=============================================================================|\n",
      "|  No running processes found                                                 |\n",
      "+-----------------------------------------------------------------------------+\n"
     ]
    }
   ],
   "source": [
    "!nvidia-smi"
   ]
  },
  {
   "cell_type": "code",
   "execution_count": 40,
   "metadata": {},
   "outputs": [],
   "source": [
    "!rm -rf ./logsv3_atividade\n",
    "!mkdir ./logsv3_atividade"
   ]
  },
  {
   "cell_type": "code",
   "execution_count": 41,
   "metadata": {},
   "outputs": [],
   "source": [
    "from keras.callbacks import LearningRateScheduler"
   ]
  },
  {
   "cell_type": "code",
   "execution_count": 42,
   "metadata": {},
   "outputs": [],
   "source": [
    "import math\n",
    "def step_decay(epoch):\n",
    "    initial_lrate = 1e-5\n",
    "    drop = 0.5\n",
    "    epochs_drop = 10.0\n",
    "    lrate = initial_lrate * math.pow(drop, math.floor((1+epoch)/epochs_drop))\n",
    "    return lrate"
   ]
  },
  {
   "cell_type": "code",
   "execution_count": 43,
   "metadata": {},
   "outputs": [],
   "source": [
    "model_checkpoint_callback = tf.keras.callbacks.ModelCheckpoint(\n",
    "    filepath='VGG-19-Adam-classificacao-regressao-PENELOPE-v3_atividade.hdf5',\n",
    "    save_weights_only=False,\n",
    "    monitor='val_loss',\n",
    "    mode='min',\n",
    "    save_best_only=True)"
   ]
  },
  {
   "cell_type": "code",
   "execution_count": 44,
   "metadata": {
    "scrolled": true
   },
   "outputs": [
    {
     "name": "stdout",
     "output_type": "stream",
     "text": [
      "WARNING:tensorflow:From /home/andre/.conda/envs/py36/lib/python3.6/site-packages/tensorflow/python/ops/math_ops.py:3066: to_int32 (from tensorflow.python.ops.math_ops) is deprecated and will be removed in a future version.\n",
      "Instructions for updating:\n",
      "Use tf.cast instead.\n",
      "Epoch 1/250\n",
      " - 319s - loss: 24.9973 - predictions_nuclei_loss: 0.4003 - predictions_counts_loss: 24.5970 - predictions_nuclei_my_accuracy_score: 0.1282 - predictions_nuclei_acc: 0.8572 - predictions_counts_mean_squared_error: 24.5970 - predictions_counts_mean_absolute_error: 3.1359 - val_loss: 12.4723 - val_predictions_nuclei_loss: 0.2646 - val_predictions_counts_loss: 12.2077 - val_predictions_nuclei_my_accuracy_score: 0.3170 - val_predictions_nuclei_acc: 0.9139 - val_predictions_counts_mean_squared_error: 12.2077 - val_predictions_counts_mean_absolute_error: 2.0079\n",
      "Epoch 2/250\n",
      " - 317s - loss: 10.7382 - predictions_nuclei_loss: 0.2345 - predictions_counts_loss: 10.5037 - predictions_nuclei_my_accuracy_score: 0.3780 - predictions_nuclei_acc: 0.9225 - predictions_counts_mean_squared_error: 10.5037 - predictions_counts_mean_absolute_error: 1.7843 - val_loss: 9.0438 - val_predictions_nuclei_loss: 0.2103 - val_predictions_counts_loss: 8.8335 - val_predictions_nuclei_my_accuracy_score: 0.4339 - val_predictions_nuclei_acc: 0.9318 - val_predictions_counts_mean_squared_error: 8.8335 - val_predictions_counts_mean_absolute_error: 1.6040\n",
      "Epoch 3/250\n",
      " - 317s - loss: 8.6902 - predictions_nuclei_loss: 0.2043 - predictions_counts_loss: 8.4858 - predictions_nuclei_my_accuracy_score: 0.4433 - predictions_nuclei_acc: 0.9335 - predictions_counts_mean_squared_error: 8.4858 - predictions_counts_mean_absolute_error: 1.5162 - val_loss: 8.0424 - val_predictions_nuclei_loss: 0.1956 - val_predictions_counts_loss: 7.8469 - val_predictions_nuclei_my_accuracy_score: 0.4538 - val_predictions_nuclei_acc: 0.9378 - val_predictions_counts_mean_squared_error: 7.8469 - val_predictions_counts_mean_absolute_error: 1.4188\n",
      "Epoch 4/250\n",
      " - 317s - loss: 7.7712 - predictions_nuclei_loss: 0.1893 - predictions_counts_loss: 7.5819 - predictions_nuclei_my_accuracy_score: 0.4813 - predictions_nuclei_acc: 0.9388 - predictions_counts_mean_squared_error: 7.5819 - predictions_counts_mean_absolute_error: 1.3881 - val_loss: 7.5234 - val_predictions_nuclei_loss: 0.1902 - val_predictions_counts_loss: 7.3332 - val_predictions_nuclei_my_accuracy_score: 0.5164 - val_predictions_nuclei_acc: 0.9407 - val_predictions_counts_mean_squared_error: 7.3332 - val_predictions_counts_mean_absolute_error: 1.3868\n",
      "Epoch 5/250\n",
      " - 317s - loss: 6.9816 - predictions_nuclei_loss: 0.1788 - predictions_counts_loss: 6.8028 - predictions_nuclei_my_accuracy_score: 0.5148 - predictions_nuclei_acc: 0.9427 - predictions_counts_mean_squared_error: 6.8028 - predictions_counts_mean_absolute_error: 1.2814 - val_loss: 6.4397 - val_predictions_nuclei_loss: 0.1815 - val_predictions_counts_loss: 6.2582 - val_predictions_nuclei_my_accuracy_score: 0.5232 - val_predictions_nuclei_acc: 0.9445 - val_predictions_counts_mean_squared_error: 6.2582 - val_predictions_counts_mean_absolute_error: 1.2029\n",
      "Epoch 6/250\n",
      " - 317s - loss: 6.5429 - predictions_nuclei_loss: 0.1731 - predictions_counts_loss: 6.3698 - predictions_nuclei_my_accuracy_score: 0.5329 - predictions_nuclei_acc: 0.9448 - predictions_counts_mean_squared_error: 6.3698 - predictions_counts_mean_absolute_error: 1.2144 - val_loss: 6.7045 - val_predictions_nuclei_loss: 0.1702 - val_predictions_counts_loss: 6.5343 - val_predictions_nuclei_my_accuracy_score: 0.5246 - val_predictions_nuclei_acc: 0.9474 - val_predictions_counts_mean_squared_error: 6.5343 - val_predictions_counts_mean_absolute_error: 1.3021\n",
      "Epoch 7/250\n",
      " - 317s - loss: 6.2535 - predictions_nuclei_loss: 0.1671 - predictions_counts_loss: 6.0864 - predictions_nuclei_my_accuracy_score: 0.5486 - predictions_nuclei_acc: 0.9467 - predictions_counts_mean_squared_error: 6.0864 - predictions_counts_mean_absolute_error: 1.1697 - val_loss: 6.0548 - val_predictions_nuclei_loss: 0.1673 - val_predictions_counts_loss: 5.8876 - val_predictions_nuclei_my_accuracy_score: 0.5574 - val_predictions_nuclei_acc: 0.9482 - val_predictions_counts_mean_squared_error: 5.8876 - val_predictions_counts_mean_absolute_error: 1.1144\n",
      "Epoch 8/250\n",
      " - 317s - loss: 5.9908 - predictions_nuclei_loss: 0.1630 - predictions_counts_loss: 5.8279 - predictions_nuclei_my_accuracy_score: 0.5611 - predictions_nuclei_acc: 0.9480 - predictions_counts_mean_squared_error: 5.8279 - predictions_counts_mean_absolute_error: 1.1289 - val_loss: 5.5053 - val_predictions_nuclei_loss: 0.1589 - val_predictions_counts_loss: 5.3464 - val_predictions_nuclei_my_accuracy_score: 0.5759 - val_predictions_nuclei_acc: 0.9515 - val_predictions_counts_mean_squared_error: 5.3464 - val_predictions_counts_mean_absolute_error: 1.0158\n",
      "Epoch 9/250\n",
      " - 317s - loss: 5.7049 - predictions_nuclei_loss: 0.1580 - predictions_counts_loss: 5.5470 - predictions_nuclei_my_accuracy_score: 0.5719 - predictions_nuclei_acc: 0.9497 - predictions_counts_mean_squared_error: 5.5470 - predictions_counts_mean_absolute_error: 1.0882 - val_loss: 5.9915 - val_predictions_nuclei_loss: 0.1644 - val_predictions_counts_loss: 5.8272 - val_predictions_nuclei_my_accuracy_score: 0.5767 - val_predictions_nuclei_acc: 0.9495 - val_predictions_counts_mean_squared_error: 5.8272 - val_predictions_counts_mean_absolute_error: 1.0874\n",
      "Epoch 10/250\n",
      " - 317s - loss: 5.5096 - predictions_nuclei_loss: 0.1551 - predictions_counts_loss: 5.3545 - predictions_nuclei_my_accuracy_score: 0.5819 - predictions_nuclei_acc: 0.9505 - predictions_counts_mean_squared_error: 5.3545 - predictions_counts_mean_absolute_error: 1.0610 - val_loss: 5.4811 - val_predictions_nuclei_loss: 0.1559 - val_predictions_counts_loss: 5.3252 - val_predictions_nuclei_my_accuracy_score: 0.5946 - val_predictions_nuclei_acc: 0.9520 - val_predictions_counts_mean_squared_error: 5.3252 - val_predictions_counts_mean_absolute_error: 1.0470\n",
      "Epoch 11/250\n",
      " - 317s - loss: 5.4300 - predictions_nuclei_loss: 0.1524 - predictions_counts_loss: 5.2776 - predictions_nuclei_my_accuracy_score: 0.5879 - predictions_nuclei_acc: 0.9513 - predictions_counts_mean_squared_error: 5.2776 - predictions_counts_mean_absolute_error: 1.0443 - val_loss: 5.6269 - val_predictions_nuclei_loss: 0.1576 - val_predictions_counts_loss: 5.4693 - val_predictions_nuclei_my_accuracy_score: 0.5869 - val_predictions_nuclei_acc: 0.9511 - val_predictions_counts_mean_squared_error: 5.4693 - val_predictions_counts_mean_absolute_error: 1.0516\n",
      "Epoch 12/250\n",
      " - 317s - loss: 5.2918 - predictions_nuclei_loss: 0.1500 - predictions_counts_loss: 5.1418 - predictions_nuclei_my_accuracy_score: 0.5943 - predictions_nuclei_acc: 0.9519 - predictions_counts_mean_squared_error: 5.1418 - predictions_counts_mean_absolute_error: 1.0264 - val_loss: 5.2812 - val_predictions_nuclei_loss: 0.1561 - val_predictions_counts_loss: 5.1251 - val_predictions_nuclei_my_accuracy_score: 0.6051 - val_predictions_nuclei_acc: 0.9519 - val_predictions_counts_mean_squared_error: 5.1251 - val_predictions_counts_mean_absolute_error: 1.0084\n",
      "Epoch 13/250\n",
      " - 317s - loss: 5.2155 - predictions_nuclei_loss: 0.1479 - predictions_counts_loss: 5.0676 - predictions_nuclei_my_accuracy_score: 0.5995 - predictions_nuclei_acc: 0.9524 - predictions_counts_mean_squared_error: 5.0676 - predictions_counts_mean_absolute_error: 1.0128 - val_loss: 5.4440 - val_predictions_nuclei_loss: 0.1579 - val_predictions_counts_loss: 5.2861 - val_predictions_nuclei_my_accuracy_score: 0.6016 - val_predictions_nuclei_acc: 0.9521 - val_predictions_counts_mean_squared_error: 5.2861 - val_predictions_counts_mean_absolute_error: 0.9942\n",
      "Epoch 14/250\n",
      " - 317s - loss: 5.1489 - predictions_nuclei_loss: 0.1455 - predictions_counts_loss: 5.0034 - predictions_nuclei_my_accuracy_score: 0.6071 - predictions_nuclei_acc: 0.9529 - predictions_counts_mean_squared_error: 5.0034 - predictions_counts_mean_absolute_error: 1.0004 - val_loss: 5.3321 - val_predictions_nuclei_loss: 0.1537 - val_predictions_counts_loss: 5.1783 - val_predictions_nuclei_my_accuracy_score: 0.5983 - val_predictions_nuclei_acc: 0.9534 - val_predictions_counts_mean_squared_error: 5.1783 - val_predictions_counts_mean_absolute_error: 1.0415\n"
     ]
    },
    {
     "name": "stdout",
     "output_type": "stream",
     "text": [
      "Epoch 15/250\n",
      " - 317s - loss: 4.9951 - predictions_nuclei_loss: 0.1434 - predictions_counts_loss: 4.8517 - predictions_nuclei_my_accuracy_score: 0.6079 - predictions_nuclei_acc: 0.9534 - predictions_counts_mean_squared_error: 4.8517 - predictions_counts_mean_absolute_error: 0.9812 - val_loss: 5.2647 - val_predictions_nuclei_loss: 0.1561 - val_predictions_counts_loss: 5.1086 - val_predictions_nuclei_my_accuracy_score: 0.5982 - val_predictions_nuclei_acc: 0.9530 - val_predictions_counts_mean_squared_error: 5.1086 - val_predictions_counts_mean_absolute_error: 1.0076\n",
      "Epoch 16/250\n",
      " - 317s - loss: 5.0529 - predictions_nuclei_loss: 0.1429 - predictions_counts_loss: 4.9101 - predictions_nuclei_my_accuracy_score: 0.6082 - predictions_nuclei_acc: 0.9534 - predictions_counts_mean_squared_error: 4.9101 - predictions_counts_mean_absolute_error: 0.9904 - val_loss: 5.4611 - val_predictions_nuclei_loss: 0.1575 - val_predictions_counts_loss: 5.3036 - val_predictions_nuclei_my_accuracy_score: 0.5959 - val_predictions_nuclei_acc: 0.9514 - val_predictions_counts_mean_squared_error: 5.3036 - val_predictions_counts_mean_absolute_error: 1.0688\n",
      "Epoch 17/250\n",
      " - 317s - loss: 4.9059 - predictions_nuclei_loss: 0.1399 - predictions_counts_loss: 4.7660 - predictions_nuclei_my_accuracy_score: 0.6155 - predictions_nuclei_acc: 0.9539 - predictions_counts_mean_squared_error: 4.7660 - predictions_counts_mean_absolute_error: 0.9694 - val_loss: 5.2435 - val_predictions_nuclei_loss: 0.1554 - val_predictions_counts_loss: 5.0880 - val_predictions_nuclei_my_accuracy_score: 0.6088 - val_predictions_nuclei_acc: 0.9527 - val_predictions_counts_mean_squared_error: 5.0880 - val_predictions_counts_mean_absolute_error: 0.9979\n",
      "Epoch 18/250\n",
      " - 317s - loss: 4.7703 - predictions_nuclei_loss: 0.1364 - predictions_counts_loss: 4.6340 - predictions_nuclei_my_accuracy_score: 0.6205 - predictions_nuclei_acc: 0.9550 - predictions_counts_mean_squared_error: 4.6340 - predictions_counts_mean_absolute_error: 0.9536 - val_loss: 5.1724 - val_predictions_nuclei_loss: 0.1557 - val_predictions_counts_loss: 5.0167 - val_predictions_nuclei_my_accuracy_score: 0.6104 - val_predictions_nuclei_acc: 0.9525 - val_predictions_counts_mean_squared_error: 5.0167 - val_predictions_counts_mean_absolute_error: 0.9830\n",
      "Epoch 19/250\n",
      " - 317s - loss: 4.7213 - predictions_nuclei_loss: 0.1341 - predictions_counts_loss: 4.5872 - predictions_nuclei_my_accuracy_score: 0.6219 - predictions_nuclei_acc: 0.9557 - predictions_counts_mean_squared_error: 4.5872 - predictions_counts_mean_absolute_error: 0.9477 - val_loss: 5.0626 - val_predictions_nuclei_loss: 0.1540 - val_predictions_counts_loss: 4.9085 - val_predictions_nuclei_my_accuracy_score: 0.6246 - val_predictions_nuclei_acc: 0.9537 - val_predictions_counts_mean_squared_error: 4.9085 - val_predictions_counts_mean_absolute_error: 1.0276\n",
      "Epoch 20/250\n",
      " - 317s - loss: 4.5733 - predictions_nuclei_loss: 0.1297 - predictions_counts_loss: 4.4436 - predictions_nuclei_my_accuracy_score: 0.6332 - predictions_nuclei_acc: 0.9572 - predictions_counts_mean_squared_error: 4.4436 - predictions_counts_mean_absolute_error: 0.9307 - val_loss: 5.3145 - val_predictions_nuclei_loss: 0.1589 - val_predictions_counts_loss: 5.1556 - val_predictions_nuclei_my_accuracy_score: 0.6159 - val_predictions_nuclei_acc: 0.9533 - val_predictions_counts_mean_squared_error: 5.1556 - val_predictions_counts_mean_absolute_error: 1.0168\n",
      "Epoch 21/250\n",
      " - 317s - loss: 4.4931 - predictions_nuclei_loss: 0.1274 - predictions_counts_loss: 4.3657 - predictions_nuclei_my_accuracy_score: 0.6404 - predictions_nuclei_acc: 0.9576 - predictions_counts_mean_squared_error: 4.3657 - predictions_counts_mean_absolute_error: 0.9181 - val_loss: 5.1022 - val_predictions_nuclei_loss: 0.1563 - val_predictions_counts_loss: 4.9459 - val_predictions_nuclei_my_accuracy_score: 0.6304 - val_predictions_nuclei_acc: 0.9545 - val_predictions_counts_mean_squared_error: 4.9459 - val_predictions_counts_mean_absolute_error: 0.9486\n",
      "Epoch 22/250\n",
      " - 317s - loss: 4.4043 - predictions_nuclei_loss: 0.1242 - predictions_counts_loss: 4.2801 - predictions_nuclei_my_accuracy_score: 0.6454 - predictions_nuclei_acc: 0.9582 - predictions_counts_mean_squared_error: 4.2801 - predictions_counts_mean_absolute_error: 0.9089 - val_loss: 5.0675 - val_predictions_nuclei_loss: 0.1581 - val_predictions_counts_loss: 4.9094 - val_predictions_nuclei_my_accuracy_score: 0.6255 - val_predictions_nuclei_acc: 0.9543 - val_predictions_counts_mean_squared_error: 4.9094 - val_predictions_counts_mean_absolute_error: 0.9554\n",
      "Epoch 23/250\n",
      " - 317s - loss: 4.3480 - predictions_nuclei_loss: 0.1216 - predictions_counts_loss: 4.2264 - predictions_nuclei_my_accuracy_score: 0.6482 - predictions_nuclei_acc: 0.9589 - predictions_counts_mean_squared_error: 4.2264 - predictions_counts_mean_absolute_error: 0.9028 - val_loss: 5.0905 - val_predictions_nuclei_loss: 0.1610 - val_predictions_counts_loss: 4.9296 - val_predictions_nuclei_my_accuracy_score: 0.6318 - val_predictions_nuclei_acc: 0.9528 - val_predictions_counts_mean_squared_error: 4.9296 - val_predictions_counts_mean_absolute_error: 0.9590\n",
      "Epoch 24/250\n",
      " - 317s - loss: 4.1513 - predictions_nuclei_loss: 0.1168 - predictions_counts_loss: 4.0345 - predictions_nuclei_my_accuracy_score: 0.6589 - predictions_nuclei_acc: 0.9599 - predictions_counts_mean_squared_error: 4.0345 - predictions_counts_mean_absolute_error: 0.8811 - val_loss: 5.1354 - val_predictions_nuclei_loss: 0.1628 - val_predictions_counts_loss: 4.9726 - val_predictions_nuclei_my_accuracy_score: 0.6299 - val_predictions_nuclei_acc: 0.9534 - val_predictions_counts_mean_squared_error: 4.9726 - val_predictions_counts_mean_absolute_error: 0.9702\n"
     ]
    }
   ],
   "source": [
    "gerador_treino = EspectraSequence(X_train, [x[0] for x in y_train], [x[1] for x in y_train], batch_size=batch_size)\n",
    "#gerador_imagens(X_train, y_train, batch_size=batch_size)\n",
    "\n",
    "gerador_validacao = EspectraSequence(X_test, [x[0] for x in y_test], [x[1] for x in y_test], batch_size=batch_size)\n",
    "#gerador_imagens(X_test, y_test, batch_size=batch_size)\n",
    "\n",
    "es = keras.callbacks.EarlyStopping(monitor='val_loss',\n",
    "                                   mode='min',\n",
    "                                   patience=5)\n",
    "\n",
    "lrate = LearningRateScheduler(step_decay)\n",
    "\n",
    "tb = keras.callbacks.TensorBoard(\n",
    "    log_dir='./logsv3_atividade',\n",
    "    histogram_freq=0,\n",
    "    #batch_size=32,\n",
    "    write_graph=True,\n",
    "    #batch_gen=gerador_validacao,\n",
    "    #nb_steps=validation_steps,\n",
    "    update_freq='epoch')\n",
    "\n",
    "callbacks = [es, tb, model_checkpoint_callback]#, lrate]\n",
    "\n",
    "hist = model.fit_generator(generator=gerador_treino,\n",
    "                           steps_per_epoch=steps_per_epoch,\n",
    "                           epochs=epochs,\n",
    "                           verbose=2,\n",
    "                           callbacks=callbacks,\n",
    "                           validation_data=gerador_validacao, #(x_train_val, y_train_val),\n",
    "                           validation_steps=validation_steps,\n",
    "                           shuffle=True)\n"
   ]
  },
  {
   "cell_type": "code",
   "execution_count": 103,
   "metadata": {},
   "outputs": [
    {
     "data": {
      "text/plain": [
       "2"
      ]
     },
     "execution_count": 103,
     "metadata": {},
     "output_type": "execute_result"
    }
   ],
   "source": [
    "1+1"
   ]
  },
  {
   "cell_type": "code",
   "execution_count": 45,
   "metadata": {},
   "outputs": [],
   "source": [
    "save_model(model, 'VGG-19-Adam-classificacao-regressao-PENELOPE-v3_atividade_last_epoch.hdf5')"
   ]
  },
  {
   "cell_type": "code",
   "execution_count": 104,
   "metadata": {},
   "outputs": [],
   "source": [
    "model = load_model('VGG-19-Adam-classificacao-regressao-PENELOPE-v3_atividade_last_epoch.hdf5',\n",
    "                  custom_objects={'my_accuracy_score': my_accuracy_score})"
   ]
  },
  {
   "cell_type": "code",
   "execution_count": 47,
   "metadata": {},
   "outputs": [
    {
     "data": {
      "image/png": "[encoded data removed]",
      "text/plain": [
       "<Figure size 432x288 with 1 Axes>"
      ]
     },
     "metadata": {},
     "output_type": "display_data"
    }
   ],
   "source": [
    "plt.plot(hist.history['predictions_nuclei_my_accuracy_score'])\n",
    "plt.plot(hist.history['val_predictions_nuclei_my_accuracy_score'])\n",
    "plt.title('model accuracy')\n",
    "plt.ylabel('accuracy')\n",
    "plt.xlabel('epoch')\n",
    "plt.legend(['train', 'test'], loc='upper left')\n",
    "plt.show()"
   ]
  },
  {
   "cell_type": "code",
   "execution_count": 48,
   "metadata": {},
   "outputs": [
    {
     "data": {
      "image/png": "[encoded data removed]",
      "text/plain": [
       "<Figure size 432x288 with 1 Axes>"
      ]
     },
     "metadata": {},
     "output_type": "display_data"
    }
   ],
   "source": [
    "plt.plot(hist.history['predictions_counts_mean_squared_error'])\n",
    "plt.plot(hist.history['val_predictions_counts_mean_squared_error'])\n",
    "plt.title('model accuracy')\n",
    "plt.ylabel('coutns mean square error')\n",
    "plt.xlabel('epoch')\n",
    "plt.legend(['train', 'test'], loc='upper right')\n",
    "plt.show()"
   ]
  },
  {
   "cell_type": "code",
   "execution_count": 49,
   "metadata": {},
   "outputs": [
    {
     "data": {
      "image/png": "[encoded data removed]",
      "text/plain": [
       "<Figure size 432x288 with 1 Axes>"
      ]
     },
     "metadata": {},
     "output_type": "display_data"
    }
   ],
   "source": [
    "plt.plot(hist.history['loss'])\n",
    "plt.plot(hist.history['val_loss'])\n",
    "plt.title('model overall loss')\n",
    "plt.ylabel('loss')\n",
    "plt.xlabel('epoch')\n",
    "plt.legend(['train', 'test'], loc='upper right')\n",
    "plt.show()"
   ]
  },
  {
   "cell_type": "code",
   "execution_count": 50,
   "metadata": {},
   "outputs": [
    {
     "data": {
      "image/png": "[encoded data removed]",
      "text/plain": [
       "<Figure size 432x288 with 1 Axes>"
      ]
     },
     "metadata": {},
     "output_type": "display_data"
    }
   ],
   "source": [
    "plt.plot(hist.history['predictions_nuclei_loss'])\n",
    "plt.plot(hist.history['val_predictions_nuclei_loss'])\n",
    "plt.title('model loss')\n",
    "plt.ylabel('loss')\n",
    "plt.xlabel('epoch')\n",
    "plt.legend(['train', 'test'], loc='upper right')\n",
    "plt.show()"
   ]
  },
  {
   "cell_type": "markdown",
   "metadata": {},
   "source": [
    "## Fine Tunning das partes finais"
   ]
  },
  {
   "cell_type": "code",
   "execution_count": null,
   "metadata": {},
   "outputs": [],
   "source": []
  },
  {
   "cell_type": "markdown",
   "metadata": {},
   "source": [
    "# Validando nos espectros criados com Penelope"
   ]
  },
  {
   "cell_type": "code",
   "execution_count": 51,
   "metadata": {},
   "outputs": [],
   "source": [
    "from keras.utils.vis_utils import plot_model"
   ]
  },
  {
   "cell_type": "code",
   "execution_count": 52,
   "metadata": {},
   "outputs": [],
   "source": [
    "#plot_model(model, to_file='model_plot.png', show_shapes=True, show_layer_names=True)"
   ]
  },
  {
   "cell_type": "code",
   "execution_count": 53,
   "metadata": {},
   "outputs": [
    {
     "name": "stdout",
     "output_type": "stream",
     "text": [
      "280\n"
     ]
    },
    {
     "data": {
      "image/png": "[encoded data removed]",
      "text/plain": [
       "<Figure size 1224x122.4 with 2 Axes>"
      ]
     },
     "metadata": {},
     "output_type": "display_data"
    }
   ],
   "source": [
    "gerador_validacao = EspectraSequence(X_test, [x[0] for x in y_test], [x[1] for x in y_test], batch_size=1)\n",
    "idx_ = np.random.choice(len(gerador_validacao) - 1, 1)[0]\n",
    "print(idx_)\n",
    "x_, aux_ = gerador_validacao[idx_]\n",
    "\n",
    "y_counts = aux_['predictions_counts']\n",
    "y_ = aux_['predictions_nuclei']\n",
    "\n",
    "idx = 0\n",
    "f, axarr = plt.subplots(1, 2, figsize=(17, 1.7))\n",
    "axarr[0].plot(range(len(x_[idx].reshape(-1))),\n",
    "              x_[idx].reshape(-1), 'r')\n",
    "axarr[0].set_yscale(\"log\")\n",
    "\n",
    "axarr[0].set_title(\" with \".join(binarizer.inverse_transform(np.array([y_[idx]]))[0]))\n",
    "axarr[1].imshow(x_[0].reshape((128,128)))\n",
    "\n",
    "plt.grid(False)\n",
    "plt.subplots_adjust(bottom=1.25, top=2.75)\n",
    "plt.show()"
   ]
  },
  {
   "cell_type": "code",
   "execution_count": 54,
   "metadata": {},
   "outputs": [],
   "source": [
    "preds = model.predict(np.array([x_[idx].reshape((128, 128, 1))]))"
   ]
  },
  {
   "cell_type": "code",
   "execution_count": 55,
   "metadata": {},
   "outputs": [
    {
     "data": {
      "text/html": [
       "<div>\n",
       "<style scoped>\n",
       "    .dataframe tbody tr th:only-of-type {\n",
       "        vertical-align: middle;\n",
       "    }\n",
       "\n",
       "    .dataframe tbody tr th {\n",
       "        vertical-align: top;\n",
       "    }\n",
       "\n",
       "    .dataframe thead th {\n",
       "        text-align: right;\n",
       "    }\n",
       "</style>\n",
       "<table border=\"1\" class=\"dataframe\">\n",
       "  <thead>\n",
       "    <tr style=\"text-align: right;\">\n",
       "      <th></th>\n",
       "      <th>radionuclideo</th>\n",
       "      <th>nuclei_score</th>\n",
       "      <th>nuclei_counts</th>\n",
       "      <th>real_counts</th>\n",
       "    </tr>\n",
       "  </thead>\n",
       "  <tbody>\n",
       "    <tr>\n",
       "      <th>0</th>\n",
       "      <td>Am-241</td>\n",
       "      <td>10.53</td>\n",
       "      <td>1.77</td>\n",
       "      <td>0.00</td>\n",
       "    </tr>\n",
       "    <tr>\n",
       "      <th>1</th>\n",
       "      <td>Ba-133</td>\n",
       "      <td>10.52</td>\n",
       "      <td>2.93</td>\n",
       "      <td>0.00</td>\n",
       "    </tr>\n",
       "    <tr>\n",
       "      <th>2</th>\n",
       "      <td>Cd-109</td>\n",
       "      <td>4.09</td>\n",
       "      <td>-0.57</td>\n",
       "      <td>0.00</td>\n",
       "    </tr>\n",
       "    <tr>\n",
       "      <th>3</th>\n",
       "      <td>Co-57</td>\n",
       "      <td>5.04</td>\n",
       "      <td>0.88</td>\n",
       "      <td>0.00</td>\n",
       "    </tr>\n",
       "    <tr>\n",
       "      <th>4</th>\n",
       "      <td>Co-60</td>\n",
       "      <td>99.99</td>\n",
       "      <td>1,406,901,120.00</td>\n",
       "      <td>3,000,000,000.00</td>\n",
       "    </tr>\n",
       "    <tr>\n",
       "      <th>5</th>\n",
       "      <td>Cs-137</td>\n",
       "      <td>3.49</td>\n",
       "      <td>-0.07</td>\n",
       "      <td>0.00</td>\n",
       "    </tr>\n",
       "    <tr>\n",
       "      <th>6</th>\n",
       "      <td>Eu-152</td>\n",
       "      <td>6.77</td>\n",
       "      <td>1.43</td>\n",
       "      <td>1,000,000.00</td>\n",
       "    </tr>\n",
       "    <tr>\n",
       "      <th>7</th>\n",
       "      <td>Mn-54</td>\n",
       "      <td>8.06</td>\n",
       "      <td>0.59</td>\n",
       "      <td>0.00</td>\n",
       "    </tr>\n",
       "    <tr>\n",
       "      <th>8</th>\n",
       "      <td>Na-22</td>\n",
       "      <td>98.43</td>\n",
       "      <td>2,287,608.00</td>\n",
       "      <td>3,000,000.00</td>\n",
       "    </tr>\n",
       "    <tr>\n",
       "      <th>9</th>\n",
       "      <td>Pb-210</td>\n",
       "      <td>5.46</td>\n",
       "      <td>0.33</td>\n",
       "      <td>0.00</td>\n",
       "    </tr>\n",
       "  </tbody>\n",
       "</table>\n",
       "</div>"
      ],
      "text/plain": [
       "  radionuclideo  nuclei_score    nuclei_counts      real_counts\n",
       "0        Am-241         10.53             1.77             0.00\n",
       "1        Ba-133         10.52             2.93             0.00\n",
       "2        Cd-109          4.09            -0.57             0.00\n",
       "3         Co-57          5.04             0.88             0.00\n",
       "4         Co-60         99.99 1,406,901,120.00 3,000,000,000.00\n",
       "5        Cs-137          3.49            -0.07             0.00\n",
       "6        Eu-152          6.77             1.43     1,000,000.00\n",
       "7         Mn-54          8.06             0.59             0.00\n",
       "8         Na-22         98.43     2,287,608.00     3,000,000.00\n",
       "9        Pb-210          5.46             0.33             0.00"
      ]
     },
     "execution_count": 55,
     "metadata": {},
     "output_type": "execute_result"
    }
   ],
   "source": [
    "df = pd.DataFrame({'radionuclideo':binarizer.classes_,\n",
    "                   'nuclei_score': preds[0][0]*100,\n",
    "                   #'nuclei_counts': scaler.inverse_transform(preds[1][0]),\n",
    "                   'nuclei_counts': np.exp(preds[1][0]) - 1,\n",
    "                   #'real_counts': scaler.inverse_transform(y_counts[idx])\n",
    "                   'real_counts': np.exp(y_counts[idx]) - 1\n",
    "                  })\n",
    "df"
   ]
  },
  {
   "cell_type": "code",
   "execution_count": 56,
   "metadata": {},
   "outputs": [],
   "source": [
    "# Criar uma massa de dados simulando com papel ao invés de água\n",
    "# Corrigir as contagens na entrada pela eficiência da similação\n",
    "# Re-treinar"
   ]
  },
  {
   "cell_type": "markdown",
   "metadata": {},
   "source": [
    "# Validando nos espectros experimentais"
   ]
  },
  {
   "cell_type": "code",
   "execution_count": 57,
   "metadata": {},
   "outputs": [],
   "source": [
    "def obtem_dados_dos_canais(linhas):\n",
    "    dados = []\n",
    "    pode_comecar = False\n",
    "    for linha in linhas:\n",
    "        if linha == \"A004USERDEFINED                                                     \\n\":\n",
    "            pode_comecar = True\n",
    "            continue\n",
    "        if pode_comecar:\n",
    "            aux = linha.strip().split()\n",
    "            if int(aux[1]) % 5:\n",
    "                print(\"oi!\")\n",
    "            dados.extend([float(x) for x in aux[2:]])\n",
    "    return dados[1:]"
   ]
  },
  {
   "cell_type": "code",
   "execution_count": 58,
   "metadata": {},
   "outputs": [
    {
     "name": "stdout",
     "output_type": "stream",
     "text": [
      "Am-241 - BG.IEC\n",
      "Ba-133 - BG.IEC\n",
      "Cd-109 - BG.IEC\n",
      "Co-57 - BG.IEC\n",
      "Co-60 - BG.IEC\n",
      "Cs-137 - BG.IEC\n",
      "Eu-152 - BG.IEC\n",
      "Mn-54 - BG.IEC\n",
      "Na-22 - BG.IEC\n",
      "Pb-210 - BG.IEC\n"
     ]
    }
   ],
   "source": [
    "arquivos = ['Am-241 - BG.IEC',\n",
    "            'Ba-133 - BG.IEC',\n",
    "            'Cd-109 - BG.IEC',\n",
    "            'Co-57 - BG.IEC',\n",
    "            'Co-60 - BG.IEC',\n",
    "            'Cs-137 - BG.IEC',\n",
    "            'Eu-152 - BG.IEC',\n",
    "            'Mn-54 - BG.IEC',\n",
    "            'Na-22 - BG.IEC',\n",
    "            'Pb-210 - BG.IEC',]\n",
    "\n",
    "df_nuclideos = dict()\n",
    "img_espectros = dict()\n",
    "img_convertidos = dict()\n",
    "images = dict()\n",
    "\n",
    "for arquivo in arquivos:\n",
    "    print(arquivo)\n",
    "    dados = []\n",
    "\n",
    "    with open('/export/ipen/artigo/ICDA-3/Espectros/Experimentos/17-Maio-2018/Espectros/{0}'.format(arquivo), 'r') as f:\n",
    "        dados = f.readlines()\n",
    "    dados = obtem_dados_dos_canais(dados)\n",
    "    df = pd.DataFrame({'channel': range(0, len(dados)), 'counts' : dados})\n",
    "    df_nuclideos[arquivo] = df.copy()\n",
    "    img_convertidos[arquivo] = np.array(dados).reshape((128, 128)).copy()\n",
    "    images[arquivo.split(' ')[0]] = np.array(dados).reshape((128, 128)).copy()"
   ]
  },
  {
   "cell_type": "code",
   "execution_count": 59,
   "metadata": {},
   "outputs": [
    {
     "data": {
      "image/png": "[encoded data removed]",
      "text/plain": [
       "<Figure size 1080x1800 with 20 Axes>"
      ]
     },
     "metadata": {},
     "output_type": "display_data"
    }
   ],
   "source": [
    "f, axarr = plt.subplots(10, 2, figsize=(15,25))\n",
    "for n, arquivo in enumerate(arquivos):\n",
    "    df = df_nuclideos[arquivo]\n",
    "    axarr[n, 0].plot(df['channel'], df['counts'], 'r')\n",
    "    axarr[n, 0].set_title(\"Espectro : {0}\".format(arquivo))\n",
    "    \n",
    "    axarr[n, 1].imshow(img_convertidos[arquivo])\n",
    "    #axarr[n, 1].set_title(\"Como Imagem : {0}\".format(arquivo))\n",
    "    \n",
    "plt.grid(False)\n",
    "plt.subplots_adjust(bottom=1.25, top=2.75)\n",
    "plt.show()"
   ]
  },
  {
   "cell_type": "code",
   "execution_count": 60,
   "metadata": {},
   "outputs": [
    {
     "data": {
      "text/html": [
       "<div>\n",
       "<style scoped>\n",
       "    .dataframe tbody tr th:only-of-type {\n",
       "        vertical-align: middle;\n",
       "    }\n",
       "\n",
       "    .dataframe tbody tr th {\n",
       "        vertical-align: top;\n",
       "    }\n",
       "\n",
       "    .dataframe thead th {\n",
       "        text-align: right;\n",
       "    }\n",
       "</style>\n",
       "<table border=\"1\" class=\"dataframe\">\n",
       "  <thead>\n",
       "    <tr style=\"text-align: right;\">\n",
       "      <th></th>\n",
       "      <th>radionuclideo</th>\n",
       "      <th>nuclei_score</th>\n",
       "      <th>nuclei_counts</th>\n",
       "      <th>real_counts</th>\n",
       "    </tr>\n",
       "  </thead>\n",
       "  <tbody>\n",
       "    <tr>\n",
       "      <th>0</th>\n",
       "      <td>Am-241</td>\n",
       "      <td>99.82</td>\n",
       "      <td>528,724.44</td>\n",
       "      <td>141,596.00</td>\n",
       "    </tr>\n",
       "    <tr>\n",
       "      <th>1</th>\n",
       "      <td>Ba-133</td>\n",
       "      <td>0.00</td>\n",
       "      <td>0.48</td>\n",
       "      <td>141,596.00</td>\n",
       "    </tr>\n",
       "    <tr>\n",
       "      <th>2</th>\n",
       "      <td>Cd-109</td>\n",
       "      <td>0.15</td>\n",
       "      <td>-0.00</td>\n",
       "      <td>141,596.00</td>\n",
       "    </tr>\n",
       "    <tr>\n",
       "      <th>3</th>\n",
       "      <td>Co-57</td>\n",
       "      <td>0.05</td>\n",
       "      <td>0.25</td>\n",
       "      <td>141,596.00</td>\n",
       "    </tr>\n",
       "    <tr>\n",
       "      <th>4</th>\n",
       "      <td>Co-60</td>\n",
       "      <td>0.00</td>\n",
       "      <td>0.04</td>\n",
       "      <td>141,596.00</td>\n",
       "    </tr>\n",
       "    <tr>\n",
       "      <th>5</th>\n",
       "      <td>Cs-137</td>\n",
       "      <td>0.00</td>\n",
       "      <td>0.38</td>\n",
       "      <td>141,596.00</td>\n",
       "    </tr>\n",
       "    <tr>\n",
       "      <th>6</th>\n",
       "      <td>Eu-152</td>\n",
       "      <td>0.00</td>\n",
       "      <td>0.03</td>\n",
       "      <td>141,596.00</td>\n",
       "    </tr>\n",
       "    <tr>\n",
       "      <th>7</th>\n",
       "      <td>Mn-54</td>\n",
       "      <td>0.17</td>\n",
       "      <td>-0.01</td>\n",
       "      <td>141,596.00</td>\n",
       "    </tr>\n",
       "    <tr>\n",
       "      <th>8</th>\n",
       "      <td>Na-22</td>\n",
       "      <td>0.26</td>\n",
       "      <td>0.90</td>\n",
       "      <td>141,596.00</td>\n",
       "    </tr>\n",
       "    <tr>\n",
       "      <th>9</th>\n",
       "      <td>Pb-210</td>\n",
       "      <td>0.30</td>\n",
       "      <td>1.02</td>\n",
       "      <td>141,596.00</td>\n",
       "    </tr>\n",
       "  </tbody>\n",
       "</table>\n",
       "</div>"
      ],
      "text/plain": [
       "  radionuclideo  nuclei_score  nuclei_counts  real_counts\n",
       "0        Am-241         99.82     528,724.44   141,596.00\n",
       "1        Ba-133          0.00           0.48   141,596.00\n",
       "2        Cd-109          0.15          -0.00   141,596.00\n",
       "3         Co-57          0.05           0.25   141,596.00\n",
       "4         Co-60          0.00           0.04   141,596.00\n",
       "5        Cs-137          0.00           0.38   141,596.00\n",
       "6        Eu-152          0.00           0.03   141,596.00\n",
       "7         Mn-54          0.17          -0.01   141,596.00\n",
       "8         Na-22          0.26           0.90   141,596.00\n",
       "9        Pb-210          0.30           1.02   141,596.00"
      ]
     },
     "execution_count": 60,
     "metadata": {},
     "output_type": "execute_result"
    }
   ],
   "source": [
    "preds = model.predict(np.array([images['Am-241'].reshape((128, 128, 1))]))\n",
    "\n",
    "df = pd.DataFrame({'radionuclideo':binarizer.classes_,\n",
    "                   'nuclei_score': preds[0][0]*100,\n",
    "                   'nuclei_counts': np.exp(preds[1][0]) - 1,\n",
    "                   'real_counts': np.sum(images['Am-241'])})\n",
    "df"
   ]
  },
  {
   "cell_type": "code",
   "execution_count": 61,
   "metadata": {},
   "outputs": [
    {
     "data": {
      "text/html": [
       "<div>\n",
       "<style scoped>\n",
       "    .dataframe tbody tr th:only-of-type {\n",
       "        vertical-align: middle;\n",
       "    }\n",
       "\n",
       "    .dataframe tbody tr th {\n",
       "        vertical-align: top;\n",
       "    }\n",
       "\n",
       "    .dataframe thead th {\n",
       "        text-align: right;\n",
       "    }\n",
       "</style>\n",
       "<table border=\"1\" class=\"dataframe\">\n",
       "  <thead>\n",
       "    <tr style=\"text-align: right;\">\n",
       "      <th></th>\n",
       "      <th>radionuclideo</th>\n",
       "      <th>nuclei_score</th>\n",
       "      <th>nuclei_counts</th>\n",
       "      <th>real_counts</th>\n",
       "    </tr>\n",
       "  </thead>\n",
       "  <tbody>\n",
       "    <tr>\n",
       "      <th>0</th>\n",
       "      <td>Am-241</td>\n",
       "      <td>0.01</td>\n",
       "      <td>1.04</td>\n",
       "      <td>35,319.00</td>\n",
       "    </tr>\n",
       "    <tr>\n",
       "      <th>1</th>\n",
       "      <td>Ba-133</td>\n",
       "      <td>99.96</td>\n",
       "      <td>43,294.89</td>\n",
       "      <td>35,319.00</td>\n",
       "    </tr>\n",
       "    <tr>\n",
       "      <th>2</th>\n",
       "      <td>Cd-109</td>\n",
       "      <td>0.04</td>\n",
       "      <td>1.33</td>\n",
       "      <td>35,319.00</td>\n",
       "    </tr>\n",
       "    <tr>\n",
       "      <th>3</th>\n",
       "      <td>Co-57</td>\n",
       "      <td>0.00</td>\n",
       "      <td>0.95</td>\n",
       "      <td>35,319.00</td>\n",
       "    </tr>\n",
       "    <tr>\n",
       "      <th>4</th>\n",
       "      <td>Co-60</td>\n",
       "      <td>0.00</td>\n",
       "      <td>0.96</td>\n",
       "      <td>35,319.00</td>\n",
       "    </tr>\n",
       "    <tr>\n",
       "      <th>5</th>\n",
       "      <td>Cs-137</td>\n",
       "      <td>0.00</td>\n",
       "      <td>1.11</td>\n",
       "      <td>35,319.00</td>\n",
       "    </tr>\n",
       "    <tr>\n",
       "      <th>6</th>\n",
       "      <td>Eu-152</td>\n",
       "      <td>0.00</td>\n",
       "      <td>0.96</td>\n",
       "      <td>35,319.00</td>\n",
       "    </tr>\n",
       "    <tr>\n",
       "      <th>7</th>\n",
       "      <td>Mn-54</td>\n",
       "      <td>0.00</td>\n",
       "      <td>0.75</td>\n",
       "      <td>35,319.00</td>\n",
       "    </tr>\n",
       "    <tr>\n",
       "      <th>8</th>\n",
       "      <td>Na-22</td>\n",
       "      <td>0.00</td>\n",
       "      <td>0.90</td>\n",
       "      <td>35,319.00</td>\n",
       "    </tr>\n",
       "    <tr>\n",
       "      <th>9</th>\n",
       "      <td>Pb-210</td>\n",
       "      <td>0.01</td>\n",
       "      <td>0.89</td>\n",
       "      <td>35,319.00</td>\n",
       "    </tr>\n",
       "  </tbody>\n",
       "</table>\n",
       "</div>"
      ],
      "text/plain": [
       "  radionuclideo  nuclei_score  nuclei_counts  real_counts\n",
       "0        Am-241          0.01           1.04    35,319.00\n",
       "1        Ba-133         99.96      43,294.89    35,319.00\n",
       "2        Cd-109          0.04           1.33    35,319.00\n",
       "3         Co-57          0.00           0.95    35,319.00\n",
       "4         Co-60          0.00           0.96    35,319.00\n",
       "5        Cs-137          0.00           1.11    35,319.00\n",
       "6        Eu-152          0.00           0.96    35,319.00\n",
       "7         Mn-54          0.00           0.75    35,319.00\n",
       "8         Na-22          0.00           0.90    35,319.00\n",
       "9        Pb-210          0.01           0.89    35,319.00"
      ]
     },
     "execution_count": 61,
     "metadata": {},
     "output_type": "execute_result"
    }
   ],
   "source": [
    "validation_nuclei = 'Ba-133'\n",
    "preds = model.predict(np.array([images[validation_nuclei].reshape((128, 128, 1))]))\n",
    "\n",
    "df = pd.DataFrame({'radionuclideo':binarizer.classes_,\n",
    "                   'nuclei_score': preds[0][0]*100,\n",
    "                   'nuclei_counts': np.exp(preds[1][0]),\n",
    "                   'real_counts': np.sum(images[validation_nuclei])})\n",
    "df"
   ]
  },
  {
   "cell_type": "code",
   "execution_count": 62,
   "metadata": {},
   "outputs": [
    {
     "data": {
      "text/html": [
       "<div>\n",
       "<style scoped>\n",
       "    .dataframe tbody tr th:only-of-type {\n",
       "        vertical-align: middle;\n",
       "    }\n",
       "\n",
       "    .dataframe tbody tr th {\n",
       "        vertical-align: top;\n",
       "    }\n",
       "\n",
       "    .dataframe thead th {\n",
       "        text-align: right;\n",
       "    }\n",
       "</style>\n",
       "<table border=\"1\" class=\"dataframe\">\n",
       "  <thead>\n",
       "    <tr style=\"text-align: right;\">\n",
       "      <th></th>\n",
       "      <th>radionuclideo</th>\n",
       "      <th>nuclei_score</th>\n",
       "      <th>nuclei_counts</th>\n",
       "      <th>real_counts</th>\n",
       "    </tr>\n",
       "  </thead>\n",
       "  <tbody>\n",
       "    <tr>\n",
       "      <th>0</th>\n",
       "      <td>Am-241</td>\n",
       "      <td>0.17</td>\n",
       "      <td>1.48</td>\n",
       "      <td>7,195.00</td>\n",
       "    </tr>\n",
       "    <tr>\n",
       "      <th>1</th>\n",
       "      <td>Ba-133</td>\n",
       "      <td>0.02</td>\n",
       "      <td>1.48</td>\n",
       "      <td>7,195.00</td>\n",
       "    </tr>\n",
       "    <tr>\n",
       "      <th>2</th>\n",
       "      <td>Cd-109</td>\n",
       "      <td>86.23</td>\n",
       "      <td>1,015.81</td>\n",
       "      <td>7,195.00</td>\n",
       "    </tr>\n",
       "    <tr>\n",
       "      <th>3</th>\n",
       "      <td>Co-57</td>\n",
       "      <td>0.06</td>\n",
       "      <td>0.84</td>\n",
       "      <td>7,195.00</td>\n",
       "    </tr>\n",
       "    <tr>\n",
       "      <th>4</th>\n",
       "      <td>Co-60</td>\n",
       "      <td>0.00</td>\n",
       "      <td>1.10</td>\n",
       "      <td>7,195.00</td>\n",
       "    </tr>\n",
       "    <tr>\n",
       "      <th>5</th>\n",
       "      <td>Cs-137</td>\n",
       "      <td>0.01</td>\n",
       "      <td>1.03</td>\n",
       "      <td>7,195.00</td>\n",
       "    </tr>\n",
       "    <tr>\n",
       "      <th>6</th>\n",
       "      <td>Eu-152</td>\n",
       "      <td>0.00</td>\n",
       "      <td>1.18</td>\n",
       "      <td>7,195.00</td>\n",
       "    </tr>\n",
       "    <tr>\n",
       "      <th>7</th>\n",
       "      <td>Mn-54</td>\n",
       "      <td>0.01</td>\n",
       "      <td>0.83</td>\n",
       "      <td>7,195.00</td>\n",
       "    </tr>\n",
       "    <tr>\n",
       "      <th>8</th>\n",
       "      <td>Na-22</td>\n",
       "      <td>0.03</td>\n",
       "      <td>1.27</td>\n",
       "      <td>7,195.00</td>\n",
       "    </tr>\n",
       "    <tr>\n",
       "      <th>9</th>\n",
       "      <td>Pb-210</td>\n",
       "      <td>2.62</td>\n",
       "      <td>2.16</td>\n",
       "      <td>7,195.00</td>\n",
       "    </tr>\n",
       "  </tbody>\n",
       "</table>\n",
       "</div>"
      ],
      "text/plain": [
       "  radionuclideo  nuclei_score  nuclei_counts  real_counts\n",
       "0        Am-241          0.17           1.48     7,195.00\n",
       "1        Ba-133          0.02           1.48     7,195.00\n",
       "2        Cd-109         86.23       1,015.81     7,195.00\n",
       "3         Co-57          0.06           0.84     7,195.00\n",
       "4         Co-60          0.00           1.10     7,195.00\n",
       "5        Cs-137          0.01           1.03     7,195.00\n",
       "6        Eu-152          0.00           1.18     7,195.00\n",
       "7         Mn-54          0.01           0.83     7,195.00\n",
       "8         Na-22          0.03           1.27     7,195.00\n",
       "9        Pb-210          2.62           2.16     7,195.00"
      ]
     },
     "execution_count": 62,
     "metadata": {},
     "output_type": "execute_result"
    }
   ],
   "source": [
    "validation_nuclei = 'Cd-109'\n",
    "preds = model.predict(np.array([images[validation_nuclei].reshape((128, 128, 1))]))\n",
    "\n",
    "df = pd.DataFrame({'radionuclideo':binarizer.classes_,\n",
    "                   'nuclei_score': preds[0][0]*100,\n",
    "                   'nuclei_counts': np.exp(preds[1][0]),\n",
    "                   'real_counts': np.sum(images[validation_nuclei])})\n",
    "df"
   ]
  },
  {
   "cell_type": "code",
   "execution_count": 63,
   "metadata": {},
   "outputs": [
    {
     "data": {
      "text/html": [
       "<div>\n",
       "<style scoped>\n",
       "    .dataframe tbody tr th:only-of-type {\n",
       "        vertical-align: middle;\n",
       "    }\n",
       "\n",
       "    .dataframe tbody tr th {\n",
       "        vertical-align: top;\n",
       "    }\n",
       "\n",
       "    .dataframe thead th {\n",
       "        text-align: right;\n",
       "    }\n",
       "</style>\n",
       "<table border=\"1\" class=\"dataframe\">\n",
       "  <thead>\n",
       "    <tr style=\"text-align: right;\">\n",
       "      <th></th>\n",
       "      <th>radionuclideo</th>\n",
       "      <th>nuclei_score</th>\n",
       "      <th>nuclei_counts</th>\n",
       "      <th>real_counts</th>\n",
       "    </tr>\n",
       "  </thead>\n",
       "  <tbody>\n",
       "    <tr>\n",
       "      <th>0</th>\n",
       "      <td>Am-241</td>\n",
       "      <td>2.64</td>\n",
       "      <td>1.18</td>\n",
       "      <td>7,323.00</td>\n",
       "    </tr>\n",
       "    <tr>\n",
       "      <th>1</th>\n",
       "      <td>Ba-133</td>\n",
       "      <td>0.71</td>\n",
       "      <td>1.45</td>\n",
       "      <td>7,323.00</td>\n",
       "    </tr>\n",
       "    <tr>\n",
       "      <th>2</th>\n",
       "      <td>Cd-109</td>\n",
       "      <td>1.17</td>\n",
       "      <td>0.93</td>\n",
       "      <td>7,323.00</td>\n",
       "    </tr>\n",
       "    <tr>\n",
       "      <th>3</th>\n",
       "      <td>Co-57</td>\n",
       "      <td>98.08</td>\n",
       "      <td>2,309.43</td>\n",
       "      <td>7,323.00</td>\n",
       "    </tr>\n",
       "    <tr>\n",
       "      <th>4</th>\n",
       "      <td>Co-60</td>\n",
       "      <td>0.00</td>\n",
       "      <td>1.14</td>\n",
       "      <td>7,323.00</td>\n",
       "    </tr>\n",
       "    <tr>\n",
       "      <th>5</th>\n",
       "      <td>Cs-137</td>\n",
       "      <td>0.16</td>\n",
       "      <td>1.24</td>\n",
       "      <td>7,323.00</td>\n",
       "    </tr>\n",
       "    <tr>\n",
       "      <th>6</th>\n",
       "      <td>Eu-152</td>\n",
       "      <td>0.00</td>\n",
       "      <td>1.12</td>\n",
       "      <td>7,323.00</td>\n",
       "    </tr>\n",
       "    <tr>\n",
       "      <th>7</th>\n",
       "      <td>Mn-54</td>\n",
       "      <td>0.38</td>\n",
       "      <td>1.35</td>\n",
       "      <td>7,323.00</td>\n",
       "    </tr>\n",
       "    <tr>\n",
       "      <th>8</th>\n",
       "      <td>Na-22</td>\n",
       "      <td>0.00</td>\n",
       "      <td>1.11</td>\n",
       "      <td>7,323.00</td>\n",
       "    </tr>\n",
       "    <tr>\n",
       "      <th>9</th>\n",
       "      <td>Pb-210</td>\n",
       "      <td>6.20</td>\n",
       "      <td>1.70</td>\n",
       "      <td>7,323.00</td>\n",
       "    </tr>\n",
       "  </tbody>\n",
       "</table>\n",
       "</div>"
      ],
      "text/plain": [
       "  radionuclideo  nuclei_score  nuclei_counts  real_counts\n",
       "0        Am-241          2.64           1.18     7,323.00\n",
       "1        Ba-133          0.71           1.45     7,323.00\n",
       "2        Cd-109          1.17           0.93     7,323.00\n",
       "3         Co-57         98.08       2,309.43     7,323.00\n",
       "4         Co-60          0.00           1.14     7,323.00\n",
       "5        Cs-137          0.16           1.24     7,323.00\n",
       "6        Eu-152          0.00           1.12     7,323.00\n",
       "7         Mn-54          0.38           1.35     7,323.00\n",
       "8         Na-22          0.00           1.11     7,323.00\n",
       "9        Pb-210          6.20           1.70     7,323.00"
      ]
     },
     "execution_count": 63,
     "metadata": {},
     "output_type": "execute_result"
    }
   ],
   "source": [
    "validation_nuclei = 'Co-57'\n",
    "preds = model.predict(np.array([images[validation_nuclei].reshape((128, 128, 1))]))\n",
    "\n",
    "df = pd.DataFrame({'radionuclideo':binarizer.classes_,\n",
    "                   'nuclei_score': preds[0][0]*100,\n",
    "                   'nuclei_counts': np.exp(preds[1][0]),\n",
    "                   'real_counts': np.sum(images[validation_nuclei])})\n",
    "df"
   ]
  },
  {
   "cell_type": "code",
   "execution_count": 64,
   "metadata": {},
   "outputs": [
    {
     "data": {
      "text/html": [
       "<div>\n",
       "<style scoped>\n",
       "    .dataframe tbody tr th:only-of-type {\n",
       "        vertical-align: middle;\n",
       "    }\n",
       "\n",
       "    .dataframe tbody tr th {\n",
       "        vertical-align: top;\n",
       "    }\n",
       "\n",
       "    .dataframe thead th {\n",
       "        text-align: right;\n",
       "    }\n",
       "</style>\n",
       "<table border=\"1\" class=\"dataframe\">\n",
       "  <thead>\n",
       "    <tr style=\"text-align: right;\">\n",
       "      <th></th>\n",
       "      <th>radionuclideo</th>\n",
       "      <th>nuclei_score</th>\n",
       "      <th>nuclei_counts</th>\n",
       "      <th>real_counts</th>\n",
       "    </tr>\n",
       "  </thead>\n",
       "  <tbody>\n",
       "    <tr>\n",
       "      <th>0</th>\n",
       "      <td>Am-241</td>\n",
       "      <td>0.55</td>\n",
       "      <td>0.95</td>\n",
       "      <td>155,643.00</td>\n",
       "    </tr>\n",
       "    <tr>\n",
       "      <th>1</th>\n",
       "      <td>Ba-133</td>\n",
       "      <td>0.25</td>\n",
       "      <td>1.27</td>\n",
       "      <td>155,643.00</td>\n",
       "    </tr>\n",
       "    <tr>\n",
       "      <th>2</th>\n",
       "      <td>Cd-109</td>\n",
       "      <td>7.35</td>\n",
       "      <td>1.53</td>\n",
       "      <td>155,643.00</td>\n",
       "    </tr>\n",
       "    <tr>\n",
       "      <th>3</th>\n",
       "      <td>Co-57</td>\n",
       "      <td>1.03</td>\n",
       "      <td>1.43</td>\n",
       "      <td>155,643.00</td>\n",
       "    </tr>\n",
       "    <tr>\n",
       "      <th>4</th>\n",
       "      <td>Co-60</td>\n",
       "      <td>100.00</td>\n",
       "      <td>1,520,216.88</td>\n",
       "      <td>155,643.00</td>\n",
       "    </tr>\n",
       "    <tr>\n",
       "      <th>5</th>\n",
       "      <td>Cs-137</td>\n",
       "      <td>0.14</td>\n",
       "      <td>0.95</td>\n",
       "      <td>155,643.00</td>\n",
       "    </tr>\n",
       "    <tr>\n",
       "      <th>6</th>\n",
       "      <td>Eu-152</td>\n",
       "      <td>0.62</td>\n",
       "      <td>1.01</td>\n",
       "      <td>155,643.00</td>\n",
       "    </tr>\n",
       "    <tr>\n",
       "      <th>7</th>\n",
       "      <td>Mn-54</td>\n",
       "      <td>0.66</td>\n",
       "      <td>1.02</td>\n",
       "      <td>155,643.00</td>\n",
       "    </tr>\n",
       "    <tr>\n",
       "      <th>8</th>\n",
       "      <td>Na-22</td>\n",
       "      <td>0.19</td>\n",
       "      <td>1.04</td>\n",
       "      <td>155,643.00</td>\n",
       "    </tr>\n",
       "    <tr>\n",
       "      <th>9</th>\n",
       "      <td>Pb-210</td>\n",
       "      <td>0.69</td>\n",
       "      <td>1.09</td>\n",
       "      <td>155,643.00</td>\n",
       "    </tr>\n",
       "  </tbody>\n",
       "</table>\n",
       "</div>"
      ],
      "text/plain": [
       "  radionuclideo  nuclei_score  nuclei_counts  real_counts\n",
       "0        Am-241          0.55           0.95   155,643.00\n",
       "1        Ba-133          0.25           1.27   155,643.00\n",
       "2        Cd-109          7.35           1.53   155,643.00\n",
       "3         Co-57          1.03           1.43   155,643.00\n",
       "4         Co-60        100.00   1,520,216.88   155,643.00\n",
       "5        Cs-137          0.14           0.95   155,643.00\n",
       "6        Eu-152          0.62           1.01   155,643.00\n",
       "7         Mn-54          0.66           1.02   155,643.00\n",
       "8         Na-22          0.19           1.04   155,643.00\n",
       "9        Pb-210          0.69           1.09   155,643.00"
      ]
     },
     "execution_count": 64,
     "metadata": {},
     "output_type": "execute_result"
    }
   ],
   "source": [
    "validation_nuclei = 'Co-60'\n",
    "preds = model.predict(np.array([images[validation_nuclei].reshape((128, 128, 1))]))\n",
    "\n",
    "df = pd.DataFrame({'radionuclideo':binarizer.classes_,\n",
    "                   'nuclei_score': preds[0][0]*100,\n",
    "                   'nuclei_counts': np.exp(preds[1][0]),\n",
    "                   'real_counts': np.sum(images[validation_nuclei])})\n",
    "df"
   ]
  },
  {
   "cell_type": "code",
   "execution_count": 65,
   "metadata": {},
   "outputs": [
    {
     "data": {
      "text/html": [
       "<div>\n",
       "<style scoped>\n",
       "    .dataframe tbody tr th:only-of-type {\n",
       "        vertical-align: middle;\n",
       "    }\n",
       "\n",
       "    .dataframe tbody tr th {\n",
       "        vertical-align: top;\n",
       "    }\n",
       "\n",
       "    .dataframe thead th {\n",
       "        text-align: right;\n",
       "    }\n",
       "</style>\n",
       "<table border=\"1\" class=\"dataframe\">\n",
       "  <thead>\n",
       "    <tr style=\"text-align: right;\">\n",
       "      <th></th>\n",
       "      <th>radionuclideo</th>\n",
       "      <th>nuclei_score</th>\n",
       "      <th>nuclei_counts</th>\n",
       "      <th>real_counts</th>\n",
       "    </tr>\n",
       "  </thead>\n",
       "  <tbody>\n",
       "    <tr>\n",
       "      <th>0</th>\n",
       "      <td>Am-241</td>\n",
       "      <td>0.01</td>\n",
       "      <td>0.92</td>\n",
       "      <td>188,461.00</td>\n",
       "    </tr>\n",
       "    <tr>\n",
       "      <th>1</th>\n",
       "      <td>Ba-133</td>\n",
       "      <td>0.00</td>\n",
       "      <td>1.03</td>\n",
       "      <td>188,461.00</td>\n",
       "    </tr>\n",
       "    <tr>\n",
       "      <th>2</th>\n",
       "      <td>Cd-109</td>\n",
       "      <td>0.01</td>\n",
       "      <td>0.86</td>\n",
       "      <td>188,461.00</td>\n",
       "    </tr>\n",
       "    <tr>\n",
       "      <th>3</th>\n",
       "      <td>Co-57</td>\n",
       "      <td>0.00</td>\n",
       "      <td>1.01</td>\n",
       "      <td>188,461.00</td>\n",
       "    </tr>\n",
       "    <tr>\n",
       "      <th>4</th>\n",
       "      <td>Co-60</td>\n",
       "      <td>0.00</td>\n",
       "      <td>1.04</td>\n",
       "      <td>188,461.00</td>\n",
       "    </tr>\n",
       "    <tr>\n",
       "      <th>5</th>\n",
       "      <td>Cs-137</td>\n",
       "      <td>99.99</td>\n",
       "      <td>459,320.81</td>\n",
       "      <td>188,461.00</td>\n",
       "    </tr>\n",
       "    <tr>\n",
       "      <th>6</th>\n",
       "      <td>Eu-152</td>\n",
       "      <td>0.00</td>\n",
       "      <td>1.09</td>\n",
       "      <td>188,461.00</td>\n",
       "    </tr>\n",
       "    <tr>\n",
       "      <th>7</th>\n",
       "      <td>Mn-54</td>\n",
       "      <td>0.00</td>\n",
       "      <td>1.04</td>\n",
       "      <td>188,461.00</td>\n",
       "    </tr>\n",
       "    <tr>\n",
       "      <th>8</th>\n",
       "      <td>Na-22</td>\n",
       "      <td>0.00</td>\n",
       "      <td>1.00</td>\n",
       "      <td>188,461.00</td>\n",
       "    </tr>\n",
       "    <tr>\n",
       "      <th>9</th>\n",
       "      <td>Pb-210</td>\n",
       "      <td>0.53</td>\n",
       "      <td>1.75</td>\n",
       "      <td>188,461.00</td>\n",
       "    </tr>\n",
       "  </tbody>\n",
       "</table>\n",
       "</div>"
      ],
      "text/plain": [
       "  radionuclideo  nuclei_score  nuclei_counts  real_counts\n",
       "0        Am-241          0.01           0.92   188,461.00\n",
       "1        Ba-133          0.00           1.03   188,461.00\n",
       "2        Cd-109          0.01           0.86   188,461.00\n",
       "3         Co-57          0.00           1.01   188,461.00\n",
       "4         Co-60          0.00           1.04   188,461.00\n",
       "5        Cs-137         99.99     459,320.81   188,461.00\n",
       "6        Eu-152          0.00           1.09   188,461.00\n",
       "7         Mn-54          0.00           1.04   188,461.00\n",
       "8         Na-22          0.00           1.00   188,461.00\n",
       "9        Pb-210          0.53           1.75   188,461.00"
      ]
     },
     "execution_count": 65,
     "metadata": {},
     "output_type": "execute_result"
    }
   ],
   "source": [
    "validation_nuclei = 'Cs-137'\n",
    "preds = model.predict(np.array([images[validation_nuclei].reshape((128, 128, 1))]))\n",
    "\n",
    "df = pd.DataFrame({'radionuclideo':binarizer.classes_,\n",
    "                   'nuclei_score': preds[0][0]*100,\n",
    "                   'nuclei_counts': np.exp(preds[1][0]),\n",
    "                   'real_counts': np.sum(images[validation_nuclei])})\n",
    "df"
   ]
  },
  {
   "cell_type": "code",
   "execution_count": 66,
   "metadata": {},
   "outputs": [
    {
     "data": {
      "text/html": [
       "<div>\n",
       "<style scoped>\n",
       "    .dataframe tbody tr th:only-of-type {\n",
       "        vertical-align: middle;\n",
       "    }\n",
       "\n",
       "    .dataframe tbody tr th {\n",
       "        vertical-align: top;\n",
       "    }\n",
       "\n",
       "    .dataframe thead th {\n",
       "        text-align: right;\n",
       "    }\n",
       "</style>\n",
       "<table border=\"1\" class=\"dataframe\">\n",
       "  <thead>\n",
       "    <tr style=\"text-align: right;\">\n",
       "      <th></th>\n",
       "      <th>radionuclideo</th>\n",
       "      <th>nuclei_score</th>\n",
       "      <th>nuclei_counts</th>\n",
       "      <th>real_counts</th>\n",
       "    </tr>\n",
       "  </thead>\n",
       "  <tbody>\n",
       "    <tr>\n",
       "      <th>0</th>\n",
       "      <td>Am-241</td>\n",
       "      <td>0.01</td>\n",
       "      <td>0.90</td>\n",
       "      <td>94,419.00</td>\n",
       "    </tr>\n",
       "    <tr>\n",
       "      <th>1</th>\n",
       "      <td>Ba-133</td>\n",
       "      <td>0.00</td>\n",
       "      <td>1.22</td>\n",
       "      <td>94,419.00</td>\n",
       "    </tr>\n",
       "    <tr>\n",
       "      <th>2</th>\n",
       "      <td>Cd-109</td>\n",
       "      <td>0.09</td>\n",
       "      <td>1.10</td>\n",
       "      <td>94,419.00</td>\n",
       "    </tr>\n",
       "    <tr>\n",
       "      <th>3</th>\n",
       "      <td>Co-57</td>\n",
       "      <td>0.01</td>\n",
       "      <td>0.65</td>\n",
       "      <td>94,419.00</td>\n",
       "    </tr>\n",
       "    <tr>\n",
       "      <th>4</th>\n",
       "      <td>Co-60</td>\n",
       "      <td>0.00</td>\n",
       "      <td>1.07</td>\n",
       "      <td>94,419.00</td>\n",
       "    </tr>\n",
       "    <tr>\n",
       "      <th>5</th>\n",
       "      <td>Cs-137</td>\n",
       "      <td>0.00</td>\n",
       "      <td>1.26</td>\n",
       "      <td>94,419.00</td>\n",
       "    </tr>\n",
       "    <tr>\n",
       "      <th>6</th>\n",
       "      <td>Eu-152</td>\n",
       "      <td>100.00</td>\n",
       "      <td>312,134.59</td>\n",
       "      <td>94,419.00</td>\n",
       "    </tr>\n",
       "    <tr>\n",
       "      <th>7</th>\n",
       "      <td>Mn-54</td>\n",
       "      <td>0.07</td>\n",
       "      <td>1.20</td>\n",
       "      <td>94,419.00</td>\n",
       "    </tr>\n",
       "    <tr>\n",
       "      <th>8</th>\n",
       "      <td>Na-22</td>\n",
       "      <td>0.01</td>\n",
       "      <td>1.10</td>\n",
       "      <td>94,419.00</td>\n",
       "    </tr>\n",
       "    <tr>\n",
       "      <th>9</th>\n",
       "      <td>Pb-210</td>\n",
       "      <td>0.03</td>\n",
       "      <td>1.70</td>\n",
       "      <td>94,419.00</td>\n",
       "    </tr>\n",
       "  </tbody>\n",
       "</table>\n",
       "</div>"
      ],
      "text/plain": [
       "  radionuclideo  nuclei_score  nuclei_counts  real_counts\n",
       "0        Am-241          0.01           0.90    94,419.00\n",
       "1        Ba-133          0.00           1.22    94,419.00\n",
       "2        Cd-109          0.09           1.10    94,419.00\n",
       "3         Co-57          0.01           0.65    94,419.00\n",
       "4         Co-60          0.00           1.07    94,419.00\n",
       "5        Cs-137          0.00           1.26    94,419.00\n",
       "6        Eu-152        100.00     312,134.59    94,419.00\n",
       "7         Mn-54          0.07           1.20    94,419.00\n",
       "8         Na-22          0.01           1.10    94,419.00\n",
       "9        Pb-210          0.03           1.70    94,419.00"
      ]
     },
     "execution_count": 66,
     "metadata": {},
     "output_type": "execute_result"
    }
   ],
   "source": [
    "validation_nuclei = 'Eu-152'\n",
    "preds = model.predict(np.array([images[validation_nuclei].reshape((128, 128, 1))]))\n",
    "\n",
    "df = pd.DataFrame({'radionuclideo':binarizer.classes_,\n",
    "                   'nuclei_score': preds[0][0]*100,\n",
    "                   'nuclei_counts': np.exp(preds[1][0]),\n",
    "                   'real_counts': np.sum(images[validation_nuclei])})\n",
    "df"
   ]
  },
  {
   "cell_type": "code",
   "execution_count": 67,
   "metadata": {},
   "outputs": [
    {
     "data": {
      "text/html": [
       "<div>\n",
       "<style scoped>\n",
       "    .dataframe tbody tr th:only-of-type {\n",
       "        vertical-align: middle;\n",
       "    }\n",
       "\n",
       "    .dataframe tbody tr th {\n",
       "        vertical-align: top;\n",
       "    }\n",
       "\n",
       "    .dataframe thead th {\n",
       "        text-align: right;\n",
       "    }\n",
       "</style>\n",
       "<table border=\"1\" class=\"dataframe\">\n",
       "  <thead>\n",
       "    <tr style=\"text-align: right;\">\n",
       "      <th></th>\n",
       "      <th>radionuclideo</th>\n",
       "      <th>nuclei_score</th>\n",
       "      <th>nuclei_counts</th>\n",
       "      <th>real_counts</th>\n",
       "    </tr>\n",
       "  </thead>\n",
       "  <tbody>\n",
       "    <tr>\n",
       "      <th>0</th>\n",
       "      <td>Am-241</td>\n",
       "      <td>0.27</td>\n",
       "      <td>0.85</td>\n",
       "      <td>7,159.00</td>\n",
       "    </tr>\n",
       "    <tr>\n",
       "      <th>1</th>\n",
       "      <td>Ba-133</td>\n",
       "      <td>0.05</td>\n",
       "      <td>0.92</td>\n",
       "      <td>7,159.00</td>\n",
       "    </tr>\n",
       "    <tr>\n",
       "      <th>2</th>\n",
       "      <td>Cd-109</td>\n",
       "      <td>0.38</td>\n",
       "      <td>1.75</td>\n",
       "      <td>7,159.00</td>\n",
       "    </tr>\n",
       "    <tr>\n",
       "      <th>3</th>\n",
       "      <td>Co-57</td>\n",
       "      <td>0.12</td>\n",
       "      <td>1.00</td>\n",
       "      <td>7,159.00</td>\n",
       "    </tr>\n",
       "    <tr>\n",
       "      <th>4</th>\n",
       "      <td>Co-60</td>\n",
       "      <td>0.35</td>\n",
       "      <td>1.28</td>\n",
       "      <td>7,159.00</td>\n",
       "    </tr>\n",
       "    <tr>\n",
       "      <th>5</th>\n",
       "      <td>Cs-137</td>\n",
       "      <td>0.16</td>\n",
       "      <td>1.84</td>\n",
       "      <td>7,159.00</td>\n",
       "    </tr>\n",
       "    <tr>\n",
       "      <th>6</th>\n",
       "      <td>Eu-152</td>\n",
       "      <td>0.01</td>\n",
       "      <td>1.18</td>\n",
       "      <td>7,159.00</td>\n",
       "    </tr>\n",
       "    <tr>\n",
       "      <th>7</th>\n",
       "      <td>Mn-54</td>\n",
       "      <td>99.99</td>\n",
       "      <td>9,894.09</td>\n",
       "      <td>7,159.00</td>\n",
       "    </tr>\n",
       "    <tr>\n",
       "      <th>8</th>\n",
       "      <td>Na-22</td>\n",
       "      <td>0.04</td>\n",
       "      <td>1.01</td>\n",
       "      <td>7,159.00</td>\n",
       "    </tr>\n",
       "    <tr>\n",
       "      <th>9</th>\n",
       "      <td>Pb-210</td>\n",
       "      <td>2.77</td>\n",
       "      <td>1.45</td>\n",
       "      <td>7,159.00</td>\n",
       "    </tr>\n",
       "  </tbody>\n",
       "</table>\n",
       "</div>"
      ],
      "text/plain": [
       "  radionuclideo  nuclei_score  nuclei_counts  real_counts\n",
       "0        Am-241          0.27           0.85     7,159.00\n",
       "1        Ba-133          0.05           0.92     7,159.00\n",
       "2        Cd-109          0.38           1.75     7,159.00\n",
       "3         Co-57          0.12           1.00     7,159.00\n",
       "4         Co-60          0.35           1.28     7,159.00\n",
       "5        Cs-137          0.16           1.84     7,159.00\n",
       "6        Eu-152          0.01           1.18     7,159.00\n",
       "7         Mn-54         99.99       9,894.09     7,159.00\n",
       "8         Na-22          0.04           1.01     7,159.00\n",
       "9        Pb-210          2.77           1.45     7,159.00"
      ]
     },
     "execution_count": 67,
     "metadata": {},
     "output_type": "execute_result"
    }
   ],
   "source": [
    "validation_nuclei = 'Mn-54'\n",
    "preds = model.predict(np.array([images[validation_nuclei].reshape((128, 128, 1))]))\n",
    "\n",
    "df = pd.DataFrame({'radionuclideo':binarizer.classes_,\n",
    "                   'nuclei_score': preds[0][0]*100,\n",
    "                   'nuclei_counts': np.exp(preds[1][0]),\n",
    "                   'real_counts': np.sum(images[validation_nuclei])})\n",
    "df"
   ]
  },
  {
   "cell_type": "code",
   "execution_count": 68,
   "metadata": {},
   "outputs": [
    {
     "data": {
      "text/html": [
       "<div>\n",
       "<style scoped>\n",
       "    .dataframe tbody tr th:only-of-type {\n",
       "        vertical-align: middle;\n",
       "    }\n",
       "\n",
       "    .dataframe tbody tr th {\n",
       "        vertical-align: top;\n",
       "    }\n",
       "\n",
       "    .dataframe thead th {\n",
       "        text-align: right;\n",
       "    }\n",
       "</style>\n",
       "<table border=\"1\" class=\"dataframe\">\n",
       "  <thead>\n",
       "    <tr style=\"text-align: right;\">\n",
       "      <th></th>\n",
       "      <th>radionuclideo</th>\n",
       "      <th>nuclei_score</th>\n",
       "      <th>nuclei_counts</th>\n",
       "      <th>real_counts</th>\n",
       "    </tr>\n",
       "  </thead>\n",
       "  <tbody>\n",
       "    <tr>\n",
       "      <th>0</th>\n",
       "      <td>Am-241</td>\n",
       "      <td>2.32</td>\n",
       "      <td>1.13</td>\n",
       "      <td>7,965.00</td>\n",
       "    </tr>\n",
       "    <tr>\n",
       "      <th>1</th>\n",
       "      <td>Ba-133</td>\n",
       "      <td>1.67</td>\n",
       "      <td>1.50</td>\n",
       "      <td>7,965.00</td>\n",
       "    </tr>\n",
       "    <tr>\n",
       "      <th>2</th>\n",
       "      <td>Cd-109</td>\n",
       "      <td>1.73</td>\n",
       "      <td>0.96</td>\n",
       "      <td>7,965.00</td>\n",
       "    </tr>\n",
       "    <tr>\n",
       "      <th>3</th>\n",
       "      <td>Co-57</td>\n",
       "      <td>2.05</td>\n",
       "      <td>1.22</td>\n",
       "      <td>7,965.00</td>\n",
       "    </tr>\n",
       "    <tr>\n",
       "      <th>4</th>\n",
       "      <td>Co-60</td>\n",
       "      <td>0.01</td>\n",
       "      <td>0.88</td>\n",
       "      <td>7,965.00</td>\n",
       "    </tr>\n",
       "    <tr>\n",
       "      <th>5</th>\n",
       "      <td>Cs-137</td>\n",
       "      <td>0.86</td>\n",
       "      <td>1.22</td>\n",
       "      <td>7,965.00</td>\n",
       "    </tr>\n",
       "    <tr>\n",
       "      <th>6</th>\n",
       "      <td>Eu-152</td>\n",
       "      <td>0.13</td>\n",
       "      <td>1.20</td>\n",
       "      <td>7,965.00</td>\n",
       "    </tr>\n",
       "    <tr>\n",
       "      <th>7</th>\n",
       "      <td>Mn-54</td>\n",
       "      <td>0.69</td>\n",
       "      <td>1.09</td>\n",
       "      <td>7,965.00</td>\n",
       "    </tr>\n",
       "    <tr>\n",
       "      <th>8</th>\n",
       "      <td>Na-22</td>\n",
       "      <td>100.00</td>\n",
       "      <td>12,387.50</td>\n",
       "      <td>7,965.00</td>\n",
       "    </tr>\n",
       "    <tr>\n",
       "      <th>9</th>\n",
       "      <td>Pb-210</td>\n",
       "      <td>3.58</td>\n",
       "      <td>1.34</td>\n",
       "      <td>7,965.00</td>\n",
       "    </tr>\n",
       "  </tbody>\n",
       "</table>\n",
       "</div>"
      ],
      "text/plain": [
       "  radionuclideo  nuclei_score  nuclei_counts  real_counts\n",
       "0        Am-241          2.32           1.13     7,965.00\n",
       "1        Ba-133          1.67           1.50     7,965.00\n",
       "2        Cd-109          1.73           0.96     7,965.00\n",
       "3         Co-57          2.05           1.22     7,965.00\n",
       "4         Co-60          0.01           0.88     7,965.00\n",
       "5        Cs-137          0.86           1.22     7,965.00\n",
       "6        Eu-152          0.13           1.20     7,965.00\n",
       "7         Mn-54          0.69           1.09     7,965.00\n",
       "8         Na-22        100.00      12,387.50     7,965.00\n",
       "9        Pb-210          3.58           1.34     7,965.00"
      ]
     },
     "execution_count": 68,
     "metadata": {},
     "output_type": "execute_result"
    }
   ],
   "source": [
    "validation_nuclei = 'Na-22'\n",
    "preds = model.predict(np.array([images[validation_nuclei].reshape((128, 128, 1))]))\n",
    "\n",
    "df = pd.DataFrame({'radionuclideo':binarizer.classes_,\n",
    "                   'nuclei_score': preds[0][0]*100,\n",
    "                   'nuclei_counts': np.exp(preds[1][0]),\n",
    "                   'real_counts': np.sum(images[validation_nuclei])})\n",
    "df"
   ]
  },
  {
   "cell_type": "code",
   "execution_count": 69,
   "metadata": {},
   "outputs": [
    {
     "data": {
      "text/html": [
       "<div>\n",
       "<style scoped>\n",
       "    .dataframe tbody tr th:only-of-type {\n",
       "        vertical-align: middle;\n",
       "    }\n",
       "\n",
       "    .dataframe tbody tr th {\n",
       "        vertical-align: top;\n",
       "    }\n",
       "\n",
       "    .dataframe thead th {\n",
       "        text-align: right;\n",
       "    }\n",
       "</style>\n",
       "<table border=\"1\" class=\"dataframe\">\n",
       "  <thead>\n",
       "    <tr style=\"text-align: right;\">\n",
       "      <th></th>\n",
       "      <th>radionuclideo</th>\n",
       "      <th>nuclei_score</th>\n",
       "      <th>nuclei_counts</th>\n",
       "      <th>real_counts</th>\n",
       "    </tr>\n",
       "  </thead>\n",
       "  <tbody>\n",
       "    <tr>\n",
       "      <th>0</th>\n",
       "      <td>Am-241</td>\n",
       "      <td>0.01</td>\n",
       "      <td>1.05</td>\n",
       "      <td>19,650.00</td>\n",
       "    </tr>\n",
       "    <tr>\n",
       "      <th>1</th>\n",
       "      <td>Ba-133</td>\n",
       "      <td>0.00</td>\n",
       "      <td>1.45</td>\n",
       "      <td>19,650.00</td>\n",
       "    </tr>\n",
       "    <tr>\n",
       "      <th>2</th>\n",
       "      <td>Cd-109</td>\n",
       "      <td>0.11</td>\n",
       "      <td>1.03</td>\n",
       "      <td>19,650.00</td>\n",
       "    </tr>\n",
       "    <tr>\n",
       "      <th>3</th>\n",
       "      <td>Co-57</td>\n",
       "      <td>0.00</td>\n",
       "      <td>1.29</td>\n",
       "      <td>19,650.00</td>\n",
       "    </tr>\n",
       "    <tr>\n",
       "      <th>4</th>\n",
       "      <td>Co-60</td>\n",
       "      <td>0.00</td>\n",
       "      <td>0.97</td>\n",
       "      <td>19,650.00</td>\n",
       "    </tr>\n",
       "    <tr>\n",
       "      <th>5</th>\n",
       "      <td>Cs-137</td>\n",
       "      <td>0.00</td>\n",
       "      <td>1.54</td>\n",
       "      <td>19,650.00</td>\n",
       "    </tr>\n",
       "    <tr>\n",
       "      <th>6</th>\n",
       "      <td>Eu-152</td>\n",
       "      <td>0.00</td>\n",
       "      <td>1.26</td>\n",
       "      <td>19,650.00</td>\n",
       "    </tr>\n",
       "    <tr>\n",
       "      <th>7</th>\n",
       "      <td>Mn-54</td>\n",
       "      <td>0.00</td>\n",
       "      <td>0.83</td>\n",
       "      <td>19,650.00</td>\n",
       "    </tr>\n",
       "    <tr>\n",
       "      <th>8</th>\n",
       "      <td>Na-22</td>\n",
       "      <td>0.00</td>\n",
       "      <td>0.99</td>\n",
       "      <td>19,650.00</td>\n",
       "    </tr>\n",
       "    <tr>\n",
       "      <th>9</th>\n",
       "      <td>Pb-210</td>\n",
       "      <td>100.00</td>\n",
       "      <td>44,602.43</td>\n",
       "      <td>19,650.00</td>\n",
       "    </tr>\n",
       "  </tbody>\n",
       "</table>\n",
       "</div>"
      ],
      "text/plain": [
       "  radionuclideo  nuclei_score  nuclei_counts  real_counts\n",
       "0        Am-241          0.01           1.05    19,650.00\n",
       "1        Ba-133          0.00           1.45    19,650.00\n",
       "2        Cd-109          0.11           1.03    19,650.00\n",
       "3         Co-57          0.00           1.29    19,650.00\n",
       "4         Co-60          0.00           0.97    19,650.00\n",
       "5        Cs-137          0.00           1.54    19,650.00\n",
       "6        Eu-152          0.00           1.26    19,650.00\n",
       "7         Mn-54          0.00           0.83    19,650.00\n",
       "8         Na-22          0.00           0.99    19,650.00\n",
       "9        Pb-210        100.00      44,602.43    19,650.00"
      ]
     },
     "execution_count": 69,
     "metadata": {},
     "output_type": "execute_result"
    }
   ],
   "source": [
    "validation_nuclei = 'Pb-210'\n",
    "preds = model.predict(np.array([images[validation_nuclei].reshape((128, 128, 1))]))\n",
    "\n",
    "df = pd.DataFrame({'radionuclideo':binarizer.classes_,\n",
    "                   'nuclei_score': preds[0][0]*100,\n",
    "                   'nuclei_counts': np.exp(preds[1][0]),\n",
    "                   'real_counts': np.sum(images[validation_nuclei])})\n",
    "df"
   ]
  },
  {
   "cell_type": "markdown",
   "metadata": {},
   "source": [
    "## Fonte triplice de calibração"
   ]
  },
  {
   "cell_type": "code",
   "execution_count": 70,
   "metadata": {},
   "outputs": [],
   "source": [
    "dados = []\n",
    "\n",
    "with open('/export/ipen/artigo/ICDA-3/Espectros/Experimentos/17-Maio-2018/Espectros/Am-Cs-Co - BG.IEC', 'r') as f:\n",
    "    dados = f.readlines()\n",
    "dados = obtem_dados_dos_canais(dados)\n",
    "df_triplice = pd.DataFrame({'channel': range(0, len(dados)), 'counts' : dados})"
   ]
  },
  {
   "cell_type": "code",
   "execution_count": 71,
   "metadata": {},
   "outputs": [
    {
     "data": {
      "image/png": "[encoded data removed]",
      "text/plain": [
       "<Figure size 1224x216 with 2 Axes>"
      ]
     },
     "metadata": {},
     "output_type": "display_data"
    }
   ],
   "source": [
    "f, axarr = plt.subplots(1, 2, figsize=(17, 3))\n",
    "axarr[0].plot(df_triplice['channel'], df_triplice.counts.shift(-145).fillna(0).values, 'r')\n",
    "axarr[0].set_title(\"Espectro de calibração\")\n",
    "axarr[0].set_yscale(\"log\")\n",
    "axarr[1].imshow(np.array(dados).reshape((128,128)))\n",
    "\n",
    "plt.grid(False)\n",
    "plt.subplots_adjust(bottom=1.25, top=2.75)\n",
    "plt.show()"
   ]
  },
  {
   "cell_type": "code",
   "execution_count": 72,
   "metadata": {
    "scrolled": false
   },
   "outputs": [
    {
     "data": {
      "text/html": [
       "<div>\n",
       "<style scoped>\n",
       "    .dataframe tbody tr th:only-of-type {\n",
       "        vertical-align: middle;\n",
       "    }\n",
       "\n",
       "    .dataframe tbody tr th {\n",
       "        vertical-align: top;\n",
       "    }\n",
       "\n",
       "    .dataframe thead th {\n",
       "        text-align: right;\n",
       "    }\n",
       "</style>\n",
       "<table border=\"1\" class=\"dataframe\">\n",
       "  <thead>\n",
       "    <tr style=\"text-align: right;\">\n",
       "      <th></th>\n",
       "      <th>radionuclideo</th>\n",
       "      <th>nuclei_score</th>\n",
       "      <th>nuclei_counts</th>\n",
       "      <th>real_counts</th>\n",
       "    </tr>\n",
       "  </thead>\n",
       "  <tbody>\n",
       "    <tr>\n",
       "      <th>0</th>\n",
       "      <td>Am-241</td>\n",
       "      <td>99.89</td>\n",
       "      <td>54,272.01</td>\n",
       "      <td>276,428.00</td>\n",
       "    </tr>\n",
       "    <tr>\n",
       "      <th>1</th>\n",
       "      <td>Ba-133</td>\n",
       "      <td>0.04</td>\n",
       "      <td>0.97</td>\n",
       "      <td>276,428.00</td>\n",
       "    </tr>\n",
       "    <tr>\n",
       "      <th>2</th>\n",
       "      <td>Cd-109</td>\n",
       "      <td>0.23</td>\n",
       "      <td>0.60</td>\n",
       "      <td>276,428.00</td>\n",
       "    </tr>\n",
       "    <tr>\n",
       "      <th>3</th>\n",
       "      <td>Co-57</td>\n",
       "      <td>0.08</td>\n",
       "      <td>1.12</td>\n",
       "      <td>276,428.00</td>\n",
       "    </tr>\n",
       "    <tr>\n",
       "      <th>4</th>\n",
       "      <td>Co-60</td>\n",
       "      <td>100.00</td>\n",
       "      <td>227,986.75</td>\n",
       "      <td>276,428.00</td>\n",
       "    </tr>\n",
       "    <tr>\n",
       "      <th>5</th>\n",
       "      <td>Cs-137</td>\n",
       "      <td>99.98</td>\n",
       "      <td>186,136.83</td>\n",
       "      <td>276,428.00</td>\n",
       "    </tr>\n",
       "    <tr>\n",
       "      <th>6</th>\n",
       "      <td>Eu-152</td>\n",
       "      <td>0.33</td>\n",
       "      <td>1.20</td>\n",
       "      <td>276,428.00</td>\n",
       "    </tr>\n",
       "    <tr>\n",
       "      <th>7</th>\n",
       "      <td>Mn-54</td>\n",
       "      <td>3.23</td>\n",
       "      <td>1.31</td>\n",
       "      <td>276,428.00</td>\n",
       "    </tr>\n",
       "    <tr>\n",
       "      <th>8</th>\n",
       "      <td>Na-22</td>\n",
       "      <td>0.03</td>\n",
       "      <td>1.03</td>\n",
       "      <td>276,428.00</td>\n",
       "    </tr>\n",
       "    <tr>\n",
       "      <th>9</th>\n",
       "      <td>Pb-210</td>\n",
       "      <td>0.47</td>\n",
       "      <td>2.00</td>\n",
       "      <td>276,428.00</td>\n",
       "    </tr>\n",
       "  </tbody>\n",
       "</table>\n",
       "</div>"
      ],
      "text/plain": [
       "  radionuclideo  nuclei_score  nuclei_counts  real_counts\n",
       "0        Am-241         99.89      54,272.01   276,428.00\n",
       "1        Ba-133          0.04           0.97   276,428.00\n",
       "2        Cd-109          0.23           0.60   276,428.00\n",
       "3         Co-57          0.08           1.12   276,428.00\n",
       "4         Co-60        100.00     227,986.75   276,428.00\n",
       "5        Cs-137         99.98     186,136.83   276,428.00\n",
       "6        Eu-152          0.33           1.20   276,428.00\n",
       "7         Mn-54          3.23           1.31   276,428.00\n",
       "8         Na-22          0.03           1.03   276,428.00\n",
       "9        Pb-210          0.47           2.00   276,428.00"
      ]
     },
     "execution_count": 72,
     "metadata": {},
     "output_type": "execute_result"
    }
   ],
   "source": [
    "shift_ = 0\n",
    "dados = df_triplice.counts.shift(shift_).fillna(0).values\n",
    "\n",
    "preds = model.predict(np.array([dados.reshape((128, 128, 1))]))\n",
    "\n",
    "df = pd.DataFrame({'radionuclideo':binarizer.classes_,\n",
    "                   'nuclei_score': preds[0][0]*100,\n",
    "                   'nuclei_counts': np.exp(preds[1][0]),\n",
    "                   'real_counts': np.sum(dados)})\n",
    "df"
   ]
  },
  {
   "cell_type": "markdown",
   "metadata": {},
   "source": [
    "# Validando a atividade com um espectro simulado"
   ]
  },
  {
   "cell_type": "code",
   "execution_count": 112,
   "metadata": {},
   "outputs": [
    {
     "name": "stderr",
     "output_type": "stream",
     "text": [
      "/home/andre/.conda/envs/py36/lib/python3.6/site-packages/ipykernel_launcher.py:60: SettingWithCopyWarning: \n",
      "A value is trying to be set on a copy of a slice from a DataFrame\n",
      "\n",
      "See the caveats in the documentation: http://pandas.pydata.org/pandas-docs/stable/user_guide/indexing.html#returning-a-view-versus-a-copy\n"
     ]
    }
   ],
   "source": [
    "df_am241 = carrega_dados('../dados_v5/Am-241_46cm_1-0e08estories_-1.dat', 1e8)"
   ]
  },
  {
   "cell_type": "code",
   "execution_count": 113,
   "metadata": {},
   "outputs": [
    {
     "data": {
      "image/png": "[encoded data removed]",
      "text/plain": [
       "<Figure size 1224x216 with 2 Axes>"
      ]
     },
     "metadata": {},
     "output_type": "display_data"
    }
   ],
   "source": [
    "f, axarr = plt.subplots(1, 2, figsize=(17, 3))\n",
    "axarr[0].plot(df_am241['nbin'], df_am241.counts.values, 'r')\n",
    "axarr[0].set_title(\"Am-241_46cm_1-0e08estories_-1.dat\")\n",
    "axarr[0].set_yscale(\"log\")\n",
    "axarr[1].imshow(np.array(df_am241.counts.values).reshape((128,128)))\n",
    "\n",
    "plt.grid(False)\n",
    "plt.subplots_adjust(bottom=1.25, top=2.75)\n",
    "plt.show()"
   ]
  },
  {
   "cell_type": "code",
   "execution_count": 114,
   "metadata": {},
   "outputs": [
    {
     "data": {
      "text/html": [
       "<div>\n",
       "<style scoped>\n",
       "    .dataframe tbody tr th:only-of-type {\n",
       "        vertical-align: middle;\n",
       "    }\n",
       "\n",
       "    .dataframe tbody tr th {\n",
       "        vertical-align: top;\n",
       "    }\n",
       "\n",
       "    .dataframe thead th {\n",
       "        text-align: right;\n",
       "    }\n",
       "</style>\n",
       "<table border=\"1\" class=\"dataframe\">\n",
       "  <thead>\n",
       "    <tr style=\"text-align: right;\">\n",
       "      <th></th>\n",
       "      <th>nuclei_score</th>\n",
       "      <th>nuclei_counts</th>\n",
       "      <th>real_counts</th>\n",
       "    </tr>\n",
       "    <tr>\n",
       "      <th>radionuclideo</th>\n",
       "      <th></th>\n",
       "      <th></th>\n",
       "      <th></th>\n",
       "    </tr>\n",
       "  </thead>\n",
       "  <tbody>\n",
       "    <tr>\n",
       "      <th>Am-241</th>\n",
       "      <td>99.98</td>\n",
       "      <td>72,254,080.00</td>\n",
       "      <td>2,203.19</td>\n",
       "    </tr>\n",
       "    <tr>\n",
       "      <th>Ba-133</th>\n",
       "      <td>3.71</td>\n",
       "      <td>7.72</td>\n",
       "      <td>2,203.19</td>\n",
       "    </tr>\n",
       "    <tr>\n",
       "      <th>Cd-109</th>\n",
       "      <td>4.95</td>\n",
       "      <td>1.46</td>\n",
       "      <td>2,203.19</td>\n",
       "    </tr>\n",
       "    <tr>\n",
       "      <th>Co-57</th>\n",
       "      <td>2.25</td>\n",
       "      <td>1.22</td>\n",
       "      <td>2,203.19</td>\n",
       "    </tr>\n",
       "    <tr>\n",
       "      <th>Co-60</th>\n",
       "      <td>0.00</td>\n",
       "      <td>0.95</td>\n",
       "      <td>2,203.19</td>\n",
       "    </tr>\n",
       "    <tr>\n",
       "      <th>Cs-137</th>\n",
       "      <td>0.13</td>\n",
       "      <td>1.50</td>\n",
       "      <td>2,203.19</td>\n",
       "    </tr>\n",
       "    <tr>\n",
       "      <th>Eu-152</th>\n",
       "      <td>0.00</td>\n",
       "      <td>1.07</td>\n",
       "      <td>2,203.19</td>\n",
       "    </tr>\n",
       "    <tr>\n",
       "      <th>Mn-54</th>\n",
       "      <td>0.00</td>\n",
       "      <td>0.96</td>\n",
       "      <td>2,203.19</td>\n",
       "    </tr>\n",
       "    <tr>\n",
       "      <th>Na-22</th>\n",
       "      <td>0.00</td>\n",
       "      <td>1.12</td>\n",
       "      <td>2,203.19</td>\n",
       "    </tr>\n",
       "    <tr>\n",
       "      <th>Pb-210</th>\n",
       "      <td>16.71</td>\n",
       "      <td>6.08</td>\n",
       "      <td>2,203.19</td>\n",
       "    </tr>\n",
       "  </tbody>\n",
       "</table>\n",
       "</div>"
      ],
      "text/plain": [
       "               nuclei_score  nuclei_counts  real_counts\n",
       "radionuclideo                                          \n",
       "Am-241                99.98  72,254,080.00     2,203.19\n",
       "Ba-133                 3.71           7.72     2,203.19\n",
       "Cd-109                 4.95           1.46     2,203.19\n",
       "Co-57                  2.25           1.22     2,203.19\n",
       "Co-60                  0.00           0.95     2,203.19\n",
       "Cs-137                 0.13           1.50     2,203.19\n",
       "Eu-152                 0.00           1.07     2,203.19\n",
       "Mn-54                  0.00           0.96     2,203.19\n",
       "Na-22                  0.00           1.12     2,203.19\n",
       "Pb-210                16.71           6.08     2,203.19"
      ]
     },
     "execution_count": 114,
     "metadata": {},
     "output_type": "execute_result"
    }
   ],
   "source": [
    "preds = model.predict(np.array([df_am241.counts.values.reshape((128, 128, 1))]))\n",
    "\n",
    "df = pd.DataFrame({'radionuclideo':binarizer.classes_,\n",
    "                   'nuclei_score': preds[0][0]*100,\n",
    "                   'nuclei_counts': np.exp(preds[1][0]),\n",
    "                   'real_counts': np.sum(df_am241.counts.values)})\n",
    "df = df.set_index('radionuclideo')\n",
    "df"
   ]
  },
  {
   "cell_type": "code",
   "execution_count": 79,
   "metadata": {},
   "outputs": [],
   "source": [
    "from scipy.signal import find_peaks"
   ]
  },
  {
   "cell_type": "code",
   "execution_count": 80,
   "metadata": {},
   "outputs": [],
   "source": [
    "largura = 350"
   ]
  },
  {
   "cell_type": "code",
   "execution_count": 81,
   "metadata": {},
   "outputs": [
    {
     "data": {
      "image/png": "[encoded data removed]",
      "text/plain": [
       "<Figure size 432x288 with 1 Axes>"
      ]
     },
     "metadata": {},
     "output_type": "display_data"
    }
   ],
   "source": [
    "peaks, _ = find_peaks(df_am241.counts.values, prominence=2e1)\n",
    "plt.plot(df_am241.counts.values)\n",
    "plt.plot(peaks, df_am241.counts[peaks], \"x\")\n",
    "plt.plot(np.zeros_like(df_am241.counts), \"--\", color=\"gray\")\n",
    "\n",
    "plt.axvline(peaks[0]-largura, 0, 1e4, label='pyplot vertical line', color=\"red\")\n",
    "plt.axvline(peaks[0]+largura, 0, 1e4, label='pyplot vertical line', color=\"red\")\n",
    "\n",
    "plt.yscale(\"log\")\n",
    "plt.show()"
   ]
  },
  {
   "cell_type": "code",
   "execution_count": 82,
   "metadata": {},
   "outputs": [
    {
     "name": "stdout",
     "output_type": "stream",
     "text": [
      "0\n"
     ]
    },
    {
     "data": {
      "text/plain": [
       "([2193.5404807415443], 2193.5404807415443)"
      ]
     },
     "execution_count": 82,
     "metadata": {},
     "output_type": "execute_result"
    }
   ],
   "source": [
    "values = []\n",
    "for idx, peak in enumerate(peaks):\n",
    "    print(idx)\n",
    "    data_aux = df_am241[peak-(largura+1*idx):peak+(largura+1*idx)]\n",
    "    values.append(np.trapz(data_aux['counts'], data_aux['nbin']))\n",
    "values, np.sum(values)"
   ]
  },
  {
   "cell_type": "code",
   "execution_count": 83,
   "metadata": {},
   "outputs": [],
   "source": [
    "def print_formatado(x):\n",
    "    return \"{:4.4e}\".format(x)"
   ]
  },
  {
   "cell_type": "code",
   "execution_count": 84,
   "metadata": {},
   "outputs": [
    {
     "data": {
      "text/plain": [
       "'2.1935e-05'"
      ]
     },
     "execution_count": 84,
     "metadata": {},
     "output_type": "execute_result"
    }
   ],
   "source": [
    "eff = np.sum(values) / 1e8\n",
    "print_formatado(eff)"
   ]
  },
  {
   "cell_type": "code",
   "execution_count": 85,
   "metadata": {},
   "outputs": [
    {
     "data": {
      "text/plain": [
       "('3.2939e+12', 32939.4787259973)"
      ]
     },
     "execution_count": 85,
     "metadata": {},
     "output_type": "execute_result"
    }
   ],
   "source": [
    "atividade = df.loc['Am-241'].nuclei_counts / eff\n",
    "print_formatado(atividade), atividade / 1e8"
   ]
  },
  {
   "cell_type": "markdown",
   "metadata": {},
   "source": [
    "## Para Co-60"
   ]
  },
  {
   "cell_type": "code",
   "execution_count": 115,
   "metadata": {},
   "outputs": [
    {
     "name": "stderr",
     "output_type": "stream",
     "text": [
      "/home/andre/.conda/envs/py36/lib/python3.6/site-packages/ipykernel_launcher.py:60: SettingWithCopyWarning: \n",
      "A value is trying to be set on a copy of a slice from a DataFrame\n",
      "\n",
      "See the caveats in the documentation: http://pandas.pydata.org/pandas-docs/stable/user_guide/indexing.html#returning-a-view-versus-a-copy\n"
     ]
    }
   ],
   "source": [
    "df_co60 = carrega_dados('../dados_v5/Co-60_56cm_1-0e08estories_-1.dat', 1e8)"
   ]
  },
  {
   "cell_type": "code",
   "execution_count": 116,
   "metadata": {},
   "outputs": [
    {
     "data": {
      "image/png": "[encoded data removed]",
      "text/plain": [
       "<Figure size 1224x216 with 2 Axes>"
      ]
     },
     "metadata": {},
     "output_type": "display_data"
    }
   ],
   "source": [
    "f, axarr = plt.subplots(1, 2, figsize=(17, 3))\n",
    "axarr[0].plot(df_co60['nbin'], df_co60.counts.values, 'r')\n",
    "axarr[0].set_title(\"Co-60_56cm_1-0e08estories_-1.dat\")\n",
    "axarr[0].set_yscale(\"log\")\n",
    "axarr[1].imshow(np.array(df_co60.counts.values).reshape((128,128)))\n",
    "\n",
    "plt.grid(False)\n",
    "plt.subplots_adjust(bottom=1.25, top=2.75)\n",
    "plt.show()"
   ]
  },
  {
   "cell_type": "code",
   "execution_count": 89,
   "metadata": {},
   "outputs": [
    {
     "data": {
      "text/plain": [
       "-14.044639999999998"
      ]
     },
     "execution_count": 89,
     "metadata": {},
     "output_type": "execute_result"
    }
   ],
   "source": [
    "(85_955_360 / 1e8 - 1) * 100"
   ]
  },
  {
   "cell_type": "code",
   "execution_count": 117,
   "metadata": {},
   "outputs": [
    {
     "data": {
      "text/html": [
       "<div>\n",
       "<style scoped>\n",
       "    .dataframe tbody tr th:only-of-type {\n",
       "        vertical-align: middle;\n",
       "    }\n",
       "\n",
       "    .dataframe tbody tr th {\n",
       "        vertical-align: top;\n",
       "    }\n",
       "\n",
       "    .dataframe thead th {\n",
       "        text-align: right;\n",
       "    }\n",
       "</style>\n",
       "<table border=\"1\" class=\"dataframe\">\n",
       "  <thead>\n",
       "    <tr style=\"text-align: right;\">\n",
       "      <th></th>\n",
       "      <th>nuclei_score</th>\n",
       "      <th>nuclei_counts</th>\n",
       "      <th>real_counts</th>\n",
       "    </tr>\n",
       "    <tr>\n",
       "      <th>radionuclideo</th>\n",
       "      <th></th>\n",
       "      <th></th>\n",
       "      <th></th>\n",
       "    </tr>\n",
       "  </thead>\n",
       "  <tbody>\n",
       "    <tr>\n",
       "      <th>Am-241</th>\n",
       "      <td>3.82</td>\n",
       "      <td>1.41</td>\n",
       "      <td>413,587.11</td>\n",
       "    </tr>\n",
       "    <tr>\n",
       "      <th>Ba-133</th>\n",
       "      <td>5.60</td>\n",
       "      <td>1.67</td>\n",
       "      <td>413,587.11</td>\n",
       "    </tr>\n",
       "    <tr>\n",
       "      <th>Cd-109</th>\n",
       "      <td>8.70</td>\n",
       "      <td>2.55</td>\n",
       "      <td>413,587.11</td>\n",
       "    </tr>\n",
       "    <tr>\n",
       "      <th>Co-57</th>\n",
       "      <td>1.73</td>\n",
       "      <td>1.17</td>\n",
       "      <td>413,587.11</td>\n",
       "    </tr>\n",
       "    <tr>\n",
       "      <th>Co-60</th>\n",
       "      <td>100.00</td>\n",
       "      <td>137,522,464.00</td>\n",
       "      <td>413,587.11</td>\n",
       "    </tr>\n",
       "    <tr>\n",
       "      <th>Cs-137</th>\n",
       "      <td>7.45</td>\n",
       "      <td>2.15</td>\n",
       "      <td>413,587.11</td>\n",
       "    </tr>\n",
       "    <tr>\n",
       "      <th>Eu-152</th>\n",
       "      <td>1.69</td>\n",
       "      <td>1.28</td>\n",
       "      <td>413,587.11</td>\n",
       "    </tr>\n",
       "    <tr>\n",
       "      <th>Mn-54</th>\n",
       "      <td>22.61</td>\n",
       "      <td>2.54</td>\n",
       "      <td>413,587.11</td>\n",
       "    </tr>\n",
       "    <tr>\n",
       "      <th>Na-22</th>\n",
       "      <td>1.82</td>\n",
       "      <td>1.12</td>\n",
       "      <td>413,587.11</td>\n",
       "    </tr>\n",
       "    <tr>\n",
       "      <th>Pb-210</th>\n",
       "      <td>6.11</td>\n",
       "      <td>2.47</td>\n",
       "      <td>413,587.11</td>\n",
       "    </tr>\n",
       "  </tbody>\n",
       "</table>\n",
       "</div>"
      ],
      "text/plain": [
       "               nuclei_score  nuclei_counts  real_counts\n",
       "radionuclideo                                          \n",
       "Am-241                 3.82           1.41   413,587.11\n",
       "Ba-133                 5.60           1.67   413,587.11\n",
       "Cd-109                 8.70           2.55   413,587.11\n",
       "Co-57                  1.73           1.17   413,587.11\n",
       "Co-60                100.00 137,522,464.00   413,587.11\n",
       "Cs-137                 7.45           2.15   413,587.11\n",
       "Eu-152                 1.69           1.28   413,587.11\n",
       "Mn-54                 22.61           2.54   413,587.11\n",
       "Na-22                  1.82           1.12   413,587.11\n",
       "Pb-210                 6.11           2.47   413,587.11"
      ]
     },
     "execution_count": 117,
     "metadata": {},
     "output_type": "execute_result"
    }
   ],
   "source": [
    "preds = model.predict(np.array([df_co60.counts.values.reshape((128, 128, 1))]))\n",
    "\n",
    "df = pd.DataFrame({'radionuclideo':binarizer.classes_,\n",
    "                   'nuclei_score': preds[0][0]*100,\n",
    "                   'nuclei_counts': np.exp(preds[1][0]),\n",
    "                   'real_counts': np.sum(df_co60.counts.values)})\n",
    "df = df.set_index(\"radionuclideo\")\n",
    "df"
   ]
  },
  {
   "cell_type": "code",
   "execution_count": 118,
   "metadata": {},
   "outputs": [
    {
     "data": {
      "image/png": "[encoded data removed]",
      "text/plain": [
       "<Figure size 432x288 with 1 Axes>"
      ]
     },
     "metadata": {},
     "output_type": "display_data"
    }
   ],
   "source": [
    "peaks, _ = find_peaks(df_co60.counts.values, prominence=2e3)\n",
    "plt.plot(df_co60.counts.values)\n",
    "plt.plot(peaks, df_co60.counts[peaks], \"x\")\n",
    "plt.plot(np.zeros_like(df_co60.counts), \"--\", color=\"gray\")\n",
    "plt.yscale(\"log\")\n",
    "plt.show()"
   ]
  },
  {
   "cell_type": "code",
   "execution_count": 92,
   "metadata": {},
   "outputs": [
    {
     "name": "stdout",
     "output_type": "stream",
     "text": [
      "0\n",
      "1\n"
     ]
    },
    {
     "data": {
      "text/plain": [
       "(0.0007730151506341052, [79198.69070473113, 75404.33942208992])"
      ]
     },
     "execution_count": 92,
     "metadata": {},
     "output_type": "execute_result"
    }
   ],
   "source": [
    "largura = 450\n",
    "values = []\n",
    "for idx, peak in enumerate(peaks):\n",
    "    print(idx)\n",
    "    data_aux = df_co60[peak-(largura+1*idx):peak+(largura+1*idx)]\n",
    "    values.append(np.trapz(data_aux['counts'], data_aux['nbin']))\n",
    "values, np.sum(values)\n",
    "\n",
    "eff = np.mean(np.array(values)) / 1e8\n",
    "eff, values"
   ]
  },
  {
   "cell_type": "code",
   "execution_count": 93,
   "metadata": {},
   "outputs": [
    {
     "data": {
      "text/plain": [
       "([79198.69070473113, 75404.33942208992], array([0.00079199, 0.00075404]))"
      ]
     },
     "execution_count": 93,
     "metadata": {},
     "output_type": "execute_result"
    }
   ],
   "source": [
    "values, np.array(values) / 1e8"
   ]
  },
  {
   "cell_type": "code",
   "execution_count": 94,
   "metadata": {},
   "outputs": [
    {
     "data": {
      "text/plain": [
       "(177903969782.727, 1779.03969782727)"
      ]
     },
     "execution_count": 94,
     "metadata": {},
     "output_type": "execute_result"
    }
   ],
   "source": [
    "atividade = df.loc['Co-60']['nuclei_counts'] / eff\n",
    "atividade, atividade / 1e8"
   ]
  },
  {
   "cell_type": "code",
   "execution_count": 119,
   "metadata": {},
   "outputs": [
    {
     "data": {
      "image/png": "[encoded data removed]",
      "text/plain": [
       "<Figure size 1224x216 with 2 Axes>"
      ]
     },
     "metadata": {},
     "output_type": "display_data"
    }
   ],
   "source": [
    "df_am241_co60 = df_am241.counts + df_co60.counts\n",
    "\n",
    "f, axarr = plt.subplots(1, 2, figsize=(17, 3))\n",
    "axarr[0].plot(df_am241['nbin'], df_am241_co60.values, 'r')\n",
    "axarr[0].set_title(\"Am-241 with Co-60\")\n",
    "axarr[0].set_yscale(\"log\")\n",
    "axarr[1].imshow(np.array(df_am241_co60.values).reshape((128,128)))\n",
    "\n",
    "plt.grid(False)\n",
    "plt.subplots_adjust(bottom=1.25, top=2.75)\n",
    "plt.show()"
   ]
  },
  {
   "cell_type": "code",
   "execution_count": 120,
   "metadata": {},
   "outputs": [
    {
     "name": "stderr",
     "output_type": "stream",
     "text": [
      "/home/andre/.conda/envs/py36/lib/python3.6/site-packages/ipykernel_launcher.py:7: RuntimeWarning: divide by zero encountered in true_divide\n",
      "  import sys\n"
     ]
    },
    {
     "data": {
      "text/html": [
       "<div>\n",
       "<style scoped>\n",
       "    .dataframe tbody tr th:only-of-type {\n",
       "        vertical-align: middle;\n",
       "    }\n",
       "\n",
       "    .dataframe tbody tr th {\n",
       "        vertical-align: top;\n",
       "    }\n",
       "\n",
       "    .dataframe thead th {\n",
       "        text-align: right;\n",
       "    }\n",
       "</style>\n",
       "<table border=\"1\" class=\"dataframe\">\n",
       "  <thead>\n",
       "    <tr style=\"text-align: right;\">\n",
       "      <th></th>\n",
       "      <th>nuclei_score</th>\n",
       "      <th>nuclei_activity</th>\n",
       "      <th>real_activity</th>\n",
       "      <th>diff</th>\n",
       "    </tr>\n",
       "    <tr>\n",
       "      <th>radionuclideo</th>\n",
       "      <th></th>\n",
       "      <th></th>\n",
       "      <th></th>\n",
       "      <th></th>\n",
       "    </tr>\n",
       "  </thead>\n",
       "  <tbody>\n",
       "    <tr>\n",
       "      <th>Am-241</th>\n",
       "      <td>99.99</td>\n",
       "      <td>94,616,744.00</td>\n",
       "      <td>100,000,000.00</td>\n",
       "      <td>0.95</td>\n",
       "    </tr>\n",
       "    <tr>\n",
       "      <th>Ba-133</th>\n",
       "      <td>10.38</td>\n",
       "      <td>2.11</td>\n",
       "      <td>0.00</td>\n",
       "      <td>inf</td>\n",
       "    </tr>\n",
       "    <tr>\n",
       "      <th>Cd-109</th>\n",
       "      <td>3.64</td>\n",
       "      <td>2.15</td>\n",
       "      <td>0.00</td>\n",
       "      <td>inf</td>\n",
       "    </tr>\n",
       "    <tr>\n",
       "      <th>Co-57</th>\n",
       "      <td>5.87</td>\n",
       "      <td>9.18</td>\n",
       "      <td>0.00</td>\n",
       "      <td>inf</td>\n",
       "    </tr>\n",
       "    <tr>\n",
       "      <th>Co-60</th>\n",
       "      <td>100.00</td>\n",
       "      <td>110,316,040.00</td>\n",
       "      <td>100,000,000.00</td>\n",
       "      <td>1.10</td>\n",
       "    </tr>\n",
       "    <tr>\n",
       "      <th>Cs-137</th>\n",
       "      <td>1.12</td>\n",
       "      <td>1.18</td>\n",
       "      <td>0.00</td>\n",
       "      <td>inf</td>\n",
       "    </tr>\n",
       "    <tr>\n",
       "      <th>Eu-152</th>\n",
       "      <td>0.85</td>\n",
       "      <td>0.93</td>\n",
       "      <td>0.00</td>\n",
       "      <td>inf</td>\n",
       "    </tr>\n",
       "    <tr>\n",
       "      <th>Mn-54</th>\n",
       "      <td>13.80</td>\n",
       "      <td>1.31</td>\n",
       "      <td>0.00</td>\n",
       "      <td>inf</td>\n",
       "    </tr>\n",
       "    <tr>\n",
       "      <th>Na-22</th>\n",
       "      <td>2.23</td>\n",
       "      <td>1.49</td>\n",
       "      <td>0.00</td>\n",
       "      <td>inf</td>\n",
       "    </tr>\n",
       "    <tr>\n",
       "      <th>Pb-210</th>\n",
       "      <td>46.29</td>\n",
       "      <td>30.72</td>\n",
       "      <td>0.00</td>\n",
       "      <td>inf</td>\n",
       "    </tr>\n",
       "  </tbody>\n",
       "</table>\n",
       "</div>"
      ],
      "text/plain": [
       "               nuclei_score  nuclei_activity  real_activity  diff\n",
       "radionuclideo                                                    \n",
       "Am-241                99.99    94,616,744.00 100,000,000.00  0.95\n",
       "Ba-133                10.38             2.11           0.00   inf\n",
       "Cd-109                 3.64             2.15           0.00   inf\n",
       "Co-57                  5.87             9.18           0.00   inf\n",
       "Co-60                100.00   110,316,040.00 100,000,000.00  1.10\n",
       "Cs-137                 1.12             1.18           0.00   inf\n",
       "Eu-152                 0.85             0.93           0.00   inf\n",
       "Mn-54                 13.80             1.31           0.00   inf\n",
       "Na-22                  2.23             1.49           0.00   inf\n",
       "Pb-210                46.29            30.72           0.00   inf"
      ]
     },
     "execution_count": 120,
     "metadata": {},
     "output_type": "execute_result"
    }
   ],
   "source": [
    "preds = model.predict(np.array([df_am241_co60.values.reshape((128, 128, 1))]))\n",
    "\n",
    "df = pd.DataFrame({'radionuclideo':binarizer.classes_,\n",
    "                   'nuclei_score': preds[0][0]*100,\n",
    "                   'nuclei_activity': np.exp(preds[1][0]),\n",
    "                   'real_activity': [1e8, 0, 0, 0, 1e8, 0, 0, 0, 0, 0],\n",
    "                   'diff': np.exp(preds[1][0]) / np.array([1e8, 0, 0, 0, 1e8, 0, 0, 0, 0, 0])\n",
    "                  })\n",
    "df = df.set_index(\"radionuclideo\")\n",
    "df"
   ]
  },
  {
   "cell_type": "code",
   "execution_count": 121,
   "metadata": {},
   "outputs": [
    {
     "data": {
      "text/plain": [
       "(-5.383256000000003, 10.316039999999994)"
      ]
     },
     "execution_count": 121,
     "metadata": {},
     "output_type": "execute_result"
    }
   ],
   "source": [
    "(94_616_744 / 1e8 - 1)*100, (110_316_040 / 1e8 - 1) * 100"
   ]
  },
  {
   "cell_type": "markdown",
   "metadata": {},
   "source": [
    "# Fine tunning das últimas camadas"
   ]
  },
  {
   "cell_type": "code",
   "execution_count": 98,
   "metadata": {},
   "outputs": [],
   "source": [
    "K.clear_session()"
   ]
  },
  {
   "cell_type": "code",
   "execution_count": 99,
   "metadata": {},
   "outputs": [],
   "source": [
    "model = load_model('VGG-19-Adam-classificacao-regressao-PENELOPE-v2_atividade.hdf5',\n",
    "                  custom_objects={'my_accuracy_score': my_accuracy_score})\n",
    "\n",
    "for layer in model.layers:\n",
    "    layer.trainable = False\n",
    "    \n",
    "model.layers[-7].trainable = True\n",
    "model.layers[-3].trainable = True\n",
    "model.layers[-5].trainable = True\n",
    "model.layers[-1].trainable = True\n",
    "\n",
    "#for layer in model.layers:\n",
    "#    print(layer.name, layer.trainable)"
   ]
  },
  {
   "cell_type": "code",
   "execution_count": 100,
   "metadata": {},
   "outputs": [
    {
     "name": "stderr",
     "output_type": "stream",
     "text": [
      "/home/andre/.conda/envs/py36/lib/python3.6/site-packages/ipykernel_launcher.py:8: UserWarning: Output \"predictions_nuclei\" missing from loss dictionary. We assume this was done on purpose, and we will not be expecting any data to be passed to \"predictions_nuclei\" during training.\n",
      "  \n"
     ]
    }
   ],
   "source": [
    "model.compile(optimizer=Adam(lr=1e-7),\n",
    "              loss={\n",
    "                  #'predictions_nuclei': 'binary_crossentropy',\n",
    "                  'predictions_counts': 'mean_squared_error'\n",
    "              },\n",
    "              metrics={\n",
    "                  #'predictions_nuclei': [my_accuracy_score, 'accuracy'],\n",
    "                  'predictions_counts': ['mean_squared_error', 'mean_absolute_error']\n",
    "              }\n",
    "             )"
   ]
  },
  {
   "cell_type": "code",
   "execution_count": 101,
   "metadata": {},
   "outputs": [],
   "source": [
    "gerador_treino = EspectraSequence(X_train, [x[0] for x in y_train], [x[1] for x in y_train], batch_size=batch_size)\n",
    "#gerador_imagens(X_train, y_train, batch_size=batch_size)\n",
    "\n",
    "gerador_validacao = EspectraSequence(X_test, [x[0] for x in y_test], [x[1] for x in y_test], batch_size=batch_size)\n",
    "#gerador_imagens(X_test, y_test, batch_size=batch_size)\n"
   ]
  },
  {
   "cell_type": "code",
   "execution_count": 102,
   "metadata": {},
   "outputs": [
    {
     "name": "stdout",
     "output_type": "stream",
     "text": [
      "Epoch 1/200\n",
      " - 128s - loss: 5.0618 - predictions_counts_loss: 5.0618 - predictions_counts_mean_squared_error: 5.0618 - predictions_counts_mean_absolute_error: 0.9893 - val_loss: 4.9570 - val_predictions_counts_loss: 4.9570 - val_predictions_counts_mean_squared_error: 4.9570 - val_predictions_counts_mean_absolute_error: 0.9830\n",
      "Epoch 2/200\n",
      " - 126s - loss: 5.0472 - predictions_counts_loss: 5.0472 - predictions_counts_mean_squared_error: 5.0472 - predictions_counts_mean_absolute_error: 0.9820 - val_loss: 4.9435 - val_predictions_counts_loss: 4.9435 - val_predictions_counts_mean_squared_error: 4.9435 - val_predictions_counts_mean_absolute_error: 0.9769\n",
      "Epoch 3/200\n",
      " - 126s - loss: 5.0354 - predictions_counts_loss: 5.0354 - predictions_counts_mean_squared_error: 5.0354 - predictions_counts_mean_absolute_error: 0.9767 - val_loss: 4.9323 - val_predictions_counts_loss: 4.9323 - val_predictions_counts_mean_squared_error: 4.9323 - val_predictions_counts_mean_absolute_error: 0.9721\n",
      "Epoch 4/200\n",
      " - 127s - loss: 5.0253 - predictions_counts_loss: 5.0253 - predictions_counts_mean_squared_error: 5.0253 - predictions_counts_mean_absolute_error: 0.9726 - val_loss: 4.9228 - val_predictions_counts_loss: 4.9228 - val_predictions_counts_mean_squared_error: 4.9228 - val_predictions_counts_mean_absolute_error: 0.9682\n",
      "Epoch 5/200\n",
      " - 127s - loss: 5.0164 - predictions_counts_loss: 5.0164 - predictions_counts_mean_squared_error: 5.0164 - predictions_counts_mean_absolute_error: 0.9691 - val_loss: 4.9144 - val_predictions_counts_loss: 4.9144 - val_predictions_counts_mean_squared_error: 4.9144 - val_predictions_counts_mean_absolute_error: 0.9647\n",
      "Epoch 6/200\n",
      " - 126s - loss: 5.0084 - predictions_counts_loss: 5.0084 - predictions_counts_mean_squared_error: 5.0084 - predictions_counts_mean_absolute_error: 0.9658 - val_loss: 4.9069 - val_predictions_counts_loss: 4.9069 - val_predictions_counts_mean_squared_error: 4.9069 - val_predictions_counts_mean_absolute_error: 0.9617\n",
      "Epoch 7/200\n",
      " - 126s - loss: 5.0012 - predictions_counts_loss: 5.0012 - predictions_counts_mean_squared_error: 5.0012 - predictions_counts_mean_absolute_error: 0.9628 - val_loss: 4.9001 - val_predictions_counts_loss: 4.9001 - val_predictions_counts_mean_squared_error: 4.9001 - val_predictions_counts_mean_absolute_error: 0.9590\n",
      "Epoch 8/200\n",
      " - 126s - loss: 4.9945 - predictions_counts_loss: 4.9945 - predictions_counts_mean_squared_error: 4.9945 - predictions_counts_mean_absolute_error: 0.9604 - val_loss: 4.8939 - val_predictions_counts_loss: 4.8939 - val_predictions_counts_mean_squared_error: 4.8939 - val_predictions_counts_mean_absolute_error: 0.9566\n",
      "Epoch 9/200\n",
      " - 126s - loss: 4.9883 - predictions_counts_loss: 4.9883 - predictions_counts_mean_squared_error: 4.9883 - predictions_counts_mean_absolute_error: 0.9578 - val_loss: 4.8882 - val_predictions_counts_loss: 4.8882 - val_predictions_counts_mean_squared_error: 4.8882 - val_predictions_counts_mean_absolute_error: 0.9544\n",
      "Epoch 10/200\n",
      " - 126s - loss: 4.9824 - predictions_counts_loss: 4.9824 - predictions_counts_mean_squared_error: 4.9824 - predictions_counts_mean_absolute_error: 0.9559 - val_loss: 4.8828 - val_predictions_counts_loss: 4.8828 - val_predictions_counts_mean_squared_error: 4.8828 - val_predictions_counts_mean_absolute_error: 0.9525\n",
      "Epoch 11/200\n",
      " - 126s - loss: 4.9769 - predictions_counts_loss: 4.9769 - predictions_counts_mean_squared_error: 4.9769 - predictions_counts_mean_absolute_error: 0.9538 - val_loss: 4.8779 - val_predictions_counts_loss: 4.8779 - val_predictions_counts_mean_squared_error: 4.8779 - val_predictions_counts_mean_absolute_error: 0.9508\n",
      "Epoch 12/200\n",
      " - 126s - loss: 4.9717 - predictions_counts_loss: 4.9717 - predictions_counts_mean_squared_error: 4.9717 - predictions_counts_mean_absolute_error: 0.9522 - val_loss: 4.8732 - val_predictions_counts_loss: 4.8732 - val_predictions_counts_mean_squared_error: 4.8732 - val_predictions_counts_mean_absolute_error: 0.9491\n",
      "Epoch 13/200\n",
      " - 126s - loss: 4.9667 - predictions_counts_loss: 4.9667 - predictions_counts_mean_squared_error: 4.9667 - predictions_counts_mean_absolute_error: 0.9507 - val_loss: 4.8688 - val_predictions_counts_loss: 4.8688 - val_predictions_counts_mean_squared_error: 4.8688 - val_predictions_counts_mean_absolute_error: 0.9476\n",
      "Epoch 14/200\n",
      " - 126s - loss: 4.9619 - predictions_counts_loss: 4.9619 - predictions_counts_mean_squared_error: 4.9619 - predictions_counts_mean_absolute_error: 0.9492 - val_loss: 4.8646 - val_predictions_counts_loss: 4.8646 - val_predictions_counts_mean_squared_error: 4.8646 - val_predictions_counts_mean_absolute_error: 0.9462\n",
      "Epoch 15/200\n",
      " - 126s - loss: 4.9574 - predictions_counts_loss: 4.9574 - predictions_counts_mean_squared_error: 4.9574 - predictions_counts_mean_absolute_error: 0.9476 - val_loss: 4.8606 - val_predictions_counts_loss: 4.8606 - val_predictions_counts_mean_squared_error: 4.8606 - val_predictions_counts_mean_absolute_error: 0.9450\n",
      "Epoch 16/200\n",
      " - 126s - loss: 4.9530 - predictions_counts_loss: 4.9530 - predictions_counts_mean_squared_error: 4.9530 - predictions_counts_mean_absolute_error: 0.9463 - val_loss: 4.8568 - val_predictions_counts_loss: 4.8568 - val_predictions_counts_mean_squared_error: 4.8568 - val_predictions_counts_mean_absolute_error: 0.9438\n",
      "Epoch 17/200\n",
      " - 126s - loss: 4.9488 - predictions_counts_loss: 4.9488 - predictions_counts_mean_squared_error: 4.9488 - predictions_counts_mean_absolute_error: 0.9453 - val_loss: 4.8532 - val_predictions_counts_loss: 4.8532 - val_predictions_counts_mean_squared_error: 4.8532 - val_predictions_counts_mean_absolute_error: 0.9427\n",
      "Epoch 18/200\n",
      " - 126s - loss: 4.9447 - predictions_counts_loss: 4.9447 - predictions_counts_mean_squared_error: 4.9447 - predictions_counts_mean_absolute_error: 0.9439 - val_loss: 4.8498 - val_predictions_counts_loss: 4.8498 - val_predictions_counts_mean_squared_error: 4.8498 - val_predictions_counts_mean_absolute_error: 0.9418\n",
      "Epoch 19/200\n",
      " - 127s - loss: 4.9408 - predictions_counts_loss: 4.9408 - predictions_counts_mean_squared_error: 4.9408 - predictions_counts_mean_absolute_error: 0.9428 - val_loss: 4.8465 - val_predictions_counts_loss: 4.8465 - val_predictions_counts_mean_squared_error: 4.8465 - val_predictions_counts_mean_absolute_error: 0.9408\n",
      "Epoch 20/200\n",
      " - 127s - loss: 4.9370 - predictions_counts_loss: 4.9370 - predictions_counts_mean_squared_error: 4.9370 - predictions_counts_mean_absolute_error: 0.9420 - val_loss: 4.8433 - val_predictions_counts_loss: 4.8433 - val_predictions_counts_mean_squared_error: 4.8433 - val_predictions_counts_mean_absolute_error: 0.9399\n",
      "Epoch 21/200\n",
      " - 127s - loss: 4.9334 - predictions_counts_loss: 4.9334 - predictions_counts_mean_squared_error: 4.9334 - predictions_counts_mean_absolute_error: 0.9409 - val_loss: 4.8402 - val_predictions_counts_loss: 4.8402 - val_predictions_counts_mean_squared_error: 4.8402 - val_predictions_counts_mean_absolute_error: 0.9392\n",
      "Epoch 22/200\n",
      " - 127s - loss: 4.9298 - predictions_counts_loss: 4.9298 - predictions_counts_mean_squared_error: 4.9298 - predictions_counts_mean_absolute_error: 0.9403 - val_loss: 4.8373 - val_predictions_counts_loss: 4.8373 - val_predictions_counts_mean_squared_error: 4.8373 - val_predictions_counts_mean_absolute_error: 0.9383\n",
      "Epoch 23/200\n",
      " - 126s - loss: 4.9263 - predictions_counts_loss: 4.9263 - predictions_counts_mean_squared_error: 4.9263 - predictions_counts_mean_absolute_error: 0.9394 - val_loss: 4.8344 - val_predictions_counts_loss: 4.8344 - val_predictions_counts_mean_squared_error: 4.8344 - val_predictions_counts_mean_absolute_error: 0.9376\n",
      "Epoch 24/200\n",
      " - 127s - loss: 4.9230 - predictions_counts_loss: 4.9230 - predictions_counts_mean_squared_error: 4.9230 - predictions_counts_mean_absolute_error: 0.9387 - val_loss: 4.8317 - val_predictions_counts_loss: 4.8317 - val_predictions_counts_mean_squared_error: 4.8317 - val_predictions_counts_mean_absolute_error: 0.9369\n",
      "Epoch 25/200\n",
      " - 126s - loss: 4.9197 - predictions_counts_loss: 4.9197 - predictions_counts_mean_squared_error: 4.9197 - predictions_counts_mean_absolute_error: 0.9380 - val_loss: 4.8290 - val_predictions_counts_loss: 4.8290 - val_predictions_counts_mean_squared_error: 4.8290 - val_predictions_counts_mean_absolute_error: 0.9361\n"
     ]
    },
    {
     "name": "stdout",
     "output_type": "stream",
     "text": [
      "Epoch 26/200\n",
      " - 127s - loss: 4.9165 - predictions_counts_loss: 4.9165 - predictions_counts_mean_squared_error: 4.9165 - predictions_counts_mean_absolute_error: 0.9373 - val_loss: 4.8264 - val_predictions_counts_loss: 4.8264 - val_predictions_counts_mean_squared_error: 4.8264 - val_predictions_counts_mean_absolute_error: 0.9355\n",
      "Epoch 27/200\n",
      " - 126s - loss: 4.9134 - predictions_counts_loss: 4.9134 - predictions_counts_mean_squared_error: 4.9134 - predictions_counts_mean_absolute_error: 0.9364 - val_loss: 4.8239 - val_predictions_counts_loss: 4.8239 - val_predictions_counts_mean_squared_error: 4.8239 - val_predictions_counts_mean_absolute_error: 0.9349\n",
      "Epoch 28/200\n",
      " - 126s - loss: 4.9103 - predictions_counts_loss: 4.9103 - predictions_counts_mean_squared_error: 4.9103 - predictions_counts_mean_absolute_error: 0.9356 - val_loss: 4.8215 - val_predictions_counts_loss: 4.8215 - val_predictions_counts_mean_squared_error: 4.8215 - val_predictions_counts_mean_absolute_error: 0.9343\n",
      "Epoch 29/200\n",
      " - 127s - loss: 4.9073 - predictions_counts_loss: 4.9073 - predictions_counts_mean_squared_error: 4.9073 - predictions_counts_mean_absolute_error: 0.9349 - val_loss: 4.8191 - val_predictions_counts_loss: 4.8191 - val_predictions_counts_mean_squared_error: 4.8191 - val_predictions_counts_mean_absolute_error: 0.9338\n",
      "Epoch 30/200\n",
      " - 126s - loss: 4.9044 - predictions_counts_loss: 4.9044 - predictions_counts_mean_squared_error: 4.9044 - predictions_counts_mean_absolute_error: 0.9344 - val_loss: 4.8168 - val_predictions_counts_loss: 4.8168 - val_predictions_counts_mean_squared_error: 4.8168 - val_predictions_counts_mean_absolute_error: 0.9333\n",
      "Epoch 31/200\n",
      " - 126s - loss: 4.9016 - predictions_counts_loss: 4.9016 - predictions_counts_mean_squared_error: 4.9016 - predictions_counts_mean_absolute_error: 0.9338 - val_loss: 4.8146 - val_predictions_counts_loss: 4.8146 - val_predictions_counts_mean_squared_error: 4.8146 - val_predictions_counts_mean_absolute_error: 0.9329\n",
      "Epoch 32/200\n",
      " - 126s - loss: 4.8988 - predictions_counts_loss: 4.8988 - predictions_counts_mean_squared_error: 4.8988 - predictions_counts_mean_absolute_error: 0.9334 - val_loss: 4.8124 - val_predictions_counts_loss: 4.8124 - val_predictions_counts_mean_squared_error: 4.8124 - val_predictions_counts_mean_absolute_error: 0.9324\n",
      "Epoch 33/200\n",
      " - 126s - loss: 4.8961 - predictions_counts_loss: 4.8961 - predictions_counts_mean_squared_error: 4.8961 - predictions_counts_mean_absolute_error: 0.9328 - val_loss: 4.8103 - val_predictions_counts_loss: 4.8103 - val_predictions_counts_mean_squared_error: 4.8103 - val_predictions_counts_mean_absolute_error: 0.9319\n",
      "Epoch 34/200\n",
      " - 127s - loss: 4.8934 - predictions_counts_loss: 4.8934 - predictions_counts_mean_squared_error: 4.8934 - predictions_counts_mean_absolute_error: 0.9325 - val_loss: 4.8082 - val_predictions_counts_loss: 4.8082 - val_predictions_counts_mean_squared_error: 4.8082 - val_predictions_counts_mean_absolute_error: 0.9314\n",
      "Epoch 35/200\n",
      " - 126s - loss: 4.8907 - predictions_counts_loss: 4.8907 - predictions_counts_mean_squared_error: 4.8907 - predictions_counts_mean_absolute_error: 0.9316 - val_loss: 4.8062 - val_predictions_counts_loss: 4.8062 - val_predictions_counts_mean_squared_error: 4.8062 - val_predictions_counts_mean_absolute_error: 0.9310\n",
      "Epoch 36/200\n",
      " - 127s - loss: 4.8881 - predictions_counts_loss: 4.8881 - predictions_counts_mean_squared_error: 4.8881 - predictions_counts_mean_absolute_error: 0.9315 - val_loss: 4.8042 - val_predictions_counts_loss: 4.8042 - val_predictions_counts_mean_squared_error: 4.8042 - val_predictions_counts_mean_absolute_error: 0.9306\n",
      "Epoch 37/200\n",
      " - 127s - loss: 4.8856 - predictions_counts_loss: 4.8856 - predictions_counts_mean_squared_error: 4.8856 - predictions_counts_mean_absolute_error: 0.9309 - val_loss: 4.8022 - val_predictions_counts_loss: 4.8022 - val_predictions_counts_mean_squared_error: 4.8022 - val_predictions_counts_mean_absolute_error: 0.9301\n",
      "Epoch 38/200\n",
      " - 126s - loss: 4.8831 - predictions_counts_loss: 4.8831 - predictions_counts_mean_squared_error: 4.8831 - predictions_counts_mean_absolute_error: 0.9303 - val_loss: 4.8004 - val_predictions_counts_loss: 4.8004 - val_predictions_counts_mean_squared_error: 4.8004 - val_predictions_counts_mean_absolute_error: 0.9298\n",
      "Epoch 39/200\n",
      " - 127s - loss: 4.8806 - predictions_counts_loss: 4.8806 - predictions_counts_mean_squared_error: 4.8806 - predictions_counts_mean_absolute_error: 0.9297 - val_loss: 4.7985 - val_predictions_counts_loss: 4.7985 - val_predictions_counts_mean_squared_error: 4.7985 - val_predictions_counts_mean_absolute_error: 0.9295\n",
      "Epoch 40/200\n",
      " - 126s - loss: 4.8782 - predictions_counts_loss: 4.8782 - predictions_counts_mean_squared_error: 4.8782 - predictions_counts_mean_absolute_error: 0.9295 - val_loss: 4.7967 - val_predictions_counts_loss: 4.7967 - val_predictions_counts_mean_squared_error: 4.7967 - val_predictions_counts_mean_absolute_error: 0.9291\n",
      "Epoch 41/200\n",
      " - 127s - loss: 4.8758 - predictions_counts_loss: 4.8758 - predictions_counts_mean_squared_error: 4.8758 - predictions_counts_mean_absolute_error: 0.9291 - val_loss: 4.7949 - val_predictions_counts_loss: 4.7949 - val_predictions_counts_mean_squared_error: 4.7949 - val_predictions_counts_mean_absolute_error: 0.9287\n",
      "Epoch 42/200\n",
      " - 126s - loss: 4.8735 - predictions_counts_loss: 4.8735 - predictions_counts_mean_squared_error: 4.8735 - predictions_counts_mean_absolute_error: 0.9285 - val_loss: 4.7932 - val_predictions_counts_loss: 4.7932 - val_predictions_counts_mean_squared_error: 4.7932 - val_predictions_counts_mean_absolute_error: 0.9285\n",
      "Epoch 43/200\n",
      " - 127s - loss: 4.8712 - predictions_counts_loss: 4.8712 - predictions_counts_mean_squared_error: 4.8712 - predictions_counts_mean_absolute_error: 0.9280 - val_loss: 4.7915 - val_predictions_counts_loss: 4.7915 - val_predictions_counts_mean_squared_error: 4.7915 - val_predictions_counts_mean_absolute_error: 0.9281\n",
      "Epoch 44/200\n",
      " - 126s - loss: 4.8689 - predictions_counts_loss: 4.8689 - predictions_counts_mean_squared_error: 4.8689 - predictions_counts_mean_absolute_error: 0.9279 - val_loss: 4.7898 - val_predictions_counts_loss: 4.7898 - val_predictions_counts_mean_squared_error: 4.7898 - val_predictions_counts_mean_absolute_error: 0.9278\n",
      "Epoch 45/200\n",
      " - 126s - loss: 4.8666 - predictions_counts_loss: 4.8666 - predictions_counts_mean_squared_error: 4.8666 - predictions_counts_mean_absolute_error: 0.9275 - val_loss: 4.7881 - val_predictions_counts_loss: 4.7881 - val_predictions_counts_mean_squared_error: 4.7881 - val_predictions_counts_mean_absolute_error: 0.9275\n",
      "Epoch 46/200\n",
      " - 126s - loss: 4.8644 - predictions_counts_loss: 4.8644 - predictions_counts_mean_squared_error: 4.8644 - predictions_counts_mean_absolute_error: 0.9271 - val_loss: 4.7865 - val_predictions_counts_loss: 4.7865 - val_predictions_counts_mean_squared_error: 4.7865 - val_predictions_counts_mean_absolute_error: 0.9272\n",
      "Epoch 47/200\n",
      " - 126s - loss: 4.8622 - predictions_counts_loss: 4.8622 - predictions_counts_mean_squared_error: 4.8622 - predictions_counts_mean_absolute_error: 0.9267 - val_loss: 4.7849 - val_predictions_counts_loss: 4.7849 - val_predictions_counts_mean_squared_error: 4.7849 - val_predictions_counts_mean_absolute_error: 0.9269\n",
      "Epoch 48/200\n",
      " - 126s - loss: 4.8600 - predictions_counts_loss: 4.8600 - predictions_counts_mean_squared_error: 4.8600 - predictions_counts_mean_absolute_error: 0.9263 - val_loss: 4.7833 - val_predictions_counts_loss: 4.7833 - val_predictions_counts_mean_squared_error: 4.7833 - val_predictions_counts_mean_absolute_error: 0.9265\n",
      "Epoch 49/200\n",
      " - 127s - loss: 4.8579 - predictions_counts_loss: 4.8579 - predictions_counts_mean_squared_error: 4.8579 - predictions_counts_mean_absolute_error: 0.9260 - val_loss: 4.7818 - val_predictions_counts_loss: 4.7818 - val_predictions_counts_mean_squared_error: 4.7818 - val_predictions_counts_mean_absolute_error: 0.9263\n",
      "Epoch 50/200\n",
      " - 126s - loss: 4.8558 - predictions_counts_loss: 4.8558 - predictions_counts_mean_squared_error: 4.8558 - predictions_counts_mean_absolute_error: 0.9254 - val_loss: 4.7803 - val_predictions_counts_loss: 4.7803 - val_predictions_counts_mean_squared_error: 4.7803 - val_predictions_counts_mean_absolute_error: 0.9261\n"
     ]
    },
    {
     "name": "stdout",
     "output_type": "stream",
     "text": [
      "Epoch 51/200\n",
      " - 126s - loss: 4.8537 - predictions_counts_loss: 4.8537 - predictions_counts_mean_squared_error: 4.8537 - predictions_counts_mean_absolute_error: 0.9253 - val_loss: 4.7788 - val_predictions_counts_loss: 4.7788 - val_predictions_counts_mean_squared_error: 4.7788 - val_predictions_counts_mean_absolute_error: 0.9257\n",
      "Epoch 52/200\n",
      " - 126s - loss: 4.8517 - predictions_counts_loss: 4.8517 - predictions_counts_mean_squared_error: 4.8517 - predictions_counts_mean_absolute_error: 0.9247 - val_loss: 4.7773 - val_predictions_counts_loss: 4.7773 - val_predictions_counts_mean_squared_error: 4.7773 - val_predictions_counts_mean_absolute_error: 0.9255\n",
      "Epoch 53/200\n",
      " - 126s - loss: 4.8496 - predictions_counts_loss: 4.8496 - predictions_counts_mean_squared_error: 4.8496 - predictions_counts_mean_absolute_error: 0.9246 - val_loss: 4.7759 - val_predictions_counts_loss: 4.7759 - val_predictions_counts_mean_squared_error: 4.7759 - val_predictions_counts_mean_absolute_error: 0.9253\n",
      "Epoch 54/200\n",
      " - 126s - loss: 4.8476 - predictions_counts_loss: 4.8476 - predictions_counts_mean_squared_error: 4.8476 - predictions_counts_mean_absolute_error: 0.9244 - val_loss: 4.7744 - val_predictions_counts_loss: 4.7744 - val_predictions_counts_mean_squared_error: 4.7744 - val_predictions_counts_mean_absolute_error: 0.9249\n",
      "Epoch 55/200\n",
      " - 127s - loss: 4.8456 - predictions_counts_loss: 4.8456 - predictions_counts_mean_squared_error: 4.8456 - predictions_counts_mean_absolute_error: 0.9241 - val_loss: 4.7730 - val_predictions_counts_loss: 4.7730 - val_predictions_counts_mean_squared_error: 4.7730 - val_predictions_counts_mean_absolute_error: 0.9246\n",
      "Epoch 56/200\n",
      " - 126s - loss: 4.8436 - predictions_counts_loss: 4.8436 - predictions_counts_mean_squared_error: 4.8436 - predictions_counts_mean_absolute_error: 0.9234 - val_loss: 4.7717 - val_predictions_counts_loss: 4.7717 - val_predictions_counts_mean_squared_error: 4.7717 - val_predictions_counts_mean_absolute_error: 0.9245\n",
      "Epoch 57/200\n",
      " - 127s - loss: 4.8417 - predictions_counts_loss: 4.8417 - predictions_counts_mean_squared_error: 4.8417 - predictions_counts_mean_absolute_error: 0.9235 - val_loss: 4.7703 - val_predictions_counts_loss: 4.7703 - val_predictions_counts_mean_squared_error: 4.7703 - val_predictions_counts_mean_absolute_error: 0.9242\n",
      "Epoch 58/200\n",
      " - 126s - loss: 4.8398 - predictions_counts_loss: 4.8398 - predictions_counts_mean_squared_error: 4.8398 - predictions_counts_mean_absolute_error: 0.9232 - val_loss: 4.7689 - val_predictions_counts_loss: 4.7689 - val_predictions_counts_mean_squared_error: 4.7689 - val_predictions_counts_mean_absolute_error: 0.9239\n",
      "Epoch 59/200\n"
     ]
    },
    {
     "ename": "KeyboardInterrupt",
     "evalue": "",
     "output_type": "error",
     "traceback": [
      "\u001b[0;31m---------------------------------------------------------------------------\u001b[0m",
      "\u001b[0;31mKeyboardInterrupt\u001b[0m                         Traceback (most recent call last)",
      "\u001b[0;32m<ipython-input-102-e35559481dbd>\u001b[0m in \u001b[0;36m<module>\u001b[0;34m()\u001b[0m\n\u001b[1;32m      6\u001b[0m                            \u001b[0mvalidation_data\u001b[0m\u001b[0;34m=\u001b[0m\u001b[0mgerador_validacao\u001b[0m\u001b[0;34m,\u001b[0m \u001b[0;31m#(x_train_val, y_train_val),\u001b[0m\u001b[0;34m\u001b[0m\u001b[0;34m\u001b[0m\u001b[0m\n\u001b[1;32m      7\u001b[0m                            \u001b[0mvalidation_steps\u001b[0m\u001b[0;34m=\u001b[0m\u001b[0mvalidation_steps\u001b[0m\u001b[0;34m,\u001b[0m\u001b[0;34m\u001b[0m\u001b[0;34m\u001b[0m\u001b[0m\n\u001b[0;32m----> 8\u001b[0;31m                            shuffle=True)\n\u001b[0m",
      "\u001b[0;32m~/.conda/envs/py36/lib/python3.6/site-packages/keras/legacy/interfaces.py\u001b[0m in \u001b[0;36mwrapper\u001b[0;34m(*args, **kwargs)\u001b[0m\n\u001b[1;32m     89\u001b[0m                 warnings.warn('Update your `' + object_name + '` call to the ' +\n\u001b[1;32m     90\u001b[0m                               'Keras 2 API: ' + signature, stacklevel=2)\n\u001b[0;32m---> 91\u001b[0;31m             \u001b[0;32mreturn\u001b[0m \u001b[0mfunc\u001b[0m\u001b[0;34m(\u001b[0m\u001b[0;34m*\u001b[0m\u001b[0margs\u001b[0m\u001b[0;34m,\u001b[0m \u001b[0;34m**\u001b[0m\u001b[0mkwargs\u001b[0m\u001b[0;34m)\u001b[0m\u001b[0;34m\u001b[0m\u001b[0;34m\u001b[0m\u001b[0m\n\u001b[0m\u001b[1;32m     92\u001b[0m         \u001b[0mwrapper\u001b[0m\u001b[0;34m.\u001b[0m\u001b[0m_original_function\u001b[0m \u001b[0;34m=\u001b[0m \u001b[0mfunc\u001b[0m\u001b[0;34m\u001b[0m\u001b[0;34m\u001b[0m\u001b[0m\n\u001b[1;32m     93\u001b[0m         \u001b[0;32mreturn\u001b[0m \u001b[0mwrapper\u001b[0m\u001b[0;34m\u001b[0m\u001b[0;34m\u001b[0m\u001b[0m\n",
      "\u001b[0;32m~/.conda/envs/py36/lib/python3.6/site-packages/keras/engine/training.py\u001b[0m in \u001b[0;36mfit_generator\u001b[0;34m(self, generator, steps_per_epoch, epochs, verbose, callbacks, validation_data, validation_steps, class_weight, max_queue_size, workers, use_multiprocessing, shuffle, initial_epoch)\u001b[0m\n\u001b[1;32m   1416\u001b[0m             \u001b[0muse_multiprocessing\u001b[0m\u001b[0;34m=\u001b[0m\u001b[0muse_multiprocessing\u001b[0m\u001b[0;34m,\u001b[0m\u001b[0;34m\u001b[0m\u001b[0;34m\u001b[0m\u001b[0m\n\u001b[1;32m   1417\u001b[0m             \u001b[0mshuffle\u001b[0m\u001b[0;34m=\u001b[0m\u001b[0mshuffle\u001b[0m\u001b[0;34m,\u001b[0m\u001b[0;34m\u001b[0m\u001b[0;34m\u001b[0m\u001b[0m\n\u001b[0;32m-> 1418\u001b[0;31m             initial_epoch=initial_epoch)\n\u001b[0m\u001b[1;32m   1419\u001b[0m \u001b[0;34m\u001b[0m\u001b[0m\n\u001b[1;32m   1420\u001b[0m     \u001b[0;34m@\u001b[0m\u001b[0minterfaces\u001b[0m\u001b[0;34m.\u001b[0m\u001b[0mlegacy_generator_methods_support\u001b[0m\u001b[0;34m\u001b[0m\u001b[0;34m\u001b[0m\u001b[0m\n",
      "\u001b[0;32m~/.conda/envs/py36/lib/python3.6/site-packages/keras/engine/training_generator.py\u001b[0m in \u001b[0;36mfit_generator\u001b[0;34m(model, generator, steps_per_epoch, epochs, verbose, callbacks, validation_data, validation_steps, class_weight, max_queue_size, workers, use_multiprocessing, shuffle, initial_epoch)\u001b[0m\n\u001b[1;32m    232\u001b[0m                             \u001b[0mval_enqueuer_gen\u001b[0m\u001b[0;34m,\u001b[0m\u001b[0;34m\u001b[0m\u001b[0;34m\u001b[0m\u001b[0m\n\u001b[1;32m    233\u001b[0m                             \u001b[0mvalidation_steps\u001b[0m\u001b[0;34m,\u001b[0m\u001b[0;34m\u001b[0m\u001b[0;34m\u001b[0m\u001b[0m\n\u001b[0;32m--> 234\u001b[0;31m                             workers=0)\n\u001b[0m\u001b[1;32m    235\u001b[0m                     \u001b[0;32melse\u001b[0m\u001b[0;34m:\u001b[0m\u001b[0;34m\u001b[0m\u001b[0;34m\u001b[0m\u001b[0m\n\u001b[1;32m    236\u001b[0m                         \u001b[0;31m# No need for try/except because\u001b[0m\u001b[0;34m\u001b[0m\u001b[0;34m\u001b[0m\u001b[0;34m\u001b[0m\u001b[0m\n",
      "\u001b[0;32m~/.conda/envs/py36/lib/python3.6/site-packages/keras/legacy/interfaces.py\u001b[0m in \u001b[0;36mwrapper\u001b[0;34m(*args, **kwargs)\u001b[0m\n\u001b[1;32m     89\u001b[0m                 warnings.warn('Update your `' + object_name + '` call to the ' +\n\u001b[1;32m     90\u001b[0m                               'Keras 2 API: ' + signature, stacklevel=2)\n\u001b[0;32m---> 91\u001b[0;31m             \u001b[0;32mreturn\u001b[0m \u001b[0mfunc\u001b[0m\u001b[0;34m(\u001b[0m\u001b[0;34m*\u001b[0m\u001b[0margs\u001b[0m\u001b[0;34m,\u001b[0m \u001b[0;34m**\u001b[0m\u001b[0mkwargs\u001b[0m\u001b[0;34m)\u001b[0m\u001b[0;34m\u001b[0m\u001b[0;34m\u001b[0m\u001b[0m\n\u001b[0m\u001b[1;32m     92\u001b[0m         \u001b[0mwrapper\u001b[0m\u001b[0;34m.\u001b[0m\u001b[0m_original_function\u001b[0m \u001b[0;34m=\u001b[0m \u001b[0mfunc\u001b[0m\u001b[0;34m\u001b[0m\u001b[0;34m\u001b[0m\u001b[0m\n\u001b[1;32m     93\u001b[0m         \u001b[0;32mreturn\u001b[0m \u001b[0mwrapper\u001b[0m\u001b[0;34m\u001b[0m\u001b[0;34m\u001b[0m\u001b[0m\n",
      "\u001b[0;32m~/.conda/envs/py36/lib/python3.6/site-packages/keras/engine/training.py\u001b[0m in \u001b[0;36mevaluate_generator\u001b[0;34m(self, generator, steps, max_queue_size, workers, use_multiprocessing, verbose)\u001b[0m\n\u001b[1;32m   1470\u001b[0m             \u001b[0mworkers\u001b[0m\u001b[0;34m=\u001b[0m\u001b[0mworkers\u001b[0m\u001b[0;34m,\u001b[0m\u001b[0;34m\u001b[0m\u001b[0;34m\u001b[0m\u001b[0m\n\u001b[1;32m   1471\u001b[0m             \u001b[0muse_multiprocessing\u001b[0m\u001b[0;34m=\u001b[0m\u001b[0muse_multiprocessing\u001b[0m\u001b[0;34m,\u001b[0m\u001b[0;34m\u001b[0m\u001b[0;34m\u001b[0m\u001b[0m\n\u001b[0;32m-> 1472\u001b[0;31m             verbose=verbose)\n\u001b[0m\u001b[1;32m   1473\u001b[0m \u001b[0;34m\u001b[0m\u001b[0m\n\u001b[1;32m   1474\u001b[0m     \u001b[0;34m@\u001b[0m\u001b[0minterfaces\u001b[0m\u001b[0;34m.\u001b[0m\u001b[0mlegacy_generator_methods_support\u001b[0m\u001b[0;34m\u001b[0m\u001b[0;34m\u001b[0m\u001b[0m\n",
      "\u001b[0;32m~/.conda/envs/py36/lib/python3.6/site-packages/keras/engine/training_generator.py\u001b[0m in \u001b[0;36mevaluate_generator\u001b[0;34m(model, generator, steps, max_queue_size, workers, use_multiprocessing, verbose)\u001b[0m\n\u001b[1;32m    344\u001b[0m                                  \u001b[0;34m'or (x, y). Found: '\u001b[0m \u001b[0;34m+\u001b[0m\u001b[0;34m\u001b[0m\u001b[0;34m\u001b[0m\u001b[0m\n\u001b[1;32m    345\u001b[0m                                  str(generator_output))\n\u001b[0;32m--> 346\u001b[0;31m             \u001b[0mouts\u001b[0m \u001b[0;34m=\u001b[0m \u001b[0mmodel\u001b[0m\u001b[0;34m.\u001b[0m\u001b[0mtest_on_batch\u001b[0m\u001b[0;34m(\u001b[0m\u001b[0mx\u001b[0m\u001b[0;34m,\u001b[0m \u001b[0my\u001b[0m\u001b[0;34m,\u001b[0m \u001b[0msample_weight\u001b[0m\u001b[0;34m=\u001b[0m\u001b[0msample_weight\u001b[0m\u001b[0;34m)\u001b[0m\u001b[0;34m\u001b[0m\u001b[0;34m\u001b[0m\u001b[0m\n\u001b[0m\u001b[1;32m    347\u001b[0m             \u001b[0mouts\u001b[0m \u001b[0;34m=\u001b[0m \u001b[0mto_list\u001b[0m\u001b[0;34m(\u001b[0m\u001b[0mouts\u001b[0m\u001b[0;34m)\u001b[0m\u001b[0;34m\u001b[0m\u001b[0;34m\u001b[0m\u001b[0m\n\u001b[1;32m    348\u001b[0m             \u001b[0mouts_per_batch\u001b[0m\u001b[0;34m.\u001b[0m\u001b[0mappend\u001b[0m\u001b[0;34m(\u001b[0m\u001b[0mouts\u001b[0m\u001b[0;34m)\u001b[0m\u001b[0;34m\u001b[0m\u001b[0;34m\u001b[0m\u001b[0m\n",
      "\u001b[0;32m~/.conda/envs/py36/lib/python3.6/site-packages/keras/engine/training.py\u001b[0m in \u001b[0;36mtest_on_batch\u001b[0;34m(self, x, y, sample_weight)\u001b[0m\n\u001b[1;32m   1254\u001b[0m             \u001b[0mins\u001b[0m \u001b[0;34m=\u001b[0m \u001b[0mx\u001b[0m \u001b[0;34m+\u001b[0m \u001b[0my\u001b[0m \u001b[0;34m+\u001b[0m \u001b[0msample_weights\u001b[0m\u001b[0;34m\u001b[0m\u001b[0;34m\u001b[0m\u001b[0m\n\u001b[1;32m   1255\u001b[0m         \u001b[0mself\u001b[0m\u001b[0;34m.\u001b[0m\u001b[0m_make_test_function\u001b[0m\u001b[0;34m(\u001b[0m\u001b[0;34m)\u001b[0m\u001b[0;34m\u001b[0m\u001b[0;34m\u001b[0m\u001b[0m\n\u001b[0;32m-> 1256\u001b[0;31m         \u001b[0moutputs\u001b[0m \u001b[0;34m=\u001b[0m \u001b[0mself\u001b[0m\u001b[0;34m.\u001b[0m\u001b[0mtest_function\u001b[0m\u001b[0;34m(\u001b[0m\u001b[0mins\u001b[0m\u001b[0;34m)\u001b[0m\u001b[0;34m\u001b[0m\u001b[0;34m\u001b[0m\u001b[0m\n\u001b[0m\u001b[1;32m   1257\u001b[0m         \u001b[0;32mreturn\u001b[0m \u001b[0munpack_singleton\u001b[0m\u001b[0;34m(\u001b[0m\u001b[0moutputs\u001b[0m\u001b[0;34m)\u001b[0m\u001b[0;34m\u001b[0m\u001b[0;34m\u001b[0m\u001b[0m\n\u001b[1;32m   1258\u001b[0m \u001b[0;34m\u001b[0m\u001b[0m\n",
      "\u001b[0;32m~/.conda/envs/py36/lib/python3.6/site-packages/keras/backend/tensorflow_backend.py\u001b[0m in \u001b[0;36m__call__\u001b[0;34m(self, inputs)\u001b[0m\n\u001b[1;32m   2713\u001b[0m                 \u001b[0;32mreturn\u001b[0m \u001b[0mself\u001b[0m\u001b[0;34m.\u001b[0m\u001b[0m_legacy_call\u001b[0m\u001b[0;34m(\u001b[0m\u001b[0minputs\u001b[0m\u001b[0;34m)\u001b[0m\u001b[0;34m\u001b[0m\u001b[0;34m\u001b[0m\u001b[0m\n\u001b[1;32m   2714\u001b[0m \u001b[0;34m\u001b[0m\u001b[0m\n\u001b[0;32m-> 2715\u001b[0;31m             \u001b[0;32mreturn\u001b[0m \u001b[0mself\u001b[0m\u001b[0;34m.\u001b[0m\u001b[0m_call\u001b[0m\u001b[0;34m(\u001b[0m\u001b[0minputs\u001b[0m\u001b[0;34m)\u001b[0m\u001b[0;34m\u001b[0m\u001b[0;34m\u001b[0m\u001b[0m\n\u001b[0m\u001b[1;32m   2716\u001b[0m         \u001b[0;32melse\u001b[0m\u001b[0;34m:\u001b[0m\u001b[0;34m\u001b[0m\u001b[0;34m\u001b[0m\u001b[0m\n\u001b[1;32m   2717\u001b[0m             \u001b[0;32mif\u001b[0m \u001b[0mpy_any\u001b[0m\u001b[0;34m(\u001b[0m\u001b[0mis_tensor\u001b[0m\u001b[0;34m(\u001b[0m\u001b[0mx\u001b[0m\u001b[0;34m)\u001b[0m \u001b[0;32mfor\u001b[0m \u001b[0mx\u001b[0m \u001b[0;32min\u001b[0m \u001b[0minputs\u001b[0m\u001b[0;34m)\u001b[0m\u001b[0;34m:\u001b[0m\u001b[0;34m\u001b[0m\u001b[0;34m\u001b[0m\u001b[0m\n",
      "\u001b[0;32m~/.conda/envs/py36/lib/python3.6/site-packages/keras/backend/tensorflow_backend.py\u001b[0m in \u001b[0;36m_call\u001b[0;34m(self, inputs)\u001b[0m\n\u001b[1;32m   2673\u001b[0m             \u001b[0mfetched\u001b[0m \u001b[0;34m=\u001b[0m \u001b[0mself\u001b[0m\u001b[0;34m.\u001b[0m\u001b[0m_callable_fn\u001b[0m\u001b[0;34m(\u001b[0m\u001b[0;34m*\u001b[0m\u001b[0marray_vals\u001b[0m\u001b[0;34m,\u001b[0m \u001b[0mrun_metadata\u001b[0m\u001b[0;34m=\u001b[0m\u001b[0mself\u001b[0m\u001b[0;34m.\u001b[0m\u001b[0mrun_metadata\u001b[0m\u001b[0;34m)\u001b[0m\u001b[0;34m\u001b[0m\u001b[0;34m\u001b[0m\u001b[0m\n\u001b[1;32m   2674\u001b[0m         \u001b[0;32melse\u001b[0m\u001b[0;34m:\u001b[0m\u001b[0;34m\u001b[0m\u001b[0;34m\u001b[0m\u001b[0m\n\u001b[0;32m-> 2675\u001b[0;31m             \u001b[0mfetched\u001b[0m \u001b[0;34m=\u001b[0m \u001b[0mself\u001b[0m\u001b[0;34m.\u001b[0m\u001b[0m_callable_fn\u001b[0m\u001b[0;34m(\u001b[0m\u001b[0;34m*\u001b[0m\u001b[0marray_vals\u001b[0m\u001b[0;34m)\u001b[0m\u001b[0;34m\u001b[0m\u001b[0;34m\u001b[0m\u001b[0m\n\u001b[0m\u001b[1;32m   2676\u001b[0m         \u001b[0;32mreturn\u001b[0m \u001b[0mfetched\u001b[0m\u001b[0;34m[\u001b[0m\u001b[0;34m:\u001b[0m\u001b[0mlen\u001b[0m\u001b[0;34m(\u001b[0m\u001b[0mself\u001b[0m\u001b[0;34m.\u001b[0m\u001b[0moutputs\u001b[0m\u001b[0;34m)\u001b[0m\u001b[0;34m]\u001b[0m\u001b[0;34m\u001b[0m\u001b[0;34m\u001b[0m\u001b[0m\n\u001b[1;32m   2677\u001b[0m \u001b[0;34m\u001b[0m\u001b[0m\n",
      "\u001b[0;32m~/.conda/envs/py36/lib/python3.6/site-packages/tensorflow/python/client/session.py\u001b[0m in \u001b[0;36m__call__\u001b[0;34m(self, *args, **kwargs)\u001b[0m\n\u001b[1;32m   1437\u001b[0m           ret = tf_session.TF_SessionRunCallable(\n\u001b[1;32m   1438\u001b[0m               \u001b[0mself\u001b[0m\u001b[0;34m.\u001b[0m\u001b[0m_session\u001b[0m\u001b[0;34m.\u001b[0m\u001b[0m_session\u001b[0m\u001b[0;34m,\u001b[0m \u001b[0mself\u001b[0m\u001b[0;34m.\u001b[0m\u001b[0m_handle\u001b[0m\u001b[0;34m,\u001b[0m \u001b[0margs\u001b[0m\u001b[0;34m,\u001b[0m \u001b[0mstatus\u001b[0m\u001b[0;34m,\u001b[0m\u001b[0;34m\u001b[0m\u001b[0;34m\u001b[0m\u001b[0m\n\u001b[0;32m-> 1439\u001b[0;31m               run_metadata_ptr)\n\u001b[0m\u001b[1;32m   1440\u001b[0m         \u001b[0;32mif\u001b[0m \u001b[0mrun_metadata\u001b[0m\u001b[0;34m:\u001b[0m\u001b[0;34m\u001b[0m\u001b[0;34m\u001b[0m\u001b[0m\n\u001b[1;32m   1441\u001b[0m           \u001b[0mproto_data\u001b[0m \u001b[0;34m=\u001b[0m \u001b[0mtf_session\u001b[0m\u001b[0;34m.\u001b[0m\u001b[0mTF_GetBuffer\u001b[0m\u001b[0;34m(\u001b[0m\u001b[0mrun_metadata_ptr\u001b[0m\u001b[0;34m)\u001b[0m\u001b[0;34m\u001b[0m\u001b[0;34m\u001b[0m\u001b[0m\n",
      "\u001b[0;31mKeyboardInterrupt\u001b[0m: "
     ]
    }
   ],
   "source": [
    "hist_fine = model.fit_generator(generator=gerador_treino,\n",
    "                           steps_per_epoch=steps_per_epoch,\n",
    "                           epochs=200,\n",
    "                           verbose=2,\n",
    "                           #callbacks=callbacks,\n",
    "                           validation_data=gerador_validacao, #(x_train_val, y_train_val),\n",
    "                           validation_steps=validation_steps,\n",
    "                           shuffle=True)"
   ]
  },
  {
   "cell_type": "code",
   "execution_count": 105,
   "metadata": {},
   "outputs": [],
   "source": [
    "dados = [x['meta'] for x in ids if x['tipo'] == 'penelope_multiplo' and len(x['meta']) == 2 \n",
    " and (x['meta'][0]['y'] == np.array([[1, 0, 0, 0, 0, 0, 0, 0, 0, 0]])).all()\n",
    " and (x['meta'][1]['y'] == np.array([[0, 0, 0, 0, 1, 0, 0, 0, 0, 0]])).all()\n",
    " and (x['meta'][0]['n'] == np.array([[1e8, 0, 0, 0, 0, 0, 0, 0, 0, 0]])).all()\n",
    " #and (x['meta'][1]['n'] == np.array([[0, 0, 0, 0, 1e8, 0, 0, 0, 0, 0]])).all()\n",
    "]"
   ]
  },
  {
   "cell_type": "code",
   "execution_count": null,
   "metadata": {},
   "outputs": [],
   "source": [
    "dados[0][0]['X'] + dados[0][1]['X']"
   ]
  },
  {
   "cell_type": "code",
   "execution_count": null,
   "metadata": {},
   "outputs": [],
   "source": [
    "dados[0][0]['n'] + dados[0][1]['n']"
   ]
  },
  {
   "cell_type": "code",
   "execution_count": 106,
   "metadata": {},
   "outputs": [
    {
     "name": "stderr",
     "output_type": "stream",
     "text": [
      "/home/andre/.conda/envs/py36/lib/python3.6/site-packages/ipykernel_launcher.py:7: RuntimeWarning: divide by zero encountered in true_divide\n",
      "  import sys\n"
     ]
    },
    {
     "data": {
      "text/html": [
       "<div>\n",
       "<style scoped>\n",
       "    .dataframe tbody tr th:only-of-type {\n",
       "        vertical-align: middle;\n",
       "    }\n",
       "\n",
       "    .dataframe tbody tr th {\n",
       "        vertical-align: top;\n",
       "    }\n",
       "\n",
       "    .dataframe thead th {\n",
       "        text-align: right;\n",
       "    }\n",
       "</style>\n",
       "<table border=\"1\" class=\"dataframe\">\n",
       "  <thead>\n",
       "    <tr style=\"text-align: right;\">\n",
       "      <th></th>\n",
       "      <th>nuclei_score</th>\n",
       "      <th>nuclei_activity</th>\n",
       "      <th>real_activity</th>\n",
       "      <th>diff</th>\n",
       "    </tr>\n",
       "    <tr>\n",
       "      <th>radionuclideo</th>\n",
       "      <th></th>\n",
       "      <th></th>\n",
       "      <th></th>\n",
       "      <th></th>\n",
       "    </tr>\n",
       "  </thead>\n",
       "  <tbody>\n",
       "    <tr>\n",
       "      <th>Am-241</th>\n",
       "      <td>100.00</td>\n",
       "      <td>107,255,720.00</td>\n",
       "      <td>100,000,000.00</td>\n",
       "      <td>1.07</td>\n",
       "    </tr>\n",
       "    <tr>\n",
       "      <th>Ba-133</th>\n",
       "      <td>5.02</td>\n",
       "      <td>2.81</td>\n",
       "      <td>0.00</td>\n",
       "      <td>inf</td>\n",
       "    </tr>\n",
       "    <tr>\n",
       "      <th>Cd-109</th>\n",
       "      <td>0.11</td>\n",
       "      <td>0.51</td>\n",
       "      <td>0.00</td>\n",
       "      <td>inf</td>\n",
       "    </tr>\n",
       "    <tr>\n",
       "      <th>Co-57</th>\n",
       "      <td>0.01</td>\n",
       "      <td>0.45</td>\n",
       "      <td>0.00</td>\n",
       "      <td>inf</td>\n",
       "    </tr>\n",
       "    <tr>\n",
       "      <th>Co-60</th>\n",
       "      <td>100.00</td>\n",
       "      <td>1,271.12</td>\n",
       "      <td>2,000.00</td>\n",
       "      <td>0.64</td>\n",
       "    </tr>\n",
       "    <tr>\n",
       "      <th>Cs-137</th>\n",
       "      <td>0.00</td>\n",
       "      <td>1.39</td>\n",
       "      <td>0.00</td>\n",
       "      <td>inf</td>\n",
       "    </tr>\n",
       "    <tr>\n",
       "      <th>Eu-152</th>\n",
       "      <td>0.00</td>\n",
       "      <td>1.04</td>\n",
       "      <td>0.00</td>\n",
       "      <td>inf</td>\n",
       "    </tr>\n",
       "    <tr>\n",
       "      <th>Mn-54</th>\n",
       "      <td>0.00</td>\n",
       "      <td>0.60</td>\n",
       "      <td>0.00</td>\n",
       "      <td>inf</td>\n",
       "    </tr>\n",
       "    <tr>\n",
       "      <th>Na-22</th>\n",
       "      <td>0.00</td>\n",
       "      <td>1.18</td>\n",
       "      <td>0.00</td>\n",
       "      <td>inf</td>\n",
       "    </tr>\n",
       "    <tr>\n",
       "      <th>Pb-210</th>\n",
       "      <td>19.41</td>\n",
       "      <td>22.53</td>\n",
       "      <td>0.00</td>\n",
       "      <td>inf</td>\n",
       "    </tr>\n",
       "  </tbody>\n",
       "</table>\n",
       "</div>"
      ],
      "text/plain": [
       "               nuclei_score  nuclei_activity  real_activity  diff\n",
       "radionuclideo                                                    \n",
       "Am-241               100.00   107,255,720.00 100,000,000.00  1.07\n",
       "Ba-133                 5.02             2.81           0.00   inf\n",
       "Cd-109                 0.11             0.51           0.00   inf\n",
       "Co-57                  0.01             0.45           0.00   inf\n",
       "Co-60                100.00         1,271.12       2,000.00  0.64\n",
       "Cs-137                 0.00             1.39           0.00   inf\n",
       "Eu-152                 0.00             1.04           0.00   inf\n",
       "Mn-54                  0.00             0.60           0.00   inf\n",
       "Na-22                  0.00             1.18           0.00   inf\n",
       "Pb-210                19.41            22.53           0.00   inf"
      ]
     },
     "execution_count": 106,
     "metadata": {},
     "output_type": "execute_result"
    }
   ],
   "source": [
    "preds = model.predict(np.array([(dados[0][0]['X'] + dados[0][1]['X']).reshape((128, 128, 1))]))\n",
    "\n",
    "df = pd.DataFrame({'radionuclideo':binarizer.classes_,\n",
    "                   'nuclei_score': preds[0][0]*100,\n",
    "                   'nuclei_activity': np.exp(preds[1][0]),\n",
    "                   'real_activity': (dados[0][0]['n'] + dados[0][1]['n'])[0],\n",
    "                   'diff': np.exp(preds[1][0]) / np.array((dados[0][0]['n'] + dados[0][1]['n'])[0])\n",
    "                  })\n",
    "df = df.set_index(\"radionuclideo\")\n",
    "df"
   ]
  },
  {
   "cell_type": "code",
   "execution_count": 111,
   "metadata": {},
   "outputs": [
    {
     "data": {
      "text/plain": [
       "(7.25572000000001, -36.45)"
      ]
     },
     "execution_count": 111,
     "metadata": {},
     "output_type": "execute_result"
    }
   ],
   "source": [
    "(107_255_720 / 1e8 -1) * 100, (1_271 / 2_000 - 1) *100"
   ]
  }
 ],
 "metadata": {
  "kernelspec": {
   "display_name": "Python 3",
   "language": "python",
   "name": "python3"
  },
  "language_info": {
   "codemirror_mode": {
    "name": "ipython",
    "version": 3
   },
   "file_extension": ".py",
   "mimetype": "text/x-python",
   "name": "python",
   "nbconvert_exporter": "python",
   "pygments_lexer": "ipython3",
   "version": "3.6.8"
  }
 },
 "nbformat": 4,
 "nbformat_minor": 2
}
