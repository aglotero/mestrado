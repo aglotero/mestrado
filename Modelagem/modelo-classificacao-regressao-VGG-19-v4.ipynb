{
 "cells": [
  {
   "cell_type": "code",
   "execution_count": 1,
   "metadata": {},
   "outputs": [],
   "source": [
    "import glob\n",
    "import numpy as np\n",
    "import pandas as pd\n",
    "from tqdm import tqdm_notebook\n",
    "from sklearn.preprocessing import MultiLabelBinarizer\n",
    "\n",
    "pd.options.display.float_format = '{:,.2f}'.format"
   ]
  },
  {
   "cell_type": "code",
   "execution_count": 2,
   "metadata": {},
   "outputs": [
    {
     "name": "stderr",
     "output_type": "stream",
     "text": [
      "/home/andre/.conda/envs/py36/lib/python3.6/site-packages/h5py/__init__.py:36: FutureWarning: Conversion of the second argument of issubdtype from `float` to `np.floating` is deprecated. In future, it will be treated as `np.float64 == np.dtype(float).type`.\n",
      "  from ._conv import register_converters as _register_converters\n",
      "Using TensorFlow backend.\n"
     ]
    }
   ],
   "source": [
    "import pandas as pd\n",
    "import numpy as np\n",
    "import matplotlib.pyplot as plt\n",
    "import random\n",
    "# Para o Modelo\n",
    "import tensorflow as tf\n",
    "import keras\n",
    "from keras import backend as K\n",
    "from keras.applications.vgg19 import VGG19\n",
    "from keras.optimizers import *\n",
    "from keras.callbacks import *\n",
    "from keras.metrics import top_k_categorical_accuracy\n",
    "from keras.utils import to_categorical\n",
    "from sklearn.metrics import accuracy_score\n",
    "from sklearn.model_selection import train_test_split\n",
    "\n",
    "from sklearn.preprocessing import StandardScaler"
   ]
  },
  {
   "cell_type": "markdown",
   "metadata": {},
   "source": [
    "# Processando os dados\n",
    "\n",
    "## Gerados com Penelope"
   ]
  },
  {
   "cell_type": "code",
   "execution_count": 3,
   "metadata": {},
   "outputs": [],
   "source": [
    "files =  glob.glob(\"../dados_*/*.dat\")"
   ]
  },
  {
   "cell_type": "code",
   "execution_count": 4,
   "metadata": {},
   "outputs": [
    {
     "data": {
      "text/plain": [
       "1320"
      ]
     },
     "execution_count": 4,
     "metadata": {},
     "output_type": "execute_result"
    }
   ],
   "source": [
    "len(files)"
   ]
  },
  {
   "cell_type": "code",
   "execution_count": 6,
   "metadata": {},
   "outputs": [],
   "source": [
    "def le_performance_report(filename):\n",
    "    # 164000\n",
    "    # Performance report\n",
    "    #   Random seeds:\n",
    "    #   1800926990\n",
    "    #   1275941380\n",
    "    #   No. of histories simulated [N]:\n",
    "    #            10000000.\n",
    "    #   CPU time [t] (s):\n",
    "    #    3.28417E+01\n",
    "    #   Speed (histories/s):\n",
    "    #    3.04491E+05\n",
    "    #   Average uncertainty (above 1/2 max score) in % [uncert]:\n",
    "    #    1.27128E-01\n",
    "    #   Intrinsic efficiency [N*uncert^2]^-1:\n",
    "    #    6.18758E-06\n",
    "    #   Absolute efficiency [t*uncert^2]^-1:\n",
    "    #    1.88406E+00\n",
    "    \n",
    "    with open(filename, \"r\") as f:\n",
    "        linhas = f.readlines()\n",
    "    return float(linhas[16400+7][1:])\n",
    "\n",
    "def carrega_dados(filename, n_particulas=1.0e07):\n",
    "    data = {\n",
    "        'Elow(eV)' : [],\n",
    "        'Emiddle(eV)' : [],\n",
    "        'counts(1/eV/hist)' : [],\n",
    "        '+-2sigma':[],\n",
    "        'nbin' : []\n",
    "    }\n",
    "\n",
    "    linha_de_dados = False\n",
    "    with open(filename, \"r\") as f:\n",
    "        lines = f.readlines()\n",
    "        for line in lines:\n",
    "            if line[0] == '#':\n",
    "                linha_de_dados = False\n",
    "            else:\n",
    "                linha_de_dados = True\n",
    "\n",
    "            if linha_de_dados:\n",
    "                aux = line.split(' ')\n",
    "                if len(aux) == 2:\n",
    "                    break\n",
    "\n",
    "                data['Elow(eV)'].append(np.fromstring(aux[2], dtype=np.float64, sep=',')[0])\n",
    "                data['Emiddle(eV)'].append(np.fromstring(aux[4], dtype=np.float64, sep=',')[0])\n",
    "                q = np.fromstring(aux[6], dtype=np.float64, sep=',')[0]\n",
    "                data['counts(1/eV/hist)'].append(q)\n",
    "                data['+-2sigma'].append(np.fromstring(aux[8], dtype=np.float64, sep=',')[0])\n",
    "                nbin = np.fromstring(aux[9], dtype=np.int, sep=',')[0]\n",
    "                data['nbin'].append(nbin)      \n",
    "\n",
    "    df = pd.DataFrame.from_dict(data)\n",
    "    df['counts'] = df['counts(1/eV/hist)'].values * n_particulas * 1 / ((df['Elow(eV)'].shift(-1).fillna(0) - df['Elow(eV)']) / df['nbin'])\n",
    "    df['counts'] = df['counts']#.astype(np.uint8)\n",
    "    df['counts'][0:20] = 0\n",
    "    df['E'] = df['Elow(eV)'] / 1e3\n",
    "    return df.loc[0:16383]"
   ]
  },
  {
   "cell_type": "code",
   "execution_count": 7,
   "metadata": {},
   "outputs": [
    {
     "name": "stdout",
     "output_type": "stream",
     "text": [
      "Total de tempo de CPU utilizado: 276.3862706481477 dias\n"
     ]
    }
   ],
   "source": [
    "tempo_segundos = 0\n",
    "\n",
    "for file_ in files:\n",
    "    tempo_segundos += le_performance_report(file_)\n",
    "    \n",
    "print(\"Total de tempo de CPU utilizado: {0} dias\".format(tempo_segundos / 60 / 60 / 24))"
   ]
  },
  {
   "cell_type": "code",
   "execution_count": 8,
   "metadata": {},
   "outputs": [],
   "source": [
    "energias_iniciais_multicanal = ['1', '250', '400', '150', '300', '0']\n",
    "#energias_iniciais_multicanal = ['0-01.dat']\n",
    "#energias_iniciais_multicanal = ['0-01.dat', '5-0.dat', '10-0.dat', '30-0.dat', '40-0.dat']\n",
    "#energias_iniciais_multicanal = ['0-01.dat']"
   ]
  },
  {
   "cell_type": "code",
   "execution_count": 9,
   "metadata": {},
   "outputs": [
    {
     "data": {
      "text/plain": [
       "array(['Am-241', 'Ba-133', 'Cd-109', 'Co-57', 'Co-60', 'Cs-137', 'Eu-152',\n",
       "       'Mn-54', 'Na-22', 'Pb-210'], dtype=object)"
      ]
     },
     "execution_count": 9,
     "metadata": {},
     "output_type": "execute_result"
    }
   ],
   "source": [
    "nomes_nuclideos = {\n",
    "    'Am-241': 0,\n",
    "    'Ba-133': 1,\n",
    "    'Cd-109': 2,\n",
    "    'Co-57': 3,\n",
    "    'Co-60': 4,\n",
    "    'Cs-137': 5,\n",
    "    'Eu-152': 6,\n",
    "    'Mn-54': 7,\n",
    "    'Na-22': 8,\n",
    "    'Pb-210': 9\n",
    "}\n",
    "\n",
    "binarizer = MultiLabelBinarizer()\n",
    "binarizer.fit([list(nomes_nuclideos.keys())])\n",
    "binarizer.classes_"
   ]
  },
  {
   "cell_type": "code",
   "execution_count": 10,
   "metadata": {},
   "outputs": [
    {
     "data": {
      "application/vnd.jupyter.widget-view+json": {
       "model_id": "9e799990577b4488845d781b1d8e81f6",
       "version_major": 2,
       "version_minor": 0
      },
      "text/plain": [
       "HBox(children=(IntProgress(value=0, max=1320), HTML(value='')))"
      ]
     },
     "metadata": {},
     "output_type": "display_data"
    },
    {
     "name": "stderr",
     "output_type": "stream",
     "text": [
      "/home/andre/.conda/envs/py36/lib/python3.6/site-packages/ipykernel_launcher.py:58: SettingWithCopyWarning: \n",
      "A value is trying to be set on a copy of a slice from a DataFrame\n",
      "\n",
      "See the caveats in the documentation: http://pandas.pydata.org/pandas-docs/stable/user_guide/indexing.html#returning-a-view-versus-a-copy\n"
     ]
    },
    {
     "name": "stdout",
     "output_type": "stream",
     "text": [
      "\n"
     ]
    },
    {
     "data": {
      "application/vnd.jupyter.widget-view+json": {
       "model_id": "b8160d1cd09d492b867bc39dfd9f0fec",
       "version_major": 2,
       "version_minor": 0
      },
      "text/plain": [
       "HBox(children=(IntProgress(value=0, max=1320), HTML(value='')))"
      ]
     },
     "metadata": {},
     "output_type": "display_data"
    },
    {
     "name": "stdout",
     "output_type": "stream",
     "text": [
      "\n"
     ]
    },
    {
     "data": {
      "application/vnd.jupyter.widget-view+json": {
       "model_id": "d6a5c6db0ba341b88d5970d0f0bf85e3",
       "version_major": 2,
       "version_minor": 0
      },
      "text/plain": [
       "HBox(children=(IntProgress(value=0, max=1320), HTML(value='')))"
      ]
     },
     "metadata": {},
     "output_type": "display_data"
    },
    {
     "name": "stdout",
     "output_type": "stream",
     "text": [
      "\n"
     ]
    },
    {
     "data": {
      "application/vnd.jupyter.widget-view+json": {
       "model_id": "1587e74a9c114a46b6fee5ad52ca76c5",
       "version_major": 2,
       "version_minor": 0
      },
      "text/plain": [
       "HBox(children=(IntProgress(value=0, max=1320), HTML(value='')))"
      ]
     },
     "metadata": {},
     "output_type": "display_data"
    },
    {
     "name": "stdout",
     "output_type": "stream",
     "text": [
      "\n"
     ]
    },
    {
     "data": {
      "application/vnd.jupyter.widget-view+json": {
       "model_id": "5f44be17d9fe49bfb6efcee782d7680e",
       "version_major": 2,
       "version_minor": 0
      },
      "text/plain": [
       "HBox(children=(IntProgress(value=0, max=1320), HTML(value='')))"
      ]
     },
     "metadata": {},
     "output_type": "display_data"
    },
    {
     "name": "stdout",
     "output_type": "stream",
     "text": [
      "\n"
     ]
    },
    {
     "data": {
      "application/vnd.jupyter.widget-view+json": {
       "model_id": "a2a3bb3b2927409eab06e2d0a59da8eb",
       "version_major": 2,
       "version_minor": 0
      },
      "text/plain": [
       "HBox(children=(IntProgress(value=0, max=1320), HTML(value='')))"
      ]
     },
     "metadata": {},
     "output_type": "display_data"
    },
    {
     "name": "stdout",
     "output_type": "stream",
     "text": [
      "\n"
     ]
    }
   ],
   "source": [
    "# Cd-109_41cm_1-0e08estories_0-01.dat\n",
    "dados_por_energia_inicial_multicanal = dict()\n",
    "\n",
    "for energia_inicial_multicanal in energias_iniciais_multicanal:\n",
    "    dados_por_energia_inicial_multicanal[energia_inicial_multicanal] = []\n",
    "    \n",
    "    for file_ in tqdm_notebook(files):\n",
    "        if not file_.endswith(energia_inicial_multicanal+'.dat'):\n",
    "            continue\n",
    "        \n",
    "        partes = file_.split(\"/\")[2].replace(\".dat\", \"\").split(\"_\")\n",
    "        nuclideo = partes[0]        \n",
    "        distancia = partes[1]\n",
    "        n_particulas = float(partes[2].replace('estories','').replace('-','.'))\n",
    "        dados_ = carrega_dados(file_, n_particulas)\n",
    "        \n",
    "        label_ = binarizer.transform([[nuclideo]])\n",
    "\n",
    "        #Cria o label para o total de contagens do radionuclídeo\n",
    "        total_counts = np.zeros(label_.shape)\n",
    "        total_counts[0][np.argmax(label_)] = np.sum(dados_.counts.values)\n",
    "        \n",
    "        dados_por_energia_inicial_multicanal[energia_inicial_multicanal].append({'X' : dados_.counts.values,\n",
    "                                                                                 'n' : n_particulas,\n",
    "                                                                                 'y': label_,\n",
    "                                                                                 'y_count' : total_counts,\n",
    "                                                                                 'd': distancia,\n",
    "                                                                                 'e': energia_inicial_multicanal})"
   ]
  },
  {
   "cell_type": "code",
   "execution_count": 23,
   "metadata": {},
   "outputs": [
    {
     "data": {
      "text/plain": [
       "(['41cm', '46cm', '51cm', '56cm'], [10000000.0, 100000000.0, 1000000000.0])"
      ]
     },
     "execution_count": 23,
     "metadata": {},
     "output_type": "execute_result"
    }
   ],
   "source": [
    "distancias = list(np.unique([x['d'] for x in dados_por_energia_inicial_multicanal[energias_iniciais_multicanal[0]]]))\n",
    "n_particulas = list(np.unique([x['n'] for x in dados_por_energia_inicial_multicanal[energias_iniciais_multicanal[0]]]))\n",
    "distancias, n_particulas"
   ]
  },
  {
   "cell_type": "markdown",
   "metadata": {},
   "source": [
    "## Leituras experimentais da GRR"
   ]
  },
  {
   "cell_type": "code",
   "execution_count": 11,
   "metadata": {},
   "outputs": [],
   "source": [
    "def obtem_dados_dos_canais(linhas):\n",
    "    dados = []\n",
    "    pode_comecar = False\n",
    "    for linha in linhas:\n",
    "        if linha == \"A004USERDEFINED                                                     \\n\":\n",
    "            pode_comecar = True\n",
    "            continue\n",
    "        if pode_comecar:\n",
    "            aux = linha.strip().split()\n",
    "            if int(aux[1]) % 5:\n",
    "                print(\"oi!\")\n",
    "            dados.extend([float(x) for x in aux[2:]])\n",
    "    return dados[1:]"
   ]
  },
  {
   "cell_type": "code",
   "execution_count": 12,
   "metadata": {},
   "outputs": [
    {
     "name": "stdout",
     "output_type": "stream",
     "text": [
      "Am-241 - BG.IEC\n",
      "Ba-133 - BG.IEC\n",
      "Cd-109 - BG.IEC\n",
      "Co-57 - BG.IEC\n",
      "Co-60 - BG.IEC\n",
      "Cs-137 - BG.IEC\n",
      "Eu-152 - BG.IEC\n",
      "Mn-54 - BG.IEC\n",
      "Na-22 - BG.IEC\n",
      "Pb-210 - BG.IEC\n"
     ]
    }
   ],
   "source": [
    "arquivos = ['Am-241 - BG.IEC', 'Ba-133 - BG.IEC', 'Cd-109 - BG.IEC', 'Co-57 - BG.IEC', 'Co-60 - BG.IEC',\n",
    "            'Cs-137 - BG.IEC', 'Eu-152 - BG.IEC', 'Mn-54 - BG.IEC', 'Na-22 - BG.IEC', 'Pb-210 - BG.IEC',]\n",
    "\n",
    "df_nuclideos = dict()\n",
    "img_espectros = dict()\n",
    "img_convertidos = dict()\n",
    "images = dict()\n",
    "\n",
    "for arquivo in arquivos:\n",
    "    print(arquivo)\n",
    "    dados = []\n",
    "\n",
    "    with open('/export/ipen/artigo/ICDA-3/Espectros/Experimentos/17-Maio-2018/Espectros/{0}'.format(arquivo), 'r') as f:\n",
    "        dados = f.readlines()\n",
    "    dados = obtem_dados_dos_canais(dados)\n",
    "    df = pd.DataFrame({'channel': range(0, len(dados)), 'counts' : dados})\n",
    "    df_nuclideos[arquivo] = df.copy()\n",
    "    img_convertidos[arquivo] = np.array(dados).reshape((128, 128)).copy()\n",
    "    images[arquivo.split(' ')[0]] = np.array(dados).reshape((128, 128)).copy()"
   ]
  },
  {
   "cell_type": "code",
   "execution_count": 13,
   "metadata": {},
   "outputs": [
    {
     "data": {
      "text/plain": [
       "({'Am-241 - BG.IEC': 'Am-241',\n",
       "  'Ba-133 - BG.IEC': 'Ba-133',\n",
       "  'Cd-109 - BG.IEC': 'Cd-109',\n",
       "  'Co-57 - BG.IEC': 'Co-57',\n",
       "  'Co-60 - BG.IEC': 'Co-60',\n",
       "  'Cs-137 - BG.IEC': 'Cs-137',\n",
       "  'Eu-152 - BG.IEC': 'Eu-152',\n",
       "  'Mn-54 - BG.IEC': 'Mn-54',\n",
       "  'Na-22 - BG.IEC': 'Na-22',\n",
       "  'Pb-210 - BG.IEC': 'Pb-210'},\n",
       " {'Am-241': 'Am-241 - BG.IEC',\n",
       "  'Ba-133': 'Ba-133 - BG.IEC',\n",
       "  'Cd-109': 'Cd-109 - BG.IEC',\n",
       "  'Co-57': 'Co-57 - BG.IEC',\n",
       "  'Co-60': 'Co-60 - BG.IEC',\n",
       "  'Cs-137': 'Cs-137 - BG.IEC',\n",
       "  'Eu-152': 'Eu-152 - BG.IEC',\n",
       "  'Mn-54': 'Mn-54 - BG.IEC',\n",
       "  'Na-22': 'Na-22 - BG.IEC',\n",
       "  'Pb-210': 'Pb-210 - BG.IEC'},\n",
       " {0: 'Am-241',\n",
       "  1: 'Ba-133',\n",
       "  2: 'Cd-109',\n",
       "  3: 'Co-57',\n",
       "  4: 'Co-60',\n",
       "  5: 'Cs-137',\n",
       "  6: 'Eu-152',\n",
       "  7: 'Mn-54',\n",
       "  8: 'Na-22',\n",
       "  9: 'Pb-210'},\n",
       " {'Am-241': 0,\n",
       "  'Ba-133': 1,\n",
       "  'Cd-109': 2,\n",
       "  'Co-57': 3,\n",
       "  'Co-60': 4,\n",
       "  'Cs-137': 5,\n",
       "  'Eu-152': 6,\n",
       "  'Mn-54': 7,\n",
       "  'Na-22': 8,\n",
       "  'Pb-210': 9})"
      ]
     },
     "execution_count": 13,
     "metadata": {},
     "output_type": "execute_result"
    }
   ],
   "source": [
    "arquivo_por_nome = { b : b.split()[0] for a, b in enumerate(list(img_convertidos.keys()))}\n",
    "nome_por_arquivo = { b.split()[0] : b for a, b in enumerate(list(img_convertidos.keys()))}\n",
    "\n",
    "id_para_radionuclideos = { a : b.split()[0] for a, b in enumerate(list(img_convertidos.keys()))}\n",
    "radionuclideos = { b.split()[0] : a for a, b in enumerate(list(img_convertidos.keys()))}\n",
    "arquivo_por_nome, nome_por_arquivo, id_para_radionuclideos, radionuclideos"
   ]
  },
  {
   "cell_type": "code",
   "execution_count": 13,
   "metadata": {},
   "outputs": [],
   "source": [
    "#plt.plot(np.random.poisson(1e5, (128, 128)))\n",
    "#plt.plot(np.random.normal(1, 0.1**0.5, (128, 128)))"
   ]
  },
  {
   "cell_type": "code",
   "execution_count": 14,
   "metadata": {},
   "outputs": [],
   "source": [
    "def add_noise(image):\n",
    "    #if random.random() <= 0.5:\n",
    "    #    return image.reshape((128, 128, 1))\n",
    "    row,col = image.shape\n",
    "    mean = 1 #np.mean(image)\n",
    "    var = 0.1 #random.random() #\n",
    "    sigma = var**0.5\n",
    "    gauss = np.random.normal(mean, sigma, (row,col))\n",
    "    gauss = gauss.reshape(row, col)\n",
    "    noisy = image + gauss\n",
    "    if np.random.random() > 0.3:\n",
    "        #increase de count rate by a random factor\n",
    "        noisy += noisy * (1 + np.random.random())\n",
    "    return noisy.reshape((128, 128, 1)) #/ np.max(noisy) # normalizando pelo valor máximo\n",
    "\n",
    "\n",
    "#def gera_imagem_combinada_experimental(dicionario_imagens, n_combinacoes=3):\n",
    "#    assert n_combinacoes <= 10, \"No máximo 10 combinações\"\n",
    "#    nuclei_idx = np.random.choice(10, n_combinacoes, replace=False).tolist()[0]\n",
    "#    label = to_categorical(nuclei_idx, 10)\n",
    "#    img = np.sum([add_noise(dicionario_imagens[id_para_radionuclideos[nuclei_idx]])], axis=0)\n",
    "#    counts = to_categorical(nuclei_idx, 10)\n",
    "#    counts[nuclei_idx] = np.sum(img)\n",
    "#    \n",
    "#    return img, label, counts\n",
    "\n",
    "def gera_imagem_combinada_experimental(dicionario_imagens,\n",
    "                                       n_combinacoes=1):\n",
    "    \n",
    "    assert n_combinacoes <= 10, \"No máximo 10 combinações\"\n",
    "    \n",
    "    a = np.random.choice(10, n_combinacoes, replace=False).tolist()\n",
    "    labels = np.sum([to_categorical(x, 10) for x in a], axis=0)\n",
    "    noise_img = [add_noise(dicionario_imagens[id_para_radionuclideos[x]]) for x in a]\n",
    "    img = np.sum(noise_img, axis=0)\n",
    "    \n",
    "    counts = np.zeros((10,))\n",
    "    for idx, item in enumerate(a):\n",
    "        counts[item] = np.sum(noise_img[idx])\n",
    "    \n",
    "    while np.max(labels) > 1: # temos nuclideo repetido\n",
    "        labels[0][np.argmax(labels[0])] = 1\n",
    "    \n",
    "    return img, labels, counts\n"
   ]
  },
  {
   "cell_type": "markdown",
   "metadata": {},
   "source": [
    "# Gerando conjunto de treino e validação"
   ]
  },
  {
   "cell_type": "code",
   "execution_count": 76,
   "metadata": {},
   "outputs": [],
   "source": [
    "X = []\n",
    "y = []\n",
    "y_counts = []"
   ]
  },
  {
   "cell_type": "markdown",
   "metadata": {},
   "source": [
    "## Com os dados experimentais"
   ]
  },
  {
   "cell_type": "code",
   "execution_count": 77,
   "metadata": {},
   "outputs": [],
   "source": [
    "# gerando imagens com mais de um espectro\n",
    "n_combinacoes = [1, 2, 3, 4]\n",
    "for n_combinacao in n_combinacoes:\n",
    "    how_many_combinations = 500\n",
    "    if n_combinacao == 1:\n",
    "        how_many_combinations = 1320\n",
    "    for i in range(how_many_combinations):\n",
    "        img, label, counts = gera_imagem_combinada_experimental(images, n_combinacao)\n",
    "        X.append(img)\n",
    "        y.append(label)\n",
    "        y_counts.append(counts)"
   ]
  },
  {
   "cell_type": "code",
   "execution_count": 78,
   "metadata": {},
   "outputs": [
    {
     "data": {
      "text/plain": [
       "(2820, 2820, 2820)"
      ]
     },
     "execution_count": 78,
     "metadata": {},
     "output_type": "execute_result"
    }
   ],
   "source": [
    "len(X), len(y), len(y_counts)"
   ]
  },
  {
   "cell_type": "markdown",
   "metadata": {},
   "source": [
    "## Com os dados gerados pelo PENELOPE"
   ]
  },
  {
   "cell_type": "code",
   "execution_count": 79,
   "metadata": {},
   "outputs": [],
   "source": [
    "def gera_imagem_combinada_penelope(dicionario_imagens, n_combinacoes=3):\n",
    "    assert n_combinacoes <= 10, \"No máximo 10 combinações\"\n",
    "\n",
    "    aux = np.random.choice(dicionario_imagens, n_combinacoes, replace=False)\n",
    "    #print(aux)\n",
    "    labels = np.sum([x['y'] for x in aux], axis=0)\n",
    "    counts = np.sum([x['y_count'] for x in aux], axis=0)\n",
    "    values = np.sum([x['X'] for x in aux], axis=0)\n",
    "    \n",
    "    while np.max(labels) > 1: # temos nuclideo repetido\n",
    "        labels[0][np.argmax(labels[0])] = 1\n",
    "    \n",
    "    return values, labels, counts"
   ]
  },
  {
   "cell_type": "markdown",
   "metadata": {},
   "source": [
    "### Gera espectros com mais de um radionuclideo\n",
    "\n",
    "Até 4 no mesmo espectro"
   ]
  },
  {
   "cell_type": "code",
   "execution_count": 80,
   "metadata": {},
   "outputs": [],
   "source": [
    "d_test = '56cm'\n",
    "n_combinacoes = [2, 3, 4]\n",
    "novos_dados = dict()\n",
    "\n",
    "for key in energias_iniciais_multicanal:\n",
    "    novos_dados[key] = []\n",
    "    for n_ in n_combinacoes:\n",
    "        for distancia in [x for x in distancias if x != d_test]:\n",
    "            for n_particula in n_particulas:\n",
    "                aux_data = [x for x in dados_por_energia_inicial_multicanal[key]\n",
    "                            if x['d'] == distancia and x['n'] == n_particula]\n",
    "            \n",
    "                for i in range(50):\n",
    "                    values, labels, counts = gera_imagem_combinada_penelope(aux_data, n_)\n",
    "                    novos_dados[key].append({'X' : values,\n",
    "                                             'y': labels,\n",
    "                                             'y_count': counts})"
   ]
  },
  {
   "cell_type": "code",
   "execution_count": 81,
   "metadata": {},
   "outputs": [],
   "source": [
    "# Adiciona os espectros sem mistura\n",
    "for key in energias_iniciais_multicanal:\n",
    "    for item in [x for x in dados_por_energia_inicial_multicanal[key] if x['d'] != d_test]:\n",
    "        X.append(list(item.values())[0].reshape((128, 128)))\n",
    "        y.append(item['y'][0])\n",
    "        y_counts.append(item['y_count'][0])"
   ]
  },
  {
   "cell_type": "code",
   "execution_count": 82,
   "metadata": {},
   "outputs": [],
   "source": [
    "# Adiciona os espectros com mistura\n",
    "for key in energias_iniciais_multicanal:\n",
    "    for item in novos_dados[key]:\n",
    "        X.append(list(item.values())[0].reshape((128, 128)))\n",
    "        y.append(item['y'][0])\n",
    "        y_counts.append(item['y_count'][0])"
   ]
  },
  {
   "cell_type": "code",
   "execution_count": 83,
   "metadata": {},
   "outputs": [
    {
     "data": {
      "text/plain": [
       "(12630, 12630, 12630)"
      ]
     },
     "execution_count": 83,
     "metadata": {},
     "output_type": "execute_result"
    }
   ],
   "source": [
    "len(X), len(y), len(y_counts)"
   ]
  },
  {
   "cell_type": "markdown",
   "metadata": {},
   "source": [
    "## Validação"
   ]
  },
  {
   "cell_type": "code",
   "execution_count": 84,
   "metadata": {},
   "outputs": [],
   "source": [
    "X_test = []\n",
    "y_test = []\n",
    "y_counts_test = []"
   ]
  },
  {
   "cell_type": "code",
   "execution_count": 85,
   "metadata": {},
   "outputs": [],
   "source": [
    "n_combinacoes = [1, 2, 3, 4]\n",
    "novos_dados_test = dict()\n",
    "\n",
    "for key in energias_iniciais_multicanal:\n",
    "    novos_dados_test[key] = []\n",
    "    for n_ in n_combinacoes:\n",
    "        for distancia in [x for x in distancias if x == d_test]:\n",
    "            for n_particula in n_particulas:\n",
    "                aux_data = [x for x in dados_por_energia_inicial_multicanal[key]\n",
    "                            if x['d'] == distancia and x['n'] == n_particula]\n",
    "            \n",
    "                for i in range(25):\n",
    "                    values, labels, counts = gera_imagem_combinada_penelope(aux_data, n_)\n",
    "                    novos_dados_test[key].append({'X' : values,\n",
    "                                             'y': labels,\n",
    "                                             'y_count': counts})"
   ]
  },
  {
   "cell_type": "code",
   "execution_count": 86,
   "metadata": {},
   "outputs": [],
   "source": [
    "for key in energias_iniciais_multicanal:\n",
    "    for item in novos_dados_test[key]:\n",
    "        X_test.append(list(item.values())[0].reshape((128, 128)))\n",
    "        y_test.append(item['y'][0])\n",
    "        y_counts_test.append(item['y_count'][0])"
   ]
  },
  {
   "cell_type": "code",
   "execution_count": 87,
   "metadata": {},
   "outputs": [
    {
     "data": {
      "text/plain": [
       "(1800, 1800, 1800)"
      ]
     },
     "execution_count": 87,
     "metadata": {},
     "output_type": "execute_result"
    }
   ],
   "source": [
    "len(X_test), len(y_test), len(y_counts_test)"
   ]
  },
  {
   "cell_type": "markdown",
   "metadata": {},
   "source": [
    "# Modelo\n",
    "\n",
    "## Escalando os dados de contagem\n",
    "\n",
    "A rede neural gosta de coisas entre -1 e 1 ..."
   ]
  },
  {
   "cell_type": "code",
   "execution_count": 88,
   "metadata": {},
   "outputs": [
    {
     "data": {
      "text/plain": [
       "StandardScaler(copy=True, with_mean=True, with_std=True)"
      ]
     },
     "execution_count": 88,
     "metadata": {},
     "output_type": "execute_result"
    }
   ],
   "source": [
    "scaler = StandardScaler()\n",
    "scaler.fit(y_counts)\n",
    "\n",
    "#X_train, X_test, y_train, y_test = train_test_split(X, list(zip(y, scaler.transform(y_counts))),\n",
    "#                                                    test_size=0.30,\n",
    "#                                                    random_state=42)"
   ]
  },
  {
   "cell_type": "code",
   "execution_count": 89,
   "metadata": {},
   "outputs": [],
   "source": [
    "X_all_train = X\n",
    "X_all_test  = X_test"
   ]
  },
  {
   "cell_type": "code",
   "execution_count": 90,
   "metadata": {},
   "outputs": [],
   "source": [
    "y_all_train = list(zip(y, scaler.transform(y_counts)))"
   ]
  },
  {
   "cell_type": "code",
   "execution_count": 91,
   "metadata": {},
   "outputs": [],
   "source": [
    "y_all_test = list(zip(y_test, scaler.transform(y_counts_test)))"
   ]
  },
  {
   "cell_type": "code",
   "execution_count": 92,
   "metadata": {},
   "outputs": [
    {
     "data": {
      "text/plain": [
       "(12630, 1800, 12630, 1800)"
      ]
     },
     "execution_count": 92,
     "metadata": {},
     "output_type": "execute_result"
    }
   ],
   "source": [
    "len(X_all_train), len(X_all_test), len(y_all_train), len(y_all_test)"
   ]
  },
  {
   "cell_type": "markdown",
   "metadata": {},
   "source": [
    "## Armazenando os dados originais"
   ]
  },
  {
   "cell_type": "code",
   "execution_count": 93,
   "metadata": {},
   "outputs": [],
   "source": [
    "!mkdir dados_v4"
   ]
  },
  {
   "cell_type": "code",
   "execution_count": 99,
   "metadata": {},
   "outputs": [],
   "source": [
    "np.save(\"./dados_v4/X.npy\", [x.reshape((128,128,1)) for x in X])\n",
    "np.save(\"./dados_v4/y.npy\", y)\n",
    "np.save(\"./dados_v4/y_counts.npy\", y_counts)"
   ]
  },
  {
   "cell_type": "code",
   "execution_count": 100,
   "metadata": {},
   "outputs": [],
   "source": [
    "np.save(\"./dados_v4/X_test.npy\", [x.reshape((128,128,1)) for x in X_test])\n",
    "np.save(\"./dados_v4/y_test.npy\", y_test)\n",
    "np.save(\"./dados_v4/y_counts_test.npy\", y_counts_test)"
   ]
  },
  {
   "cell_type": "code",
   "execution_count": 101,
   "metadata": {},
   "outputs": [],
   "source": [
    "from keras.utils import Sequence"
   ]
  },
  {
   "cell_type": "code",
   "execution_count": 102,
   "metadata": {},
   "outputs": [],
   "source": [
    "class EspectraSequence(Sequence):\n",
    "\n",
    "    def __init__(self, x_set, y_set, y_set_count, batch_size):\n",
    "        self.x, self.y, self.y_set_count = x_set, y_set, y_set_count\n",
    "        self.batch_size = batch_size\n",
    "\n",
    "    def __len__(self):\n",
    "        return int(np.ceil(len(self.x) / float(self.batch_size)))\n",
    "\n",
    "    def __getitem__(self, idx):\n",
    "        batch_x = self.x[idx * self.batch_size:(idx + 1) * self.batch_size]\n",
    "        batch_y = self.y[idx * self.batch_size:(idx + 1) * self.batch_size]\n",
    "        batch_y_count = self.y_set_count[idx * self.batch_size:(idx + 1) * self.batch_size]\n",
    "\n",
    "        y_ = {'predictions_nuclei': np.array(batch_y, dtype=np.float32),\n",
    "              'predictions_counts': np.array(batch_y_count)}\n",
    "        \n",
    "        return np.array([x.reshape((128, 128, 1)) for x in batch_x]), y_"
   ]
  },
  {
   "cell_type": "code",
   "execution_count": 104,
   "metadata": {},
   "outputs": [],
   "source": [
    "s = EspectraSequence(X_all_train, [x[0] for x in y_all_train], [x[1] for x in y_all_train], batch_size=8)"
   ]
  },
  {
   "cell_type": "code",
   "execution_count": 110,
   "metadata": {},
   "outputs": [
    {
     "data": {
      "image/png": "[encoded data removed]",
      "text/plain": [
       "<Figure size 432x288 with 1 Axes>"
      ]
     },
     "metadata": {},
     "output_type": "display_data"
    }
   ],
   "source": [
    "a, b = s[2]\n",
    "c = b['predictions_counts']\n",
    "b = b['predictions_nuclei']\n",
    "plt.imshow(a[0].reshape((128, 128)))\n",
    "plt.title(\" with \".join(binarizer.inverse_transform(np.array([b[0]]))[0]) + \" {:.0f} counts\".format(\n",
    "    np.sum(c[0])))\n",
    "plt.show()"
   ]
  },
  {
   "cell_type": "code",
   "execution_count": 113,
   "metadata": {},
   "outputs": [
    {
     "data": {
      "image/png": "[encoded data removed]",
      "text/plain": [
       "<Figure size 432x288 with 1 Axes>"
      ]
     },
     "metadata": {},
     "output_type": "display_data"
    }
   ],
   "source": [
    "plt.title(\" with \".join(binarizer.inverse_transform(np.array([b[0]]))[0]) + \" {:.0f} counts\".format(np.sum(c[0])))\n",
    "plt.yscale(\"log\")\n",
    "plt.plot(a[0].reshape(-1))\n",
    "plt.show()"
   ]
  },
  {
   "cell_type": "code",
   "execution_count": 114,
   "metadata": {},
   "outputs": [],
   "source": [
    "def accuracy_score_wrapper(label, pred):\n",
    "    threshold = .95\n",
    "    label = (label >= threshold).astype(np.uint8)\n",
    "    pred = (pred >= threshold).astype(np.uint8)\n",
    "    return np.float32(accuracy_score(label, pred))\n",
    "\n",
    "def my_accuracy_score(label, pred):\n",
    "    metric_value = tf.compat.v1.py_func(accuracy_score_wrapper, [label, pred], tf.float32)\n",
    "    return metric_value"
   ]
  },
  {
   "cell_type": "code",
   "execution_count": 115,
   "metadata": {
    "scrolled": true
   },
   "outputs": [
    {
     "name": "stdout",
     "output_type": "stream",
     "text": [
      "WARNING:tensorflow:From /home/andre/.conda/envs/py36/lib/python3.6/site-packages/tensorflow/python/framework/op_def_library.py:263: colocate_with (from tensorflow.python.framework.ops) is deprecated and will be removed in a future version.\n",
      "Instructions for updating:\n",
      "Colocations handled automatically by placer.\n",
      "__________________________________________________________________________________________________\n",
      "Layer (type)                    Output Shape         Param #     Connected to                     \n",
      "==================================================================================================\n",
      "input_1 (InputLayer)            (None, 128, 128, 1)  0                                            \n",
      "__________________________________________________________________________________________________\n",
      "block1_conv1 (Conv2D)           (None, 128, 128, 64) 640         input_1[0][0]                    \n",
      "__________________________________________________________________________________________________\n",
      "block1_conv2 (Conv2D)           (None, 128, 128, 64) 36928       block1_conv1[0][0]               \n",
      "__________________________________________________________________________________________________\n",
      "block1_pool (MaxPooling2D)      (None, 64, 64, 64)   0           block1_conv2[0][0]               \n",
      "__________________________________________________________________________________________________\n",
      "block2_conv1 (Conv2D)           (None, 64, 64, 128)  73856       block1_pool[0][0]                \n",
      "__________________________________________________________________________________________________\n",
      "block2_conv2 (Conv2D)           (None, 64, 64, 128)  147584      block2_conv1[0][0]               \n",
      "__________________________________________________________________________________________________\n",
      "block2_pool (MaxPooling2D)      (None, 32, 32, 128)  0           block2_conv2[0][0]               \n",
      "__________________________________________________________________________________________________\n",
      "block3_conv1 (Conv2D)           (None, 32, 32, 256)  295168      block2_pool[0][0]                \n",
      "__________________________________________________________________________________________________\n",
      "block3_conv2 (Conv2D)           (None, 32, 32, 256)  590080      block3_conv1[0][0]               \n",
      "__________________________________________________________________________________________________\n",
      "block3_conv3 (Conv2D)           (None, 32, 32, 256)  590080      block3_conv2[0][0]               \n",
      "__________________________________________________________________________________________________\n",
      "block3_conv4 (Conv2D)           (None, 32, 32, 256)  590080      block3_conv3[0][0]               \n",
      "__________________________________________________________________________________________________\n",
      "block3_pool (MaxPooling2D)      (None, 16, 16, 256)  0           block3_conv4[0][0]               \n",
      "__________________________________________________________________________________________________\n",
      "block4_conv1 (Conv2D)           (None, 16, 16, 512)  1180160     block3_pool[0][0]                \n",
      "__________________________________________________________________________________________________\n",
      "block4_conv2 (Conv2D)           (None, 16, 16, 512)  2359808     block4_conv1[0][0]               \n",
      "__________________________________________________________________________________________________\n",
      "block4_conv3 (Conv2D)           (None, 16, 16, 512)  2359808     block4_conv2[0][0]               \n",
      "__________________________________________________________________________________________________\n",
      "block4_conv4 (Conv2D)           (None, 16, 16, 512)  2359808     block4_conv3[0][0]               \n",
      "__________________________________________________________________________________________________\n",
      "block4_pool (MaxPooling2D)      (None, 8, 8, 512)    0           block4_conv4[0][0]               \n",
      "__________________________________________________________________________________________________\n",
      "block5_conv1 (Conv2D)           (None, 8, 8, 512)    2359808     block4_pool[0][0]                \n",
      "__________________________________________________________________________________________________\n",
      "block5_conv2 (Conv2D)           (None, 8, 8, 512)    2359808     block5_conv1[0][0]               \n",
      "__________________________________________________________________________________________________\n",
      "block5_conv3 (Conv2D)           (None, 8, 8, 512)    2359808     block5_conv2[0][0]               \n",
      "__________________________________________________________________________________________________\n",
      "block5_conv4 (Conv2D)           (None, 8, 8, 512)    2359808     block5_conv3[0][0]               \n",
      "__________________________________________________________________________________________________\n",
      "block5_pool (MaxPooling2D)      (None, 4, 4, 512)    0           block5_conv4[0][0]               \n",
      "__________________________________________________________________________________________________\n",
      "flatten_1 (Flatten)             (None, 8192)         0           block5_pool[0][0]                \n",
      "__________________________________________________________________________________________________\n",
      "flatten_2 (Flatten)             (None, 8192)         0           block5_pool[0][0]                \n",
      "__________________________________________________________________________________________________\n",
      "dense_1 (Dense)                 (None, 4096)         33558528    flatten_1[0][0]                  \n",
      "__________________________________________________________________________________________________\n",
      "dense_3 (Dense)                 (None, 4096)         33558528    flatten_2[0][0]                  \n",
      "__________________________________________________________________________________________________\n",
      "dense_2 (Dense)                 (None, 4096)         16781312    dense_1[0][0]                    \n",
      "__________________________________________________________________________________________________\n",
      "dense_4 (Dense)                 (None, 4096)         16781312    dense_3[0][0]                    \n",
      "__________________________________________________________________________________________________\n",
      "predictions_nuclei (Dense)      (None, 10)           40970       dense_2[0][0]                    \n",
      "__________________________________________________________________________________________________\n",
      "dense_5 (Dense)                 (None, 10)           40970       dense_4[0][0]                    \n",
      "__________________________________________________________________________________________________\n",
      "predictions_counts (Multiply)   (None, 10)           0           dense_5[0][0]                    \n",
      "                                                                 predictions_nuclei[0][0]         \n",
      "==================================================================================================\n",
      "Total params: 120,784,852\n",
      "Trainable params: 120,784,852\n",
      "Non-trainable params: 0\n",
      "__________________________________________________________________________________________________\n"
     ]
    }
   ],
   "source": [
    "K.clear_session()\n",
    "import keras\n",
    "vgg_model = VGG19(include_top=False,\n",
    "                  weights=None,\n",
    "                  input_shape=(128, 128, 1),\n",
    "                  classes=10)\n",
    "\n",
    "x = keras.layers.Flatten()(vgg_model.output)\n",
    "x = keras.layers.Dense(4096, activation='relu')(x)\n",
    "x = keras.layers.Dense(4096, activation='relu')(x)\n",
    "\n",
    "pred_nuclei = keras.layers.Dense(10, activation='sigmoid', name=\"predictions_nuclei\")(x)\n",
    "\n",
    "x1 = keras.layers.Flatten()(vgg_model.output)\n",
    "x1 = keras.layers.Dense(4096, activation='relu')(x1)\n",
    "x1 = keras.layers.Dense(4096, activation='relu')(x1)\n",
    "\n",
    "pred_counts = keras.layers.Dense(10, activation=None)(x1)\n",
    "\n",
    "pred_counts = keras.layers.multiply([pred_counts, pred_nuclei], name=\"predictions_counts\")\n",
    "\n",
    "#se a previsão do modelo for menor que zero, a gente zera a saída, afinal de contas\n",
    "#não existe atividade 0 bq :P\n",
    "#pred_counts = keras.layers.Lambda(lambda x: tf.where(x < 0, tf.zeros_like(x), x),\n",
    "#                                 name=\"predictions_counts\")(pred_counts)\n",
    "\n",
    "model = keras.models.Model(vgg_model.input, [pred_nuclei, pred_counts])\n",
    "model.summary()\n"
   ]
  },
  {
   "cell_type": "code",
   "execution_count": 117,
   "metadata": {},
   "outputs": [],
   "source": [
    "learning_rate = 1e-4\n",
    "epochs = 250\n",
    "batch_size = 8\n",
    "steps_per_epoch = len(X_all_train) // batch_size + 1\n",
    "validation_steps = len(X_all_test) // batch_size + 1"
   ]
  },
  {
   "cell_type": "code",
   "execution_count": 118,
   "metadata": {},
   "outputs": [
    {
     "name": "stdout",
     "output_type": "stream",
     "text": [
      "WARNING:tensorflow:From <ipython-input-114-e9be23c5b0b0>:8: py_func (from tensorflow.python.ops.script_ops) is deprecated and will be removed in a future version.\n",
      "Instructions for updating:\n",
      "tf.py_func is deprecated in TF V2. Instead, use\n",
      "    tf.py_function, which takes a python function which manipulates tf eager\n",
      "    tensors instead of numpy arrays. It's easy to convert a tf eager tensor to\n",
      "    an ndarray (just call tensor.numpy()) but having access to eager tensors\n",
      "    means `tf.py_function`s can use accelerators such as GPUs as well as\n",
      "    being differentiable using a gradient tape.\n",
      "    \n"
     ]
    }
   ],
   "source": [
    "opt = SGD(lr=learning_rate,\n",
    "          nesterov=False,\n",
    "          momentum=0.9) # keras.optimizers.RMSprop(0.001)\n",
    "\n",
    "model.compile(optimizer=opt,\n",
    "              loss={\n",
    "                  'predictions_nuclei': 'binary_crossentropy',\n",
    "                  'predictions_counts': 'mean_squared_error'\n",
    "              },\n",
    "              metrics={\n",
    "                  'predictions_nuclei': [my_accuracy_score, 'accuracy'],\n",
    "                  'predictions_counts': ['mean_squared_error', 'mean_absolute_error']\n",
    "              }\n",
    "             )"
   ]
  },
  {
   "cell_type": "code",
   "execution_count": 119,
   "metadata": {},
   "outputs": [
    {
     "name": "stdout",
     "output_type": "stream",
     "text": [
      "Sat Apr 11 22:58:19 2020       \r\n",
      "+-----------------------------------------------------------------------------+\r\n",
      "| NVIDIA-SMI 410.48                 Driver Version: 410.48                    |\r\n",
      "|-------------------------------+----------------------+----------------------+\r\n",
      "| GPU  Name        Persistence-M| Bus-Id        Disp.A | Volatile Uncorr. ECC |\r\n",
      "| Fan  Temp  Perf  Pwr:Usage/Cap|         Memory-Usage | GPU-Util  Compute M. |\r\n",
      "|===============================+======================+======================|\r\n",
      "|   0  GeForce GTX 1080    Off  | 00000000:01:00.0 Off |                  N/A |\r\n",
      "|  0%   38C    P5    12W / 180W |      0MiB /  8117MiB |      3%      Default |\r\n",
      "+-------------------------------+----------------------+----------------------+\r\n",
      "                                                                               \r\n",
      "+-----------------------------------------------------------------------------+\r\n",
      "| Processes:                                                       GPU Memory |\r\n",
      "|  GPU       PID   Type   Process name                             Usage      |\r\n",
      "|=============================================================================|\r\n",
      "|  No running processes found                                                 |\r\n",
      "+-----------------------------------------------------------------------------+\r\n"
     ]
    }
   ],
   "source": [
    "!nvidia-smi"
   ]
  },
  {
   "cell_type": "code",
   "execution_count": 121,
   "metadata": {},
   "outputs": [],
   "source": [
    "!mkdir ./logs_v4\n",
    "#!rm -rf ./logs_v4"
   ]
  },
  {
   "cell_type": "code",
   "execution_count": 122,
   "metadata": {
    "scrolled": true
   },
   "outputs": [
    {
     "name": "stdout",
     "output_type": "stream",
     "text": [
      "WARNING:tensorflow:From /home/andre/.conda/envs/py36/lib/python3.6/site-packages/tensorflow/python/ops/math_ops.py:3066: to_int32 (from tensorflow.python.ops.math_ops) is deprecated and will be removed in a future version.\n",
      "Instructions for updating:\n",
      "Use tf.cast instead.\n",
      "Epoch 1/250\n",
      " - 147s - loss: 1.1762 - predictions_nuclei_loss: 0.6109 - predictions_counts_loss: 0.5653 - predictions_nuclei_my_accuracy_score: 0.0139 - predictions_nuclei_acc: 0.8176 - predictions_counts_mean_squared_error: 0.5653 - predictions_counts_mean_absolute_error: 0.4220 - val_loss: 0.7865 - val_predictions_nuclei_loss: 0.5672 - val_predictions_counts_loss: 0.2193 - val_predictions_nuclei_my_accuracy_score: 0.0426 - val_predictions_nuclei_acc: 0.8478 - val_predictions_counts_mean_squared_error: 0.2193 - val_predictions_counts_mean_absolute_error: 0.3211\n",
      "Epoch 2/250\n",
      " - 139s - loss: 0.8478 - predictions_nuclei_loss: 0.5220 - predictions_counts_loss: 0.3258 - predictions_nuclei_my_accuracy_score: 0.0530 - predictions_nuclei_acc: 0.8519 - predictions_counts_mean_squared_error: 0.3258 - predictions_counts_mean_absolute_error: 0.3334 - val_loss: 0.5993 - val_predictions_nuclei_loss: 0.4730 - val_predictions_counts_loss: 0.1262 - val_predictions_nuclei_my_accuracy_score: 0.0890 - val_predictions_nuclei_acc: 0.8725 - val_predictions_counts_mean_squared_error: 0.1262 - val_predictions_counts_mean_absolute_error: 0.2797\n",
      "Epoch 3/250\n",
      " - 139s - loss: 0.7571 - predictions_nuclei_loss: 0.4766 - predictions_counts_loss: 0.2805 - predictions_nuclei_my_accuracy_score: 0.0827 - predictions_nuclei_acc: 0.8608 - predictions_counts_mean_squared_error: 0.2805 - predictions_counts_mean_absolute_error: 0.3060 - val_loss: 0.5627 - val_predictions_nuclei_loss: 0.4467 - val_predictions_counts_loss: 0.1160 - val_predictions_nuclei_my_accuracy_score: 0.1128 - val_predictions_nuclei_acc: 0.8739 - val_predictions_counts_mean_squared_error: 0.1160 - val_predictions_counts_mean_absolute_error: 0.2636\n",
      "Epoch 4/250\n",
      " - 139s - loss: 0.7117 - predictions_nuclei_loss: 0.4425 - predictions_counts_loss: 0.2693 - predictions_nuclei_my_accuracy_score: 0.0959 - predictions_nuclei_acc: 0.8647 - predictions_counts_mean_squared_error: 0.2693 - predictions_counts_mean_absolute_error: 0.2962 - val_loss: 0.5104 - val_predictions_nuclei_loss: 0.4099 - val_predictions_counts_loss: 0.1005 - val_predictions_nuclei_my_accuracy_score: 0.1211 - val_predictions_nuclei_acc: 0.8740 - val_predictions_counts_mean_squared_error: 0.1005 - val_predictions_counts_mean_absolute_error: 0.2503\n",
      "Epoch 5/250\n",
      " - 139s - loss: 0.6715 - predictions_nuclei_loss: 0.4097 - predictions_counts_loss: 0.2617 - predictions_nuclei_my_accuracy_score: 0.1128 - predictions_nuclei_acc: 0.8665 - predictions_counts_mean_squared_error: 0.2617 - predictions_counts_mean_absolute_error: 0.2909 - val_loss: 0.4900 - val_predictions_nuclei_loss: 0.3859 - val_predictions_counts_loss: 0.1041 - val_predictions_nuclei_my_accuracy_score: 0.1283 - val_predictions_nuclei_acc: 0.8702 - val_predictions_counts_mean_squared_error: 0.1041 - val_predictions_counts_mean_absolute_error: 0.2570\n",
      "Epoch 6/250\n",
      " - 139s - loss: 0.6366 - predictions_nuclei_loss: 0.3816 - predictions_counts_loss: 0.2551 - predictions_nuclei_my_accuracy_score: 0.1228 - predictions_nuclei_acc: 0.8673 - predictions_counts_mean_squared_error: 0.2551 - predictions_counts_mean_absolute_error: 0.2874 - val_loss: 0.4587 - val_predictions_nuclei_loss: 0.3478 - val_predictions_counts_loss: 0.1109 - val_predictions_nuclei_my_accuracy_score: 0.1394 - val_predictions_nuclei_acc: 0.8730 - val_predictions_counts_mean_squared_error: 0.1109 - val_predictions_counts_mean_absolute_error: 0.2595\n",
      "Epoch 7/250\n",
      " - 139s - loss: 0.6158 - predictions_nuclei_loss: 0.3635 - predictions_counts_loss: 0.2523 - predictions_nuclei_my_accuracy_score: 0.1288 - predictions_nuclei_acc: 0.8676 - predictions_counts_mean_squared_error: 0.2523 - predictions_counts_mean_absolute_error: 0.2846 - val_loss: 0.4212 - val_predictions_nuclei_loss: 0.3333 - val_predictions_counts_loss: 0.0879 - val_predictions_nuclei_my_accuracy_score: 0.1482 - val_predictions_nuclei_acc: 0.8739 - val_predictions_counts_mean_squared_error: 0.0879 - val_predictions_counts_mean_absolute_error: 0.2403\n",
      "Epoch 8/250\n",
      " - 139s - loss: 0.5734 - predictions_nuclei_loss: 0.3352 - predictions_counts_loss: 0.2382 - predictions_nuclei_my_accuracy_score: 0.1373 - predictions_nuclei_acc: 0.8704 - predictions_counts_mean_squared_error: 0.2382 - predictions_counts_mean_absolute_error: 0.2812 - val_loss: 0.4210 - val_predictions_nuclei_loss: 0.3058 - val_predictions_counts_loss: 0.1152 - val_predictions_nuclei_my_accuracy_score: 0.1582 - val_predictions_nuclei_acc: 0.8761 - val_predictions_counts_mean_squared_error: 0.1152 - val_predictions_counts_mean_absolute_error: 0.2550\n",
      "Epoch 9/250\n",
      " - 139s - loss: 0.5455 - predictions_nuclei_loss: 0.3237 - predictions_counts_loss: 0.2218 - predictions_nuclei_my_accuracy_score: 0.1434 - predictions_nuclei_acc: 0.8731 - predictions_counts_mean_squared_error: 0.2218 - predictions_counts_mean_absolute_error: 0.2759 - val_loss: 0.4171 - val_predictions_nuclei_loss: 0.3082 - val_predictions_counts_loss: 0.1089 - val_predictions_nuclei_my_accuracy_score: 0.1488 - val_predictions_nuclei_acc: 0.8710 - val_predictions_counts_mean_squared_error: 0.1089 - val_predictions_counts_mean_absolute_error: 0.2503\n",
      "Epoch 10/250\n",
      " - 139s - loss: 0.4858 - predictions_nuclei_loss: 0.3059 - predictions_counts_loss: 0.1799 - predictions_nuclei_my_accuracy_score: 0.1587 - predictions_nuclei_acc: 0.8774 - predictions_counts_mean_squared_error: 0.1799 - predictions_counts_mean_absolute_error: 0.2603 - val_loss: 0.3785 - val_predictions_nuclei_loss: 0.2888 - val_predictions_counts_loss: 0.0896 - val_predictions_nuclei_my_accuracy_score: 0.1759 - val_predictions_nuclei_acc: 0.8793 - val_predictions_counts_mean_squared_error: 0.0896 - val_predictions_counts_mean_absolute_error: 0.2313\n",
      "Epoch 11/250\n",
      " - 139s - loss: 0.4493 - predictions_nuclei_loss: 0.2882 - predictions_counts_loss: 0.1611 - predictions_nuclei_my_accuracy_score: 0.1760 - predictions_nuclei_acc: 0.8814 - predictions_counts_mean_squared_error: 0.1611 - predictions_counts_mean_absolute_error: 0.2449 - val_loss: 0.4027 - val_predictions_nuclei_loss: 0.2978 - val_predictions_counts_loss: 0.1050 - val_predictions_nuclei_my_accuracy_score: 0.1914 - val_predictions_nuclei_acc: 0.8804 - val_predictions_counts_mean_squared_error: 0.1050 - val_predictions_counts_mean_absolute_error: 0.2326\n",
      "Epoch 12/250\n",
      " - 139s - loss: 0.4229 - predictions_nuclei_loss: 0.2708 - predictions_counts_loss: 0.1521 - predictions_nuclei_my_accuracy_score: 0.1935 - predictions_nuclei_acc: 0.8867 - predictions_counts_mean_squared_error: 0.1521 - predictions_counts_mean_absolute_error: 0.2354 - val_loss: 0.3662 - val_predictions_nuclei_loss: 0.2579 - val_predictions_counts_loss: 0.1082 - val_predictions_nuclei_my_accuracy_score: 0.2218 - val_predictions_nuclei_acc: 0.8880 - val_predictions_counts_mean_squared_error: 0.1082 - val_predictions_counts_mean_absolute_error: 0.2375\n",
      "Epoch 13/250\n",
      " - 139s - loss: 0.4063 - predictions_nuclei_loss: 0.2569 - predictions_counts_loss: 0.1495 - predictions_nuclei_my_accuracy_score: 0.2112 - predictions_nuclei_acc: 0.8917 - predictions_counts_mean_squared_error: 0.1495 - predictions_counts_mean_absolute_error: 0.2330 - val_loss: 0.3346 - val_predictions_nuclei_loss: 0.2485 - val_predictions_counts_loss: 0.0861 - val_predictions_nuclei_my_accuracy_score: 0.2301 - val_predictions_nuclei_acc: 0.8996 - val_predictions_counts_mean_squared_error: 0.0861 - val_predictions_counts_mean_absolute_error: 0.2209\n",
      "Epoch 14/250\n",
      " - 139s - loss: 0.3954 - predictions_nuclei_loss: 0.2475 - predictions_counts_loss: 0.1479 - predictions_nuclei_my_accuracy_score: 0.2256 - predictions_nuclei_acc: 0.8980 - predictions_counts_mean_squared_error: 0.1479 - predictions_counts_mean_absolute_error: 0.2337 - val_loss: 0.3139 - val_predictions_nuclei_loss: 0.2381 - val_predictions_counts_loss: 0.0759 - val_predictions_nuclei_my_accuracy_score: 0.2400 - val_predictions_nuclei_acc: 0.9090 - val_predictions_counts_mean_squared_error: 0.0759 - val_predictions_counts_mean_absolute_error: 0.2160\n"
     ]
    },
    {
     "name": "stdout",
     "output_type": "stream",
     "text": [
      "Epoch 15/250\n",
      " - 139s - loss: 0.3818 - predictions_nuclei_loss: 0.2357 - predictions_counts_loss: 0.1462 - predictions_nuclei_my_accuracy_score: 0.2406 - predictions_nuclei_acc: 0.9071 - predictions_counts_mean_squared_error: 0.1462 - predictions_counts_mean_absolute_error: 0.2353 - val_loss: 0.3059 - val_predictions_nuclei_loss: 0.2306 - val_predictions_counts_loss: 0.0753 - val_predictions_nuclei_my_accuracy_score: 0.2240 - val_predictions_nuclei_acc: 0.9101 - val_predictions_counts_mean_squared_error: 0.0753 - val_predictions_counts_mean_absolute_error: 0.2142\n",
      "Epoch 16/250\n",
      " - 139s - loss: 0.3682 - predictions_nuclei_loss: 0.2225 - predictions_counts_loss: 0.1457 - predictions_nuclei_my_accuracy_score: 0.2550 - predictions_nuclei_acc: 0.9149 - predictions_counts_mean_squared_error: 0.1457 - predictions_counts_mean_absolute_error: 0.2386 - val_loss: 0.2797 - val_predictions_nuclei_loss: 0.2031 - val_predictions_counts_loss: 0.0766 - val_predictions_nuclei_my_accuracy_score: 0.2832 - val_predictions_nuclei_acc: 0.9294 - val_predictions_counts_mean_squared_error: 0.0766 - val_predictions_counts_mean_absolute_error: 0.2209\n",
      "Epoch 17/250\n",
      " - 139s - loss: 0.3551 - predictions_nuclei_loss: 0.2108 - predictions_counts_loss: 0.1443 - predictions_nuclei_my_accuracy_score: 0.2735 - predictions_nuclei_acc: 0.9219 - predictions_counts_mean_squared_error: 0.1443 - predictions_counts_mean_absolute_error: 0.2419 - val_loss: 0.2637 - val_predictions_nuclei_loss: 0.1943 - val_predictions_counts_loss: 0.0694 - val_predictions_nuclei_my_accuracy_score: 0.3037 - val_predictions_nuclei_acc: 0.9348 - val_predictions_counts_mean_squared_error: 0.0694 - val_predictions_counts_mean_absolute_error: 0.2168\n",
      "Epoch 18/250\n",
      " - 139s - loss: 0.3402 - predictions_nuclei_loss: 0.1994 - predictions_counts_loss: 0.1408 - predictions_nuclei_my_accuracy_score: 0.2900 - predictions_nuclei_acc: 0.9267 - predictions_counts_mean_squared_error: 0.1408 - predictions_counts_mean_absolute_error: 0.2464 - val_loss: 0.2668 - val_predictions_nuclei_loss: 0.1947 - val_predictions_counts_loss: 0.0721 - val_predictions_nuclei_my_accuracy_score: 0.3308 - val_predictions_nuclei_acc: 0.9406 - val_predictions_counts_mean_squared_error: 0.0721 - val_predictions_counts_mean_absolute_error: 0.2231\n",
      "Epoch 19/250\n",
      " - 139s - loss: 0.3312 - predictions_nuclei_loss: 0.1900 - predictions_counts_loss: 0.1412 - predictions_nuclei_my_accuracy_score: 0.3032 - predictions_nuclei_acc: 0.9304 - predictions_counts_mean_squared_error: 0.1412 - predictions_counts_mean_absolute_error: 0.2479 - val_loss: 0.2501 - val_predictions_nuclei_loss: 0.1760 - val_predictions_counts_loss: 0.0741 - val_predictions_nuclei_my_accuracy_score: 0.3230 - val_predictions_nuclei_acc: 0.9427 - val_predictions_counts_mean_squared_error: 0.0741 - val_predictions_counts_mean_absolute_error: 0.2300\n",
      "Epoch 20/250\n",
      " - 139s - loss: 0.3160 - predictions_nuclei_loss: 0.1798 - predictions_counts_loss: 0.1362 - predictions_nuclei_my_accuracy_score: 0.3154 - predictions_nuclei_acc: 0.9337 - predictions_counts_mean_squared_error: 0.1362 - predictions_counts_mean_absolute_error: 0.2491 - val_loss: 0.2303 - val_predictions_nuclei_loss: 0.1550 - val_predictions_counts_loss: 0.0753 - val_predictions_nuclei_my_accuracy_score: 0.3346 - val_predictions_nuclei_acc: 0.9437 - val_predictions_counts_mean_squared_error: 0.0753 - val_predictions_counts_mean_absolute_error: 0.2306\n",
      "Epoch 21/250\n",
      " - 139s - loss: 0.3000 - predictions_nuclei_loss: 0.1659 - predictions_counts_loss: 0.1341 - predictions_nuclei_my_accuracy_score: 0.3361 - predictions_nuclei_acc: 0.9390 - predictions_counts_mean_squared_error: 0.1341 - predictions_counts_mean_absolute_error: 0.2520 - val_loss: 0.2247 - val_predictions_nuclei_loss: 0.1573 - val_predictions_counts_loss: 0.0674 - val_predictions_nuclei_my_accuracy_score: 0.3634 - val_predictions_nuclei_acc: 0.9520 - val_predictions_counts_mean_squared_error: 0.0674 - val_predictions_counts_mean_absolute_error: 0.2212\n",
      "Epoch 22/250\n",
      " - 139s - loss: 0.2864 - predictions_nuclei_loss: 0.1545 - predictions_counts_loss: 0.1319 - predictions_nuclei_my_accuracy_score: 0.3495 - predictions_nuclei_acc: 0.9434 - predictions_counts_mean_squared_error: 0.1319 - predictions_counts_mean_absolute_error: 0.2540 - val_loss: 0.2321 - val_predictions_nuclei_loss: 0.1504 - val_predictions_counts_loss: 0.0817 - val_predictions_nuclei_my_accuracy_score: 0.2898 - val_predictions_nuclei_acc: 0.9454 - val_predictions_counts_mean_squared_error: 0.0817 - val_predictions_counts_mean_absolute_error: 0.2374\n",
      "Epoch 23/250\n",
      " - 139s - loss: 0.2733 - predictions_nuclei_loss: 0.1447 - predictions_counts_loss: 0.1286 - predictions_nuclei_my_accuracy_score: 0.3638 - predictions_nuclei_acc: 0.9469 - predictions_counts_mean_squared_error: 0.1286 - predictions_counts_mean_absolute_error: 0.2562 - val_loss: 0.1979 - val_predictions_nuclei_loss: 0.1283 - val_predictions_counts_loss: 0.0695 - val_predictions_nuclei_my_accuracy_score: 0.3750 - val_predictions_nuclei_acc: 0.9584 - val_predictions_counts_mean_squared_error: 0.0695 - val_predictions_counts_mean_absolute_error: 0.2290\n",
      "Epoch 24/250\n",
      " - 139s - loss: 0.2572 - predictions_nuclei_loss: 0.1347 - predictions_counts_loss: 0.1224 - predictions_nuclei_my_accuracy_score: 0.3846 - predictions_nuclei_acc: 0.9508 - predictions_counts_mean_squared_error: 0.1224 - predictions_counts_mean_absolute_error: 0.2549 - val_loss: 0.1911 - val_predictions_nuclei_loss: 0.1103 - val_predictions_counts_loss: 0.0808 - val_predictions_nuclei_my_accuracy_score: 0.4386 - val_predictions_nuclei_acc: 0.9626 - val_predictions_counts_mean_squared_error: 0.0808 - val_predictions_counts_mean_absolute_error: 0.2448\n",
      "Epoch 25/250\n",
      " - 139s - loss: 0.2473 - predictions_nuclei_loss: 0.1272 - predictions_counts_loss: 0.1201 - predictions_nuclei_my_accuracy_score: 0.4028 - predictions_nuclei_acc: 0.9535 - predictions_counts_mean_squared_error: 0.1201 - predictions_counts_mean_absolute_error: 0.2549 - val_loss: 0.1895 - val_predictions_nuclei_loss: 0.1101 - val_predictions_counts_loss: 0.0794 - val_predictions_nuclei_my_accuracy_score: 0.4569 - val_predictions_nuclei_acc: 0.9645 - val_predictions_counts_mean_squared_error: 0.0794 - val_predictions_counts_mean_absolute_error: 0.2402\n",
      "Epoch 26/250\n",
      " - 139s - loss: 0.2316 - predictions_nuclei_loss: 0.1182 - predictions_counts_loss: 0.1134 - predictions_nuclei_my_accuracy_score: 0.4214 - predictions_nuclei_acc: 0.9570 - predictions_counts_mean_squared_error: 0.1134 - predictions_counts_mean_absolute_error: 0.2535 - val_loss: 0.1669 - val_predictions_nuclei_loss: 0.0947 - val_predictions_counts_loss: 0.0722 - val_predictions_nuclei_my_accuracy_score: 0.4967 - val_predictions_nuclei_acc: 0.9699 - val_predictions_counts_mean_squared_error: 0.0722 - val_predictions_counts_mean_absolute_error: 0.2382\n",
      "Epoch 27/250\n",
      " - 139s - loss: 0.2175 - predictions_nuclei_loss: 0.1101 - predictions_counts_loss: 0.1074 - predictions_nuclei_my_accuracy_score: 0.4451 - predictions_nuclei_acc: 0.9602 - predictions_counts_mean_squared_error: 0.1074 - predictions_counts_mean_absolute_error: 0.2532 - val_loss: 0.1737 - val_predictions_nuclei_loss: 0.0908 - val_predictions_counts_loss: 0.0829 - val_predictions_nuclei_my_accuracy_score: 0.5194 - val_predictions_nuclei_acc: 0.9691 - val_predictions_counts_mean_squared_error: 0.0829 - val_predictions_counts_mean_absolute_error: 0.2500\n",
      "Epoch 28/250\n",
      " - 139s - loss: 0.2143 - predictions_nuclei_loss: 0.1053 - predictions_counts_loss: 0.1090 - predictions_nuclei_my_accuracy_score: 0.4618 - predictions_nuclei_acc: 0.9624 - predictions_counts_mean_squared_error: 0.1090 - predictions_counts_mean_absolute_error: 0.2564 - val_loss: 0.1689 - val_predictions_nuclei_loss: 0.0865 - val_predictions_counts_loss: 0.0824 - val_predictions_nuclei_my_accuracy_score: 0.5415 - val_predictions_nuclei_acc: 0.9748 - val_predictions_counts_mean_squared_error: 0.0824 - val_predictions_counts_mean_absolute_error: 0.2492\n",
      "Epoch 29/250\n",
      " - 139s - loss: 0.1935 - predictions_nuclei_loss: 0.0949 - predictions_counts_loss: 0.0986 - predictions_nuclei_my_accuracy_score: 0.4875 - predictions_nuclei_acc: 0.9665 - predictions_counts_mean_squared_error: 0.0986 - predictions_counts_mean_absolute_error: 0.2508 - val_loss: 0.1845 - val_predictions_nuclei_loss: 0.0962 - val_predictions_counts_loss: 0.0884 - val_predictions_nuclei_my_accuracy_score: 0.5343 - val_predictions_nuclei_acc: 0.9733 - val_predictions_counts_mean_squared_error: 0.0884 - val_predictions_counts_mean_absolute_error: 0.2607\n"
     ]
    },
    {
     "name": "stdout",
     "output_type": "stream",
     "text": [
      "Epoch 30/250\n",
      " - 139s - loss: 0.1863 - predictions_nuclei_loss: 0.0891 - predictions_counts_loss: 0.0972 - predictions_nuclei_my_accuracy_score: 0.5106 - predictions_nuclei_acc: 0.9681 - predictions_counts_mean_squared_error: 0.0972 - predictions_counts_mean_absolute_error: 0.2524 - val_loss: 0.1540 - val_predictions_nuclei_loss: 0.0722 - val_predictions_counts_loss: 0.0818 - val_predictions_nuclei_my_accuracy_score: 0.5824 - val_predictions_nuclei_acc: 0.9778 - val_predictions_counts_mean_squared_error: 0.0818 - val_predictions_counts_mean_absolute_error: 0.2503\n",
      "Epoch 31/250\n",
      " - 139s - loss: 0.1748 - predictions_nuclei_loss: 0.0828 - predictions_counts_loss: 0.0920 - predictions_nuclei_my_accuracy_score: 0.5288 - predictions_nuclei_acc: 0.9703 - predictions_counts_mean_squared_error: 0.0920 - predictions_counts_mean_absolute_error: 0.2506 - val_loss: 0.1403 - val_predictions_nuclei_loss: 0.0655 - val_predictions_counts_loss: 0.0748 - val_predictions_nuclei_my_accuracy_score: 0.6007 - val_predictions_nuclei_acc: 0.9789 - val_predictions_counts_mean_squared_error: 0.0748 - val_predictions_counts_mean_absolute_error: 0.2435\n",
      "Epoch 32/250\n",
      " - 139s - loss: 0.1697 - predictions_nuclei_loss: 0.0771 - predictions_counts_loss: 0.0927 - predictions_nuclei_my_accuracy_score: 0.5470 - predictions_nuclei_acc: 0.9727 - predictions_counts_mean_squared_error: 0.0927 - predictions_counts_mean_absolute_error: 0.2528 - val_loss: 0.1403 - val_predictions_nuclei_loss: 0.0678 - val_predictions_counts_loss: 0.0725 - val_predictions_nuclei_my_accuracy_score: 0.5968 - val_predictions_nuclei_acc: 0.9795 - val_predictions_counts_mean_squared_error: 0.0725 - val_predictions_counts_mean_absolute_error: 0.2435\n",
      "Epoch 33/250\n",
      " - 139s - loss: 0.1644 - predictions_nuclei_loss: 0.0729 - predictions_counts_loss: 0.0916 - predictions_nuclei_my_accuracy_score: 0.5644 - predictions_nuclei_acc: 0.9744 - predictions_counts_mean_squared_error: 0.0916 - predictions_counts_mean_absolute_error: 0.2521 - val_loss: 0.1340 - val_predictions_nuclei_loss: 0.0577 - val_predictions_counts_loss: 0.0763 - val_predictions_nuclei_my_accuracy_score: 0.6283 - val_predictions_nuclei_acc: 0.9820 - val_predictions_counts_mean_squared_error: 0.0763 - val_predictions_counts_mean_absolute_error: 0.2475\n",
      "Epoch 34/250\n",
      " - 139s - loss: 0.1552 - predictions_nuclei_loss: 0.0671 - predictions_counts_loss: 0.0881 - predictions_nuclei_my_accuracy_score: 0.5920 - predictions_nuclei_acc: 0.9765 - predictions_counts_mean_squared_error: 0.0881 - predictions_counts_mean_absolute_error: 0.2506 - val_loss: 0.1416 - val_predictions_nuclei_loss: 0.0605 - val_predictions_counts_loss: 0.0811 - val_predictions_nuclei_my_accuracy_score: 0.6134 - val_predictions_nuclei_acc: 0.9817 - val_predictions_counts_mean_squared_error: 0.0811 - val_predictions_counts_mean_absolute_error: 0.2526\n",
      "Epoch 35/250\n",
      " - 139s - loss: 0.1531 - predictions_nuclei_loss: 0.0643 - predictions_counts_loss: 0.0888 - predictions_nuclei_my_accuracy_score: 0.6031 - predictions_nuclei_acc: 0.9775 - predictions_counts_mean_squared_error: 0.0888 - predictions_counts_mean_absolute_error: 0.2516 - val_loss: 0.1252 - val_predictions_nuclei_loss: 0.0538 - val_predictions_counts_loss: 0.0715 - val_predictions_nuclei_my_accuracy_score: 0.6488 - val_predictions_nuclei_acc: 0.9835 - val_predictions_counts_mean_squared_error: 0.0715 - val_predictions_counts_mean_absolute_error: 0.2417\n",
      "Epoch 36/250\n",
      " - 139s - loss: 0.1453 - predictions_nuclei_loss: 0.0584 - predictions_counts_loss: 0.0869 - predictions_nuclei_my_accuracy_score: 0.6290 - predictions_nuclei_acc: 0.9796 - predictions_counts_mean_squared_error: 0.0869 - predictions_counts_mean_absolute_error: 0.2513 - val_loss: 0.1212 - val_predictions_nuclei_loss: 0.0469 - val_predictions_counts_loss: 0.0743 - val_predictions_nuclei_my_accuracy_score: 0.6709 - val_predictions_nuclei_acc: 0.9847 - val_predictions_counts_mean_squared_error: 0.0743 - val_predictions_counts_mean_absolute_error: 0.2467\n",
      "Epoch 37/250\n",
      " - 139s - loss: 0.1530 - predictions_nuclei_loss: 0.0626 - predictions_counts_loss: 0.0904 - predictions_nuclei_my_accuracy_score: 0.6240 - predictions_nuclei_acc: 0.9783 - predictions_counts_mean_squared_error: 0.0904 - predictions_counts_mean_absolute_error: 0.2543 - val_loss: 0.1272 - val_predictions_nuclei_loss: 0.0465 - val_predictions_counts_loss: 0.0806 - val_predictions_nuclei_my_accuracy_score: 0.6405 - val_predictions_nuclei_acc: 0.9846 - val_predictions_counts_mean_squared_error: 0.0806 - val_predictions_counts_mean_absolute_error: 0.2558\n",
      "Epoch 38/250\n",
      " - 139s - loss: 0.1401 - predictions_nuclei_loss: 0.0539 - predictions_counts_loss: 0.0862 - predictions_nuclei_my_accuracy_score: 0.6472 - predictions_nuclei_acc: 0.9814 - predictions_counts_mean_squared_error: 0.0862 - predictions_counts_mean_absolute_error: 0.2517 - val_loss: 0.1235 - val_predictions_nuclei_loss: 0.0457 - val_predictions_counts_loss: 0.0778 - val_predictions_nuclei_my_accuracy_score: 0.6952 - val_predictions_nuclei_acc: 0.9863 - val_predictions_counts_mean_squared_error: 0.0778 - val_predictions_counts_mean_absolute_error: 0.2511\n",
      "Epoch 39/250\n",
      " - 139s - loss: 0.1367 - predictions_nuclei_loss: 0.0505 - predictions_counts_loss: 0.0862 - predictions_nuclei_my_accuracy_score: 0.6662 - predictions_nuclei_acc: 0.9826 - predictions_counts_mean_squared_error: 0.0862 - predictions_counts_mean_absolute_error: 0.2528 - val_loss: 0.1234 - val_predictions_nuclei_loss: 0.0458 - val_predictions_counts_loss: 0.0776 - val_predictions_nuclei_my_accuracy_score: 0.7002 - val_predictions_nuclei_acc: 0.9858 - val_predictions_counts_mean_squared_error: 0.0776 - val_predictions_counts_mean_absolute_error: 0.2514\n",
      "Epoch 40/250\n",
      " - 139s - loss: 0.1332 - predictions_nuclei_loss: 0.0485 - predictions_counts_loss: 0.0847 - predictions_nuclei_my_accuracy_score: 0.6772 - predictions_nuclei_acc: 0.9833 - predictions_counts_mean_squared_error: 0.0847 - predictions_counts_mean_absolute_error: 0.2510 - val_loss: 0.1152 - val_predictions_nuclei_loss: 0.0406 - val_predictions_counts_loss: 0.0746 - val_predictions_nuclei_my_accuracy_score: 0.7423 - val_predictions_nuclei_acc: 0.9874 - val_predictions_counts_mean_squared_error: 0.0746 - val_predictions_counts_mean_absolute_error: 0.2486\n",
      "Epoch 41/250\n",
      " - 139s - loss: 0.1281 - predictions_nuclei_loss: 0.0449 - predictions_counts_loss: 0.0832 - predictions_nuclei_my_accuracy_score: 0.6969 - predictions_nuclei_acc: 0.9845 - predictions_counts_mean_squared_error: 0.0832 - predictions_counts_mean_absolute_error: 0.2509 - val_loss: 0.1135 - val_predictions_nuclei_loss: 0.0393 - val_predictions_counts_loss: 0.0742 - val_predictions_nuclei_my_accuracy_score: 0.7461 - val_predictions_nuclei_acc: 0.9886 - val_predictions_counts_mean_squared_error: 0.0742 - val_predictions_counts_mean_absolute_error: 0.2465\n",
      "Epoch 42/250\n",
      " - 139s - loss: 0.1267 - predictions_nuclei_loss: 0.0420 - predictions_counts_loss: 0.0847 - predictions_nuclei_my_accuracy_score: 0.7102 - predictions_nuclei_acc: 0.9856 - predictions_counts_mean_squared_error: 0.0847 - predictions_counts_mean_absolute_error: 0.2525 - val_loss: 0.1118 - val_predictions_nuclei_loss: 0.0369 - val_predictions_counts_loss: 0.0749 - val_predictions_nuclei_my_accuracy_score: 0.7611 - val_predictions_nuclei_acc: 0.9898 - val_predictions_counts_mean_squared_error: 0.0749 - val_predictions_counts_mean_absolute_error: 0.2494\n",
      "Epoch 43/250\n",
      " - 139s - loss: 0.1254 - predictions_nuclei_loss: 0.0409 - predictions_counts_loss: 0.0845 - predictions_nuclei_my_accuracy_score: 0.7114 - predictions_nuclei_acc: 0.9858 - predictions_counts_mean_squared_error: 0.0845 - predictions_counts_mean_absolute_error: 0.2528 - val_loss: 0.1138 - val_predictions_nuclei_loss: 0.0360 - val_predictions_counts_loss: 0.0778 - val_predictions_nuclei_my_accuracy_score: 0.7483 - val_predictions_nuclei_acc: 0.9892 - val_predictions_counts_mean_squared_error: 0.0778 - val_predictions_counts_mean_absolute_error: 0.2537\n",
      "Epoch 44/250\n",
      " - 139s - loss: 0.1174 - predictions_nuclei_loss: 0.0371 - predictions_counts_loss: 0.0803 - predictions_nuclei_my_accuracy_score: 0.7420 - predictions_nuclei_acc: 0.9872 - predictions_counts_mean_squared_error: 0.0803 - predictions_counts_mean_absolute_error: 0.2490 - val_loss: 0.1068 - val_predictions_nuclei_loss: 0.0323 - val_predictions_counts_loss: 0.0745 - val_predictions_nuclei_my_accuracy_score: 0.7981 - val_predictions_nuclei_acc: 0.9899 - val_predictions_counts_mean_squared_error: 0.0745 - val_predictions_counts_mean_absolute_error: 0.2481\n"
     ]
    },
    {
     "name": "stdout",
     "output_type": "stream",
     "text": [
      "Epoch 45/250\n",
      " - 139s - loss: 0.1220 - predictions_nuclei_loss: 0.0387 - predictions_counts_loss: 0.0833 - predictions_nuclei_my_accuracy_score: 0.7373 - predictions_nuclei_acc: 0.9870 - predictions_counts_mean_squared_error: 0.0833 - predictions_counts_mean_absolute_error: 0.2514 - val_loss: 0.1108 - val_predictions_nuclei_loss: 0.0338 - val_predictions_counts_loss: 0.0770 - val_predictions_nuclei_my_accuracy_score: 0.7837 - val_predictions_nuclei_acc: 0.9897 - val_predictions_counts_mean_squared_error: 0.0770 - val_predictions_counts_mean_absolute_error: 0.2521\n",
      "Epoch 46/250\n",
      " - 139s - loss: 0.1143 - predictions_nuclei_loss: 0.0340 - predictions_counts_loss: 0.0803 - predictions_nuclei_my_accuracy_score: 0.7536 - predictions_nuclei_acc: 0.9885 - predictions_counts_mean_squared_error: 0.0803 - predictions_counts_mean_absolute_error: 0.2492 - val_loss: 0.1046 - val_predictions_nuclei_loss: 0.0301 - val_predictions_counts_loss: 0.0744 - val_predictions_nuclei_my_accuracy_score: 0.7732 - val_predictions_nuclei_acc: 0.9906 - val_predictions_counts_mean_squared_error: 0.0744 - val_predictions_counts_mean_absolute_error: 0.2491\n",
      "Epoch 47/250\n",
      " - 139s - loss: 0.1201 - predictions_nuclei_loss: 0.0360 - predictions_counts_loss: 0.0841 - predictions_nuclei_my_accuracy_score: 0.7456 - predictions_nuclei_acc: 0.9877 - predictions_counts_mean_squared_error: 0.0841 - predictions_counts_mean_absolute_error: 0.2523 - val_loss: 0.1025 - val_predictions_nuclei_loss: 0.0276 - val_predictions_counts_loss: 0.0749 - val_predictions_nuclei_my_accuracy_score: 0.8064 - val_predictions_nuclei_acc: 0.9913 - val_predictions_counts_mean_squared_error: 0.0749 - val_predictions_counts_mean_absolute_error: 0.2500\n",
      "Epoch 48/250\n",
      " - 139s - loss: 0.1135 - predictions_nuclei_loss: 0.0327 - predictions_counts_loss: 0.0807 - predictions_nuclei_my_accuracy_score: 0.7621 - predictions_nuclei_acc: 0.9887 - predictions_counts_mean_squared_error: 0.0807 - predictions_counts_mean_absolute_error: 0.2499 - val_loss: 0.1042 - val_predictions_nuclei_loss: 0.0275 - val_predictions_counts_loss: 0.0767 - val_predictions_nuclei_my_accuracy_score: 0.8180 - val_predictions_nuclei_acc: 0.9916 - val_predictions_counts_mean_squared_error: 0.0767 - val_predictions_counts_mean_absolute_error: 0.2510\n",
      "Epoch 49/250\n",
      " - 139s - loss: 0.1119 - predictions_nuclei_loss: 0.0307 - predictions_counts_loss: 0.0812 - predictions_nuclei_my_accuracy_score: 0.7777 - predictions_nuclei_acc: 0.9898 - predictions_counts_mean_squared_error: 0.0812 - predictions_counts_mean_absolute_error: 0.2504 - val_loss: 0.1046 - val_predictions_nuclei_loss: 0.0282 - val_predictions_counts_loss: 0.0764 - val_predictions_nuclei_my_accuracy_score: 0.8418 - val_predictions_nuclei_acc: 0.9911 - val_predictions_counts_mean_squared_error: 0.0764 - val_predictions_counts_mean_absolute_error: 0.2505\n",
      "Epoch 50/250\n",
      " - 139s - loss: 0.1114 - predictions_nuclei_loss: 0.0298 - predictions_counts_loss: 0.0816 - predictions_nuclei_my_accuracy_score: 0.7778 - predictions_nuclei_acc: 0.9900 - predictions_counts_mean_squared_error: 0.0816 - predictions_counts_mean_absolute_error: 0.2510 - val_loss: 0.0986 - val_predictions_nuclei_loss: 0.0240 - val_predictions_counts_loss: 0.0745 - val_predictions_nuclei_my_accuracy_score: 0.8330 - val_predictions_nuclei_acc: 0.9920 - val_predictions_counts_mean_squared_error: 0.0745 - val_predictions_counts_mean_absolute_error: 0.2492\n",
      "Epoch 51/250\n",
      " - 139s - loss: 0.1056 - predictions_nuclei_loss: 0.0265 - predictions_counts_loss: 0.0791 - predictions_nuclei_my_accuracy_score: 0.7962 - predictions_nuclei_acc: 0.9911 - predictions_counts_mean_squared_error: 0.0791 - predictions_counts_mean_absolute_error: 0.2484 - val_loss: 0.0999 - val_predictions_nuclei_loss: 0.0261 - val_predictions_counts_loss: 0.0738 - val_predictions_nuclei_my_accuracy_score: 0.8014 - val_predictions_nuclei_acc: 0.9926 - val_predictions_counts_mean_squared_error: 0.0738 - val_predictions_counts_mean_absolute_error: 0.2476\n",
      "Epoch 52/250\n",
      " - 139s - loss: 0.1082 - predictions_nuclei_loss: 0.0269 - predictions_counts_loss: 0.0813 - predictions_nuclei_my_accuracy_score: 0.7976 - predictions_nuclei_acc: 0.9911 - predictions_counts_mean_squared_error: 0.0813 - predictions_counts_mean_absolute_error: 0.2500 - val_loss: 0.0981 - val_predictions_nuclei_loss: 0.0223 - val_predictions_counts_loss: 0.0758 - val_predictions_nuclei_my_accuracy_score: 0.8562 - val_predictions_nuclei_acc: 0.9926 - val_predictions_counts_mean_squared_error: 0.0758 - val_predictions_counts_mean_absolute_error: 0.2521\n",
      "Epoch 53/250\n",
      " - 139s - loss: 0.1066 - predictions_nuclei_loss: 0.0258 - predictions_counts_loss: 0.0808 - predictions_nuclei_my_accuracy_score: 0.8063 - predictions_nuclei_acc: 0.9912 - predictions_counts_mean_squared_error: 0.0808 - predictions_counts_mean_absolute_error: 0.2510 - val_loss: 0.0961 - val_predictions_nuclei_loss: 0.0219 - val_predictions_counts_loss: 0.0742 - val_predictions_nuclei_my_accuracy_score: 0.8639 - val_predictions_nuclei_acc: 0.9937 - val_predictions_counts_mean_squared_error: 0.0742 - val_predictions_counts_mean_absolute_error: 0.2463\n",
      "Epoch 54/250\n",
      " - 139s - loss: 0.1025 - predictions_nuclei_loss: 0.0228 - predictions_counts_loss: 0.0797 - predictions_nuclei_my_accuracy_score: 0.8173 - predictions_nuclei_acc: 0.9926 - predictions_counts_mean_squared_error: 0.0797 - predictions_counts_mean_absolute_error: 0.2496 - val_loss: 0.0973 - val_predictions_nuclei_loss: 0.0216 - val_predictions_counts_loss: 0.0757 - val_predictions_nuclei_my_accuracy_score: 0.8850 - val_predictions_nuclei_acc: 0.9932 - val_predictions_counts_mean_squared_error: 0.0757 - val_predictions_counts_mean_absolute_error: 0.2498\n",
      "Epoch 55/250\n",
      " - 139s - loss: 0.0986 - predictions_nuclei_loss: 0.0207 - predictions_counts_loss: 0.0779 - predictions_nuclei_my_accuracy_score: 0.8339 - predictions_nuclei_acc: 0.9931 - predictions_counts_mean_squared_error: 0.0779 - predictions_counts_mean_absolute_error: 0.2488 - val_loss: 0.0952 - val_predictions_nuclei_loss: 0.0170 - val_predictions_counts_loss: 0.0782 - val_predictions_nuclei_my_accuracy_score: 0.8545 - val_predictions_nuclei_acc: 0.9943 - val_predictions_counts_mean_squared_error: 0.0782 - val_predictions_counts_mean_absolute_error: 0.2553\n",
      "Epoch 56/250\n",
      " - 139s - loss: 0.0985 - predictions_nuclei_loss: 0.0203 - predictions_counts_loss: 0.0782 - predictions_nuclei_my_accuracy_score: 0.8354 - predictions_nuclei_acc: 0.9935 - predictions_counts_mean_squared_error: 0.0782 - predictions_counts_mean_absolute_error: 0.2490 - val_loss: 0.0942 - val_predictions_nuclei_loss: 0.0164 - val_predictions_counts_loss: 0.0777 - val_predictions_nuclei_my_accuracy_score: 0.8684 - val_predictions_nuclei_acc: 0.9942 - val_predictions_counts_mean_squared_error: 0.0777 - val_predictions_counts_mean_absolute_error: 0.2544\n",
      "Epoch 57/250\n",
      " - 139s - loss: 0.0978 - predictions_nuclei_loss: 0.0192 - predictions_counts_loss: 0.0785 - predictions_nuclei_my_accuracy_score: 0.8429 - predictions_nuclei_acc: 0.9939 - predictions_counts_mean_squared_error: 0.0785 - predictions_counts_mean_absolute_error: 0.2490 - val_loss: 0.0895 - val_predictions_nuclei_loss: 0.0146 - val_predictions_counts_loss: 0.0749 - val_predictions_nuclei_my_accuracy_score: 0.8944 - val_predictions_nuclei_acc: 0.9963 - val_predictions_counts_mean_squared_error: 0.0749 - val_predictions_counts_mean_absolute_error: 0.2492\n",
      "Epoch 58/250\n",
      " - 139s - loss: 0.0971 - predictions_nuclei_loss: 0.0183 - predictions_counts_loss: 0.0788 - predictions_nuclei_my_accuracy_score: 0.8466 - predictions_nuclei_acc: 0.9944 - predictions_counts_mean_squared_error: 0.0788 - predictions_counts_mean_absolute_error: 0.2498 - val_loss: 0.0958 - val_predictions_nuclei_loss: 0.0160 - val_predictions_counts_loss: 0.0798 - val_predictions_nuclei_my_accuracy_score: 0.8805 - val_predictions_nuclei_acc: 0.9955 - val_predictions_counts_mean_squared_error: 0.0798 - val_predictions_counts_mean_absolute_error: 0.2583\n",
      "Epoch 59/250\n",
      " - 139s - loss: 0.0949 - predictions_nuclei_loss: 0.0165 - predictions_counts_loss: 0.0784 - predictions_nuclei_my_accuracy_score: 0.8577 - predictions_nuclei_acc: 0.9950 - predictions_counts_mean_squared_error: 0.0784 - predictions_counts_mean_absolute_error: 0.2496 - val_loss: 0.0885 - val_predictions_nuclei_loss: 0.0131 - val_predictions_counts_loss: 0.0754 - val_predictions_nuclei_my_accuracy_score: 0.8927 - val_predictions_nuclei_acc: 0.9964 - val_predictions_counts_mean_squared_error: 0.0754 - val_predictions_counts_mean_absolute_error: 0.2502\n"
     ]
    },
    {
     "name": "stdout",
     "output_type": "stream",
     "text": [
      "Epoch 60/250\n",
      " - 139s - loss: 0.0928 - predictions_nuclei_loss: 0.0154 - predictions_counts_loss: 0.0774 - predictions_nuclei_my_accuracy_score: 0.8645 - predictions_nuclei_acc: 0.9954 - predictions_counts_mean_squared_error: 0.0774 - predictions_counts_mean_absolute_error: 0.2475 - val_loss: 0.0881 - val_predictions_nuclei_loss: 0.0130 - val_predictions_counts_loss: 0.0751 - val_predictions_nuclei_my_accuracy_score: 0.8861 - val_predictions_nuclei_acc: 0.9961 - val_predictions_counts_mean_squared_error: 0.0751 - val_predictions_counts_mean_absolute_error: 0.2494\n",
      "Epoch 61/250\n",
      " - 139s - loss: 0.0974 - predictions_nuclei_loss: 0.0185 - predictions_counts_loss: 0.0789 - predictions_nuclei_my_accuracy_score: 0.8556 - predictions_nuclei_acc: 0.9944 - predictions_counts_mean_squared_error: 0.0789 - predictions_counts_mean_absolute_error: 0.2503 - val_loss: 0.0877 - val_predictions_nuclei_loss: 0.0112 - val_predictions_counts_loss: 0.0766 - val_predictions_nuclei_my_accuracy_score: 0.9060 - val_predictions_nuclei_acc: 0.9969 - val_predictions_counts_mean_squared_error: 0.0766 - val_predictions_counts_mean_absolute_error: 0.2518\n",
      "Epoch 62/250\n",
      " - 139s - loss: 0.0895 - predictions_nuclei_loss: 0.0136 - predictions_counts_loss: 0.0759 - predictions_nuclei_my_accuracy_score: 0.8738 - predictions_nuclei_acc: 0.9960 - predictions_counts_mean_squared_error: 0.0759 - predictions_counts_mean_absolute_error: 0.2466 - val_loss: 0.0914 - val_predictions_nuclei_loss: 0.0165 - val_predictions_counts_loss: 0.0749 - val_predictions_nuclei_my_accuracy_score: 0.8977 - val_predictions_nuclei_acc: 0.9959 - val_predictions_counts_mean_squared_error: 0.0749 - val_predictions_counts_mean_absolute_error: 0.2496\n",
      "Epoch 63/250\n",
      " - 139s - loss: 0.0911 - predictions_nuclei_loss: 0.0141 - predictions_counts_loss: 0.0770 - predictions_nuclei_my_accuracy_score: 0.8782 - predictions_nuclei_acc: 0.9958 - predictions_counts_mean_squared_error: 0.0770 - predictions_counts_mean_absolute_error: 0.2478 - val_loss: 0.0876 - val_predictions_nuclei_loss: 0.0115 - val_predictions_counts_loss: 0.0761 - val_predictions_nuclei_my_accuracy_score: 0.9087 - val_predictions_nuclei_acc: 0.9965 - val_predictions_counts_mean_squared_error: 0.0761 - val_predictions_counts_mean_absolute_error: 0.2518\n",
      "Epoch 64/250\n",
      " - 139s - loss: 0.0910 - predictions_nuclei_loss: 0.0141 - predictions_counts_loss: 0.0768 - predictions_nuclei_my_accuracy_score: 0.8801 - predictions_nuclei_acc: 0.9956 - predictions_counts_mean_squared_error: 0.0768 - predictions_counts_mean_absolute_error: 0.2477 - val_loss: 0.0864 - val_predictions_nuclei_loss: 0.0120 - val_predictions_counts_loss: 0.0744 - val_predictions_nuclei_my_accuracy_score: 0.8949 - val_predictions_nuclei_acc: 0.9964 - val_predictions_counts_mean_squared_error: 0.0744 - val_predictions_counts_mean_absolute_error: 0.2487\n",
      "Epoch 65/250\n",
      " - 139s - loss: 0.0886 - predictions_nuclei_loss: 0.0122 - predictions_counts_loss: 0.0764 - predictions_nuclei_my_accuracy_score: 0.8893 - predictions_nuclei_acc: 0.9962 - predictions_counts_mean_squared_error: 0.0764 - predictions_counts_mean_absolute_error: 0.2476 - val_loss: 0.0921 - val_predictions_nuclei_loss: 0.0142 - val_predictions_counts_loss: 0.0779 - val_predictions_nuclei_my_accuracy_score: 0.9242 - val_predictions_nuclei_acc: 0.9968 - val_predictions_counts_mean_squared_error: 0.0779 - val_predictions_counts_mean_absolute_error: 0.2551\n",
      "Epoch 66/250\n",
      " - 139s - loss: 0.0860 - predictions_nuclei_loss: 0.0107 - predictions_counts_loss: 0.0753 - predictions_nuclei_my_accuracy_score: 0.8978 - predictions_nuclei_acc: 0.9968 - predictions_counts_mean_squared_error: 0.0753 - predictions_counts_mean_absolute_error: 0.2462 - val_loss: 0.0863 - val_predictions_nuclei_loss: 0.0091 - val_predictions_counts_loss: 0.0772 - val_predictions_nuclei_my_accuracy_score: 0.9303 - val_predictions_nuclei_acc: 0.9981 - val_predictions_counts_mean_squared_error: 0.0772 - val_predictions_counts_mean_absolute_error: 0.2537\n",
      "Epoch 67/250\n",
      " - 139s - loss: 0.0884 - predictions_nuclei_loss: 0.0119 - predictions_counts_loss: 0.0765 - predictions_nuclei_my_accuracy_score: 0.8940 - predictions_nuclei_acc: 0.9965 - predictions_counts_mean_squared_error: 0.0765 - predictions_counts_mean_absolute_error: 0.2469 - val_loss: 0.0863 - val_predictions_nuclei_loss: 0.0090 - val_predictions_counts_loss: 0.0773 - val_predictions_nuclei_my_accuracy_score: 0.9309 - val_predictions_nuclei_acc: 0.9978 - val_predictions_counts_mean_squared_error: 0.0773 - val_predictions_counts_mean_absolute_error: 0.2530\n",
      "Epoch 68/250\n",
      " - 139s - loss: 0.0857 - predictions_nuclei_loss: 0.0097 - predictions_counts_loss: 0.0760 - predictions_nuclei_my_accuracy_score: 0.9039 - predictions_nuclei_acc: 0.9972 - predictions_counts_mean_squared_error: 0.0760 - predictions_counts_mean_absolute_error: 0.2475 - val_loss: 0.0875 - val_predictions_nuclei_loss: 0.0080 - val_predictions_counts_loss: 0.0795 - val_predictions_nuclei_my_accuracy_score: 0.9375 - val_predictions_nuclei_acc: 0.9980 - val_predictions_counts_mean_squared_error: 0.0795 - val_predictions_counts_mean_absolute_error: 0.2566\n",
      "Epoch 69/250\n",
      " - 139s - loss: 0.0883 - predictions_nuclei_loss: 0.0114 - predictions_counts_loss: 0.0769 - predictions_nuclei_my_accuracy_score: 0.9023 - predictions_nuclei_acc: 0.9965 - predictions_counts_mean_squared_error: 0.0769 - predictions_counts_mean_absolute_error: 0.2482 - val_loss: 0.0859 - val_predictions_nuclei_loss: 0.0106 - val_predictions_counts_loss: 0.0754 - val_predictions_nuclei_my_accuracy_score: 0.9132 - val_predictions_nuclei_acc: 0.9969 - val_predictions_counts_mean_squared_error: 0.0754 - val_predictions_counts_mean_absolute_error: 0.2514\n",
      "Epoch 70/250\n",
      " - 139s - loss: 0.0833 - predictions_nuclei_loss: 0.0090 - predictions_counts_loss: 0.0743 - predictions_nuclei_my_accuracy_score: 0.9113 - predictions_nuclei_acc: 0.9974 - predictions_counts_mean_squared_error: 0.0743 - predictions_counts_mean_absolute_error: 0.2451 - val_loss: 0.0829 - val_predictions_nuclei_loss: 0.0057 - val_predictions_counts_loss: 0.0772 - val_predictions_nuclei_my_accuracy_score: 0.9397 - val_predictions_nuclei_acc: 0.9982 - val_predictions_counts_mean_squared_error: 0.0772 - val_predictions_counts_mean_absolute_error: 0.2547\n",
      "Epoch 71/250\n",
      " - 139s - loss: 0.0843 - predictions_nuclei_loss: 0.0094 - predictions_counts_loss: 0.0749 - predictions_nuclei_my_accuracy_score: 0.9124 - predictions_nuclei_acc: 0.9972 - predictions_counts_mean_squared_error: 0.0749 - predictions_counts_mean_absolute_error: 0.2457 - val_loss: 0.0844 - val_predictions_nuclei_loss: 0.0101 - val_predictions_counts_loss: 0.0743 - val_predictions_nuclei_my_accuracy_score: 0.9248 - val_predictions_nuclei_acc: 0.9972 - val_predictions_counts_mean_squared_error: 0.0743 - val_predictions_counts_mean_absolute_error: 0.2482\n",
      "Epoch 72/250\n",
      " - 139s - loss: 0.0851 - predictions_nuclei_loss: 0.0097 - predictions_counts_loss: 0.0754 - predictions_nuclei_my_accuracy_score: 0.9126 - predictions_nuclei_acc: 0.9971 - predictions_counts_mean_squared_error: 0.0754 - predictions_counts_mean_absolute_error: 0.2467 - val_loss: 0.0864 - val_predictions_nuclei_loss: 0.0115 - val_predictions_counts_loss: 0.0749 - val_predictions_nuclei_my_accuracy_score: 0.8944 - val_predictions_nuclei_acc: 0.9968 - val_predictions_counts_mean_squared_error: 0.0749 - val_predictions_counts_mean_absolute_error: 0.2503\n",
      "Epoch 73/250\n",
      " - 139s - loss: 0.0838 - predictions_nuclei_loss: 0.0086 - predictions_counts_loss: 0.0751 - predictions_nuclei_my_accuracy_score: 0.9190 - predictions_nuclei_acc: 0.9976 - predictions_counts_mean_squared_error: 0.0751 - predictions_counts_mean_absolute_error: 0.2458 - val_loss: 0.0823 - val_predictions_nuclei_loss: 0.0057 - val_predictions_counts_loss: 0.0766 - val_predictions_nuclei_my_accuracy_score: 0.9425 - val_predictions_nuclei_acc: 0.9983 - val_predictions_counts_mean_squared_error: 0.0766 - val_predictions_counts_mean_absolute_error: 0.2524\n",
      "Epoch 74/250\n",
      " - 139s - loss: 0.0843 - predictions_nuclei_loss: 0.0084 - predictions_counts_loss: 0.0759 - predictions_nuclei_my_accuracy_score: 0.9210 - predictions_nuclei_acc: 0.9976 - predictions_counts_mean_squared_error: 0.0759 - predictions_counts_mean_absolute_error: 0.2464 - val_loss: 0.0811 - val_predictions_nuclei_loss: 0.0057 - val_predictions_counts_loss: 0.0753 - val_predictions_nuclei_my_accuracy_score: 0.9430 - val_predictions_nuclei_acc: 0.9985 - val_predictions_counts_mean_squared_error: 0.0753 - val_predictions_counts_mean_absolute_error: 0.2503\n"
     ]
    },
    {
     "name": "stdout",
     "output_type": "stream",
     "text": [
      "Epoch 75/250\n",
      " - 139s - loss: 0.0834 - predictions_nuclei_loss: 0.0082 - predictions_counts_loss: 0.0752 - predictions_nuclei_my_accuracy_score: 0.9208 - predictions_nuclei_acc: 0.9977 - predictions_counts_mean_squared_error: 0.0752 - predictions_counts_mean_absolute_error: 0.2457 - val_loss: 0.0824 - val_predictions_nuclei_loss: 0.0057 - val_predictions_counts_loss: 0.0767 - val_predictions_nuclei_my_accuracy_score: 0.9397 - val_predictions_nuclei_acc: 0.9982 - val_predictions_counts_mean_squared_error: 0.0767 - val_predictions_counts_mean_absolute_error: 0.2529\n",
      "Epoch 76/250\n",
      " - 139s - loss: 0.0851 - predictions_nuclei_loss: 0.0093 - predictions_counts_loss: 0.0758 - predictions_nuclei_my_accuracy_score: 0.9190 - predictions_nuclei_acc: 0.9974 - predictions_counts_mean_squared_error: 0.0758 - predictions_counts_mean_absolute_error: 0.2464 - val_loss: 0.0809 - val_predictions_nuclei_loss: 0.0069 - val_predictions_counts_loss: 0.0740 - val_predictions_nuclei_my_accuracy_score: 0.9475 - val_predictions_nuclei_acc: 0.9986 - val_predictions_counts_mean_squared_error: 0.0740 - val_predictions_counts_mean_absolute_error: 0.2477\n",
      "Epoch 77/250\n",
      " - 139s - loss: 0.0807 - predictions_nuclei_loss: 0.0065 - predictions_counts_loss: 0.0742 - predictions_nuclei_my_accuracy_score: 0.9349 - predictions_nuclei_acc: 0.9983 - predictions_counts_mean_squared_error: 0.0742 - predictions_counts_mean_absolute_error: 0.2437 - val_loss: 0.0858 - val_predictions_nuclei_loss: 0.0095 - val_predictions_counts_loss: 0.0763 - val_predictions_nuclei_my_accuracy_score: 0.9231 - val_predictions_nuclei_acc: 0.9976 - val_predictions_counts_mean_squared_error: 0.0763 - val_predictions_counts_mean_absolute_error: 0.2543\n",
      "Epoch 78/250\n",
      " - 139s - loss: 0.0791 - predictions_nuclei_loss: 0.0059 - predictions_counts_loss: 0.0733 - predictions_nuclei_my_accuracy_score: 0.9409 - predictions_nuclei_acc: 0.9983 - predictions_counts_mean_squared_error: 0.0733 - predictions_counts_mean_absolute_error: 0.2433 - val_loss: 0.0798 - val_predictions_nuclei_loss: 0.0047 - val_predictions_counts_loss: 0.0752 - val_predictions_nuclei_my_accuracy_score: 0.9508 - val_predictions_nuclei_acc: 0.9986 - val_predictions_counts_mean_squared_error: 0.0752 - val_predictions_counts_mean_absolute_error: 0.2505\n",
      "Epoch 79/250\n",
      " - 139s - loss: 0.0806 - predictions_nuclei_loss: 0.0062 - predictions_counts_loss: 0.0743 - predictions_nuclei_my_accuracy_score: 0.9380 - predictions_nuclei_acc: 0.9982 - predictions_counts_mean_squared_error: 0.0743 - predictions_counts_mean_absolute_error: 0.2448 - val_loss: 0.0825 - val_predictions_nuclei_loss: 0.0077 - val_predictions_counts_loss: 0.0748 - val_predictions_nuclei_my_accuracy_score: 0.9502 - val_predictions_nuclei_acc: 0.9987 - val_predictions_counts_mean_squared_error: 0.0748 - val_predictions_counts_mean_absolute_error: 0.2491\n",
      "Epoch 80/250\n",
      " - 139s - loss: 0.0791 - predictions_nuclei_loss: 0.0056 - predictions_counts_loss: 0.0734 - predictions_nuclei_my_accuracy_score: 0.9441 - predictions_nuclei_acc: 0.9985 - predictions_counts_mean_squared_error: 0.0734 - predictions_counts_mean_absolute_error: 0.2430 - val_loss: 0.0832 - val_predictions_nuclei_loss: 0.0060 - val_predictions_counts_loss: 0.0772 - val_predictions_nuclei_my_accuracy_score: 0.9436 - val_predictions_nuclei_acc: 0.9983 - val_predictions_counts_mean_squared_error: 0.0772 - val_predictions_counts_mean_absolute_error: 0.2540\n",
      "Epoch 81/250\n",
      " - 139s - loss: 0.0796 - predictions_nuclei_loss: 0.0057 - predictions_counts_loss: 0.0739 - predictions_nuclei_my_accuracy_score: 0.9440 - predictions_nuclei_acc: 0.9982 - predictions_counts_mean_squared_error: 0.0739 - predictions_counts_mean_absolute_error: 0.2445 - val_loss: 0.0807 - val_predictions_nuclei_loss: 0.0058 - val_predictions_counts_loss: 0.0750 - val_predictions_nuclei_my_accuracy_score: 0.9486 - val_predictions_nuclei_acc: 0.9986 - val_predictions_counts_mean_squared_error: 0.0750 - val_predictions_counts_mean_absolute_error: 0.2502\n",
      "Epoch 82/250\n",
      " - 139s - loss: 0.0820 - predictions_nuclei_loss: 0.0068 - predictions_counts_loss: 0.0752 - predictions_nuclei_my_accuracy_score: 0.9367 - predictions_nuclei_acc: 0.9980 - predictions_counts_mean_squared_error: 0.0752 - predictions_counts_mean_absolute_error: 0.2456 - val_loss: 0.0880 - val_predictions_nuclei_loss: 0.0135 - val_predictions_counts_loss: 0.0745 - val_predictions_nuclei_my_accuracy_score: 0.9204 - val_predictions_nuclei_acc: 0.9966 - val_predictions_counts_mean_squared_error: 0.0745 - val_predictions_counts_mean_absolute_error: 0.2493\n",
      "Epoch 83/250\n",
      " - 139s - loss: 0.0802 - predictions_nuclei_loss: 0.0062 - predictions_counts_loss: 0.0740 - predictions_nuclei_my_accuracy_score: 0.9427 - predictions_nuclei_acc: 0.9984 - predictions_counts_mean_squared_error: 0.0740 - predictions_counts_mean_absolute_error: 0.2444 - val_loss: 0.0800 - val_predictions_nuclei_loss: 0.0042 - val_predictions_counts_loss: 0.0758 - val_predictions_nuclei_my_accuracy_score: 0.9558 - val_predictions_nuclei_acc: 0.9989 - val_predictions_counts_mean_squared_error: 0.0758 - val_predictions_counts_mean_absolute_error: 0.2512\n",
      "Epoch 84/250\n",
      " - 139s - loss: 0.0802 - predictions_nuclei_loss: 0.0058 - predictions_counts_loss: 0.0743 - predictions_nuclei_my_accuracy_score: 0.9433 - predictions_nuclei_acc: 0.9982 - predictions_counts_mean_squared_error: 0.0743 - predictions_counts_mean_absolute_error: 0.2443 - val_loss: 0.0796 - val_predictions_nuclei_loss: 0.0051 - val_predictions_counts_loss: 0.0746 - val_predictions_nuclei_my_accuracy_score: 0.9541 - val_predictions_nuclei_acc: 0.9987 - val_predictions_counts_mean_squared_error: 0.0746 - val_predictions_counts_mean_absolute_error: 0.2492\n",
      "Epoch 85/250\n",
      " - 139s - loss: 0.0824 - predictions_nuclei_loss: 0.0073 - predictions_counts_loss: 0.0751 - predictions_nuclei_my_accuracy_score: 0.9378 - predictions_nuclei_acc: 0.9978 - predictions_counts_mean_squared_error: 0.0751 - predictions_counts_mean_absolute_error: 0.2451 - val_loss: 0.1077 - val_predictions_nuclei_loss: 0.0331 - val_predictions_counts_loss: 0.0746 - val_predictions_nuclei_my_accuracy_score: 0.8899 - val_predictions_nuclei_acc: 0.9935 - val_predictions_counts_mean_squared_error: 0.0746 - val_predictions_counts_mean_absolute_error: 0.2501\n",
      "Epoch 86/250\n",
      " - 139s - loss: 0.0789 - predictions_nuclei_loss: 0.0054 - predictions_counts_loss: 0.0735 - predictions_nuclei_my_accuracy_score: 0.9456 - predictions_nuclei_acc: 0.9985 - predictions_counts_mean_squared_error: 0.0735 - predictions_counts_mean_absolute_error: 0.2433 - val_loss: 0.0793 - val_predictions_nuclei_loss: 0.0048 - val_predictions_counts_loss: 0.0745 - val_predictions_nuclei_my_accuracy_score: 0.9613 - val_predictions_nuclei_acc: 0.9990 - val_predictions_counts_mean_squared_error: 0.0745 - val_predictions_counts_mean_absolute_error: 0.2482\n",
      "Epoch 87/250\n",
      " - 139s - loss: 0.0784 - predictions_nuclei_loss: 0.0053 - predictions_counts_loss: 0.0732 - predictions_nuclei_my_accuracy_score: 0.9504 - predictions_nuclei_acc: 0.9984 - predictions_counts_mean_squared_error: 0.0732 - predictions_counts_mean_absolute_error: 0.2428 - val_loss: 0.0795 - val_predictions_nuclei_loss: 0.0045 - val_predictions_counts_loss: 0.0750 - val_predictions_nuclei_my_accuracy_score: 0.9701 - val_predictions_nuclei_acc: 0.9989 - val_predictions_counts_mean_squared_error: 0.0750 - val_predictions_counts_mean_absolute_error: 0.2497\n",
      "Epoch 88/250\n",
      " - 139s - loss: 0.0788 - predictions_nuclei_loss: 0.0055 - predictions_counts_loss: 0.0733 - predictions_nuclei_my_accuracy_score: 0.9488 - predictions_nuclei_acc: 0.9985 - predictions_counts_mean_squared_error: 0.0733 - predictions_counts_mean_absolute_error: 0.2431 - val_loss: 0.0808 - val_predictions_nuclei_loss: 0.0039 - val_predictions_counts_loss: 0.0768 - val_predictions_nuclei_my_accuracy_score: 0.9580 - val_predictions_nuclei_acc: 0.9988 - val_predictions_counts_mean_squared_error: 0.0768 - val_predictions_counts_mean_absolute_error: 0.2538\n",
      "Epoch 89/250\n",
      " - 139s - loss: 0.0783 - predictions_nuclei_loss: 0.0055 - predictions_counts_loss: 0.0727 - predictions_nuclei_my_accuracy_score: 0.9488 - predictions_nuclei_acc: 0.9986 - predictions_counts_mean_squared_error: 0.0727 - predictions_counts_mean_absolute_error: 0.2427 - val_loss: 0.0826 - val_predictions_nuclei_loss: 0.0062 - val_predictions_counts_loss: 0.0764 - val_predictions_nuclei_my_accuracy_score: 0.9508 - val_predictions_nuclei_acc: 0.9986 - val_predictions_counts_mean_squared_error: 0.0764 - val_predictions_counts_mean_absolute_error: 0.2528\n"
     ]
    },
    {
     "name": "stdout",
     "output_type": "stream",
     "text": [
      "Epoch 90/250\n",
      " - 139s - loss: 0.0782 - predictions_nuclei_loss: 0.0049 - predictions_counts_loss: 0.0733 - predictions_nuclei_my_accuracy_score: 0.9532 - predictions_nuclei_acc: 0.9985 - predictions_counts_mean_squared_error: 0.0733 - predictions_counts_mean_absolute_error: 0.2429 - val_loss: 0.0799 - val_predictions_nuclei_loss: 0.0031 - val_predictions_counts_loss: 0.0768 - val_predictions_nuclei_my_accuracy_score: 0.9690 - val_predictions_nuclei_acc: 0.9992 - val_predictions_counts_mean_squared_error: 0.0768 - val_predictions_counts_mean_absolute_error: 0.2526\n",
      "Epoch 91/250\n",
      " - 139s - loss: 0.0765 - predictions_nuclei_loss: 0.0038 - predictions_counts_loss: 0.0727 - predictions_nuclei_my_accuracy_score: 0.9585 - predictions_nuclei_acc: 0.9990 - predictions_counts_mean_squared_error: 0.0727 - predictions_counts_mean_absolute_error: 0.2422 - val_loss: 0.0815 - val_predictions_nuclei_loss: 0.0061 - val_predictions_counts_loss: 0.0754 - val_predictions_nuclei_my_accuracy_score: 0.9602 - val_predictions_nuclei_acc: 0.9987 - val_predictions_counts_mean_squared_error: 0.0754 - val_predictions_counts_mean_absolute_error: 0.2496\n",
      "Epoch 92/250\n",
      " - 139s - loss: 0.0784 - predictions_nuclei_loss: 0.0044 - predictions_counts_loss: 0.0740 - predictions_nuclei_my_accuracy_score: 0.9563 - predictions_nuclei_acc: 0.9987 - predictions_counts_mean_squared_error: 0.0740 - predictions_counts_mean_absolute_error: 0.2443 - val_loss: 0.0799 - val_predictions_nuclei_loss: 0.0040 - val_predictions_counts_loss: 0.0760 - val_predictions_nuclei_my_accuracy_score: 0.9679 - val_predictions_nuclei_acc: 0.9989 - val_predictions_counts_mean_squared_error: 0.0760 - val_predictions_counts_mean_absolute_error: 0.2502\n",
      "Epoch 93/250\n",
      " - 139s - loss: 0.0772 - predictions_nuclei_loss: 0.0042 - predictions_counts_loss: 0.0731 - predictions_nuclei_my_accuracy_score: 0.9561 - predictions_nuclei_acc: 0.9989 - predictions_counts_mean_squared_error: 0.0731 - predictions_counts_mean_absolute_error: 0.2429 - val_loss: 0.0845 - val_predictions_nuclei_loss: 0.0100 - val_predictions_counts_loss: 0.0745 - val_predictions_nuclei_my_accuracy_score: 0.9430 - val_predictions_nuclei_acc: 0.9977 - val_predictions_counts_mean_squared_error: 0.0745 - val_predictions_counts_mean_absolute_error: 0.2487\n",
      "Epoch 94/250\n",
      " - 139s - loss: 0.0776 - predictions_nuclei_loss: 0.0049 - predictions_counts_loss: 0.0727 - predictions_nuclei_my_accuracy_score: 0.9557 - predictions_nuclei_acc: 0.9987 - predictions_counts_mean_squared_error: 0.0727 - predictions_counts_mean_absolute_error: 0.2427 - val_loss: 0.0804 - val_predictions_nuclei_loss: 0.0035 - val_predictions_counts_loss: 0.0769 - val_predictions_nuclei_my_accuracy_score: 0.9768 - val_predictions_nuclei_acc: 0.9990 - val_predictions_counts_mean_squared_error: 0.0769 - val_predictions_counts_mean_absolute_error: 0.2534\n",
      "Epoch 95/250\n",
      " - 139s - loss: 0.0774 - predictions_nuclei_loss: 0.0045 - predictions_counts_loss: 0.0729 - predictions_nuclei_my_accuracy_score: 0.9562 - predictions_nuclei_acc: 0.9988 - predictions_counts_mean_squared_error: 0.0729 - predictions_counts_mean_absolute_error: 0.2430 - val_loss: 0.0793 - val_predictions_nuclei_loss: 0.0047 - val_predictions_counts_loss: 0.0746 - val_predictions_nuclei_my_accuracy_score: 0.9646 - val_predictions_nuclei_acc: 0.9989 - val_predictions_counts_mean_squared_error: 0.0746 - val_predictions_counts_mean_absolute_error: 0.2486\n",
      "Epoch 96/250\n",
      " - 139s - loss: 0.0768 - predictions_nuclei_loss: 0.0038 - predictions_counts_loss: 0.0730 - predictions_nuclei_my_accuracy_score: 0.9606 - predictions_nuclei_acc: 0.9991 - predictions_counts_mean_squared_error: 0.0730 - predictions_counts_mean_absolute_error: 0.2422 - val_loss: 0.0809 - val_predictions_nuclei_loss: 0.0059 - val_predictions_counts_loss: 0.0750 - val_predictions_nuclei_my_accuracy_score: 0.9458 - val_predictions_nuclei_acc: 0.9983 - val_predictions_counts_mean_squared_error: 0.0750 - val_predictions_counts_mean_absolute_error: 0.2497\n"
     ]
    }
   ],
   "source": [
    "gerador_treino = EspectraSequence(X_all_train, [x[0] for x in y_all_train], [x[1] for x in y_all_train],\n",
    "                                  batch_size=batch_size)\n",
    "#gerador_imagens(X_train, y_train, batch_size=batch_size)\n",
    "\n",
    "gerador_validacao = EspectraSequence(X_all_test, [x[0] for x in y_all_test], [x[1] for x in y_all_test],\n",
    "                                     batch_size=batch_size)\n",
    "#gerador_imagens(X_test, y_test, batch_size=batch_size)\n",
    "\n",
    "es = keras.callbacks.EarlyStopping(monitor='val_loss',\n",
    "                                   mode='min',\n",
    "                                   patience=10)\n",
    "\n",
    "tb = keras.callbacks.TensorBoard(\n",
    "    log_dir='./logs_v4',\n",
    "    histogram_freq=0,\n",
    "    batch_size=32,\n",
    "    write_graph=True,\n",
    "    #batch_gen=gerador_validacao,\n",
    "    #nb_steps=validation_steps,\n",
    "    update_freq='epoch')\n",
    "\n",
    "#EspectraSequence(X_train, [x[0] for x in y_train], [x[1] for x in y_train], batch_size=8)\n",
    "\n",
    "callbacks = [es, tb]\n",
    "\n",
    "hist = model.fit_generator(generator=gerador_treino,\n",
    "                           steps_per_epoch=steps_per_epoch,\n",
    "                           epochs=epochs,\n",
    "                           verbose=2,\n",
    "                           callbacks=callbacks,\n",
    "                           validation_data=gerador_validacao, #(x_train_val, y_train_val),\n",
    "                           validation_steps=validation_steps,\n",
    "                           shuffle=True)\n"
   ]
  },
  {
   "cell_type": "code",
   "execution_count": 123,
   "metadata": {},
   "outputs": [],
   "source": [
    "from keras.models import save_model\n",
    "save_model(model, 'VGG-19-SGD-classificacao-regressao-PENELOPE-v4.hdf5')"
   ]
  },
  {
   "cell_type": "code",
   "execution_count": 124,
   "metadata": {},
   "outputs": [
    {
     "data": {
      "image/png": "[encoded data removed]",
      "text/plain": [
       "<Figure size 432x288 with 1 Axes>"
      ]
     },
     "metadata": {},
     "output_type": "display_data"
    }
   ],
   "source": [
    "plt.plot(hist.history['predictions_nuclei_my_accuracy_score'])\n",
    "plt.plot(hist.history['val_predictions_nuclei_my_accuracy_score'])\n",
    "plt.title('model accuracy')\n",
    "plt.ylabel('accuracy')\n",
    "plt.xlabel('epoch')\n",
    "plt.legend(['train', 'test'], loc='upper left')\n",
    "plt.show()"
   ]
  },
  {
   "cell_type": "code",
   "execution_count": 125,
   "metadata": {},
   "outputs": [
    {
     "data": {
      "image/png": "[encoded data removed]",
      "text/plain": [
       "<Figure size 432x288 with 1 Axes>"
      ]
     },
     "metadata": {},
     "output_type": "display_data"
    }
   ],
   "source": [
    "plt.plot(hist.history['predictions_counts_mean_squared_error'])\n",
    "plt.plot(hist.history['val_predictions_counts_mean_squared_error'])\n",
    "plt.title('model mean square error')\n",
    "plt.ylabel('coutns mean square error')\n",
    "plt.xlabel('epoch')\n",
    "plt.legend(['train', 'test'], loc='upper right')\n",
    "plt.show()"
   ]
  },
  {
   "cell_type": "code",
   "execution_count": 126,
   "metadata": {},
   "outputs": [
    {
     "data": {
      "image/png": "[encoded data removed]",
      "text/plain": [
       "<Figure size 432x288 with 1 Axes>"
      ]
     },
     "metadata": {},
     "output_type": "display_data"
    }
   ],
   "source": [
    "plt.plot(hist.history['predictions_nuclei_loss'])\n",
    "plt.plot(hist.history['val_predictions_nuclei_loss'])\n",
    "plt.title('model loss')\n",
    "plt.ylabel('loss')\n",
    "plt.xlabel('epoch')\n",
    "plt.legend(['train', 'test'], loc='upper right')\n",
    "plt.show()"
   ]
  },
  {
   "cell_type": "code",
   "execution_count": 171,
   "metadata": {},
   "outputs": [
    {
     "name": "stdout",
     "output_type": "stream",
     "text": [
      "226/226 [==============================] - 5s 23ms/step\n",
      "1579/1579 [==============================] - 36s 23ms/step\n"
     ]
    }
   ],
   "source": [
    "val_metrics = model.evaluate_generator(gerador_validacao,\n",
    "                                       steps=validation_steps,\n",
    "                                      verbose=1)\n",
    "train_metrics = model.evaluate_generator(gerador_treino,\n",
    "                                         steps=steps_per_epoch,\n",
    "                                        verbose=1)\n"
   ]
  },
  {
   "cell_type": "code",
   "execution_count": 172,
   "metadata": {},
   "outputs": [
    {
     "data": {
      "text/plain": [
       "[('loss', 0.08096906788383437),\n",
       " ('predictions_nuclei_loss', 0.0059255320618012185),\n",
       " ('predictions_counts_loss', 0.07504353593144797),\n",
       " ('predictions_nuclei_my_accuracy_score', 0.9463495575221239),\n",
       " ('predictions_nuclei_acc', 0.9983407092832886),\n",
       " ('predictions_counts_mean_squared_error', 0.07504353593144797),\n",
       " ('predictions_counts_mean_absolute_error', 0.24996411239942617)]"
      ]
     },
     "execution_count": 172,
     "metadata": {},
     "output_type": "execute_result"
    }
   ],
   "source": [
    "list(zip(model.metrics_names, val_metrics))"
   ]
  },
  {
   "cell_type": "code",
   "execution_count": 173,
   "metadata": {},
   "outputs": [
    {
     "data": {
      "text/plain": [
       "[('loss', 0.07840898409308844),\n",
       " ('predictions_nuclei_loss', 0.004574529294924628),\n",
       " ('predictions_counts_loss', 0.0738344547985474),\n",
       " ('predictions_nuclei_my_accuracy_score', 0.9406175771971497),\n",
       " ('predictions_nuclei_acc', 0.9984481405286872),\n",
       " ('predictions_counts_mean_squared_error', 0.0738344547985474),\n",
       " ('predictions_counts_mean_absolute_error', 0.24434164602041056)]"
      ]
     },
     "execution_count": 173,
     "metadata": {},
     "output_type": "execute_result"
    }
   ],
   "source": [
    "list(zip(model.metrics_names, train_metrics))"
   ]
  },
  {
   "cell_type": "markdown",
   "metadata": {},
   "source": [
    "# Validando nos espectros criados com Penelope"
   ]
  },
  {
   "cell_type": "code",
   "execution_count": 41,
   "metadata": {},
   "outputs": [],
   "source": [
    "from keras.utils.vis_utils import plot_model"
   ]
  },
  {
   "cell_type": "code",
   "execution_count": 42,
   "metadata": {},
   "outputs": [],
   "source": [
    "#plot_model(model, to_file='model_plot.png', show_shapes=True, show_layer_names=True)"
   ]
  },
  {
   "cell_type": "code",
   "execution_count": 179,
   "metadata": {},
   "outputs": [
    {
     "name": "stdout",
     "output_type": "stream",
     "text": [
      "63\n"
     ]
    },
    {
     "data": {
      "image/png": "[encoded data removed]",
      "text/plain": [
       "<Figure size 1224x122.4 with 2 Axes>"
      ]
     },
     "metadata": {},
     "output_type": "display_data"
    }
   ],
   "source": [
    "#idx_ = np.random.choice(len(gerador_validacao) - 1, 1)[0]\n",
    "print(idx_)\n",
    "x_, aux_ = gerador_validacao[idx_]\n",
    "\n",
    "y_counts = aux_['predictions_counts']\n",
    "y_ = aux_['predictions_nuclei']\n",
    "\n",
    "idx = 3\n",
    "f, axarr = plt.subplots(1, 2, figsize=(17, 1.7))\n",
    "axarr[0].plot(range(len(x_[idx].reshape(-1))),\n",
    "              x_[idx].reshape(-1), 'r')\n",
    "axarr[0].set_yscale(\"log\")\n",
    "\n",
    "axarr[0].set_title(\" with \".join(binarizer.inverse_transform(np.array([y_[idx]]))[0]))\n",
    "axarr[1].imshow(x_[idx].reshape((128,128)))\n",
    "\n",
    "plt.grid(False)\n",
    "plt.subplots_adjust(bottom=1.25, top=2.75)\n",
    "plt.show()"
   ]
  },
  {
   "cell_type": "code",
   "execution_count": 187,
   "metadata": {},
   "outputs": [
    {
     "data": {
      "image/png": "[encoded data removed]",
      "text/plain": [
       "<Figure size 1224x360 with 2 Axes>"
      ]
     },
     "metadata": {},
     "output_type": "display_data"
    }
   ],
   "source": [
    "\"\"\"\n",
    "f, axarr = plt.subplots(1, 2, figsize=(17, 5))\n",
    "plt.suptitle(\"Fonte tríplice de calibração Am-214, Cs-137, Co-60\", fontsize=16)\n",
    "axarr[0].plot(df_triplice['channel'], df_triplice.counts.shift(-145).fillna(0).values, 'r')\n",
    "axarr[0].set_title(\"Espectro\")\n",
    "axarr[0].set_yscale(\"log\")\n",
    "\n",
    "axarr[1].imshow(np.array(dados).reshape((128,128)))\n",
    "axarr[1].set_title(\"Imagem\")\n",
    "axarr[1].grid(False)\n",
    "\n",
    "#plt.subplots_adjust(bottom=1.25, top=2.75)\n",
    "plt.show()\n",
    "\"\"\"\n",
    "#idx_ = np.random.choice(len(gerador_validacao) - 1, 1)[0]\n",
    "x_, aux_ = gerador_validacao[idx_]\n",
    "\n",
    "y_counts = aux_['predictions_counts']\n",
    "y_ = aux_['predictions_nuclei']\n",
    "\n",
    "\n",
    "f, axarr = plt.subplots(1, 2, figsize=(17, 5))\n",
    "plt.suptitle(\"Espectro contendo: \"+\" e \".join(binarizer.inverse_transform(np.array([y_[idx]]))[0]),\n",
    "             fontsize=16)\n",
    "\n",
    "\n",
    "axarr[0].plot(range(len(x_[idx].reshape(-1))), x_[idx].reshape(-1), 'r')\n",
    "axarr[0].set_yscale(\"log\")\n",
    "axarr[0].set_xlabel(\"canal do detector\")\n",
    "axarr[0].set_ylabel(\"log(contagens)\")\n",
    "axarr[0].set_title(\"Espectro\", fontsize=14)\n",
    "\n",
    "axarr[1].set_title(\"Imagem\", fontsize=14)\n",
    "axarr[1].imshow(x_[0].reshape((128,128)))\n",
    "\n",
    "#plt.grid(False)\n",
    "#plt.subplots_adjust(bottom=1.25, top=2.75)\n",
    "plt.show()"
   ]
  },
  {
   "cell_type": "code",
   "execution_count": 201,
   "metadata": {},
   "outputs": [
    {
     "name": "stdout",
     "output_type": "stream",
     "text": [
      "CPU times: user 2 µs, sys: 1 µs, total: 3 µs\n",
      "Wall time: 5.96 µs\n"
     ]
    }
   ],
   "source": [
    "%time\n",
    "preds = model.predict(np.array([x_[idx].reshape((128, 128, 1))]))"
   ]
  },
  {
   "cell_type": "code",
   "execution_count": 182,
   "metadata": {},
   "outputs": [
    {
     "data": {
      "text/html": [
       "<div>\n",
       "<style scoped>\n",
       "    .dataframe tbody tr th:only-of-type {\n",
       "        vertical-align: middle;\n",
       "    }\n",
       "\n",
       "    .dataframe tbody tr th {\n",
       "        vertical-align: top;\n",
       "    }\n",
       "\n",
       "    .dataframe thead th {\n",
       "        text-align: right;\n",
       "    }\n",
       "</style>\n",
       "<table border=\"1\" class=\"dataframe\">\n",
       "  <thead>\n",
       "    <tr style=\"text-align: right;\">\n",
       "      <th></th>\n",
       "      <th>radionuclideo</th>\n",
       "      <th>nuclei_score</th>\n",
       "      <th>nuclei_counts</th>\n",
       "      <th>real_counts</th>\n",
       "    </tr>\n",
       "  </thead>\n",
       "  <tbody>\n",
       "    <tr>\n",
       "      <th>0</th>\n",
       "      <td>Am-241</td>\n",
       "      <td>0.00</td>\n",
       "      <td>18,143.91</td>\n",
       "      <td>0.00</td>\n",
       "    </tr>\n",
       "    <tr>\n",
       "      <th>1</th>\n",
       "      <td>Ba-133</td>\n",
       "      <td>0.00</td>\n",
       "      <td>43,388.02</td>\n",
       "      <td>0.00</td>\n",
       "    </tr>\n",
       "    <tr>\n",
       "      <th>2</th>\n",
       "      <td>Cd-109</td>\n",
       "      <td>0.00</td>\n",
       "      <td>3,558.15</td>\n",
       "      <td>0.00</td>\n",
       "    </tr>\n",
       "    <tr>\n",
       "      <th>3</th>\n",
       "      <td>Co-57</td>\n",
       "      <td>0.00</td>\n",
       "      <td>16,787.20</td>\n",
       "      <td>0.00</td>\n",
       "    </tr>\n",
       "    <tr>\n",
       "      <th>4</th>\n",
       "      <td>Co-60</td>\n",
       "      <td>100.00</td>\n",
       "      <td>2,866,950.00</td>\n",
       "      <td>2,820,238.49</td>\n",
       "    </tr>\n",
       "    <tr>\n",
       "      <th>5</th>\n",
       "      <td>Cs-137</td>\n",
       "      <td>100.00</td>\n",
       "      <td>361,216.78</td>\n",
       "      <td>311,128.75</td>\n",
       "    </tr>\n",
       "    <tr>\n",
       "      <th>6</th>\n",
       "      <td>Eu-152</td>\n",
       "      <td>0.00</td>\n",
       "      <td>110,015.87</td>\n",
       "      <td>0.00</td>\n",
       "    </tr>\n",
       "    <tr>\n",
       "      <th>7</th>\n",
       "      <td>Mn-54</td>\n",
       "      <td>0.00</td>\n",
       "      <td>66,623.20</td>\n",
       "      <td>0.00</td>\n",
       "    </tr>\n",
       "    <tr>\n",
       "      <th>8</th>\n",
       "      <td>Na-22</td>\n",
       "      <td>100.00</td>\n",
       "      <td>2,151,689.50</td>\n",
       "      <td>2,045,656.38</td>\n",
       "    </tr>\n",
       "    <tr>\n",
       "      <th>9</th>\n",
       "      <td>Pb-210</td>\n",
       "      <td>0.00</td>\n",
       "      <td>3,908.84</td>\n",
       "      <td>0.00</td>\n",
       "    </tr>\n",
       "  </tbody>\n",
       "</table>\n",
       "</div>"
      ],
      "text/plain": [
       "  radionuclideo  nuclei_score  nuclei_counts  real_counts\n",
       "0        Am-241          0.00      18,143.91         0.00\n",
       "1        Ba-133          0.00      43,388.02         0.00\n",
       "2        Cd-109          0.00       3,558.15         0.00\n",
       "3         Co-57          0.00      16,787.20         0.00\n",
       "4         Co-60        100.00   2,866,950.00 2,820,238.49\n",
       "5        Cs-137        100.00     361,216.78   311,128.75\n",
       "6        Eu-152          0.00     110,015.87         0.00\n",
       "7         Mn-54          0.00      66,623.20         0.00\n",
       "8         Na-22        100.00   2,151,689.50 2,045,656.38\n",
       "9        Pb-210          0.00       3,908.84         0.00"
      ]
     },
     "execution_count": 182,
     "metadata": {},
     "output_type": "execute_result"
    }
   ],
   "source": [
    "df = pd.DataFrame({'radionuclideo':binarizer.classes_,\n",
    "                   'nuclei_score': preds[0][0]*100,\n",
    "                   'nuclei_counts': scaler.inverse_transform(preds[1][0]),\n",
    "                   'real_counts': scaler.inverse_transform(y_counts[idx])})\n",
    "df"
   ]
  },
  {
   "cell_type": "code",
   "execution_count": null,
   "metadata": {},
   "outputs": [],
   "source": [
    "# Criar uma massa de dados simulando com papel ao invés de água\n",
    "# Corrigir as contagens na entrada pela eficiência da similação\n",
    "# Re-treinar"
   ]
  },
  {
   "cell_type": "markdown",
   "metadata": {},
   "source": [
    "# Validando nos espectros experimentais"
   ]
  },
  {
   "cell_type": "code",
   "execution_count": 131,
   "metadata": {},
   "outputs": [],
   "source": [
    "def obtem_dados_dos_canais(linhas):\n",
    "    dados = []\n",
    "    pode_comecar = False\n",
    "    for linha in linhas:\n",
    "        if linha == \"A004USERDEFINED                                                     \\n\":\n",
    "            pode_comecar = True\n",
    "            continue\n",
    "        if pode_comecar:\n",
    "            aux = linha.strip().split()\n",
    "            if int(aux[1]) % 5:\n",
    "                print(\"oi!\")\n",
    "            dados.extend([float(x) for x in aux[2:]])\n",
    "    return dados[1:]"
   ]
  },
  {
   "cell_type": "code",
   "execution_count": 132,
   "metadata": {},
   "outputs": [
    {
     "name": "stdout",
     "output_type": "stream",
     "text": [
      "Am-241 - BG.IEC\n",
      "Ba-133 - BG.IEC\n",
      "Cd-109 - BG.IEC\n",
      "Co-57 - BG.IEC\n",
      "Co-60 - BG.IEC\n",
      "Cs-137 - BG.IEC\n",
      "Eu-152 - BG.IEC\n",
      "Mn-54 - BG.IEC\n",
      "Na-22 - BG.IEC\n",
      "Pb-210 - BG.IEC\n"
     ]
    }
   ],
   "source": [
    "arquivos = ['Am-241 - BG.IEC',\n",
    "            'Ba-133 - BG.IEC',\n",
    "            'Cd-109 - BG.IEC',\n",
    "            'Co-57 - BG.IEC',\n",
    "            'Co-60 - BG.IEC',\n",
    "            'Cs-137 - BG.IEC',\n",
    "            'Eu-152 - BG.IEC',\n",
    "            'Mn-54 - BG.IEC',\n",
    "            'Na-22 - BG.IEC',\n",
    "            'Pb-210 - BG.IEC',]\n",
    "\n",
    "df_nuclideos = dict()\n",
    "img_espectros = dict()\n",
    "img_convertidos = dict()\n",
    "images = dict()\n",
    "\n",
    "for arquivo in arquivos:\n",
    "    print(arquivo)\n",
    "    dados = []\n",
    "\n",
    "    with open('/export/ipen/artigo/ICDA-3/Espectros/Experimentos/17-Maio-2018/Espectros/{0}'.format(arquivo), 'r') as f:\n",
    "        dados = f.readlines()\n",
    "    dados = obtem_dados_dos_canais(dados)\n",
    "    df = pd.DataFrame({'channel': range(0, len(dados)), 'counts' : dados})\n",
    "    df_nuclideos[arquivo] = df.copy()\n",
    "    img_convertidos[arquivo] = np.array(dados).reshape((128, 128)).copy()\n",
    "    images[arquivo.split(' ')[0]] = np.array(dados).reshape((128, 128)).copy()"
   ]
  },
  {
   "cell_type": "code",
   "execution_count": 134,
   "metadata": {},
   "outputs": [
    {
     "data": {
      "image/png": "[encoded data removed]",
      "text/plain": [
       "<Figure size 1080x1800 with 20 Axes>"
      ]
     },
     "metadata": {},
     "output_type": "display_data"
    }
   ],
   "source": [
    "f, axarr = plt.subplots(10, 2, figsize=(15,25))\n",
    "for n, arquivo in enumerate(arquivos):\n",
    "    df = df_nuclideos[arquivo]\n",
    "    axarr[n, 0].plot(df['channel'], df['counts'], 'r')\n",
    "    axarr[n, 0].set_title(\"Espectro : {0}\".format(arquivo))\n",
    "    axarr[n, 0].set_yscale(\"log\")\n",
    "    axarr[n, 1].imshow(img_convertidos[arquivo])\n",
    "    #axarr[n, 1].set_title(\"Como Imagem : {0}\".format(arquivo))\n",
    "    \n",
    "plt.grid(False)\n",
    "plt.subplots_adjust(bottom=1.25, top=2.75)\n",
    "plt.show()"
   ]
  },
  {
   "cell_type": "code",
   "execution_count": 51,
   "metadata": {},
   "outputs": [
    {
     "data": {
      "text/html": [
       "<div>\n",
       "<style scoped>\n",
       "    .dataframe tbody tr th:only-of-type {\n",
       "        vertical-align: middle;\n",
       "    }\n",
       "\n",
       "    .dataframe tbody tr th {\n",
       "        vertical-align: top;\n",
       "    }\n",
       "\n",
       "    .dataframe thead th {\n",
       "        text-align: right;\n",
       "    }\n",
       "</style>\n",
       "<table border=\"1\" class=\"dataframe\">\n",
       "  <thead>\n",
       "    <tr style=\"text-align: right;\">\n",
       "      <th></th>\n",
       "      <th>radionuclideo</th>\n",
       "      <th>nuclei_score</th>\n",
       "      <th>nuclei_counts</th>\n",
       "      <th>real_counts</th>\n",
       "    </tr>\n",
       "  </thead>\n",
       "  <tbody>\n",
       "    <tr>\n",
       "      <th>0</th>\n",
       "      <td>Am-241</td>\n",
       "      <td>100.00</td>\n",
       "      <td>156,426.50</td>\n",
       "      <td>141,596.00</td>\n",
       "    </tr>\n",
       "    <tr>\n",
       "      <th>1</th>\n",
       "      <td>Ba-133</td>\n",
       "      <td>2.07</td>\n",
       "      <td>13,197.98</td>\n",
       "      <td>141,596.00</td>\n",
       "    </tr>\n",
       "    <tr>\n",
       "      <th>2</th>\n",
       "      <td>Cd-109</td>\n",
       "      <td>0.45</td>\n",
       "      <td>3,387.41</td>\n",
       "      <td>141,596.00</td>\n",
       "    </tr>\n",
       "    <tr>\n",
       "      <th>3</th>\n",
       "      <td>Co-57</td>\n",
       "      <td>5.54</td>\n",
       "      <td>6,590.37</td>\n",
       "      <td>141,596.00</td>\n",
       "    </tr>\n",
       "    <tr>\n",
       "      <th>4</th>\n",
       "      <td>Co-60</td>\n",
       "      <td>0.00</td>\n",
       "      <td>189,794.06</td>\n",
       "      <td>141,596.00</td>\n",
       "    </tr>\n",
       "    <tr>\n",
       "      <th>5</th>\n",
       "      <td>Cs-137</td>\n",
       "      <td>1.72</td>\n",
       "      <td>13,467.99</td>\n",
       "      <td>141,596.00</td>\n",
       "    </tr>\n",
       "    <tr>\n",
       "      <th>6</th>\n",
       "      <td>Eu-152</td>\n",
       "      <td>0.99</td>\n",
       "      <td>25,110.69</td>\n",
       "      <td>141,596.00</td>\n",
       "    </tr>\n",
       "    <tr>\n",
       "      <th>7</th>\n",
       "      <td>Mn-54</td>\n",
       "      <td>0.05</td>\n",
       "      <td>65,118.52</td>\n",
       "      <td>141,596.00</td>\n",
       "    </tr>\n",
       "    <tr>\n",
       "      <th>8</th>\n",
       "      <td>Na-22</td>\n",
       "      <td>0.02</td>\n",
       "      <td>201,700.78</td>\n",
       "      <td>141,596.00</td>\n",
       "    </tr>\n",
       "    <tr>\n",
       "      <th>9</th>\n",
       "      <td>Pb-210</td>\n",
       "      <td>0.03</td>\n",
       "      <td>3,613.45</td>\n",
       "      <td>141,596.00</td>\n",
       "    </tr>\n",
       "  </tbody>\n",
       "</table>\n",
       "</div>"
      ],
      "text/plain": [
       "  radionuclideo  nuclei_score  nuclei_counts  real_counts\n",
       "0        Am-241        100.00     156,426.50   141,596.00\n",
       "1        Ba-133          2.07      13,197.98   141,596.00\n",
       "2        Cd-109          0.45       3,387.41   141,596.00\n",
       "3         Co-57          5.54       6,590.37   141,596.00\n",
       "4         Co-60          0.00     189,794.06   141,596.00\n",
       "5        Cs-137          1.72      13,467.99   141,596.00\n",
       "6        Eu-152          0.99      25,110.69   141,596.00\n",
       "7         Mn-54          0.05      65,118.52   141,596.00\n",
       "8         Na-22          0.02     201,700.78   141,596.00\n",
       "9        Pb-210          0.03       3,613.45   141,596.00"
      ]
     },
     "execution_count": 51,
     "metadata": {},
     "output_type": "execute_result"
    }
   ],
   "source": [
    "preds = model.predict(np.array([images['Am-241'].reshape((128, 128, 1))]))\n",
    "\n",
    "df = pd.DataFrame({'radionuclideo':binarizer.classes_,\n",
    "                   'nuclei_score': preds[0][0]*100,\n",
    "                   'nuclei_counts': scaler.inverse_transform(preds[1][0]),\n",
    "                   'real_counts': np.sum(images['Am-241'])})\n",
    "df"
   ]
  },
  {
   "cell_type": "code",
   "execution_count": 135,
   "metadata": {},
   "outputs": [
    {
     "data": {
      "text/html": [
       "<div>\n",
       "<style scoped>\n",
       "    .dataframe tbody tr th:only-of-type {\n",
       "        vertical-align: middle;\n",
       "    }\n",
       "\n",
       "    .dataframe tbody tr th {\n",
       "        vertical-align: top;\n",
       "    }\n",
       "\n",
       "    .dataframe thead th {\n",
       "        text-align: right;\n",
       "    }\n",
       "</style>\n",
       "<table border=\"1\" class=\"dataframe\">\n",
       "  <thead>\n",
       "    <tr style=\"text-align: right;\">\n",
       "      <th></th>\n",
       "      <th>radionuclideo</th>\n",
       "      <th>nuclei_score</th>\n",
       "      <th>nuclei_counts</th>\n",
       "      <th>real_counts</th>\n",
       "    </tr>\n",
       "  </thead>\n",
       "  <tbody>\n",
       "    <tr>\n",
       "      <th>0</th>\n",
       "      <td>Am-241</td>\n",
       "      <td>0.00</td>\n",
       "      <td>18,143.90</td>\n",
       "      <td>35,319.00</td>\n",
       "    </tr>\n",
       "    <tr>\n",
       "      <th>1</th>\n",
       "      <td>Ba-133</td>\n",
       "      <td>100.00</td>\n",
       "      <td>47,127.53</td>\n",
       "      <td>35,319.00</td>\n",
       "    </tr>\n",
       "    <tr>\n",
       "      <th>2</th>\n",
       "      <td>Cd-109</td>\n",
       "      <td>0.00</td>\n",
       "      <td>3,557.98</td>\n",
       "      <td>35,319.00</td>\n",
       "    </tr>\n",
       "    <tr>\n",
       "      <th>3</th>\n",
       "      <td>Co-57</td>\n",
       "      <td>1.61</td>\n",
       "      <td>16,099.66</td>\n",
       "      <td>35,319.00</td>\n",
       "    </tr>\n",
       "    <tr>\n",
       "      <th>4</th>\n",
       "      <td>Co-60</td>\n",
       "      <td>0.00</td>\n",
       "      <td>200,550.25</td>\n",
       "      <td>35,319.00</td>\n",
       "    </tr>\n",
       "    <tr>\n",
       "      <th>5</th>\n",
       "      <td>Cs-137</td>\n",
       "      <td>0.00</td>\n",
       "      <td>46,983.85</td>\n",
       "      <td>35,319.00</td>\n",
       "    </tr>\n",
       "    <tr>\n",
       "      <th>6</th>\n",
       "      <td>Eu-152</td>\n",
       "      <td>0.00</td>\n",
       "      <td>110,015.49</td>\n",
       "      <td>35,319.00</td>\n",
       "    </tr>\n",
       "    <tr>\n",
       "      <th>7</th>\n",
       "      <td>Mn-54</td>\n",
       "      <td>0.01</td>\n",
       "      <td>66,609.03</td>\n",
       "      <td>35,319.00</td>\n",
       "    </tr>\n",
       "    <tr>\n",
       "      <th>8</th>\n",
       "      <td>Na-22</td>\n",
       "      <td>0.01</td>\n",
       "      <td>189,599.12</td>\n",
       "      <td>35,319.00</td>\n",
       "    </tr>\n",
       "    <tr>\n",
       "      <th>9</th>\n",
       "      <td>Pb-210</td>\n",
       "      <td>0.00</td>\n",
       "      <td>3,908.83</td>\n",
       "      <td>35,319.00</td>\n",
       "    </tr>\n",
       "  </tbody>\n",
       "</table>\n",
       "</div>"
      ],
      "text/plain": [
       "  radionuclideo  nuclei_score  nuclei_counts  real_counts\n",
       "0        Am-241          0.00      18,143.90    35,319.00\n",
       "1        Ba-133        100.00      47,127.53    35,319.00\n",
       "2        Cd-109          0.00       3,557.98    35,319.00\n",
       "3         Co-57          1.61      16,099.66    35,319.00\n",
       "4         Co-60          0.00     200,550.25    35,319.00\n",
       "5        Cs-137          0.00      46,983.85    35,319.00\n",
       "6        Eu-152          0.00     110,015.49    35,319.00\n",
       "7         Mn-54          0.01      66,609.03    35,319.00\n",
       "8         Na-22          0.01     189,599.12    35,319.00\n",
       "9        Pb-210          0.00       3,908.83    35,319.00"
      ]
     },
     "execution_count": 135,
     "metadata": {},
     "output_type": "execute_result"
    }
   ],
   "source": [
    "validation_nuclei = 'Ba-133'\n",
    "preds = model.predict(np.array([images[validation_nuclei].reshape((128, 128, 1))]))\n",
    "\n",
    "df = pd.DataFrame({'radionuclideo':binarizer.classes_,\n",
    "                   'nuclei_score': preds[0][0]*100,\n",
    "                   'nuclei_counts': scaler.inverse_transform(preds[1][0]),\n",
    "                   'real_counts': np.sum(images[validation_nuclei])})\n",
    "df"
   ]
  },
  {
   "cell_type": "code",
   "execution_count": 136,
   "metadata": {},
   "outputs": [
    {
     "data": {
      "text/html": [
       "<div>\n",
       "<style scoped>\n",
       "    .dataframe tbody tr th:only-of-type {\n",
       "        vertical-align: middle;\n",
       "    }\n",
       "\n",
       "    .dataframe tbody tr th {\n",
       "        vertical-align: top;\n",
       "    }\n",
       "\n",
       "    .dataframe thead th {\n",
       "        text-align: right;\n",
       "    }\n",
       "</style>\n",
       "<table border=\"1\" class=\"dataframe\">\n",
       "  <thead>\n",
       "    <tr style=\"text-align: right;\">\n",
       "      <th></th>\n",
       "      <th>radionuclideo</th>\n",
       "      <th>nuclei_score</th>\n",
       "      <th>nuclei_counts</th>\n",
       "      <th>real_counts</th>\n",
       "    </tr>\n",
       "  </thead>\n",
       "  <tbody>\n",
       "    <tr>\n",
       "      <th>0</th>\n",
       "      <td>Am-241</td>\n",
       "      <td>0.00</td>\n",
       "      <td>18,143.89</td>\n",
       "      <td>7,195.00</td>\n",
       "    </tr>\n",
       "    <tr>\n",
       "      <th>1</th>\n",
       "      <td>Ba-133</td>\n",
       "      <td>0.00</td>\n",
       "      <td>43,388.01</td>\n",
       "      <td>7,195.00</td>\n",
       "    </tr>\n",
       "    <tr>\n",
       "      <th>2</th>\n",
       "      <td>Cd-109</td>\n",
       "      <td>99.82</td>\n",
       "      <td>16,784.71</td>\n",
       "      <td>7,195.00</td>\n",
       "    </tr>\n",
       "    <tr>\n",
       "      <th>3</th>\n",
       "      <td>Co-57</td>\n",
       "      <td>0.06</td>\n",
       "      <td>16,772.52</td>\n",
       "      <td>7,195.00</td>\n",
       "    </tr>\n",
       "    <tr>\n",
       "      <th>4</th>\n",
       "      <td>Co-60</td>\n",
       "      <td>0.00</td>\n",
       "      <td>200,550.00</td>\n",
       "      <td>7,195.00</td>\n",
       "    </tr>\n",
       "    <tr>\n",
       "      <th>5</th>\n",
       "      <td>Cs-137</td>\n",
       "      <td>0.00</td>\n",
       "      <td>46,984.43</td>\n",
       "      <td>7,195.00</td>\n",
       "    </tr>\n",
       "    <tr>\n",
       "      <th>6</th>\n",
       "      <td>Eu-152</td>\n",
       "      <td>0.00</td>\n",
       "      <td>110,015.87</td>\n",
       "      <td>7,195.00</td>\n",
       "    </tr>\n",
       "    <tr>\n",
       "      <th>7</th>\n",
       "      <td>Mn-54</td>\n",
       "      <td>0.02</td>\n",
       "      <td>66,596.77</td>\n",
       "      <td>7,195.00</td>\n",
       "    </tr>\n",
       "    <tr>\n",
       "      <th>8</th>\n",
       "      <td>Na-22</td>\n",
       "      <td>0.00</td>\n",
       "      <td>189,630.64</td>\n",
       "      <td>7,195.00</td>\n",
       "    </tr>\n",
       "    <tr>\n",
       "      <th>9</th>\n",
       "      <td>Pb-210</td>\n",
       "      <td>0.00</td>\n",
       "      <td>3,908.84</td>\n",
       "      <td>7,195.00</td>\n",
       "    </tr>\n",
       "  </tbody>\n",
       "</table>\n",
       "</div>"
      ],
      "text/plain": [
       "  radionuclideo  nuclei_score  nuclei_counts  real_counts\n",
       "0        Am-241          0.00      18,143.89     7,195.00\n",
       "1        Ba-133          0.00      43,388.01     7,195.00\n",
       "2        Cd-109         99.82      16,784.71     7,195.00\n",
       "3         Co-57          0.06      16,772.52     7,195.00\n",
       "4         Co-60          0.00     200,550.00     7,195.00\n",
       "5        Cs-137          0.00      46,984.43     7,195.00\n",
       "6        Eu-152          0.00     110,015.87     7,195.00\n",
       "7         Mn-54          0.02      66,596.77     7,195.00\n",
       "8         Na-22          0.00     189,630.64     7,195.00\n",
       "9        Pb-210          0.00       3,908.84     7,195.00"
      ]
     },
     "execution_count": 136,
     "metadata": {},
     "output_type": "execute_result"
    }
   ],
   "source": [
    "validation_nuclei = 'Cd-109'\n",
    "preds = model.predict(np.array([images[validation_nuclei].reshape((128, 128, 1))]))\n",
    "\n",
    "df = pd.DataFrame({'radionuclideo':binarizer.classes_,\n",
    "                   'nuclei_score': preds[0][0]*100,\n",
    "                   'nuclei_counts': scaler.inverse_transform(preds[1][0]),\n",
    "                   'real_counts': np.sum(images[validation_nuclei])})\n",
    "df"
   ]
  },
  {
   "cell_type": "code",
   "execution_count": 137,
   "metadata": {},
   "outputs": [
    {
     "data": {
      "text/html": [
       "<div>\n",
       "<style scoped>\n",
       "    .dataframe tbody tr th:only-of-type {\n",
       "        vertical-align: middle;\n",
       "    }\n",
       "\n",
       "    .dataframe tbody tr th {\n",
       "        vertical-align: top;\n",
       "    }\n",
       "\n",
       "    .dataframe thead th {\n",
       "        text-align: right;\n",
       "    }\n",
       "</style>\n",
       "<table border=\"1\" class=\"dataframe\">\n",
       "  <thead>\n",
       "    <tr style=\"text-align: right;\">\n",
       "      <th></th>\n",
       "      <th>radionuclideo</th>\n",
       "      <th>nuclei_score</th>\n",
       "      <th>nuclei_counts</th>\n",
       "      <th>real_counts</th>\n",
       "    </tr>\n",
       "  </thead>\n",
       "  <tbody>\n",
       "    <tr>\n",
       "      <th>0</th>\n",
       "      <td>Am-241</td>\n",
       "      <td>0.00</td>\n",
       "      <td>18,143.91</td>\n",
       "      <td>7,323.00</td>\n",
       "    </tr>\n",
       "    <tr>\n",
       "      <th>1</th>\n",
       "      <td>Ba-133</td>\n",
       "      <td>0.00</td>\n",
       "      <td>43,387.75</td>\n",
       "      <td>7,323.00</td>\n",
       "    </tr>\n",
       "    <tr>\n",
       "      <th>2</th>\n",
       "      <td>Cd-109</td>\n",
       "      <td>0.00</td>\n",
       "      <td>3,558.13</td>\n",
       "      <td>7,323.00</td>\n",
       "    </tr>\n",
       "    <tr>\n",
       "      <th>3</th>\n",
       "      <td>Co-57</td>\n",
       "      <td>98.21</td>\n",
       "      <td>15,814.01</td>\n",
       "      <td>7,323.00</td>\n",
       "    </tr>\n",
       "    <tr>\n",
       "      <th>4</th>\n",
       "      <td>Co-60</td>\n",
       "      <td>0.00</td>\n",
       "      <td>200,550.25</td>\n",
       "      <td>7,323.00</td>\n",
       "    </tr>\n",
       "    <tr>\n",
       "      <th>5</th>\n",
       "      <td>Cs-137</td>\n",
       "      <td>0.00</td>\n",
       "      <td>46,984.07</td>\n",
       "      <td>7,323.00</td>\n",
       "    </tr>\n",
       "    <tr>\n",
       "      <th>6</th>\n",
       "      <td>Eu-152</td>\n",
       "      <td>0.00</td>\n",
       "      <td>110,015.82</td>\n",
       "      <td>7,323.00</td>\n",
       "    </tr>\n",
       "    <tr>\n",
       "      <th>7</th>\n",
       "      <td>Mn-54</td>\n",
       "      <td>0.02</td>\n",
       "      <td>66,603.58</td>\n",
       "      <td>7,323.00</td>\n",
       "    </tr>\n",
       "    <tr>\n",
       "      <th>8</th>\n",
       "      <td>Na-22</td>\n",
       "      <td>0.00</td>\n",
       "      <td>189,631.72</td>\n",
       "      <td>7,323.00</td>\n",
       "    </tr>\n",
       "    <tr>\n",
       "      <th>9</th>\n",
       "      <td>Pb-210</td>\n",
       "      <td>0.00</td>\n",
       "      <td>3,908.84</td>\n",
       "      <td>7,323.00</td>\n",
       "    </tr>\n",
       "  </tbody>\n",
       "</table>\n",
       "</div>"
      ],
      "text/plain": [
       "  radionuclideo  nuclei_score  nuclei_counts  real_counts\n",
       "0        Am-241          0.00      18,143.91     7,323.00\n",
       "1        Ba-133          0.00      43,387.75     7,323.00\n",
       "2        Cd-109          0.00       3,558.13     7,323.00\n",
       "3         Co-57         98.21      15,814.01     7,323.00\n",
       "4         Co-60          0.00     200,550.25     7,323.00\n",
       "5        Cs-137          0.00      46,984.07     7,323.00\n",
       "6        Eu-152          0.00     110,015.82     7,323.00\n",
       "7         Mn-54          0.02      66,603.58     7,323.00\n",
       "8         Na-22          0.00     189,631.72     7,323.00\n",
       "9        Pb-210          0.00       3,908.84     7,323.00"
      ]
     },
     "execution_count": 137,
     "metadata": {},
     "output_type": "execute_result"
    }
   ],
   "source": [
    "validation_nuclei = 'Co-57'\n",
    "preds = model.predict(np.array([images[validation_nuclei].reshape((128, 128, 1))]))\n",
    "\n",
    "df = pd.DataFrame({'radionuclideo':binarizer.classes_,\n",
    "                   'nuclei_score': preds[0][0]*100,\n",
    "                   'nuclei_counts': scaler.inverse_transform(preds[1][0]),\n",
    "                   'real_counts': np.sum(images[validation_nuclei])})\n",
    "df"
   ]
  },
  {
   "cell_type": "code",
   "execution_count": 138,
   "metadata": {},
   "outputs": [
    {
     "data": {
      "text/html": [
       "<div>\n",
       "<style scoped>\n",
       "    .dataframe tbody tr th:only-of-type {\n",
       "        vertical-align: middle;\n",
       "    }\n",
       "\n",
       "    .dataframe tbody tr th {\n",
       "        vertical-align: top;\n",
       "    }\n",
       "\n",
       "    .dataframe thead th {\n",
       "        text-align: right;\n",
       "    }\n",
       "</style>\n",
       "<table border=\"1\" class=\"dataframe\">\n",
       "  <thead>\n",
       "    <tr style=\"text-align: right;\">\n",
       "      <th></th>\n",
       "      <th>radionuclideo</th>\n",
       "      <th>nuclei_score</th>\n",
       "      <th>nuclei_counts</th>\n",
       "      <th>real_counts</th>\n",
       "    </tr>\n",
       "  </thead>\n",
       "  <tbody>\n",
       "    <tr>\n",
       "      <th>0</th>\n",
       "      <td>Am-241</td>\n",
       "      <td>0.00</td>\n",
       "      <td>18,143.91</td>\n",
       "      <td>155,643.00</td>\n",
       "    </tr>\n",
       "    <tr>\n",
       "      <th>1</th>\n",
       "      <td>Ba-133</td>\n",
       "      <td>0.00</td>\n",
       "      <td>43,388.02</td>\n",
       "      <td>155,643.00</td>\n",
       "    </tr>\n",
       "    <tr>\n",
       "      <th>2</th>\n",
       "      <td>Cd-109</td>\n",
       "      <td>0.00</td>\n",
       "      <td>3,558.15</td>\n",
       "      <td>155,643.00</td>\n",
       "    </tr>\n",
       "    <tr>\n",
       "      <th>3</th>\n",
       "      <td>Co-57</td>\n",
       "      <td>0.02</td>\n",
       "      <td>16,779.46</td>\n",
       "      <td>155,643.00</td>\n",
       "    </tr>\n",
       "    <tr>\n",
       "      <th>4</th>\n",
       "      <td>Co-60</td>\n",
       "      <td>100.00</td>\n",
       "      <td>170,974.62</td>\n",
       "      <td>155,643.00</td>\n",
       "    </tr>\n",
       "    <tr>\n",
       "      <th>5</th>\n",
       "      <td>Cs-137</td>\n",
       "      <td>0.00</td>\n",
       "      <td>46,984.45</td>\n",
       "      <td>155,643.00</td>\n",
       "    </tr>\n",
       "    <tr>\n",
       "      <th>6</th>\n",
       "      <td>Eu-152</td>\n",
       "      <td>0.00</td>\n",
       "      <td>110,014.66</td>\n",
       "      <td>155,643.00</td>\n",
       "    </tr>\n",
       "    <tr>\n",
       "      <th>7</th>\n",
       "      <td>Mn-54</td>\n",
       "      <td>0.06</td>\n",
       "      <td>66,529.09</td>\n",
       "      <td>155,643.00</td>\n",
       "    </tr>\n",
       "    <tr>\n",
       "      <th>8</th>\n",
       "      <td>Na-22</td>\n",
       "      <td>0.30</td>\n",
       "      <td>188,600.91</td>\n",
       "      <td>155,643.00</td>\n",
       "    </tr>\n",
       "    <tr>\n",
       "      <th>9</th>\n",
       "      <td>Pb-210</td>\n",
       "      <td>0.00</td>\n",
       "      <td>3,908.84</td>\n",
       "      <td>155,643.00</td>\n",
       "    </tr>\n",
       "  </tbody>\n",
       "</table>\n",
       "</div>"
      ],
      "text/plain": [
       "  radionuclideo  nuclei_score  nuclei_counts  real_counts\n",
       "0        Am-241          0.00      18,143.91   155,643.00\n",
       "1        Ba-133          0.00      43,388.02   155,643.00\n",
       "2        Cd-109          0.00       3,558.15   155,643.00\n",
       "3         Co-57          0.02      16,779.46   155,643.00\n",
       "4         Co-60        100.00     170,974.62   155,643.00\n",
       "5        Cs-137          0.00      46,984.45   155,643.00\n",
       "6        Eu-152          0.00     110,014.66   155,643.00\n",
       "7         Mn-54          0.06      66,529.09   155,643.00\n",
       "8         Na-22          0.30     188,600.91   155,643.00\n",
       "9        Pb-210          0.00       3,908.84   155,643.00"
      ]
     },
     "execution_count": 138,
     "metadata": {},
     "output_type": "execute_result"
    }
   ],
   "source": [
    "validation_nuclei = 'Co-60'\n",
    "preds = model.predict(np.array([images[validation_nuclei].reshape((128, 128, 1))]))\n",
    "\n",
    "df = pd.DataFrame({'radionuclideo':binarizer.classes_,\n",
    "                   'nuclei_score': preds[0][0]*100,\n",
    "                   'nuclei_counts': scaler.inverse_transform(preds[1][0]),\n",
    "                   'real_counts': np.sum(images[validation_nuclei])})\n",
    "df"
   ]
  },
  {
   "cell_type": "code",
   "execution_count": 139,
   "metadata": {},
   "outputs": [
    {
     "data": {
      "text/html": [
       "<div>\n",
       "<style scoped>\n",
       "    .dataframe tbody tr th:only-of-type {\n",
       "        vertical-align: middle;\n",
       "    }\n",
       "\n",
       "    .dataframe tbody tr th {\n",
       "        vertical-align: top;\n",
       "    }\n",
       "\n",
       "    .dataframe thead th {\n",
       "        text-align: right;\n",
       "    }\n",
       "</style>\n",
       "<table border=\"1\" class=\"dataframe\">\n",
       "  <thead>\n",
       "    <tr style=\"text-align: right;\">\n",
       "      <th></th>\n",
       "      <th>radionuclideo</th>\n",
       "      <th>nuclei_score</th>\n",
       "      <th>nuclei_counts</th>\n",
       "      <th>real_counts</th>\n",
       "    </tr>\n",
       "  </thead>\n",
       "  <tbody>\n",
       "    <tr>\n",
       "      <th>0</th>\n",
       "      <td>Am-241</td>\n",
       "      <td>0.00</td>\n",
       "      <td>18,143.37</td>\n",
       "      <td>188,461.00</td>\n",
       "    </tr>\n",
       "    <tr>\n",
       "      <th>1</th>\n",
       "      <td>Ba-133</td>\n",
       "      <td>0.07</td>\n",
       "      <td>43,336.04</td>\n",
       "      <td>188,461.00</td>\n",
       "    </tr>\n",
       "    <tr>\n",
       "      <th>2</th>\n",
       "      <td>Cd-109</td>\n",
       "      <td>0.03</td>\n",
       "      <td>3,552.90</td>\n",
       "      <td>188,461.00</td>\n",
       "    </tr>\n",
       "    <tr>\n",
       "      <th>3</th>\n",
       "      <td>Co-57</td>\n",
       "      <td>0.46</td>\n",
       "      <td>16,631.58</td>\n",
       "      <td>188,461.00</td>\n",
       "    </tr>\n",
       "    <tr>\n",
       "      <th>4</th>\n",
       "      <td>Co-60</td>\n",
       "      <td>0.00</td>\n",
       "      <td>200,550.25</td>\n",
       "      <td>188,461.00</td>\n",
       "    </tr>\n",
       "    <tr>\n",
       "      <th>5</th>\n",
       "      <td>Cs-137</td>\n",
       "      <td>100.00</td>\n",
       "      <td>196,321.27</td>\n",
       "      <td>188,461.00</td>\n",
       "    </tr>\n",
       "    <tr>\n",
       "      <th>6</th>\n",
       "      <td>Eu-152</td>\n",
       "      <td>0.03</td>\n",
       "      <td>109,938.38</td>\n",
       "      <td>188,461.00</td>\n",
       "    </tr>\n",
       "    <tr>\n",
       "      <th>7</th>\n",
       "      <td>Mn-54</td>\n",
       "      <td>0.13</td>\n",
       "      <td>66,411.21</td>\n",
       "      <td>188,461.00</td>\n",
       "    </tr>\n",
       "    <tr>\n",
       "      <th>8</th>\n",
       "      <td>Na-22</td>\n",
       "      <td>0.02</td>\n",
       "      <td>189,580.52</td>\n",
       "      <td>188,461.00</td>\n",
       "    </tr>\n",
       "    <tr>\n",
       "      <th>9</th>\n",
       "      <td>Pb-210</td>\n",
       "      <td>0.00</td>\n",
       "      <td>3,908.83</td>\n",
       "      <td>188,461.00</td>\n",
       "    </tr>\n",
       "  </tbody>\n",
       "</table>\n",
       "</div>"
      ],
      "text/plain": [
       "  radionuclideo  nuclei_score  nuclei_counts  real_counts\n",
       "0        Am-241          0.00      18,143.37   188,461.00\n",
       "1        Ba-133          0.07      43,336.04   188,461.00\n",
       "2        Cd-109          0.03       3,552.90   188,461.00\n",
       "3         Co-57          0.46      16,631.58   188,461.00\n",
       "4         Co-60          0.00     200,550.25   188,461.00\n",
       "5        Cs-137        100.00     196,321.27   188,461.00\n",
       "6        Eu-152          0.03     109,938.38   188,461.00\n",
       "7         Mn-54          0.13      66,411.21   188,461.00\n",
       "8         Na-22          0.02     189,580.52   188,461.00\n",
       "9        Pb-210          0.00       3,908.83   188,461.00"
      ]
     },
     "execution_count": 139,
     "metadata": {},
     "output_type": "execute_result"
    }
   ],
   "source": [
    "validation_nuclei = 'Cs-137'\n",
    "preds = model.predict(np.array([images[validation_nuclei].reshape((128, 128, 1))]))\n",
    "\n",
    "df = pd.DataFrame({'radionuclideo':binarizer.classes_,\n",
    "                   'nuclei_score': preds[0][0]*100,\n",
    "                   'nuclei_counts': scaler.inverse_transform(preds[1][0]),\n",
    "                   'real_counts': np.sum(images[validation_nuclei])})\n",
    "df"
   ]
  },
  {
   "cell_type": "code",
   "execution_count": 140,
   "metadata": {},
   "outputs": [
    {
     "data": {
      "text/html": [
       "<div>\n",
       "<style scoped>\n",
       "    .dataframe tbody tr th:only-of-type {\n",
       "        vertical-align: middle;\n",
       "    }\n",
       "\n",
       "    .dataframe tbody tr th {\n",
       "        vertical-align: top;\n",
       "    }\n",
       "\n",
       "    .dataframe thead th {\n",
       "        text-align: right;\n",
       "    }\n",
       "</style>\n",
       "<table border=\"1\" class=\"dataframe\">\n",
       "  <thead>\n",
       "    <tr style=\"text-align: right;\">\n",
       "      <th></th>\n",
       "      <th>radionuclideo</th>\n",
       "      <th>nuclei_score</th>\n",
       "      <th>nuclei_counts</th>\n",
       "      <th>real_counts</th>\n",
       "    </tr>\n",
       "  </thead>\n",
       "  <tbody>\n",
       "    <tr>\n",
       "      <th>0</th>\n",
       "      <td>Am-241</td>\n",
       "      <td>1.67</td>\n",
       "      <td>17,853.37</td>\n",
       "      <td>94,419.00</td>\n",
       "    </tr>\n",
       "    <tr>\n",
       "      <th>1</th>\n",
       "      <td>Ba-133</td>\n",
       "      <td>0.03</td>\n",
       "      <td>43,359.39</td>\n",
       "      <td>94,419.00</td>\n",
       "    </tr>\n",
       "    <tr>\n",
       "      <th>2</th>\n",
       "      <td>Cd-109</td>\n",
       "      <td>0.04</td>\n",
       "      <td>3,552.44</td>\n",
       "      <td>94,419.00</td>\n",
       "    </tr>\n",
       "    <tr>\n",
       "      <th>3</th>\n",
       "      <td>Co-57</td>\n",
       "      <td>0.05</td>\n",
       "      <td>16,766.77</td>\n",
       "      <td>94,419.00</td>\n",
       "    </tr>\n",
       "    <tr>\n",
       "      <th>4</th>\n",
       "      <td>Co-60</td>\n",
       "      <td>0.00</td>\n",
       "      <td>200,550.25</td>\n",
       "      <td>94,419.00</td>\n",
       "    </tr>\n",
       "    <tr>\n",
       "      <th>5</th>\n",
       "      <td>Cs-137</td>\n",
       "      <td>0.00</td>\n",
       "      <td>46,984.32</td>\n",
       "      <td>94,419.00</td>\n",
       "    </tr>\n",
       "    <tr>\n",
       "      <th>6</th>\n",
       "      <td>Eu-152</td>\n",
       "      <td>100.00</td>\n",
       "      <td>111,512.50</td>\n",
       "      <td>94,419.00</td>\n",
       "    </tr>\n",
       "    <tr>\n",
       "      <th>7</th>\n",
       "      <td>Mn-54</td>\n",
       "      <td>0.04</td>\n",
       "      <td>66,554.27</td>\n",
       "      <td>94,419.00</td>\n",
       "    </tr>\n",
       "    <tr>\n",
       "      <th>8</th>\n",
       "      <td>Na-22</td>\n",
       "      <td>0.05</td>\n",
       "      <td>189,455.89</td>\n",
       "      <td>94,419.00</td>\n",
       "    </tr>\n",
       "    <tr>\n",
       "      <th>9</th>\n",
       "      <td>Pb-210</td>\n",
       "      <td>0.00</td>\n",
       "      <td>3,908.59</td>\n",
       "      <td>94,419.00</td>\n",
       "    </tr>\n",
       "  </tbody>\n",
       "</table>\n",
       "</div>"
      ],
      "text/plain": [
       "  radionuclideo  nuclei_score  nuclei_counts  real_counts\n",
       "0        Am-241          1.67      17,853.37    94,419.00\n",
       "1        Ba-133          0.03      43,359.39    94,419.00\n",
       "2        Cd-109          0.04       3,552.44    94,419.00\n",
       "3         Co-57          0.05      16,766.77    94,419.00\n",
       "4         Co-60          0.00     200,550.25    94,419.00\n",
       "5        Cs-137          0.00      46,984.32    94,419.00\n",
       "6        Eu-152        100.00     111,512.50    94,419.00\n",
       "7         Mn-54          0.04      66,554.27    94,419.00\n",
       "8         Na-22          0.05     189,455.89    94,419.00\n",
       "9        Pb-210          0.00       3,908.59    94,419.00"
      ]
     },
     "execution_count": 140,
     "metadata": {},
     "output_type": "execute_result"
    }
   ],
   "source": [
    "validation_nuclei = 'Eu-152'\n",
    "preds = model.predict(np.array([images[validation_nuclei].reshape((128, 128, 1))]))\n",
    "\n",
    "df = pd.DataFrame({'radionuclideo':binarizer.classes_,\n",
    "                   'nuclei_score': preds[0][0]*100,\n",
    "                   'nuclei_counts': scaler.inverse_transform(preds[1][0]),\n",
    "                   'real_counts': np.sum(images[validation_nuclei])})\n",
    "df"
   ]
  },
  {
   "cell_type": "code",
   "execution_count": 141,
   "metadata": {},
   "outputs": [
    {
     "data": {
      "text/html": [
       "<div>\n",
       "<style scoped>\n",
       "    .dataframe tbody tr th:only-of-type {\n",
       "        vertical-align: middle;\n",
       "    }\n",
       "\n",
       "    .dataframe tbody tr th {\n",
       "        vertical-align: top;\n",
       "    }\n",
       "\n",
       "    .dataframe thead th {\n",
       "        text-align: right;\n",
       "    }\n",
       "</style>\n",
       "<table border=\"1\" class=\"dataframe\">\n",
       "  <thead>\n",
       "    <tr style=\"text-align: right;\">\n",
       "      <th></th>\n",
       "      <th>radionuclideo</th>\n",
       "      <th>nuclei_score</th>\n",
       "      <th>nuclei_counts</th>\n",
       "      <th>real_counts</th>\n",
       "    </tr>\n",
       "  </thead>\n",
       "  <tbody>\n",
       "    <tr>\n",
       "      <th>0</th>\n",
       "      <td>Am-241</td>\n",
       "      <td>0.00</td>\n",
       "      <td>18,143.90</td>\n",
       "      <td>7,159.00</td>\n",
       "    </tr>\n",
       "    <tr>\n",
       "      <th>1</th>\n",
       "      <td>Ba-133</td>\n",
       "      <td>0.00</td>\n",
       "      <td>43,388.02</td>\n",
       "      <td>7,159.00</td>\n",
       "    </tr>\n",
       "    <tr>\n",
       "      <th>2</th>\n",
       "      <td>Cd-109</td>\n",
       "      <td>0.00</td>\n",
       "      <td>3,558.15</td>\n",
       "      <td>7,159.00</td>\n",
       "    </tr>\n",
       "    <tr>\n",
       "      <th>3</th>\n",
       "      <td>Co-57</td>\n",
       "      <td>0.04</td>\n",
       "      <td>16,775.10</td>\n",
       "      <td>7,159.00</td>\n",
       "    </tr>\n",
       "    <tr>\n",
       "      <th>4</th>\n",
       "      <td>Co-60</td>\n",
       "      <td>0.00</td>\n",
       "      <td>200,550.25</td>\n",
       "      <td>7,159.00</td>\n",
       "    </tr>\n",
       "    <tr>\n",
       "      <th>5</th>\n",
       "      <td>Cs-137</td>\n",
       "      <td>0.00</td>\n",
       "      <td>46,980.13</td>\n",
       "      <td>7,159.00</td>\n",
       "    </tr>\n",
       "    <tr>\n",
       "      <th>6</th>\n",
       "      <td>Eu-152</td>\n",
       "      <td>0.00</td>\n",
       "      <td>110,015.87</td>\n",
       "      <td>7,159.00</td>\n",
       "    </tr>\n",
       "    <tr>\n",
       "      <th>7</th>\n",
       "      <td>Mn-54</td>\n",
       "      <td>91.19</td>\n",
       "      <td>23,375.62</td>\n",
       "      <td>7,159.00</td>\n",
       "    </tr>\n",
       "    <tr>\n",
       "      <th>8</th>\n",
       "      <td>Na-22</td>\n",
       "      <td>0.01</td>\n",
       "      <td>189,624.09</td>\n",
       "      <td>7,159.00</td>\n",
       "    </tr>\n",
       "    <tr>\n",
       "      <th>9</th>\n",
       "      <td>Pb-210</td>\n",
       "      <td>0.00</td>\n",
       "      <td>3,908.84</td>\n",
       "      <td>7,159.00</td>\n",
       "    </tr>\n",
       "  </tbody>\n",
       "</table>\n",
       "</div>"
      ],
      "text/plain": [
       "  radionuclideo  nuclei_score  nuclei_counts  real_counts\n",
       "0        Am-241          0.00      18,143.90     7,159.00\n",
       "1        Ba-133          0.00      43,388.02     7,159.00\n",
       "2        Cd-109          0.00       3,558.15     7,159.00\n",
       "3         Co-57          0.04      16,775.10     7,159.00\n",
       "4         Co-60          0.00     200,550.25     7,159.00\n",
       "5        Cs-137          0.00      46,980.13     7,159.00\n",
       "6        Eu-152          0.00     110,015.87     7,159.00\n",
       "7         Mn-54         91.19      23,375.62     7,159.00\n",
       "8         Na-22          0.01     189,624.09     7,159.00\n",
       "9        Pb-210          0.00       3,908.84     7,159.00"
      ]
     },
     "execution_count": 141,
     "metadata": {},
     "output_type": "execute_result"
    }
   ],
   "source": [
    "validation_nuclei = 'Mn-54'\n",
    "preds = model.predict(np.array([images[validation_nuclei].reshape((128, 128, 1))]))\n",
    "\n",
    "df = pd.DataFrame({'radionuclideo':binarizer.classes_,\n",
    "                   'nuclei_score': preds[0][0]*100,\n",
    "                   'nuclei_counts': scaler.inverse_transform(preds[1][0]),\n",
    "                   'real_counts': np.sum(images[validation_nuclei])})\n",
    "df"
   ]
  },
  {
   "cell_type": "code",
   "execution_count": 142,
   "metadata": {},
   "outputs": [
    {
     "data": {
      "text/html": [
       "<div>\n",
       "<style scoped>\n",
       "    .dataframe tbody tr th:only-of-type {\n",
       "        vertical-align: middle;\n",
       "    }\n",
       "\n",
       "    .dataframe tbody tr th {\n",
       "        vertical-align: top;\n",
       "    }\n",
       "\n",
       "    .dataframe thead th {\n",
       "        text-align: right;\n",
       "    }\n",
       "</style>\n",
       "<table border=\"1\" class=\"dataframe\">\n",
       "  <thead>\n",
       "    <tr style=\"text-align: right;\">\n",
       "      <th></th>\n",
       "      <th>radionuclideo</th>\n",
       "      <th>nuclei_score</th>\n",
       "      <th>nuclei_counts</th>\n",
       "      <th>real_counts</th>\n",
       "    </tr>\n",
       "  </thead>\n",
       "  <tbody>\n",
       "    <tr>\n",
       "      <th>0</th>\n",
       "      <td>Am-241</td>\n",
       "      <td>0.00</td>\n",
       "      <td>18,143.91</td>\n",
       "      <td>7,965.00</td>\n",
       "    </tr>\n",
       "    <tr>\n",
       "      <th>1</th>\n",
       "      <td>Ba-133</td>\n",
       "      <td>0.00</td>\n",
       "      <td>43,388.02</td>\n",
       "      <td>7,965.00</td>\n",
       "    </tr>\n",
       "    <tr>\n",
       "      <th>2</th>\n",
       "      <td>Cd-109</td>\n",
       "      <td>0.00</td>\n",
       "      <td>3,558.15</td>\n",
       "      <td>7,965.00</td>\n",
       "    </tr>\n",
       "    <tr>\n",
       "      <th>3</th>\n",
       "      <td>Co-57</td>\n",
       "      <td>0.03</td>\n",
       "      <td>16,779.68</td>\n",
       "      <td>7,965.00</td>\n",
       "    </tr>\n",
       "    <tr>\n",
       "      <th>4</th>\n",
       "      <td>Co-60</td>\n",
       "      <td>0.00</td>\n",
       "      <td>200,550.25</td>\n",
       "      <td>7,965.00</td>\n",
       "    </tr>\n",
       "    <tr>\n",
       "      <th>5</th>\n",
       "      <td>Cs-137</td>\n",
       "      <td>0.12</td>\n",
       "      <td>46,851.51</td>\n",
       "      <td>7,965.00</td>\n",
       "    </tr>\n",
       "    <tr>\n",
       "      <th>6</th>\n",
       "      <td>Eu-152</td>\n",
       "      <td>0.00</td>\n",
       "      <td>110,015.87</td>\n",
       "      <td>7,965.00</td>\n",
       "    </tr>\n",
       "    <tr>\n",
       "      <th>7</th>\n",
       "      <td>Mn-54</td>\n",
       "      <td>0.02</td>\n",
       "      <td>66,602.79</td>\n",
       "      <td>7,965.00</td>\n",
       "    </tr>\n",
       "    <tr>\n",
       "      <th>8</th>\n",
       "      <td>Na-22</td>\n",
       "      <td>99.89</td>\n",
       "      <td>-7,407.97</td>\n",
       "      <td>7,965.00</td>\n",
       "    </tr>\n",
       "    <tr>\n",
       "      <th>9</th>\n",
       "      <td>Pb-210</td>\n",
       "      <td>0.00</td>\n",
       "      <td>3,908.84</td>\n",
       "      <td>7,965.00</td>\n",
       "    </tr>\n",
       "  </tbody>\n",
       "</table>\n",
       "</div>"
      ],
      "text/plain": [
       "  radionuclideo  nuclei_score  nuclei_counts  real_counts\n",
       "0        Am-241          0.00      18,143.91     7,965.00\n",
       "1        Ba-133          0.00      43,388.02     7,965.00\n",
       "2        Cd-109          0.00       3,558.15     7,965.00\n",
       "3         Co-57          0.03      16,779.68     7,965.00\n",
       "4         Co-60          0.00     200,550.25     7,965.00\n",
       "5        Cs-137          0.12      46,851.51     7,965.00\n",
       "6        Eu-152          0.00     110,015.87     7,965.00\n",
       "7         Mn-54          0.02      66,602.79     7,965.00\n",
       "8         Na-22         99.89      -7,407.97     7,965.00\n",
       "9        Pb-210          0.00       3,908.84     7,965.00"
      ]
     },
     "execution_count": 142,
     "metadata": {},
     "output_type": "execute_result"
    }
   ],
   "source": [
    "validation_nuclei = 'Na-22'\n",
    "preds = model.predict(np.array([images[validation_nuclei].reshape((128, 128, 1))]))\n",
    "\n",
    "df = pd.DataFrame({'radionuclideo':binarizer.classes_,\n",
    "                   'nuclei_score': preds[0][0]*100,\n",
    "                   'nuclei_counts': scaler.inverse_transform(preds[1][0]),\n",
    "                   'real_counts': np.sum(images[validation_nuclei])})\n",
    "df"
   ]
  },
  {
   "cell_type": "code",
   "execution_count": 143,
   "metadata": {},
   "outputs": [
    {
     "data": {
      "text/html": [
       "<div>\n",
       "<style scoped>\n",
       "    .dataframe tbody tr th:only-of-type {\n",
       "        vertical-align: middle;\n",
       "    }\n",
       "\n",
       "    .dataframe tbody tr th {\n",
       "        vertical-align: top;\n",
       "    }\n",
       "\n",
       "    .dataframe thead th {\n",
       "        text-align: right;\n",
       "    }\n",
       "</style>\n",
       "<table border=\"1\" class=\"dataframe\">\n",
       "  <thead>\n",
       "    <tr style=\"text-align: right;\">\n",
       "      <th></th>\n",
       "      <th>radionuclideo</th>\n",
       "      <th>nuclei_score</th>\n",
       "      <th>nuclei_counts</th>\n",
       "      <th>real_counts</th>\n",
       "    </tr>\n",
       "  </thead>\n",
       "  <tbody>\n",
       "    <tr>\n",
       "      <th>0</th>\n",
       "      <td>Am-241</td>\n",
       "      <td>13.31</td>\n",
       "      <td>12,360.64</td>\n",
       "      <td>19,650.00</td>\n",
       "    </tr>\n",
       "    <tr>\n",
       "      <th>1</th>\n",
       "      <td>Ba-133</td>\n",
       "      <td>0.00</td>\n",
       "      <td>43,386.64</td>\n",
       "      <td>19,650.00</td>\n",
       "    </tr>\n",
       "    <tr>\n",
       "      <th>2</th>\n",
       "      <td>Cd-109</td>\n",
       "      <td>0.02</td>\n",
       "      <td>3,555.72</td>\n",
       "      <td>19,650.00</td>\n",
       "    </tr>\n",
       "    <tr>\n",
       "      <th>3</th>\n",
       "      <td>Co-57</td>\n",
       "      <td>0.07</td>\n",
       "      <td>16,764.20</td>\n",
       "      <td>19,650.00</td>\n",
       "    </tr>\n",
       "    <tr>\n",
       "      <th>4</th>\n",
       "      <td>Co-60</td>\n",
       "      <td>0.00</td>\n",
       "      <td>200,550.25</td>\n",
       "      <td>19,650.00</td>\n",
       "    </tr>\n",
       "    <tr>\n",
       "      <th>5</th>\n",
       "      <td>Cs-137</td>\n",
       "      <td>0.00</td>\n",
       "      <td>46,982.57</td>\n",
       "      <td>19,650.00</td>\n",
       "    </tr>\n",
       "    <tr>\n",
       "      <th>6</th>\n",
       "      <td>Eu-152</td>\n",
       "      <td>0.00</td>\n",
       "      <td>110,014.74</td>\n",
       "      <td>19,650.00</td>\n",
       "    </tr>\n",
       "    <tr>\n",
       "      <th>7</th>\n",
       "      <td>Mn-54</td>\n",
       "      <td>0.01</td>\n",
       "      <td>66,612.60</td>\n",
       "      <td>19,650.00</td>\n",
       "    </tr>\n",
       "    <tr>\n",
       "      <th>8</th>\n",
       "      <td>Na-22</td>\n",
       "      <td>0.00</td>\n",
       "      <td>189,640.52</td>\n",
       "      <td>19,650.00</td>\n",
       "    </tr>\n",
       "    <tr>\n",
       "      <th>9</th>\n",
       "      <td>Pb-210</td>\n",
       "      <td>100.00</td>\n",
       "      <td>30,909.55</td>\n",
       "      <td>19,650.00</td>\n",
       "    </tr>\n",
       "  </tbody>\n",
       "</table>\n",
       "</div>"
      ],
      "text/plain": [
       "  radionuclideo  nuclei_score  nuclei_counts  real_counts\n",
       "0        Am-241         13.31      12,360.64    19,650.00\n",
       "1        Ba-133          0.00      43,386.64    19,650.00\n",
       "2        Cd-109          0.02       3,555.72    19,650.00\n",
       "3         Co-57          0.07      16,764.20    19,650.00\n",
       "4         Co-60          0.00     200,550.25    19,650.00\n",
       "5        Cs-137          0.00      46,982.57    19,650.00\n",
       "6        Eu-152          0.00     110,014.74    19,650.00\n",
       "7         Mn-54          0.01      66,612.60    19,650.00\n",
       "8         Na-22          0.00     189,640.52    19,650.00\n",
       "9        Pb-210        100.00      30,909.55    19,650.00"
      ]
     },
     "execution_count": 143,
     "metadata": {},
     "output_type": "execute_result"
    }
   ],
   "source": [
    "validation_nuclei = 'Pb-210'\n",
    "preds = model.predict(np.array([images[validation_nuclei].reshape((128, 128, 1))]))\n",
    "\n",
    "df = pd.DataFrame({'radionuclideo':binarizer.classes_,\n",
    "                   'nuclei_score': preds[0][0]*100,\n",
    "                   'nuclei_counts': scaler.inverse_transform(preds[1][0]),\n",
    "                   'real_counts': np.sum(images[validation_nuclei])})\n",
    "df"
   ]
  },
  {
   "cell_type": "markdown",
   "metadata": {},
   "source": [
    "## Fonte triplice de calibração"
   ]
  },
  {
   "cell_type": "code",
   "execution_count": 144,
   "metadata": {},
   "outputs": [],
   "source": [
    "dados = []\n",
    "\n",
    "with open('/export/ipen/artigo/ICDA-3/Espectros/Experimentos/17-Maio-2018/Espectros/Am-Cs-Co - BG.IEC', 'r') as f:\n",
    "    dados = f.readlines()\n",
    "dados = obtem_dados_dos_canais(dados)\n",
    "df_triplice = pd.DataFrame({'channel': range(0, len(dados)), 'counts' : dados})"
   ]
  },
  {
   "cell_type": "code",
   "execution_count": 162,
   "metadata": {},
   "outputs": [
    {
     "data": {
      "image/png": "[encoded data removed]",
      "text/plain": [
       "<Figure size 1224x360 with 2 Axes>"
      ]
     },
     "metadata": {},
     "output_type": "display_data"
    }
   ],
   "source": [
    "f, axarr = plt.subplots(1, 2, figsize=(17, 5))\n",
    "plt.suptitle(\"Fonte tríplice de calibração Am-214, Cs-137, Co-60\", fontsize=16)\n",
    "axarr[0].plot(df_triplice['channel'], df_triplice.counts.shift(-145).fillna(0).values, 'r')\n",
    "axarr[0].set_title(\"Espectro\")\n",
    "axarr[0].set_yscale(\"log\")\n",
    "axarr[0].set_xlabel(\"canal do detector\")\n",
    "axarr[0].set_ylabel(\"log(contagens)\")\n",
    "axarr[1].imshow(np.array(dados).reshape((128,128)))\n",
    "axarr[1].set_title(\"Imagem\")\n",
    "axarr[1].grid(False)\n",
    "\n",
    "#plt.subplots_adjust(bottom=1.25, top=2.75)\n",
    "plt.show()"
   ]
  },
  {
   "cell_type": "code",
   "execution_count": 202,
   "metadata": {},
   "outputs": [],
   "source": [
    "shift_ = 0\n",
    "dados = df_triplice.counts.shift(shift_).fillna(0).values"
   ]
  },
  {
   "cell_type": "code",
   "execution_count": 203,
   "metadata": {},
   "outputs": [
    {
     "name": "stdout",
     "output_type": "stream",
     "text": [
      "CPU times: user 3 µs, sys: 0 ns, total: 3 µs\n",
      "Wall time: 6.44 µs\n"
     ]
    }
   ],
   "source": [
    "%time\n",
    "preds = model.predict(np.array([dados.reshape((128, 128, 1))]))"
   ]
  },
  {
   "cell_type": "code",
   "execution_count": 205,
   "metadata": {
    "scrolled": false
   },
   "outputs": [
    {
     "data": {
      "text/html": [
       "<div>\n",
       "<style scoped>\n",
       "    .dataframe tbody tr th:only-of-type {\n",
       "        vertical-align: middle;\n",
       "    }\n",
       "\n",
       "    .dataframe tbody tr th {\n",
       "        vertical-align: top;\n",
       "    }\n",
       "\n",
       "    .dataframe thead th {\n",
       "        text-align: right;\n",
       "    }\n",
       "</style>\n",
       "<table border=\"1\" class=\"dataframe\">\n",
       "  <thead>\n",
       "    <tr style=\"text-align: right;\">\n",
       "      <th></th>\n",
       "      <th>radionuclideo</th>\n",
       "      <th>nuclei_score</th>\n",
       "      <th>nuclei_counts</th>\n",
       "      <th>real_counts</th>\n",
       "    </tr>\n",
       "  </thead>\n",
       "  <tbody>\n",
       "    <tr>\n",
       "      <th>0</th>\n",
       "      <td>Am-241</td>\n",
       "      <td>95.30</td>\n",
       "      <td>36,408.45</td>\n",
       "      <td>276,428.00</td>\n",
       "    </tr>\n",
       "    <tr>\n",
       "      <th>1</th>\n",
       "      <td>Ba-133</td>\n",
       "      <td>0.37</td>\n",
       "      <td>43,016.61</td>\n",
       "      <td>276,428.00</td>\n",
       "    </tr>\n",
       "    <tr>\n",
       "      <th>2</th>\n",
       "      <td>Cd-109</td>\n",
       "      <td>0.11</td>\n",
       "      <td>3,570.99</td>\n",
       "      <td>276,428.00</td>\n",
       "    </tr>\n",
       "    <tr>\n",
       "      <th>3</th>\n",
       "      <td>Co-57</td>\n",
       "      <td>0.27</td>\n",
       "      <td>16,689.25</td>\n",
       "      <td>276,428.00</td>\n",
       "    </tr>\n",
       "    <tr>\n",
       "      <th>4</th>\n",
       "      <td>Co-60</td>\n",
       "      <td>100.00</td>\n",
       "      <td>229,988.08</td>\n",
       "      <td>276,428.00</td>\n",
       "    </tr>\n",
       "    <tr>\n",
       "      <th>5</th>\n",
       "      <td>Cs-137</td>\n",
       "      <td>100.00</td>\n",
       "      <td>69,042.66</td>\n",
       "      <td>276,428.00</td>\n",
       "    </tr>\n",
       "    <tr>\n",
       "      <th>6</th>\n",
       "      <td>Eu-152</td>\n",
       "      <td>4.23</td>\n",
       "      <td>102,118.88</td>\n",
       "      <td>276,428.00</td>\n",
       "    </tr>\n",
       "    <tr>\n",
       "      <th>7</th>\n",
       "      <td>Mn-54</td>\n",
       "      <td>0.08</td>\n",
       "      <td>66,508.29</td>\n",
       "      <td>276,428.00</td>\n",
       "    </tr>\n",
       "    <tr>\n",
       "      <th>8</th>\n",
       "      <td>Na-22</td>\n",
       "      <td>0.02</td>\n",
       "      <td>189,532.42</td>\n",
       "      <td>276,428.00</td>\n",
       "    </tr>\n",
       "    <tr>\n",
       "      <th>9</th>\n",
       "      <td>Pb-210</td>\n",
       "      <td>0.01</td>\n",
       "      <td>3,908.34</td>\n",
       "      <td>276,428.00</td>\n",
       "    </tr>\n",
       "  </tbody>\n",
       "</table>\n",
       "</div>"
      ],
      "text/plain": [
       "  radionuclideo  nuclei_score  nuclei_counts  real_counts\n",
       "0        Am-241         95.30      36,408.45   276,428.00\n",
       "1        Ba-133          0.37      43,016.61   276,428.00\n",
       "2        Cd-109          0.11       3,570.99   276,428.00\n",
       "3         Co-57          0.27      16,689.25   276,428.00\n",
       "4         Co-60        100.00     229,988.08   276,428.00\n",
       "5        Cs-137        100.00      69,042.66   276,428.00\n",
       "6        Eu-152          4.23     102,118.88   276,428.00\n",
       "7         Mn-54          0.08      66,508.29   276,428.00\n",
       "8         Na-22          0.02     189,532.42   276,428.00\n",
       "9        Pb-210          0.01       3,908.34   276,428.00"
      ]
     },
     "execution_count": 205,
     "metadata": {},
     "output_type": "execute_result"
    }
   ],
   "source": [
    "df = pd.DataFrame({'radionuclideo':binarizer.classes_,\n",
    "                   'nuclei_score': preds[0][0]*100,\n",
    "                   'nuclei_counts': scaler.inverse_transform(preds[1][0]),\n",
    "                   'real_counts': np.sum(dados)})\n",
    "df"
   ]
  },
  {
   "cell_type": "markdown",
   "metadata": {},
   "source": [
    "## Identificando os picos da fonte triplice para calcular a atividade por nuclídeo"
   ]
  },
  {
   "cell_type": "code",
   "execution_count": 208,
   "metadata": {},
   "outputs": [],
   "source": [
    "import plotly.plotly as py\n",
    "import plotly.graph_objs as go\n",
    "import plotly.figure_factory as ff\n",
    "\n",
    "import numpy as np\n",
    "import pandas as pd\n",
    "import scipy\n",
    "import peakutils"
   ]
  },
  {
   "cell_type": "code",
   "execution_count": 209,
   "metadata": {},
   "outputs": [],
   "source": [
    "from scipy.signal import find_peaks"
   ]
  },
  {
   "cell_type": "code",
   "execution_count": 231,
   "metadata": {},
   "outputs": [
    {
     "data": {
      "image/png": "[encoded data removed]",
      "text/plain": [
       "<Figure size 432x288 with 1 Axes>"
      ]
     },
     "metadata": {},
     "output_type": "display_data"
    }
   ],
   "source": [
    "peaks, _ = find_peaks(df_triplice['counts'], prominence=2e2)\n",
    "plt.plot(df_triplice['counts'])\n",
    "plt.plot(peaks, df_triplice['counts'][peaks], \"x\")\n",
    "plt.plot(np.zeros_like(df_triplice['counts']), \"--\", color=\"gray\")\n",
    "plt.show()"
   ]
  },
  {
   "cell_type": "code",
   "execution_count": 366,
   "metadata": {},
   "outputs": [
    {
     "name": "stdout",
     "output_type": "stream",
     "text": [
      "0\n",
      "1\n",
      "2\n",
      "3\n"
     ]
    },
    {
     "data": {
      "text/plain": [
       "([39015.0, 64807.5, 67890.0, 78300.0], 250012.5)"
      ]
     },
     "execution_count": 366,
     "metadata": {},
     "output_type": "execute_result"
    }
   ],
   "source": [
    "values = []\n",
    "for idx, peak in enumerate(peaks):\n",
    "    print(idx)\n",
    "    values.append(np.trapz(df_triplice['counts'][peak-(1+1*idx):peak+(1+1*idx)], dx=15))\n",
    "values, np.sum(values)"
   ]
  },
  {
   "cell_type": "code",
   "execution_count": 361,
   "metadata": {},
   "outputs": [
    {
     "data": {
      "text/plain": [
       "(368790.0, 215240.0, 153550.0)"
      ]
     },
     "execution_count": 361,
     "metadata": {},
     "output_type": "execute_result"
    }
   ],
   "source": [
    "values[-1] + values[-2], values[-1], values[-2]"
   ]
  },
  {
   "cell_type": "code",
   "execution_count": 346,
   "metadata": {},
   "outputs": [],
   "source": [
    "from sklearn.metrics import mean_squared_error, mean_absolute_error"
   ]
  },
  {
   "cell_type": "code",
   "execution_count": 362,
   "metadata": {},
   "outputs": [],
   "source": [
    "y_pred = scaler.transform([[36408, 0, 0, 0, 229988, 69041, 0, 0, 0, 0]])\n",
    "y_     = scaler.transform([[52020, 0, 0, 0, 86410, 368790, 0, 0, 0, 0]])\n",
    "\n",
    "y_pred = [[36408, 0, 0, 0, 229988, 69041, 0, 0, 0, 0]]\n",
    "y_     = [[52020, 0, 0, 0, 86410, 368790, 0, 0, 0, 0]]"
   ]
  },
  {
   "cell_type": "code",
   "execution_count": 363,
   "metadata": {},
   "outputs": [
    {
     "data": {
      "text/plain": [
       "(0.50722, 0.335437)"
      ]
     },
     "execution_count": 363,
     "metadata": {},
     "output_type": "execute_result"
    }
   ],
   "source": [
    "np.sum(y_) / 1e6, np.sum(y_pred) / 1e6"
   ]
  },
  {
   "cell_type": "code",
   "execution_count": 364,
   "metadata": {},
   "outputs": [
    {
     "data": {
      "text/plain": [
       "11070.7839629"
      ]
     },
     "execution_count": 364,
     "metadata": {},
     "output_type": "execute_result"
    }
   ],
   "source": [
    "mean_squared_error(y_, y_pred, multioutput='uniform_average') / 1e6"
   ]
  },
  {
   "cell_type": "code",
   "execution_count": 365,
   "metadata": {},
   "outputs": [
    {
     "data": {
      "text/plain": [
       "45893.9"
      ]
     },
     "execution_count": 365,
     "metadata": {},
     "output_type": "execute_result"
    }
   ],
   "source": [
    "mean_absolute_error(y_, y_pred, multioutput='uniform_average')"
   ]
  }
 ],
 "metadata": {
  "kernelspec": {
   "display_name": "Python 3",
   "language": "python",
   "name": "python3"
  },
  "language_info": {
   "codemirror_mode": {
    "name": "ipython",
    "version": 3
   },
   "file_extension": ".py",
   "mimetype": "text/x-python",
   "name": "python",
   "nbconvert_exporter": "python",
   "pygments_lexer": "ipython3",
   "version": "3.6.8"
  }
 },
 "nbformat": 4,
 "nbformat_minor": 2
}
